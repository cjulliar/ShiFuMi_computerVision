{
 "cells": [
  {
   "cell_type": "code",
   "execution_count": null,
   "metadata": {},
   "outputs": [
    {
     "name": "stdout",
     "output_type": "stream",
     "text": [
      "Modèle chargé avec succès\n",
      "Video frames: 1\n",
      "\n",
      "0: 384x640 1 person, 488.5ms\n",
      "Speed: 4.0ms preprocess, 488.5ms inference, 11.8ms postprocess per image at shape (1, 3, 384, 640)\n",
      "Predictions made: [{'boxes': [[306.0096130371094, 175.88134765625, 997.1483154296875, 714.2239990234375]], 'scores': [0.9610979557037354], 'class_indices': [0.0]}]\n",
      "Video frames: 1\n",
      "\n"
     ]
    },
    {
     "data": {
      "text/html": [
       "<pre style=\"white-space:pre;overflow-x:auto;line-height:normal;font-family:Menlo,'DejaVu Sans Mono',consolas,'Courier New',monospace\"><span style=\"color: #7fbfbf; text-decoration-color: #7fbfbf\">[06/28/24 11:29:01] </span><span style=\"color: #800000; text-decoration-color: #800000\">WARNING </span> Used `<span style=\"color: #800080; text-decoration-color: #800080; font-weight: bold\">render_boxes</span><span style=\"font-weight: bold\">(</span><span style=\"color: #808000; text-decoration-color: #808000\">...</span><span style=\"font-weight: bold\">)</span>` sink, but predictions that were provided do not  <a href=\"file:///Users/saadia/Documents/DevIA_2024/coding_projects/ShiFuMi_computerVision/venv/lib/python3.9/site-packages/inference/core/interfaces/stream/sinks.py\" target=\"_blank\"><span style=\"color: #7f7f7f; text-decoration-color: #7f7f7f\">sinks.py</span></a><span style=\"color: #7f7f7f; text-decoration-color: #7f7f7f\">:</span><a href=\"file:///Users/saadia/Documents/DevIA_2024/coding_projects/ShiFuMi_computerVision/venv/lib/python3.9/site-packages/inference/core/interfaces/stream/sinks.py#176\" target=\"_blank\"><span style=\"color: #7f7f7f; text-decoration-color: #7f7f7f\">176</span></a>\n",
       "<span style=\"color: #7fbfbf; text-decoration-color: #7fbfbf\">                    </span>         match the expected format of object detection prediction that could be    <span style=\"color: #7f7f7f; text-decoration-color: #7f7f7f\">            </span>\n",
       "<span style=\"color: #7fbfbf; text-decoration-color: #7fbfbf\">                    </span>         accepted by `<span style=\"color: #800080; text-decoration-color: #800080; font-weight: bold\">supervision.Detection.from_inference</span><span style=\"font-weight: bold\">(</span><span style=\"color: #808000; text-decoration-color: #808000\">...</span><span style=\"font-weight: bold\">)</span>                    <span style=\"color: #7f7f7f; text-decoration-color: #7f7f7f\">            </span>\n",
       "</pre>\n"
      ],
      "text/plain": [
       "\u001b[2;36m[06/28/24 11:29:01]\u001b[0m\u001b[2;36m \u001b[0m\u001b[31mWARNING \u001b[0m Used `\u001b[1;35mrender_boxes\u001b[0m\u001b[1m(\u001b[0m\u001b[33m...\u001b[0m\u001b[1m)\u001b[0m` sink, but predictions that were provided do not  \u001b]8;id=710207;file:///Users/saadia/Documents/DevIA_2024/coding_projects/ShiFuMi_computerVision/venv/lib/python3.9/site-packages/inference/core/interfaces/stream/sinks.py\u001b\\\u001b[2msinks.py\u001b[0m\u001b]8;;\u001b\\\u001b[2m:\u001b[0m\u001b]8;id=440510;file:///Users/saadia/Documents/DevIA_2024/coding_projects/ShiFuMi_computerVision/venv/lib/python3.9/site-packages/inference/core/interfaces/stream/sinks.py#176\u001b\\\u001b[2m176\u001b[0m\u001b]8;;\u001b\\\n",
       "\u001b[2;36m                    \u001b[0m         match the expected format of object detection prediction that could be    \u001b[2m            \u001b[0m\n",
       "\u001b[2;36m                    \u001b[0m         accepted by `\u001b[1;35msupervision.Detection.from_inference\u001b[0m\u001b[1m(\u001b[0m\u001b[33m...\u001b[0m\u001b[1m)\u001b[0m                    \u001b[2m            \u001b[0m\n"
      ]
     },
     "metadata": {},
     "output_type": "display_data"
    },
    {
     "name": "stdout",
     "output_type": "stream",
     "text": [
      "0: 384x640 1 person, 587.1ms\n",
      "Speed: 1.7ms preprocess, 587.1ms inference, 0.7ms postprocess per image at shape (1, 3, 384, 640)\n",
      "Predictions made: [{'boxes': [[313.919921875, 174.76580810546875, 997.4454345703125, 712.3582153320312]], 'scores': [0.9583205580711365], 'class_indices': [0.0]}]\n",
      "Video frames: 1\n",
      "\n"
     ]
    },
    {
     "data": {
      "text/html": [
       "<pre style=\"white-space:pre;overflow-x:auto;line-height:normal;font-family:Menlo,'DejaVu Sans Mono',consolas,'Courier New',monospace\"><span style=\"color: #7fbfbf; text-decoration-color: #7fbfbf\">                    </span><span style=\"color: #800000; text-decoration-color: #800000\">WARNING </span> Used `<span style=\"color: #800080; text-decoration-color: #800080; font-weight: bold\">render_boxes</span><span style=\"font-weight: bold\">(</span><span style=\"color: #808000; text-decoration-color: #808000\">...</span><span style=\"font-weight: bold\">)</span>` sink, but predictions that were provided do not  <a href=\"file:///Users/saadia/Documents/DevIA_2024/coding_projects/ShiFuMi_computerVision/venv/lib/python3.9/site-packages/inference/core/interfaces/stream/sinks.py\" target=\"_blank\"><span style=\"color: #7f7f7f; text-decoration-color: #7f7f7f\">sinks.py</span></a><span style=\"color: #7f7f7f; text-decoration-color: #7f7f7f\">:</span><a href=\"file:///Users/saadia/Documents/DevIA_2024/coding_projects/ShiFuMi_computerVision/venv/lib/python3.9/site-packages/inference/core/interfaces/stream/sinks.py#176\" target=\"_blank\"><span style=\"color: #7f7f7f; text-decoration-color: #7f7f7f\">176</span></a>\n",
       "<span style=\"color: #7fbfbf; text-decoration-color: #7fbfbf\">                    </span>         match the expected format of object detection prediction that could be    <span style=\"color: #7f7f7f; text-decoration-color: #7f7f7f\">            </span>\n",
       "<span style=\"color: #7fbfbf; text-decoration-color: #7fbfbf\">                    </span>         accepted by `<span style=\"color: #800080; text-decoration-color: #800080; font-weight: bold\">supervision.Detection.from_inference</span><span style=\"font-weight: bold\">(</span><span style=\"color: #808000; text-decoration-color: #808000\">...</span><span style=\"font-weight: bold\">)</span>                    <span style=\"color: #7f7f7f; text-decoration-color: #7f7f7f\">            </span>\n",
       "</pre>\n"
      ],
      "text/plain": [
       "\u001b[2;36m                   \u001b[0m\u001b[2;36m \u001b[0m\u001b[31mWARNING \u001b[0m Used `\u001b[1;35mrender_boxes\u001b[0m\u001b[1m(\u001b[0m\u001b[33m...\u001b[0m\u001b[1m)\u001b[0m` sink, but predictions that were provided do not  \u001b]8;id=435761;file:///Users/saadia/Documents/DevIA_2024/coding_projects/ShiFuMi_computerVision/venv/lib/python3.9/site-packages/inference/core/interfaces/stream/sinks.py\u001b\\\u001b[2msinks.py\u001b[0m\u001b]8;;\u001b\\\u001b[2m:\u001b[0m\u001b]8;id=736453;file:///Users/saadia/Documents/DevIA_2024/coding_projects/ShiFuMi_computerVision/venv/lib/python3.9/site-packages/inference/core/interfaces/stream/sinks.py#176\u001b\\\u001b[2m176\u001b[0m\u001b]8;;\u001b\\\n",
       "\u001b[2;36m                    \u001b[0m         match the expected format of object detection prediction that could be    \u001b[2m            \u001b[0m\n",
       "\u001b[2;36m                    \u001b[0m         accepted by `\u001b[1;35msupervision.Detection.from_inference\u001b[0m\u001b[1m(\u001b[0m\u001b[33m...\u001b[0m\u001b[1m)\u001b[0m                    \u001b[2m            \u001b[0m\n"
      ]
     },
     "metadata": {},
     "output_type": "display_data"
    },
    {
     "name": "stdout",
     "output_type": "stream",
     "text": [
      "0: 384x640 1 person, 505.1ms\n",
      "Speed: 1.8ms preprocess, 505.1ms inference, 0.6ms postprocess per image at shape (1, 3, 384, 640)\n",
      "Predictions made: [{'boxes': [[312.42999267578125, 174.77056884765625, 998.7556762695312, 712.1517333984375]], 'scores': [0.9575957655906677], 'class_indices': [0.0]}]\n",
      "Video frames: 1\n",
      "\n"
     ]
    },
    {
     "data": {
      "text/html": [
       "<pre style=\"white-space:pre;overflow-x:auto;line-height:normal;font-family:Menlo,'DejaVu Sans Mono',consolas,'Courier New',monospace\"><span style=\"color: #7fbfbf; text-decoration-color: #7fbfbf\">[06/28/24 11:29:02] </span><span style=\"color: #800000; text-decoration-color: #800000\">WARNING </span> Used `<span style=\"color: #800080; text-decoration-color: #800080; font-weight: bold\">render_boxes</span><span style=\"font-weight: bold\">(</span><span style=\"color: #808000; text-decoration-color: #808000\">...</span><span style=\"font-weight: bold\">)</span>` sink, but predictions that were provided do not  <a href=\"file:///Users/saadia/Documents/DevIA_2024/coding_projects/ShiFuMi_computerVision/venv/lib/python3.9/site-packages/inference/core/interfaces/stream/sinks.py\" target=\"_blank\"><span style=\"color: #7f7f7f; text-decoration-color: #7f7f7f\">sinks.py</span></a><span style=\"color: #7f7f7f; text-decoration-color: #7f7f7f\">:</span><a href=\"file:///Users/saadia/Documents/DevIA_2024/coding_projects/ShiFuMi_computerVision/venv/lib/python3.9/site-packages/inference/core/interfaces/stream/sinks.py#176\" target=\"_blank\"><span style=\"color: #7f7f7f; text-decoration-color: #7f7f7f\">176</span></a>\n",
       "<span style=\"color: #7fbfbf; text-decoration-color: #7fbfbf\">                    </span>         match the expected format of object detection prediction that could be    <span style=\"color: #7f7f7f; text-decoration-color: #7f7f7f\">            </span>\n",
       "<span style=\"color: #7fbfbf; text-decoration-color: #7fbfbf\">                    </span>         accepted by `<span style=\"color: #800080; text-decoration-color: #800080; font-weight: bold\">supervision.Detection.from_inference</span><span style=\"font-weight: bold\">(</span><span style=\"color: #808000; text-decoration-color: #808000\">...</span><span style=\"font-weight: bold\">)</span>                    <span style=\"color: #7f7f7f; text-decoration-color: #7f7f7f\">            </span>\n",
       "</pre>\n"
      ],
      "text/plain": [
       "\u001b[2;36m[06/28/24 11:29:02]\u001b[0m\u001b[2;36m \u001b[0m\u001b[31mWARNING \u001b[0m Used `\u001b[1;35mrender_boxes\u001b[0m\u001b[1m(\u001b[0m\u001b[33m...\u001b[0m\u001b[1m)\u001b[0m` sink, but predictions that were provided do not  \u001b]8;id=812014;file:///Users/saadia/Documents/DevIA_2024/coding_projects/ShiFuMi_computerVision/venv/lib/python3.9/site-packages/inference/core/interfaces/stream/sinks.py\u001b\\\u001b[2msinks.py\u001b[0m\u001b]8;;\u001b\\\u001b[2m:\u001b[0m\u001b]8;id=678442;file:///Users/saadia/Documents/DevIA_2024/coding_projects/ShiFuMi_computerVision/venv/lib/python3.9/site-packages/inference/core/interfaces/stream/sinks.py#176\u001b\\\u001b[2m176\u001b[0m\u001b]8;;\u001b\\\n",
       "\u001b[2;36m                    \u001b[0m         match the expected format of object detection prediction that could be    \u001b[2m            \u001b[0m\n",
       "\u001b[2;36m                    \u001b[0m         accepted by `\u001b[1;35msupervision.Detection.from_inference\u001b[0m\u001b[1m(\u001b[0m\u001b[33m...\u001b[0m\u001b[1m)\u001b[0m                    \u001b[2m            \u001b[0m\n"
      ]
     },
     "metadata": {},
     "output_type": "display_data"
    },
    {
     "name": "stdout",
     "output_type": "stream",
     "text": [
      "0: 384x640 1 person, 476.0ms\n",
      "Speed: 1.8ms preprocess, 476.0ms inference, 0.5ms postprocess per image at shape (1, 3, 384, 640)\n",
      "Predictions made: [{'boxes': [[313.8658142089844, 174.11572265625, 998.7926025390625, 712.2420043945312]], 'scores': [0.9593728184700012], 'class_indices': [0.0]}]\n",
      "Video frames: 1\n",
      "\n"
     ]
    },
    {
     "data": {
      "text/html": [
       "<pre style=\"white-space:pre;overflow-x:auto;line-height:normal;font-family:Menlo,'DejaVu Sans Mono',consolas,'Courier New',monospace\"><span style=\"color: #7fbfbf; text-decoration-color: #7fbfbf\">                    </span><span style=\"color: #800000; text-decoration-color: #800000\">WARNING </span> Used `<span style=\"color: #800080; text-decoration-color: #800080; font-weight: bold\">render_boxes</span><span style=\"font-weight: bold\">(</span><span style=\"color: #808000; text-decoration-color: #808000\">...</span><span style=\"font-weight: bold\">)</span>` sink, but predictions that were provided do not  <a href=\"file:///Users/saadia/Documents/DevIA_2024/coding_projects/ShiFuMi_computerVision/venv/lib/python3.9/site-packages/inference/core/interfaces/stream/sinks.py\" target=\"_blank\"><span style=\"color: #7f7f7f; text-decoration-color: #7f7f7f\">sinks.py</span></a><span style=\"color: #7f7f7f; text-decoration-color: #7f7f7f\">:</span><a href=\"file:///Users/saadia/Documents/DevIA_2024/coding_projects/ShiFuMi_computerVision/venv/lib/python3.9/site-packages/inference/core/interfaces/stream/sinks.py#176\" target=\"_blank\"><span style=\"color: #7f7f7f; text-decoration-color: #7f7f7f\">176</span></a>\n",
       "<span style=\"color: #7fbfbf; text-decoration-color: #7fbfbf\">                    </span>         match the expected format of object detection prediction that could be    <span style=\"color: #7f7f7f; text-decoration-color: #7f7f7f\">            </span>\n",
       "<span style=\"color: #7fbfbf; text-decoration-color: #7fbfbf\">                    </span>         accepted by `<span style=\"color: #800080; text-decoration-color: #800080; font-weight: bold\">supervision.Detection.from_inference</span><span style=\"font-weight: bold\">(</span><span style=\"color: #808000; text-decoration-color: #808000\">...</span><span style=\"font-weight: bold\">)</span>                    <span style=\"color: #7f7f7f; text-decoration-color: #7f7f7f\">            </span>\n",
       "</pre>\n"
      ],
      "text/plain": [
       "\u001b[2;36m                   \u001b[0m\u001b[2;36m \u001b[0m\u001b[31mWARNING \u001b[0m Used `\u001b[1;35mrender_boxes\u001b[0m\u001b[1m(\u001b[0m\u001b[33m...\u001b[0m\u001b[1m)\u001b[0m` sink, but predictions that were provided do not  \u001b]8;id=547576;file:///Users/saadia/Documents/DevIA_2024/coding_projects/ShiFuMi_computerVision/venv/lib/python3.9/site-packages/inference/core/interfaces/stream/sinks.py\u001b\\\u001b[2msinks.py\u001b[0m\u001b]8;;\u001b\\\u001b[2m:\u001b[0m\u001b]8;id=347889;file:///Users/saadia/Documents/DevIA_2024/coding_projects/ShiFuMi_computerVision/venv/lib/python3.9/site-packages/inference/core/interfaces/stream/sinks.py#176\u001b\\\u001b[2m176\u001b[0m\u001b]8;;\u001b\\\n",
       "\u001b[2;36m                    \u001b[0m         match the expected format of object detection prediction that could be    \u001b[2m            \u001b[0m\n",
       "\u001b[2;36m                    \u001b[0m         accepted by `\u001b[1;35msupervision.Detection.from_inference\u001b[0m\u001b[1m(\u001b[0m\u001b[33m...\u001b[0m\u001b[1m)\u001b[0m                    \u001b[2m            \u001b[0m\n"
      ]
     },
     "metadata": {},
     "output_type": "display_data"
    },
    {
     "name": "stdout",
     "output_type": "stream",
     "text": [
      "0: 384x640 1 person, 469.9ms\n",
      "Speed: 1.7ms preprocess, 469.9ms inference, 0.5ms postprocess per image at shape (1, 3, 384, 640)\n",
      "Predictions made: [{'boxes': [[315.2392883300781, 173.839599609375, 996.840576171875, 712.6450805664062]], 'scores': [0.9593580961227417], 'class_indices': [0.0]}]\n",
      "Video frames: 1\n",
      "\n"
     ]
    },
    {
     "data": {
      "text/html": [
       "<pre style=\"white-space:pre;overflow-x:auto;line-height:normal;font-family:Menlo,'DejaVu Sans Mono',consolas,'Courier New',monospace\"><span style=\"color: #7fbfbf; text-decoration-color: #7fbfbf\">[06/28/24 11:29:03] </span><span style=\"color: #800000; text-decoration-color: #800000\">WARNING </span> Used `<span style=\"color: #800080; text-decoration-color: #800080; font-weight: bold\">render_boxes</span><span style=\"font-weight: bold\">(</span><span style=\"color: #808000; text-decoration-color: #808000\">...</span><span style=\"font-weight: bold\">)</span>` sink, but predictions that were provided do not  <a href=\"file:///Users/saadia/Documents/DevIA_2024/coding_projects/ShiFuMi_computerVision/venv/lib/python3.9/site-packages/inference/core/interfaces/stream/sinks.py\" target=\"_blank\"><span style=\"color: #7f7f7f; text-decoration-color: #7f7f7f\">sinks.py</span></a><span style=\"color: #7f7f7f; text-decoration-color: #7f7f7f\">:</span><a href=\"file:///Users/saadia/Documents/DevIA_2024/coding_projects/ShiFuMi_computerVision/venv/lib/python3.9/site-packages/inference/core/interfaces/stream/sinks.py#176\" target=\"_blank\"><span style=\"color: #7f7f7f; text-decoration-color: #7f7f7f\">176</span></a>\n",
       "<span style=\"color: #7fbfbf; text-decoration-color: #7fbfbf\">                    </span>         match the expected format of object detection prediction that could be    <span style=\"color: #7f7f7f; text-decoration-color: #7f7f7f\">            </span>\n",
       "<span style=\"color: #7fbfbf; text-decoration-color: #7fbfbf\">                    </span>         accepted by `<span style=\"color: #800080; text-decoration-color: #800080; font-weight: bold\">supervision.Detection.from_inference</span><span style=\"font-weight: bold\">(</span><span style=\"color: #808000; text-decoration-color: #808000\">...</span><span style=\"font-weight: bold\">)</span>                    <span style=\"color: #7f7f7f; text-decoration-color: #7f7f7f\">            </span>\n",
       "</pre>\n"
      ],
      "text/plain": [
       "\u001b[2;36m[06/28/24 11:29:03]\u001b[0m\u001b[2;36m \u001b[0m\u001b[31mWARNING \u001b[0m Used `\u001b[1;35mrender_boxes\u001b[0m\u001b[1m(\u001b[0m\u001b[33m...\u001b[0m\u001b[1m)\u001b[0m` sink, but predictions that were provided do not  \u001b]8;id=301969;file:///Users/saadia/Documents/DevIA_2024/coding_projects/ShiFuMi_computerVision/venv/lib/python3.9/site-packages/inference/core/interfaces/stream/sinks.py\u001b\\\u001b[2msinks.py\u001b[0m\u001b]8;;\u001b\\\u001b[2m:\u001b[0m\u001b]8;id=262628;file:///Users/saadia/Documents/DevIA_2024/coding_projects/ShiFuMi_computerVision/venv/lib/python3.9/site-packages/inference/core/interfaces/stream/sinks.py#176\u001b\\\u001b[2m176\u001b[0m\u001b]8;;\u001b\\\n",
       "\u001b[2;36m                    \u001b[0m         match the expected format of object detection prediction that could be    \u001b[2m            \u001b[0m\n",
       "\u001b[2;36m                    \u001b[0m         accepted by `\u001b[1;35msupervision.Detection.from_inference\u001b[0m\u001b[1m(\u001b[0m\u001b[33m...\u001b[0m\u001b[1m)\u001b[0m                    \u001b[2m            \u001b[0m\n"
      ]
     },
     "metadata": {},
     "output_type": "display_data"
    },
    {
     "name": "stdout",
     "output_type": "stream",
     "text": [
      "0: 384x640 1 person, 457.1ms\n",
      "Speed: 2.1ms preprocess, 457.1ms inference, 0.7ms postprocess per image at shape (1, 3, 384, 640)\n",
      "Predictions made: [{'boxes': [[316.1182861328125, 174.0789794921875, 991.9722900390625, 712.2272338867188]], 'scores': [0.959876537322998], 'class_indices': [0.0]}]\n",
      "Video frames: 1\n",
      "\n"
     ]
    },
    {
     "data": {
      "text/html": [
       "<pre style=\"white-space:pre;overflow-x:auto;line-height:normal;font-family:Menlo,'DejaVu Sans Mono',consolas,'Courier New',monospace\"><span style=\"color: #7fbfbf; text-decoration-color: #7fbfbf\">                    </span><span style=\"color: #800000; text-decoration-color: #800000\">WARNING </span> Used `<span style=\"color: #800080; text-decoration-color: #800080; font-weight: bold\">render_boxes</span><span style=\"font-weight: bold\">(</span><span style=\"color: #808000; text-decoration-color: #808000\">...</span><span style=\"font-weight: bold\">)</span>` sink, but predictions that were provided do not  <a href=\"file:///Users/saadia/Documents/DevIA_2024/coding_projects/ShiFuMi_computerVision/venv/lib/python3.9/site-packages/inference/core/interfaces/stream/sinks.py\" target=\"_blank\"><span style=\"color: #7f7f7f; text-decoration-color: #7f7f7f\">sinks.py</span></a><span style=\"color: #7f7f7f; text-decoration-color: #7f7f7f\">:</span><a href=\"file:///Users/saadia/Documents/DevIA_2024/coding_projects/ShiFuMi_computerVision/venv/lib/python3.9/site-packages/inference/core/interfaces/stream/sinks.py#176\" target=\"_blank\"><span style=\"color: #7f7f7f; text-decoration-color: #7f7f7f\">176</span></a>\n",
       "<span style=\"color: #7fbfbf; text-decoration-color: #7fbfbf\">                    </span>         match the expected format of object detection prediction that could be    <span style=\"color: #7f7f7f; text-decoration-color: #7f7f7f\">            </span>\n",
       "<span style=\"color: #7fbfbf; text-decoration-color: #7fbfbf\">                    </span>         accepted by `<span style=\"color: #800080; text-decoration-color: #800080; font-weight: bold\">supervision.Detection.from_inference</span><span style=\"font-weight: bold\">(</span><span style=\"color: #808000; text-decoration-color: #808000\">...</span><span style=\"font-weight: bold\">)</span>                    <span style=\"color: #7f7f7f; text-decoration-color: #7f7f7f\">            </span>\n",
       "</pre>\n"
      ],
      "text/plain": [
       "\u001b[2;36m                   \u001b[0m\u001b[2;36m \u001b[0m\u001b[31mWARNING \u001b[0m Used `\u001b[1;35mrender_boxes\u001b[0m\u001b[1m(\u001b[0m\u001b[33m...\u001b[0m\u001b[1m)\u001b[0m` sink, but predictions that were provided do not  \u001b]8;id=692355;file:///Users/saadia/Documents/DevIA_2024/coding_projects/ShiFuMi_computerVision/venv/lib/python3.9/site-packages/inference/core/interfaces/stream/sinks.py\u001b\\\u001b[2msinks.py\u001b[0m\u001b]8;;\u001b\\\u001b[2m:\u001b[0m\u001b]8;id=305774;file:///Users/saadia/Documents/DevIA_2024/coding_projects/ShiFuMi_computerVision/venv/lib/python3.9/site-packages/inference/core/interfaces/stream/sinks.py#176\u001b\\\u001b[2m176\u001b[0m\u001b]8;;\u001b\\\n",
       "\u001b[2;36m                    \u001b[0m         match the expected format of object detection prediction that could be    \u001b[2m            \u001b[0m\n",
       "\u001b[2;36m                    \u001b[0m         accepted by `\u001b[1;35msupervision.Detection.from_inference\u001b[0m\u001b[1m(\u001b[0m\u001b[33m...\u001b[0m\u001b[1m)\u001b[0m                    \u001b[2m            \u001b[0m\n"
      ]
     },
     "metadata": {},
     "output_type": "display_data"
    },
    {
     "name": "stdout",
     "output_type": "stream",
     "text": [
      "0: 384x640 1 person, 466.0ms\n",
      "Speed: 2.1ms preprocess, 466.0ms inference, 0.4ms postprocess per image at shape (1, 3, 384, 640)\n",
      "Predictions made: [{'boxes': [[315.00439453125, 177.16290283203125, 986.3372802734375, 712.3081665039062]], 'scores': [0.9589807987213135], 'class_indices': [0.0]}]\n",
      "Video frames: 1\n",
      "\n"
     ]
    },
    {
     "data": {
      "text/html": [
       "<pre style=\"white-space:pre;overflow-x:auto;line-height:normal;font-family:Menlo,'DejaVu Sans Mono',consolas,'Courier New',monospace\"><span style=\"color: #7fbfbf; text-decoration-color: #7fbfbf\">[06/28/24 11:29:04] </span><span style=\"color: #800000; text-decoration-color: #800000\">WARNING </span> Used `<span style=\"color: #800080; text-decoration-color: #800080; font-weight: bold\">render_boxes</span><span style=\"font-weight: bold\">(</span><span style=\"color: #808000; text-decoration-color: #808000\">...</span><span style=\"font-weight: bold\">)</span>` sink, but predictions that were provided do not  <a href=\"file:///Users/saadia/Documents/DevIA_2024/coding_projects/ShiFuMi_computerVision/venv/lib/python3.9/site-packages/inference/core/interfaces/stream/sinks.py\" target=\"_blank\"><span style=\"color: #7f7f7f; text-decoration-color: #7f7f7f\">sinks.py</span></a><span style=\"color: #7f7f7f; text-decoration-color: #7f7f7f\">:</span><a href=\"file:///Users/saadia/Documents/DevIA_2024/coding_projects/ShiFuMi_computerVision/venv/lib/python3.9/site-packages/inference/core/interfaces/stream/sinks.py#176\" target=\"_blank\"><span style=\"color: #7f7f7f; text-decoration-color: #7f7f7f\">176</span></a>\n",
       "<span style=\"color: #7fbfbf; text-decoration-color: #7fbfbf\">                    </span>         match the expected format of object detection prediction that could be    <span style=\"color: #7f7f7f; text-decoration-color: #7f7f7f\">            </span>\n",
       "<span style=\"color: #7fbfbf; text-decoration-color: #7fbfbf\">                    </span>         accepted by `<span style=\"color: #800080; text-decoration-color: #800080; font-weight: bold\">supervision.Detection.from_inference</span><span style=\"font-weight: bold\">(</span><span style=\"color: #808000; text-decoration-color: #808000\">...</span><span style=\"font-weight: bold\">)</span>                    <span style=\"color: #7f7f7f; text-decoration-color: #7f7f7f\">            </span>\n",
       "</pre>\n"
      ],
      "text/plain": [
       "\u001b[2;36m[06/28/24 11:29:04]\u001b[0m\u001b[2;36m \u001b[0m\u001b[31mWARNING \u001b[0m Used `\u001b[1;35mrender_boxes\u001b[0m\u001b[1m(\u001b[0m\u001b[33m...\u001b[0m\u001b[1m)\u001b[0m` sink, but predictions that were provided do not  \u001b]8;id=167721;file:///Users/saadia/Documents/DevIA_2024/coding_projects/ShiFuMi_computerVision/venv/lib/python3.9/site-packages/inference/core/interfaces/stream/sinks.py\u001b\\\u001b[2msinks.py\u001b[0m\u001b]8;;\u001b\\\u001b[2m:\u001b[0m\u001b]8;id=401409;file:///Users/saadia/Documents/DevIA_2024/coding_projects/ShiFuMi_computerVision/venv/lib/python3.9/site-packages/inference/core/interfaces/stream/sinks.py#176\u001b\\\u001b[2m176\u001b[0m\u001b]8;;\u001b\\\n",
       "\u001b[2;36m                    \u001b[0m         match the expected format of object detection prediction that could be    \u001b[2m            \u001b[0m\n",
       "\u001b[2;36m                    \u001b[0m         accepted by `\u001b[1;35msupervision.Detection.from_inference\u001b[0m\u001b[1m(\u001b[0m\u001b[33m...\u001b[0m\u001b[1m)\u001b[0m                    \u001b[2m            \u001b[0m\n"
      ]
     },
     "metadata": {},
     "output_type": "display_data"
    },
    {
     "name": "stdout",
     "output_type": "stream",
     "text": [
      "0: 384x640 1 person, 459.2ms\n",
      "Speed: 2.0ms preprocess, 459.2ms inference, 0.4ms postprocess per image at shape (1, 3, 384, 640)\n",
      "Predictions made: [{'boxes': [[315.7613525390625, 177.10992431640625, 987.0887451171875, 712.2349243164062]], 'scores': [0.9600796699523926], 'class_indices': [0.0]}]\n",
      "Video frames: 1\n",
      "\n"
     ]
    },
    {
     "data": {
      "text/html": [
       "<pre style=\"white-space:pre;overflow-x:auto;line-height:normal;font-family:Menlo,'DejaVu Sans Mono',consolas,'Courier New',monospace\"><span style=\"color: #7fbfbf; text-decoration-color: #7fbfbf\">                    </span><span style=\"color: #800000; text-decoration-color: #800000\">WARNING </span> Used `<span style=\"color: #800080; text-decoration-color: #800080; font-weight: bold\">render_boxes</span><span style=\"font-weight: bold\">(</span><span style=\"color: #808000; text-decoration-color: #808000\">...</span><span style=\"font-weight: bold\">)</span>` sink, but predictions that were provided do not  <a href=\"file:///Users/saadia/Documents/DevIA_2024/coding_projects/ShiFuMi_computerVision/venv/lib/python3.9/site-packages/inference/core/interfaces/stream/sinks.py\" target=\"_blank\"><span style=\"color: #7f7f7f; text-decoration-color: #7f7f7f\">sinks.py</span></a><span style=\"color: #7f7f7f; text-decoration-color: #7f7f7f\">:</span><a href=\"file:///Users/saadia/Documents/DevIA_2024/coding_projects/ShiFuMi_computerVision/venv/lib/python3.9/site-packages/inference/core/interfaces/stream/sinks.py#176\" target=\"_blank\"><span style=\"color: #7f7f7f; text-decoration-color: #7f7f7f\">176</span></a>\n",
       "<span style=\"color: #7fbfbf; text-decoration-color: #7fbfbf\">                    </span>         match the expected format of object detection prediction that could be    <span style=\"color: #7f7f7f; text-decoration-color: #7f7f7f\">            </span>\n",
       "<span style=\"color: #7fbfbf; text-decoration-color: #7fbfbf\">                    </span>         accepted by `<span style=\"color: #800080; text-decoration-color: #800080; font-weight: bold\">supervision.Detection.from_inference</span><span style=\"font-weight: bold\">(</span><span style=\"color: #808000; text-decoration-color: #808000\">...</span><span style=\"font-weight: bold\">)</span>                    <span style=\"color: #7f7f7f; text-decoration-color: #7f7f7f\">            </span>\n",
       "</pre>\n"
      ],
      "text/plain": [
       "\u001b[2;36m                   \u001b[0m\u001b[2;36m \u001b[0m\u001b[31mWARNING \u001b[0m Used `\u001b[1;35mrender_boxes\u001b[0m\u001b[1m(\u001b[0m\u001b[33m...\u001b[0m\u001b[1m)\u001b[0m` sink, but predictions that were provided do not  \u001b]8;id=699584;file:///Users/saadia/Documents/DevIA_2024/coding_projects/ShiFuMi_computerVision/venv/lib/python3.9/site-packages/inference/core/interfaces/stream/sinks.py\u001b\\\u001b[2msinks.py\u001b[0m\u001b]8;;\u001b\\\u001b[2m:\u001b[0m\u001b]8;id=964735;file:///Users/saadia/Documents/DevIA_2024/coding_projects/ShiFuMi_computerVision/venv/lib/python3.9/site-packages/inference/core/interfaces/stream/sinks.py#176\u001b\\\u001b[2m176\u001b[0m\u001b]8;;\u001b\\\n",
       "\u001b[2;36m                    \u001b[0m         match the expected format of object detection prediction that could be    \u001b[2m            \u001b[0m\n",
       "\u001b[2;36m                    \u001b[0m         accepted by `\u001b[1;35msupervision.Detection.from_inference\u001b[0m\u001b[1m(\u001b[0m\u001b[33m...\u001b[0m\u001b[1m)\u001b[0m                    \u001b[2m            \u001b[0m\n"
      ]
     },
     "metadata": {},
     "output_type": "display_data"
    },
    {
     "name": "stdout",
     "output_type": "stream",
     "text": [
      "0: 384x640 1 person, 463.5ms\n",
      "Speed: 1.8ms preprocess, 463.5ms inference, 0.4ms postprocess per image at shape (1, 3, 384, 640)\n",
      "Predictions made: [{'boxes': [[311.6685791015625, 180.672607421875, 984.397705078125, 712.7371826171875]], 'scores': [0.9568293690681458], 'class_indices': [0.0]}]\n",
      "Video frames: 1\n",
      "\n"
     ]
    },
    {
     "data": {
      "text/html": [
       "<pre style=\"white-space:pre;overflow-x:auto;line-height:normal;font-family:Menlo,'DejaVu Sans Mono',consolas,'Courier New',monospace\"><span style=\"color: #7fbfbf; text-decoration-color: #7fbfbf\">                    </span><span style=\"color: #800000; text-decoration-color: #800000\">WARNING </span> Used `<span style=\"color: #800080; text-decoration-color: #800080; font-weight: bold\">render_boxes</span><span style=\"font-weight: bold\">(</span><span style=\"color: #808000; text-decoration-color: #808000\">...</span><span style=\"font-weight: bold\">)</span>` sink, but predictions that were provided do not  <a href=\"file:///Users/saadia/Documents/DevIA_2024/coding_projects/ShiFuMi_computerVision/venv/lib/python3.9/site-packages/inference/core/interfaces/stream/sinks.py\" target=\"_blank\"><span style=\"color: #7f7f7f; text-decoration-color: #7f7f7f\">sinks.py</span></a><span style=\"color: #7f7f7f; text-decoration-color: #7f7f7f\">:</span><a href=\"file:///Users/saadia/Documents/DevIA_2024/coding_projects/ShiFuMi_computerVision/venv/lib/python3.9/site-packages/inference/core/interfaces/stream/sinks.py#176\" target=\"_blank\"><span style=\"color: #7f7f7f; text-decoration-color: #7f7f7f\">176</span></a>\n",
       "<span style=\"color: #7fbfbf; text-decoration-color: #7fbfbf\">                    </span>         match the expected format of object detection prediction that could be    <span style=\"color: #7f7f7f; text-decoration-color: #7f7f7f\">            </span>\n",
       "<span style=\"color: #7fbfbf; text-decoration-color: #7fbfbf\">                    </span>         accepted by `<span style=\"color: #800080; text-decoration-color: #800080; font-weight: bold\">supervision.Detection.from_inference</span><span style=\"font-weight: bold\">(</span><span style=\"color: #808000; text-decoration-color: #808000\">...</span><span style=\"font-weight: bold\">)</span>                    <span style=\"color: #7f7f7f; text-decoration-color: #7f7f7f\">            </span>\n",
       "</pre>\n"
      ],
      "text/plain": [
       "\u001b[2;36m                   \u001b[0m\u001b[2;36m \u001b[0m\u001b[31mWARNING \u001b[0m Used `\u001b[1;35mrender_boxes\u001b[0m\u001b[1m(\u001b[0m\u001b[33m...\u001b[0m\u001b[1m)\u001b[0m` sink, but predictions that were provided do not  \u001b]8;id=118923;file:///Users/saadia/Documents/DevIA_2024/coding_projects/ShiFuMi_computerVision/venv/lib/python3.9/site-packages/inference/core/interfaces/stream/sinks.py\u001b\\\u001b[2msinks.py\u001b[0m\u001b]8;;\u001b\\\u001b[2m:\u001b[0m\u001b]8;id=706000;file:///Users/saadia/Documents/DevIA_2024/coding_projects/ShiFuMi_computerVision/venv/lib/python3.9/site-packages/inference/core/interfaces/stream/sinks.py#176\u001b\\\u001b[2m176\u001b[0m\u001b]8;;\u001b\\\n",
       "\u001b[2;36m                    \u001b[0m         match the expected format of object detection prediction that could be    \u001b[2m            \u001b[0m\n",
       "\u001b[2;36m                    \u001b[0m         accepted by `\u001b[1;35msupervision.Detection.from_inference\u001b[0m\u001b[1m(\u001b[0m\u001b[33m...\u001b[0m\u001b[1m)\u001b[0m                    \u001b[2m            \u001b[0m\n"
      ]
     },
     "metadata": {},
     "output_type": "display_data"
    },
    {
     "name": "stdout",
     "output_type": "stream",
     "text": [
      "0: 384x640 1 person, 470.7ms\n",
      "Speed: 1.8ms preprocess, 470.7ms inference, 0.3ms postprocess per image at shape (1, 3, 384, 640)\n",
      "Predictions made: [{'boxes': [[313.1903076171875, 179.95947265625, 987.5538330078125, 712.234619140625]], 'scores': [0.9578403830528259], 'class_indices': [0.0]}]\n",
      "Video frames: 1\n",
      "\n"
     ]
    },
    {
     "data": {
      "text/html": [
       "<pre style=\"white-space:pre;overflow-x:auto;line-height:normal;font-family:Menlo,'DejaVu Sans Mono',consolas,'Courier New',monospace\"><span style=\"color: #7fbfbf; text-decoration-color: #7fbfbf\">[06/28/24 11:29:05] </span><span style=\"color: #800000; text-decoration-color: #800000\">WARNING </span> Used `<span style=\"color: #800080; text-decoration-color: #800080; font-weight: bold\">render_boxes</span><span style=\"font-weight: bold\">(</span><span style=\"color: #808000; text-decoration-color: #808000\">...</span><span style=\"font-weight: bold\">)</span>` sink, but predictions that were provided do not  <a href=\"file:///Users/saadia/Documents/DevIA_2024/coding_projects/ShiFuMi_computerVision/venv/lib/python3.9/site-packages/inference/core/interfaces/stream/sinks.py\" target=\"_blank\"><span style=\"color: #7f7f7f; text-decoration-color: #7f7f7f\">sinks.py</span></a><span style=\"color: #7f7f7f; text-decoration-color: #7f7f7f\">:</span><a href=\"file:///Users/saadia/Documents/DevIA_2024/coding_projects/ShiFuMi_computerVision/venv/lib/python3.9/site-packages/inference/core/interfaces/stream/sinks.py#176\" target=\"_blank\"><span style=\"color: #7f7f7f; text-decoration-color: #7f7f7f\">176</span></a>\n",
       "<span style=\"color: #7fbfbf; text-decoration-color: #7fbfbf\">                    </span>         match the expected format of object detection prediction that could be    <span style=\"color: #7f7f7f; text-decoration-color: #7f7f7f\">            </span>\n",
       "<span style=\"color: #7fbfbf; text-decoration-color: #7fbfbf\">                    </span>         accepted by `<span style=\"color: #800080; text-decoration-color: #800080; font-weight: bold\">supervision.Detection.from_inference</span><span style=\"font-weight: bold\">(</span><span style=\"color: #808000; text-decoration-color: #808000\">...</span><span style=\"font-weight: bold\">)</span>                    <span style=\"color: #7f7f7f; text-decoration-color: #7f7f7f\">            </span>\n",
       "</pre>\n"
      ],
      "text/plain": [
       "\u001b[2;36m[06/28/24 11:29:05]\u001b[0m\u001b[2;36m \u001b[0m\u001b[31mWARNING \u001b[0m Used `\u001b[1;35mrender_boxes\u001b[0m\u001b[1m(\u001b[0m\u001b[33m...\u001b[0m\u001b[1m)\u001b[0m` sink, but predictions that were provided do not  \u001b]8;id=368418;file:///Users/saadia/Documents/DevIA_2024/coding_projects/ShiFuMi_computerVision/venv/lib/python3.9/site-packages/inference/core/interfaces/stream/sinks.py\u001b\\\u001b[2msinks.py\u001b[0m\u001b]8;;\u001b\\\u001b[2m:\u001b[0m\u001b]8;id=711291;file:///Users/saadia/Documents/DevIA_2024/coding_projects/ShiFuMi_computerVision/venv/lib/python3.9/site-packages/inference/core/interfaces/stream/sinks.py#176\u001b\\\u001b[2m176\u001b[0m\u001b]8;;\u001b\\\n",
       "\u001b[2;36m                    \u001b[0m         match the expected format of object detection prediction that could be    \u001b[2m            \u001b[0m\n",
       "\u001b[2;36m                    \u001b[0m         accepted by `\u001b[1;35msupervision.Detection.from_inference\u001b[0m\u001b[1m(\u001b[0m\u001b[33m...\u001b[0m\u001b[1m)\u001b[0m                    \u001b[2m            \u001b[0m\n"
      ]
     },
     "metadata": {},
     "output_type": "display_data"
    },
    {
     "name": "stdout",
     "output_type": "stream",
     "text": [
      "0: 384x640 1 person, 450.2ms\n",
      "Speed: 1.7ms preprocess, 450.2ms inference, 0.4ms postprocess per image at shape (1, 3, 384, 640)\n",
      "Predictions made: [{'boxes': [[312.28289794921875, 180.7440185546875, 989.3611450195312, 711.6641845703125]], 'scores': [0.9608865976333618], 'class_indices': [0.0]}]\n",
      "Video frames: 1\n",
      "\n"
     ]
    },
    {
     "data": {
      "text/html": [
       "<pre style=\"white-space:pre;overflow-x:auto;line-height:normal;font-family:Menlo,'DejaVu Sans Mono',consolas,'Courier New',monospace\"><span style=\"color: #7fbfbf; text-decoration-color: #7fbfbf\">                    </span><span style=\"color: #800000; text-decoration-color: #800000\">WARNING </span> Used `<span style=\"color: #800080; text-decoration-color: #800080; font-weight: bold\">render_boxes</span><span style=\"font-weight: bold\">(</span><span style=\"color: #808000; text-decoration-color: #808000\">...</span><span style=\"font-weight: bold\">)</span>` sink, but predictions that were provided do not  <a href=\"file:///Users/saadia/Documents/DevIA_2024/coding_projects/ShiFuMi_computerVision/venv/lib/python3.9/site-packages/inference/core/interfaces/stream/sinks.py\" target=\"_blank\"><span style=\"color: #7f7f7f; text-decoration-color: #7f7f7f\">sinks.py</span></a><span style=\"color: #7f7f7f; text-decoration-color: #7f7f7f\">:</span><a href=\"file:///Users/saadia/Documents/DevIA_2024/coding_projects/ShiFuMi_computerVision/venv/lib/python3.9/site-packages/inference/core/interfaces/stream/sinks.py#176\" target=\"_blank\"><span style=\"color: #7f7f7f; text-decoration-color: #7f7f7f\">176</span></a>\n",
       "<span style=\"color: #7fbfbf; text-decoration-color: #7fbfbf\">                    </span>         match the expected format of object detection prediction that could be    <span style=\"color: #7f7f7f; text-decoration-color: #7f7f7f\">            </span>\n",
       "<span style=\"color: #7fbfbf; text-decoration-color: #7fbfbf\">                    </span>         accepted by `<span style=\"color: #800080; text-decoration-color: #800080; font-weight: bold\">supervision.Detection.from_inference</span><span style=\"font-weight: bold\">(</span><span style=\"color: #808000; text-decoration-color: #808000\">...</span><span style=\"font-weight: bold\">)</span>                    <span style=\"color: #7f7f7f; text-decoration-color: #7f7f7f\">            </span>\n",
       "</pre>\n"
      ],
      "text/plain": [
       "\u001b[2;36m                   \u001b[0m\u001b[2;36m \u001b[0m\u001b[31mWARNING \u001b[0m Used `\u001b[1;35mrender_boxes\u001b[0m\u001b[1m(\u001b[0m\u001b[33m...\u001b[0m\u001b[1m)\u001b[0m` sink, but predictions that were provided do not  \u001b]8;id=137657;file:///Users/saadia/Documents/DevIA_2024/coding_projects/ShiFuMi_computerVision/venv/lib/python3.9/site-packages/inference/core/interfaces/stream/sinks.py\u001b\\\u001b[2msinks.py\u001b[0m\u001b]8;;\u001b\\\u001b[2m:\u001b[0m\u001b]8;id=732403;file:///Users/saadia/Documents/DevIA_2024/coding_projects/ShiFuMi_computerVision/venv/lib/python3.9/site-packages/inference/core/interfaces/stream/sinks.py#176\u001b\\\u001b[2m176\u001b[0m\u001b]8;;\u001b\\\n",
       "\u001b[2;36m                    \u001b[0m         match the expected format of object detection prediction that could be    \u001b[2m            \u001b[0m\n",
       "\u001b[2;36m                    \u001b[0m         accepted by `\u001b[1;35msupervision.Detection.from_inference\u001b[0m\u001b[1m(\u001b[0m\u001b[33m...\u001b[0m\u001b[1m)\u001b[0m                    \u001b[2m            \u001b[0m\n"
      ]
     },
     "metadata": {},
     "output_type": "display_data"
    },
    {
     "name": "stdout",
     "output_type": "stream",
     "text": [
      "0: 384x640 1 person, 459.1ms\n",
      "Speed: 1.9ms preprocess, 459.1ms inference, 0.4ms postprocess per image at shape (1, 3, 384, 640)\n",
      "Predictions made: [{'boxes': [[312.7664794921875, 180.8076171875, 989.3802490234375, 711.6505737304688]], 'scores': [0.9589253664016724], 'class_indices': [0.0]}]\n",
      "Video frames: 1\n",
      "\n"
     ]
    },
    {
     "data": {
      "text/html": [
       "<pre style=\"white-space:pre;overflow-x:auto;line-height:normal;font-family:Menlo,'DejaVu Sans Mono',consolas,'Courier New',monospace\"><span style=\"color: #7fbfbf; text-decoration-color: #7fbfbf\">[06/28/24 11:29:06] </span><span style=\"color: #800000; text-decoration-color: #800000\">WARNING </span> Used `<span style=\"color: #800080; text-decoration-color: #800080; font-weight: bold\">render_boxes</span><span style=\"font-weight: bold\">(</span><span style=\"color: #808000; text-decoration-color: #808000\">...</span><span style=\"font-weight: bold\">)</span>` sink, but predictions that were provided do not  <a href=\"file:///Users/saadia/Documents/DevIA_2024/coding_projects/ShiFuMi_computerVision/venv/lib/python3.9/site-packages/inference/core/interfaces/stream/sinks.py\" target=\"_blank\"><span style=\"color: #7f7f7f; text-decoration-color: #7f7f7f\">sinks.py</span></a><span style=\"color: #7f7f7f; text-decoration-color: #7f7f7f\">:</span><a href=\"file:///Users/saadia/Documents/DevIA_2024/coding_projects/ShiFuMi_computerVision/venv/lib/python3.9/site-packages/inference/core/interfaces/stream/sinks.py#176\" target=\"_blank\"><span style=\"color: #7f7f7f; text-decoration-color: #7f7f7f\">176</span></a>\n",
       "<span style=\"color: #7fbfbf; text-decoration-color: #7fbfbf\">                    </span>         match the expected format of object detection prediction that could be    <span style=\"color: #7f7f7f; text-decoration-color: #7f7f7f\">            </span>\n",
       "<span style=\"color: #7fbfbf; text-decoration-color: #7fbfbf\">                    </span>         accepted by `<span style=\"color: #800080; text-decoration-color: #800080; font-weight: bold\">supervision.Detection.from_inference</span><span style=\"font-weight: bold\">(</span><span style=\"color: #808000; text-decoration-color: #808000\">...</span><span style=\"font-weight: bold\">)</span>                    <span style=\"color: #7f7f7f; text-decoration-color: #7f7f7f\">            </span>\n",
       "</pre>\n"
      ],
      "text/plain": [
       "\u001b[2;36m[06/28/24 11:29:06]\u001b[0m\u001b[2;36m \u001b[0m\u001b[31mWARNING \u001b[0m Used `\u001b[1;35mrender_boxes\u001b[0m\u001b[1m(\u001b[0m\u001b[33m...\u001b[0m\u001b[1m)\u001b[0m` sink, but predictions that were provided do not  \u001b]8;id=387863;file:///Users/saadia/Documents/DevIA_2024/coding_projects/ShiFuMi_computerVision/venv/lib/python3.9/site-packages/inference/core/interfaces/stream/sinks.py\u001b\\\u001b[2msinks.py\u001b[0m\u001b]8;;\u001b\\\u001b[2m:\u001b[0m\u001b]8;id=22223;file:///Users/saadia/Documents/DevIA_2024/coding_projects/ShiFuMi_computerVision/venv/lib/python3.9/site-packages/inference/core/interfaces/stream/sinks.py#176\u001b\\\u001b[2m176\u001b[0m\u001b]8;;\u001b\\\n",
       "\u001b[2;36m                    \u001b[0m         match the expected format of object detection prediction that could be    \u001b[2m            \u001b[0m\n",
       "\u001b[2;36m                    \u001b[0m         accepted by `\u001b[1;35msupervision.Detection.from_inference\u001b[0m\u001b[1m(\u001b[0m\u001b[33m...\u001b[0m\u001b[1m)\u001b[0m                    \u001b[2m            \u001b[0m\n"
      ]
     },
     "metadata": {},
     "output_type": "display_data"
    },
    {
     "name": "stdout",
     "output_type": "stream",
     "text": [
      "0: 384x640 1 person, 460.8ms\n",
      "Speed: 1.3ms preprocess, 460.8ms inference, 0.4ms postprocess per image at shape (1, 3, 384, 640)\n",
      "Predictions made: [{'boxes': [[313.990234375, 180.830078125, 988.646484375, 711.6004638671875]], 'scores': [0.9605384469032288], 'class_indices': [0.0]}]\n",
      "Video frames: 1\n",
      "\n"
     ]
    },
    {
     "data": {
      "text/html": [
       "<pre style=\"white-space:pre;overflow-x:auto;line-height:normal;font-family:Menlo,'DejaVu Sans Mono',consolas,'Courier New',monospace\"><span style=\"color: #7fbfbf; text-decoration-color: #7fbfbf\">                    </span><span style=\"color: #800000; text-decoration-color: #800000\">WARNING </span> Used `<span style=\"color: #800080; text-decoration-color: #800080; font-weight: bold\">render_boxes</span><span style=\"font-weight: bold\">(</span><span style=\"color: #808000; text-decoration-color: #808000\">...</span><span style=\"font-weight: bold\">)</span>` sink, but predictions that were provided do not  <a href=\"file:///Users/saadia/Documents/DevIA_2024/coding_projects/ShiFuMi_computerVision/venv/lib/python3.9/site-packages/inference/core/interfaces/stream/sinks.py\" target=\"_blank\"><span style=\"color: #7f7f7f; text-decoration-color: #7f7f7f\">sinks.py</span></a><span style=\"color: #7f7f7f; text-decoration-color: #7f7f7f\">:</span><a href=\"file:///Users/saadia/Documents/DevIA_2024/coding_projects/ShiFuMi_computerVision/venv/lib/python3.9/site-packages/inference/core/interfaces/stream/sinks.py#176\" target=\"_blank\"><span style=\"color: #7f7f7f; text-decoration-color: #7f7f7f\">176</span></a>\n",
       "<span style=\"color: #7fbfbf; text-decoration-color: #7fbfbf\">                    </span>         match the expected format of object detection prediction that could be    <span style=\"color: #7f7f7f; text-decoration-color: #7f7f7f\">            </span>\n",
       "<span style=\"color: #7fbfbf; text-decoration-color: #7fbfbf\">                    </span>         accepted by `<span style=\"color: #800080; text-decoration-color: #800080; font-weight: bold\">supervision.Detection.from_inference</span><span style=\"font-weight: bold\">(</span><span style=\"color: #808000; text-decoration-color: #808000\">...</span><span style=\"font-weight: bold\">)</span>                    <span style=\"color: #7f7f7f; text-decoration-color: #7f7f7f\">            </span>\n",
       "</pre>\n"
      ],
      "text/plain": [
       "\u001b[2;36m                   \u001b[0m\u001b[2;36m \u001b[0m\u001b[31mWARNING \u001b[0m Used `\u001b[1;35mrender_boxes\u001b[0m\u001b[1m(\u001b[0m\u001b[33m...\u001b[0m\u001b[1m)\u001b[0m` sink, but predictions that were provided do not  \u001b]8;id=229864;file:///Users/saadia/Documents/DevIA_2024/coding_projects/ShiFuMi_computerVision/venv/lib/python3.9/site-packages/inference/core/interfaces/stream/sinks.py\u001b\\\u001b[2msinks.py\u001b[0m\u001b]8;;\u001b\\\u001b[2m:\u001b[0m\u001b]8;id=548873;file:///Users/saadia/Documents/DevIA_2024/coding_projects/ShiFuMi_computerVision/venv/lib/python3.9/site-packages/inference/core/interfaces/stream/sinks.py#176\u001b\\\u001b[2m176\u001b[0m\u001b]8;;\u001b\\\n",
       "\u001b[2;36m                    \u001b[0m         match the expected format of object detection prediction that could be    \u001b[2m            \u001b[0m\n",
       "\u001b[2;36m                    \u001b[0m         accepted by `\u001b[1;35msupervision.Detection.from_inference\u001b[0m\u001b[1m(\u001b[0m\u001b[33m...\u001b[0m\u001b[1m)\u001b[0m                    \u001b[2m            \u001b[0m\n"
      ]
     },
     "metadata": {},
     "output_type": "display_data"
    },
    {
     "name": "stdout",
     "output_type": "stream",
     "text": [
      "0: 384x640 1 person, 1 toilet, 474.7ms\n",
      "Speed: 2.4ms preprocess, 474.7ms inference, 0.5ms postprocess per image at shape (1, 3, 384, 640)\n",
      "Predictions made: [{'boxes': [[315.22698974609375, 180.58282470703125, 989.1594848632812, 711.68896484375], [101.37298583984375, 655.67138671875, 270.65411376953125, 719.048095703125]], 'scores': [0.9603418111801147, 0.2741149663925171], 'class_indices': [0.0, 61.0]}]\n",
      "Video frames: 1\n",
      "\n"
     ]
    },
    {
     "data": {
      "text/html": [
       "<pre style=\"white-space:pre;overflow-x:auto;line-height:normal;font-family:Menlo,'DejaVu Sans Mono',consolas,'Courier New',monospace\"><span style=\"color: #7fbfbf; text-decoration-color: #7fbfbf\">[06/28/24 11:29:07] </span><span style=\"color: #800000; text-decoration-color: #800000\">WARNING </span> Used `<span style=\"color: #800080; text-decoration-color: #800080; font-weight: bold\">render_boxes</span><span style=\"font-weight: bold\">(</span><span style=\"color: #808000; text-decoration-color: #808000\">...</span><span style=\"font-weight: bold\">)</span>` sink, but predictions that were provided do not  <a href=\"file:///Users/saadia/Documents/DevIA_2024/coding_projects/ShiFuMi_computerVision/venv/lib/python3.9/site-packages/inference/core/interfaces/stream/sinks.py\" target=\"_blank\"><span style=\"color: #7f7f7f; text-decoration-color: #7f7f7f\">sinks.py</span></a><span style=\"color: #7f7f7f; text-decoration-color: #7f7f7f\">:</span><a href=\"file:///Users/saadia/Documents/DevIA_2024/coding_projects/ShiFuMi_computerVision/venv/lib/python3.9/site-packages/inference/core/interfaces/stream/sinks.py#176\" target=\"_blank\"><span style=\"color: #7f7f7f; text-decoration-color: #7f7f7f\">176</span></a>\n",
       "<span style=\"color: #7fbfbf; text-decoration-color: #7fbfbf\">                    </span>         match the expected format of object detection prediction that could be    <span style=\"color: #7f7f7f; text-decoration-color: #7f7f7f\">            </span>\n",
       "<span style=\"color: #7fbfbf; text-decoration-color: #7fbfbf\">                    </span>         accepted by `<span style=\"color: #800080; text-decoration-color: #800080; font-weight: bold\">supervision.Detection.from_inference</span><span style=\"font-weight: bold\">(</span><span style=\"color: #808000; text-decoration-color: #808000\">...</span><span style=\"font-weight: bold\">)</span>                    <span style=\"color: #7f7f7f; text-decoration-color: #7f7f7f\">            </span>\n",
       "</pre>\n"
      ],
      "text/plain": [
       "\u001b[2;36m[06/28/24 11:29:07]\u001b[0m\u001b[2;36m \u001b[0m\u001b[31mWARNING \u001b[0m Used `\u001b[1;35mrender_boxes\u001b[0m\u001b[1m(\u001b[0m\u001b[33m...\u001b[0m\u001b[1m)\u001b[0m` sink, but predictions that were provided do not  \u001b]8;id=551766;file:///Users/saadia/Documents/DevIA_2024/coding_projects/ShiFuMi_computerVision/venv/lib/python3.9/site-packages/inference/core/interfaces/stream/sinks.py\u001b\\\u001b[2msinks.py\u001b[0m\u001b]8;;\u001b\\\u001b[2m:\u001b[0m\u001b]8;id=852323;file:///Users/saadia/Documents/DevIA_2024/coding_projects/ShiFuMi_computerVision/venv/lib/python3.9/site-packages/inference/core/interfaces/stream/sinks.py#176\u001b\\\u001b[2m176\u001b[0m\u001b]8;;\u001b\\\n",
       "\u001b[2;36m                    \u001b[0m         match the expected format of object detection prediction that could be    \u001b[2m            \u001b[0m\n",
       "\u001b[2;36m                    \u001b[0m         accepted by `\u001b[1;35msupervision.Detection.from_inference\u001b[0m\u001b[1m(\u001b[0m\u001b[33m...\u001b[0m\u001b[1m)\u001b[0m                    \u001b[2m            \u001b[0m\n"
      ]
     },
     "metadata": {},
     "output_type": "display_data"
    },
    {
     "name": "stdout",
     "output_type": "stream",
     "text": [
      "0: 384x640 1 person, 462.9ms\n",
      "Speed: 1.8ms preprocess, 462.9ms inference, 0.5ms postprocess per image at shape (1, 3, 384, 640)\n",
      "Predictions made: [{'boxes': [[314.7830810546875, 181.30963134765625, 989.2357177734375, 711.8861694335938]], 'scores': [0.9605764150619507], 'class_indices': [0.0]}]\n",
      "Video frames: 1\n",
      "\n"
     ]
    },
    {
     "data": {
      "text/html": [
       "<pre style=\"white-space:pre;overflow-x:auto;line-height:normal;font-family:Menlo,'DejaVu Sans Mono',consolas,'Courier New',monospace\"><span style=\"color: #7fbfbf; text-decoration-color: #7fbfbf\">                    </span><span style=\"color: #800000; text-decoration-color: #800000\">WARNING </span> Used `<span style=\"color: #800080; text-decoration-color: #800080; font-weight: bold\">render_boxes</span><span style=\"font-weight: bold\">(</span><span style=\"color: #808000; text-decoration-color: #808000\">...</span><span style=\"font-weight: bold\">)</span>` sink, but predictions that were provided do not  <a href=\"file:///Users/saadia/Documents/DevIA_2024/coding_projects/ShiFuMi_computerVision/venv/lib/python3.9/site-packages/inference/core/interfaces/stream/sinks.py\" target=\"_blank\"><span style=\"color: #7f7f7f; text-decoration-color: #7f7f7f\">sinks.py</span></a><span style=\"color: #7f7f7f; text-decoration-color: #7f7f7f\">:</span><a href=\"file:///Users/saadia/Documents/DevIA_2024/coding_projects/ShiFuMi_computerVision/venv/lib/python3.9/site-packages/inference/core/interfaces/stream/sinks.py#176\" target=\"_blank\"><span style=\"color: #7f7f7f; text-decoration-color: #7f7f7f\">176</span></a>\n",
       "<span style=\"color: #7fbfbf; text-decoration-color: #7fbfbf\">                    </span>         match the expected format of object detection prediction that could be    <span style=\"color: #7f7f7f; text-decoration-color: #7f7f7f\">            </span>\n",
       "<span style=\"color: #7fbfbf; text-decoration-color: #7fbfbf\">                    </span>         accepted by `<span style=\"color: #800080; text-decoration-color: #800080; font-weight: bold\">supervision.Detection.from_inference</span><span style=\"font-weight: bold\">(</span><span style=\"color: #808000; text-decoration-color: #808000\">...</span><span style=\"font-weight: bold\">)</span>                    <span style=\"color: #7f7f7f; text-decoration-color: #7f7f7f\">            </span>\n",
       "</pre>\n"
      ],
      "text/plain": [
       "\u001b[2;36m                   \u001b[0m\u001b[2;36m \u001b[0m\u001b[31mWARNING \u001b[0m Used `\u001b[1;35mrender_boxes\u001b[0m\u001b[1m(\u001b[0m\u001b[33m...\u001b[0m\u001b[1m)\u001b[0m` sink, but predictions that were provided do not  \u001b]8;id=980369;file:///Users/saadia/Documents/DevIA_2024/coding_projects/ShiFuMi_computerVision/venv/lib/python3.9/site-packages/inference/core/interfaces/stream/sinks.py\u001b\\\u001b[2msinks.py\u001b[0m\u001b]8;;\u001b\\\u001b[2m:\u001b[0m\u001b]8;id=697839;file:///Users/saadia/Documents/DevIA_2024/coding_projects/ShiFuMi_computerVision/venv/lib/python3.9/site-packages/inference/core/interfaces/stream/sinks.py#176\u001b\\\u001b[2m176\u001b[0m\u001b]8;;\u001b\\\n",
       "\u001b[2;36m                    \u001b[0m         match the expected format of object detection prediction that could be    \u001b[2m            \u001b[0m\n",
       "\u001b[2;36m                    \u001b[0m         accepted by `\u001b[1;35msupervision.Detection.from_inference\u001b[0m\u001b[1m(\u001b[0m\u001b[33m...\u001b[0m\u001b[1m)\u001b[0m                    \u001b[2m            \u001b[0m\n"
      ]
     },
     "metadata": {},
     "output_type": "display_data"
    },
    {
     "name": "stdout",
     "output_type": "stream",
     "text": [
      "0: 384x640 1 person, 1 toilet, 461.1ms\n",
      "Speed: 1.7ms preprocess, 461.1ms inference, 0.4ms postprocess per image at shape (1, 3, 384, 640)\n",
      "Predictions made: [{'boxes': [[314.24462890625, 181.3011474609375, 989.0787353515625, 711.748779296875], [99.04507446289062, 654.6950073242188, 270.46453857421875, 719.1561889648438]], 'scores': [0.9613088369369507, 0.2553267478942871], 'class_indices': [0.0, 61.0]}]\n",
      "Video frames: 1\n",
      "\n"
     ]
    },
    {
     "data": {
      "text/html": [
       "<pre style=\"white-space:pre;overflow-x:auto;line-height:normal;font-family:Menlo,'DejaVu Sans Mono',consolas,'Courier New',monospace\"><span style=\"color: #7fbfbf; text-decoration-color: #7fbfbf\">[06/28/24 11:29:08] </span><span style=\"color: #800000; text-decoration-color: #800000\">WARNING </span> Used `<span style=\"color: #800080; text-decoration-color: #800080; font-weight: bold\">render_boxes</span><span style=\"font-weight: bold\">(</span><span style=\"color: #808000; text-decoration-color: #808000\">...</span><span style=\"font-weight: bold\">)</span>` sink, but predictions that were provided do not  <a href=\"file:///Users/saadia/Documents/DevIA_2024/coding_projects/ShiFuMi_computerVision/venv/lib/python3.9/site-packages/inference/core/interfaces/stream/sinks.py\" target=\"_blank\"><span style=\"color: #7f7f7f; text-decoration-color: #7f7f7f\">sinks.py</span></a><span style=\"color: #7f7f7f; text-decoration-color: #7f7f7f\">:</span><a href=\"file:///Users/saadia/Documents/DevIA_2024/coding_projects/ShiFuMi_computerVision/venv/lib/python3.9/site-packages/inference/core/interfaces/stream/sinks.py#176\" target=\"_blank\"><span style=\"color: #7f7f7f; text-decoration-color: #7f7f7f\">176</span></a>\n",
       "<span style=\"color: #7fbfbf; text-decoration-color: #7fbfbf\">                    </span>         match the expected format of object detection prediction that could be    <span style=\"color: #7f7f7f; text-decoration-color: #7f7f7f\">            </span>\n",
       "<span style=\"color: #7fbfbf; text-decoration-color: #7fbfbf\">                    </span>         accepted by `<span style=\"color: #800080; text-decoration-color: #800080; font-weight: bold\">supervision.Detection.from_inference</span><span style=\"font-weight: bold\">(</span><span style=\"color: #808000; text-decoration-color: #808000\">...</span><span style=\"font-weight: bold\">)</span>                    <span style=\"color: #7f7f7f; text-decoration-color: #7f7f7f\">            </span>\n",
       "</pre>\n"
      ],
      "text/plain": [
       "\u001b[2;36m[06/28/24 11:29:08]\u001b[0m\u001b[2;36m \u001b[0m\u001b[31mWARNING \u001b[0m Used `\u001b[1;35mrender_boxes\u001b[0m\u001b[1m(\u001b[0m\u001b[33m...\u001b[0m\u001b[1m)\u001b[0m` sink, but predictions that were provided do not  \u001b]8;id=243765;file:///Users/saadia/Documents/DevIA_2024/coding_projects/ShiFuMi_computerVision/venv/lib/python3.9/site-packages/inference/core/interfaces/stream/sinks.py\u001b\\\u001b[2msinks.py\u001b[0m\u001b]8;;\u001b\\\u001b[2m:\u001b[0m\u001b]8;id=259309;file:///Users/saadia/Documents/DevIA_2024/coding_projects/ShiFuMi_computerVision/venv/lib/python3.9/site-packages/inference/core/interfaces/stream/sinks.py#176\u001b\\\u001b[2m176\u001b[0m\u001b]8;;\u001b\\\n",
       "\u001b[2;36m                    \u001b[0m         match the expected format of object detection prediction that could be    \u001b[2m            \u001b[0m\n",
       "\u001b[2;36m                    \u001b[0m         accepted by `\u001b[1;35msupervision.Detection.from_inference\u001b[0m\u001b[1m(\u001b[0m\u001b[33m...\u001b[0m\u001b[1m)\u001b[0m                    \u001b[2m            \u001b[0m\n"
      ]
     },
     "metadata": {},
     "output_type": "display_data"
    },
    {
     "name": "stdout",
     "output_type": "stream",
     "text": [
      "0: 384x640 1 person, 1 toilet, 459.1ms\n",
      "Speed: 2.0ms preprocess, 459.1ms inference, 0.4ms postprocess per image at shape (1, 3, 384, 640)\n",
      "Predictions made: [{'boxes': [[314.4512939453125, 181.36700439453125, 989.0791015625, 711.9288940429688], [101.46151733398438, 654.6685791015625, 270.64239501953125, 719.2545166015625]], 'scores': [0.9614150524139404, 0.28268009424209595], 'class_indices': [0.0, 61.0]}]\n",
      "Video frames: 1\n",
      "\n"
     ]
    },
    {
     "data": {
      "text/html": [
       "<pre style=\"white-space:pre;overflow-x:auto;line-height:normal;font-family:Menlo,'DejaVu Sans Mono',consolas,'Courier New',monospace\"><span style=\"color: #7fbfbf; text-decoration-color: #7fbfbf\">                    </span><span style=\"color: #800000; text-decoration-color: #800000\">WARNING </span> Used `<span style=\"color: #800080; text-decoration-color: #800080; font-weight: bold\">render_boxes</span><span style=\"font-weight: bold\">(</span><span style=\"color: #808000; text-decoration-color: #808000\">...</span><span style=\"font-weight: bold\">)</span>` sink, but predictions that were provided do not  <a href=\"file:///Users/saadia/Documents/DevIA_2024/coding_projects/ShiFuMi_computerVision/venv/lib/python3.9/site-packages/inference/core/interfaces/stream/sinks.py\" target=\"_blank\"><span style=\"color: #7f7f7f; text-decoration-color: #7f7f7f\">sinks.py</span></a><span style=\"color: #7f7f7f; text-decoration-color: #7f7f7f\">:</span><a href=\"file:///Users/saadia/Documents/DevIA_2024/coding_projects/ShiFuMi_computerVision/venv/lib/python3.9/site-packages/inference/core/interfaces/stream/sinks.py#176\" target=\"_blank\"><span style=\"color: #7f7f7f; text-decoration-color: #7f7f7f\">176</span></a>\n",
       "<span style=\"color: #7fbfbf; text-decoration-color: #7fbfbf\">                    </span>         match the expected format of object detection prediction that could be    <span style=\"color: #7f7f7f; text-decoration-color: #7f7f7f\">            </span>\n",
       "<span style=\"color: #7fbfbf; text-decoration-color: #7fbfbf\">                    </span>         accepted by `<span style=\"color: #800080; text-decoration-color: #800080; font-weight: bold\">supervision.Detection.from_inference</span><span style=\"font-weight: bold\">(</span><span style=\"color: #808000; text-decoration-color: #808000\">...</span><span style=\"font-weight: bold\">)</span>                    <span style=\"color: #7f7f7f; text-decoration-color: #7f7f7f\">            </span>\n",
       "</pre>\n"
      ],
      "text/plain": [
       "\u001b[2;36m                   \u001b[0m\u001b[2;36m \u001b[0m\u001b[31mWARNING \u001b[0m Used `\u001b[1;35mrender_boxes\u001b[0m\u001b[1m(\u001b[0m\u001b[33m...\u001b[0m\u001b[1m)\u001b[0m` sink, but predictions that were provided do not  \u001b]8;id=566383;file:///Users/saadia/Documents/DevIA_2024/coding_projects/ShiFuMi_computerVision/venv/lib/python3.9/site-packages/inference/core/interfaces/stream/sinks.py\u001b\\\u001b[2msinks.py\u001b[0m\u001b]8;;\u001b\\\u001b[2m:\u001b[0m\u001b]8;id=70397;file:///Users/saadia/Documents/DevIA_2024/coding_projects/ShiFuMi_computerVision/venv/lib/python3.9/site-packages/inference/core/interfaces/stream/sinks.py#176\u001b\\\u001b[2m176\u001b[0m\u001b]8;;\u001b\\\n",
       "\u001b[2;36m                    \u001b[0m         match the expected format of object detection prediction that could be    \u001b[2m            \u001b[0m\n",
       "\u001b[2;36m                    \u001b[0m         accepted by `\u001b[1;35msupervision.Detection.from_inference\u001b[0m\u001b[1m(\u001b[0m\u001b[33m...\u001b[0m\u001b[1m)\u001b[0m                    \u001b[2m            \u001b[0m\n"
      ]
     },
     "metadata": {},
     "output_type": "display_data"
    },
    {
     "name": "stdout",
     "output_type": "stream",
     "text": [
      "0: 384x640 1 person, 1 toilet, 472.0ms\n",
      "Speed: 1.7ms preprocess, 472.0ms inference, 0.5ms postprocess per image at shape (1, 3, 384, 640)\n",
      "Predictions made: [{'boxes': [[313.246826171875, 181.925048828125, 989.5458984375, 711.879150390625], [100.83212280273438, 655.2952880859375, 270.457275390625, 719.0045166015625]], 'scores': [0.9603214859962463, 0.2546190321445465], 'class_indices': [0.0, 61.0]}]\n",
      "Video frames: 1\n",
      "\n"
     ]
    },
    {
     "data": {
      "text/html": [
       "<pre style=\"white-space:pre;overflow-x:auto;line-height:normal;font-family:Menlo,'DejaVu Sans Mono',consolas,'Courier New',monospace\"><span style=\"color: #7fbfbf; text-decoration-color: #7fbfbf\">[06/28/24 11:29:09] </span><span style=\"color: #800000; text-decoration-color: #800000\">WARNING </span> Used `<span style=\"color: #800080; text-decoration-color: #800080; font-weight: bold\">render_boxes</span><span style=\"font-weight: bold\">(</span><span style=\"color: #808000; text-decoration-color: #808000\">...</span><span style=\"font-weight: bold\">)</span>` sink, but predictions that were provided do not  <a href=\"file:///Users/saadia/Documents/DevIA_2024/coding_projects/ShiFuMi_computerVision/venv/lib/python3.9/site-packages/inference/core/interfaces/stream/sinks.py\" target=\"_blank\"><span style=\"color: #7f7f7f; text-decoration-color: #7f7f7f\">sinks.py</span></a><span style=\"color: #7f7f7f; text-decoration-color: #7f7f7f\">:</span><a href=\"file:///Users/saadia/Documents/DevIA_2024/coding_projects/ShiFuMi_computerVision/venv/lib/python3.9/site-packages/inference/core/interfaces/stream/sinks.py#176\" target=\"_blank\"><span style=\"color: #7f7f7f; text-decoration-color: #7f7f7f\">176</span></a>\n",
       "<span style=\"color: #7fbfbf; text-decoration-color: #7fbfbf\">                    </span>         match the expected format of object detection prediction that could be    <span style=\"color: #7f7f7f; text-decoration-color: #7f7f7f\">            </span>\n",
       "<span style=\"color: #7fbfbf; text-decoration-color: #7fbfbf\">                    </span>         accepted by `<span style=\"color: #800080; text-decoration-color: #800080; font-weight: bold\">supervision.Detection.from_inference</span><span style=\"font-weight: bold\">(</span><span style=\"color: #808000; text-decoration-color: #808000\">...</span><span style=\"font-weight: bold\">)</span>                    <span style=\"color: #7f7f7f; text-decoration-color: #7f7f7f\">            </span>\n",
       "</pre>\n"
      ],
      "text/plain": [
       "\u001b[2;36m[06/28/24 11:29:09]\u001b[0m\u001b[2;36m \u001b[0m\u001b[31mWARNING \u001b[0m Used `\u001b[1;35mrender_boxes\u001b[0m\u001b[1m(\u001b[0m\u001b[33m...\u001b[0m\u001b[1m)\u001b[0m` sink, but predictions that were provided do not  \u001b]8;id=135059;file:///Users/saadia/Documents/DevIA_2024/coding_projects/ShiFuMi_computerVision/venv/lib/python3.9/site-packages/inference/core/interfaces/stream/sinks.py\u001b\\\u001b[2msinks.py\u001b[0m\u001b]8;;\u001b\\\u001b[2m:\u001b[0m\u001b]8;id=730159;file:///Users/saadia/Documents/DevIA_2024/coding_projects/ShiFuMi_computerVision/venv/lib/python3.9/site-packages/inference/core/interfaces/stream/sinks.py#176\u001b\\\u001b[2m176\u001b[0m\u001b]8;;\u001b\\\n",
       "\u001b[2;36m                    \u001b[0m         match the expected format of object detection prediction that could be    \u001b[2m            \u001b[0m\n",
       "\u001b[2;36m                    \u001b[0m         accepted by `\u001b[1;35msupervision.Detection.from_inference\u001b[0m\u001b[1m(\u001b[0m\u001b[33m...\u001b[0m\u001b[1m)\u001b[0m                    \u001b[2m            \u001b[0m\n"
      ]
     },
     "metadata": {},
     "output_type": "display_data"
    },
    {
     "name": "stdout",
     "output_type": "stream",
     "text": [
      "0: 384x640 1 person, 1 toilet, 462.0ms\n",
      "Speed: 1.8ms preprocess, 462.0ms inference, 0.6ms postprocess per image at shape (1, 3, 384, 640)\n",
      "Predictions made: [{'boxes': [[311.7054443359375, 182.4794921875, 990.6956787109375, 711.79736328125], [101.14447021484375, 654.8748168945312, 270.43524169921875, 719.1593627929688]], 'scores': [0.9615822434425354, 0.321582555770874], 'class_indices': [0.0, 61.0]}]\n",
      "Video frames: 1\n",
      "\n"
     ]
    },
    {
     "data": {
      "text/html": [
       "<pre style=\"white-space:pre;overflow-x:auto;line-height:normal;font-family:Menlo,'DejaVu Sans Mono',consolas,'Courier New',monospace\"><span style=\"color: #7fbfbf; text-decoration-color: #7fbfbf\">                    </span><span style=\"color: #800000; text-decoration-color: #800000\">WARNING </span> Used `<span style=\"color: #800080; text-decoration-color: #800080; font-weight: bold\">render_boxes</span><span style=\"font-weight: bold\">(</span><span style=\"color: #808000; text-decoration-color: #808000\">...</span><span style=\"font-weight: bold\">)</span>` sink, but predictions that were provided do not  <a href=\"file:///Users/saadia/Documents/DevIA_2024/coding_projects/ShiFuMi_computerVision/venv/lib/python3.9/site-packages/inference/core/interfaces/stream/sinks.py\" target=\"_blank\"><span style=\"color: #7f7f7f; text-decoration-color: #7f7f7f\">sinks.py</span></a><span style=\"color: #7f7f7f; text-decoration-color: #7f7f7f\">:</span><a href=\"file:///Users/saadia/Documents/DevIA_2024/coding_projects/ShiFuMi_computerVision/venv/lib/python3.9/site-packages/inference/core/interfaces/stream/sinks.py#176\" target=\"_blank\"><span style=\"color: #7f7f7f; text-decoration-color: #7f7f7f\">176</span></a>\n",
       "<span style=\"color: #7fbfbf; text-decoration-color: #7fbfbf\">                    </span>         match the expected format of object detection prediction that could be    <span style=\"color: #7f7f7f; text-decoration-color: #7f7f7f\">            </span>\n",
       "<span style=\"color: #7fbfbf; text-decoration-color: #7fbfbf\">                    </span>         accepted by `<span style=\"color: #800080; text-decoration-color: #800080; font-weight: bold\">supervision.Detection.from_inference</span><span style=\"font-weight: bold\">(</span><span style=\"color: #808000; text-decoration-color: #808000\">...</span><span style=\"font-weight: bold\">)</span>                    <span style=\"color: #7f7f7f; text-decoration-color: #7f7f7f\">            </span>\n",
       "</pre>\n"
      ],
      "text/plain": [
       "\u001b[2;36m                   \u001b[0m\u001b[2;36m \u001b[0m\u001b[31mWARNING \u001b[0m Used `\u001b[1;35mrender_boxes\u001b[0m\u001b[1m(\u001b[0m\u001b[33m...\u001b[0m\u001b[1m)\u001b[0m` sink, but predictions that were provided do not  \u001b]8;id=690695;file:///Users/saadia/Documents/DevIA_2024/coding_projects/ShiFuMi_computerVision/venv/lib/python3.9/site-packages/inference/core/interfaces/stream/sinks.py\u001b\\\u001b[2msinks.py\u001b[0m\u001b]8;;\u001b\\\u001b[2m:\u001b[0m\u001b]8;id=60659;file:///Users/saadia/Documents/DevIA_2024/coding_projects/ShiFuMi_computerVision/venv/lib/python3.9/site-packages/inference/core/interfaces/stream/sinks.py#176\u001b\\\u001b[2m176\u001b[0m\u001b]8;;\u001b\\\n",
       "\u001b[2;36m                    \u001b[0m         match the expected format of object detection prediction that could be    \u001b[2m            \u001b[0m\n",
       "\u001b[2;36m                    \u001b[0m         accepted by `\u001b[1;35msupervision.Detection.from_inference\u001b[0m\u001b[1m(\u001b[0m\u001b[33m...\u001b[0m\u001b[1m)\u001b[0m                    \u001b[2m            \u001b[0m\n"
      ]
     },
     "metadata": {},
     "output_type": "display_data"
    },
    {
     "name": "stdout",
     "output_type": "stream",
     "text": [
      "0: 384x640 1 person, 1 toilet, 460.2ms\n",
      "Speed: 2.4ms preprocess, 460.2ms inference, 0.4ms postprocess per image at shape (1, 3, 384, 640)\n",
      "Predictions made: [{'boxes': [[311.4345703125, 181.2064208984375, 990.22607421875, 711.5731811523438], [99.14004516601562, 653.88623046875, 270.22039794921875, 719.0347900390625]], 'scores': [0.9575160145759583, 0.25805309414863586], 'class_indices': [0.0, 61.0]}]\n",
      "Video frames: 1\n",
      "\n"
     ]
    },
    {
     "data": {
      "text/html": [
       "<pre style=\"white-space:pre;overflow-x:auto;line-height:normal;font-family:Menlo,'DejaVu Sans Mono',consolas,'Courier New',monospace\"><span style=\"color: #7fbfbf; text-decoration-color: #7fbfbf\">[06/28/24 11:29:10] </span><span style=\"color: #800000; text-decoration-color: #800000\">WARNING </span> Used `<span style=\"color: #800080; text-decoration-color: #800080; font-weight: bold\">render_boxes</span><span style=\"font-weight: bold\">(</span><span style=\"color: #808000; text-decoration-color: #808000\">...</span><span style=\"font-weight: bold\">)</span>` sink, but predictions that were provided do not  <a href=\"file:///Users/saadia/Documents/DevIA_2024/coding_projects/ShiFuMi_computerVision/venv/lib/python3.9/site-packages/inference/core/interfaces/stream/sinks.py\" target=\"_blank\"><span style=\"color: #7f7f7f; text-decoration-color: #7f7f7f\">sinks.py</span></a><span style=\"color: #7f7f7f; text-decoration-color: #7f7f7f\">:</span><a href=\"file:///Users/saadia/Documents/DevIA_2024/coding_projects/ShiFuMi_computerVision/venv/lib/python3.9/site-packages/inference/core/interfaces/stream/sinks.py#176\" target=\"_blank\"><span style=\"color: #7f7f7f; text-decoration-color: #7f7f7f\">176</span></a>\n",
       "<span style=\"color: #7fbfbf; text-decoration-color: #7fbfbf\">                    </span>         match the expected format of object detection prediction that could be    <span style=\"color: #7f7f7f; text-decoration-color: #7f7f7f\">            </span>\n",
       "<span style=\"color: #7fbfbf; text-decoration-color: #7fbfbf\">                    </span>         accepted by `<span style=\"color: #800080; text-decoration-color: #800080; font-weight: bold\">supervision.Detection.from_inference</span><span style=\"font-weight: bold\">(</span><span style=\"color: #808000; text-decoration-color: #808000\">...</span><span style=\"font-weight: bold\">)</span>                    <span style=\"color: #7f7f7f; text-decoration-color: #7f7f7f\">            </span>\n",
       "</pre>\n"
      ],
      "text/plain": [
       "\u001b[2;36m[06/28/24 11:29:10]\u001b[0m\u001b[2;36m \u001b[0m\u001b[31mWARNING \u001b[0m Used `\u001b[1;35mrender_boxes\u001b[0m\u001b[1m(\u001b[0m\u001b[33m...\u001b[0m\u001b[1m)\u001b[0m` sink, but predictions that were provided do not  \u001b]8;id=176390;file:///Users/saadia/Documents/DevIA_2024/coding_projects/ShiFuMi_computerVision/venv/lib/python3.9/site-packages/inference/core/interfaces/stream/sinks.py\u001b\\\u001b[2msinks.py\u001b[0m\u001b]8;;\u001b\\\u001b[2m:\u001b[0m\u001b]8;id=34399;file:///Users/saadia/Documents/DevIA_2024/coding_projects/ShiFuMi_computerVision/venv/lib/python3.9/site-packages/inference/core/interfaces/stream/sinks.py#176\u001b\\\u001b[2m176\u001b[0m\u001b]8;;\u001b\\\n",
       "\u001b[2;36m                    \u001b[0m         match the expected format of object detection prediction that could be    \u001b[2m            \u001b[0m\n",
       "\u001b[2;36m                    \u001b[0m         accepted by `\u001b[1;35msupervision.Detection.from_inference\u001b[0m\u001b[1m(\u001b[0m\u001b[33m...\u001b[0m\u001b[1m)\u001b[0m                    \u001b[2m            \u001b[0m\n"
      ]
     },
     "metadata": {},
     "output_type": "display_data"
    },
    {
     "name": "stdout",
     "output_type": "stream",
     "text": [
      "0: 384x640 1 person, 458.6ms\n",
      "Speed: 1.5ms preprocess, 458.6ms inference, 0.5ms postprocess per image at shape (1, 3, 384, 640)\n",
      "Predictions made: [{'boxes': [[312.9346008300781, 181.97796630859375, 990.469482421875, 711.7099609375]], 'scores': [0.9601266980171204], 'class_indices': [0.0]}]\n",
      "Video frames: 1\n",
      "\n"
     ]
    },
    {
     "data": {
      "text/html": [
       "<pre style=\"white-space:pre;overflow-x:auto;line-height:normal;font-family:Menlo,'DejaVu Sans Mono',consolas,'Courier New',monospace\"><span style=\"color: #7fbfbf; text-decoration-color: #7fbfbf\">                    </span><span style=\"color: #800000; text-decoration-color: #800000\">WARNING </span> Used `<span style=\"color: #800080; text-decoration-color: #800080; font-weight: bold\">render_boxes</span><span style=\"font-weight: bold\">(</span><span style=\"color: #808000; text-decoration-color: #808000\">...</span><span style=\"font-weight: bold\">)</span>` sink, but predictions that were provided do not  <a href=\"file:///Users/saadia/Documents/DevIA_2024/coding_projects/ShiFuMi_computerVision/venv/lib/python3.9/site-packages/inference/core/interfaces/stream/sinks.py\" target=\"_blank\"><span style=\"color: #7f7f7f; text-decoration-color: #7f7f7f\">sinks.py</span></a><span style=\"color: #7f7f7f; text-decoration-color: #7f7f7f\">:</span><a href=\"file:///Users/saadia/Documents/DevIA_2024/coding_projects/ShiFuMi_computerVision/venv/lib/python3.9/site-packages/inference/core/interfaces/stream/sinks.py#176\" target=\"_blank\"><span style=\"color: #7f7f7f; text-decoration-color: #7f7f7f\">176</span></a>\n",
       "<span style=\"color: #7fbfbf; text-decoration-color: #7fbfbf\">                    </span>         match the expected format of object detection prediction that could be    <span style=\"color: #7f7f7f; text-decoration-color: #7f7f7f\">            </span>\n",
       "<span style=\"color: #7fbfbf; text-decoration-color: #7fbfbf\">                    </span>         accepted by `<span style=\"color: #800080; text-decoration-color: #800080; font-weight: bold\">supervision.Detection.from_inference</span><span style=\"font-weight: bold\">(</span><span style=\"color: #808000; text-decoration-color: #808000\">...</span><span style=\"font-weight: bold\">)</span>                    <span style=\"color: #7f7f7f; text-decoration-color: #7f7f7f\">            </span>\n",
       "</pre>\n"
      ],
      "text/plain": [
       "\u001b[2;36m                   \u001b[0m\u001b[2;36m \u001b[0m\u001b[31mWARNING \u001b[0m Used `\u001b[1;35mrender_boxes\u001b[0m\u001b[1m(\u001b[0m\u001b[33m...\u001b[0m\u001b[1m)\u001b[0m` sink, but predictions that were provided do not  \u001b]8;id=432683;file:///Users/saadia/Documents/DevIA_2024/coding_projects/ShiFuMi_computerVision/venv/lib/python3.9/site-packages/inference/core/interfaces/stream/sinks.py\u001b\\\u001b[2msinks.py\u001b[0m\u001b]8;;\u001b\\\u001b[2m:\u001b[0m\u001b]8;id=687511;file:///Users/saadia/Documents/DevIA_2024/coding_projects/ShiFuMi_computerVision/venv/lib/python3.9/site-packages/inference/core/interfaces/stream/sinks.py#176\u001b\\\u001b[2m176\u001b[0m\u001b]8;;\u001b\\\n",
       "\u001b[2;36m                    \u001b[0m         match the expected format of object detection prediction that could be    \u001b[2m            \u001b[0m\n",
       "\u001b[2;36m                    \u001b[0m         accepted by `\u001b[1;35msupervision.Detection.from_inference\u001b[0m\u001b[1m(\u001b[0m\u001b[33m...\u001b[0m\u001b[1m)\u001b[0m                    \u001b[2m            \u001b[0m\n"
      ]
     },
     "metadata": {},
     "output_type": "display_data"
    },
    {
     "name": "stdout",
     "output_type": "stream",
     "text": [
      "0: 384x640 1 person, 465.8ms\n",
      "Speed: 1.9ms preprocess, 465.8ms inference, 0.4ms postprocess per image at shape (1, 3, 384, 640)\n",
      "Predictions made: [{'boxes': [[314.44488525390625, 181.97332763671875, 989.3024291992188, 711.9839477539062]], 'scores': [0.95587557554245], 'class_indices': [0.0]}]\n",
      "Video frames: 1\n",
      "\n"
     ]
    },
    {
     "data": {
      "text/html": [
       "<pre style=\"white-space:pre;overflow-x:auto;line-height:normal;font-family:Menlo,'DejaVu Sans Mono',consolas,'Courier New',monospace\"><span style=\"color: #7fbfbf; text-decoration-color: #7fbfbf\">[06/28/24 11:29:11] </span><span style=\"color: #800000; text-decoration-color: #800000\">WARNING </span> Used `<span style=\"color: #800080; text-decoration-color: #800080; font-weight: bold\">render_boxes</span><span style=\"font-weight: bold\">(</span><span style=\"color: #808000; text-decoration-color: #808000\">...</span><span style=\"font-weight: bold\">)</span>` sink, but predictions that were provided do not  <a href=\"file:///Users/saadia/Documents/DevIA_2024/coding_projects/ShiFuMi_computerVision/venv/lib/python3.9/site-packages/inference/core/interfaces/stream/sinks.py\" target=\"_blank\"><span style=\"color: #7f7f7f; text-decoration-color: #7f7f7f\">sinks.py</span></a><span style=\"color: #7f7f7f; text-decoration-color: #7f7f7f\">:</span><a href=\"file:///Users/saadia/Documents/DevIA_2024/coding_projects/ShiFuMi_computerVision/venv/lib/python3.9/site-packages/inference/core/interfaces/stream/sinks.py#176\" target=\"_blank\"><span style=\"color: #7f7f7f; text-decoration-color: #7f7f7f\">176</span></a>\n",
       "<span style=\"color: #7fbfbf; text-decoration-color: #7fbfbf\">                    </span>         match the expected format of object detection prediction that could be    <span style=\"color: #7f7f7f; text-decoration-color: #7f7f7f\">            </span>\n",
       "<span style=\"color: #7fbfbf; text-decoration-color: #7fbfbf\">                    </span>         accepted by `<span style=\"color: #800080; text-decoration-color: #800080; font-weight: bold\">supervision.Detection.from_inference</span><span style=\"font-weight: bold\">(</span><span style=\"color: #808000; text-decoration-color: #808000\">...</span><span style=\"font-weight: bold\">)</span>                    <span style=\"color: #7f7f7f; text-decoration-color: #7f7f7f\">            </span>\n",
       "</pre>\n"
      ],
      "text/plain": [
       "\u001b[2;36m[06/28/24 11:29:11]\u001b[0m\u001b[2;36m \u001b[0m\u001b[31mWARNING \u001b[0m Used `\u001b[1;35mrender_boxes\u001b[0m\u001b[1m(\u001b[0m\u001b[33m...\u001b[0m\u001b[1m)\u001b[0m` sink, but predictions that were provided do not  \u001b]8;id=33510;file:///Users/saadia/Documents/DevIA_2024/coding_projects/ShiFuMi_computerVision/venv/lib/python3.9/site-packages/inference/core/interfaces/stream/sinks.py\u001b\\\u001b[2msinks.py\u001b[0m\u001b]8;;\u001b\\\u001b[2m:\u001b[0m\u001b]8;id=8523;file:///Users/saadia/Documents/DevIA_2024/coding_projects/ShiFuMi_computerVision/venv/lib/python3.9/site-packages/inference/core/interfaces/stream/sinks.py#176\u001b\\\u001b[2m176\u001b[0m\u001b]8;;\u001b\\\n",
       "\u001b[2;36m                    \u001b[0m         match the expected format of object detection prediction that could be    \u001b[2m            \u001b[0m\n",
       "\u001b[2;36m                    \u001b[0m         accepted by `\u001b[1;35msupervision.Detection.from_inference\u001b[0m\u001b[1m(\u001b[0m\u001b[33m...\u001b[0m\u001b[1m)\u001b[0m                    \u001b[2m            \u001b[0m\n"
      ]
     },
     "metadata": {},
     "output_type": "display_data"
    },
    {
     "name": "stdout",
     "output_type": "stream",
     "text": [
      "0: 384x640 1 person, 457.1ms\n",
      "Speed: 1.7ms preprocess, 457.1ms inference, 0.5ms postprocess per image at shape (1, 3, 384, 640)\n",
      "Predictions made: [{'boxes': [[315.2807312011719, 181.275634765625, 988.906982421875, 712.3692626953125]], 'scores': [0.9596673846244812], 'class_indices': [0.0]}]\n",
      "Video frames: 1\n",
      "\n"
     ]
    },
    {
     "data": {
      "text/html": [
       "<pre style=\"white-space:pre;overflow-x:auto;line-height:normal;font-family:Menlo,'DejaVu Sans Mono',consolas,'Courier New',monospace\"><span style=\"color: #7fbfbf; text-decoration-color: #7fbfbf\">                    </span><span style=\"color: #800000; text-decoration-color: #800000\">WARNING </span> Used `<span style=\"color: #800080; text-decoration-color: #800080; font-weight: bold\">render_boxes</span><span style=\"font-weight: bold\">(</span><span style=\"color: #808000; text-decoration-color: #808000\">...</span><span style=\"font-weight: bold\">)</span>` sink, but predictions that were provided do not  <a href=\"file:///Users/saadia/Documents/DevIA_2024/coding_projects/ShiFuMi_computerVision/venv/lib/python3.9/site-packages/inference/core/interfaces/stream/sinks.py\" target=\"_blank\"><span style=\"color: #7f7f7f; text-decoration-color: #7f7f7f\">sinks.py</span></a><span style=\"color: #7f7f7f; text-decoration-color: #7f7f7f\">:</span><a href=\"file:///Users/saadia/Documents/DevIA_2024/coding_projects/ShiFuMi_computerVision/venv/lib/python3.9/site-packages/inference/core/interfaces/stream/sinks.py#176\" target=\"_blank\"><span style=\"color: #7f7f7f; text-decoration-color: #7f7f7f\">176</span></a>\n",
       "<span style=\"color: #7fbfbf; text-decoration-color: #7fbfbf\">                    </span>         match the expected format of object detection prediction that could be    <span style=\"color: #7f7f7f; text-decoration-color: #7f7f7f\">            </span>\n",
       "<span style=\"color: #7fbfbf; text-decoration-color: #7fbfbf\">                    </span>         accepted by `<span style=\"color: #800080; text-decoration-color: #800080; font-weight: bold\">supervision.Detection.from_inference</span><span style=\"font-weight: bold\">(</span><span style=\"color: #808000; text-decoration-color: #808000\">...</span><span style=\"font-weight: bold\">)</span>                    <span style=\"color: #7f7f7f; text-decoration-color: #7f7f7f\">            </span>\n",
       "</pre>\n"
      ],
      "text/plain": [
       "\u001b[2;36m                   \u001b[0m\u001b[2;36m \u001b[0m\u001b[31mWARNING \u001b[0m Used `\u001b[1;35mrender_boxes\u001b[0m\u001b[1m(\u001b[0m\u001b[33m...\u001b[0m\u001b[1m)\u001b[0m` sink, but predictions that were provided do not  \u001b]8;id=850306;file:///Users/saadia/Documents/DevIA_2024/coding_projects/ShiFuMi_computerVision/venv/lib/python3.9/site-packages/inference/core/interfaces/stream/sinks.py\u001b\\\u001b[2msinks.py\u001b[0m\u001b]8;;\u001b\\\u001b[2m:\u001b[0m\u001b]8;id=965779;file:///Users/saadia/Documents/DevIA_2024/coding_projects/ShiFuMi_computerVision/venv/lib/python3.9/site-packages/inference/core/interfaces/stream/sinks.py#176\u001b\\\u001b[2m176\u001b[0m\u001b]8;;\u001b\\\n",
       "\u001b[2;36m                    \u001b[0m         match the expected format of object detection prediction that could be    \u001b[2m            \u001b[0m\n",
       "\u001b[2;36m                    \u001b[0m         accepted by `\u001b[1;35msupervision.Detection.from_inference\u001b[0m\u001b[1m(\u001b[0m\u001b[33m...\u001b[0m\u001b[1m)\u001b[0m                    \u001b[2m            \u001b[0m\n"
      ]
     },
     "metadata": {},
     "output_type": "display_data"
    },
    {
     "name": "stdout",
     "output_type": "stream",
     "text": [
      "0: 384x640 1 person, 1 toilet, 464.3ms\n",
      "Speed: 1.8ms preprocess, 464.3ms inference, 0.5ms postprocess per image at shape (1, 3, 384, 640)\n",
      "Predictions made: [{'boxes': [[316.1727600097656, 181.6700439453125, 988.8057861328125, 712.6256103515625], [101.21271514892578, 654.53759765625, 270.66552734375, 719.113037109375]], 'scores': [0.9582110643386841, 0.3030565083026886], 'class_indices': [0.0, 61.0]}]\n",
      "Video frames: 1\n",
      "\n"
     ]
    },
    {
     "data": {
      "text/html": [
       "<pre style=\"white-space:pre;overflow-x:auto;line-height:normal;font-family:Menlo,'DejaVu Sans Mono',consolas,'Courier New',monospace\"><span style=\"color: #7fbfbf; text-decoration-color: #7fbfbf\">[06/28/24 11:29:12] </span><span style=\"color: #800000; text-decoration-color: #800000\">WARNING </span> Used `<span style=\"color: #800080; text-decoration-color: #800080; font-weight: bold\">render_boxes</span><span style=\"font-weight: bold\">(</span><span style=\"color: #808000; text-decoration-color: #808000\">...</span><span style=\"font-weight: bold\">)</span>` sink, but predictions that were provided do not  <a href=\"file:///Users/saadia/Documents/DevIA_2024/coding_projects/ShiFuMi_computerVision/venv/lib/python3.9/site-packages/inference/core/interfaces/stream/sinks.py\" target=\"_blank\"><span style=\"color: #7f7f7f; text-decoration-color: #7f7f7f\">sinks.py</span></a><span style=\"color: #7f7f7f; text-decoration-color: #7f7f7f\">:</span><a href=\"file:///Users/saadia/Documents/DevIA_2024/coding_projects/ShiFuMi_computerVision/venv/lib/python3.9/site-packages/inference/core/interfaces/stream/sinks.py#176\" target=\"_blank\"><span style=\"color: #7f7f7f; text-decoration-color: #7f7f7f\">176</span></a>\n",
       "<span style=\"color: #7fbfbf; text-decoration-color: #7fbfbf\">                    </span>         match the expected format of object detection prediction that could be    <span style=\"color: #7f7f7f; text-decoration-color: #7f7f7f\">            </span>\n",
       "<span style=\"color: #7fbfbf; text-decoration-color: #7fbfbf\">                    </span>         accepted by `<span style=\"color: #800080; text-decoration-color: #800080; font-weight: bold\">supervision.Detection.from_inference</span><span style=\"font-weight: bold\">(</span><span style=\"color: #808000; text-decoration-color: #808000\">...</span><span style=\"font-weight: bold\">)</span>                    <span style=\"color: #7f7f7f; text-decoration-color: #7f7f7f\">            </span>\n",
       "</pre>\n"
      ],
      "text/plain": [
       "\u001b[2;36m[06/28/24 11:29:12]\u001b[0m\u001b[2;36m \u001b[0m\u001b[31mWARNING \u001b[0m Used `\u001b[1;35mrender_boxes\u001b[0m\u001b[1m(\u001b[0m\u001b[33m...\u001b[0m\u001b[1m)\u001b[0m` sink, but predictions that were provided do not  \u001b]8;id=366488;file:///Users/saadia/Documents/DevIA_2024/coding_projects/ShiFuMi_computerVision/venv/lib/python3.9/site-packages/inference/core/interfaces/stream/sinks.py\u001b\\\u001b[2msinks.py\u001b[0m\u001b]8;;\u001b\\\u001b[2m:\u001b[0m\u001b]8;id=416129;file:///Users/saadia/Documents/DevIA_2024/coding_projects/ShiFuMi_computerVision/venv/lib/python3.9/site-packages/inference/core/interfaces/stream/sinks.py#176\u001b\\\u001b[2m176\u001b[0m\u001b]8;;\u001b\\\n",
       "\u001b[2;36m                    \u001b[0m         match the expected format of object detection prediction that could be    \u001b[2m            \u001b[0m\n",
       "\u001b[2;36m                    \u001b[0m         accepted by `\u001b[1;35msupervision.Detection.from_inference\u001b[0m\u001b[1m(\u001b[0m\u001b[33m...\u001b[0m\u001b[1m)\u001b[0m                    \u001b[2m            \u001b[0m\n"
      ]
     },
     "metadata": {},
     "output_type": "display_data"
    },
    {
     "name": "stdout",
     "output_type": "stream",
     "text": [
      "0: 384x640 1 person, 1 toilet, 467.6ms\n",
      "Speed: 1.5ms preprocess, 467.6ms inference, 0.6ms postprocess per image at shape (1, 3, 384, 640)\n",
      "Predictions made: [{'boxes': [[316.04779052734375, 181.5704345703125, 988.8672485351562, 712.8414306640625], [99.01937103271484, 654.4761962890625, 270.3973693847656, 718.9630126953125]], 'scores': [0.9595453143119812, 0.2919144928455353], 'class_indices': [0.0, 61.0]}]\n",
      "Video frames: 1\n",
      "\n"
     ]
    },
    {
     "data": {
      "text/html": [
       "<pre style=\"white-space:pre;overflow-x:auto;line-height:normal;font-family:Menlo,'DejaVu Sans Mono',consolas,'Courier New',monospace\"><span style=\"color: #7fbfbf; text-decoration-color: #7fbfbf\">                    </span><span style=\"color: #800000; text-decoration-color: #800000\">WARNING </span> Used `<span style=\"color: #800080; text-decoration-color: #800080; font-weight: bold\">render_boxes</span><span style=\"font-weight: bold\">(</span><span style=\"color: #808000; text-decoration-color: #808000\">...</span><span style=\"font-weight: bold\">)</span>` sink, but predictions that were provided do not  <a href=\"file:///Users/saadia/Documents/DevIA_2024/coding_projects/ShiFuMi_computerVision/venv/lib/python3.9/site-packages/inference/core/interfaces/stream/sinks.py\" target=\"_blank\"><span style=\"color: #7f7f7f; text-decoration-color: #7f7f7f\">sinks.py</span></a><span style=\"color: #7f7f7f; text-decoration-color: #7f7f7f\">:</span><a href=\"file:///Users/saadia/Documents/DevIA_2024/coding_projects/ShiFuMi_computerVision/venv/lib/python3.9/site-packages/inference/core/interfaces/stream/sinks.py#176\" target=\"_blank\"><span style=\"color: #7f7f7f; text-decoration-color: #7f7f7f\">176</span></a>\n",
       "<span style=\"color: #7fbfbf; text-decoration-color: #7fbfbf\">                    </span>         match the expected format of object detection prediction that could be    <span style=\"color: #7f7f7f; text-decoration-color: #7f7f7f\">            </span>\n",
       "<span style=\"color: #7fbfbf; text-decoration-color: #7fbfbf\">                    </span>         accepted by `<span style=\"color: #800080; text-decoration-color: #800080; font-weight: bold\">supervision.Detection.from_inference</span><span style=\"font-weight: bold\">(</span><span style=\"color: #808000; text-decoration-color: #808000\">...</span><span style=\"font-weight: bold\">)</span>                    <span style=\"color: #7f7f7f; text-decoration-color: #7f7f7f\">            </span>\n",
       "</pre>\n"
      ],
      "text/plain": [
       "\u001b[2;36m                   \u001b[0m\u001b[2;36m \u001b[0m\u001b[31mWARNING \u001b[0m Used `\u001b[1;35mrender_boxes\u001b[0m\u001b[1m(\u001b[0m\u001b[33m...\u001b[0m\u001b[1m)\u001b[0m` sink, but predictions that were provided do not  \u001b]8;id=597638;file:///Users/saadia/Documents/DevIA_2024/coding_projects/ShiFuMi_computerVision/venv/lib/python3.9/site-packages/inference/core/interfaces/stream/sinks.py\u001b\\\u001b[2msinks.py\u001b[0m\u001b]8;;\u001b\\\u001b[2m:\u001b[0m\u001b]8;id=60143;file:///Users/saadia/Documents/DevIA_2024/coding_projects/ShiFuMi_computerVision/venv/lib/python3.9/site-packages/inference/core/interfaces/stream/sinks.py#176\u001b\\\u001b[2m176\u001b[0m\u001b]8;;\u001b\\\n",
       "\u001b[2;36m                    \u001b[0m         match the expected format of object detection prediction that could be    \u001b[2m            \u001b[0m\n",
       "\u001b[2;36m                    \u001b[0m         accepted by `\u001b[1;35msupervision.Detection.from_inference\u001b[0m\u001b[1m(\u001b[0m\u001b[33m...\u001b[0m\u001b[1m)\u001b[0m                    \u001b[2m            \u001b[0m\n"
      ]
     },
     "metadata": {},
     "output_type": "display_data"
    },
    {
     "name": "stdout",
     "output_type": "stream",
     "text": [
      "0: 384x640 1 person, 468.8ms\n",
      "Speed: 1.8ms preprocess, 468.8ms inference, 0.6ms postprocess per image at shape (1, 3, 384, 640)\n",
      "Predictions made: [{'boxes': [[315.7077941894531, 181.83575439453125, 989.29736328125, 712.4058227539062]], 'scores': [0.9560647010803223], 'class_indices': [0.0]}]\n",
      "Video frames: 1\n",
      "\n"
     ]
    },
    {
     "data": {
      "text/html": [
       "<pre style=\"white-space:pre;overflow-x:auto;line-height:normal;font-family:Menlo,'DejaVu Sans Mono',consolas,'Courier New',monospace\"><span style=\"color: #7fbfbf; text-decoration-color: #7fbfbf\">                    </span><span style=\"color: #800000; text-decoration-color: #800000\">WARNING </span> Used `<span style=\"color: #800080; text-decoration-color: #800080; font-weight: bold\">render_boxes</span><span style=\"font-weight: bold\">(</span><span style=\"color: #808000; text-decoration-color: #808000\">...</span><span style=\"font-weight: bold\">)</span>` sink, but predictions that were provided do not  <a href=\"file:///Users/saadia/Documents/DevIA_2024/coding_projects/ShiFuMi_computerVision/venv/lib/python3.9/site-packages/inference/core/interfaces/stream/sinks.py\" target=\"_blank\"><span style=\"color: #7f7f7f; text-decoration-color: #7f7f7f\">sinks.py</span></a><span style=\"color: #7f7f7f; text-decoration-color: #7f7f7f\">:</span><a href=\"file:///Users/saadia/Documents/DevIA_2024/coding_projects/ShiFuMi_computerVision/venv/lib/python3.9/site-packages/inference/core/interfaces/stream/sinks.py#176\" target=\"_blank\"><span style=\"color: #7f7f7f; text-decoration-color: #7f7f7f\">176</span></a>\n",
       "<span style=\"color: #7fbfbf; text-decoration-color: #7fbfbf\">                    </span>         match the expected format of object detection prediction that could be    <span style=\"color: #7f7f7f; text-decoration-color: #7f7f7f\">            </span>\n",
       "<span style=\"color: #7fbfbf; text-decoration-color: #7fbfbf\">                    </span>         accepted by `<span style=\"color: #800080; text-decoration-color: #800080; font-weight: bold\">supervision.Detection.from_inference</span><span style=\"font-weight: bold\">(</span><span style=\"color: #808000; text-decoration-color: #808000\">...</span><span style=\"font-weight: bold\">)</span>                    <span style=\"color: #7f7f7f; text-decoration-color: #7f7f7f\">            </span>\n",
       "</pre>\n"
      ],
      "text/plain": [
       "\u001b[2;36m                   \u001b[0m\u001b[2;36m \u001b[0m\u001b[31mWARNING \u001b[0m Used `\u001b[1;35mrender_boxes\u001b[0m\u001b[1m(\u001b[0m\u001b[33m...\u001b[0m\u001b[1m)\u001b[0m` sink, but predictions that were provided do not  \u001b]8;id=587008;file:///Users/saadia/Documents/DevIA_2024/coding_projects/ShiFuMi_computerVision/venv/lib/python3.9/site-packages/inference/core/interfaces/stream/sinks.py\u001b\\\u001b[2msinks.py\u001b[0m\u001b]8;;\u001b\\\u001b[2m:\u001b[0m\u001b]8;id=467002;file:///Users/saadia/Documents/DevIA_2024/coding_projects/ShiFuMi_computerVision/venv/lib/python3.9/site-packages/inference/core/interfaces/stream/sinks.py#176\u001b\\\u001b[2m176\u001b[0m\u001b]8;;\u001b\\\n",
       "\u001b[2;36m                    \u001b[0m         match the expected format of object detection prediction that could be    \u001b[2m            \u001b[0m\n",
       "\u001b[2;36m                    \u001b[0m         accepted by `\u001b[1;35msupervision.Detection.from_inference\u001b[0m\u001b[1m(\u001b[0m\u001b[33m...\u001b[0m\u001b[1m)\u001b[0m                    \u001b[2m            \u001b[0m\n"
      ]
     },
     "metadata": {},
     "output_type": "display_data"
    },
    {
     "name": "stdout",
     "output_type": "stream",
     "text": [
      "0: 384x640 1 person, 1 toilet, 454.5ms\n",
      "Speed: 2.6ms preprocess, 454.5ms inference, 0.7ms postprocess per image at shape (1, 3, 384, 640)\n",
      "Predictions made: [{'boxes': [[316.10528564453125, 173.91790771484375, 988.4219360351562, 712.4647216796875], [100.92050170898438, 654.6000366210938, 270.5944519042969, 719.0004272460938]], 'scores': [0.9565380215644836, 0.25268229842185974], 'class_indices': [0.0, 61.0]}]\n",
      "Video frames: 1\n",
      "\n"
     ]
    },
    {
     "data": {
      "text/html": [
       "<pre style=\"white-space:pre;overflow-x:auto;line-height:normal;font-family:Menlo,'DejaVu Sans Mono',consolas,'Courier New',monospace\"><span style=\"color: #7fbfbf; text-decoration-color: #7fbfbf\">[06/28/24 11:29:13] </span><span style=\"color: #800000; text-decoration-color: #800000\">WARNING </span> Used `<span style=\"color: #800080; text-decoration-color: #800080; font-weight: bold\">render_boxes</span><span style=\"font-weight: bold\">(</span><span style=\"color: #808000; text-decoration-color: #808000\">...</span><span style=\"font-weight: bold\">)</span>` sink, but predictions that were provided do not  <a href=\"file:///Users/saadia/Documents/DevIA_2024/coding_projects/ShiFuMi_computerVision/venv/lib/python3.9/site-packages/inference/core/interfaces/stream/sinks.py\" target=\"_blank\"><span style=\"color: #7f7f7f; text-decoration-color: #7f7f7f\">sinks.py</span></a><span style=\"color: #7f7f7f; text-decoration-color: #7f7f7f\">:</span><a href=\"file:///Users/saadia/Documents/DevIA_2024/coding_projects/ShiFuMi_computerVision/venv/lib/python3.9/site-packages/inference/core/interfaces/stream/sinks.py#176\" target=\"_blank\"><span style=\"color: #7f7f7f; text-decoration-color: #7f7f7f\">176</span></a>\n",
       "<span style=\"color: #7fbfbf; text-decoration-color: #7fbfbf\">                    </span>         match the expected format of object detection prediction that could be    <span style=\"color: #7f7f7f; text-decoration-color: #7f7f7f\">            </span>\n",
       "<span style=\"color: #7fbfbf; text-decoration-color: #7fbfbf\">                    </span>         accepted by `<span style=\"color: #800080; text-decoration-color: #800080; font-weight: bold\">supervision.Detection.from_inference</span><span style=\"font-weight: bold\">(</span><span style=\"color: #808000; text-decoration-color: #808000\">...</span><span style=\"font-weight: bold\">)</span>                    <span style=\"color: #7f7f7f; text-decoration-color: #7f7f7f\">            </span>\n",
       "</pre>\n"
      ],
      "text/plain": [
       "\u001b[2;36m[06/28/24 11:29:13]\u001b[0m\u001b[2;36m \u001b[0m\u001b[31mWARNING \u001b[0m Used `\u001b[1;35mrender_boxes\u001b[0m\u001b[1m(\u001b[0m\u001b[33m...\u001b[0m\u001b[1m)\u001b[0m` sink, but predictions that were provided do not  \u001b]8;id=322003;file:///Users/saadia/Documents/DevIA_2024/coding_projects/ShiFuMi_computerVision/venv/lib/python3.9/site-packages/inference/core/interfaces/stream/sinks.py\u001b\\\u001b[2msinks.py\u001b[0m\u001b]8;;\u001b\\\u001b[2m:\u001b[0m\u001b]8;id=382544;file:///Users/saadia/Documents/DevIA_2024/coding_projects/ShiFuMi_computerVision/venv/lib/python3.9/site-packages/inference/core/interfaces/stream/sinks.py#176\u001b\\\u001b[2m176\u001b[0m\u001b]8;;\u001b\\\n",
       "\u001b[2;36m                    \u001b[0m         match the expected format of object detection prediction that could be    \u001b[2m            \u001b[0m\n",
       "\u001b[2;36m                    \u001b[0m         accepted by `\u001b[1;35msupervision.Detection.from_inference\u001b[0m\u001b[1m(\u001b[0m\u001b[33m...\u001b[0m\u001b[1m)\u001b[0m                    \u001b[2m            \u001b[0m\n"
      ]
     },
     "metadata": {},
     "output_type": "display_data"
    },
    {
     "name": "stdout",
     "output_type": "stream",
     "text": [
      "0: 384x640 1 person, 1 toilet, 473.1ms\n",
      "Speed: 1.8ms preprocess, 473.1ms inference, 0.7ms postprocess per image at shape (1, 3, 384, 640)\n",
      "Predictions made: [{'boxes': [[313.8229064941406, 172.9296875, 990.4278564453125, 712.284423828125], [101.00830078125, 654.434326171875, 270.6347351074219, 719.16796875]], 'scores': [0.9553146958351135, 0.2729247510433197], 'class_indices': [0.0, 61.0]}]\n",
      "Video frames: 1\n",
      "\n"
     ]
    },
    {
     "data": {
      "text/html": [
       "<pre style=\"white-space:pre;overflow-x:auto;line-height:normal;font-family:Menlo,'DejaVu Sans Mono',consolas,'Courier New',monospace\"><span style=\"color: #7fbfbf; text-decoration-color: #7fbfbf\">                    </span><span style=\"color: #800000; text-decoration-color: #800000\">WARNING </span> Used `<span style=\"color: #800080; text-decoration-color: #800080; font-weight: bold\">render_boxes</span><span style=\"font-weight: bold\">(</span><span style=\"color: #808000; text-decoration-color: #808000\">...</span><span style=\"font-weight: bold\">)</span>` sink, but predictions that were provided do not  <a href=\"file:///Users/saadia/Documents/DevIA_2024/coding_projects/ShiFuMi_computerVision/venv/lib/python3.9/site-packages/inference/core/interfaces/stream/sinks.py\" target=\"_blank\"><span style=\"color: #7f7f7f; text-decoration-color: #7f7f7f\">sinks.py</span></a><span style=\"color: #7f7f7f; text-decoration-color: #7f7f7f\">:</span><a href=\"file:///Users/saadia/Documents/DevIA_2024/coding_projects/ShiFuMi_computerVision/venv/lib/python3.9/site-packages/inference/core/interfaces/stream/sinks.py#176\" target=\"_blank\"><span style=\"color: #7f7f7f; text-decoration-color: #7f7f7f\">176</span></a>\n",
       "<span style=\"color: #7fbfbf; text-decoration-color: #7fbfbf\">                    </span>         match the expected format of object detection prediction that could be    <span style=\"color: #7f7f7f; text-decoration-color: #7f7f7f\">            </span>\n",
       "<span style=\"color: #7fbfbf; text-decoration-color: #7fbfbf\">                    </span>         accepted by `<span style=\"color: #800080; text-decoration-color: #800080; font-weight: bold\">supervision.Detection.from_inference</span><span style=\"font-weight: bold\">(</span><span style=\"color: #808000; text-decoration-color: #808000\">...</span><span style=\"font-weight: bold\">)</span>                    <span style=\"color: #7f7f7f; text-decoration-color: #7f7f7f\">            </span>\n",
       "</pre>\n"
      ],
      "text/plain": [
       "\u001b[2;36m                   \u001b[0m\u001b[2;36m \u001b[0m\u001b[31mWARNING \u001b[0m Used `\u001b[1;35mrender_boxes\u001b[0m\u001b[1m(\u001b[0m\u001b[33m...\u001b[0m\u001b[1m)\u001b[0m` sink, but predictions that were provided do not  \u001b]8;id=135765;file:///Users/saadia/Documents/DevIA_2024/coding_projects/ShiFuMi_computerVision/venv/lib/python3.9/site-packages/inference/core/interfaces/stream/sinks.py\u001b\\\u001b[2msinks.py\u001b[0m\u001b]8;;\u001b\\\u001b[2m:\u001b[0m\u001b]8;id=685668;file:///Users/saadia/Documents/DevIA_2024/coding_projects/ShiFuMi_computerVision/venv/lib/python3.9/site-packages/inference/core/interfaces/stream/sinks.py#176\u001b\\\u001b[2m176\u001b[0m\u001b]8;;\u001b\\\n",
       "\u001b[2;36m                    \u001b[0m         match the expected format of object detection prediction that could be    \u001b[2m            \u001b[0m\n",
       "\u001b[2;36m                    \u001b[0m         accepted by `\u001b[1;35msupervision.Detection.from_inference\u001b[0m\u001b[1m(\u001b[0m\u001b[33m...\u001b[0m\u001b[1m)\u001b[0m                    \u001b[2m            \u001b[0m\n"
      ]
     },
     "metadata": {},
     "output_type": "display_data"
    },
    {
     "name": "stdout",
     "output_type": "stream",
     "text": [
      "0: 384x640 1 person, 1 toilet, 482.9ms\n",
      "Speed: 1.6ms preprocess, 482.9ms inference, 0.6ms postprocess per image at shape (1, 3, 384, 640)\n",
      "Predictions made: [{'boxes': [[310.6728515625, 174.0367431640625, 991.685791015625, 712.4260864257812], [98.69525146484375, 654.307373046875, 270.2808532714844, 719.0927734375]], 'scores': [0.9561190605163574, 0.26654425263404846], 'class_indices': [0.0, 61.0]}]\n",
      "Video frames: 1\n",
      "\n"
     ]
    },
    {
     "data": {
      "text/html": [
       "<pre style=\"white-space:pre;overflow-x:auto;line-height:normal;font-family:Menlo,'DejaVu Sans Mono',consolas,'Courier New',monospace\"><span style=\"color: #7fbfbf; text-decoration-color: #7fbfbf\">[06/28/24 11:29:14] </span><span style=\"color: #800000; text-decoration-color: #800000\">WARNING </span> Used `<span style=\"color: #800080; text-decoration-color: #800080; font-weight: bold\">render_boxes</span><span style=\"font-weight: bold\">(</span><span style=\"color: #808000; text-decoration-color: #808000\">...</span><span style=\"font-weight: bold\">)</span>` sink, but predictions that were provided do not  <a href=\"file:///Users/saadia/Documents/DevIA_2024/coding_projects/ShiFuMi_computerVision/venv/lib/python3.9/site-packages/inference/core/interfaces/stream/sinks.py\" target=\"_blank\"><span style=\"color: #7f7f7f; text-decoration-color: #7f7f7f\">sinks.py</span></a><span style=\"color: #7f7f7f; text-decoration-color: #7f7f7f\">:</span><a href=\"file:///Users/saadia/Documents/DevIA_2024/coding_projects/ShiFuMi_computerVision/venv/lib/python3.9/site-packages/inference/core/interfaces/stream/sinks.py#176\" target=\"_blank\"><span style=\"color: #7f7f7f; text-decoration-color: #7f7f7f\">176</span></a>\n",
       "<span style=\"color: #7fbfbf; text-decoration-color: #7fbfbf\">                    </span>         match the expected format of object detection prediction that could be    <span style=\"color: #7f7f7f; text-decoration-color: #7f7f7f\">            </span>\n",
       "<span style=\"color: #7fbfbf; text-decoration-color: #7fbfbf\">                    </span>         accepted by `<span style=\"color: #800080; text-decoration-color: #800080; font-weight: bold\">supervision.Detection.from_inference</span><span style=\"font-weight: bold\">(</span><span style=\"color: #808000; text-decoration-color: #808000\">...</span><span style=\"font-weight: bold\">)</span>                    <span style=\"color: #7f7f7f; text-decoration-color: #7f7f7f\">            </span>\n",
       "</pre>\n"
      ],
      "text/plain": [
       "\u001b[2;36m[06/28/24 11:29:14]\u001b[0m\u001b[2;36m \u001b[0m\u001b[31mWARNING \u001b[0m Used `\u001b[1;35mrender_boxes\u001b[0m\u001b[1m(\u001b[0m\u001b[33m...\u001b[0m\u001b[1m)\u001b[0m` sink, but predictions that were provided do not  \u001b]8;id=97130;file:///Users/saadia/Documents/DevIA_2024/coding_projects/ShiFuMi_computerVision/venv/lib/python3.9/site-packages/inference/core/interfaces/stream/sinks.py\u001b\\\u001b[2msinks.py\u001b[0m\u001b]8;;\u001b\\\u001b[2m:\u001b[0m\u001b]8;id=578572;file:///Users/saadia/Documents/DevIA_2024/coding_projects/ShiFuMi_computerVision/venv/lib/python3.9/site-packages/inference/core/interfaces/stream/sinks.py#176\u001b\\\u001b[2m176\u001b[0m\u001b]8;;\u001b\\\n",
       "\u001b[2;36m                    \u001b[0m         match the expected format of object detection prediction that could be    \u001b[2m            \u001b[0m\n",
       "\u001b[2;36m                    \u001b[0m         accepted by `\u001b[1;35msupervision.Detection.from_inference\u001b[0m\u001b[1m(\u001b[0m\u001b[33m...\u001b[0m\u001b[1m)\u001b[0m                    \u001b[2m            \u001b[0m\n"
      ]
     },
     "metadata": {},
     "output_type": "display_data"
    },
    {
     "name": "stdout",
     "output_type": "stream",
     "text": [
      "0: 384x640 1 person, 465.9ms\n",
      "Speed: 1.7ms preprocess, 465.9ms inference, 0.7ms postprocess per image at shape (1, 3, 384, 640)\n",
      "Predictions made: [{'boxes': [[309.8359375, 174.8828125, 992.659912109375, 712.78515625]], 'scores': [0.9559118151664734], 'class_indices': [0.0]}]\n",
      "Video frames: 1\n",
      "\n"
     ]
    },
    {
     "data": {
      "text/html": [
       "<pre style=\"white-space:pre;overflow-x:auto;line-height:normal;font-family:Menlo,'DejaVu Sans Mono',consolas,'Courier New',monospace\"><span style=\"color: #7fbfbf; text-decoration-color: #7fbfbf\">                    </span><span style=\"color: #800000; text-decoration-color: #800000\">WARNING </span> Used `<span style=\"color: #800080; text-decoration-color: #800080; font-weight: bold\">render_boxes</span><span style=\"font-weight: bold\">(</span><span style=\"color: #808000; text-decoration-color: #808000\">...</span><span style=\"font-weight: bold\">)</span>` sink, but predictions that were provided do not  <a href=\"file:///Users/saadia/Documents/DevIA_2024/coding_projects/ShiFuMi_computerVision/venv/lib/python3.9/site-packages/inference/core/interfaces/stream/sinks.py\" target=\"_blank\"><span style=\"color: #7f7f7f; text-decoration-color: #7f7f7f\">sinks.py</span></a><span style=\"color: #7f7f7f; text-decoration-color: #7f7f7f\">:</span><a href=\"file:///Users/saadia/Documents/DevIA_2024/coding_projects/ShiFuMi_computerVision/venv/lib/python3.9/site-packages/inference/core/interfaces/stream/sinks.py#176\" target=\"_blank\"><span style=\"color: #7f7f7f; text-decoration-color: #7f7f7f\">176</span></a>\n",
       "<span style=\"color: #7fbfbf; text-decoration-color: #7fbfbf\">                    </span>         match the expected format of object detection prediction that could be    <span style=\"color: #7f7f7f; text-decoration-color: #7f7f7f\">            </span>\n",
       "<span style=\"color: #7fbfbf; text-decoration-color: #7fbfbf\">                    </span>         accepted by `<span style=\"color: #800080; text-decoration-color: #800080; font-weight: bold\">supervision.Detection.from_inference</span><span style=\"font-weight: bold\">(</span><span style=\"color: #808000; text-decoration-color: #808000\">...</span><span style=\"font-weight: bold\">)</span>                    <span style=\"color: #7f7f7f; text-decoration-color: #7f7f7f\">            </span>\n",
       "</pre>\n"
      ],
      "text/plain": [
       "\u001b[2;36m                   \u001b[0m\u001b[2;36m \u001b[0m\u001b[31mWARNING \u001b[0m Used `\u001b[1;35mrender_boxes\u001b[0m\u001b[1m(\u001b[0m\u001b[33m...\u001b[0m\u001b[1m)\u001b[0m` sink, but predictions that were provided do not  \u001b]8;id=735442;file:///Users/saadia/Documents/DevIA_2024/coding_projects/ShiFuMi_computerVision/venv/lib/python3.9/site-packages/inference/core/interfaces/stream/sinks.py\u001b\\\u001b[2msinks.py\u001b[0m\u001b]8;;\u001b\\\u001b[2m:\u001b[0m\u001b]8;id=942082;file:///Users/saadia/Documents/DevIA_2024/coding_projects/ShiFuMi_computerVision/venv/lib/python3.9/site-packages/inference/core/interfaces/stream/sinks.py#176\u001b\\\u001b[2m176\u001b[0m\u001b]8;;\u001b\\\n",
       "\u001b[2;36m                    \u001b[0m         match the expected format of object detection prediction that could be    \u001b[2m            \u001b[0m\n",
       "\u001b[2;36m                    \u001b[0m         accepted by `\u001b[1;35msupervision.Detection.from_inference\u001b[0m\u001b[1m(\u001b[0m\u001b[33m...\u001b[0m\u001b[1m)\u001b[0m                    \u001b[2m            \u001b[0m\n"
      ]
     },
     "metadata": {},
     "output_type": "display_data"
    },
    {
     "name": "stdout",
     "output_type": "stream",
     "text": [
      "0: 384x640 1 person, 1 toilet, 473.2ms\n",
      "Speed: 2.0ms preprocess, 473.2ms inference, 0.8ms postprocess per image at shape (1, 3, 384, 640)\n",
      "Predictions made: [{'boxes': [[311.96453857421875, 174.52630615234375, 992.3617553710938, 712.4212036132812], [100.89290618896484, 655.01708984375, 270.7674865722656, 719.20458984375]], 'scores': [0.9573076963424683, 0.3127821683883667], 'class_indices': [0.0, 61.0]}]\n",
      "Video frames: 1\n",
      "\n"
     ]
    },
    {
     "data": {
      "text/html": [
       "<pre style=\"white-space:pre;overflow-x:auto;line-height:normal;font-family:Menlo,'DejaVu Sans Mono',consolas,'Courier New',monospace\"><span style=\"color: #7fbfbf; text-decoration-color: #7fbfbf\">[06/28/24 11:29:15] </span><span style=\"color: #800000; text-decoration-color: #800000\">WARNING </span> Used `<span style=\"color: #800080; text-decoration-color: #800080; font-weight: bold\">render_boxes</span><span style=\"font-weight: bold\">(</span><span style=\"color: #808000; text-decoration-color: #808000\">...</span><span style=\"font-weight: bold\">)</span>` sink, but predictions that were provided do not  <a href=\"file:///Users/saadia/Documents/DevIA_2024/coding_projects/ShiFuMi_computerVision/venv/lib/python3.9/site-packages/inference/core/interfaces/stream/sinks.py\" target=\"_blank\"><span style=\"color: #7f7f7f; text-decoration-color: #7f7f7f\">sinks.py</span></a><span style=\"color: #7f7f7f; text-decoration-color: #7f7f7f\">:</span><a href=\"file:///Users/saadia/Documents/DevIA_2024/coding_projects/ShiFuMi_computerVision/venv/lib/python3.9/site-packages/inference/core/interfaces/stream/sinks.py#176\" target=\"_blank\"><span style=\"color: #7f7f7f; text-decoration-color: #7f7f7f\">176</span></a>\n",
       "<span style=\"color: #7fbfbf; text-decoration-color: #7fbfbf\">                    </span>         match the expected format of object detection prediction that could be    <span style=\"color: #7f7f7f; text-decoration-color: #7f7f7f\">            </span>\n",
       "<span style=\"color: #7fbfbf; text-decoration-color: #7fbfbf\">                    </span>         accepted by `<span style=\"color: #800080; text-decoration-color: #800080; font-weight: bold\">supervision.Detection.from_inference</span><span style=\"font-weight: bold\">(</span><span style=\"color: #808000; text-decoration-color: #808000\">...</span><span style=\"font-weight: bold\">)</span>                    <span style=\"color: #7f7f7f; text-decoration-color: #7f7f7f\">            </span>\n",
       "</pre>\n"
      ],
      "text/plain": [
       "\u001b[2;36m[06/28/24 11:29:15]\u001b[0m\u001b[2;36m \u001b[0m\u001b[31mWARNING \u001b[0m Used `\u001b[1;35mrender_boxes\u001b[0m\u001b[1m(\u001b[0m\u001b[33m...\u001b[0m\u001b[1m)\u001b[0m` sink, but predictions that were provided do not  \u001b]8;id=147152;file:///Users/saadia/Documents/DevIA_2024/coding_projects/ShiFuMi_computerVision/venv/lib/python3.9/site-packages/inference/core/interfaces/stream/sinks.py\u001b\\\u001b[2msinks.py\u001b[0m\u001b]8;;\u001b\\\u001b[2m:\u001b[0m\u001b]8;id=961354;file:///Users/saadia/Documents/DevIA_2024/coding_projects/ShiFuMi_computerVision/venv/lib/python3.9/site-packages/inference/core/interfaces/stream/sinks.py#176\u001b\\\u001b[2m176\u001b[0m\u001b]8;;\u001b\\\n",
       "\u001b[2;36m                    \u001b[0m         match the expected format of object detection prediction that could be    \u001b[2m            \u001b[0m\n",
       "\u001b[2;36m                    \u001b[0m         accepted by `\u001b[1;35msupervision.Detection.from_inference\u001b[0m\u001b[1m(\u001b[0m\u001b[33m...\u001b[0m\u001b[1m)\u001b[0m                    \u001b[2m            \u001b[0m\n"
      ]
     },
     "metadata": {},
     "output_type": "display_data"
    },
    {
     "name": "stdout",
     "output_type": "stream",
     "text": [
      "0: 384x640 1 person, 463.9ms\n",
      "Speed: 2.1ms preprocess, 463.9ms inference, 0.3ms postprocess per image at shape (1, 3, 384, 640)\n",
      "Predictions made: [{'boxes': [[314.2521057128906, 175.59466552734375, 991.6151123046875, 712.617919921875]], 'scores': [0.9558194279670715], 'class_indices': [0.0]}]\n",
      "Video frames: 1\n",
      "\n"
     ]
    },
    {
     "data": {
      "text/html": [
       "<pre style=\"white-space:pre;overflow-x:auto;line-height:normal;font-family:Menlo,'DejaVu Sans Mono',consolas,'Courier New',monospace\"><span style=\"color: #7fbfbf; text-decoration-color: #7fbfbf\">                    </span><span style=\"color: #800000; text-decoration-color: #800000\">WARNING </span> Used `<span style=\"color: #800080; text-decoration-color: #800080; font-weight: bold\">render_boxes</span><span style=\"font-weight: bold\">(</span><span style=\"color: #808000; text-decoration-color: #808000\">...</span><span style=\"font-weight: bold\">)</span>` sink, but predictions that were provided do not  <a href=\"file:///Users/saadia/Documents/DevIA_2024/coding_projects/ShiFuMi_computerVision/venv/lib/python3.9/site-packages/inference/core/interfaces/stream/sinks.py\" target=\"_blank\"><span style=\"color: #7f7f7f; text-decoration-color: #7f7f7f\">sinks.py</span></a><span style=\"color: #7f7f7f; text-decoration-color: #7f7f7f\">:</span><a href=\"file:///Users/saadia/Documents/DevIA_2024/coding_projects/ShiFuMi_computerVision/venv/lib/python3.9/site-packages/inference/core/interfaces/stream/sinks.py#176\" target=\"_blank\"><span style=\"color: #7f7f7f; text-decoration-color: #7f7f7f\">176</span></a>\n",
       "<span style=\"color: #7fbfbf; text-decoration-color: #7fbfbf\">                    </span>         match the expected format of object detection prediction that could be    <span style=\"color: #7f7f7f; text-decoration-color: #7f7f7f\">            </span>\n",
       "<span style=\"color: #7fbfbf; text-decoration-color: #7fbfbf\">                    </span>         accepted by `<span style=\"color: #800080; text-decoration-color: #800080; font-weight: bold\">supervision.Detection.from_inference</span><span style=\"font-weight: bold\">(</span><span style=\"color: #808000; text-decoration-color: #808000\">...</span><span style=\"font-weight: bold\">)</span>                    <span style=\"color: #7f7f7f; text-decoration-color: #7f7f7f\">            </span>\n",
       "</pre>\n"
      ],
      "text/plain": [
       "\u001b[2;36m                   \u001b[0m\u001b[2;36m \u001b[0m\u001b[31mWARNING \u001b[0m Used `\u001b[1;35mrender_boxes\u001b[0m\u001b[1m(\u001b[0m\u001b[33m...\u001b[0m\u001b[1m)\u001b[0m` sink, but predictions that were provided do not  \u001b]8;id=920889;file:///Users/saadia/Documents/DevIA_2024/coding_projects/ShiFuMi_computerVision/venv/lib/python3.9/site-packages/inference/core/interfaces/stream/sinks.py\u001b\\\u001b[2msinks.py\u001b[0m\u001b]8;;\u001b\\\u001b[2m:\u001b[0m\u001b]8;id=367649;file:///Users/saadia/Documents/DevIA_2024/coding_projects/ShiFuMi_computerVision/venv/lib/python3.9/site-packages/inference/core/interfaces/stream/sinks.py#176\u001b\\\u001b[2m176\u001b[0m\u001b]8;;\u001b\\\n",
       "\u001b[2;36m                    \u001b[0m         match the expected format of object detection prediction that could be    \u001b[2m            \u001b[0m\n",
       "\u001b[2;36m                    \u001b[0m         accepted by `\u001b[1;35msupervision.Detection.from_inference\u001b[0m\u001b[1m(\u001b[0m\u001b[33m...\u001b[0m\u001b[1m)\u001b[0m                    \u001b[2m            \u001b[0m\n"
      ]
     },
     "metadata": {},
     "output_type": "display_data"
    },
    {
     "name": "stdout",
     "output_type": "stream",
     "text": [
      "0: 384x640 1 person, 478.5ms\n",
      "Speed: 2.1ms preprocess, 478.5ms inference, 0.6ms postprocess per image at shape (1, 3, 384, 640)\n",
      "Predictions made: [{'boxes': [[314.72735595703125, 176.05853271484375, 990.7122192382812, 712.5830688476562]], 'scores': [0.9581126570701599], 'class_indices': [0.0]}]\n",
      "Video frames: 1\n",
      "\n"
     ]
    },
    {
     "data": {
      "text/html": [
       "<pre style=\"white-space:pre;overflow-x:auto;line-height:normal;font-family:Menlo,'DejaVu Sans Mono',consolas,'Courier New',monospace\"><span style=\"color: #7fbfbf; text-decoration-color: #7fbfbf\">[06/28/24 11:29:16] </span><span style=\"color: #800000; text-decoration-color: #800000\">WARNING </span> Used `<span style=\"color: #800080; text-decoration-color: #800080; font-weight: bold\">render_boxes</span><span style=\"font-weight: bold\">(</span><span style=\"color: #808000; text-decoration-color: #808000\">...</span><span style=\"font-weight: bold\">)</span>` sink, but predictions that were provided do not  <a href=\"file:///Users/saadia/Documents/DevIA_2024/coding_projects/ShiFuMi_computerVision/venv/lib/python3.9/site-packages/inference/core/interfaces/stream/sinks.py\" target=\"_blank\"><span style=\"color: #7f7f7f; text-decoration-color: #7f7f7f\">sinks.py</span></a><span style=\"color: #7f7f7f; text-decoration-color: #7f7f7f\">:</span><a href=\"file:///Users/saadia/Documents/DevIA_2024/coding_projects/ShiFuMi_computerVision/venv/lib/python3.9/site-packages/inference/core/interfaces/stream/sinks.py#176\" target=\"_blank\"><span style=\"color: #7f7f7f; text-decoration-color: #7f7f7f\">176</span></a>\n",
       "<span style=\"color: #7fbfbf; text-decoration-color: #7fbfbf\">                    </span>         match the expected format of object detection prediction that could be    <span style=\"color: #7f7f7f; text-decoration-color: #7f7f7f\">            </span>\n",
       "<span style=\"color: #7fbfbf; text-decoration-color: #7fbfbf\">                    </span>         accepted by `<span style=\"color: #800080; text-decoration-color: #800080; font-weight: bold\">supervision.Detection.from_inference</span><span style=\"font-weight: bold\">(</span><span style=\"color: #808000; text-decoration-color: #808000\">...</span><span style=\"font-weight: bold\">)</span>                    <span style=\"color: #7f7f7f; text-decoration-color: #7f7f7f\">            </span>\n",
       "</pre>\n"
      ],
      "text/plain": [
       "\u001b[2;36m[06/28/24 11:29:16]\u001b[0m\u001b[2;36m \u001b[0m\u001b[31mWARNING \u001b[0m Used `\u001b[1;35mrender_boxes\u001b[0m\u001b[1m(\u001b[0m\u001b[33m...\u001b[0m\u001b[1m)\u001b[0m` sink, but predictions that were provided do not  \u001b]8;id=274700;file:///Users/saadia/Documents/DevIA_2024/coding_projects/ShiFuMi_computerVision/venv/lib/python3.9/site-packages/inference/core/interfaces/stream/sinks.py\u001b\\\u001b[2msinks.py\u001b[0m\u001b]8;;\u001b\\\u001b[2m:\u001b[0m\u001b]8;id=520313;file:///Users/saadia/Documents/DevIA_2024/coding_projects/ShiFuMi_computerVision/venv/lib/python3.9/site-packages/inference/core/interfaces/stream/sinks.py#176\u001b\\\u001b[2m176\u001b[0m\u001b]8;;\u001b\\\n",
       "\u001b[2;36m                    \u001b[0m         match the expected format of object detection prediction that could be    \u001b[2m            \u001b[0m\n",
       "\u001b[2;36m                    \u001b[0m         accepted by `\u001b[1;35msupervision.Detection.from_inference\u001b[0m\u001b[1m(\u001b[0m\u001b[33m...\u001b[0m\u001b[1m)\u001b[0m                    \u001b[2m            \u001b[0m\n"
      ]
     },
     "metadata": {},
     "output_type": "display_data"
    },
    {
     "name": "stdout",
     "output_type": "stream",
     "text": [
      "0: 384x640 1 person, 546.4ms\n",
      "Speed: 2.0ms preprocess, 546.4ms inference, 0.6ms postprocess per image at shape (1, 3, 384, 640)\n",
      "Predictions made: [{'boxes': [[315.918212890625, 176.9090576171875, 989.9376220703125, 712.7127685546875]], 'scores': [0.9587209820747375], 'class_indices': [0.0]}]\n",
      "Video frames: 1\n",
      "\n"
     ]
    },
    {
     "data": {
      "text/html": [
       "<pre style=\"white-space:pre;overflow-x:auto;line-height:normal;font-family:Menlo,'DejaVu Sans Mono',consolas,'Courier New',monospace\"><span style=\"color: #7fbfbf; text-decoration-color: #7fbfbf\">                    </span><span style=\"color: #800000; text-decoration-color: #800000\">WARNING </span> Used `<span style=\"color: #800080; text-decoration-color: #800080; font-weight: bold\">render_boxes</span><span style=\"font-weight: bold\">(</span><span style=\"color: #808000; text-decoration-color: #808000\">...</span><span style=\"font-weight: bold\">)</span>` sink, but predictions that were provided do not  <a href=\"file:///Users/saadia/Documents/DevIA_2024/coding_projects/ShiFuMi_computerVision/venv/lib/python3.9/site-packages/inference/core/interfaces/stream/sinks.py\" target=\"_blank\"><span style=\"color: #7f7f7f; text-decoration-color: #7f7f7f\">sinks.py</span></a><span style=\"color: #7f7f7f; text-decoration-color: #7f7f7f\">:</span><a href=\"file:///Users/saadia/Documents/DevIA_2024/coding_projects/ShiFuMi_computerVision/venv/lib/python3.9/site-packages/inference/core/interfaces/stream/sinks.py#176\" target=\"_blank\"><span style=\"color: #7f7f7f; text-decoration-color: #7f7f7f\">176</span></a>\n",
       "<span style=\"color: #7fbfbf; text-decoration-color: #7fbfbf\">                    </span>         match the expected format of object detection prediction that could be    <span style=\"color: #7f7f7f; text-decoration-color: #7f7f7f\">            </span>\n",
       "<span style=\"color: #7fbfbf; text-decoration-color: #7fbfbf\">                    </span>         accepted by `<span style=\"color: #800080; text-decoration-color: #800080; font-weight: bold\">supervision.Detection.from_inference</span><span style=\"font-weight: bold\">(</span><span style=\"color: #808000; text-decoration-color: #808000\">...</span><span style=\"font-weight: bold\">)</span>                    <span style=\"color: #7f7f7f; text-decoration-color: #7f7f7f\">            </span>\n",
       "</pre>\n"
      ],
      "text/plain": [
       "\u001b[2;36m                   \u001b[0m\u001b[2;36m \u001b[0m\u001b[31mWARNING \u001b[0m Used `\u001b[1;35mrender_boxes\u001b[0m\u001b[1m(\u001b[0m\u001b[33m...\u001b[0m\u001b[1m)\u001b[0m` sink, but predictions that were provided do not  \u001b]8;id=810737;file:///Users/saadia/Documents/DevIA_2024/coding_projects/ShiFuMi_computerVision/venv/lib/python3.9/site-packages/inference/core/interfaces/stream/sinks.py\u001b\\\u001b[2msinks.py\u001b[0m\u001b]8;;\u001b\\\u001b[2m:\u001b[0m\u001b]8;id=605561;file:///Users/saadia/Documents/DevIA_2024/coding_projects/ShiFuMi_computerVision/venv/lib/python3.9/site-packages/inference/core/interfaces/stream/sinks.py#176\u001b\\\u001b[2m176\u001b[0m\u001b]8;;\u001b\\\n",
       "\u001b[2;36m                    \u001b[0m         match the expected format of object detection prediction that could be    \u001b[2m            \u001b[0m\n",
       "\u001b[2;36m                    \u001b[0m         accepted by `\u001b[1;35msupervision.Detection.from_inference\u001b[0m\u001b[1m(\u001b[0m\u001b[33m...\u001b[0m\u001b[1m)\u001b[0m                    \u001b[2m            \u001b[0m\n"
      ]
     },
     "metadata": {},
     "output_type": "display_data"
    },
    {
     "name": "stdout",
     "output_type": "stream",
     "text": [
      "0: 384x640 1 person, 1 toilet, 517.4ms\n",
      "Speed: 2.7ms preprocess, 517.4ms inference, 0.7ms postprocess per image at shape (1, 3, 384, 640)\n",
      "Predictions made: [{'boxes': [[315.9816589355469, 176.7601318359375, 989.569091796875, 712.537841796875], [101.17961883544922, 654.5431518554688, 270.70697021484375, 719.0830688476562]], 'scores': [0.9587094783782959, 0.26245006918907166], 'class_indices': [0.0, 61.0]}]\n",
      "Video frames: 1\n",
      "\n"
     ]
    },
    {
     "data": {
      "text/html": [
       "<pre style=\"white-space:pre;overflow-x:auto;line-height:normal;font-family:Menlo,'DejaVu Sans Mono',consolas,'Courier New',monospace\"><span style=\"color: #7fbfbf; text-decoration-color: #7fbfbf\">[06/28/24 11:29:17] </span><span style=\"color: #800000; text-decoration-color: #800000\">WARNING </span> Used `<span style=\"color: #800080; text-decoration-color: #800080; font-weight: bold\">render_boxes</span><span style=\"font-weight: bold\">(</span><span style=\"color: #808000; text-decoration-color: #808000\">...</span><span style=\"font-weight: bold\">)</span>` sink, but predictions that were provided do not  <a href=\"file:///Users/saadia/Documents/DevIA_2024/coding_projects/ShiFuMi_computerVision/venv/lib/python3.9/site-packages/inference/core/interfaces/stream/sinks.py\" target=\"_blank\"><span style=\"color: #7f7f7f; text-decoration-color: #7f7f7f\">sinks.py</span></a><span style=\"color: #7f7f7f; text-decoration-color: #7f7f7f\">:</span><a href=\"file:///Users/saadia/Documents/DevIA_2024/coding_projects/ShiFuMi_computerVision/venv/lib/python3.9/site-packages/inference/core/interfaces/stream/sinks.py#176\" target=\"_blank\"><span style=\"color: #7f7f7f; text-decoration-color: #7f7f7f\">176</span></a>\n",
       "<span style=\"color: #7fbfbf; text-decoration-color: #7fbfbf\">                    </span>         match the expected format of object detection prediction that could be    <span style=\"color: #7f7f7f; text-decoration-color: #7f7f7f\">            </span>\n",
       "<span style=\"color: #7fbfbf; text-decoration-color: #7fbfbf\">                    </span>         accepted by `<span style=\"color: #800080; text-decoration-color: #800080; font-weight: bold\">supervision.Detection.from_inference</span><span style=\"font-weight: bold\">(</span><span style=\"color: #808000; text-decoration-color: #808000\">...</span><span style=\"font-weight: bold\">)</span>                    <span style=\"color: #7f7f7f; text-decoration-color: #7f7f7f\">            </span>\n",
       "</pre>\n"
      ],
      "text/plain": [
       "\u001b[2;36m[06/28/24 11:29:17]\u001b[0m\u001b[2;36m \u001b[0m\u001b[31mWARNING \u001b[0m Used `\u001b[1;35mrender_boxes\u001b[0m\u001b[1m(\u001b[0m\u001b[33m...\u001b[0m\u001b[1m)\u001b[0m` sink, but predictions that were provided do not  \u001b]8;id=719466;file:///Users/saadia/Documents/DevIA_2024/coding_projects/ShiFuMi_computerVision/venv/lib/python3.9/site-packages/inference/core/interfaces/stream/sinks.py\u001b\\\u001b[2msinks.py\u001b[0m\u001b]8;;\u001b\\\u001b[2m:\u001b[0m\u001b]8;id=439578;file:///Users/saadia/Documents/DevIA_2024/coding_projects/ShiFuMi_computerVision/venv/lib/python3.9/site-packages/inference/core/interfaces/stream/sinks.py#176\u001b\\\u001b[2m176\u001b[0m\u001b]8;;\u001b\\\n",
       "\u001b[2;36m                    \u001b[0m         match the expected format of object detection prediction that could be    \u001b[2m            \u001b[0m\n",
       "\u001b[2;36m                    \u001b[0m         accepted by `\u001b[1;35msupervision.Detection.from_inference\u001b[0m\u001b[1m(\u001b[0m\u001b[33m...\u001b[0m\u001b[1m)\u001b[0m                    \u001b[2m            \u001b[0m\n"
      ]
     },
     "metadata": {},
     "output_type": "display_data"
    },
    {
     "name": "stdout",
     "output_type": "stream",
     "text": [
      "0: 384x640 1 person, 1 toilet, 480.2ms\n",
      "Speed: 1.6ms preprocess, 480.2ms inference, 0.5ms postprocess per image at shape (1, 3, 384, 640)\n",
      "Predictions made: [{'boxes': [[315.8452453613281, 176.99359130859375, 989.745361328125, 712.7664794921875], [100.7926025390625, 654.871826171875, 270.86029052734375, 719.067626953125]], 'scores': [0.9577887654304504, 0.2844209372997284], 'class_indices': [0.0, 61.0]}]\n",
      "Video frames: 1\n",
      "\n"
     ]
    },
    {
     "data": {
      "text/html": [
       "<pre style=\"white-space:pre;overflow-x:auto;line-height:normal;font-family:Menlo,'DejaVu Sans Mono',consolas,'Courier New',monospace\"><span style=\"color: #7fbfbf; text-decoration-color: #7fbfbf\">                    </span><span style=\"color: #800000; text-decoration-color: #800000\">WARNING </span> Used `<span style=\"color: #800080; text-decoration-color: #800080; font-weight: bold\">render_boxes</span><span style=\"font-weight: bold\">(</span><span style=\"color: #808000; text-decoration-color: #808000\">...</span><span style=\"font-weight: bold\">)</span>` sink, but predictions that were provided do not  <a href=\"file:///Users/saadia/Documents/DevIA_2024/coding_projects/ShiFuMi_computerVision/venv/lib/python3.9/site-packages/inference/core/interfaces/stream/sinks.py\" target=\"_blank\"><span style=\"color: #7f7f7f; text-decoration-color: #7f7f7f\">sinks.py</span></a><span style=\"color: #7f7f7f; text-decoration-color: #7f7f7f\">:</span><a href=\"file:///Users/saadia/Documents/DevIA_2024/coding_projects/ShiFuMi_computerVision/venv/lib/python3.9/site-packages/inference/core/interfaces/stream/sinks.py#176\" target=\"_blank\"><span style=\"color: #7f7f7f; text-decoration-color: #7f7f7f\">176</span></a>\n",
       "<span style=\"color: #7fbfbf; text-decoration-color: #7fbfbf\">                    </span>         match the expected format of object detection prediction that could be    <span style=\"color: #7f7f7f; text-decoration-color: #7f7f7f\">            </span>\n",
       "<span style=\"color: #7fbfbf; text-decoration-color: #7fbfbf\">                    </span>         accepted by `<span style=\"color: #800080; text-decoration-color: #800080; font-weight: bold\">supervision.Detection.from_inference</span><span style=\"font-weight: bold\">(</span><span style=\"color: #808000; text-decoration-color: #808000\">...</span><span style=\"font-weight: bold\">)</span>                    <span style=\"color: #7f7f7f; text-decoration-color: #7f7f7f\">            </span>\n",
       "</pre>\n"
      ],
      "text/plain": [
       "\u001b[2;36m                   \u001b[0m\u001b[2;36m \u001b[0m\u001b[31mWARNING \u001b[0m Used `\u001b[1;35mrender_boxes\u001b[0m\u001b[1m(\u001b[0m\u001b[33m...\u001b[0m\u001b[1m)\u001b[0m` sink, but predictions that were provided do not  \u001b]8;id=20239;file:///Users/saadia/Documents/DevIA_2024/coding_projects/ShiFuMi_computerVision/venv/lib/python3.9/site-packages/inference/core/interfaces/stream/sinks.py\u001b\\\u001b[2msinks.py\u001b[0m\u001b]8;;\u001b\\\u001b[2m:\u001b[0m\u001b]8;id=838217;file:///Users/saadia/Documents/DevIA_2024/coding_projects/ShiFuMi_computerVision/venv/lib/python3.9/site-packages/inference/core/interfaces/stream/sinks.py#176\u001b\\\u001b[2m176\u001b[0m\u001b]8;;\u001b\\\n",
       "\u001b[2;36m                    \u001b[0m         match the expected format of object detection prediction that could be    \u001b[2m            \u001b[0m\n",
       "\u001b[2;36m                    \u001b[0m         accepted by `\u001b[1;35msupervision.Detection.from_inference\u001b[0m\u001b[1m(\u001b[0m\u001b[33m...\u001b[0m\u001b[1m)\u001b[0m                    \u001b[2m            \u001b[0m\n"
      ]
     },
     "metadata": {},
     "output_type": "display_data"
    },
    {
     "name": "stdout",
     "output_type": "stream",
     "text": [
      "0: 384x640 1 person, 1 toilet, 468.7ms\n",
      "Speed: 2.2ms preprocess, 468.7ms inference, 0.6ms postprocess per image at shape (1, 3, 384, 640)\n",
      "Predictions made: [{'boxes': [[314.191650390625, 176.98687744140625, 990.3106689453125, 712.5900268554688], [101.0584716796875, 654.2332763671875, 270.89056396484375, 719.1849365234375]], 'scores': [0.9572760462760925, 0.2794729173183441], 'class_indices': [0.0, 61.0]}]\n",
      "Video frames: 1\n",
      "\n"
     ]
    },
    {
     "data": {
      "text/html": [
       "<pre style=\"white-space:pre;overflow-x:auto;line-height:normal;font-family:Menlo,'DejaVu Sans Mono',consolas,'Courier New',monospace\"><span style=\"color: #7fbfbf; text-decoration-color: #7fbfbf\">[06/28/24 11:29:18] </span><span style=\"color: #800000; text-decoration-color: #800000\">WARNING </span> Used `<span style=\"color: #800080; text-decoration-color: #800080; font-weight: bold\">render_boxes</span><span style=\"font-weight: bold\">(</span><span style=\"color: #808000; text-decoration-color: #808000\">...</span><span style=\"font-weight: bold\">)</span>` sink, but predictions that were provided do not  <a href=\"file:///Users/saadia/Documents/DevIA_2024/coding_projects/ShiFuMi_computerVision/venv/lib/python3.9/site-packages/inference/core/interfaces/stream/sinks.py\" target=\"_blank\"><span style=\"color: #7f7f7f; text-decoration-color: #7f7f7f\">sinks.py</span></a><span style=\"color: #7f7f7f; text-decoration-color: #7f7f7f\">:</span><a href=\"file:///Users/saadia/Documents/DevIA_2024/coding_projects/ShiFuMi_computerVision/venv/lib/python3.9/site-packages/inference/core/interfaces/stream/sinks.py#176\" target=\"_blank\"><span style=\"color: #7f7f7f; text-decoration-color: #7f7f7f\">176</span></a>\n",
       "<span style=\"color: #7fbfbf; text-decoration-color: #7fbfbf\">                    </span>         match the expected format of object detection prediction that could be    <span style=\"color: #7f7f7f; text-decoration-color: #7f7f7f\">            </span>\n",
       "<span style=\"color: #7fbfbf; text-decoration-color: #7fbfbf\">                    </span>         accepted by `<span style=\"color: #800080; text-decoration-color: #800080; font-weight: bold\">supervision.Detection.from_inference</span><span style=\"font-weight: bold\">(</span><span style=\"color: #808000; text-decoration-color: #808000\">...</span><span style=\"font-weight: bold\">)</span>                    <span style=\"color: #7f7f7f; text-decoration-color: #7f7f7f\">            </span>\n",
       "</pre>\n"
      ],
      "text/plain": [
       "\u001b[2;36m[06/28/24 11:29:18]\u001b[0m\u001b[2;36m \u001b[0m\u001b[31mWARNING \u001b[0m Used `\u001b[1;35mrender_boxes\u001b[0m\u001b[1m(\u001b[0m\u001b[33m...\u001b[0m\u001b[1m)\u001b[0m` sink, but predictions that were provided do not  \u001b]8;id=845850;file:///Users/saadia/Documents/DevIA_2024/coding_projects/ShiFuMi_computerVision/venv/lib/python3.9/site-packages/inference/core/interfaces/stream/sinks.py\u001b\\\u001b[2msinks.py\u001b[0m\u001b]8;;\u001b\\\u001b[2m:\u001b[0m\u001b]8;id=411188;file:///Users/saadia/Documents/DevIA_2024/coding_projects/ShiFuMi_computerVision/venv/lib/python3.9/site-packages/inference/core/interfaces/stream/sinks.py#176\u001b\\\u001b[2m176\u001b[0m\u001b]8;;\u001b\\\n",
       "\u001b[2;36m                    \u001b[0m         match the expected format of object detection prediction that could be    \u001b[2m            \u001b[0m\n",
       "\u001b[2;36m                    \u001b[0m         accepted by `\u001b[1;35msupervision.Detection.from_inference\u001b[0m\u001b[1m(\u001b[0m\u001b[33m...\u001b[0m\u001b[1m)\u001b[0m                    \u001b[2m            \u001b[0m\n"
      ]
     },
     "metadata": {},
     "output_type": "display_data"
    },
    {
     "name": "stdout",
     "output_type": "stream",
     "text": [
      "0: 384x640 1 person, 1 toilet, 472.2ms\n",
      "Speed: 1.6ms preprocess, 472.2ms inference, 0.6ms postprocess per image at shape (1, 3, 384, 640)\n",
      "Predictions made: [{'boxes': [[313.7710266113281, 176.943359375, 990.446533203125, 712.7822875976562], [101.2657470703125, 655.2548828125, 270.72344970703125, 719.072998046875]], 'scores': [0.9560852646827698, 0.2581758499145508], 'class_indices': [0.0, 61.0]}]\n",
      "Video frames: 1\n",
      "\n"
     ]
    },
    {
     "data": {
      "text/html": [
       "<pre style=\"white-space:pre;overflow-x:auto;line-height:normal;font-family:Menlo,'DejaVu Sans Mono',consolas,'Courier New',monospace\"><span style=\"color: #7fbfbf; text-decoration-color: #7fbfbf\">                    </span><span style=\"color: #800000; text-decoration-color: #800000\">WARNING </span> Used `<span style=\"color: #800080; text-decoration-color: #800080; font-weight: bold\">render_boxes</span><span style=\"font-weight: bold\">(</span><span style=\"color: #808000; text-decoration-color: #808000\">...</span><span style=\"font-weight: bold\">)</span>` sink, but predictions that were provided do not  <a href=\"file:///Users/saadia/Documents/DevIA_2024/coding_projects/ShiFuMi_computerVision/venv/lib/python3.9/site-packages/inference/core/interfaces/stream/sinks.py\" target=\"_blank\"><span style=\"color: #7f7f7f; text-decoration-color: #7f7f7f\">sinks.py</span></a><span style=\"color: #7f7f7f; text-decoration-color: #7f7f7f\">:</span><a href=\"file:///Users/saadia/Documents/DevIA_2024/coding_projects/ShiFuMi_computerVision/venv/lib/python3.9/site-packages/inference/core/interfaces/stream/sinks.py#176\" target=\"_blank\"><span style=\"color: #7f7f7f; text-decoration-color: #7f7f7f\">176</span></a>\n",
       "<span style=\"color: #7fbfbf; text-decoration-color: #7fbfbf\">                    </span>         match the expected format of object detection prediction that could be    <span style=\"color: #7f7f7f; text-decoration-color: #7f7f7f\">            </span>\n",
       "<span style=\"color: #7fbfbf; text-decoration-color: #7fbfbf\">                    </span>         accepted by `<span style=\"color: #800080; text-decoration-color: #800080; font-weight: bold\">supervision.Detection.from_inference</span><span style=\"font-weight: bold\">(</span><span style=\"color: #808000; text-decoration-color: #808000\">...</span><span style=\"font-weight: bold\">)</span>                    <span style=\"color: #7f7f7f; text-decoration-color: #7f7f7f\">            </span>\n",
       "</pre>\n"
      ],
      "text/plain": [
       "\u001b[2;36m                   \u001b[0m\u001b[2;36m \u001b[0m\u001b[31mWARNING \u001b[0m Used `\u001b[1;35mrender_boxes\u001b[0m\u001b[1m(\u001b[0m\u001b[33m...\u001b[0m\u001b[1m)\u001b[0m` sink, but predictions that were provided do not  \u001b]8;id=205707;file:///Users/saadia/Documents/DevIA_2024/coding_projects/ShiFuMi_computerVision/venv/lib/python3.9/site-packages/inference/core/interfaces/stream/sinks.py\u001b\\\u001b[2msinks.py\u001b[0m\u001b]8;;\u001b\\\u001b[2m:\u001b[0m\u001b]8;id=25771;file:///Users/saadia/Documents/DevIA_2024/coding_projects/ShiFuMi_computerVision/venv/lib/python3.9/site-packages/inference/core/interfaces/stream/sinks.py#176\u001b\\\u001b[2m176\u001b[0m\u001b]8;;\u001b\\\n",
       "\u001b[2;36m                    \u001b[0m         match the expected format of object detection prediction that could be    \u001b[2m            \u001b[0m\n",
       "\u001b[2;36m                    \u001b[0m         accepted by `\u001b[1;35msupervision.Detection.from_inference\u001b[0m\u001b[1m(\u001b[0m\u001b[33m...\u001b[0m\u001b[1m)\u001b[0m                    \u001b[2m            \u001b[0m\n"
      ]
     },
     "metadata": {},
     "output_type": "display_data"
    },
    {
     "name": "stdout",
     "output_type": "stream",
     "text": [
      "0: 384x640 1 person, 1 toilet, 466.2ms\n",
      "Speed: 2.1ms preprocess, 466.2ms inference, 0.7ms postprocess per image at shape (1, 3, 384, 640)\n",
      "Predictions made: [{'boxes': [[311.98248291015625, 176.7845458984375, 990.6054077148438, 712.93359375], [101.257568359375, 655.153076171875, 270.4220886230469, 719.083984375]], 'scores': [0.9574387073516846, 0.26740026473999023], 'class_indices': [0.0, 61.0]}]\n",
      "Video frames: 1\n",
      "\n"
     ]
    },
    {
     "data": {
      "text/html": [
       "<pre style=\"white-space:pre;overflow-x:auto;line-height:normal;font-family:Menlo,'DejaVu Sans Mono',consolas,'Courier New',monospace\"><span style=\"color: #7fbfbf; text-decoration-color: #7fbfbf\">[06/28/24 11:29:19] </span><span style=\"color: #800000; text-decoration-color: #800000\">WARNING </span> Used `<span style=\"color: #800080; text-decoration-color: #800080; font-weight: bold\">render_boxes</span><span style=\"font-weight: bold\">(</span><span style=\"color: #808000; text-decoration-color: #808000\">...</span><span style=\"font-weight: bold\">)</span>` sink, but predictions that were provided do not  <a href=\"file:///Users/saadia/Documents/DevIA_2024/coding_projects/ShiFuMi_computerVision/venv/lib/python3.9/site-packages/inference/core/interfaces/stream/sinks.py\" target=\"_blank\"><span style=\"color: #7f7f7f; text-decoration-color: #7f7f7f\">sinks.py</span></a><span style=\"color: #7f7f7f; text-decoration-color: #7f7f7f\">:</span><a href=\"file:///Users/saadia/Documents/DevIA_2024/coding_projects/ShiFuMi_computerVision/venv/lib/python3.9/site-packages/inference/core/interfaces/stream/sinks.py#176\" target=\"_blank\"><span style=\"color: #7f7f7f; text-decoration-color: #7f7f7f\">176</span></a>\n",
       "<span style=\"color: #7fbfbf; text-decoration-color: #7fbfbf\">                    </span>         match the expected format of object detection prediction that could be    <span style=\"color: #7f7f7f; text-decoration-color: #7f7f7f\">            </span>\n",
       "<span style=\"color: #7fbfbf; text-decoration-color: #7fbfbf\">                    </span>         accepted by `<span style=\"color: #800080; text-decoration-color: #800080; font-weight: bold\">supervision.Detection.from_inference</span><span style=\"font-weight: bold\">(</span><span style=\"color: #808000; text-decoration-color: #808000\">...</span><span style=\"font-weight: bold\">)</span>                    <span style=\"color: #7f7f7f; text-decoration-color: #7f7f7f\">            </span>\n",
       "</pre>\n"
      ],
      "text/plain": [
       "\u001b[2;36m[06/28/24 11:29:19]\u001b[0m\u001b[2;36m \u001b[0m\u001b[31mWARNING \u001b[0m Used `\u001b[1;35mrender_boxes\u001b[0m\u001b[1m(\u001b[0m\u001b[33m...\u001b[0m\u001b[1m)\u001b[0m` sink, but predictions that were provided do not  \u001b]8;id=867428;file:///Users/saadia/Documents/DevIA_2024/coding_projects/ShiFuMi_computerVision/venv/lib/python3.9/site-packages/inference/core/interfaces/stream/sinks.py\u001b\\\u001b[2msinks.py\u001b[0m\u001b]8;;\u001b\\\u001b[2m:\u001b[0m\u001b]8;id=958044;file:///Users/saadia/Documents/DevIA_2024/coding_projects/ShiFuMi_computerVision/venv/lib/python3.9/site-packages/inference/core/interfaces/stream/sinks.py#176\u001b\\\u001b[2m176\u001b[0m\u001b]8;;\u001b\\\n",
       "\u001b[2;36m                    \u001b[0m         match the expected format of object detection prediction that could be    \u001b[2m            \u001b[0m\n",
       "\u001b[2;36m                    \u001b[0m         accepted by `\u001b[1;35msupervision.Detection.from_inference\u001b[0m\u001b[1m(\u001b[0m\u001b[33m...\u001b[0m\u001b[1m)\u001b[0m                    \u001b[2m            \u001b[0m\n"
      ]
     },
     "metadata": {},
     "output_type": "display_data"
    },
    {
     "name": "stdout",
     "output_type": "stream",
     "text": [
      "0: 384x640 1 person, 1 toilet, 465.3ms\n",
      "Speed: 1.5ms preprocess, 465.3ms inference, 0.5ms postprocess per image at shape (1, 3, 384, 640)\n",
      "Predictions made: [{'boxes': [[314.2143249511719, 176.739013671875, 989.642822265625, 712.573486328125], [101.5699462890625, 654.6785278320312, 270.5197448730469, 719.1287231445312]], 'scores': [0.9534914493560791, 0.32427433133125305], 'class_indices': [0.0, 61.0]}]\n",
      "Video frames: 1\n",
      "\n"
     ]
    },
    {
     "data": {
      "text/html": [
       "<pre style=\"white-space:pre;overflow-x:auto;line-height:normal;font-family:Menlo,'DejaVu Sans Mono',consolas,'Courier New',monospace\"><span style=\"color: #7fbfbf; text-decoration-color: #7fbfbf\">                    </span><span style=\"color: #800000; text-decoration-color: #800000\">WARNING </span> Used `<span style=\"color: #800080; text-decoration-color: #800080; font-weight: bold\">render_boxes</span><span style=\"font-weight: bold\">(</span><span style=\"color: #808000; text-decoration-color: #808000\">...</span><span style=\"font-weight: bold\">)</span>` sink, but predictions that were provided do not  <a href=\"file:///Users/saadia/Documents/DevIA_2024/coding_projects/ShiFuMi_computerVision/venv/lib/python3.9/site-packages/inference/core/interfaces/stream/sinks.py\" target=\"_blank\"><span style=\"color: #7f7f7f; text-decoration-color: #7f7f7f\">sinks.py</span></a><span style=\"color: #7f7f7f; text-decoration-color: #7f7f7f\">:</span><a href=\"file:///Users/saadia/Documents/DevIA_2024/coding_projects/ShiFuMi_computerVision/venv/lib/python3.9/site-packages/inference/core/interfaces/stream/sinks.py#176\" target=\"_blank\"><span style=\"color: #7f7f7f; text-decoration-color: #7f7f7f\">176</span></a>\n",
       "<span style=\"color: #7fbfbf; text-decoration-color: #7fbfbf\">                    </span>         match the expected format of object detection prediction that could be    <span style=\"color: #7f7f7f; text-decoration-color: #7f7f7f\">            </span>\n",
       "<span style=\"color: #7fbfbf; text-decoration-color: #7fbfbf\">                    </span>         accepted by `<span style=\"color: #800080; text-decoration-color: #800080; font-weight: bold\">supervision.Detection.from_inference</span><span style=\"font-weight: bold\">(</span><span style=\"color: #808000; text-decoration-color: #808000\">...</span><span style=\"font-weight: bold\">)</span>                    <span style=\"color: #7f7f7f; text-decoration-color: #7f7f7f\">            </span>\n",
       "</pre>\n"
      ],
      "text/plain": [
       "\u001b[2;36m                   \u001b[0m\u001b[2;36m \u001b[0m\u001b[31mWARNING \u001b[0m Used `\u001b[1;35mrender_boxes\u001b[0m\u001b[1m(\u001b[0m\u001b[33m...\u001b[0m\u001b[1m)\u001b[0m` sink, but predictions that were provided do not  \u001b]8;id=547037;file:///Users/saadia/Documents/DevIA_2024/coding_projects/ShiFuMi_computerVision/venv/lib/python3.9/site-packages/inference/core/interfaces/stream/sinks.py\u001b\\\u001b[2msinks.py\u001b[0m\u001b]8;;\u001b\\\u001b[2m:\u001b[0m\u001b]8;id=104373;file:///Users/saadia/Documents/DevIA_2024/coding_projects/ShiFuMi_computerVision/venv/lib/python3.9/site-packages/inference/core/interfaces/stream/sinks.py#176\u001b\\\u001b[2m176\u001b[0m\u001b]8;;\u001b\\\n",
       "\u001b[2;36m                    \u001b[0m         match the expected format of object detection prediction that could be    \u001b[2m            \u001b[0m\n",
       "\u001b[2;36m                    \u001b[0m         accepted by `\u001b[1;35msupervision.Detection.from_inference\u001b[0m\u001b[1m(\u001b[0m\u001b[33m...\u001b[0m\u001b[1m)\u001b[0m                    \u001b[2m            \u001b[0m\n"
      ]
     },
     "metadata": {},
     "output_type": "display_data"
    },
    {
     "name": "stdout",
     "output_type": "stream",
     "text": [
      "0: 384x640 1 person, 482.1ms\n",
      "Speed: 2.5ms preprocess, 482.1ms inference, 0.8ms postprocess per image at shape (1, 3, 384, 640)\n",
      "Predictions made: [{'boxes': [[314.5528869628906, 176.1510009765625, 988.3360595703125, 712.4520263671875]], 'scores': [0.9549574851989746], 'class_indices': [0.0]}]\n",
      "Video frames: 1\n",
      "\n"
     ]
    },
    {
     "data": {
      "text/html": [
       "<pre style=\"white-space:pre;overflow-x:auto;line-height:normal;font-family:Menlo,'DejaVu Sans Mono',consolas,'Courier New',monospace\"><span style=\"color: #7fbfbf; text-decoration-color: #7fbfbf\">[06/28/24 11:29:20] </span><span style=\"color: #800000; text-decoration-color: #800000\">WARNING </span> Used `<span style=\"color: #800080; text-decoration-color: #800080; font-weight: bold\">render_boxes</span><span style=\"font-weight: bold\">(</span><span style=\"color: #808000; text-decoration-color: #808000\">...</span><span style=\"font-weight: bold\">)</span>` sink, but predictions that were provided do not  <a href=\"file:///Users/saadia/Documents/DevIA_2024/coding_projects/ShiFuMi_computerVision/venv/lib/python3.9/site-packages/inference/core/interfaces/stream/sinks.py\" target=\"_blank\"><span style=\"color: #7f7f7f; text-decoration-color: #7f7f7f\">sinks.py</span></a><span style=\"color: #7f7f7f; text-decoration-color: #7f7f7f\">:</span><a href=\"file:///Users/saadia/Documents/DevIA_2024/coding_projects/ShiFuMi_computerVision/venv/lib/python3.9/site-packages/inference/core/interfaces/stream/sinks.py#176\" target=\"_blank\"><span style=\"color: #7f7f7f; text-decoration-color: #7f7f7f\">176</span></a>\n",
       "<span style=\"color: #7fbfbf; text-decoration-color: #7fbfbf\">                    </span>         match the expected format of object detection prediction that could be    <span style=\"color: #7f7f7f; text-decoration-color: #7f7f7f\">            </span>\n",
       "<span style=\"color: #7fbfbf; text-decoration-color: #7fbfbf\">                    </span>         accepted by `<span style=\"color: #800080; text-decoration-color: #800080; font-weight: bold\">supervision.Detection.from_inference</span><span style=\"font-weight: bold\">(</span><span style=\"color: #808000; text-decoration-color: #808000\">...</span><span style=\"font-weight: bold\">)</span>                    <span style=\"color: #7f7f7f; text-decoration-color: #7f7f7f\">            </span>\n",
       "</pre>\n"
      ],
      "text/plain": [
       "\u001b[2;36m[06/28/24 11:29:20]\u001b[0m\u001b[2;36m \u001b[0m\u001b[31mWARNING \u001b[0m Used `\u001b[1;35mrender_boxes\u001b[0m\u001b[1m(\u001b[0m\u001b[33m...\u001b[0m\u001b[1m)\u001b[0m` sink, but predictions that were provided do not  \u001b]8;id=277335;file:///Users/saadia/Documents/DevIA_2024/coding_projects/ShiFuMi_computerVision/venv/lib/python3.9/site-packages/inference/core/interfaces/stream/sinks.py\u001b\\\u001b[2msinks.py\u001b[0m\u001b]8;;\u001b\\\u001b[2m:\u001b[0m\u001b]8;id=97565;file:///Users/saadia/Documents/DevIA_2024/coding_projects/ShiFuMi_computerVision/venv/lib/python3.9/site-packages/inference/core/interfaces/stream/sinks.py#176\u001b\\\u001b[2m176\u001b[0m\u001b]8;;\u001b\\\n",
       "\u001b[2;36m                    \u001b[0m         match the expected format of object detection prediction that could be    \u001b[2m            \u001b[0m\n",
       "\u001b[2;36m                    \u001b[0m         accepted by `\u001b[1;35msupervision.Detection.from_inference\u001b[0m\u001b[1m(\u001b[0m\u001b[33m...\u001b[0m\u001b[1m)\u001b[0m                    \u001b[2m            \u001b[0m\n"
      ]
     },
     "metadata": {},
     "output_type": "display_data"
    },
    {
     "name": "stdout",
     "output_type": "stream",
     "text": [
      "0: 384x640 1 person, 472.3ms\n",
      "Speed: 2.1ms preprocess, 472.3ms inference, 0.4ms postprocess per image at shape (1, 3, 384, 640)\n",
      "Predictions made: [{'boxes': [[316.1693420410156, 176.2977294921875, 988.0435791015625, 712.531494140625]], 'scores': [0.9562198519706726], 'class_indices': [0.0]}]\n",
      "Video frames: 1\n",
      "\n"
     ]
    },
    {
     "data": {
      "text/html": [
       "<pre style=\"white-space:pre;overflow-x:auto;line-height:normal;font-family:Menlo,'DejaVu Sans Mono',consolas,'Courier New',monospace\"><span style=\"color: #7fbfbf; text-decoration-color: #7fbfbf\">                    </span><span style=\"color: #800000; text-decoration-color: #800000\">WARNING </span> Used `<span style=\"color: #800080; text-decoration-color: #800080; font-weight: bold\">render_boxes</span><span style=\"font-weight: bold\">(</span><span style=\"color: #808000; text-decoration-color: #808000\">...</span><span style=\"font-weight: bold\">)</span>` sink, but predictions that were provided do not  <a href=\"file:///Users/saadia/Documents/DevIA_2024/coding_projects/ShiFuMi_computerVision/venv/lib/python3.9/site-packages/inference/core/interfaces/stream/sinks.py\" target=\"_blank\"><span style=\"color: #7f7f7f; text-decoration-color: #7f7f7f\">sinks.py</span></a><span style=\"color: #7f7f7f; text-decoration-color: #7f7f7f\">:</span><a href=\"file:///Users/saadia/Documents/DevIA_2024/coding_projects/ShiFuMi_computerVision/venv/lib/python3.9/site-packages/inference/core/interfaces/stream/sinks.py#176\" target=\"_blank\"><span style=\"color: #7f7f7f; text-decoration-color: #7f7f7f\">176</span></a>\n",
       "<span style=\"color: #7fbfbf; text-decoration-color: #7fbfbf\">                    </span>         match the expected format of object detection prediction that could be    <span style=\"color: #7f7f7f; text-decoration-color: #7f7f7f\">            </span>\n",
       "<span style=\"color: #7fbfbf; text-decoration-color: #7fbfbf\">                    </span>         accepted by `<span style=\"color: #800080; text-decoration-color: #800080; font-weight: bold\">supervision.Detection.from_inference</span><span style=\"font-weight: bold\">(</span><span style=\"color: #808000; text-decoration-color: #808000\">...</span><span style=\"font-weight: bold\">)</span>                    <span style=\"color: #7f7f7f; text-decoration-color: #7f7f7f\">            </span>\n",
       "</pre>\n"
      ],
      "text/plain": [
       "\u001b[2;36m                   \u001b[0m\u001b[2;36m \u001b[0m\u001b[31mWARNING \u001b[0m Used `\u001b[1;35mrender_boxes\u001b[0m\u001b[1m(\u001b[0m\u001b[33m...\u001b[0m\u001b[1m)\u001b[0m` sink, but predictions that were provided do not  \u001b]8;id=678517;file:///Users/saadia/Documents/DevIA_2024/coding_projects/ShiFuMi_computerVision/venv/lib/python3.9/site-packages/inference/core/interfaces/stream/sinks.py\u001b\\\u001b[2msinks.py\u001b[0m\u001b]8;;\u001b\\\u001b[2m:\u001b[0m\u001b]8;id=504066;file:///Users/saadia/Documents/DevIA_2024/coding_projects/ShiFuMi_computerVision/venv/lib/python3.9/site-packages/inference/core/interfaces/stream/sinks.py#176\u001b\\\u001b[2m176\u001b[0m\u001b]8;;\u001b\\\n",
       "\u001b[2;36m                    \u001b[0m         match the expected format of object detection prediction that could be    \u001b[2m            \u001b[0m\n",
       "\u001b[2;36m                    \u001b[0m         accepted by `\u001b[1;35msupervision.Detection.from_inference\u001b[0m\u001b[1m(\u001b[0m\u001b[33m...\u001b[0m\u001b[1m)\u001b[0m                    \u001b[2m            \u001b[0m\n"
      ]
     },
     "metadata": {},
     "output_type": "display_data"
    },
    {
     "name": "stdout",
     "output_type": "stream",
     "text": [
      "0: 384x640 1 person, 1 toilet, 527.3ms\n",
      "Speed: 1.4ms preprocess, 527.3ms inference, 0.5ms postprocess per image at shape (1, 3, 384, 640)\n",
      "Predictions made: [{'boxes': [[316.4900207519531, 176.19970703125, 987.013671875, 712.1905517578125], [101.12350463867188, 654.7845458984375, 270.5705261230469, 719.1136474609375]], 'scores': [0.9567689895629883, 0.28472664952278137], 'class_indices': [0.0, 61.0]}]\n",
      "Video frames: 1\n",
      "\n"
     ]
    },
    {
     "data": {
      "text/html": [
       "<pre style=\"white-space:pre;overflow-x:auto;line-height:normal;font-family:Menlo,'DejaVu Sans Mono',consolas,'Courier New',monospace\"><span style=\"color: #7fbfbf; text-decoration-color: #7fbfbf\">[06/28/24 11:29:21] </span><span style=\"color: #800000; text-decoration-color: #800000\">WARNING </span> Used `<span style=\"color: #800080; text-decoration-color: #800080; font-weight: bold\">render_boxes</span><span style=\"font-weight: bold\">(</span><span style=\"color: #808000; text-decoration-color: #808000\">...</span><span style=\"font-weight: bold\">)</span>` sink, but predictions that were provided do not  <a href=\"file:///Users/saadia/Documents/DevIA_2024/coding_projects/ShiFuMi_computerVision/venv/lib/python3.9/site-packages/inference/core/interfaces/stream/sinks.py\" target=\"_blank\"><span style=\"color: #7f7f7f; text-decoration-color: #7f7f7f\">sinks.py</span></a><span style=\"color: #7f7f7f; text-decoration-color: #7f7f7f\">:</span><a href=\"file:///Users/saadia/Documents/DevIA_2024/coding_projects/ShiFuMi_computerVision/venv/lib/python3.9/site-packages/inference/core/interfaces/stream/sinks.py#176\" target=\"_blank\"><span style=\"color: #7f7f7f; text-decoration-color: #7f7f7f\">176</span></a>\n",
       "<span style=\"color: #7fbfbf; text-decoration-color: #7fbfbf\">                    </span>         match the expected format of object detection prediction that could be    <span style=\"color: #7f7f7f; text-decoration-color: #7f7f7f\">            </span>\n",
       "<span style=\"color: #7fbfbf; text-decoration-color: #7fbfbf\">                    </span>         accepted by `<span style=\"color: #800080; text-decoration-color: #800080; font-weight: bold\">supervision.Detection.from_inference</span><span style=\"font-weight: bold\">(</span><span style=\"color: #808000; text-decoration-color: #808000\">...</span><span style=\"font-weight: bold\">)</span>                    <span style=\"color: #7f7f7f; text-decoration-color: #7f7f7f\">            </span>\n",
       "</pre>\n"
      ],
      "text/plain": [
       "\u001b[2;36m[06/28/24 11:29:21]\u001b[0m\u001b[2;36m \u001b[0m\u001b[31mWARNING \u001b[0m Used `\u001b[1;35mrender_boxes\u001b[0m\u001b[1m(\u001b[0m\u001b[33m...\u001b[0m\u001b[1m)\u001b[0m` sink, but predictions that were provided do not  \u001b]8;id=953041;file:///Users/saadia/Documents/DevIA_2024/coding_projects/ShiFuMi_computerVision/venv/lib/python3.9/site-packages/inference/core/interfaces/stream/sinks.py\u001b\\\u001b[2msinks.py\u001b[0m\u001b]8;;\u001b\\\u001b[2m:\u001b[0m\u001b]8;id=737056;file:///Users/saadia/Documents/DevIA_2024/coding_projects/ShiFuMi_computerVision/venv/lib/python3.9/site-packages/inference/core/interfaces/stream/sinks.py#176\u001b\\\u001b[2m176\u001b[0m\u001b]8;;\u001b\\\n",
       "\u001b[2;36m                    \u001b[0m         match the expected format of object detection prediction that could be    \u001b[2m            \u001b[0m\n",
       "\u001b[2;36m                    \u001b[0m         accepted by `\u001b[1;35msupervision.Detection.from_inference\u001b[0m\u001b[1m(\u001b[0m\u001b[33m...\u001b[0m\u001b[1m)\u001b[0m                    \u001b[2m            \u001b[0m\n"
      ]
     },
     "metadata": {},
     "output_type": "display_data"
    },
    {
     "name": "stdout",
     "output_type": "stream",
     "text": [
      "0: 384x640 1 person, 477.3ms\n",
      "Speed: 2.3ms preprocess, 477.3ms inference, 0.6ms postprocess per image at shape (1, 3, 384, 640)\n",
      "Predictions made: [{'boxes': [[316.66790771484375, 176.7850341796875, 987.3972778320312, 712.27734375]], 'scores': [0.955862820148468], 'class_indices': [0.0]}]\n",
      "Video frames: 1\n",
      "\n"
     ]
    },
    {
     "data": {
      "text/html": [
       "<pre style=\"white-space:pre;overflow-x:auto;line-height:normal;font-family:Menlo,'DejaVu Sans Mono',consolas,'Courier New',monospace\"><span style=\"color: #7fbfbf; text-decoration-color: #7fbfbf\">                    </span><span style=\"color: #800000; text-decoration-color: #800000\">WARNING </span> Used `<span style=\"color: #800080; text-decoration-color: #800080; font-weight: bold\">render_boxes</span><span style=\"font-weight: bold\">(</span><span style=\"color: #808000; text-decoration-color: #808000\">...</span><span style=\"font-weight: bold\">)</span>` sink, but predictions that were provided do not  <a href=\"file:///Users/saadia/Documents/DevIA_2024/coding_projects/ShiFuMi_computerVision/venv/lib/python3.9/site-packages/inference/core/interfaces/stream/sinks.py\" target=\"_blank\"><span style=\"color: #7f7f7f; text-decoration-color: #7f7f7f\">sinks.py</span></a><span style=\"color: #7f7f7f; text-decoration-color: #7f7f7f\">:</span><a href=\"file:///Users/saadia/Documents/DevIA_2024/coding_projects/ShiFuMi_computerVision/venv/lib/python3.9/site-packages/inference/core/interfaces/stream/sinks.py#176\" target=\"_blank\"><span style=\"color: #7f7f7f; text-decoration-color: #7f7f7f\">176</span></a>\n",
       "<span style=\"color: #7fbfbf; text-decoration-color: #7fbfbf\">                    </span>         match the expected format of object detection prediction that could be    <span style=\"color: #7f7f7f; text-decoration-color: #7f7f7f\">            </span>\n",
       "<span style=\"color: #7fbfbf; text-decoration-color: #7fbfbf\">                    </span>         accepted by `<span style=\"color: #800080; text-decoration-color: #800080; font-weight: bold\">supervision.Detection.from_inference</span><span style=\"font-weight: bold\">(</span><span style=\"color: #808000; text-decoration-color: #808000\">...</span><span style=\"font-weight: bold\">)</span>                    <span style=\"color: #7f7f7f; text-decoration-color: #7f7f7f\">            </span>\n",
       "</pre>\n"
      ],
      "text/plain": [
       "\u001b[2;36m                   \u001b[0m\u001b[2;36m \u001b[0m\u001b[31mWARNING \u001b[0m Used `\u001b[1;35mrender_boxes\u001b[0m\u001b[1m(\u001b[0m\u001b[33m...\u001b[0m\u001b[1m)\u001b[0m` sink, but predictions that were provided do not  \u001b]8;id=29752;file:///Users/saadia/Documents/DevIA_2024/coding_projects/ShiFuMi_computerVision/venv/lib/python3.9/site-packages/inference/core/interfaces/stream/sinks.py\u001b\\\u001b[2msinks.py\u001b[0m\u001b]8;;\u001b\\\u001b[2m:\u001b[0m\u001b]8;id=236124;file:///Users/saadia/Documents/DevIA_2024/coding_projects/ShiFuMi_computerVision/venv/lib/python3.9/site-packages/inference/core/interfaces/stream/sinks.py#176\u001b\\\u001b[2m176\u001b[0m\u001b]8;;\u001b\\\n",
       "\u001b[2;36m                    \u001b[0m         match the expected format of object detection prediction that could be    \u001b[2m            \u001b[0m\n",
       "\u001b[2;36m                    \u001b[0m         accepted by `\u001b[1;35msupervision.Detection.from_inference\u001b[0m\u001b[1m(\u001b[0m\u001b[33m...\u001b[0m\u001b[1m)\u001b[0m                    \u001b[2m            \u001b[0m\n"
      ]
     },
     "metadata": {},
     "output_type": "display_data"
    },
    {
     "name": "stdout",
     "output_type": "stream",
     "text": [
      "0: 384x640 1 person, 480.4ms\n",
      "Speed: 2.4ms preprocess, 480.4ms inference, 0.6ms postprocess per image at shape (1, 3, 384, 640)\n",
      "Predictions made: [{'boxes': [[315.4889831542969, 177.269287109375, 988.344482421875, 712.56640625]], 'scores': [0.9568266272544861], 'class_indices': [0.0]}]\n",
      "Video frames: 1\n",
      "\n"
     ]
    },
    {
     "data": {
      "text/html": [
       "<pre style=\"white-space:pre;overflow-x:auto;line-height:normal;font-family:Menlo,'DejaVu Sans Mono',consolas,'Courier New',monospace\"><span style=\"color: #7fbfbf; text-decoration-color: #7fbfbf\">[06/28/24 11:29:22] </span><span style=\"color: #800000; text-decoration-color: #800000\">WARNING </span> Used `<span style=\"color: #800080; text-decoration-color: #800080; font-weight: bold\">render_boxes</span><span style=\"font-weight: bold\">(</span><span style=\"color: #808000; text-decoration-color: #808000\">...</span><span style=\"font-weight: bold\">)</span>` sink, but predictions that were provided do not  <a href=\"file:///Users/saadia/Documents/DevIA_2024/coding_projects/ShiFuMi_computerVision/venv/lib/python3.9/site-packages/inference/core/interfaces/stream/sinks.py\" target=\"_blank\"><span style=\"color: #7f7f7f; text-decoration-color: #7f7f7f\">sinks.py</span></a><span style=\"color: #7f7f7f; text-decoration-color: #7f7f7f\">:</span><a href=\"file:///Users/saadia/Documents/DevIA_2024/coding_projects/ShiFuMi_computerVision/venv/lib/python3.9/site-packages/inference/core/interfaces/stream/sinks.py#176\" target=\"_blank\"><span style=\"color: #7f7f7f; text-decoration-color: #7f7f7f\">176</span></a>\n",
       "<span style=\"color: #7fbfbf; text-decoration-color: #7fbfbf\">                    </span>         match the expected format of object detection prediction that could be    <span style=\"color: #7f7f7f; text-decoration-color: #7f7f7f\">            </span>\n",
       "<span style=\"color: #7fbfbf; text-decoration-color: #7fbfbf\">                    </span>         accepted by `<span style=\"color: #800080; text-decoration-color: #800080; font-weight: bold\">supervision.Detection.from_inference</span><span style=\"font-weight: bold\">(</span><span style=\"color: #808000; text-decoration-color: #808000\">...</span><span style=\"font-weight: bold\">)</span>                    <span style=\"color: #7f7f7f; text-decoration-color: #7f7f7f\">            </span>\n",
       "</pre>\n"
      ],
      "text/plain": [
       "\u001b[2;36m[06/28/24 11:29:22]\u001b[0m\u001b[2;36m \u001b[0m\u001b[31mWARNING \u001b[0m Used `\u001b[1;35mrender_boxes\u001b[0m\u001b[1m(\u001b[0m\u001b[33m...\u001b[0m\u001b[1m)\u001b[0m` sink, but predictions that were provided do not  \u001b]8;id=329063;file:///Users/saadia/Documents/DevIA_2024/coding_projects/ShiFuMi_computerVision/venv/lib/python3.9/site-packages/inference/core/interfaces/stream/sinks.py\u001b\\\u001b[2msinks.py\u001b[0m\u001b]8;;\u001b\\\u001b[2m:\u001b[0m\u001b]8;id=779196;file:///Users/saadia/Documents/DevIA_2024/coding_projects/ShiFuMi_computerVision/venv/lib/python3.9/site-packages/inference/core/interfaces/stream/sinks.py#176\u001b\\\u001b[2m176\u001b[0m\u001b]8;;\u001b\\\n",
       "\u001b[2;36m                    \u001b[0m         match the expected format of object detection prediction that could be    \u001b[2m            \u001b[0m\n",
       "\u001b[2;36m                    \u001b[0m         accepted by `\u001b[1;35msupervision.Detection.from_inference\u001b[0m\u001b[1m(\u001b[0m\u001b[33m...\u001b[0m\u001b[1m)\u001b[0m                    \u001b[2m            \u001b[0m\n"
      ]
     },
     "metadata": {},
     "output_type": "display_data"
    },
    {
     "name": "stdout",
     "output_type": "stream",
     "text": [
      "0: 384x640 1 person, 1 toilet, 469.2ms\n",
      "Speed: 1.4ms preprocess, 469.2ms inference, 0.3ms postprocess per image at shape (1, 3, 384, 640)\n",
      "Predictions made: [{'boxes': [[315.46832275390625, 177.783935546875, 988.5059204101562, 712.6151123046875], [101.58184051513672, 654.84423828125, 270.9498291015625, 719.1868896484375]], 'scores': [0.9585406184196472, 0.29477083683013916], 'class_indices': [0.0, 61.0]}]\n",
      "Video frames: 1\n",
      "\n"
     ]
    },
    {
     "data": {
      "text/html": [
       "<pre style=\"white-space:pre;overflow-x:auto;line-height:normal;font-family:Menlo,'DejaVu Sans Mono',consolas,'Courier New',monospace\"><span style=\"color: #7fbfbf; text-decoration-color: #7fbfbf\">                    </span><span style=\"color: #800000; text-decoration-color: #800000\">WARNING </span> Used `<span style=\"color: #800080; text-decoration-color: #800080; font-weight: bold\">render_boxes</span><span style=\"font-weight: bold\">(</span><span style=\"color: #808000; text-decoration-color: #808000\">...</span><span style=\"font-weight: bold\">)</span>` sink, but predictions that were provided do not  <a href=\"file:///Users/saadia/Documents/DevIA_2024/coding_projects/ShiFuMi_computerVision/venv/lib/python3.9/site-packages/inference/core/interfaces/stream/sinks.py\" target=\"_blank\"><span style=\"color: #7f7f7f; text-decoration-color: #7f7f7f\">sinks.py</span></a><span style=\"color: #7f7f7f; text-decoration-color: #7f7f7f\">:</span><a href=\"file:///Users/saadia/Documents/DevIA_2024/coding_projects/ShiFuMi_computerVision/venv/lib/python3.9/site-packages/inference/core/interfaces/stream/sinks.py#176\" target=\"_blank\"><span style=\"color: #7f7f7f; text-decoration-color: #7f7f7f\">176</span></a>\n",
       "<span style=\"color: #7fbfbf; text-decoration-color: #7fbfbf\">                    </span>         match the expected format of object detection prediction that could be    <span style=\"color: #7f7f7f; text-decoration-color: #7f7f7f\">            </span>\n",
       "<span style=\"color: #7fbfbf; text-decoration-color: #7fbfbf\">                    </span>         accepted by `<span style=\"color: #800080; text-decoration-color: #800080; font-weight: bold\">supervision.Detection.from_inference</span><span style=\"font-weight: bold\">(</span><span style=\"color: #808000; text-decoration-color: #808000\">...</span><span style=\"font-weight: bold\">)</span>                    <span style=\"color: #7f7f7f; text-decoration-color: #7f7f7f\">            </span>\n",
       "</pre>\n"
      ],
      "text/plain": [
       "\u001b[2;36m                   \u001b[0m\u001b[2;36m \u001b[0m\u001b[31mWARNING \u001b[0m Used `\u001b[1;35mrender_boxes\u001b[0m\u001b[1m(\u001b[0m\u001b[33m...\u001b[0m\u001b[1m)\u001b[0m` sink, but predictions that were provided do not  \u001b]8;id=642683;file:///Users/saadia/Documents/DevIA_2024/coding_projects/ShiFuMi_computerVision/venv/lib/python3.9/site-packages/inference/core/interfaces/stream/sinks.py\u001b\\\u001b[2msinks.py\u001b[0m\u001b]8;;\u001b\\\u001b[2m:\u001b[0m\u001b]8;id=759958;file:///Users/saadia/Documents/DevIA_2024/coding_projects/ShiFuMi_computerVision/venv/lib/python3.9/site-packages/inference/core/interfaces/stream/sinks.py#176\u001b\\\u001b[2m176\u001b[0m\u001b]8;;\u001b\\\n",
       "\u001b[2;36m                    \u001b[0m         match the expected format of object detection prediction that could be    \u001b[2m            \u001b[0m\n",
       "\u001b[2;36m                    \u001b[0m         accepted by `\u001b[1;35msupervision.Detection.from_inference\u001b[0m\u001b[1m(\u001b[0m\u001b[33m...\u001b[0m\u001b[1m)\u001b[0m                    \u001b[2m            \u001b[0m\n"
      ]
     },
     "metadata": {},
     "output_type": "display_data"
    },
    {
     "name": "stdout",
     "output_type": "stream",
     "text": [
      "0: 384x640 1 person, 1 toilet, 483.2ms\n",
      "Speed: 2.4ms preprocess, 483.2ms inference, 0.4ms postprocess per image at shape (1, 3, 384, 640)\n",
      "Predictions made: [{'boxes': [[311.7720642089844, 178.395751953125, 989.9708251953125, 712.552978515625], [101.33226776123047, 655.159423828125, 270.54083251953125, 719.102783203125]], 'scores': [0.95371413230896, 0.3121180236339569], 'class_indices': [0.0, 61.0]}]\n",
      "Video frames: 1\n",
      "\n"
     ]
    },
    {
     "data": {
      "text/html": [
       "<pre style=\"white-space:pre;overflow-x:auto;line-height:normal;font-family:Menlo,'DejaVu Sans Mono',consolas,'Courier New',monospace\"><span style=\"color: #7fbfbf; text-decoration-color: #7fbfbf\">[06/28/24 11:29:23] </span><span style=\"color: #800000; text-decoration-color: #800000\">WARNING </span> Used `<span style=\"color: #800080; text-decoration-color: #800080; font-weight: bold\">render_boxes</span><span style=\"font-weight: bold\">(</span><span style=\"color: #808000; text-decoration-color: #808000\">...</span><span style=\"font-weight: bold\">)</span>` sink, but predictions that were provided do not  <a href=\"file:///Users/saadia/Documents/DevIA_2024/coding_projects/ShiFuMi_computerVision/venv/lib/python3.9/site-packages/inference/core/interfaces/stream/sinks.py\" target=\"_blank\"><span style=\"color: #7f7f7f; text-decoration-color: #7f7f7f\">sinks.py</span></a><span style=\"color: #7f7f7f; text-decoration-color: #7f7f7f\">:</span><a href=\"file:///Users/saadia/Documents/DevIA_2024/coding_projects/ShiFuMi_computerVision/venv/lib/python3.9/site-packages/inference/core/interfaces/stream/sinks.py#176\" target=\"_blank\"><span style=\"color: #7f7f7f; text-decoration-color: #7f7f7f\">176</span></a>\n",
       "<span style=\"color: #7fbfbf; text-decoration-color: #7fbfbf\">                    </span>         match the expected format of object detection prediction that could be    <span style=\"color: #7f7f7f; text-decoration-color: #7f7f7f\">            </span>\n",
       "<span style=\"color: #7fbfbf; text-decoration-color: #7fbfbf\">                    </span>         accepted by `<span style=\"color: #800080; text-decoration-color: #800080; font-weight: bold\">supervision.Detection.from_inference</span><span style=\"font-weight: bold\">(</span><span style=\"color: #808000; text-decoration-color: #808000\">...</span><span style=\"font-weight: bold\">)</span>                    <span style=\"color: #7f7f7f; text-decoration-color: #7f7f7f\">            </span>\n",
       "</pre>\n"
      ],
      "text/plain": [
       "\u001b[2;36m[06/28/24 11:29:23]\u001b[0m\u001b[2;36m \u001b[0m\u001b[31mWARNING \u001b[0m Used `\u001b[1;35mrender_boxes\u001b[0m\u001b[1m(\u001b[0m\u001b[33m...\u001b[0m\u001b[1m)\u001b[0m` sink, but predictions that were provided do not  \u001b]8;id=5881;file:///Users/saadia/Documents/DevIA_2024/coding_projects/ShiFuMi_computerVision/venv/lib/python3.9/site-packages/inference/core/interfaces/stream/sinks.py\u001b\\\u001b[2msinks.py\u001b[0m\u001b]8;;\u001b\\\u001b[2m:\u001b[0m\u001b]8;id=402509;file:///Users/saadia/Documents/DevIA_2024/coding_projects/ShiFuMi_computerVision/venv/lib/python3.9/site-packages/inference/core/interfaces/stream/sinks.py#176\u001b\\\u001b[2m176\u001b[0m\u001b]8;;\u001b\\\n",
       "\u001b[2;36m                    \u001b[0m         match the expected format of object detection prediction that could be    \u001b[2m            \u001b[0m\n",
       "\u001b[2;36m                    \u001b[0m         accepted by `\u001b[1;35msupervision.Detection.from_inference\u001b[0m\u001b[1m(\u001b[0m\u001b[33m...\u001b[0m\u001b[1m)\u001b[0m                    \u001b[2m            \u001b[0m\n"
      ]
     },
     "metadata": {},
     "output_type": "display_data"
    },
    {
     "name": "stdout",
     "output_type": "stream",
     "text": [
      "0: 384x640 1 person, 1 toilet, 471.0ms\n",
      "Speed: 2.4ms preprocess, 471.0ms inference, 0.6ms postprocess per image at shape (1, 3, 384, 640)\n",
      "Predictions made: [{'boxes': [[309.4234619140625, 178.953125, 990.40771484375, 712.4593505859375], [101.368896484375, 655.19873046875, 271.02154541015625, 719.2042236328125]], 'scores': [0.9563186168670654, 0.37383994460105896], 'class_indices': [0.0, 61.0]}]\n",
      "Video frames: 1\n",
      "\n"
     ]
    },
    {
     "data": {
      "text/html": [
       "<pre style=\"white-space:pre;overflow-x:auto;line-height:normal;font-family:Menlo,'DejaVu Sans Mono',consolas,'Courier New',monospace\"><span style=\"color: #7fbfbf; text-decoration-color: #7fbfbf\">                    </span><span style=\"color: #800000; text-decoration-color: #800000\">WARNING </span> Used `<span style=\"color: #800080; text-decoration-color: #800080; font-weight: bold\">render_boxes</span><span style=\"font-weight: bold\">(</span><span style=\"color: #808000; text-decoration-color: #808000\">...</span><span style=\"font-weight: bold\">)</span>` sink, but predictions that were provided do not  <a href=\"file:///Users/saadia/Documents/DevIA_2024/coding_projects/ShiFuMi_computerVision/venv/lib/python3.9/site-packages/inference/core/interfaces/stream/sinks.py\" target=\"_blank\"><span style=\"color: #7f7f7f; text-decoration-color: #7f7f7f\">sinks.py</span></a><span style=\"color: #7f7f7f; text-decoration-color: #7f7f7f\">:</span><a href=\"file:///Users/saadia/Documents/DevIA_2024/coding_projects/ShiFuMi_computerVision/venv/lib/python3.9/site-packages/inference/core/interfaces/stream/sinks.py#176\" target=\"_blank\"><span style=\"color: #7f7f7f; text-decoration-color: #7f7f7f\">176</span></a>\n",
       "<span style=\"color: #7fbfbf; text-decoration-color: #7fbfbf\">                    </span>         match the expected format of object detection prediction that could be    <span style=\"color: #7f7f7f; text-decoration-color: #7f7f7f\">            </span>\n",
       "<span style=\"color: #7fbfbf; text-decoration-color: #7fbfbf\">                    </span>         accepted by `<span style=\"color: #800080; text-decoration-color: #800080; font-weight: bold\">supervision.Detection.from_inference</span><span style=\"font-weight: bold\">(</span><span style=\"color: #808000; text-decoration-color: #808000\">...</span><span style=\"font-weight: bold\">)</span>                    <span style=\"color: #7f7f7f; text-decoration-color: #7f7f7f\">            </span>\n",
       "</pre>\n"
      ],
      "text/plain": [
       "\u001b[2;36m                   \u001b[0m\u001b[2;36m \u001b[0m\u001b[31mWARNING \u001b[0m Used `\u001b[1;35mrender_boxes\u001b[0m\u001b[1m(\u001b[0m\u001b[33m...\u001b[0m\u001b[1m)\u001b[0m` sink, but predictions that were provided do not  \u001b]8;id=927294;file:///Users/saadia/Documents/DevIA_2024/coding_projects/ShiFuMi_computerVision/venv/lib/python3.9/site-packages/inference/core/interfaces/stream/sinks.py\u001b\\\u001b[2msinks.py\u001b[0m\u001b]8;;\u001b\\\u001b[2m:\u001b[0m\u001b]8;id=439481;file:///Users/saadia/Documents/DevIA_2024/coding_projects/ShiFuMi_computerVision/venv/lib/python3.9/site-packages/inference/core/interfaces/stream/sinks.py#176\u001b\\\u001b[2m176\u001b[0m\u001b]8;;\u001b\\\n",
       "\u001b[2;36m                    \u001b[0m         match the expected format of object detection prediction that could be    \u001b[2m            \u001b[0m\n",
       "\u001b[2;36m                    \u001b[0m         accepted by `\u001b[1;35msupervision.Detection.from_inference\u001b[0m\u001b[1m(\u001b[0m\u001b[33m...\u001b[0m\u001b[1m)\u001b[0m                    \u001b[2m            \u001b[0m\n"
      ]
     },
     "metadata": {},
     "output_type": "display_data"
    },
    {
     "name": "stdout",
     "output_type": "stream",
     "text": [
      "0: 384x640 1 person, 469.6ms\n",
      "Speed: 1.5ms preprocess, 469.6ms inference, 0.4ms postprocess per image at shape (1, 3, 384, 640)\n",
      "Predictions made: [{'boxes': [[311.1436767578125, 175.908203125, 991.69189453125, 712.14892578125]], 'scores': [0.9560105204582214], 'class_indices': [0.0]}]\n",
      "Video frames: 1\n",
      "\n"
     ]
    },
    {
     "data": {
      "text/html": [
       "<pre style=\"white-space:pre;overflow-x:auto;line-height:normal;font-family:Menlo,'DejaVu Sans Mono',consolas,'Courier New',monospace\"><span style=\"color: #7fbfbf; text-decoration-color: #7fbfbf\">[06/28/24 11:29:24] </span><span style=\"color: #800000; text-decoration-color: #800000\">WARNING </span> Used `<span style=\"color: #800080; text-decoration-color: #800080; font-weight: bold\">render_boxes</span><span style=\"font-weight: bold\">(</span><span style=\"color: #808000; text-decoration-color: #808000\">...</span><span style=\"font-weight: bold\">)</span>` sink, but predictions that were provided do not  <a href=\"file:///Users/saadia/Documents/DevIA_2024/coding_projects/ShiFuMi_computerVision/venv/lib/python3.9/site-packages/inference/core/interfaces/stream/sinks.py\" target=\"_blank\"><span style=\"color: #7f7f7f; text-decoration-color: #7f7f7f\">sinks.py</span></a><span style=\"color: #7f7f7f; text-decoration-color: #7f7f7f\">:</span><a href=\"file:///Users/saadia/Documents/DevIA_2024/coding_projects/ShiFuMi_computerVision/venv/lib/python3.9/site-packages/inference/core/interfaces/stream/sinks.py#176\" target=\"_blank\"><span style=\"color: #7f7f7f; text-decoration-color: #7f7f7f\">176</span></a>\n",
       "<span style=\"color: #7fbfbf; text-decoration-color: #7fbfbf\">                    </span>         match the expected format of object detection prediction that could be    <span style=\"color: #7f7f7f; text-decoration-color: #7f7f7f\">            </span>\n",
       "<span style=\"color: #7fbfbf; text-decoration-color: #7fbfbf\">                    </span>         accepted by `<span style=\"color: #800080; text-decoration-color: #800080; font-weight: bold\">supervision.Detection.from_inference</span><span style=\"font-weight: bold\">(</span><span style=\"color: #808000; text-decoration-color: #808000\">...</span><span style=\"font-weight: bold\">)</span>                    <span style=\"color: #7f7f7f; text-decoration-color: #7f7f7f\">            </span>\n",
       "</pre>\n"
      ],
      "text/plain": [
       "\u001b[2;36m[06/28/24 11:29:24]\u001b[0m\u001b[2;36m \u001b[0m\u001b[31mWARNING \u001b[0m Used `\u001b[1;35mrender_boxes\u001b[0m\u001b[1m(\u001b[0m\u001b[33m...\u001b[0m\u001b[1m)\u001b[0m` sink, but predictions that were provided do not  \u001b]8;id=664577;file:///Users/saadia/Documents/DevIA_2024/coding_projects/ShiFuMi_computerVision/venv/lib/python3.9/site-packages/inference/core/interfaces/stream/sinks.py\u001b\\\u001b[2msinks.py\u001b[0m\u001b]8;;\u001b\\\u001b[2m:\u001b[0m\u001b]8;id=777028;file:///Users/saadia/Documents/DevIA_2024/coding_projects/ShiFuMi_computerVision/venv/lib/python3.9/site-packages/inference/core/interfaces/stream/sinks.py#176\u001b\\\u001b[2m176\u001b[0m\u001b]8;;\u001b\\\n",
       "\u001b[2;36m                    \u001b[0m         match the expected format of object detection prediction that could be    \u001b[2m            \u001b[0m\n",
       "\u001b[2;36m                    \u001b[0m         accepted by `\u001b[1;35msupervision.Detection.from_inference\u001b[0m\u001b[1m(\u001b[0m\u001b[33m...\u001b[0m\u001b[1m)\u001b[0m                    \u001b[2m            \u001b[0m\n"
      ]
     },
     "metadata": {},
     "output_type": "display_data"
    },
    {
     "name": "stdout",
     "output_type": "stream",
     "text": [
      "0: 384x640 1 person, 481.2ms\n",
      "Speed: 2.2ms preprocess, 481.2ms inference, 0.5ms postprocess per image at shape (1, 3, 384, 640)\n",
      "Predictions made: [{'boxes': [[312.5103759765625, 176.3665771484375, 991.748291015625, 712.4005737304688]], 'scores': [0.9588909149169922], 'class_indices': [0.0]}]\n",
      "Video frames: 1\n",
      "\n"
     ]
    },
    {
     "data": {
      "text/html": [
       "<pre style=\"white-space:pre;overflow-x:auto;line-height:normal;font-family:Menlo,'DejaVu Sans Mono',consolas,'Courier New',monospace\"><span style=\"color: #7fbfbf; text-decoration-color: #7fbfbf\">                    </span><span style=\"color: #800000; text-decoration-color: #800000\">WARNING </span> Used `<span style=\"color: #800080; text-decoration-color: #800080; font-weight: bold\">render_boxes</span><span style=\"font-weight: bold\">(</span><span style=\"color: #808000; text-decoration-color: #808000\">...</span><span style=\"font-weight: bold\">)</span>` sink, but predictions that were provided do not  <a href=\"file:///Users/saadia/Documents/DevIA_2024/coding_projects/ShiFuMi_computerVision/venv/lib/python3.9/site-packages/inference/core/interfaces/stream/sinks.py\" target=\"_blank\"><span style=\"color: #7f7f7f; text-decoration-color: #7f7f7f\">sinks.py</span></a><span style=\"color: #7f7f7f; text-decoration-color: #7f7f7f\">:</span><a href=\"file:///Users/saadia/Documents/DevIA_2024/coding_projects/ShiFuMi_computerVision/venv/lib/python3.9/site-packages/inference/core/interfaces/stream/sinks.py#176\" target=\"_blank\"><span style=\"color: #7f7f7f; text-decoration-color: #7f7f7f\">176</span></a>\n",
       "<span style=\"color: #7fbfbf; text-decoration-color: #7fbfbf\">                    </span>         match the expected format of object detection prediction that could be    <span style=\"color: #7f7f7f; text-decoration-color: #7f7f7f\">            </span>\n",
       "<span style=\"color: #7fbfbf; text-decoration-color: #7fbfbf\">                    </span>         accepted by `<span style=\"color: #800080; text-decoration-color: #800080; font-weight: bold\">supervision.Detection.from_inference</span><span style=\"font-weight: bold\">(</span><span style=\"color: #808000; text-decoration-color: #808000\">...</span><span style=\"font-weight: bold\">)</span>                    <span style=\"color: #7f7f7f; text-decoration-color: #7f7f7f\">            </span>\n",
       "</pre>\n"
      ],
      "text/plain": [
       "\u001b[2;36m                   \u001b[0m\u001b[2;36m \u001b[0m\u001b[31mWARNING \u001b[0m Used `\u001b[1;35mrender_boxes\u001b[0m\u001b[1m(\u001b[0m\u001b[33m...\u001b[0m\u001b[1m)\u001b[0m` sink, but predictions that were provided do not  \u001b]8;id=180212;file:///Users/saadia/Documents/DevIA_2024/coding_projects/ShiFuMi_computerVision/venv/lib/python3.9/site-packages/inference/core/interfaces/stream/sinks.py\u001b\\\u001b[2msinks.py\u001b[0m\u001b]8;;\u001b\\\u001b[2m:\u001b[0m\u001b]8;id=933719;file:///Users/saadia/Documents/DevIA_2024/coding_projects/ShiFuMi_computerVision/venv/lib/python3.9/site-packages/inference/core/interfaces/stream/sinks.py#176\u001b\\\u001b[2m176\u001b[0m\u001b]8;;\u001b\\\n",
       "\u001b[2;36m                    \u001b[0m         match the expected format of object detection prediction that could be    \u001b[2m            \u001b[0m\n",
       "\u001b[2;36m                    \u001b[0m         accepted by `\u001b[1;35msupervision.Detection.from_inference\u001b[0m\u001b[1m(\u001b[0m\u001b[33m...\u001b[0m\u001b[1m)\u001b[0m                    \u001b[2m            \u001b[0m\n"
      ]
     },
     "metadata": {},
     "output_type": "display_data"
    },
    {
     "name": "stdout",
     "output_type": "stream",
     "text": [
      "0: 384x640 1 person, 463.3ms\n",
      "Speed: 2.0ms preprocess, 463.3ms inference, 0.6ms postprocess per image at shape (1, 3, 384, 640)\n",
      "Predictions made: [{'boxes': [[315.63037109375, 177.56396484375, 991.0518798828125, 712.3284912109375]], 'scores': [0.9592711925506592], 'class_indices': [0.0]}]\n",
      "Video frames: 1\n",
      "\n"
     ]
    },
    {
     "data": {
      "text/html": [
       "<pre style=\"white-space:pre;overflow-x:auto;line-height:normal;font-family:Menlo,'DejaVu Sans Mono',consolas,'Courier New',monospace\"><span style=\"color: #7fbfbf; text-decoration-color: #7fbfbf\">[06/28/24 11:29:25] </span><span style=\"color: #800000; text-decoration-color: #800000\">WARNING </span> Used `<span style=\"color: #800080; text-decoration-color: #800080; font-weight: bold\">render_boxes</span><span style=\"font-weight: bold\">(</span><span style=\"color: #808000; text-decoration-color: #808000\">...</span><span style=\"font-weight: bold\">)</span>` sink, but predictions that were provided do not  <a href=\"file:///Users/saadia/Documents/DevIA_2024/coding_projects/ShiFuMi_computerVision/venv/lib/python3.9/site-packages/inference/core/interfaces/stream/sinks.py\" target=\"_blank\"><span style=\"color: #7f7f7f; text-decoration-color: #7f7f7f\">sinks.py</span></a><span style=\"color: #7f7f7f; text-decoration-color: #7f7f7f\">:</span><a href=\"file:///Users/saadia/Documents/DevIA_2024/coding_projects/ShiFuMi_computerVision/venv/lib/python3.9/site-packages/inference/core/interfaces/stream/sinks.py#176\" target=\"_blank\"><span style=\"color: #7f7f7f; text-decoration-color: #7f7f7f\">176</span></a>\n",
       "<span style=\"color: #7fbfbf; text-decoration-color: #7fbfbf\">                    </span>         match the expected format of object detection prediction that could be    <span style=\"color: #7f7f7f; text-decoration-color: #7f7f7f\">            </span>\n",
       "<span style=\"color: #7fbfbf; text-decoration-color: #7fbfbf\">                    </span>         accepted by `<span style=\"color: #800080; text-decoration-color: #800080; font-weight: bold\">supervision.Detection.from_inference</span><span style=\"font-weight: bold\">(</span><span style=\"color: #808000; text-decoration-color: #808000\">...</span><span style=\"font-weight: bold\">)</span>                    <span style=\"color: #7f7f7f; text-decoration-color: #7f7f7f\">            </span>\n",
       "</pre>\n"
      ],
      "text/plain": [
       "\u001b[2;36m[06/28/24 11:29:25]\u001b[0m\u001b[2;36m \u001b[0m\u001b[31mWARNING \u001b[0m Used `\u001b[1;35mrender_boxes\u001b[0m\u001b[1m(\u001b[0m\u001b[33m...\u001b[0m\u001b[1m)\u001b[0m` sink, but predictions that were provided do not  \u001b]8;id=385859;file:///Users/saadia/Documents/DevIA_2024/coding_projects/ShiFuMi_computerVision/venv/lib/python3.9/site-packages/inference/core/interfaces/stream/sinks.py\u001b\\\u001b[2msinks.py\u001b[0m\u001b]8;;\u001b\\\u001b[2m:\u001b[0m\u001b]8;id=693870;file:///Users/saadia/Documents/DevIA_2024/coding_projects/ShiFuMi_computerVision/venv/lib/python3.9/site-packages/inference/core/interfaces/stream/sinks.py#176\u001b\\\u001b[2m176\u001b[0m\u001b]8;;\u001b\\\n",
       "\u001b[2;36m                    \u001b[0m         match the expected format of object detection prediction that could be    \u001b[2m            \u001b[0m\n",
       "\u001b[2;36m                    \u001b[0m         accepted by `\u001b[1;35msupervision.Detection.from_inference\u001b[0m\u001b[1m(\u001b[0m\u001b[33m...\u001b[0m\u001b[1m)\u001b[0m                    \u001b[2m            \u001b[0m\n"
      ]
     },
     "metadata": {},
     "output_type": "display_data"
    },
    {
     "name": "stdout",
     "output_type": "stream",
     "text": [
      "0: 384x640 1 person, 467.4ms\n",
      "Speed: 1.6ms preprocess, 467.4ms inference, 0.3ms postprocess per image at shape (1, 3, 384, 640)\n",
      "Predictions made: [{'boxes': [[300.30419921875, 180.315185546875, 1026.91845703125, 712.439453125]], 'scores': [0.9574718475341797], 'class_indices': [0.0]}]\n",
      "Video frames: 1\n",
      "\n"
     ]
    },
    {
     "data": {
      "text/html": [
       "<pre style=\"white-space:pre;overflow-x:auto;line-height:normal;font-family:Menlo,'DejaVu Sans Mono',consolas,'Courier New',monospace\"><span style=\"color: #7fbfbf; text-decoration-color: #7fbfbf\">                    </span><span style=\"color: #800000; text-decoration-color: #800000\">WARNING </span> Used `<span style=\"color: #800080; text-decoration-color: #800080; font-weight: bold\">render_boxes</span><span style=\"font-weight: bold\">(</span><span style=\"color: #808000; text-decoration-color: #808000\">...</span><span style=\"font-weight: bold\">)</span>` sink, but predictions that were provided do not  <a href=\"file:///Users/saadia/Documents/DevIA_2024/coding_projects/ShiFuMi_computerVision/venv/lib/python3.9/site-packages/inference/core/interfaces/stream/sinks.py\" target=\"_blank\"><span style=\"color: #7f7f7f; text-decoration-color: #7f7f7f\">sinks.py</span></a><span style=\"color: #7f7f7f; text-decoration-color: #7f7f7f\">:</span><a href=\"file:///Users/saadia/Documents/DevIA_2024/coding_projects/ShiFuMi_computerVision/venv/lib/python3.9/site-packages/inference/core/interfaces/stream/sinks.py#176\" target=\"_blank\"><span style=\"color: #7f7f7f; text-decoration-color: #7f7f7f\">176</span></a>\n",
       "<span style=\"color: #7fbfbf; text-decoration-color: #7fbfbf\">                    </span>         match the expected format of object detection prediction that could be    <span style=\"color: #7f7f7f; text-decoration-color: #7f7f7f\">            </span>\n",
       "<span style=\"color: #7fbfbf; text-decoration-color: #7fbfbf\">                    </span>         accepted by `<span style=\"color: #800080; text-decoration-color: #800080; font-weight: bold\">supervision.Detection.from_inference</span><span style=\"font-weight: bold\">(</span><span style=\"color: #808000; text-decoration-color: #808000\">...</span><span style=\"font-weight: bold\">)</span>                    <span style=\"color: #7f7f7f; text-decoration-color: #7f7f7f\">            </span>\n",
       "</pre>\n"
      ],
      "text/plain": [
       "\u001b[2;36m                   \u001b[0m\u001b[2;36m \u001b[0m\u001b[31mWARNING \u001b[0m Used `\u001b[1;35mrender_boxes\u001b[0m\u001b[1m(\u001b[0m\u001b[33m...\u001b[0m\u001b[1m)\u001b[0m` sink, but predictions that were provided do not  \u001b]8;id=720864;file:///Users/saadia/Documents/DevIA_2024/coding_projects/ShiFuMi_computerVision/venv/lib/python3.9/site-packages/inference/core/interfaces/stream/sinks.py\u001b\\\u001b[2msinks.py\u001b[0m\u001b]8;;\u001b\\\u001b[2m:\u001b[0m\u001b]8;id=453247;file:///Users/saadia/Documents/DevIA_2024/coding_projects/ShiFuMi_computerVision/venv/lib/python3.9/site-packages/inference/core/interfaces/stream/sinks.py#176\u001b\\\u001b[2m176\u001b[0m\u001b]8;;\u001b\\\n",
       "\u001b[2;36m                    \u001b[0m         match the expected format of object detection prediction that could be    \u001b[2m            \u001b[0m\n",
       "\u001b[2;36m                    \u001b[0m         accepted by `\u001b[1;35msupervision.Detection.from_inference\u001b[0m\u001b[1m(\u001b[0m\u001b[33m...\u001b[0m\u001b[1m)\u001b[0m                    \u001b[2m            \u001b[0m\n"
      ]
     },
     "metadata": {},
     "output_type": "display_data"
    },
    {
     "name": "stdout",
     "output_type": "stream",
     "text": [
      "0: 384x640 1 person, 466.6ms\n",
      "Speed: 1.9ms preprocess, 466.6ms inference, 0.4ms postprocess per image at shape (1, 3, 384, 640)\n",
      "Predictions made: [{'boxes': [[299.227294921875, 175.1053466796875, 983.7642822265625, 713.26025390625]], 'scores': [0.9541743993759155], 'class_indices': [0.0]}]\n",
      "Video frames: 1\n",
      "\n"
     ]
    },
    {
     "data": {
      "text/html": [
       "<pre style=\"white-space:pre;overflow-x:auto;line-height:normal;font-family:Menlo,'DejaVu Sans Mono',consolas,'Courier New',monospace\"><span style=\"color: #7fbfbf; text-decoration-color: #7fbfbf\">[06/28/24 11:29:26] </span><span style=\"color: #800000; text-decoration-color: #800000\">WARNING </span> Used `<span style=\"color: #800080; text-decoration-color: #800080; font-weight: bold\">render_boxes</span><span style=\"font-weight: bold\">(</span><span style=\"color: #808000; text-decoration-color: #808000\">...</span><span style=\"font-weight: bold\">)</span>` sink, but predictions that were provided do not  <a href=\"file:///Users/saadia/Documents/DevIA_2024/coding_projects/ShiFuMi_computerVision/venv/lib/python3.9/site-packages/inference/core/interfaces/stream/sinks.py\" target=\"_blank\"><span style=\"color: #7f7f7f; text-decoration-color: #7f7f7f\">sinks.py</span></a><span style=\"color: #7f7f7f; text-decoration-color: #7f7f7f\">:</span><a href=\"file:///Users/saadia/Documents/DevIA_2024/coding_projects/ShiFuMi_computerVision/venv/lib/python3.9/site-packages/inference/core/interfaces/stream/sinks.py#176\" target=\"_blank\"><span style=\"color: #7f7f7f; text-decoration-color: #7f7f7f\">176</span></a>\n",
       "<span style=\"color: #7fbfbf; text-decoration-color: #7fbfbf\">                    </span>         match the expected format of object detection prediction that could be    <span style=\"color: #7f7f7f; text-decoration-color: #7f7f7f\">            </span>\n",
       "<span style=\"color: #7fbfbf; text-decoration-color: #7fbfbf\">                    </span>         accepted by `<span style=\"color: #800080; text-decoration-color: #800080; font-weight: bold\">supervision.Detection.from_inference</span><span style=\"font-weight: bold\">(</span><span style=\"color: #808000; text-decoration-color: #808000\">...</span><span style=\"font-weight: bold\">)</span>                    <span style=\"color: #7f7f7f; text-decoration-color: #7f7f7f\">            </span>\n",
       "</pre>\n"
      ],
      "text/plain": [
       "\u001b[2;36m[06/28/24 11:29:26]\u001b[0m\u001b[2;36m \u001b[0m\u001b[31mWARNING \u001b[0m Used `\u001b[1;35mrender_boxes\u001b[0m\u001b[1m(\u001b[0m\u001b[33m...\u001b[0m\u001b[1m)\u001b[0m` sink, but predictions that were provided do not  \u001b]8;id=821738;file:///Users/saadia/Documents/DevIA_2024/coding_projects/ShiFuMi_computerVision/venv/lib/python3.9/site-packages/inference/core/interfaces/stream/sinks.py\u001b\\\u001b[2msinks.py\u001b[0m\u001b]8;;\u001b\\\u001b[2m:\u001b[0m\u001b]8;id=45770;file:///Users/saadia/Documents/DevIA_2024/coding_projects/ShiFuMi_computerVision/venv/lib/python3.9/site-packages/inference/core/interfaces/stream/sinks.py#176\u001b\\\u001b[2m176\u001b[0m\u001b]8;;\u001b\\\n",
       "\u001b[2;36m                    \u001b[0m         match the expected format of object detection prediction that could be    \u001b[2m            \u001b[0m\n",
       "\u001b[2;36m                    \u001b[0m         accepted by `\u001b[1;35msupervision.Detection.from_inference\u001b[0m\u001b[1m(\u001b[0m\u001b[33m...\u001b[0m\u001b[1m)\u001b[0m                    \u001b[2m            \u001b[0m\n"
      ]
     },
     "metadata": {},
     "output_type": "display_data"
    },
    {
     "name": "stdout",
     "output_type": "stream",
     "text": [
      "0: 384x640 1 person, 468.3ms\n",
      "Speed: 1.7ms preprocess, 468.3ms inference, 0.3ms postprocess per image at shape (1, 3, 384, 640)\n",
      "Predictions made: [{'boxes': [[282.758056640625, 181.005615234375, 976.3531494140625, 713.7062377929688]], 'scores': [0.957673966884613], 'class_indices': [0.0]}]\n",
      "Video frames: 1\n",
      "\n"
     ]
    },
    {
     "data": {
      "text/html": [
       "<pre style=\"white-space:pre;overflow-x:auto;line-height:normal;font-family:Menlo,'DejaVu Sans Mono',consolas,'Courier New',monospace\"><span style=\"color: #7fbfbf; text-decoration-color: #7fbfbf\">                    </span><span style=\"color: #800000; text-decoration-color: #800000\">WARNING </span> Used `<span style=\"color: #800080; text-decoration-color: #800080; font-weight: bold\">render_boxes</span><span style=\"font-weight: bold\">(</span><span style=\"color: #808000; text-decoration-color: #808000\">...</span><span style=\"font-weight: bold\">)</span>` sink, but predictions that were provided do not  <a href=\"file:///Users/saadia/Documents/DevIA_2024/coding_projects/ShiFuMi_computerVision/venv/lib/python3.9/site-packages/inference/core/interfaces/stream/sinks.py\" target=\"_blank\"><span style=\"color: #7f7f7f; text-decoration-color: #7f7f7f\">sinks.py</span></a><span style=\"color: #7f7f7f; text-decoration-color: #7f7f7f\">:</span><a href=\"file:///Users/saadia/Documents/DevIA_2024/coding_projects/ShiFuMi_computerVision/venv/lib/python3.9/site-packages/inference/core/interfaces/stream/sinks.py#176\" target=\"_blank\"><span style=\"color: #7f7f7f; text-decoration-color: #7f7f7f\">176</span></a>\n",
       "<span style=\"color: #7fbfbf; text-decoration-color: #7fbfbf\">                    </span>         match the expected format of object detection prediction that could be    <span style=\"color: #7f7f7f; text-decoration-color: #7f7f7f\">            </span>\n",
       "<span style=\"color: #7fbfbf; text-decoration-color: #7fbfbf\">                    </span>         accepted by `<span style=\"color: #800080; text-decoration-color: #800080; font-weight: bold\">supervision.Detection.from_inference</span><span style=\"font-weight: bold\">(</span><span style=\"color: #808000; text-decoration-color: #808000\">...</span><span style=\"font-weight: bold\">)</span>                    <span style=\"color: #7f7f7f; text-decoration-color: #7f7f7f\">            </span>\n",
       "</pre>\n"
      ],
      "text/plain": [
       "\u001b[2;36m                   \u001b[0m\u001b[2;36m \u001b[0m\u001b[31mWARNING \u001b[0m Used `\u001b[1;35mrender_boxes\u001b[0m\u001b[1m(\u001b[0m\u001b[33m...\u001b[0m\u001b[1m)\u001b[0m` sink, but predictions that were provided do not  \u001b]8;id=224884;file:///Users/saadia/Documents/DevIA_2024/coding_projects/ShiFuMi_computerVision/venv/lib/python3.9/site-packages/inference/core/interfaces/stream/sinks.py\u001b\\\u001b[2msinks.py\u001b[0m\u001b]8;;\u001b\\\u001b[2m:\u001b[0m\u001b]8;id=430356;file:///Users/saadia/Documents/DevIA_2024/coding_projects/ShiFuMi_computerVision/venv/lib/python3.9/site-packages/inference/core/interfaces/stream/sinks.py#176\u001b\\\u001b[2m176\u001b[0m\u001b]8;;\u001b\\\n",
       "\u001b[2;36m                    \u001b[0m         match the expected format of object detection prediction that could be    \u001b[2m            \u001b[0m\n",
       "\u001b[2;36m                    \u001b[0m         accepted by `\u001b[1;35msupervision.Detection.from_inference\u001b[0m\u001b[1m(\u001b[0m\u001b[33m...\u001b[0m\u001b[1m)\u001b[0m                    \u001b[2m            \u001b[0m\n"
      ]
     },
     "metadata": {},
     "output_type": "display_data"
    },
    {
     "name": "stdout",
     "output_type": "stream",
     "text": [
      "0: 384x640 1 person, 461.2ms\n",
      "Speed: 2.0ms preprocess, 461.2ms inference, 0.6ms postprocess per image at shape (1, 3, 384, 640)\n",
      "Predictions made: [{'boxes': [[307.0533447265625, 183.14013671875, 995.5059814453125, 713.578857421875]], 'scores': [0.9453357458114624], 'class_indices': [0.0]}]\n",
      "Video frames: 1\n",
      "\n"
     ]
    },
    {
     "data": {
      "text/html": [
       "<pre style=\"white-space:pre;overflow-x:auto;line-height:normal;font-family:Menlo,'DejaVu Sans Mono',consolas,'Courier New',monospace\"><span style=\"color: #7fbfbf; text-decoration-color: #7fbfbf\">[06/28/24 11:29:27] </span><span style=\"color: #800000; text-decoration-color: #800000\">WARNING </span> Used `<span style=\"color: #800080; text-decoration-color: #800080; font-weight: bold\">render_boxes</span><span style=\"font-weight: bold\">(</span><span style=\"color: #808000; text-decoration-color: #808000\">...</span><span style=\"font-weight: bold\">)</span>` sink, but predictions that were provided do not  <a href=\"file:///Users/saadia/Documents/DevIA_2024/coding_projects/ShiFuMi_computerVision/venv/lib/python3.9/site-packages/inference/core/interfaces/stream/sinks.py\" target=\"_blank\"><span style=\"color: #7f7f7f; text-decoration-color: #7f7f7f\">sinks.py</span></a><span style=\"color: #7f7f7f; text-decoration-color: #7f7f7f\">:</span><a href=\"file:///Users/saadia/Documents/DevIA_2024/coding_projects/ShiFuMi_computerVision/venv/lib/python3.9/site-packages/inference/core/interfaces/stream/sinks.py#176\" target=\"_blank\"><span style=\"color: #7f7f7f; text-decoration-color: #7f7f7f\">176</span></a>\n",
       "<span style=\"color: #7fbfbf; text-decoration-color: #7fbfbf\">                    </span>         match the expected format of object detection prediction that could be    <span style=\"color: #7f7f7f; text-decoration-color: #7f7f7f\">            </span>\n",
       "<span style=\"color: #7fbfbf; text-decoration-color: #7fbfbf\">                    </span>         accepted by `<span style=\"color: #800080; text-decoration-color: #800080; font-weight: bold\">supervision.Detection.from_inference</span><span style=\"font-weight: bold\">(</span><span style=\"color: #808000; text-decoration-color: #808000\">...</span><span style=\"font-weight: bold\">)</span>                    <span style=\"color: #7f7f7f; text-decoration-color: #7f7f7f\">            </span>\n",
       "</pre>\n"
      ],
      "text/plain": [
       "\u001b[2;36m[06/28/24 11:29:27]\u001b[0m\u001b[2;36m \u001b[0m\u001b[31mWARNING \u001b[0m Used `\u001b[1;35mrender_boxes\u001b[0m\u001b[1m(\u001b[0m\u001b[33m...\u001b[0m\u001b[1m)\u001b[0m` sink, but predictions that were provided do not  \u001b]8;id=913402;file:///Users/saadia/Documents/DevIA_2024/coding_projects/ShiFuMi_computerVision/venv/lib/python3.9/site-packages/inference/core/interfaces/stream/sinks.py\u001b\\\u001b[2msinks.py\u001b[0m\u001b]8;;\u001b\\\u001b[2m:\u001b[0m\u001b]8;id=402919;file:///Users/saadia/Documents/DevIA_2024/coding_projects/ShiFuMi_computerVision/venv/lib/python3.9/site-packages/inference/core/interfaces/stream/sinks.py#176\u001b\\\u001b[2m176\u001b[0m\u001b]8;;\u001b\\\n",
       "\u001b[2;36m                    \u001b[0m         match the expected format of object detection prediction that could be    \u001b[2m            \u001b[0m\n",
       "\u001b[2;36m                    \u001b[0m         accepted by `\u001b[1;35msupervision.Detection.from_inference\u001b[0m\u001b[1m(\u001b[0m\u001b[33m...\u001b[0m\u001b[1m)\u001b[0m                    \u001b[2m            \u001b[0m\n"
      ]
     },
     "metadata": {},
     "output_type": "display_data"
    },
    {
     "name": "stdout",
     "output_type": "stream",
     "text": [
      "0: 384x640 1 person, 473.2ms\n",
      "Speed: 1.9ms preprocess, 473.2ms inference, 0.3ms postprocess per image at shape (1, 3, 384, 640)\n",
      "Predictions made: [{'boxes': [[338.701416015625, 193.42718505859375, 1054.45361328125, 713.8762817382812]], 'scores': [0.944580078125], 'class_indices': [0.0]}]\n",
      "Video frames: 1\n",
      "\n"
     ]
    },
    {
     "data": {
      "text/html": [
       "<pre style=\"white-space:pre;overflow-x:auto;line-height:normal;font-family:Menlo,'DejaVu Sans Mono',consolas,'Courier New',monospace\"><span style=\"color: #7fbfbf; text-decoration-color: #7fbfbf\">                    </span><span style=\"color: #800000; text-decoration-color: #800000\">WARNING </span> Used `<span style=\"color: #800080; text-decoration-color: #800080; font-weight: bold\">render_boxes</span><span style=\"font-weight: bold\">(</span><span style=\"color: #808000; text-decoration-color: #808000\">...</span><span style=\"font-weight: bold\">)</span>` sink, but predictions that were provided do not  <a href=\"file:///Users/saadia/Documents/DevIA_2024/coding_projects/ShiFuMi_computerVision/venv/lib/python3.9/site-packages/inference/core/interfaces/stream/sinks.py\" target=\"_blank\"><span style=\"color: #7f7f7f; text-decoration-color: #7f7f7f\">sinks.py</span></a><span style=\"color: #7f7f7f; text-decoration-color: #7f7f7f\">:</span><a href=\"file:///Users/saadia/Documents/DevIA_2024/coding_projects/ShiFuMi_computerVision/venv/lib/python3.9/site-packages/inference/core/interfaces/stream/sinks.py#176\" target=\"_blank\"><span style=\"color: #7f7f7f; text-decoration-color: #7f7f7f\">176</span></a>\n",
       "<span style=\"color: #7fbfbf; text-decoration-color: #7fbfbf\">                    </span>         match the expected format of object detection prediction that could be    <span style=\"color: #7f7f7f; text-decoration-color: #7f7f7f\">            </span>\n",
       "<span style=\"color: #7fbfbf; text-decoration-color: #7fbfbf\">                    </span>         accepted by `<span style=\"color: #800080; text-decoration-color: #800080; font-weight: bold\">supervision.Detection.from_inference</span><span style=\"font-weight: bold\">(</span><span style=\"color: #808000; text-decoration-color: #808000\">...</span><span style=\"font-weight: bold\">)</span>                    <span style=\"color: #7f7f7f; text-decoration-color: #7f7f7f\">            </span>\n",
       "</pre>\n"
      ],
      "text/plain": [
       "\u001b[2;36m                   \u001b[0m\u001b[2;36m \u001b[0m\u001b[31mWARNING \u001b[0m Used `\u001b[1;35mrender_boxes\u001b[0m\u001b[1m(\u001b[0m\u001b[33m...\u001b[0m\u001b[1m)\u001b[0m` sink, but predictions that were provided do not  \u001b]8;id=569778;file:///Users/saadia/Documents/DevIA_2024/coding_projects/ShiFuMi_computerVision/venv/lib/python3.9/site-packages/inference/core/interfaces/stream/sinks.py\u001b\\\u001b[2msinks.py\u001b[0m\u001b]8;;\u001b\\\u001b[2m:\u001b[0m\u001b]8;id=192173;file:///Users/saadia/Documents/DevIA_2024/coding_projects/ShiFuMi_computerVision/venv/lib/python3.9/site-packages/inference/core/interfaces/stream/sinks.py#176\u001b\\\u001b[2m176\u001b[0m\u001b]8;;\u001b\\\n",
       "\u001b[2;36m                    \u001b[0m         match the expected format of object detection prediction that could be    \u001b[2m            \u001b[0m\n",
       "\u001b[2;36m                    \u001b[0m         accepted by `\u001b[1;35msupervision.Detection.from_inference\u001b[0m\u001b[1m(\u001b[0m\u001b[33m...\u001b[0m\u001b[1m)\u001b[0m                    \u001b[2m            \u001b[0m\n"
      ]
     },
     "metadata": {},
     "output_type": "display_data"
    },
    {
     "name": "stdout",
     "output_type": "stream",
     "text": [
      "0: 384x640 1 person, 470.6ms\n",
      "Speed: 1.8ms preprocess, 470.6ms inference, 0.5ms postprocess per image at shape (1, 3, 384, 640)\n",
      "Predictions made: [{'boxes': [[363.4510498046875, 204.46617126464844, 1039.108642578125, 711.8001708984375]], 'scores': [0.9533641338348389], 'class_indices': [0.0]}]\n",
      "Video frames: 1\n",
      "\n"
     ]
    },
    {
     "data": {
      "text/html": [
       "<pre style=\"white-space:pre;overflow-x:auto;line-height:normal;font-family:Menlo,'DejaVu Sans Mono',consolas,'Courier New',monospace\"><span style=\"color: #7fbfbf; text-decoration-color: #7fbfbf\">                    </span><span style=\"color: #800000; text-decoration-color: #800000\">WARNING </span> Used `<span style=\"color: #800080; text-decoration-color: #800080; font-weight: bold\">render_boxes</span><span style=\"font-weight: bold\">(</span><span style=\"color: #808000; text-decoration-color: #808000\">...</span><span style=\"font-weight: bold\">)</span>` sink, but predictions that were provided do not  <a href=\"file:///Users/saadia/Documents/DevIA_2024/coding_projects/ShiFuMi_computerVision/venv/lib/python3.9/site-packages/inference/core/interfaces/stream/sinks.py\" target=\"_blank\"><span style=\"color: #7f7f7f; text-decoration-color: #7f7f7f\">sinks.py</span></a><span style=\"color: #7f7f7f; text-decoration-color: #7f7f7f\">:</span><a href=\"file:///Users/saadia/Documents/DevIA_2024/coding_projects/ShiFuMi_computerVision/venv/lib/python3.9/site-packages/inference/core/interfaces/stream/sinks.py#176\" target=\"_blank\"><span style=\"color: #7f7f7f; text-decoration-color: #7f7f7f\">176</span></a>\n",
       "<span style=\"color: #7fbfbf; text-decoration-color: #7fbfbf\">                    </span>         match the expected format of object detection prediction that could be    <span style=\"color: #7f7f7f; text-decoration-color: #7f7f7f\">            </span>\n",
       "<span style=\"color: #7fbfbf; text-decoration-color: #7fbfbf\">                    </span>         accepted by `<span style=\"color: #800080; text-decoration-color: #800080; font-weight: bold\">supervision.Detection.from_inference</span><span style=\"font-weight: bold\">(</span><span style=\"color: #808000; text-decoration-color: #808000\">...</span><span style=\"font-weight: bold\">)</span>                    <span style=\"color: #7f7f7f; text-decoration-color: #7f7f7f\">            </span>\n",
       "</pre>\n"
      ],
      "text/plain": [
       "\u001b[2;36m                   \u001b[0m\u001b[2;36m \u001b[0m\u001b[31mWARNING \u001b[0m Used `\u001b[1;35mrender_boxes\u001b[0m\u001b[1m(\u001b[0m\u001b[33m...\u001b[0m\u001b[1m)\u001b[0m` sink, but predictions that were provided do not  \u001b]8;id=201509;file:///Users/saadia/Documents/DevIA_2024/coding_projects/ShiFuMi_computerVision/venv/lib/python3.9/site-packages/inference/core/interfaces/stream/sinks.py\u001b\\\u001b[2msinks.py\u001b[0m\u001b]8;;\u001b\\\u001b[2m:\u001b[0m\u001b]8;id=254546;file:///Users/saadia/Documents/DevIA_2024/coding_projects/ShiFuMi_computerVision/venv/lib/python3.9/site-packages/inference/core/interfaces/stream/sinks.py#176\u001b\\\u001b[2m176\u001b[0m\u001b]8;;\u001b\\\n",
       "\u001b[2;36m                    \u001b[0m         match the expected format of object detection prediction that could be    \u001b[2m            \u001b[0m\n",
       "\u001b[2;36m                    \u001b[0m         accepted by `\u001b[1;35msupervision.Detection.from_inference\u001b[0m\u001b[1m(\u001b[0m\u001b[33m...\u001b[0m\u001b[1m)\u001b[0m                    \u001b[2m            \u001b[0m\n"
      ]
     },
     "metadata": {},
     "output_type": "display_data"
    },
    {
     "name": "stdout",
     "output_type": "stream",
     "text": [
      "0: 384x640 1 person, 479.1ms\n",
      "Speed: 2.0ms preprocess, 479.1ms inference, 0.8ms postprocess per image at shape (1, 3, 384, 640)\n",
      "Predictions made: [{'boxes': [[359.9129638671875, 215.55126953125, 1084.4852294921875, 713.2247924804688]], 'scores': [0.9468186497688293], 'class_indices': [0.0]}]\n",
      "Video frames: 1\n",
      "\n"
     ]
    },
    {
     "data": {
      "text/html": [
       "<pre style=\"white-space:pre;overflow-x:auto;line-height:normal;font-family:Menlo,'DejaVu Sans Mono',consolas,'Courier New',monospace\"><span style=\"color: #7fbfbf; text-decoration-color: #7fbfbf\">[06/28/24 11:29:28] </span><span style=\"color: #800000; text-decoration-color: #800000\">WARNING </span> Used `<span style=\"color: #800080; text-decoration-color: #800080; font-weight: bold\">render_boxes</span><span style=\"font-weight: bold\">(</span><span style=\"color: #808000; text-decoration-color: #808000\">...</span><span style=\"font-weight: bold\">)</span>` sink, but predictions that were provided do not  <a href=\"file:///Users/saadia/Documents/DevIA_2024/coding_projects/ShiFuMi_computerVision/venv/lib/python3.9/site-packages/inference/core/interfaces/stream/sinks.py\" target=\"_blank\"><span style=\"color: #7f7f7f; text-decoration-color: #7f7f7f\">sinks.py</span></a><span style=\"color: #7f7f7f; text-decoration-color: #7f7f7f\">:</span><a href=\"file:///Users/saadia/Documents/DevIA_2024/coding_projects/ShiFuMi_computerVision/venv/lib/python3.9/site-packages/inference/core/interfaces/stream/sinks.py#176\" target=\"_blank\"><span style=\"color: #7f7f7f; text-decoration-color: #7f7f7f\">176</span></a>\n",
       "<span style=\"color: #7fbfbf; text-decoration-color: #7fbfbf\">                    </span>         match the expected format of object detection prediction that could be    <span style=\"color: #7f7f7f; text-decoration-color: #7f7f7f\">            </span>\n",
       "<span style=\"color: #7fbfbf; text-decoration-color: #7fbfbf\">                    </span>         accepted by `<span style=\"color: #800080; text-decoration-color: #800080; font-weight: bold\">supervision.Detection.from_inference</span><span style=\"font-weight: bold\">(</span><span style=\"color: #808000; text-decoration-color: #808000\">...</span><span style=\"font-weight: bold\">)</span>                    <span style=\"color: #7f7f7f; text-decoration-color: #7f7f7f\">            </span>\n",
       "</pre>\n"
      ],
      "text/plain": [
       "\u001b[2;36m[06/28/24 11:29:28]\u001b[0m\u001b[2;36m \u001b[0m\u001b[31mWARNING \u001b[0m Used `\u001b[1;35mrender_boxes\u001b[0m\u001b[1m(\u001b[0m\u001b[33m...\u001b[0m\u001b[1m)\u001b[0m` sink, but predictions that were provided do not  \u001b]8;id=35525;file:///Users/saadia/Documents/DevIA_2024/coding_projects/ShiFuMi_computerVision/venv/lib/python3.9/site-packages/inference/core/interfaces/stream/sinks.py\u001b\\\u001b[2msinks.py\u001b[0m\u001b]8;;\u001b\\\u001b[2m:\u001b[0m\u001b]8;id=382478;file:///Users/saadia/Documents/DevIA_2024/coding_projects/ShiFuMi_computerVision/venv/lib/python3.9/site-packages/inference/core/interfaces/stream/sinks.py#176\u001b\\\u001b[2m176\u001b[0m\u001b]8;;\u001b\\\n",
       "\u001b[2;36m                    \u001b[0m         match the expected format of object detection prediction that could be    \u001b[2m            \u001b[0m\n",
       "\u001b[2;36m                    \u001b[0m         accepted by `\u001b[1;35msupervision.Detection.from_inference\u001b[0m\u001b[1m(\u001b[0m\u001b[33m...\u001b[0m\u001b[1m)\u001b[0m                    \u001b[2m            \u001b[0m\n"
      ]
     },
     "metadata": {},
     "output_type": "display_data"
    },
    {
     "name": "stdout",
     "output_type": "stream",
     "text": [
      "0: 384x640 1 person, 468.6ms\n",
      "Speed: 2.1ms preprocess, 468.6ms inference, 0.3ms postprocess per image at shape (1, 3, 384, 640)\n",
      "Predictions made: [{'boxes': [[337.8186340332031, 213.429443359375, 1033.8486328125, 714.9857177734375]], 'scores': [0.9538756012916565], 'class_indices': [0.0]}]\n",
      "Video frames: 1\n",
      "\n"
     ]
    },
    {
     "data": {
      "text/html": [
       "<pre style=\"white-space:pre;overflow-x:auto;line-height:normal;font-family:Menlo,'DejaVu Sans Mono',consolas,'Courier New',monospace\"><span style=\"color: #7fbfbf; text-decoration-color: #7fbfbf\">                    </span><span style=\"color: #800000; text-decoration-color: #800000\">WARNING </span> Used `<span style=\"color: #800080; text-decoration-color: #800080; font-weight: bold\">render_boxes</span><span style=\"font-weight: bold\">(</span><span style=\"color: #808000; text-decoration-color: #808000\">...</span><span style=\"font-weight: bold\">)</span>` sink, but predictions that were provided do not  <a href=\"file:///Users/saadia/Documents/DevIA_2024/coding_projects/ShiFuMi_computerVision/venv/lib/python3.9/site-packages/inference/core/interfaces/stream/sinks.py\" target=\"_blank\"><span style=\"color: #7f7f7f; text-decoration-color: #7f7f7f\">sinks.py</span></a><span style=\"color: #7f7f7f; text-decoration-color: #7f7f7f\">:</span><a href=\"file:///Users/saadia/Documents/DevIA_2024/coding_projects/ShiFuMi_computerVision/venv/lib/python3.9/site-packages/inference/core/interfaces/stream/sinks.py#176\" target=\"_blank\"><span style=\"color: #7f7f7f; text-decoration-color: #7f7f7f\">176</span></a>\n",
       "<span style=\"color: #7fbfbf; text-decoration-color: #7fbfbf\">                    </span>         match the expected format of object detection prediction that could be    <span style=\"color: #7f7f7f; text-decoration-color: #7f7f7f\">            </span>\n",
       "<span style=\"color: #7fbfbf; text-decoration-color: #7fbfbf\">                    </span>         accepted by `<span style=\"color: #800080; text-decoration-color: #800080; font-weight: bold\">supervision.Detection.from_inference</span><span style=\"font-weight: bold\">(</span><span style=\"color: #808000; text-decoration-color: #808000\">...</span><span style=\"font-weight: bold\">)</span>                    <span style=\"color: #7f7f7f; text-decoration-color: #7f7f7f\">            </span>\n",
       "</pre>\n"
      ],
      "text/plain": [
       "\u001b[2;36m                   \u001b[0m\u001b[2;36m \u001b[0m\u001b[31mWARNING \u001b[0m Used `\u001b[1;35mrender_boxes\u001b[0m\u001b[1m(\u001b[0m\u001b[33m...\u001b[0m\u001b[1m)\u001b[0m` sink, but predictions that were provided do not  \u001b]8;id=742607;file:///Users/saadia/Documents/DevIA_2024/coding_projects/ShiFuMi_computerVision/venv/lib/python3.9/site-packages/inference/core/interfaces/stream/sinks.py\u001b\\\u001b[2msinks.py\u001b[0m\u001b]8;;\u001b\\\u001b[2m:\u001b[0m\u001b]8;id=506933;file:///Users/saadia/Documents/DevIA_2024/coding_projects/ShiFuMi_computerVision/venv/lib/python3.9/site-packages/inference/core/interfaces/stream/sinks.py#176\u001b\\\u001b[2m176\u001b[0m\u001b]8;;\u001b\\\n",
       "\u001b[2;36m                    \u001b[0m         match the expected format of object detection prediction that could be    \u001b[2m            \u001b[0m\n",
       "\u001b[2;36m                    \u001b[0m         accepted by `\u001b[1;35msupervision.Detection.from_inference\u001b[0m\u001b[1m(\u001b[0m\u001b[33m...\u001b[0m\u001b[1m)\u001b[0m                    \u001b[2m            \u001b[0m\n"
      ]
     },
     "metadata": {},
     "output_type": "display_data"
    },
    {
     "name": "stdout",
     "output_type": "stream",
     "text": [
      "0: 384x640 1 person, 1 toilet, 1 toothbrush, 471.6ms\n",
      "Speed: 1.3ms preprocess, 471.6ms inference, 0.3ms postprocess per image at shape (1, 3, 384, 640)\n",
      "Predictions made: [{'boxes': [[296.0246887207031, 203.94740295410156, 1038.59814453125, 712.9737548828125], [654.1046142578125, 551.3095703125, 711.05078125, 637.252685546875], [101.94107055664062, 655.702880859375, 270.72320556640625, 719.1219482421875]], 'scores': [0.94134122133255, 0.5909106731414795, 0.26727718114852905], 'class_indices': [0.0, 79.0, 61.0]}]\n",
      "Video frames: 1\n",
      "\n"
     ]
    },
    {
     "data": {
      "text/html": [
       "<pre style=\"white-space:pre;overflow-x:auto;line-height:normal;font-family:Menlo,'DejaVu Sans Mono',consolas,'Courier New',monospace\"><span style=\"color: #7fbfbf; text-decoration-color: #7fbfbf\">[06/28/24 11:29:29] </span><span style=\"color: #800000; text-decoration-color: #800000\">WARNING </span> Used `<span style=\"color: #800080; text-decoration-color: #800080; font-weight: bold\">render_boxes</span><span style=\"font-weight: bold\">(</span><span style=\"color: #808000; text-decoration-color: #808000\">...</span><span style=\"font-weight: bold\">)</span>` sink, but predictions that were provided do not  <a href=\"file:///Users/saadia/Documents/DevIA_2024/coding_projects/ShiFuMi_computerVision/venv/lib/python3.9/site-packages/inference/core/interfaces/stream/sinks.py\" target=\"_blank\"><span style=\"color: #7f7f7f; text-decoration-color: #7f7f7f\">sinks.py</span></a><span style=\"color: #7f7f7f; text-decoration-color: #7f7f7f\">:</span><a href=\"file:///Users/saadia/Documents/DevIA_2024/coding_projects/ShiFuMi_computerVision/venv/lib/python3.9/site-packages/inference/core/interfaces/stream/sinks.py#176\" target=\"_blank\"><span style=\"color: #7f7f7f; text-decoration-color: #7f7f7f\">176</span></a>\n",
       "<span style=\"color: #7fbfbf; text-decoration-color: #7fbfbf\">                    </span>         match the expected format of object detection prediction that could be    <span style=\"color: #7f7f7f; text-decoration-color: #7f7f7f\">            </span>\n",
       "<span style=\"color: #7fbfbf; text-decoration-color: #7fbfbf\">                    </span>         accepted by `<span style=\"color: #800080; text-decoration-color: #800080; font-weight: bold\">supervision.Detection.from_inference</span><span style=\"font-weight: bold\">(</span><span style=\"color: #808000; text-decoration-color: #808000\">...</span><span style=\"font-weight: bold\">)</span>                    <span style=\"color: #7f7f7f; text-decoration-color: #7f7f7f\">            </span>\n",
       "</pre>\n"
      ],
      "text/plain": [
       "\u001b[2;36m[06/28/24 11:29:29]\u001b[0m\u001b[2;36m \u001b[0m\u001b[31mWARNING \u001b[0m Used `\u001b[1;35mrender_boxes\u001b[0m\u001b[1m(\u001b[0m\u001b[33m...\u001b[0m\u001b[1m)\u001b[0m` sink, but predictions that were provided do not  \u001b]8;id=447749;file:///Users/saadia/Documents/DevIA_2024/coding_projects/ShiFuMi_computerVision/venv/lib/python3.9/site-packages/inference/core/interfaces/stream/sinks.py\u001b\\\u001b[2msinks.py\u001b[0m\u001b]8;;\u001b\\\u001b[2m:\u001b[0m\u001b]8;id=593317;file:///Users/saadia/Documents/DevIA_2024/coding_projects/ShiFuMi_computerVision/venv/lib/python3.9/site-packages/inference/core/interfaces/stream/sinks.py#176\u001b\\\u001b[2m176\u001b[0m\u001b]8;;\u001b\\\n",
       "\u001b[2;36m                    \u001b[0m         match the expected format of object detection prediction that could be    \u001b[2m            \u001b[0m\n",
       "\u001b[2;36m                    \u001b[0m         accepted by `\u001b[1;35msupervision.Detection.from_inference\u001b[0m\u001b[1m(\u001b[0m\u001b[33m...\u001b[0m\u001b[1m)\u001b[0m                    \u001b[2m            \u001b[0m\n"
      ]
     },
     "metadata": {},
     "output_type": "display_data"
    },
    {
     "name": "stdout",
     "output_type": "stream",
     "text": [
      "0: 384x640 1 person, 474.3ms\n",
      "Speed: 2.7ms preprocess, 474.3ms inference, 0.7ms postprocess per image at shape (1, 3, 384, 640)\n",
      "Predictions made: [{'boxes': [[267.4200439453125, 194.30560302734375, 1047.260986328125, 715.1731567382812]], 'scores': [0.9354923963546753], 'class_indices': [0.0]}]\n",
      "Video frames: 1\n",
      "\n"
     ]
    },
    {
     "data": {
      "text/html": [
       "<pre style=\"white-space:pre;overflow-x:auto;line-height:normal;font-family:Menlo,'DejaVu Sans Mono',consolas,'Courier New',monospace\"><span style=\"color: #7fbfbf; text-decoration-color: #7fbfbf\">                    </span><span style=\"color: #800000; text-decoration-color: #800000\">WARNING </span> Used `<span style=\"color: #800080; text-decoration-color: #800080; font-weight: bold\">render_boxes</span><span style=\"font-weight: bold\">(</span><span style=\"color: #808000; text-decoration-color: #808000\">...</span><span style=\"font-weight: bold\">)</span>` sink, but predictions that were provided do not  <a href=\"file:///Users/saadia/Documents/DevIA_2024/coding_projects/ShiFuMi_computerVision/venv/lib/python3.9/site-packages/inference/core/interfaces/stream/sinks.py\" target=\"_blank\"><span style=\"color: #7f7f7f; text-decoration-color: #7f7f7f\">sinks.py</span></a><span style=\"color: #7f7f7f; text-decoration-color: #7f7f7f\">:</span><a href=\"file:///Users/saadia/Documents/DevIA_2024/coding_projects/ShiFuMi_computerVision/venv/lib/python3.9/site-packages/inference/core/interfaces/stream/sinks.py#176\" target=\"_blank\"><span style=\"color: #7f7f7f; text-decoration-color: #7f7f7f\">176</span></a>\n",
       "<span style=\"color: #7fbfbf; text-decoration-color: #7fbfbf\">                    </span>         match the expected format of object detection prediction that could be    <span style=\"color: #7f7f7f; text-decoration-color: #7f7f7f\">            </span>\n",
       "<span style=\"color: #7fbfbf; text-decoration-color: #7fbfbf\">                    </span>         accepted by `<span style=\"color: #800080; text-decoration-color: #800080; font-weight: bold\">supervision.Detection.from_inference</span><span style=\"font-weight: bold\">(</span><span style=\"color: #808000; text-decoration-color: #808000\">...</span><span style=\"font-weight: bold\">)</span>                    <span style=\"color: #7f7f7f; text-decoration-color: #7f7f7f\">            </span>\n",
       "</pre>\n"
      ],
      "text/plain": [
       "\u001b[2;36m                   \u001b[0m\u001b[2;36m \u001b[0m\u001b[31mWARNING \u001b[0m Used `\u001b[1;35mrender_boxes\u001b[0m\u001b[1m(\u001b[0m\u001b[33m...\u001b[0m\u001b[1m)\u001b[0m` sink, but predictions that were provided do not  \u001b]8;id=163043;file:///Users/saadia/Documents/DevIA_2024/coding_projects/ShiFuMi_computerVision/venv/lib/python3.9/site-packages/inference/core/interfaces/stream/sinks.py\u001b\\\u001b[2msinks.py\u001b[0m\u001b]8;;\u001b\\\u001b[2m:\u001b[0m\u001b]8;id=67664;file:///Users/saadia/Documents/DevIA_2024/coding_projects/ShiFuMi_computerVision/venv/lib/python3.9/site-packages/inference/core/interfaces/stream/sinks.py#176\u001b\\\u001b[2m176\u001b[0m\u001b]8;;\u001b\\\n",
       "\u001b[2;36m                    \u001b[0m         match the expected format of object detection prediction that could be    \u001b[2m            \u001b[0m\n",
       "\u001b[2;36m                    \u001b[0m         accepted by `\u001b[1;35msupervision.Detection.from_inference\u001b[0m\u001b[1m(\u001b[0m\u001b[33m...\u001b[0m\u001b[1m)\u001b[0m                    \u001b[2m            \u001b[0m\n"
      ]
     },
     "metadata": {},
     "output_type": "display_data"
    },
    {
     "name": "stdout",
     "output_type": "stream",
     "text": [
      "0: 384x640 1 person, 464.6ms\n",
      "Speed: 2.1ms preprocess, 464.6ms inference, 0.8ms postprocess per image at shape (1, 3, 384, 640)\n",
      "Predictions made: [{'boxes': [[150.3760986328125, 193.75982666015625, 1049.975830078125, 714.6517333984375]], 'scores': [0.9464744925498962], 'class_indices': [0.0]}]\n",
      "Video frames: 1\n",
      "\n"
     ]
    },
    {
     "data": {
      "text/html": [
       "<pre style=\"white-space:pre;overflow-x:auto;line-height:normal;font-family:Menlo,'DejaVu Sans Mono',consolas,'Courier New',monospace\"><span style=\"color: #7fbfbf; text-decoration-color: #7fbfbf\">[06/28/24 11:29:30] </span><span style=\"color: #800000; text-decoration-color: #800000\">WARNING </span> Used `<span style=\"color: #800080; text-decoration-color: #800080; font-weight: bold\">render_boxes</span><span style=\"font-weight: bold\">(</span><span style=\"color: #808000; text-decoration-color: #808000\">...</span><span style=\"font-weight: bold\">)</span>` sink, but predictions that were provided do not  <a href=\"file:///Users/saadia/Documents/DevIA_2024/coding_projects/ShiFuMi_computerVision/venv/lib/python3.9/site-packages/inference/core/interfaces/stream/sinks.py\" target=\"_blank\"><span style=\"color: #7f7f7f; text-decoration-color: #7f7f7f\">sinks.py</span></a><span style=\"color: #7f7f7f; text-decoration-color: #7f7f7f\">:</span><a href=\"file:///Users/saadia/Documents/DevIA_2024/coding_projects/ShiFuMi_computerVision/venv/lib/python3.9/site-packages/inference/core/interfaces/stream/sinks.py#176\" target=\"_blank\"><span style=\"color: #7f7f7f; text-decoration-color: #7f7f7f\">176</span></a>\n",
       "<span style=\"color: #7fbfbf; text-decoration-color: #7fbfbf\">                    </span>         match the expected format of object detection prediction that could be    <span style=\"color: #7f7f7f; text-decoration-color: #7f7f7f\">            </span>\n",
       "<span style=\"color: #7fbfbf; text-decoration-color: #7fbfbf\">                    </span>         accepted by `<span style=\"color: #800080; text-decoration-color: #800080; font-weight: bold\">supervision.Detection.from_inference</span><span style=\"font-weight: bold\">(</span><span style=\"color: #808000; text-decoration-color: #808000\">...</span><span style=\"font-weight: bold\">)</span>                    <span style=\"color: #7f7f7f; text-decoration-color: #7f7f7f\">            </span>\n",
       "</pre>\n"
      ],
      "text/plain": [
       "\u001b[2;36m[06/28/24 11:29:30]\u001b[0m\u001b[2;36m \u001b[0m\u001b[31mWARNING \u001b[0m Used `\u001b[1;35mrender_boxes\u001b[0m\u001b[1m(\u001b[0m\u001b[33m...\u001b[0m\u001b[1m)\u001b[0m` sink, but predictions that were provided do not  \u001b]8;id=17837;file:///Users/saadia/Documents/DevIA_2024/coding_projects/ShiFuMi_computerVision/venv/lib/python3.9/site-packages/inference/core/interfaces/stream/sinks.py\u001b\\\u001b[2msinks.py\u001b[0m\u001b]8;;\u001b\\\u001b[2m:\u001b[0m\u001b]8;id=694098;file:///Users/saadia/Documents/DevIA_2024/coding_projects/ShiFuMi_computerVision/venv/lib/python3.9/site-packages/inference/core/interfaces/stream/sinks.py#176\u001b\\\u001b[2m176\u001b[0m\u001b]8;;\u001b\\\n",
       "\u001b[2;36m                    \u001b[0m         match the expected format of object detection prediction that could be    \u001b[2m            \u001b[0m\n",
       "\u001b[2;36m                    \u001b[0m         accepted by `\u001b[1;35msupervision.Detection.from_inference\u001b[0m\u001b[1m(\u001b[0m\u001b[33m...\u001b[0m\u001b[1m)\u001b[0m                    \u001b[2m            \u001b[0m\n"
      ]
     },
     "metadata": {},
     "output_type": "display_data"
    },
    {
     "name": "stdout",
     "output_type": "stream",
     "text": [
      "0: 384x640 1 person, 473.3ms\n",
      "Speed: 1.6ms preprocess, 473.3ms inference, 0.4ms postprocess per image at shape (1, 3, 384, 640)\n",
      "Predictions made: [{'boxes': [[330.8702392578125, 199.535400390625, 1053.3214111328125, 712.0963134765625]], 'scores': [0.9338381886482239], 'class_indices': [0.0]}]\n",
      "Video frames: 1\n",
      "\n"
     ]
    },
    {
     "data": {
      "text/html": [
       "<pre style=\"white-space:pre;overflow-x:auto;line-height:normal;font-family:Menlo,'DejaVu Sans Mono',consolas,'Courier New',monospace\"><span style=\"color: #7fbfbf; text-decoration-color: #7fbfbf\">                    </span><span style=\"color: #800000; text-decoration-color: #800000\">WARNING </span> Used `<span style=\"color: #800080; text-decoration-color: #800080; font-weight: bold\">render_boxes</span><span style=\"font-weight: bold\">(</span><span style=\"color: #808000; text-decoration-color: #808000\">...</span><span style=\"font-weight: bold\">)</span>` sink, but predictions that were provided do not  <a href=\"file:///Users/saadia/Documents/DevIA_2024/coding_projects/ShiFuMi_computerVision/venv/lib/python3.9/site-packages/inference/core/interfaces/stream/sinks.py\" target=\"_blank\"><span style=\"color: #7f7f7f; text-decoration-color: #7f7f7f\">sinks.py</span></a><span style=\"color: #7f7f7f; text-decoration-color: #7f7f7f\">:</span><a href=\"file:///Users/saadia/Documents/DevIA_2024/coding_projects/ShiFuMi_computerVision/venv/lib/python3.9/site-packages/inference/core/interfaces/stream/sinks.py#176\" target=\"_blank\"><span style=\"color: #7f7f7f; text-decoration-color: #7f7f7f\">176</span></a>\n",
       "<span style=\"color: #7fbfbf; text-decoration-color: #7fbfbf\">                    </span>         match the expected format of object detection prediction that could be    <span style=\"color: #7f7f7f; text-decoration-color: #7f7f7f\">            </span>\n",
       "<span style=\"color: #7fbfbf; text-decoration-color: #7fbfbf\">                    </span>         accepted by `<span style=\"color: #800080; text-decoration-color: #800080; font-weight: bold\">supervision.Detection.from_inference</span><span style=\"font-weight: bold\">(</span><span style=\"color: #808000; text-decoration-color: #808000\">...</span><span style=\"font-weight: bold\">)</span>                    <span style=\"color: #7f7f7f; text-decoration-color: #7f7f7f\">            </span>\n",
       "</pre>\n"
      ],
      "text/plain": [
       "\u001b[2;36m                   \u001b[0m\u001b[2;36m \u001b[0m\u001b[31mWARNING \u001b[0m Used `\u001b[1;35mrender_boxes\u001b[0m\u001b[1m(\u001b[0m\u001b[33m...\u001b[0m\u001b[1m)\u001b[0m` sink, but predictions that were provided do not  \u001b]8;id=873332;file:///Users/saadia/Documents/DevIA_2024/coding_projects/ShiFuMi_computerVision/venv/lib/python3.9/site-packages/inference/core/interfaces/stream/sinks.py\u001b\\\u001b[2msinks.py\u001b[0m\u001b]8;;\u001b\\\u001b[2m:\u001b[0m\u001b]8;id=40899;file:///Users/saadia/Documents/DevIA_2024/coding_projects/ShiFuMi_computerVision/venv/lib/python3.9/site-packages/inference/core/interfaces/stream/sinks.py#176\u001b\\\u001b[2m176\u001b[0m\u001b]8;;\u001b\\\n",
       "\u001b[2;36m                    \u001b[0m         match the expected format of object detection prediction that could be    \u001b[2m            \u001b[0m\n",
       "\u001b[2;36m                    \u001b[0m         accepted by `\u001b[1;35msupervision.Detection.from_inference\u001b[0m\u001b[1m(\u001b[0m\u001b[33m...\u001b[0m\u001b[1m)\u001b[0m                    \u001b[2m            \u001b[0m\n"
      ]
     },
     "metadata": {},
     "output_type": "display_data"
    },
    {
     "name": "stdout",
     "output_type": "stream",
     "text": [
      "0: 384x640 1 person, 466.7ms\n",
      "Speed: 1.7ms preprocess, 466.7ms inference, 0.9ms postprocess per image at shape (1, 3, 384, 640)\n",
      "Predictions made: [{'boxes': [[359.6560363769531, 197.477783203125, 1034.649658203125, 712.634033203125]], 'scores': [0.9476251602172852], 'class_indices': [0.0]}]\n",
      "Video frames: 1\n",
      "\n"
     ]
    },
    {
     "data": {
      "text/html": [
       "<pre style=\"white-space:pre;overflow-x:auto;line-height:normal;font-family:Menlo,'DejaVu Sans Mono',consolas,'Courier New',monospace\"><span style=\"color: #7fbfbf; text-decoration-color: #7fbfbf\">[06/28/24 11:29:31] </span><span style=\"color: #800000; text-decoration-color: #800000\">WARNING </span> Used `<span style=\"color: #800080; text-decoration-color: #800080; font-weight: bold\">render_boxes</span><span style=\"font-weight: bold\">(</span><span style=\"color: #808000; text-decoration-color: #808000\">...</span><span style=\"font-weight: bold\">)</span>` sink, but predictions that were provided do not  <a href=\"file:///Users/saadia/Documents/DevIA_2024/coding_projects/ShiFuMi_computerVision/venv/lib/python3.9/site-packages/inference/core/interfaces/stream/sinks.py\" target=\"_blank\"><span style=\"color: #7f7f7f; text-decoration-color: #7f7f7f\">sinks.py</span></a><span style=\"color: #7f7f7f; text-decoration-color: #7f7f7f\">:</span><a href=\"file:///Users/saadia/Documents/DevIA_2024/coding_projects/ShiFuMi_computerVision/venv/lib/python3.9/site-packages/inference/core/interfaces/stream/sinks.py#176\" target=\"_blank\"><span style=\"color: #7f7f7f; text-decoration-color: #7f7f7f\">176</span></a>\n",
       "<span style=\"color: #7fbfbf; text-decoration-color: #7fbfbf\">                    </span>         match the expected format of object detection prediction that could be    <span style=\"color: #7f7f7f; text-decoration-color: #7f7f7f\">            </span>\n",
       "<span style=\"color: #7fbfbf; text-decoration-color: #7fbfbf\">                    </span>         accepted by `<span style=\"color: #800080; text-decoration-color: #800080; font-weight: bold\">supervision.Detection.from_inference</span><span style=\"font-weight: bold\">(</span><span style=\"color: #808000; text-decoration-color: #808000\">...</span><span style=\"font-weight: bold\">)</span>                    <span style=\"color: #7f7f7f; text-decoration-color: #7f7f7f\">            </span>\n",
       "</pre>\n"
      ],
      "text/plain": [
       "\u001b[2;36m[06/28/24 11:29:31]\u001b[0m\u001b[2;36m \u001b[0m\u001b[31mWARNING \u001b[0m Used `\u001b[1;35mrender_boxes\u001b[0m\u001b[1m(\u001b[0m\u001b[33m...\u001b[0m\u001b[1m)\u001b[0m` sink, but predictions that were provided do not  \u001b]8;id=441858;file:///Users/saadia/Documents/DevIA_2024/coding_projects/ShiFuMi_computerVision/venv/lib/python3.9/site-packages/inference/core/interfaces/stream/sinks.py\u001b\\\u001b[2msinks.py\u001b[0m\u001b]8;;\u001b\\\u001b[2m:\u001b[0m\u001b]8;id=73128;file:///Users/saadia/Documents/DevIA_2024/coding_projects/ShiFuMi_computerVision/venv/lib/python3.9/site-packages/inference/core/interfaces/stream/sinks.py#176\u001b\\\u001b[2m176\u001b[0m\u001b]8;;\u001b\\\n",
       "\u001b[2;36m                    \u001b[0m         match the expected format of object detection prediction that could be    \u001b[2m            \u001b[0m\n",
       "\u001b[2;36m                    \u001b[0m         accepted by `\u001b[1;35msupervision.Detection.from_inference\u001b[0m\u001b[1m(\u001b[0m\u001b[33m...\u001b[0m\u001b[1m)\u001b[0m                    \u001b[2m            \u001b[0m\n"
      ]
     },
     "metadata": {},
     "output_type": "display_data"
    },
    {
     "name": "stdout",
     "output_type": "stream",
     "text": [
      "0: 384x640 1 person, 479.2ms\n",
      "Speed: 2.1ms preprocess, 479.2ms inference, 0.6ms postprocess per image at shape (1, 3, 384, 640)\n",
      "Predictions made: [{'boxes': [[370.2364501953125, 196.733642578125, 1026.2945556640625, 712.9046630859375]], 'scores': [0.9548259377479553], 'class_indices': [0.0]}]\n",
      "Video frames: 1\n",
      "\n"
     ]
    },
    {
     "data": {
      "text/html": [
       "<pre style=\"white-space:pre;overflow-x:auto;line-height:normal;font-family:Menlo,'DejaVu Sans Mono',consolas,'Courier New',monospace\"><span style=\"color: #7fbfbf; text-decoration-color: #7fbfbf\">                    </span><span style=\"color: #800000; text-decoration-color: #800000\">WARNING </span> Used `<span style=\"color: #800080; text-decoration-color: #800080; font-weight: bold\">render_boxes</span><span style=\"font-weight: bold\">(</span><span style=\"color: #808000; text-decoration-color: #808000\">...</span><span style=\"font-weight: bold\">)</span>` sink, but predictions that were provided do not  <a href=\"file:///Users/saadia/Documents/DevIA_2024/coding_projects/ShiFuMi_computerVision/venv/lib/python3.9/site-packages/inference/core/interfaces/stream/sinks.py\" target=\"_blank\"><span style=\"color: #7f7f7f; text-decoration-color: #7f7f7f\">sinks.py</span></a><span style=\"color: #7f7f7f; text-decoration-color: #7f7f7f\">:</span><a href=\"file:///Users/saadia/Documents/DevIA_2024/coding_projects/ShiFuMi_computerVision/venv/lib/python3.9/site-packages/inference/core/interfaces/stream/sinks.py#176\" target=\"_blank\"><span style=\"color: #7f7f7f; text-decoration-color: #7f7f7f\">176</span></a>\n",
       "<span style=\"color: #7fbfbf; text-decoration-color: #7fbfbf\">                    </span>         match the expected format of object detection prediction that could be    <span style=\"color: #7f7f7f; text-decoration-color: #7f7f7f\">            </span>\n",
       "<span style=\"color: #7fbfbf; text-decoration-color: #7fbfbf\">                    </span>         accepted by `<span style=\"color: #800080; text-decoration-color: #800080; font-weight: bold\">supervision.Detection.from_inference</span><span style=\"font-weight: bold\">(</span><span style=\"color: #808000; text-decoration-color: #808000\">...</span><span style=\"font-weight: bold\">)</span>                    <span style=\"color: #7f7f7f; text-decoration-color: #7f7f7f\">            </span>\n",
       "</pre>\n"
      ],
      "text/plain": [
       "\u001b[2;36m                   \u001b[0m\u001b[2;36m \u001b[0m\u001b[31mWARNING \u001b[0m Used `\u001b[1;35mrender_boxes\u001b[0m\u001b[1m(\u001b[0m\u001b[33m...\u001b[0m\u001b[1m)\u001b[0m` sink, but predictions that were provided do not  \u001b]8;id=69850;file:///Users/saadia/Documents/DevIA_2024/coding_projects/ShiFuMi_computerVision/venv/lib/python3.9/site-packages/inference/core/interfaces/stream/sinks.py\u001b\\\u001b[2msinks.py\u001b[0m\u001b]8;;\u001b\\\u001b[2m:\u001b[0m\u001b]8;id=483678;file:///Users/saadia/Documents/DevIA_2024/coding_projects/ShiFuMi_computerVision/venv/lib/python3.9/site-packages/inference/core/interfaces/stream/sinks.py#176\u001b\\\u001b[2m176\u001b[0m\u001b]8;;\u001b\\\n",
       "\u001b[2;36m                    \u001b[0m         match the expected format of object detection prediction that could be    \u001b[2m            \u001b[0m\n",
       "\u001b[2;36m                    \u001b[0m         accepted by `\u001b[1;35msupervision.Detection.from_inference\u001b[0m\u001b[1m(\u001b[0m\u001b[33m...\u001b[0m\u001b[1m)\u001b[0m                    \u001b[2m            \u001b[0m\n"
      ]
     },
     "metadata": {},
     "output_type": "display_data"
    },
    {
     "name": "stdout",
     "output_type": "stream",
     "text": [
      "0: 384x640 1 person, 1 toilet, 472.5ms\n",
      "Speed: 1.5ms preprocess, 472.5ms inference, 0.7ms postprocess per image at shape (1, 3, 384, 640)\n",
      "Predictions made: [{'boxes': [[368.9527587890625, 202.90545654296875, 1036.6126708984375, 713.91455078125], [101.72057342529297, 654.9841918945312, 270.5858154296875, 719.0919799804688]], 'scores': [0.9486579895019531, 0.2806280851364136], 'class_indices': [0.0, 61.0]}]\n",
      "Video frames: 1\n",
      "\n"
     ]
    },
    {
     "data": {
      "text/html": [
       "<pre style=\"white-space:pre;overflow-x:auto;line-height:normal;font-family:Menlo,'DejaVu Sans Mono',consolas,'Courier New',monospace\"><span style=\"color: #7fbfbf; text-decoration-color: #7fbfbf\">[06/28/24 11:29:32] </span><span style=\"color: #800000; text-decoration-color: #800000\">WARNING </span> Used `<span style=\"color: #800080; text-decoration-color: #800080; font-weight: bold\">render_boxes</span><span style=\"font-weight: bold\">(</span><span style=\"color: #808000; text-decoration-color: #808000\">...</span><span style=\"font-weight: bold\">)</span>` sink, but predictions that were provided do not  <a href=\"file:///Users/saadia/Documents/DevIA_2024/coding_projects/ShiFuMi_computerVision/venv/lib/python3.9/site-packages/inference/core/interfaces/stream/sinks.py\" target=\"_blank\"><span style=\"color: #7f7f7f; text-decoration-color: #7f7f7f\">sinks.py</span></a><span style=\"color: #7f7f7f; text-decoration-color: #7f7f7f\">:</span><a href=\"file:///Users/saadia/Documents/DevIA_2024/coding_projects/ShiFuMi_computerVision/venv/lib/python3.9/site-packages/inference/core/interfaces/stream/sinks.py#176\" target=\"_blank\"><span style=\"color: #7f7f7f; text-decoration-color: #7f7f7f\">176</span></a>\n",
       "<span style=\"color: #7fbfbf; text-decoration-color: #7fbfbf\">                    </span>         match the expected format of object detection prediction that could be    <span style=\"color: #7f7f7f; text-decoration-color: #7f7f7f\">            </span>\n",
       "<span style=\"color: #7fbfbf; text-decoration-color: #7fbfbf\">                    </span>         accepted by `<span style=\"color: #800080; text-decoration-color: #800080; font-weight: bold\">supervision.Detection.from_inference</span><span style=\"font-weight: bold\">(</span><span style=\"color: #808000; text-decoration-color: #808000\">...</span><span style=\"font-weight: bold\">)</span>                    <span style=\"color: #7f7f7f; text-decoration-color: #7f7f7f\">            </span>\n",
       "</pre>\n"
      ],
      "text/plain": [
       "\u001b[2;36m[06/28/24 11:29:32]\u001b[0m\u001b[2;36m \u001b[0m\u001b[31mWARNING \u001b[0m Used `\u001b[1;35mrender_boxes\u001b[0m\u001b[1m(\u001b[0m\u001b[33m...\u001b[0m\u001b[1m)\u001b[0m` sink, but predictions that were provided do not  \u001b]8;id=699579;file:///Users/saadia/Documents/DevIA_2024/coding_projects/ShiFuMi_computerVision/venv/lib/python3.9/site-packages/inference/core/interfaces/stream/sinks.py\u001b\\\u001b[2msinks.py\u001b[0m\u001b]8;;\u001b\\\u001b[2m:\u001b[0m\u001b]8;id=251115;file:///Users/saadia/Documents/DevIA_2024/coding_projects/ShiFuMi_computerVision/venv/lib/python3.9/site-packages/inference/core/interfaces/stream/sinks.py#176\u001b\\\u001b[2m176\u001b[0m\u001b]8;;\u001b\\\n",
       "\u001b[2;36m                    \u001b[0m         match the expected format of object detection prediction that could be    \u001b[2m            \u001b[0m\n",
       "\u001b[2;36m                    \u001b[0m         accepted by `\u001b[1;35msupervision.Detection.from_inference\u001b[0m\u001b[1m(\u001b[0m\u001b[33m...\u001b[0m\u001b[1m)\u001b[0m                    \u001b[2m            \u001b[0m\n"
      ]
     },
     "metadata": {},
     "output_type": "display_data"
    },
    {
     "name": "stdout",
     "output_type": "stream",
     "text": [
      "0: 384x640 1 person, 1 tie, 475.8ms\n",
      "Speed: 1.6ms preprocess, 475.8ms inference, 0.8ms postprocess per image at shape (1, 3, 384, 640)\n",
      "Predictions made: [{'boxes': [[371.224609375, 205.3511962890625, 1034.62890625, 713.4791259765625], [573.1105346679688, 591.027587890625, 718.1388549804688, 719.188720703125]], 'scores': [0.9501128196716309, 0.40673309564590454], 'class_indices': [0.0, 27.0]}]\n",
      "Video frames: 1\n",
      "\n"
     ]
    },
    {
     "data": {
      "text/html": [
       "<pre style=\"white-space:pre;overflow-x:auto;line-height:normal;font-family:Menlo,'DejaVu Sans Mono',consolas,'Courier New',monospace\"><span style=\"color: #7fbfbf; text-decoration-color: #7fbfbf\">                    </span><span style=\"color: #800000; text-decoration-color: #800000\">WARNING </span> Used `<span style=\"color: #800080; text-decoration-color: #800080; font-weight: bold\">render_boxes</span><span style=\"font-weight: bold\">(</span><span style=\"color: #808000; text-decoration-color: #808000\">...</span><span style=\"font-weight: bold\">)</span>` sink, but predictions that were provided do not  <a href=\"file:///Users/saadia/Documents/DevIA_2024/coding_projects/ShiFuMi_computerVision/venv/lib/python3.9/site-packages/inference/core/interfaces/stream/sinks.py\" target=\"_blank\"><span style=\"color: #7f7f7f; text-decoration-color: #7f7f7f\">sinks.py</span></a><span style=\"color: #7f7f7f; text-decoration-color: #7f7f7f\">:</span><a href=\"file:///Users/saadia/Documents/DevIA_2024/coding_projects/ShiFuMi_computerVision/venv/lib/python3.9/site-packages/inference/core/interfaces/stream/sinks.py#176\" target=\"_blank\"><span style=\"color: #7f7f7f; text-decoration-color: #7f7f7f\">176</span></a>\n",
       "<span style=\"color: #7fbfbf; text-decoration-color: #7fbfbf\">                    </span>         match the expected format of object detection prediction that could be    <span style=\"color: #7f7f7f; text-decoration-color: #7f7f7f\">            </span>\n",
       "<span style=\"color: #7fbfbf; text-decoration-color: #7fbfbf\">                    </span>         accepted by `<span style=\"color: #800080; text-decoration-color: #800080; font-weight: bold\">supervision.Detection.from_inference</span><span style=\"font-weight: bold\">(</span><span style=\"color: #808000; text-decoration-color: #808000\">...</span><span style=\"font-weight: bold\">)</span>                    <span style=\"color: #7f7f7f; text-decoration-color: #7f7f7f\">            </span>\n",
       "</pre>\n"
      ],
      "text/plain": [
       "\u001b[2;36m                   \u001b[0m\u001b[2;36m \u001b[0m\u001b[31mWARNING \u001b[0m Used `\u001b[1;35mrender_boxes\u001b[0m\u001b[1m(\u001b[0m\u001b[33m...\u001b[0m\u001b[1m)\u001b[0m` sink, but predictions that were provided do not  \u001b]8;id=621080;file:///Users/saadia/Documents/DevIA_2024/coding_projects/ShiFuMi_computerVision/venv/lib/python3.9/site-packages/inference/core/interfaces/stream/sinks.py\u001b\\\u001b[2msinks.py\u001b[0m\u001b]8;;\u001b\\\u001b[2m:\u001b[0m\u001b]8;id=627129;file:///Users/saadia/Documents/DevIA_2024/coding_projects/ShiFuMi_computerVision/venv/lib/python3.9/site-packages/inference/core/interfaces/stream/sinks.py#176\u001b\\\u001b[2m176\u001b[0m\u001b]8;;\u001b\\\n",
       "\u001b[2;36m                    \u001b[0m         match the expected format of object detection prediction that could be    \u001b[2m            \u001b[0m\n",
       "\u001b[2;36m                    \u001b[0m         accepted by `\u001b[1;35msupervision.Detection.from_inference\u001b[0m\u001b[1m(\u001b[0m\u001b[33m...\u001b[0m\u001b[1m)\u001b[0m                    \u001b[2m            \u001b[0m\n"
      ]
     },
     "metadata": {},
     "output_type": "display_data"
    },
    {
     "name": "stdout",
     "output_type": "stream",
     "text": [
      "0: 384x640 1 person, 1 toothbrush, 473.6ms\n",
      "Speed: 1.5ms preprocess, 473.6ms inference, 0.6ms postprocess per image at shape (1, 3, 384, 640)\n",
      "Predictions made: [{'boxes': [[366.071533203125, 203.45274353027344, 1035.8001708984375, 713.720947265625], [662.9935302734375, 597.4119873046875, 697.384033203125, 628.1895751953125]], 'scores': [0.9508256316184998, 0.2917153835296631], 'class_indices': [0.0, 79.0]}]\n",
      "Video frames: 1\n",
      "\n"
     ]
    },
    {
     "data": {
      "text/html": [
       "<pre style=\"white-space:pre;overflow-x:auto;line-height:normal;font-family:Menlo,'DejaVu Sans Mono',consolas,'Courier New',monospace\"><span style=\"color: #7fbfbf; text-decoration-color: #7fbfbf\">[06/28/24 11:29:33] </span><span style=\"color: #800000; text-decoration-color: #800000\">WARNING </span> Used `<span style=\"color: #800080; text-decoration-color: #800080; font-weight: bold\">render_boxes</span><span style=\"font-weight: bold\">(</span><span style=\"color: #808000; text-decoration-color: #808000\">...</span><span style=\"font-weight: bold\">)</span>` sink, but predictions that were provided do not  <a href=\"file:///Users/saadia/Documents/DevIA_2024/coding_projects/ShiFuMi_computerVision/venv/lib/python3.9/site-packages/inference/core/interfaces/stream/sinks.py\" target=\"_blank\"><span style=\"color: #7f7f7f; text-decoration-color: #7f7f7f\">sinks.py</span></a><span style=\"color: #7f7f7f; text-decoration-color: #7f7f7f\">:</span><a href=\"file:///Users/saadia/Documents/DevIA_2024/coding_projects/ShiFuMi_computerVision/venv/lib/python3.9/site-packages/inference/core/interfaces/stream/sinks.py#176\" target=\"_blank\"><span style=\"color: #7f7f7f; text-decoration-color: #7f7f7f\">176</span></a>\n",
       "<span style=\"color: #7fbfbf; text-decoration-color: #7fbfbf\">                    </span>         match the expected format of object detection prediction that could be    <span style=\"color: #7f7f7f; text-decoration-color: #7f7f7f\">            </span>\n",
       "<span style=\"color: #7fbfbf; text-decoration-color: #7fbfbf\">                    </span>         accepted by `<span style=\"color: #800080; text-decoration-color: #800080; font-weight: bold\">supervision.Detection.from_inference</span><span style=\"font-weight: bold\">(</span><span style=\"color: #808000; text-decoration-color: #808000\">...</span><span style=\"font-weight: bold\">)</span>                    <span style=\"color: #7f7f7f; text-decoration-color: #7f7f7f\">            </span>\n",
       "</pre>\n"
      ],
      "text/plain": [
       "\u001b[2;36m[06/28/24 11:29:33]\u001b[0m\u001b[2;36m \u001b[0m\u001b[31mWARNING \u001b[0m Used `\u001b[1;35mrender_boxes\u001b[0m\u001b[1m(\u001b[0m\u001b[33m...\u001b[0m\u001b[1m)\u001b[0m` sink, but predictions that were provided do not  \u001b]8;id=780027;file:///Users/saadia/Documents/DevIA_2024/coding_projects/ShiFuMi_computerVision/venv/lib/python3.9/site-packages/inference/core/interfaces/stream/sinks.py\u001b\\\u001b[2msinks.py\u001b[0m\u001b]8;;\u001b\\\u001b[2m:\u001b[0m\u001b]8;id=737170;file:///Users/saadia/Documents/DevIA_2024/coding_projects/ShiFuMi_computerVision/venv/lib/python3.9/site-packages/inference/core/interfaces/stream/sinks.py#176\u001b\\\u001b[2m176\u001b[0m\u001b]8;;\u001b\\\n",
       "\u001b[2;36m                    \u001b[0m         match the expected format of object detection prediction that could be    \u001b[2m            \u001b[0m\n",
       "\u001b[2;36m                    \u001b[0m         accepted by `\u001b[1;35msupervision.Detection.from_inference\u001b[0m\u001b[1m(\u001b[0m\u001b[33m...\u001b[0m\u001b[1m)\u001b[0m                    \u001b[2m            \u001b[0m\n"
      ]
     },
     "metadata": {},
     "output_type": "display_data"
    },
    {
     "name": "stdout",
     "output_type": "stream",
     "text": [
      "0: 384x640 1 person, 1 tie, 1 toilet, 469.2ms\n",
      "Speed: 1.7ms preprocess, 469.2ms inference, 0.7ms postprocess per image at shape (1, 3, 384, 640)\n",
      "Predictions made: [{'boxes': [[368.170166015625, 203.9759979248047, 1035.837646484375, 713.5741577148438], [616.6148681640625, 609.177978515625, 672.78662109375, 719.27880859375], [102.09381103515625, 655.8355712890625, 270.5544738769531, 719.0555419921875]], 'scores': [0.9485750794410706, 0.6137323379516602, 0.29717788100242615], 'class_indices': [0.0, 27.0, 61.0]}]\n",
      "Video frames: 1\n",
      "\n"
     ]
    },
    {
     "data": {
      "text/html": [
       "<pre style=\"white-space:pre;overflow-x:auto;line-height:normal;font-family:Menlo,'DejaVu Sans Mono',consolas,'Courier New',monospace\"><span style=\"color: #7fbfbf; text-decoration-color: #7fbfbf\">                    </span><span style=\"color: #800000; text-decoration-color: #800000\">WARNING </span> Used `<span style=\"color: #800080; text-decoration-color: #800080; font-weight: bold\">render_boxes</span><span style=\"font-weight: bold\">(</span><span style=\"color: #808000; text-decoration-color: #808000\">...</span><span style=\"font-weight: bold\">)</span>` sink, but predictions that were provided do not  <a href=\"file:///Users/saadia/Documents/DevIA_2024/coding_projects/ShiFuMi_computerVision/venv/lib/python3.9/site-packages/inference/core/interfaces/stream/sinks.py\" target=\"_blank\"><span style=\"color: #7f7f7f; text-decoration-color: #7f7f7f\">sinks.py</span></a><span style=\"color: #7f7f7f; text-decoration-color: #7f7f7f\">:</span><a href=\"file:///Users/saadia/Documents/DevIA_2024/coding_projects/ShiFuMi_computerVision/venv/lib/python3.9/site-packages/inference/core/interfaces/stream/sinks.py#176\" target=\"_blank\"><span style=\"color: #7f7f7f; text-decoration-color: #7f7f7f\">176</span></a>\n",
       "<span style=\"color: #7fbfbf; text-decoration-color: #7fbfbf\">                    </span>         match the expected format of object detection prediction that could be    <span style=\"color: #7f7f7f; text-decoration-color: #7f7f7f\">            </span>\n",
       "<span style=\"color: #7fbfbf; text-decoration-color: #7fbfbf\">                    </span>         accepted by `<span style=\"color: #800080; text-decoration-color: #800080; font-weight: bold\">supervision.Detection.from_inference</span><span style=\"font-weight: bold\">(</span><span style=\"color: #808000; text-decoration-color: #808000\">...</span><span style=\"font-weight: bold\">)</span>                    <span style=\"color: #7f7f7f; text-decoration-color: #7f7f7f\">            </span>\n",
       "</pre>\n"
      ],
      "text/plain": [
       "\u001b[2;36m                   \u001b[0m\u001b[2;36m \u001b[0m\u001b[31mWARNING \u001b[0m Used `\u001b[1;35mrender_boxes\u001b[0m\u001b[1m(\u001b[0m\u001b[33m...\u001b[0m\u001b[1m)\u001b[0m` sink, but predictions that were provided do not  \u001b]8;id=989665;file:///Users/saadia/Documents/DevIA_2024/coding_projects/ShiFuMi_computerVision/venv/lib/python3.9/site-packages/inference/core/interfaces/stream/sinks.py\u001b\\\u001b[2msinks.py\u001b[0m\u001b]8;;\u001b\\\u001b[2m:\u001b[0m\u001b]8;id=677865;file:///Users/saadia/Documents/DevIA_2024/coding_projects/ShiFuMi_computerVision/venv/lib/python3.9/site-packages/inference/core/interfaces/stream/sinks.py#176\u001b\\\u001b[2m176\u001b[0m\u001b]8;;\u001b\\\n",
       "\u001b[2;36m                    \u001b[0m         match the expected format of object detection prediction that could be    \u001b[2m            \u001b[0m\n",
       "\u001b[2;36m                    \u001b[0m         accepted by `\u001b[1;35msupervision.Detection.from_inference\u001b[0m\u001b[1m(\u001b[0m\u001b[33m...\u001b[0m\u001b[1m)\u001b[0m                    \u001b[2m            \u001b[0m\n"
      ]
     },
     "metadata": {},
     "output_type": "display_data"
    },
    {
     "name": "stdout",
     "output_type": "stream",
     "text": [
      "0: 384x640 1 person, 1 toilet, 468.3ms\n",
      "Speed: 2.7ms preprocess, 468.3ms inference, 0.6ms postprocess per image at shape (1, 3, 384, 640)\n",
      "Predictions made: [{'boxes': [[350.9642333984375, 207.3763427734375, 1038.8111572265625, 714.0648193359375], [101.9268798828125, 656.0694580078125, 270.6813049316406, 719.1429443359375]], 'scores': [0.9454811215400696, 0.291523814201355], 'class_indices': [0.0, 61.0]}]\n",
      "Video frames: 1\n",
      "\n"
     ]
    },
    {
     "data": {
      "text/html": [
       "<pre style=\"white-space:pre;overflow-x:auto;line-height:normal;font-family:Menlo,'DejaVu Sans Mono',consolas,'Courier New',monospace\"><span style=\"color: #7fbfbf; text-decoration-color: #7fbfbf\">[06/28/24 11:29:34] </span><span style=\"color: #800000; text-decoration-color: #800000\">WARNING </span> Used `<span style=\"color: #800080; text-decoration-color: #800080; font-weight: bold\">render_boxes</span><span style=\"font-weight: bold\">(</span><span style=\"color: #808000; text-decoration-color: #808000\">...</span><span style=\"font-weight: bold\">)</span>` sink, but predictions that were provided do not  <a href=\"file:///Users/saadia/Documents/DevIA_2024/coding_projects/ShiFuMi_computerVision/venv/lib/python3.9/site-packages/inference/core/interfaces/stream/sinks.py\" target=\"_blank\"><span style=\"color: #7f7f7f; text-decoration-color: #7f7f7f\">sinks.py</span></a><span style=\"color: #7f7f7f; text-decoration-color: #7f7f7f\">:</span><a href=\"file:///Users/saadia/Documents/DevIA_2024/coding_projects/ShiFuMi_computerVision/venv/lib/python3.9/site-packages/inference/core/interfaces/stream/sinks.py#176\" target=\"_blank\"><span style=\"color: #7f7f7f; text-decoration-color: #7f7f7f\">176</span></a>\n",
       "<span style=\"color: #7fbfbf; text-decoration-color: #7fbfbf\">                    </span>         match the expected format of object detection prediction that could be    <span style=\"color: #7f7f7f; text-decoration-color: #7f7f7f\">            </span>\n",
       "<span style=\"color: #7fbfbf; text-decoration-color: #7fbfbf\">                    </span>         accepted by `<span style=\"color: #800080; text-decoration-color: #800080; font-weight: bold\">supervision.Detection.from_inference</span><span style=\"font-weight: bold\">(</span><span style=\"color: #808000; text-decoration-color: #808000\">...</span><span style=\"font-weight: bold\">)</span>                    <span style=\"color: #7f7f7f; text-decoration-color: #7f7f7f\">            </span>\n",
       "</pre>\n"
      ],
      "text/plain": [
       "\u001b[2;36m[06/28/24 11:29:34]\u001b[0m\u001b[2;36m \u001b[0m\u001b[31mWARNING \u001b[0m Used `\u001b[1;35mrender_boxes\u001b[0m\u001b[1m(\u001b[0m\u001b[33m...\u001b[0m\u001b[1m)\u001b[0m` sink, but predictions that were provided do not  \u001b]8;id=246362;file:///Users/saadia/Documents/DevIA_2024/coding_projects/ShiFuMi_computerVision/venv/lib/python3.9/site-packages/inference/core/interfaces/stream/sinks.py\u001b\\\u001b[2msinks.py\u001b[0m\u001b]8;;\u001b\\\u001b[2m:\u001b[0m\u001b]8;id=208315;file:///Users/saadia/Documents/DevIA_2024/coding_projects/ShiFuMi_computerVision/venv/lib/python3.9/site-packages/inference/core/interfaces/stream/sinks.py#176\u001b\\\u001b[2m176\u001b[0m\u001b]8;;\u001b\\\n",
       "\u001b[2;36m                    \u001b[0m         match the expected format of object detection prediction that could be    \u001b[2m            \u001b[0m\n",
       "\u001b[2;36m                    \u001b[0m         accepted by `\u001b[1;35msupervision.Detection.from_inference\u001b[0m\u001b[1m(\u001b[0m\u001b[33m...\u001b[0m\u001b[1m)\u001b[0m                    \u001b[2m            \u001b[0m\n"
      ]
     },
     "metadata": {},
     "output_type": "display_data"
    },
    {
     "name": "stdout",
     "output_type": "stream",
     "text": [
      "0: 384x640 1 person, 1 toilet, 464.9ms\n",
      "Speed: 1.7ms preprocess, 464.9ms inference, 0.6ms postprocess per image at shape (1, 3, 384, 640)\n",
      "Predictions made: [{'boxes': [[369.2891845703125, 208.38804626464844, 1038.960205078125, 713.3271484375], [101.8501205444336, 656.2150268554688, 270.4405822753906, 719.1454467773438]], 'scores': [0.9422521591186523, 0.2721845805644989], 'class_indices': [0.0, 61.0]}]\n",
      "Video frames: 1\n",
      "\n"
     ]
    },
    {
     "data": {
      "text/html": [
       "<pre style=\"white-space:pre;overflow-x:auto;line-height:normal;font-family:Menlo,'DejaVu Sans Mono',consolas,'Courier New',monospace\"><span style=\"color: #7fbfbf; text-decoration-color: #7fbfbf\">                    </span><span style=\"color: #800000; text-decoration-color: #800000\">WARNING </span> Used `<span style=\"color: #800080; text-decoration-color: #800080; font-weight: bold\">render_boxes</span><span style=\"font-weight: bold\">(</span><span style=\"color: #808000; text-decoration-color: #808000\">...</span><span style=\"font-weight: bold\">)</span>` sink, but predictions that were provided do not  <a href=\"file:///Users/saadia/Documents/DevIA_2024/coding_projects/ShiFuMi_computerVision/venv/lib/python3.9/site-packages/inference/core/interfaces/stream/sinks.py\" target=\"_blank\"><span style=\"color: #7f7f7f; text-decoration-color: #7f7f7f\">sinks.py</span></a><span style=\"color: #7f7f7f; text-decoration-color: #7f7f7f\">:</span><a href=\"file:///Users/saadia/Documents/DevIA_2024/coding_projects/ShiFuMi_computerVision/venv/lib/python3.9/site-packages/inference/core/interfaces/stream/sinks.py#176\" target=\"_blank\"><span style=\"color: #7f7f7f; text-decoration-color: #7f7f7f\">176</span></a>\n",
       "<span style=\"color: #7fbfbf; text-decoration-color: #7fbfbf\">                    </span>         match the expected format of object detection prediction that could be    <span style=\"color: #7f7f7f; text-decoration-color: #7f7f7f\">            </span>\n",
       "<span style=\"color: #7fbfbf; text-decoration-color: #7fbfbf\">                    </span>         accepted by `<span style=\"color: #800080; text-decoration-color: #800080; font-weight: bold\">supervision.Detection.from_inference</span><span style=\"font-weight: bold\">(</span><span style=\"color: #808000; text-decoration-color: #808000\">...</span><span style=\"font-weight: bold\">)</span>                    <span style=\"color: #7f7f7f; text-decoration-color: #7f7f7f\">            </span>\n",
       "</pre>\n"
      ],
      "text/plain": [
       "\u001b[2;36m                   \u001b[0m\u001b[2;36m \u001b[0m\u001b[31mWARNING \u001b[0m Used `\u001b[1;35mrender_boxes\u001b[0m\u001b[1m(\u001b[0m\u001b[33m...\u001b[0m\u001b[1m)\u001b[0m` sink, but predictions that were provided do not  \u001b]8;id=906489;file:///Users/saadia/Documents/DevIA_2024/coding_projects/ShiFuMi_computerVision/venv/lib/python3.9/site-packages/inference/core/interfaces/stream/sinks.py\u001b\\\u001b[2msinks.py\u001b[0m\u001b]8;;\u001b\\\u001b[2m:\u001b[0m\u001b]8;id=443088;file:///Users/saadia/Documents/DevIA_2024/coding_projects/ShiFuMi_computerVision/venv/lib/python3.9/site-packages/inference/core/interfaces/stream/sinks.py#176\u001b\\\u001b[2m176\u001b[0m\u001b]8;;\u001b\\\n",
       "\u001b[2;36m                    \u001b[0m         match the expected format of object detection prediction that could be    \u001b[2m            \u001b[0m\n",
       "\u001b[2;36m                    \u001b[0m         accepted by `\u001b[1;35msupervision.Detection.from_inference\u001b[0m\u001b[1m(\u001b[0m\u001b[33m...\u001b[0m\u001b[1m)\u001b[0m                    \u001b[2m            \u001b[0m\n"
      ]
     },
     "metadata": {},
     "output_type": "display_data"
    },
    {
     "name": "stdout",
     "output_type": "stream",
     "text": [
      "0: 384x640 1 person, 1 toilet, 481.1ms\n",
      "Speed: 1.7ms preprocess, 481.1ms inference, 0.3ms postprocess per image at shape (1, 3, 384, 640)\n",
      "Predictions made: [{'boxes': [[375.0541687011719, 210.01368713378906, 1035.5693359375, 712.7725830078125], [101.73617553710938, 655.6849365234375, 270.52947998046875, 719.1236572265625]], 'scores': [0.9509158730506897, 0.31188035011291504], 'class_indices': [0.0, 61.0]}]\n",
      "Video frames: 1\n",
      "\n"
     ]
    },
    {
     "data": {
      "text/html": [
       "<pre style=\"white-space:pre;overflow-x:auto;line-height:normal;font-family:Menlo,'DejaVu Sans Mono',consolas,'Courier New',monospace\"><span style=\"color: #7fbfbf; text-decoration-color: #7fbfbf\">[06/28/24 11:29:35] </span><span style=\"color: #800000; text-decoration-color: #800000\">WARNING </span> Used `<span style=\"color: #800080; text-decoration-color: #800080; font-weight: bold\">render_boxes</span><span style=\"font-weight: bold\">(</span><span style=\"color: #808000; text-decoration-color: #808000\">...</span><span style=\"font-weight: bold\">)</span>` sink, but predictions that were provided do not  <a href=\"file:///Users/saadia/Documents/DevIA_2024/coding_projects/ShiFuMi_computerVision/venv/lib/python3.9/site-packages/inference/core/interfaces/stream/sinks.py\" target=\"_blank\"><span style=\"color: #7f7f7f; text-decoration-color: #7f7f7f\">sinks.py</span></a><span style=\"color: #7f7f7f; text-decoration-color: #7f7f7f\">:</span><a href=\"file:///Users/saadia/Documents/DevIA_2024/coding_projects/ShiFuMi_computerVision/venv/lib/python3.9/site-packages/inference/core/interfaces/stream/sinks.py#176\" target=\"_blank\"><span style=\"color: #7f7f7f; text-decoration-color: #7f7f7f\">176</span></a>\n",
       "<span style=\"color: #7fbfbf; text-decoration-color: #7fbfbf\">                    </span>         match the expected format of object detection prediction that could be    <span style=\"color: #7f7f7f; text-decoration-color: #7f7f7f\">            </span>\n",
       "<span style=\"color: #7fbfbf; text-decoration-color: #7fbfbf\">                    </span>         accepted by `<span style=\"color: #800080; text-decoration-color: #800080; font-weight: bold\">supervision.Detection.from_inference</span><span style=\"font-weight: bold\">(</span><span style=\"color: #808000; text-decoration-color: #808000\">...</span><span style=\"font-weight: bold\">)</span>                    <span style=\"color: #7f7f7f; text-decoration-color: #7f7f7f\">            </span>\n",
       "</pre>\n"
      ],
      "text/plain": [
       "\u001b[2;36m[06/28/24 11:29:35]\u001b[0m\u001b[2;36m \u001b[0m\u001b[31mWARNING \u001b[0m Used `\u001b[1;35mrender_boxes\u001b[0m\u001b[1m(\u001b[0m\u001b[33m...\u001b[0m\u001b[1m)\u001b[0m` sink, but predictions that were provided do not  \u001b]8;id=475655;file:///Users/saadia/Documents/DevIA_2024/coding_projects/ShiFuMi_computerVision/venv/lib/python3.9/site-packages/inference/core/interfaces/stream/sinks.py\u001b\\\u001b[2msinks.py\u001b[0m\u001b]8;;\u001b\\\u001b[2m:\u001b[0m\u001b]8;id=892827;file:///Users/saadia/Documents/DevIA_2024/coding_projects/ShiFuMi_computerVision/venv/lib/python3.9/site-packages/inference/core/interfaces/stream/sinks.py#176\u001b\\\u001b[2m176\u001b[0m\u001b]8;;\u001b\\\n",
       "\u001b[2;36m                    \u001b[0m         match the expected format of object detection prediction that could be    \u001b[2m            \u001b[0m\n",
       "\u001b[2;36m                    \u001b[0m         accepted by `\u001b[1;35msupervision.Detection.from_inference\u001b[0m\u001b[1m(\u001b[0m\u001b[33m...\u001b[0m\u001b[1m)\u001b[0m                    \u001b[2m            \u001b[0m\n"
      ]
     },
     "metadata": {},
     "output_type": "display_data"
    },
    {
     "name": "stdout",
     "output_type": "stream",
     "text": [
      "0: 384x640 1 person, 463.8ms\n",
      "Speed: 2.8ms preprocess, 463.8ms inference, 0.6ms postprocess per image at shape (1, 3, 384, 640)\n",
      "Predictions made: [{'boxes': [[350.9520263671875, 206.2298126220703, 1027.42626953125, 713.3078002929688]], 'scores': [0.9436962008476257], 'class_indices': [0.0]}]\n",
      "Video frames: 1\n",
      "\n"
     ]
    },
    {
     "data": {
      "text/html": [
       "<pre style=\"white-space:pre;overflow-x:auto;line-height:normal;font-family:Menlo,'DejaVu Sans Mono',consolas,'Courier New',monospace\"><span style=\"color: #7fbfbf; text-decoration-color: #7fbfbf\">                    </span><span style=\"color: #800000; text-decoration-color: #800000\">WARNING </span> Used `<span style=\"color: #800080; text-decoration-color: #800080; font-weight: bold\">render_boxes</span><span style=\"font-weight: bold\">(</span><span style=\"color: #808000; text-decoration-color: #808000\">...</span><span style=\"font-weight: bold\">)</span>` sink, but predictions that were provided do not  <a href=\"file:///Users/saadia/Documents/DevIA_2024/coding_projects/ShiFuMi_computerVision/venv/lib/python3.9/site-packages/inference/core/interfaces/stream/sinks.py\" target=\"_blank\"><span style=\"color: #7f7f7f; text-decoration-color: #7f7f7f\">sinks.py</span></a><span style=\"color: #7f7f7f; text-decoration-color: #7f7f7f\">:</span><a href=\"file:///Users/saadia/Documents/DevIA_2024/coding_projects/ShiFuMi_computerVision/venv/lib/python3.9/site-packages/inference/core/interfaces/stream/sinks.py#176\" target=\"_blank\"><span style=\"color: #7f7f7f; text-decoration-color: #7f7f7f\">176</span></a>\n",
       "<span style=\"color: #7fbfbf; text-decoration-color: #7fbfbf\">                    </span>         match the expected format of object detection prediction that could be    <span style=\"color: #7f7f7f; text-decoration-color: #7f7f7f\">            </span>\n",
       "<span style=\"color: #7fbfbf; text-decoration-color: #7fbfbf\">                    </span>         accepted by `<span style=\"color: #800080; text-decoration-color: #800080; font-weight: bold\">supervision.Detection.from_inference</span><span style=\"font-weight: bold\">(</span><span style=\"color: #808000; text-decoration-color: #808000\">...</span><span style=\"font-weight: bold\">)</span>                    <span style=\"color: #7f7f7f; text-decoration-color: #7f7f7f\">            </span>\n",
       "</pre>\n"
      ],
      "text/plain": [
       "\u001b[2;36m                   \u001b[0m\u001b[2;36m \u001b[0m\u001b[31mWARNING \u001b[0m Used `\u001b[1;35mrender_boxes\u001b[0m\u001b[1m(\u001b[0m\u001b[33m...\u001b[0m\u001b[1m)\u001b[0m` sink, but predictions that were provided do not  \u001b]8;id=488212;file:///Users/saadia/Documents/DevIA_2024/coding_projects/ShiFuMi_computerVision/venv/lib/python3.9/site-packages/inference/core/interfaces/stream/sinks.py\u001b\\\u001b[2msinks.py\u001b[0m\u001b]8;;\u001b\\\u001b[2m:\u001b[0m\u001b]8;id=590714;file:///Users/saadia/Documents/DevIA_2024/coding_projects/ShiFuMi_computerVision/venv/lib/python3.9/site-packages/inference/core/interfaces/stream/sinks.py#176\u001b\\\u001b[2m176\u001b[0m\u001b]8;;\u001b\\\n",
       "\u001b[2;36m                    \u001b[0m         match the expected format of object detection prediction that could be    \u001b[2m            \u001b[0m\n",
       "\u001b[2;36m                    \u001b[0m         accepted by `\u001b[1;35msupervision.Detection.from_inference\u001b[0m\u001b[1m(\u001b[0m\u001b[33m...\u001b[0m\u001b[1m)\u001b[0m                    \u001b[2m            \u001b[0m\n"
      ]
     },
     "metadata": {},
     "output_type": "display_data"
    },
    {
     "name": "stdout",
     "output_type": "stream",
     "text": [
      "0: 384x640 1 person, 476.9ms\n",
      "Speed: 2.3ms preprocess, 476.9ms inference, 0.9ms postprocess per image at shape (1, 3, 384, 640)\n",
      "Predictions made: [{'boxes': [[388.5953674316406, 205.54615783691406, 1027.8175048828125, 711.540283203125]], 'scores': [0.9521703124046326], 'class_indices': [0.0]}]\n",
      "Video frames: 1\n",
      "\n"
     ]
    },
    {
     "data": {
      "text/html": [
       "<pre style=\"white-space:pre;overflow-x:auto;line-height:normal;font-family:Menlo,'DejaVu Sans Mono',consolas,'Courier New',monospace\"><span style=\"color: #7fbfbf; text-decoration-color: #7fbfbf\">[06/28/24 11:29:36] </span><span style=\"color: #800000; text-decoration-color: #800000\">WARNING </span> Used `<span style=\"color: #800080; text-decoration-color: #800080; font-weight: bold\">render_boxes</span><span style=\"font-weight: bold\">(</span><span style=\"color: #808000; text-decoration-color: #808000\">...</span><span style=\"font-weight: bold\">)</span>` sink, but predictions that were provided do not  <a href=\"file:///Users/saadia/Documents/DevIA_2024/coding_projects/ShiFuMi_computerVision/venv/lib/python3.9/site-packages/inference/core/interfaces/stream/sinks.py\" target=\"_blank\"><span style=\"color: #7f7f7f; text-decoration-color: #7f7f7f\">sinks.py</span></a><span style=\"color: #7f7f7f; text-decoration-color: #7f7f7f\">:</span><a href=\"file:///Users/saadia/Documents/DevIA_2024/coding_projects/ShiFuMi_computerVision/venv/lib/python3.9/site-packages/inference/core/interfaces/stream/sinks.py#176\" target=\"_blank\"><span style=\"color: #7f7f7f; text-decoration-color: #7f7f7f\">176</span></a>\n",
       "<span style=\"color: #7fbfbf; text-decoration-color: #7fbfbf\">                    </span>         match the expected format of object detection prediction that could be    <span style=\"color: #7f7f7f; text-decoration-color: #7f7f7f\">            </span>\n",
       "<span style=\"color: #7fbfbf; text-decoration-color: #7fbfbf\">                    </span>         accepted by `<span style=\"color: #800080; text-decoration-color: #800080; font-weight: bold\">supervision.Detection.from_inference</span><span style=\"font-weight: bold\">(</span><span style=\"color: #808000; text-decoration-color: #808000\">...</span><span style=\"font-weight: bold\">)</span>                    <span style=\"color: #7f7f7f; text-decoration-color: #7f7f7f\">            </span>\n",
       "</pre>\n"
      ],
      "text/plain": [
       "\u001b[2;36m[06/28/24 11:29:36]\u001b[0m\u001b[2;36m \u001b[0m\u001b[31mWARNING \u001b[0m Used `\u001b[1;35mrender_boxes\u001b[0m\u001b[1m(\u001b[0m\u001b[33m...\u001b[0m\u001b[1m)\u001b[0m` sink, but predictions that were provided do not  \u001b]8;id=35224;file:///Users/saadia/Documents/DevIA_2024/coding_projects/ShiFuMi_computerVision/venv/lib/python3.9/site-packages/inference/core/interfaces/stream/sinks.py\u001b\\\u001b[2msinks.py\u001b[0m\u001b]8;;\u001b\\\u001b[2m:\u001b[0m\u001b]8;id=289511;file:///Users/saadia/Documents/DevIA_2024/coding_projects/ShiFuMi_computerVision/venv/lib/python3.9/site-packages/inference/core/interfaces/stream/sinks.py#176\u001b\\\u001b[2m176\u001b[0m\u001b]8;;\u001b\\\n",
       "\u001b[2;36m                    \u001b[0m         match the expected format of object detection prediction that could be    \u001b[2m            \u001b[0m\n",
       "\u001b[2;36m                    \u001b[0m         accepted by `\u001b[1;35msupervision.Detection.from_inference\u001b[0m\u001b[1m(\u001b[0m\u001b[33m...\u001b[0m\u001b[1m)\u001b[0m                    \u001b[2m            \u001b[0m\n"
      ]
     },
     "metadata": {},
     "output_type": "display_data"
    },
    {
     "name": "stdout",
     "output_type": "stream",
     "text": [
      "0: 384x640 1 person, 1 toilet, 474.8ms\n",
      "Speed: 2.3ms preprocess, 474.8ms inference, 0.5ms postprocess per image at shape (1, 3, 384, 640)\n",
      "Predictions made: [{'boxes': [[289.6920166015625, 192.1253662109375, 1032.54638671875, 711.7808837890625], [101.53982543945312, 656.1036987304688, 270.6129150390625, 719.0531616210938]], 'scores': [0.9502249956130981, 0.2552475333213806], 'class_indices': [0.0, 61.0]}]\n",
      "Video frames: 1\n",
      "\n"
     ]
    },
    {
     "data": {
      "text/html": [
       "<pre style=\"white-space:pre;overflow-x:auto;line-height:normal;font-family:Menlo,'DejaVu Sans Mono',consolas,'Courier New',monospace\"><span style=\"color: #7fbfbf; text-decoration-color: #7fbfbf\">                    </span><span style=\"color: #800000; text-decoration-color: #800000\">WARNING </span> Used `<span style=\"color: #800080; text-decoration-color: #800080; font-weight: bold\">render_boxes</span><span style=\"font-weight: bold\">(</span><span style=\"color: #808000; text-decoration-color: #808000\">...</span><span style=\"font-weight: bold\">)</span>` sink, but predictions that were provided do not  <a href=\"file:///Users/saadia/Documents/DevIA_2024/coding_projects/ShiFuMi_computerVision/venv/lib/python3.9/site-packages/inference/core/interfaces/stream/sinks.py\" target=\"_blank\"><span style=\"color: #7f7f7f; text-decoration-color: #7f7f7f\">sinks.py</span></a><span style=\"color: #7f7f7f; text-decoration-color: #7f7f7f\">:</span><a href=\"file:///Users/saadia/Documents/DevIA_2024/coding_projects/ShiFuMi_computerVision/venv/lib/python3.9/site-packages/inference/core/interfaces/stream/sinks.py#176\" target=\"_blank\"><span style=\"color: #7f7f7f; text-decoration-color: #7f7f7f\">176</span></a>\n",
       "<span style=\"color: #7fbfbf; text-decoration-color: #7fbfbf\">                    </span>         match the expected format of object detection prediction that could be    <span style=\"color: #7f7f7f; text-decoration-color: #7f7f7f\">            </span>\n",
       "<span style=\"color: #7fbfbf; text-decoration-color: #7fbfbf\">                    </span>         accepted by `<span style=\"color: #800080; text-decoration-color: #800080; font-weight: bold\">supervision.Detection.from_inference</span><span style=\"font-weight: bold\">(</span><span style=\"color: #808000; text-decoration-color: #808000\">...</span><span style=\"font-weight: bold\">)</span>                    <span style=\"color: #7f7f7f; text-decoration-color: #7f7f7f\">            </span>\n",
       "</pre>\n"
      ],
      "text/plain": [
       "\u001b[2;36m                   \u001b[0m\u001b[2;36m \u001b[0m\u001b[31mWARNING \u001b[0m Used `\u001b[1;35mrender_boxes\u001b[0m\u001b[1m(\u001b[0m\u001b[33m...\u001b[0m\u001b[1m)\u001b[0m` sink, but predictions that were provided do not  \u001b]8;id=498439;file:///Users/saadia/Documents/DevIA_2024/coding_projects/ShiFuMi_computerVision/venv/lib/python3.9/site-packages/inference/core/interfaces/stream/sinks.py\u001b\\\u001b[2msinks.py\u001b[0m\u001b]8;;\u001b\\\u001b[2m:\u001b[0m\u001b]8;id=598627;file:///Users/saadia/Documents/DevIA_2024/coding_projects/ShiFuMi_computerVision/venv/lib/python3.9/site-packages/inference/core/interfaces/stream/sinks.py#176\u001b\\\u001b[2m176\u001b[0m\u001b]8;;\u001b\\\n",
       "\u001b[2;36m                    \u001b[0m         match the expected format of object detection prediction that could be    \u001b[2m            \u001b[0m\n",
       "\u001b[2;36m                    \u001b[0m         accepted by `\u001b[1;35msupervision.Detection.from_inference\u001b[0m\u001b[1m(\u001b[0m\u001b[33m...\u001b[0m\u001b[1m)\u001b[0m                    \u001b[2m            \u001b[0m\n"
      ]
     },
     "metadata": {},
     "output_type": "display_data"
    },
    {
     "name": "stdout",
     "output_type": "stream",
     "text": [
      "0: 384x640 1 person, 475.1ms\n",
      "Speed: 1.6ms preprocess, 475.1ms inference, 0.4ms postprocess per image at shape (1, 3, 384, 640)\n",
      "Predictions made: [{'boxes': [[125.0347900390625, 144.9036865234375, 1081.9588623046875, 711.05029296875]], 'scores': [0.9601716995239258], 'class_indices': [0.0]}]\n",
      "Video frames: 1\n",
      "\n"
     ]
    },
    {
     "data": {
      "text/html": [
       "<pre style=\"white-space:pre;overflow-x:auto;line-height:normal;font-family:Menlo,'DejaVu Sans Mono',consolas,'Courier New',monospace\"><span style=\"color: #7fbfbf; text-decoration-color: #7fbfbf\">[06/28/24 11:29:37] </span><span style=\"color: #800000; text-decoration-color: #800000\">WARNING </span> Used `<span style=\"color: #800080; text-decoration-color: #800080; font-weight: bold\">render_boxes</span><span style=\"font-weight: bold\">(</span><span style=\"color: #808000; text-decoration-color: #808000\">...</span><span style=\"font-weight: bold\">)</span>` sink, but predictions that were provided do not  <a href=\"file:///Users/saadia/Documents/DevIA_2024/coding_projects/ShiFuMi_computerVision/venv/lib/python3.9/site-packages/inference/core/interfaces/stream/sinks.py\" target=\"_blank\"><span style=\"color: #7f7f7f; text-decoration-color: #7f7f7f\">sinks.py</span></a><span style=\"color: #7f7f7f; text-decoration-color: #7f7f7f\">:</span><a href=\"file:///Users/saadia/Documents/DevIA_2024/coding_projects/ShiFuMi_computerVision/venv/lib/python3.9/site-packages/inference/core/interfaces/stream/sinks.py#176\" target=\"_blank\"><span style=\"color: #7f7f7f; text-decoration-color: #7f7f7f\">176</span></a>\n",
       "<span style=\"color: #7fbfbf; text-decoration-color: #7fbfbf\">                    </span>         match the expected format of object detection prediction that could be    <span style=\"color: #7f7f7f; text-decoration-color: #7f7f7f\">            </span>\n",
       "<span style=\"color: #7fbfbf; text-decoration-color: #7fbfbf\">                    </span>         accepted by `<span style=\"color: #800080; text-decoration-color: #800080; font-weight: bold\">supervision.Detection.from_inference</span><span style=\"font-weight: bold\">(</span><span style=\"color: #808000; text-decoration-color: #808000\">...</span><span style=\"font-weight: bold\">)</span>                    <span style=\"color: #7f7f7f; text-decoration-color: #7f7f7f\">            </span>\n",
       "</pre>\n"
      ],
      "text/plain": [
       "\u001b[2;36m[06/28/24 11:29:37]\u001b[0m\u001b[2;36m \u001b[0m\u001b[31mWARNING \u001b[0m Used `\u001b[1;35mrender_boxes\u001b[0m\u001b[1m(\u001b[0m\u001b[33m...\u001b[0m\u001b[1m)\u001b[0m` sink, but predictions that were provided do not  \u001b]8;id=880094;file:///Users/saadia/Documents/DevIA_2024/coding_projects/ShiFuMi_computerVision/venv/lib/python3.9/site-packages/inference/core/interfaces/stream/sinks.py\u001b\\\u001b[2msinks.py\u001b[0m\u001b]8;;\u001b\\\u001b[2m:\u001b[0m\u001b]8;id=35357;file:///Users/saadia/Documents/DevIA_2024/coding_projects/ShiFuMi_computerVision/venv/lib/python3.9/site-packages/inference/core/interfaces/stream/sinks.py#176\u001b\\\u001b[2m176\u001b[0m\u001b]8;;\u001b\\\n",
       "\u001b[2;36m                    \u001b[0m         match the expected format of object detection prediction that could be    \u001b[2m            \u001b[0m\n",
       "\u001b[2;36m                    \u001b[0m         accepted by `\u001b[1;35msupervision.Detection.from_inference\u001b[0m\u001b[1m(\u001b[0m\u001b[33m...\u001b[0m\u001b[1m)\u001b[0m                    \u001b[2m            \u001b[0m\n"
      ]
     },
     "metadata": {},
     "output_type": "display_data"
    },
    {
     "name": "stdout",
     "output_type": "stream",
     "text": [
      "0: 384x640 1 person, 485.5ms\n",
      "Speed: 1.9ms preprocess, 485.5ms inference, 0.6ms postprocess per image at shape (1, 3, 384, 640)\n",
      "Predictions made: [{'boxes': [[125.80801391601562, 148.6881103515625, 1108.3724365234375, 711.374755859375]], 'scores': [0.9501961469650269], 'class_indices': [0.0]}]\n",
      "Video frames: 1\n",
      "\n"
     ]
    },
    {
     "data": {
      "text/html": [
       "<pre style=\"white-space:pre;overflow-x:auto;line-height:normal;font-family:Menlo,'DejaVu Sans Mono',consolas,'Courier New',monospace\"><span style=\"color: #7fbfbf; text-decoration-color: #7fbfbf\">                    </span><span style=\"color: #800000; text-decoration-color: #800000\">WARNING </span> Used `<span style=\"color: #800080; text-decoration-color: #800080; font-weight: bold\">render_boxes</span><span style=\"font-weight: bold\">(</span><span style=\"color: #808000; text-decoration-color: #808000\">...</span><span style=\"font-weight: bold\">)</span>` sink, but predictions that were provided do not  <a href=\"file:///Users/saadia/Documents/DevIA_2024/coding_projects/ShiFuMi_computerVision/venv/lib/python3.9/site-packages/inference/core/interfaces/stream/sinks.py\" target=\"_blank\"><span style=\"color: #7f7f7f; text-decoration-color: #7f7f7f\">sinks.py</span></a><span style=\"color: #7f7f7f; text-decoration-color: #7f7f7f\">:</span><a href=\"file:///Users/saadia/Documents/DevIA_2024/coding_projects/ShiFuMi_computerVision/venv/lib/python3.9/site-packages/inference/core/interfaces/stream/sinks.py#176\" target=\"_blank\"><span style=\"color: #7f7f7f; text-decoration-color: #7f7f7f\">176</span></a>\n",
       "<span style=\"color: #7fbfbf; text-decoration-color: #7fbfbf\">                    </span>         match the expected format of object detection prediction that could be    <span style=\"color: #7f7f7f; text-decoration-color: #7f7f7f\">            </span>\n",
       "<span style=\"color: #7fbfbf; text-decoration-color: #7fbfbf\">                    </span>         accepted by `<span style=\"color: #800080; text-decoration-color: #800080; font-weight: bold\">supervision.Detection.from_inference</span><span style=\"font-weight: bold\">(</span><span style=\"color: #808000; text-decoration-color: #808000\">...</span><span style=\"font-weight: bold\">)</span>                    <span style=\"color: #7f7f7f; text-decoration-color: #7f7f7f\">            </span>\n",
       "</pre>\n"
      ],
      "text/plain": [
       "\u001b[2;36m                   \u001b[0m\u001b[2;36m \u001b[0m\u001b[31mWARNING \u001b[0m Used `\u001b[1;35mrender_boxes\u001b[0m\u001b[1m(\u001b[0m\u001b[33m...\u001b[0m\u001b[1m)\u001b[0m` sink, but predictions that were provided do not  \u001b]8;id=952782;file:///Users/saadia/Documents/DevIA_2024/coding_projects/ShiFuMi_computerVision/venv/lib/python3.9/site-packages/inference/core/interfaces/stream/sinks.py\u001b\\\u001b[2msinks.py\u001b[0m\u001b]8;;\u001b\\\u001b[2m:\u001b[0m\u001b]8;id=68719;file:///Users/saadia/Documents/DevIA_2024/coding_projects/ShiFuMi_computerVision/venv/lib/python3.9/site-packages/inference/core/interfaces/stream/sinks.py#176\u001b\\\u001b[2m176\u001b[0m\u001b]8;;\u001b\\\n",
       "\u001b[2;36m                    \u001b[0m         match the expected format of object detection prediction that could be    \u001b[2m            \u001b[0m\n",
       "\u001b[2;36m                    \u001b[0m         accepted by `\u001b[1;35msupervision.Detection.from_inference\u001b[0m\u001b[1m(\u001b[0m\u001b[33m...\u001b[0m\u001b[1m)\u001b[0m                    \u001b[2m            \u001b[0m\n"
      ]
     },
     "metadata": {},
     "output_type": "display_data"
    },
    {
     "name": "stdout",
     "output_type": "stream",
     "text": [
      "0: 384x640 1 person, 477.0ms\n",
      "Speed: 1.5ms preprocess, 477.0ms inference, 0.5ms postprocess per image at shape (1, 3, 384, 640)\n",
      "Predictions made: [{'boxes': [[244.0419921875, 164.3515625, 1034.343017578125, 711.3367919921875]], 'scores': [0.9512777924537659], 'class_indices': [0.0]}]\n",
      "Video frames: 1\n",
      "\n"
     ]
    },
    {
     "data": {
      "text/html": [
       "<pre style=\"white-space:pre;overflow-x:auto;line-height:normal;font-family:Menlo,'DejaVu Sans Mono',consolas,'Courier New',monospace\"><span style=\"color: #7fbfbf; text-decoration-color: #7fbfbf\">[06/28/24 11:29:38] </span><span style=\"color: #800000; text-decoration-color: #800000\">WARNING </span> Used `<span style=\"color: #800080; text-decoration-color: #800080; font-weight: bold\">render_boxes</span><span style=\"font-weight: bold\">(</span><span style=\"color: #808000; text-decoration-color: #808000\">...</span><span style=\"font-weight: bold\">)</span>` sink, but predictions that were provided do not  <a href=\"file:///Users/saadia/Documents/DevIA_2024/coding_projects/ShiFuMi_computerVision/venv/lib/python3.9/site-packages/inference/core/interfaces/stream/sinks.py\" target=\"_blank\"><span style=\"color: #7f7f7f; text-decoration-color: #7f7f7f\">sinks.py</span></a><span style=\"color: #7f7f7f; text-decoration-color: #7f7f7f\">:</span><a href=\"file:///Users/saadia/Documents/DevIA_2024/coding_projects/ShiFuMi_computerVision/venv/lib/python3.9/site-packages/inference/core/interfaces/stream/sinks.py#176\" target=\"_blank\"><span style=\"color: #7f7f7f; text-decoration-color: #7f7f7f\">176</span></a>\n",
       "<span style=\"color: #7fbfbf; text-decoration-color: #7fbfbf\">                    </span>         match the expected format of object detection prediction that could be    <span style=\"color: #7f7f7f; text-decoration-color: #7f7f7f\">            </span>\n",
       "<span style=\"color: #7fbfbf; text-decoration-color: #7fbfbf\">                    </span>         accepted by `<span style=\"color: #800080; text-decoration-color: #800080; font-weight: bold\">supervision.Detection.from_inference</span><span style=\"font-weight: bold\">(</span><span style=\"color: #808000; text-decoration-color: #808000\">...</span><span style=\"font-weight: bold\">)</span>                    <span style=\"color: #7f7f7f; text-decoration-color: #7f7f7f\">            </span>\n",
       "</pre>\n"
      ],
      "text/plain": [
       "\u001b[2;36m[06/28/24 11:29:38]\u001b[0m\u001b[2;36m \u001b[0m\u001b[31mWARNING \u001b[0m Used `\u001b[1;35mrender_boxes\u001b[0m\u001b[1m(\u001b[0m\u001b[33m...\u001b[0m\u001b[1m)\u001b[0m` sink, but predictions that were provided do not  \u001b]8;id=675825;file:///Users/saadia/Documents/DevIA_2024/coding_projects/ShiFuMi_computerVision/venv/lib/python3.9/site-packages/inference/core/interfaces/stream/sinks.py\u001b\\\u001b[2msinks.py\u001b[0m\u001b]8;;\u001b\\\u001b[2m:\u001b[0m\u001b]8;id=828390;file:///Users/saadia/Documents/DevIA_2024/coding_projects/ShiFuMi_computerVision/venv/lib/python3.9/site-packages/inference/core/interfaces/stream/sinks.py#176\u001b\\\u001b[2m176\u001b[0m\u001b]8;;\u001b\\\n",
       "\u001b[2;36m                    \u001b[0m         match the expected format of object detection prediction that could be    \u001b[2m            \u001b[0m\n",
       "\u001b[2;36m                    \u001b[0m         accepted by `\u001b[1;35msupervision.Detection.from_inference\u001b[0m\u001b[1m(\u001b[0m\u001b[33m...\u001b[0m\u001b[1m)\u001b[0m                    \u001b[2m            \u001b[0m\n"
      ]
     },
     "metadata": {},
     "output_type": "display_data"
    },
    {
     "name": "stdout",
     "output_type": "stream",
     "text": [
      "0: 384x640 1 person, 475.1ms\n",
      "Speed: 1.9ms preprocess, 475.1ms inference, 0.3ms postprocess per image at shape (1, 3, 384, 640)\n",
      "Predictions made: [{'boxes': [[128.662353515625, 155.6783447265625, 1230.9130859375, 710.5494384765625]], 'scores': [0.9503864645957947], 'class_indices': [0.0]}]\n",
      "Video frames: 1\n",
      "\n"
     ]
    },
    {
     "data": {
      "text/html": [
       "<pre style=\"white-space:pre;overflow-x:auto;line-height:normal;font-family:Menlo,'DejaVu Sans Mono',consolas,'Courier New',monospace\"><span style=\"color: #7fbfbf; text-decoration-color: #7fbfbf\">                    </span><span style=\"color: #800000; text-decoration-color: #800000\">WARNING </span> Used `<span style=\"color: #800080; text-decoration-color: #800080; font-weight: bold\">render_boxes</span><span style=\"font-weight: bold\">(</span><span style=\"color: #808000; text-decoration-color: #808000\">...</span><span style=\"font-weight: bold\">)</span>` sink, but predictions that were provided do not  <a href=\"file:///Users/saadia/Documents/DevIA_2024/coding_projects/ShiFuMi_computerVision/venv/lib/python3.9/site-packages/inference/core/interfaces/stream/sinks.py\" target=\"_blank\"><span style=\"color: #7f7f7f; text-decoration-color: #7f7f7f\">sinks.py</span></a><span style=\"color: #7f7f7f; text-decoration-color: #7f7f7f\">:</span><a href=\"file:///Users/saadia/Documents/DevIA_2024/coding_projects/ShiFuMi_computerVision/venv/lib/python3.9/site-packages/inference/core/interfaces/stream/sinks.py#176\" target=\"_blank\"><span style=\"color: #7f7f7f; text-decoration-color: #7f7f7f\">176</span></a>\n",
       "<span style=\"color: #7fbfbf; text-decoration-color: #7fbfbf\">                    </span>         match the expected format of object detection prediction that could be    <span style=\"color: #7f7f7f; text-decoration-color: #7f7f7f\">            </span>\n",
       "<span style=\"color: #7fbfbf; text-decoration-color: #7fbfbf\">                    </span>         accepted by `<span style=\"color: #800080; text-decoration-color: #800080; font-weight: bold\">supervision.Detection.from_inference</span><span style=\"font-weight: bold\">(</span><span style=\"color: #808000; text-decoration-color: #808000\">...</span><span style=\"font-weight: bold\">)</span>                    <span style=\"color: #7f7f7f; text-decoration-color: #7f7f7f\">            </span>\n",
       "</pre>\n"
      ],
      "text/plain": [
       "\u001b[2;36m                   \u001b[0m\u001b[2;36m \u001b[0m\u001b[31mWARNING \u001b[0m Used `\u001b[1;35mrender_boxes\u001b[0m\u001b[1m(\u001b[0m\u001b[33m...\u001b[0m\u001b[1m)\u001b[0m` sink, but predictions that were provided do not  \u001b]8;id=786851;file:///Users/saadia/Documents/DevIA_2024/coding_projects/ShiFuMi_computerVision/venv/lib/python3.9/site-packages/inference/core/interfaces/stream/sinks.py\u001b\\\u001b[2msinks.py\u001b[0m\u001b]8;;\u001b\\\u001b[2m:\u001b[0m\u001b]8;id=225398;file:///Users/saadia/Documents/DevIA_2024/coding_projects/ShiFuMi_computerVision/venv/lib/python3.9/site-packages/inference/core/interfaces/stream/sinks.py#176\u001b\\\u001b[2m176\u001b[0m\u001b]8;;\u001b\\\n",
       "\u001b[2;36m                    \u001b[0m         match the expected format of object detection prediction that could be    \u001b[2m            \u001b[0m\n",
       "\u001b[2;36m                    \u001b[0m         accepted by `\u001b[1;35msupervision.Detection.from_inference\u001b[0m\u001b[1m(\u001b[0m\u001b[33m...\u001b[0m\u001b[1m)\u001b[0m                    \u001b[2m            \u001b[0m\n"
      ]
     },
     "metadata": {},
     "output_type": "display_data"
    },
    {
     "name": "stdout",
     "output_type": "stream",
     "text": [
      "0: 384x640 1 person, 485.3ms\n",
      "Speed: 1.5ms preprocess, 485.3ms inference, 0.4ms postprocess per image at shape (1, 3, 384, 640)\n",
      "Predictions made: [{'boxes': [[115.001708984375, 158.3494873046875, 1265.650390625, 711.5159912109375]], 'scores': [0.9585179686546326], 'class_indices': [0.0]}]\n",
      "Video frames: 1\n",
      "\n"
     ]
    },
    {
     "data": {
      "text/html": [
       "<pre style=\"white-space:pre;overflow-x:auto;line-height:normal;font-family:Menlo,'DejaVu Sans Mono',consolas,'Courier New',monospace\"><span style=\"color: #7fbfbf; text-decoration-color: #7fbfbf\">[06/28/24 11:29:39] </span><span style=\"color: #800000; text-decoration-color: #800000\">WARNING </span> Used `<span style=\"color: #800080; text-decoration-color: #800080; font-weight: bold\">render_boxes</span><span style=\"font-weight: bold\">(</span><span style=\"color: #808000; text-decoration-color: #808000\">...</span><span style=\"font-weight: bold\">)</span>` sink, but predictions that were provided do not  <a href=\"file:///Users/saadia/Documents/DevIA_2024/coding_projects/ShiFuMi_computerVision/venv/lib/python3.9/site-packages/inference/core/interfaces/stream/sinks.py\" target=\"_blank\"><span style=\"color: #7f7f7f; text-decoration-color: #7f7f7f\">sinks.py</span></a><span style=\"color: #7f7f7f; text-decoration-color: #7f7f7f\">:</span><a href=\"file:///Users/saadia/Documents/DevIA_2024/coding_projects/ShiFuMi_computerVision/venv/lib/python3.9/site-packages/inference/core/interfaces/stream/sinks.py#176\" target=\"_blank\"><span style=\"color: #7f7f7f; text-decoration-color: #7f7f7f\">176</span></a>\n",
       "<span style=\"color: #7fbfbf; text-decoration-color: #7fbfbf\">                    </span>         match the expected format of object detection prediction that could be    <span style=\"color: #7f7f7f; text-decoration-color: #7f7f7f\">            </span>\n",
       "<span style=\"color: #7fbfbf; text-decoration-color: #7fbfbf\">                    </span>         accepted by `<span style=\"color: #800080; text-decoration-color: #800080; font-weight: bold\">supervision.Detection.from_inference</span><span style=\"font-weight: bold\">(</span><span style=\"color: #808000; text-decoration-color: #808000\">...</span><span style=\"font-weight: bold\">)</span>                    <span style=\"color: #7f7f7f; text-decoration-color: #7f7f7f\">            </span>\n",
       "</pre>\n"
      ],
      "text/plain": [
       "\u001b[2;36m[06/28/24 11:29:39]\u001b[0m\u001b[2;36m \u001b[0m\u001b[31mWARNING \u001b[0m Used `\u001b[1;35mrender_boxes\u001b[0m\u001b[1m(\u001b[0m\u001b[33m...\u001b[0m\u001b[1m)\u001b[0m` sink, but predictions that were provided do not  \u001b]8;id=344015;file:///Users/saadia/Documents/DevIA_2024/coding_projects/ShiFuMi_computerVision/venv/lib/python3.9/site-packages/inference/core/interfaces/stream/sinks.py\u001b\\\u001b[2msinks.py\u001b[0m\u001b]8;;\u001b\\\u001b[2m:\u001b[0m\u001b]8;id=257886;file:///Users/saadia/Documents/DevIA_2024/coding_projects/ShiFuMi_computerVision/venv/lib/python3.9/site-packages/inference/core/interfaces/stream/sinks.py#176\u001b\\\u001b[2m176\u001b[0m\u001b]8;;\u001b\\\n",
       "\u001b[2;36m                    \u001b[0m         match the expected format of object detection prediction that could be    \u001b[2m            \u001b[0m\n",
       "\u001b[2;36m                    \u001b[0m         accepted by `\u001b[1;35msupervision.Detection.from_inference\u001b[0m\u001b[1m(\u001b[0m\u001b[33m...\u001b[0m\u001b[1m)\u001b[0m                    \u001b[2m            \u001b[0m\n"
      ]
     },
     "metadata": {},
     "output_type": "display_data"
    },
    {
     "name": "stdout",
     "output_type": "stream",
     "text": [
      "0: 384x640 1 person, 474.4ms\n",
      "Speed: 2.2ms preprocess, 474.4ms inference, 0.5ms postprocess per image at shape (1, 3, 384, 640)\n",
      "Predictions made: [{'boxes': [[142.731201171875, 166.46722412109375, 1279.1246337890625, 710.9976196289062]], 'scores': [0.9604747891426086], 'class_indices': [0.0]}]\n",
      "Video frames: 1\n",
      "\n"
     ]
    },
    {
     "data": {
      "text/html": [
       "<pre style=\"white-space:pre;overflow-x:auto;line-height:normal;font-family:Menlo,'DejaVu Sans Mono',consolas,'Courier New',monospace\"><span style=\"color: #7fbfbf; text-decoration-color: #7fbfbf\">                    </span><span style=\"color: #800000; text-decoration-color: #800000\">WARNING </span> Used `<span style=\"color: #800080; text-decoration-color: #800080; font-weight: bold\">render_boxes</span><span style=\"font-weight: bold\">(</span><span style=\"color: #808000; text-decoration-color: #808000\">...</span><span style=\"font-weight: bold\">)</span>` sink, but predictions that were provided do not  <a href=\"file:///Users/saadia/Documents/DevIA_2024/coding_projects/ShiFuMi_computerVision/venv/lib/python3.9/site-packages/inference/core/interfaces/stream/sinks.py\" target=\"_blank\"><span style=\"color: #7f7f7f; text-decoration-color: #7f7f7f\">sinks.py</span></a><span style=\"color: #7f7f7f; text-decoration-color: #7f7f7f\">:</span><a href=\"file:///Users/saadia/Documents/DevIA_2024/coding_projects/ShiFuMi_computerVision/venv/lib/python3.9/site-packages/inference/core/interfaces/stream/sinks.py#176\" target=\"_blank\"><span style=\"color: #7f7f7f; text-decoration-color: #7f7f7f\">176</span></a>\n",
       "<span style=\"color: #7fbfbf; text-decoration-color: #7fbfbf\">                    </span>         match the expected format of object detection prediction that could be    <span style=\"color: #7f7f7f; text-decoration-color: #7f7f7f\">            </span>\n",
       "<span style=\"color: #7fbfbf; text-decoration-color: #7fbfbf\">                    </span>         accepted by `<span style=\"color: #800080; text-decoration-color: #800080; font-weight: bold\">supervision.Detection.from_inference</span><span style=\"font-weight: bold\">(</span><span style=\"color: #808000; text-decoration-color: #808000\">...</span><span style=\"font-weight: bold\">)</span>                    <span style=\"color: #7f7f7f; text-decoration-color: #7f7f7f\">            </span>\n",
       "</pre>\n"
      ],
      "text/plain": [
       "\u001b[2;36m                   \u001b[0m\u001b[2;36m \u001b[0m\u001b[31mWARNING \u001b[0m Used `\u001b[1;35mrender_boxes\u001b[0m\u001b[1m(\u001b[0m\u001b[33m...\u001b[0m\u001b[1m)\u001b[0m` sink, but predictions that were provided do not  \u001b]8;id=588825;file:///Users/saadia/Documents/DevIA_2024/coding_projects/ShiFuMi_computerVision/venv/lib/python3.9/site-packages/inference/core/interfaces/stream/sinks.py\u001b\\\u001b[2msinks.py\u001b[0m\u001b]8;;\u001b\\\u001b[2m:\u001b[0m\u001b]8;id=795879;file:///Users/saadia/Documents/DevIA_2024/coding_projects/ShiFuMi_computerVision/venv/lib/python3.9/site-packages/inference/core/interfaces/stream/sinks.py#176\u001b\\\u001b[2m176\u001b[0m\u001b]8;;\u001b\\\n",
       "\u001b[2;36m                    \u001b[0m         match the expected format of object detection prediction that could be    \u001b[2m            \u001b[0m\n",
       "\u001b[2;36m                    \u001b[0m         accepted by `\u001b[1;35msupervision.Detection.from_inference\u001b[0m\u001b[1m(\u001b[0m\u001b[33m...\u001b[0m\u001b[1m)\u001b[0m                    \u001b[2m            \u001b[0m\n"
      ]
     },
     "metadata": {},
     "output_type": "display_data"
    },
    {
     "name": "stdout",
     "output_type": "stream",
     "text": [
      "0: 384x640 1 person, 472.0ms\n",
      "Speed: 1.5ms preprocess, 472.0ms inference, 0.9ms postprocess per image at shape (1, 3, 384, 640)\n",
      "Predictions made: [{'boxes': [[149.76513671875, 165.52215576171875, 1278.67431640625, 710.8532104492188]], 'scores': [0.9618844985961914], 'class_indices': [0.0]}]\n",
      "Video frames: 1\n",
      "\n"
     ]
    },
    {
     "data": {
      "text/html": [
       "<pre style=\"white-space:pre;overflow-x:auto;line-height:normal;font-family:Menlo,'DejaVu Sans Mono',consolas,'Courier New',monospace\"><span style=\"color: #7fbfbf; text-decoration-color: #7fbfbf\">                    </span><span style=\"color: #800000; text-decoration-color: #800000\">WARNING </span> Used `<span style=\"color: #800080; text-decoration-color: #800080; font-weight: bold\">render_boxes</span><span style=\"font-weight: bold\">(</span><span style=\"color: #808000; text-decoration-color: #808000\">...</span><span style=\"font-weight: bold\">)</span>` sink, but predictions that were provided do not  <a href=\"file:///Users/saadia/Documents/DevIA_2024/coding_projects/ShiFuMi_computerVision/venv/lib/python3.9/site-packages/inference/core/interfaces/stream/sinks.py\" target=\"_blank\"><span style=\"color: #7f7f7f; text-decoration-color: #7f7f7f\">sinks.py</span></a><span style=\"color: #7f7f7f; text-decoration-color: #7f7f7f\">:</span><a href=\"file:///Users/saadia/Documents/DevIA_2024/coding_projects/ShiFuMi_computerVision/venv/lib/python3.9/site-packages/inference/core/interfaces/stream/sinks.py#176\" target=\"_blank\"><span style=\"color: #7f7f7f; text-decoration-color: #7f7f7f\">176</span></a>\n",
       "<span style=\"color: #7fbfbf; text-decoration-color: #7fbfbf\">                    </span>         match the expected format of object detection prediction that could be    <span style=\"color: #7f7f7f; text-decoration-color: #7f7f7f\">            </span>\n",
       "<span style=\"color: #7fbfbf; text-decoration-color: #7fbfbf\">                    </span>         accepted by `<span style=\"color: #800080; text-decoration-color: #800080; font-weight: bold\">supervision.Detection.from_inference</span><span style=\"font-weight: bold\">(</span><span style=\"color: #808000; text-decoration-color: #808000\">...</span><span style=\"font-weight: bold\">)</span>                    <span style=\"color: #7f7f7f; text-decoration-color: #7f7f7f\">            </span>\n",
       "</pre>\n"
      ],
      "text/plain": [
       "\u001b[2;36m                   \u001b[0m\u001b[2;36m \u001b[0m\u001b[31mWARNING \u001b[0m Used `\u001b[1;35mrender_boxes\u001b[0m\u001b[1m(\u001b[0m\u001b[33m...\u001b[0m\u001b[1m)\u001b[0m` sink, but predictions that were provided do not  \u001b]8;id=732785;file:///Users/saadia/Documents/DevIA_2024/coding_projects/ShiFuMi_computerVision/venv/lib/python3.9/site-packages/inference/core/interfaces/stream/sinks.py\u001b\\\u001b[2msinks.py\u001b[0m\u001b]8;;\u001b\\\u001b[2m:\u001b[0m\u001b]8;id=190906;file:///Users/saadia/Documents/DevIA_2024/coding_projects/ShiFuMi_computerVision/venv/lib/python3.9/site-packages/inference/core/interfaces/stream/sinks.py#176\u001b\\\u001b[2m176\u001b[0m\u001b]8;;\u001b\\\n",
       "\u001b[2;36m                    \u001b[0m         match the expected format of object detection prediction that could be    \u001b[2m            \u001b[0m\n",
       "\u001b[2;36m                    \u001b[0m         accepted by `\u001b[1;35msupervision.Detection.from_inference\u001b[0m\u001b[1m(\u001b[0m\u001b[33m...\u001b[0m\u001b[1m)\u001b[0m                    \u001b[2m            \u001b[0m\n"
      ]
     },
     "metadata": {},
     "output_type": "display_data"
    },
    {
     "name": "stdout",
     "output_type": "stream",
     "text": [
      "0: 384x640 1 person, 475.2ms\n",
      "Speed: 2.0ms preprocess, 475.2ms inference, 0.6ms postprocess per image at shape (1, 3, 384, 640)\n",
      "Predictions made: [{'boxes': [[134.847412109375, 163.92144775390625, 1279.723388671875, 711.0905151367188]], 'scores': [0.949631929397583], 'class_indices': [0.0]}]\n",
      "Video frames: 1\n",
      "\n"
     ]
    },
    {
     "data": {
      "text/html": [
       "<pre style=\"white-space:pre;overflow-x:auto;line-height:normal;font-family:Menlo,'DejaVu Sans Mono',consolas,'Courier New',monospace\"><span style=\"color: #7fbfbf; text-decoration-color: #7fbfbf\">[06/28/24 11:29:40] </span><span style=\"color: #800000; text-decoration-color: #800000\">WARNING </span> Used `<span style=\"color: #800080; text-decoration-color: #800080; font-weight: bold\">render_boxes</span><span style=\"font-weight: bold\">(</span><span style=\"color: #808000; text-decoration-color: #808000\">...</span><span style=\"font-weight: bold\">)</span>` sink, but predictions that were provided do not  <a href=\"file:///Users/saadia/Documents/DevIA_2024/coding_projects/ShiFuMi_computerVision/venv/lib/python3.9/site-packages/inference/core/interfaces/stream/sinks.py\" target=\"_blank\"><span style=\"color: #7f7f7f; text-decoration-color: #7f7f7f\">sinks.py</span></a><span style=\"color: #7f7f7f; text-decoration-color: #7f7f7f\">:</span><a href=\"file:///Users/saadia/Documents/DevIA_2024/coding_projects/ShiFuMi_computerVision/venv/lib/python3.9/site-packages/inference/core/interfaces/stream/sinks.py#176\" target=\"_blank\"><span style=\"color: #7f7f7f; text-decoration-color: #7f7f7f\">176</span></a>\n",
       "<span style=\"color: #7fbfbf; text-decoration-color: #7fbfbf\">                    </span>         match the expected format of object detection prediction that could be    <span style=\"color: #7f7f7f; text-decoration-color: #7f7f7f\">            </span>\n",
       "<span style=\"color: #7fbfbf; text-decoration-color: #7fbfbf\">                    </span>         accepted by `<span style=\"color: #800080; text-decoration-color: #800080; font-weight: bold\">supervision.Detection.from_inference</span><span style=\"font-weight: bold\">(</span><span style=\"color: #808000; text-decoration-color: #808000\">...</span><span style=\"font-weight: bold\">)</span>                    <span style=\"color: #7f7f7f; text-decoration-color: #7f7f7f\">            </span>\n",
       "</pre>\n"
      ],
      "text/plain": [
       "\u001b[2;36m[06/28/24 11:29:40]\u001b[0m\u001b[2;36m \u001b[0m\u001b[31mWARNING \u001b[0m Used `\u001b[1;35mrender_boxes\u001b[0m\u001b[1m(\u001b[0m\u001b[33m...\u001b[0m\u001b[1m)\u001b[0m` sink, but predictions that were provided do not  \u001b]8;id=795494;file:///Users/saadia/Documents/DevIA_2024/coding_projects/ShiFuMi_computerVision/venv/lib/python3.9/site-packages/inference/core/interfaces/stream/sinks.py\u001b\\\u001b[2msinks.py\u001b[0m\u001b]8;;\u001b\\\u001b[2m:\u001b[0m\u001b]8;id=594179;file:///Users/saadia/Documents/DevIA_2024/coding_projects/ShiFuMi_computerVision/venv/lib/python3.9/site-packages/inference/core/interfaces/stream/sinks.py#176\u001b\\\u001b[2m176\u001b[0m\u001b]8;;\u001b\\\n",
       "\u001b[2;36m                    \u001b[0m         match the expected format of object detection prediction that could be    \u001b[2m            \u001b[0m\n",
       "\u001b[2;36m                    \u001b[0m         accepted by `\u001b[1;35msupervision.Detection.from_inference\u001b[0m\u001b[1m(\u001b[0m\u001b[33m...\u001b[0m\u001b[1m)\u001b[0m                    \u001b[2m            \u001b[0m\n"
      ]
     },
     "metadata": {},
     "output_type": "display_data"
    },
    {
     "name": "stdout",
     "output_type": "stream",
     "text": [
      "0: 384x640 1 person, 498.5ms\n",
      "Speed: 1.3ms preprocess, 498.5ms inference, 0.4ms postprocess per image at shape (1, 3, 384, 640)\n",
      "Predictions made: [{'boxes': [[337.134521484375, 163.65728759765625, 1261.823974609375, 711.7301025390625]], 'scores': [0.9549861550331116], 'class_indices': [0.0]}]\n",
      "Video frames: 1\n",
      "\n"
     ]
    },
    {
     "data": {
      "text/html": [
       "<pre style=\"white-space:pre;overflow-x:auto;line-height:normal;font-family:Menlo,'DejaVu Sans Mono',consolas,'Courier New',monospace\"><span style=\"color: #7fbfbf; text-decoration-color: #7fbfbf\">                    </span><span style=\"color: #800000; text-decoration-color: #800000\">WARNING </span> Used `<span style=\"color: #800080; text-decoration-color: #800080; font-weight: bold\">render_boxes</span><span style=\"font-weight: bold\">(</span><span style=\"color: #808000; text-decoration-color: #808000\">...</span><span style=\"font-weight: bold\">)</span>` sink, but predictions that were provided do not  <a href=\"file:///Users/saadia/Documents/DevIA_2024/coding_projects/ShiFuMi_computerVision/venv/lib/python3.9/site-packages/inference/core/interfaces/stream/sinks.py\" target=\"_blank\"><span style=\"color: #7f7f7f; text-decoration-color: #7f7f7f\">sinks.py</span></a><span style=\"color: #7f7f7f; text-decoration-color: #7f7f7f\">:</span><a href=\"file:///Users/saadia/Documents/DevIA_2024/coding_projects/ShiFuMi_computerVision/venv/lib/python3.9/site-packages/inference/core/interfaces/stream/sinks.py#176\" target=\"_blank\"><span style=\"color: #7f7f7f; text-decoration-color: #7f7f7f\">176</span></a>\n",
       "<span style=\"color: #7fbfbf; text-decoration-color: #7fbfbf\">                    </span>         match the expected format of object detection prediction that could be    <span style=\"color: #7f7f7f; text-decoration-color: #7f7f7f\">            </span>\n",
       "<span style=\"color: #7fbfbf; text-decoration-color: #7fbfbf\">                    </span>         accepted by `<span style=\"color: #800080; text-decoration-color: #800080; font-weight: bold\">supervision.Detection.from_inference</span><span style=\"font-weight: bold\">(</span><span style=\"color: #808000; text-decoration-color: #808000\">...</span><span style=\"font-weight: bold\">)</span>                    <span style=\"color: #7f7f7f; text-decoration-color: #7f7f7f\">            </span>\n",
       "</pre>\n"
      ],
      "text/plain": [
       "\u001b[2;36m                   \u001b[0m\u001b[2;36m \u001b[0m\u001b[31mWARNING \u001b[0m Used `\u001b[1;35mrender_boxes\u001b[0m\u001b[1m(\u001b[0m\u001b[33m...\u001b[0m\u001b[1m)\u001b[0m` sink, but predictions that were provided do not  \u001b]8;id=54971;file:///Users/saadia/Documents/DevIA_2024/coding_projects/ShiFuMi_computerVision/venv/lib/python3.9/site-packages/inference/core/interfaces/stream/sinks.py\u001b\\\u001b[2msinks.py\u001b[0m\u001b]8;;\u001b\\\u001b[2m:\u001b[0m\u001b]8;id=141034;file:///Users/saadia/Documents/DevIA_2024/coding_projects/ShiFuMi_computerVision/venv/lib/python3.9/site-packages/inference/core/interfaces/stream/sinks.py#176\u001b\\\u001b[2m176\u001b[0m\u001b]8;;\u001b\\\n",
       "\u001b[2;36m                    \u001b[0m         match the expected format of object detection prediction that could be    \u001b[2m            \u001b[0m\n",
       "\u001b[2;36m                    \u001b[0m         accepted by `\u001b[1;35msupervision.Detection.from_inference\u001b[0m\u001b[1m(\u001b[0m\u001b[33m...\u001b[0m\u001b[1m)\u001b[0m                    \u001b[2m            \u001b[0m\n"
      ]
     },
     "metadata": {},
     "output_type": "display_data"
    },
    {
     "name": "stdout",
     "output_type": "stream",
     "text": [
      "0: 384x640 1 person, 1 baseball bat, 1 toilet, 474.6ms\n",
      "Speed: 1.9ms preprocess, 474.6ms inference, 0.4ms postprocess per image at shape (1, 3, 384, 640)\n",
      "Predictions made: [{'boxes': [[330.0057373046875, 161.49224853515625, 1260.488525390625, 711.2322387695312], [916.5543823242188, 2.37896728515625, 969.6167602539062, 543.9479370117188], [101.23306274414062, 656.5675048828125, 270.4012451171875, 719.2781982421875]], 'scores': [0.9635104537010193, 0.38599008321762085, 0.28031617403030396], 'class_indices': [0.0, 34.0, 61.0]}]\n",
      "Video frames: 1\n",
      "\n"
     ]
    },
    {
     "data": {
      "text/html": [
       "<pre style=\"white-space:pre;overflow-x:auto;line-height:normal;font-family:Menlo,'DejaVu Sans Mono',consolas,'Courier New',monospace\"><span style=\"color: #7fbfbf; text-decoration-color: #7fbfbf\">[06/28/24 11:29:41] </span><span style=\"color: #800000; text-decoration-color: #800000\">WARNING </span> Used `<span style=\"color: #800080; text-decoration-color: #800080; font-weight: bold\">render_boxes</span><span style=\"font-weight: bold\">(</span><span style=\"color: #808000; text-decoration-color: #808000\">...</span><span style=\"font-weight: bold\">)</span>` sink, but predictions that were provided do not  <a href=\"file:///Users/saadia/Documents/DevIA_2024/coding_projects/ShiFuMi_computerVision/venv/lib/python3.9/site-packages/inference/core/interfaces/stream/sinks.py\" target=\"_blank\"><span style=\"color: #7f7f7f; text-decoration-color: #7f7f7f\">sinks.py</span></a><span style=\"color: #7f7f7f; text-decoration-color: #7f7f7f\">:</span><a href=\"file:///Users/saadia/Documents/DevIA_2024/coding_projects/ShiFuMi_computerVision/venv/lib/python3.9/site-packages/inference/core/interfaces/stream/sinks.py#176\" target=\"_blank\"><span style=\"color: #7f7f7f; text-decoration-color: #7f7f7f\">176</span></a>\n",
       "<span style=\"color: #7fbfbf; text-decoration-color: #7fbfbf\">                    </span>         match the expected format of object detection prediction that could be    <span style=\"color: #7f7f7f; text-decoration-color: #7f7f7f\">            </span>\n",
       "<span style=\"color: #7fbfbf; text-decoration-color: #7fbfbf\">                    </span>         accepted by `<span style=\"color: #800080; text-decoration-color: #800080; font-weight: bold\">supervision.Detection.from_inference</span><span style=\"font-weight: bold\">(</span><span style=\"color: #808000; text-decoration-color: #808000\">...</span><span style=\"font-weight: bold\">)</span>                    <span style=\"color: #7f7f7f; text-decoration-color: #7f7f7f\">            </span>\n",
       "</pre>\n"
      ],
      "text/plain": [
       "\u001b[2;36m[06/28/24 11:29:41]\u001b[0m\u001b[2;36m \u001b[0m\u001b[31mWARNING \u001b[0m Used `\u001b[1;35mrender_boxes\u001b[0m\u001b[1m(\u001b[0m\u001b[33m...\u001b[0m\u001b[1m)\u001b[0m` sink, but predictions that were provided do not  \u001b]8;id=352622;file:///Users/saadia/Documents/DevIA_2024/coding_projects/ShiFuMi_computerVision/venv/lib/python3.9/site-packages/inference/core/interfaces/stream/sinks.py\u001b\\\u001b[2msinks.py\u001b[0m\u001b]8;;\u001b\\\u001b[2m:\u001b[0m\u001b]8;id=457088;file:///Users/saadia/Documents/DevIA_2024/coding_projects/ShiFuMi_computerVision/venv/lib/python3.9/site-packages/inference/core/interfaces/stream/sinks.py#176\u001b\\\u001b[2m176\u001b[0m\u001b]8;;\u001b\\\n",
       "\u001b[2;36m                    \u001b[0m         match the expected format of object detection prediction that could be    \u001b[2m            \u001b[0m\n",
       "\u001b[2;36m                    \u001b[0m         accepted by `\u001b[1;35msupervision.Detection.from_inference\u001b[0m\u001b[1m(\u001b[0m\u001b[33m...\u001b[0m\u001b[1m)\u001b[0m                    \u001b[2m            \u001b[0m\n"
      ]
     },
     "metadata": {},
     "output_type": "display_data"
    },
    {
     "name": "stdout",
     "output_type": "stream",
     "text": [
      "0: 384x640 1 person, 1 baseball bat, 483.9ms\n",
      "Speed: 1.8ms preprocess, 483.9ms inference, 0.5ms postprocess per image at shape (1, 3, 384, 640)\n",
      "Predictions made: [{'boxes': [[324.208984375, 156.76611328125, 1247.515625, 711.0990600585938], [916.1152954101562, 2.36883544921875, 961.7543334960938, 541.2762451171875]], 'scores': [0.9614242315292358, 0.3883731961250305], 'class_indices': [0.0, 34.0]}]\n",
      "Video frames: 1\n",
      "\n"
     ]
    },
    {
     "data": {
      "text/html": [
       "<pre style=\"white-space:pre;overflow-x:auto;line-height:normal;font-family:Menlo,'DejaVu Sans Mono',consolas,'Courier New',monospace\"><span style=\"color: #7fbfbf; text-decoration-color: #7fbfbf\">                    </span><span style=\"color: #800000; text-decoration-color: #800000\">WARNING </span> Used `<span style=\"color: #800080; text-decoration-color: #800080; font-weight: bold\">render_boxes</span><span style=\"font-weight: bold\">(</span><span style=\"color: #808000; text-decoration-color: #808000\">...</span><span style=\"font-weight: bold\">)</span>` sink, but predictions that were provided do not  <a href=\"file:///Users/saadia/Documents/DevIA_2024/coding_projects/ShiFuMi_computerVision/venv/lib/python3.9/site-packages/inference/core/interfaces/stream/sinks.py\" target=\"_blank\"><span style=\"color: #7f7f7f; text-decoration-color: #7f7f7f\">sinks.py</span></a><span style=\"color: #7f7f7f; text-decoration-color: #7f7f7f\">:</span><a href=\"file:///Users/saadia/Documents/DevIA_2024/coding_projects/ShiFuMi_computerVision/venv/lib/python3.9/site-packages/inference/core/interfaces/stream/sinks.py#176\" target=\"_blank\"><span style=\"color: #7f7f7f; text-decoration-color: #7f7f7f\">176</span></a>\n",
       "<span style=\"color: #7fbfbf; text-decoration-color: #7fbfbf\">                    </span>         match the expected format of object detection prediction that could be    <span style=\"color: #7f7f7f; text-decoration-color: #7f7f7f\">            </span>\n",
       "<span style=\"color: #7fbfbf; text-decoration-color: #7fbfbf\">                    </span>         accepted by `<span style=\"color: #800080; text-decoration-color: #800080; font-weight: bold\">supervision.Detection.from_inference</span><span style=\"font-weight: bold\">(</span><span style=\"color: #808000; text-decoration-color: #808000\">...</span><span style=\"font-weight: bold\">)</span>                    <span style=\"color: #7f7f7f; text-decoration-color: #7f7f7f\">            </span>\n",
       "</pre>\n"
      ],
      "text/plain": [
       "\u001b[2;36m                   \u001b[0m\u001b[2;36m \u001b[0m\u001b[31mWARNING \u001b[0m Used `\u001b[1;35mrender_boxes\u001b[0m\u001b[1m(\u001b[0m\u001b[33m...\u001b[0m\u001b[1m)\u001b[0m` sink, but predictions that were provided do not  \u001b]8;id=764545;file:///Users/saadia/Documents/DevIA_2024/coding_projects/ShiFuMi_computerVision/venv/lib/python3.9/site-packages/inference/core/interfaces/stream/sinks.py\u001b\\\u001b[2msinks.py\u001b[0m\u001b]8;;\u001b\\\u001b[2m:\u001b[0m\u001b]8;id=284729;file:///Users/saadia/Documents/DevIA_2024/coding_projects/ShiFuMi_computerVision/venv/lib/python3.9/site-packages/inference/core/interfaces/stream/sinks.py#176\u001b\\\u001b[2m176\u001b[0m\u001b]8;;\u001b\\\n",
       "\u001b[2;36m                    \u001b[0m         match the expected format of object detection prediction that could be    \u001b[2m            \u001b[0m\n",
       "\u001b[2;36m                    \u001b[0m         accepted by `\u001b[1;35msupervision.Detection.from_inference\u001b[0m\u001b[1m(\u001b[0m\u001b[33m...\u001b[0m\u001b[1m)\u001b[0m                    \u001b[2m            \u001b[0m\n"
      ]
     },
     "metadata": {},
     "output_type": "display_data"
    },
    {
     "name": "stdout",
     "output_type": "stream",
     "text": [
      "0: 384x640 1 person, 744.4ms\n",
      "Speed: 2.6ms preprocess, 744.4ms inference, 0.9ms postprocess per image at shape (1, 3, 384, 640)\n",
      "Predictions made: [{'boxes': [[323.2784423828125, 150.28515625, 1226.8360595703125, 711.745849609375]], 'scores': [0.9628911018371582], 'class_indices': [0.0]}]\n",
      "Video frames: 1\n",
      "\n"
     ]
    },
    {
     "data": {
      "text/html": [
       "<pre style=\"white-space:pre;overflow-x:auto;line-height:normal;font-family:Menlo,'DejaVu Sans Mono',consolas,'Courier New',monospace\"><span style=\"color: #7fbfbf; text-decoration-color: #7fbfbf\">[06/28/24 11:29:42] </span><span style=\"color: #800000; text-decoration-color: #800000\">WARNING </span> Used `<span style=\"color: #800080; text-decoration-color: #800080; font-weight: bold\">render_boxes</span><span style=\"font-weight: bold\">(</span><span style=\"color: #808000; text-decoration-color: #808000\">...</span><span style=\"font-weight: bold\">)</span>` sink, but predictions that were provided do not  <a href=\"file:///Users/saadia/Documents/DevIA_2024/coding_projects/ShiFuMi_computerVision/venv/lib/python3.9/site-packages/inference/core/interfaces/stream/sinks.py\" target=\"_blank\"><span style=\"color: #7f7f7f; text-decoration-color: #7f7f7f\">sinks.py</span></a><span style=\"color: #7f7f7f; text-decoration-color: #7f7f7f\">:</span><a href=\"file:///Users/saadia/Documents/DevIA_2024/coding_projects/ShiFuMi_computerVision/venv/lib/python3.9/site-packages/inference/core/interfaces/stream/sinks.py#176\" target=\"_blank\"><span style=\"color: #7f7f7f; text-decoration-color: #7f7f7f\">176</span></a>\n",
       "<span style=\"color: #7fbfbf; text-decoration-color: #7fbfbf\">                    </span>         match the expected format of object detection prediction that could be    <span style=\"color: #7f7f7f; text-decoration-color: #7f7f7f\">            </span>\n",
       "<span style=\"color: #7fbfbf; text-decoration-color: #7fbfbf\">                    </span>         accepted by `<span style=\"color: #800080; text-decoration-color: #800080; font-weight: bold\">supervision.Detection.from_inference</span><span style=\"font-weight: bold\">(</span><span style=\"color: #808000; text-decoration-color: #808000\">...</span><span style=\"font-weight: bold\">)</span>                    <span style=\"color: #7f7f7f; text-decoration-color: #7f7f7f\">            </span>\n",
       "</pre>\n"
      ],
      "text/plain": [
       "\u001b[2;36m[06/28/24 11:29:42]\u001b[0m\u001b[2;36m \u001b[0m\u001b[31mWARNING \u001b[0m Used `\u001b[1;35mrender_boxes\u001b[0m\u001b[1m(\u001b[0m\u001b[33m...\u001b[0m\u001b[1m)\u001b[0m` sink, but predictions that were provided do not  \u001b]8;id=179256;file:///Users/saadia/Documents/DevIA_2024/coding_projects/ShiFuMi_computerVision/venv/lib/python3.9/site-packages/inference/core/interfaces/stream/sinks.py\u001b\\\u001b[2msinks.py\u001b[0m\u001b]8;;\u001b\\\u001b[2m:\u001b[0m\u001b]8;id=579563;file:///Users/saadia/Documents/DevIA_2024/coding_projects/ShiFuMi_computerVision/venv/lib/python3.9/site-packages/inference/core/interfaces/stream/sinks.py#176\u001b\\\u001b[2m176\u001b[0m\u001b]8;;\u001b\\\n",
       "\u001b[2;36m                    \u001b[0m         match the expected format of object detection prediction that could be    \u001b[2m            \u001b[0m\n",
       "\u001b[2;36m                    \u001b[0m         accepted by `\u001b[1;35msupervision.Detection.from_inference\u001b[0m\u001b[1m(\u001b[0m\u001b[33m...\u001b[0m\u001b[1m)\u001b[0m                    \u001b[2m            \u001b[0m\n"
      ]
     },
     "metadata": {},
     "output_type": "display_data"
    },
    {
     "name": "stdout",
     "output_type": "stream",
     "text": [
      "0: 384x640 1 person, 1 cell phone, 524.0ms\n",
      "Speed: 2.7ms preprocess, 524.0ms inference, 0.6ms postprocess per image at shape (1, 3, 384, 640)\n",
      "Predictions made: [{'boxes': [[325.3815612792969, 147.7576904296875, 1211.31787109375, 711.6181030273438], [764.7601318359375, 309.7203369140625, 877.6492919921875, 579.0777587890625]], 'scores': [0.9630725979804993, 0.5111086368560791], 'class_indices': [0.0, 67.0]}]\n",
      "Video frames: 1\n",
      "\n"
     ]
    },
    {
     "data": {
      "text/html": [
       "<pre style=\"white-space:pre;overflow-x:auto;line-height:normal;font-family:Menlo,'DejaVu Sans Mono',consolas,'Courier New',monospace\"><span style=\"color: #7fbfbf; text-decoration-color: #7fbfbf\">[06/28/24 11:29:43] </span><span style=\"color: #800000; text-decoration-color: #800000\">WARNING </span> Used `<span style=\"color: #800080; text-decoration-color: #800080; font-weight: bold\">render_boxes</span><span style=\"font-weight: bold\">(</span><span style=\"color: #808000; text-decoration-color: #808000\">...</span><span style=\"font-weight: bold\">)</span>` sink, but predictions that were provided do not  <a href=\"file:///Users/saadia/Documents/DevIA_2024/coding_projects/ShiFuMi_computerVision/venv/lib/python3.9/site-packages/inference/core/interfaces/stream/sinks.py\" target=\"_blank\"><span style=\"color: #7f7f7f; text-decoration-color: #7f7f7f\">sinks.py</span></a><span style=\"color: #7f7f7f; text-decoration-color: #7f7f7f\">:</span><a href=\"file:///Users/saadia/Documents/DevIA_2024/coding_projects/ShiFuMi_computerVision/venv/lib/python3.9/site-packages/inference/core/interfaces/stream/sinks.py#176\" target=\"_blank\"><span style=\"color: #7f7f7f; text-decoration-color: #7f7f7f\">176</span></a>\n",
       "<span style=\"color: #7fbfbf; text-decoration-color: #7fbfbf\">                    </span>         match the expected format of object detection prediction that could be    <span style=\"color: #7f7f7f; text-decoration-color: #7f7f7f\">            </span>\n",
       "<span style=\"color: #7fbfbf; text-decoration-color: #7fbfbf\">                    </span>         accepted by `<span style=\"color: #800080; text-decoration-color: #800080; font-weight: bold\">supervision.Detection.from_inference</span><span style=\"font-weight: bold\">(</span><span style=\"color: #808000; text-decoration-color: #808000\">...</span><span style=\"font-weight: bold\">)</span>                    <span style=\"color: #7f7f7f; text-decoration-color: #7f7f7f\">            </span>\n",
       "</pre>\n"
      ],
      "text/plain": [
       "\u001b[2;36m[06/28/24 11:29:43]\u001b[0m\u001b[2;36m \u001b[0m\u001b[31mWARNING \u001b[0m Used `\u001b[1;35mrender_boxes\u001b[0m\u001b[1m(\u001b[0m\u001b[33m...\u001b[0m\u001b[1m)\u001b[0m` sink, but predictions that were provided do not  \u001b]8;id=34301;file:///Users/saadia/Documents/DevIA_2024/coding_projects/ShiFuMi_computerVision/venv/lib/python3.9/site-packages/inference/core/interfaces/stream/sinks.py\u001b\\\u001b[2msinks.py\u001b[0m\u001b]8;;\u001b\\\u001b[2m:\u001b[0m\u001b]8;id=525714;file:///Users/saadia/Documents/DevIA_2024/coding_projects/ShiFuMi_computerVision/venv/lib/python3.9/site-packages/inference/core/interfaces/stream/sinks.py#176\u001b\\\u001b[2m176\u001b[0m\u001b]8;;\u001b\\\n",
       "\u001b[2;36m                    \u001b[0m         match the expected format of object detection prediction that could be    \u001b[2m            \u001b[0m\n",
       "\u001b[2;36m                    \u001b[0m         accepted by `\u001b[1;35msupervision.Detection.from_inference\u001b[0m\u001b[1m(\u001b[0m\u001b[33m...\u001b[0m\u001b[1m)\u001b[0m                    \u001b[2m            \u001b[0m\n"
      ]
     },
     "metadata": {},
     "output_type": "display_data"
    },
    {
     "name": "stdout",
     "output_type": "stream",
     "text": [
      "0: 384x640 1 person, 1 cell phone, 483.8ms\n",
      "Speed: 2.1ms preprocess, 483.8ms inference, 0.5ms postprocess per image at shape (1, 3, 384, 640)\n",
      "Predictions made: [{'boxes': [[324.97216796875, 150.10125732421875, 1198.378173828125, 711.3168334960938], [775.152587890625, 222.6572265625, 876.9091796875, 480.67108154296875]], 'scores': [0.962877631187439, 0.3132375478744507], 'class_indices': [0.0, 67.0]}]\n",
      "Video frames: 1\n",
      "\n"
     ]
    },
    {
     "data": {
      "text/html": [
       "<pre style=\"white-space:pre;overflow-x:auto;line-height:normal;font-family:Menlo,'DejaVu Sans Mono',consolas,'Courier New',monospace\"><span style=\"color: #7fbfbf; text-decoration-color: #7fbfbf\">                    </span><span style=\"color: #800000; text-decoration-color: #800000\">WARNING </span> Used `<span style=\"color: #800080; text-decoration-color: #800080; font-weight: bold\">render_boxes</span><span style=\"font-weight: bold\">(</span><span style=\"color: #808000; text-decoration-color: #808000\">...</span><span style=\"font-weight: bold\">)</span>` sink, but predictions that were provided do not  <a href=\"file:///Users/saadia/Documents/DevIA_2024/coding_projects/ShiFuMi_computerVision/venv/lib/python3.9/site-packages/inference/core/interfaces/stream/sinks.py\" target=\"_blank\"><span style=\"color: #7f7f7f; text-decoration-color: #7f7f7f\">sinks.py</span></a><span style=\"color: #7f7f7f; text-decoration-color: #7f7f7f\">:</span><a href=\"file:///Users/saadia/Documents/DevIA_2024/coding_projects/ShiFuMi_computerVision/venv/lib/python3.9/site-packages/inference/core/interfaces/stream/sinks.py#176\" target=\"_blank\"><span style=\"color: #7f7f7f; text-decoration-color: #7f7f7f\">176</span></a>\n",
       "<span style=\"color: #7fbfbf; text-decoration-color: #7fbfbf\">                    </span>         match the expected format of object detection prediction that could be    <span style=\"color: #7f7f7f; text-decoration-color: #7f7f7f\">            </span>\n",
       "<span style=\"color: #7fbfbf; text-decoration-color: #7fbfbf\">                    </span>         accepted by `<span style=\"color: #800080; text-decoration-color: #800080; font-weight: bold\">supervision.Detection.from_inference</span><span style=\"font-weight: bold\">(</span><span style=\"color: #808000; text-decoration-color: #808000\">...</span><span style=\"font-weight: bold\">)</span>                    <span style=\"color: #7f7f7f; text-decoration-color: #7f7f7f\">            </span>\n",
       "</pre>\n"
      ],
      "text/plain": [
       "\u001b[2;36m                   \u001b[0m\u001b[2;36m \u001b[0m\u001b[31mWARNING \u001b[0m Used `\u001b[1;35mrender_boxes\u001b[0m\u001b[1m(\u001b[0m\u001b[33m...\u001b[0m\u001b[1m)\u001b[0m` sink, but predictions that were provided do not  \u001b]8;id=438329;file:///Users/saadia/Documents/DevIA_2024/coding_projects/ShiFuMi_computerVision/venv/lib/python3.9/site-packages/inference/core/interfaces/stream/sinks.py\u001b\\\u001b[2msinks.py\u001b[0m\u001b]8;;\u001b\\\u001b[2m:\u001b[0m\u001b]8;id=801143;file:///Users/saadia/Documents/DevIA_2024/coding_projects/ShiFuMi_computerVision/venv/lib/python3.9/site-packages/inference/core/interfaces/stream/sinks.py#176\u001b\\\u001b[2m176\u001b[0m\u001b]8;;\u001b\\\n",
       "\u001b[2;36m                    \u001b[0m         match the expected format of object detection prediction that could be    \u001b[2m            \u001b[0m\n",
       "\u001b[2;36m                    \u001b[0m         accepted by `\u001b[1;35msupervision.Detection.from_inference\u001b[0m\u001b[1m(\u001b[0m\u001b[33m...\u001b[0m\u001b[1m)\u001b[0m                    \u001b[2m            \u001b[0m\n"
      ]
     },
     "metadata": {},
     "output_type": "display_data"
    },
    {
     "name": "stdout",
     "output_type": "stream",
     "text": [
      "0: 384x640 1 person, 1 cell phone, 525.2ms\n",
      "Speed: 1.8ms preprocess, 525.2ms inference, 0.7ms postprocess per image at shape (1, 3, 384, 640)\n",
      "Predictions made: [{'boxes': [[325.9954528808594, 151.527099609375, 1191.8856201171875, 711.3670043945312], [778.80517578125, 312.930908203125, 872.2760009765625, 478.4478759765625]], 'scores': [0.9660178422927856, 0.4881247878074646], 'class_indices': [0.0, 67.0]}]\n",
      "Video frames: 1\n",
      "\n"
     ]
    },
    {
     "data": {
      "text/html": [
       "<pre style=\"white-space:pre;overflow-x:auto;line-height:normal;font-family:Menlo,'DejaVu Sans Mono',consolas,'Courier New',monospace\"><span style=\"color: #7fbfbf; text-decoration-color: #7fbfbf\">[06/28/24 11:29:44] </span><span style=\"color: #800000; text-decoration-color: #800000\">WARNING </span> Used `<span style=\"color: #800080; text-decoration-color: #800080; font-weight: bold\">render_boxes</span><span style=\"font-weight: bold\">(</span><span style=\"color: #808000; text-decoration-color: #808000\">...</span><span style=\"font-weight: bold\">)</span>` sink, but predictions that were provided do not  <a href=\"file:///Users/saadia/Documents/DevIA_2024/coding_projects/ShiFuMi_computerVision/venv/lib/python3.9/site-packages/inference/core/interfaces/stream/sinks.py\" target=\"_blank\"><span style=\"color: #7f7f7f; text-decoration-color: #7f7f7f\">sinks.py</span></a><span style=\"color: #7f7f7f; text-decoration-color: #7f7f7f\">:</span><a href=\"file:///Users/saadia/Documents/DevIA_2024/coding_projects/ShiFuMi_computerVision/venv/lib/python3.9/site-packages/inference/core/interfaces/stream/sinks.py#176\" target=\"_blank\"><span style=\"color: #7f7f7f; text-decoration-color: #7f7f7f\">176</span></a>\n",
       "<span style=\"color: #7fbfbf; text-decoration-color: #7fbfbf\">                    </span>         match the expected format of object detection prediction that could be    <span style=\"color: #7f7f7f; text-decoration-color: #7f7f7f\">            </span>\n",
       "<span style=\"color: #7fbfbf; text-decoration-color: #7fbfbf\">                    </span>         accepted by `<span style=\"color: #800080; text-decoration-color: #800080; font-weight: bold\">supervision.Detection.from_inference</span><span style=\"font-weight: bold\">(</span><span style=\"color: #808000; text-decoration-color: #808000\">...</span><span style=\"font-weight: bold\">)</span>                    <span style=\"color: #7f7f7f; text-decoration-color: #7f7f7f\">            </span>\n",
       "</pre>\n"
      ],
      "text/plain": [
       "\u001b[2;36m[06/28/24 11:29:44]\u001b[0m\u001b[2;36m \u001b[0m\u001b[31mWARNING \u001b[0m Used `\u001b[1;35mrender_boxes\u001b[0m\u001b[1m(\u001b[0m\u001b[33m...\u001b[0m\u001b[1m)\u001b[0m` sink, but predictions that were provided do not  \u001b]8;id=425554;file:///Users/saadia/Documents/DevIA_2024/coding_projects/ShiFuMi_computerVision/venv/lib/python3.9/site-packages/inference/core/interfaces/stream/sinks.py\u001b\\\u001b[2msinks.py\u001b[0m\u001b]8;;\u001b\\\u001b[2m:\u001b[0m\u001b]8;id=988976;file:///Users/saadia/Documents/DevIA_2024/coding_projects/ShiFuMi_computerVision/venv/lib/python3.9/site-packages/inference/core/interfaces/stream/sinks.py#176\u001b\\\u001b[2m176\u001b[0m\u001b]8;;\u001b\\\n",
       "\u001b[2;36m                    \u001b[0m         match the expected format of object detection prediction that could be    \u001b[2m            \u001b[0m\n",
       "\u001b[2;36m                    \u001b[0m         accepted by `\u001b[1;35msupervision.Detection.from_inference\u001b[0m\u001b[1m(\u001b[0m\u001b[33m...\u001b[0m\u001b[1m)\u001b[0m                    \u001b[2m            \u001b[0m\n"
      ]
     },
     "metadata": {},
     "output_type": "display_data"
    },
    {
     "name": "stdout",
     "output_type": "stream",
     "text": [
      "0: 384x640 1 person, 1 cell phone, 519.0ms\n",
      "Speed: 1.9ms preprocess, 519.0ms inference, 0.6ms postprocess per image at shape (1, 3, 384, 640)\n",
      "Predictions made: [{'boxes': [[327.3656921386719, 151.46044921875, 1190.51904296875, 711.3143310546875], [781.668212890625, 312.3155517578125, 872.589111328125, 478.26513671875]], 'scores': [0.9655749201774597, 0.5195655226707458], 'class_indices': [0.0, 67.0]}]\n",
      "Video frames: 1\n",
      "\n"
     ]
    },
    {
     "data": {
      "text/html": [
       "<pre style=\"white-space:pre;overflow-x:auto;line-height:normal;font-family:Menlo,'DejaVu Sans Mono',consolas,'Courier New',monospace\"><span style=\"color: #7fbfbf; text-decoration-color: #7fbfbf\">                    </span><span style=\"color: #800000; text-decoration-color: #800000\">WARNING </span> Used `<span style=\"color: #800080; text-decoration-color: #800080; font-weight: bold\">render_boxes</span><span style=\"font-weight: bold\">(</span><span style=\"color: #808000; text-decoration-color: #808000\">...</span><span style=\"font-weight: bold\">)</span>` sink, but predictions that were provided do not  <a href=\"file:///Users/saadia/Documents/DevIA_2024/coding_projects/ShiFuMi_computerVision/venv/lib/python3.9/site-packages/inference/core/interfaces/stream/sinks.py\" target=\"_blank\"><span style=\"color: #7f7f7f; text-decoration-color: #7f7f7f\">sinks.py</span></a><span style=\"color: #7f7f7f; text-decoration-color: #7f7f7f\">:</span><a href=\"file:///Users/saadia/Documents/DevIA_2024/coding_projects/ShiFuMi_computerVision/venv/lib/python3.9/site-packages/inference/core/interfaces/stream/sinks.py#176\" target=\"_blank\"><span style=\"color: #7f7f7f; text-decoration-color: #7f7f7f\">176</span></a>\n",
       "<span style=\"color: #7fbfbf; text-decoration-color: #7fbfbf\">                    </span>         match the expected format of object detection prediction that could be    <span style=\"color: #7f7f7f; text-decoration-color: #7f7f7f\">            </span>\n",
       "<span style=\"color: #7fbfbf; text-decoration-color: #7fbfbf\">                    </span>         accepted by `<span style=\"color: #800080; text-decoration-color: #800080; font-weight: bold\">supervision.Detection.from_inference</span><span style=\"font-weight: bold\">(</span><span style=\"color: #808000; text-decoration-color: #808000\">...</span><span style=\"font-weight: bold\">)</span>                    <span style=\"color: #7f7f7f; text-decoration-color: #7f7f7f\">            </span>\n",
       "</pre>\n"
      ],
      "text/plain": [
       "\u001b[2;36m                   \u001b[0m\u001b[2;36m \u001b[0m\u001b[31mWARNING \u001b[0m Used `\u001b[1;35mrender_boxes\u001b[0m\u001b[1m(\u001b[0m\u001b[33m...\u001b[0m\u001b[1m)\u001b[0m` sink, but predictions that were provided do not  \u001b]8;id=860035;file:///Users/saadia/Documents/DevIA_2024/coding_projects/ShiFuMi_computerVision/venv/lib/python3.9/site-packages/inference/core/interfaces/stream/sinks.py\u001b\\\u001b[2msinks.py\u001b[0m\u001b]8;;\u001b\\\u001b[2m:\u001b[0m\u001b]8;id=425532;file:///Users/saadia/Documents/DevIA_2024/coding_projects/ShiFuMi_computerVision/venv/lib/python3.9/site-packages/inference/core/interfaces/stream/sinks.py#176\u001b\\\u001b[2m176\u001b[0m\u001b]8;;\u001b\\\n",
       "\u001b[2;36m                    \u001b[0m         match the expected format of object detection prediction that could be    \u001b[2m            \u001b[0m\n",
       "\u001b[2;36m                    \u001b[0m         accepted by `\u001b[1;35msupervision.Detection.from_inference\u001b[0m\u001b[1m(\u001b[0m\u001b[33m...\u001b[0m\u001b[1m)\u001b[0m                    \u001b[2m            \u001b[0m\n"
      ]
     },
     "metadata": {},
     "output_type": "display_data"
    },
    {
     "name": "stdout",
     "output_type": "stream",
     "text": [
      "0: 384x640 1 person, 1 cell phone, 474.8ms\n",
      "Speed: 2.6ms preprocess, 474.8ms inference, 0.5ms postprocess per image at shape (1, 3, 384, 640)\n",
      "Predictions made: [{'boxes': [[326.1950988769531, 152.6253662109375, 1191.52001953125, 711.342529296875], [781.4532470703125, 313.3726806640625, 873.550048828125, 475.1702880859375]], 'scores': [0.966218113899231, 0.4963241219520569], 'class_indices': [0.0, 67.0]}]\n",
      "Video frames: 1\n",
      "\n"
     ]
    },
    {
     "data": {
      "text/html": [
       "<pre style=\"white-space:pre;overflow-x:auto;line-height:normal;font-family:Menlo,'DejaVu Sans Mono',consolas,'Courier New',monospace\"><span style=\"color: #7fbfbf; text-decoration-color: #7fbfbf\">[06/28/24 11:29:45] </span><span style=\"color: #800000; text-decoration-color: #800000\">WARNING </span> Used `<span style=\"color: #800080; text-decoration-color: #800080; font-weight: bold\">render_boxes</span><span style=\"font-weight: bold\">(</span><span style=\"color: #808000; text-decoration-color: #808000\">...</span><span style=\"font-weight: bold\">)</span>` sink, but predictions that were provided do not  <a href=\"file:///Users/saadia/Documents/DevIA_2024/coding_projects/ShiFuMi_computerVision/venv/lib/python3.9/site-packages/inference/core/interfaces/stream/sinks.py\" target=\"_blank\"><span style=\"color: #7f7f7f; text-decoration-color: #7f7f7f\">sinks.py</span></a><span style=\"color: #7f7f7f; text-decoration-color: #7f7f7f\">:</span><a href=\"file:///Users/saadia/Documents/DevIA_2024/coding_projects/ShiFuMi_computerVision/venv/lib/python3.9/site-packages/inference/core/interfaces/stream/sinks.py#176\" target=\"_blank\"><span style=\"color: #7f7f7f; text-decoration-color: #7f7f7f\">176</span></a>\n",
       "<span style=\"color: #7fbfbf; text-decoration-color: #7fbfbf\">                    </span>         match the expected format of object detection prediction that could be    <span style=\"color: #7f7f7f; text-decoration-color: #7f7f7f\">            </span>\n",
       "<span style=\"color: #7fbfbf; text-decoration-color: #7fbfbf\">                    </span>         accepted by `<span style=\"color: #800080; text-decoration-color: #800080; font-weight: bold\">supervision.Detection.from_inference</span><span style=\"font-weight: bold\">(</span><span style=\"color: #808000; text-decoration-color: #808000\">...</span><span style=\"font-weight: bold\">)</span>                    <span style=\"color: #7f7f7f; text-decoration-color: #7f7f7f\">            </span>\n",
       "</pre>\n"
      ],
      "text/plain": [
       "\u001b[2;36m[06/28/24 11:29:45]\u001b[0m\u001b[2;36m \u001b[0m\u001b[31mWARNING \u001b[0m Used `\u001b[1;35mrender_boxes\u001b[0m\u001b[1m(\u001b[0m\u001b[33m...\u001b[0m\u001b[1m)\u001b[0m` sink, but predictions that were provided do not  \u001b]8;id=925729;file:///Users/saadia/Documents/DevIA_2024/coding_projects/ShiFuMi_computerVision/venv/lib/python3.9/site-packages/inference/core/interfaces/stream/sinks.py\u001b\\\u001b[2msinks.py\u001b[0m\u001b]8;;\u001b\\\u001b[2m:\u001b[0m\u001b]8;id=892284;file:///Users/saadia/Documents/DevIA_2024/coding_projects/ShiFuMi_computerVision/venv/lib/python3.9/site-packages/inference/core/interfaces/stream/sinks.py#176\u001b\\\u001b[2m176\u001b[0m\u001b]8;;\u001b\\\n",
       "\u001b[2;36m                    \u001b[0m         match the expected format of object detection prediction that could be    \u001b[2m            \u001b[0m\n",
       "\u001b[2;36m                    \u001b[0m         accepted by `\u001b[1;35msupervision.Detection.from_inference\u001b[0m\u001b[1m(\u001b[0m\u001b[33m...\u001b[0m\u001b[1m)\u001b[0m                    \u001b[2m            \u001b[0m\n"
      ]
     },
     "metadata": {},
     "output_type": "display_data"
    },
    {
     "name": "stdout",
     "output_type": "stream",
     "text": [
      "0: 384x640 1 person, 1 cell phone, 469.9ms\n",
      "Speed: 2.7ms preprocess, 469.9ms inference, 0.4ms postprocess per image at shape (1, 3, 384, 640)\n",
      "Predictions made: [{'boxes': [[324.4652099609375, 154.34228515625, 1196.2762451171875, 711.2394409179688], [782.4053344726562, 312.7023620605469, 875.4684448242188, 481.0865173339844]], 'scores': [0.9660285115242004, 0.5987857580184937], 'class_indices': [0.0, 67.0]}]\n",
      "Video frames: 1\n",
      "\n"
     ]
    },
    {
     "data": {
      "text/html": [
       "<pre style=\"white-space:pre;overflow-x:auto;line-height:normal;font-family:Menlo,'DejaVu Sans Mono',consolas,'Courier New',monospace\"><span style=\"color: #7fbfbf; text-decoration-color: #7fbfbf\">                    </span><span style=\"color: #800000; text-decoration-color: #800000\">WARNING </span> Used `<span style=\"color: #800080; text-decoration-color: #800080; font-weight: bold\">render_boxes</span><span style=\"font-weight: bold\">(</span><span style=\"color: #808000; text-decoration-color: #808000\">...</span><span style=\"font-weight: bold\">)</span>` sink, but predictions that were provided do not  <a href=\"file:///Users/saadia/Documents/DevIA_2024/coding_projects/ShiFuMi_computerVision/venv/lib/python3.9/site-packages/inference/core/interfaces/stream/sinks.py\" target=\"_blank\"><span style=\"color: #7f7f7f; text-decoration-color: #7f7f7f\">sinks.py</span></a><span style=\"color: #7f7f7f; text-decoration-color: #7f7f7f\">:</span><a href=\"file:///Users/saadia/Documents/DevIA_2024/coding_projects/ShiFuMi_computerVision/venv/lib/python3.9/site-packages/inference/core/interfaces/stream/sinks.py#176\" target=\"_blank\"><span style=\"color: #7f7f7f; text-decoration-color: #7f7f7f\">176</span></a>\n",
       "<span style=\"color: #7fbfbf; text-decoration-color: #7fbfbf\">                    </span>         match the expected format of object detection prediction that could be    <span style=\"color: #7f7f7f; text-decoration-color: #7f7f7f\">            </span>\n",
       "<span style=\"color: #7fbfbf; text-decoration-color: #7fbfbf\">                    </span>         accepted by `<span style=\"color: #800080; text-decoration-color: #800080; font-weight: bold\">supervision.Detection.from_inference</span><span style=\"font-weight: bold\">(</span><span style=\"color: #808000; text-decoration-color: #808000\">...</span><span style=\"font-weight: bold\">)</span>                    <span style=\"color: #7f7f7f; text-decoration-color: #7f7f7f\">            </span>\n",
       "</pre>\n"
      ],
      "text/plain": [
       "\u001b[2;36m                   \u001b[0m\u001b[2;36m \u001b[0m\u001b[31mWARNING \u001b[0m Used `\u001b[1;35mrender_boxes\u001b[0m\u001b[1m(\u001b[0m\u001b[33m...\u001b[0m\u001b[1m)\u001b[0m` sink, but predictions that were provided do not  \u001b]8;id=453348;file:///Users/saadia/Documents/DevIA_2024/coding_projects/ShiFuMi_computerVision/venv/lib/python3.9/site-packages/inference/core/interfaces/stream/sinks.py\u001b\\\u001b[2msinks.py\u001b[0m\u001b]8;;\u001b\\\u001b[2m:\u001b[0m\u001b]8;id=392473;file:///Users/saadia/Documents/DevIA_2024/coding_projects/ShiFuMi_computerVision/venv/lib/python3.9/site-packages/inference/core/interfaces/stream/sinks.py#176\u001b\\\u001b[2m176\u001b[0m\u001b]8;;\u001b\\\n",
       "\u001b[2;36m                    \u001b[0m         match the expected format of object detection prediction that could be    \u001b[2m            \u001b[0m\n",
       "\u001b[2;36m                    \u001b[0m         accepted by `\u001b[1;35msupervision.Detection.from_inference\u001b[0m\u001b[1m(\u001b[0m\u001b[33m...\u001b[0m\u001b[1m)\u001b[0m                    \u001b[2m            \u001b[0m\n"
      ]
     },
     "metadata": {},
     "output_type": "display_data"
    },
    {
     "name": "stdout",
     "output_type": "stream",
     "text": [
      "0: 384x640 1 person, 467.1ms\n",
      "Speed: 1.2ms preprocess, 467.1ms inference, 0.8ms postprocess per image at shape (1, 3, 384, 640)\n",
      "Predictions made: [{'boxes': [[320.8291320800781, 159.767333984375, 1027.154541015625, 712.7158203125]], 'scores': [0.9553879499435425], 'class_indices': [0.0]}]\n",
      "Video frames: 1\n",
      "\n"
     ]
    },
    {
     "data": {
      "text/html": [
       "<pre style=\"white-space:pre;overflow-x:auto;line-height:normal;font-family:Menlo,'DejaVu Sans Mono',consolas,'Courier New',monospace\"><span style=\"color: #7fbfbf; text-decoration-color: #7fbfbf\">[06/28/24 11:29:46] </span><span style=\"color: #800000; text-decoration-color: #800000\">WARNING </span> Used `<span style=\"color: #800080; text-decoration-color: #800080; font-weight: bold\">render_boxes</span><span style=\"font-weight: bold\">(</span><span style=\"color: #808000; text-decoration-color: #808000\">...</span><span style=\"font-weight: bold\">)</span>` sink, but predictions that were provided do not  <a href=\"file:///Users/saadia/Documents/DevIA_2024/coding_projects/ShiFuMi_computerVision/venv/lib/python3.9/site-packages/inference/core/interfaces/stream/sinks.py\" target=\"_blank\"><span style=\"color: #7f7f7f; text-decoration-color: #7f7f7f\">sinks.py</span></a><span style=\"color: #7f7f7f; text-decoration-color: #7f7f7f\">:</span><a href=\"file:///Users/saadia/Documents/DevIA_2024/coding_projects/ShiFuMi_computerVision/venv/lib/python3.9/site-packages/inference/core/interfaces/stream/sinks.py#176\" target=\"_blank\"><span style=\"color: #7f7f7f; text-decoration-color: #7f7f7f\">176</span></a>\n",
       "<span style=\"color: #7fbfbf; text-decoration-color: #7fbfbf\">                    </span>         match the expected format of object detection prediction that could be    <span style=\"color: #7f7f7f; text-decoration-color: #7f7f7f\">            </span>\n",
       "<span style=\"color: #7fbfbf; text-decoration-color: #7fbfbf\">                    </span>         accepted by `<span style=\"color: #800080; text-decoration-color: #800080; font-weight: bold\">supervision.Detection.from_inference</span><span style=\"font-weight: bold\">(</span><span style=\"color: #808000; text-decoration-color: #808000\">...</span><span style=\"font-weight: bold\">)</span>                    <span style=\"color: #7f7f7f; text-decoration-color: #7f7f7f\">            </span>\n",
       "</pre>\n"
      ],
      "text/plain": [
       "\u001b[2;36m[06/28/24 11:29:46]\u001b[0m\u001b[2;36m \u001b[0m\u001b[31mWARNING \u001b[0m Used `\u001b[1;35mrender_boxes\u001b[0m\u001b[1m(\u001b[0m\u001b[33m...\u001b[0m\u001b[1m)\u001b[0m` sink, but predictions that were provided do not  \u001b]8;id=539030;file:///Users/saadia/Documents/DevIA_2024/coding_projects/ShiFuMi_computerVision/venv/lib/python3.9/site-packages/inference/core/interfaces/stream/sinks.py\u001b\\\u001b[2msinks.py\u001b[0m\u001b]8;;\u001b\\\u001b[2m:\u001b[0m\u001b]8;id=822185;file:///Users/saadia/Documents/DevIA_2024/coding_projects/ShiFuMi_computerVision/venv/lib/python3.9/site-packages/inference/core/interfaces/stream/sinks.py#176\u001b\\\u001b[2m176\u001b[0m\u001b]8;;\u001b\\\n",
       "\u001b[2;36m                    \u001b[0m         match the expected format of object detection prediction that could be    \u001b[2m            \u001b[0m\n",
       "\u001b[2;36m                    \u001b[0m         accepted by `\u001b[1;35msupervision.Detection.from_inference\u001b[0m\u001b[1m(\u001b[0m\u001b[33m...\u001b[0m\u001b[1m)\u001b[0m                    \u001b[2m            \u001b[0m\n"
      ]
     },
     "metadata": {},
     "output_type": "display_data"
    },
    {
     "name": "stdout",
     "output_type": "stream",
     "text": [
      "0: 384x640 1 person, 473.0ms\n",
      "Speed: 2.1ms preprocess, 473.0ms inference, 0.3ms postprocess per image at shape (1, 3, 384, 640)\n",
      "Predictions made: [{'boxes': [[302.42633056640625, 174.75714111328125, 994.6156616210938, 711.2979736328125]], 'scores': [0.9522188305854797], 'class_indices': [0.0]}]\n",
      "Video frames: 1\n",
      "\n"
     ]
    },
    {
     "data": {
      "text/html": [
       "<pre style=\"white-space:pre;overflow-x:auto;line-height:normal;font-family:Menlo,'DejaVu Sans Mono',consolas,'Courier New',monospace\"><span style=\"color: #7fbfbf; text-decoration-color: #7fbfbf\">                    </span><span style=\"color: #800000; text-decoration-color: #800000\">WARNING </span> Used `<span style=\"color: #800080; text-decoration-color: #800080; font-weight: bold\">render_boxes</span><span style=\"font-weight: bold\">(</span><span style=\"color: #808000; text-decoration-color: #808000\">...</span><span style=\"font-weight: bold\">)</span>` sink, but predictions that were provided do not  <a href=\"file:///Users/saadia/Documents/DevIA_2024/coding_projects/ShiFuMi_computerVision/venv/lib/python3.9/site-packages/inference/core/interfaces/stream/sinks.py\" target=\"_blank\"><span style=\"color: #7f7f7f; text-decoration-color: #7f7f7f\">sinks.py</span></a><span style=\"color: #7f7f7f; text-decoration-color: #7f7f7f\">:</span><a href=\"file:///Users/saadia/Documents/DevIA_2024/coding_projects/ShiFuMi_computerVision/venv/lib/python3.9/site-packages/inference/core/interfaces/stream/sinks.py#176\" target=\"_blank\"><span style=\"color: #7f7f7f; text-decoration-color: #7f7f7f\">176</span></a>\n",
       "<span style=\"color: #7fbfbf; text-decoration-color: #7fbfbf\">                    </span>         match the expected format of object detection prediction that could be    <span style=\"color: #7f7f7f; text-decoration-color: #7f7f7f\">            </span>\n",
       "<span style=\"color: #7fbfbf; text-decoration-color: #7fbfbf\">                    </span>         accepted by `<span style=\"color: #800080; text-decoration-color: #800080; font-weight: bold\">supervision.Detection.from_inference</span><span style=\"font-weight: bold\">(</span><span style=\"color: #808000; text-decoration-color: #808000\">...</span><span style=\"font-weight: bold\">)</span>                    <span style=\"color: #7f7f7f; text-decoration-color: #7f7f7f\">            </span>\n",
       "</pre>\n"
      ],
      "text/plain": [
       "\u001b[2;36m                   \u001b[0m\u001b[2;36m \u001b[0m\u001b[31mWARNING \u001b[0m Used `\u001b[1;35mrender_boxes\u001b[0m\u001b[1m(\u001b[0m\u001b[33m...\u001b[0m\u001b[1m)\u001b[0m` sink, but predictions that were provided do not  \u001b]8;id=111218;file:///Users/saadia/Documents/DevIA_2024/coding_projects/ShiFuMi_computerVision/venv/lib/python3.9/site-packages/inference/core/interfaces/stream/sinks.py\u001b\\\u001b[2msinks.py\u001b[0m\u001b]8;;\u001b\\\u001b[2m:\u001b[0m\u001b]8;id=596489;file:///Users/saadia/Documents/DevIA_2024/coding_projects/ShiFuMi_computerVision/venv/lib/python3.9/site-packages/inference/core/interfaces/stream/sinks.py#176\u001b\\\u001b[2m176\u001b[0m\u001b]8;;\u001b\\\n",
       "\u001b[2;36m                    \u001b[0m         match the expected format of object detection prediction that could be    \u001b[2m            \u001b[0m\n",
       "\u001b[2;36m                    \u001b[0m         accepted by `\u001b[1;35msupervision.Detection.from_inference\u001b[0m\u001b[1m(\u001b[0m\u001b[33m...\u001b[0m\u001b[1m)\u001b[0m                    \u001b[2m            \u001b[0m\n"
      ]
     },
     "metadata": {},
     "output_type": "display_data"
    },
    {
     "name": "stdout",
     "output_type": "stream",
     "text": [
      "0: 384x640 1 person, 509.8ms\n",
      "Speed: 1.3ms preprocess, 509.8ms inference, 0.7ms postprocess per image at shape (1, 3, 384, 640)\n",
      "Predictions made: [{'boxes': [[299.7882385253906, 180.1060791015625, 975.9910888671875, 711.759521484375]], 'scores': [0.956748366355896], 'class_indices': [0.0]}]\n",
      "Video frames: 1\n",
      "\n"
     ]
    },
    {
     "data": {
      "text/html": [
       "<pre style=\"white-space:pre;overflow-x:auto;line-height:normal;font-family:Menlo,'DejaVu Sans Mono',consolas,'Courier New',monospace\"><span style=\"color: #7fbfbf; text-decoration-color: #7fbfbf\">[06/28/24 11:29:47] </span><span style=\"color: #800000; text-decoration-color: #800000\">WARNING </span> Used `<span style=\"color: #800080; text-decoration-color: #800080; font-weight: bold\">render_boxes</span><span style=\"font-weight: bold\">(</span><span style=\"color: #808000; text-decoration-color: #808000\">...</span><span style=\"font-weight: bold\">)</span>` sink, but predictions that were provided do not  <a href=\"file:///Users/saadia/Documents/DevIA_2024/coding_projects/ShiFuMi_computerVision/venv/lib/python3.9/site-packages/inference/core/interfaces/stream/sinks.py\" target=\"_blank\"><span style=\"color: #7f7f7f; text-decoration-color: #7f7f7f\">sinks.py</span></a><span style=\"color: #7f7f7f; text-decoration-color: #7f7f7f\">:</span><a href=\"file:///Users/saadia/Documents/DevIA_2024/coding_projects/ShiFuMi_computerVision/venv/lib/python3.9/site-packages/inference/core/interfaces/stream/sinks.py#176\" target=\"_blank\"><span style=\"color: #7f7f7f; text-decoration-color: #7f7f7f\">176</span></a>\n",
       "<span style=\"color: #7fbfbf; text-decoration-color: #7fbfbf\">                    </span>         match the expected format of object detection prediction that could be    <span style=\"color: #7f7f7f; text-decoration-color: #7f7f7f\">            </span>\n",
       "<span style=\"color: #7fbfbf; text-decoration-color: #7fbfbf\">                    </span>         accepted by `<span style=\"color: #800080; text-decoration-color: #800080; font-weight: bold\">supervision.Detection.from_inference</span><span style=\"font-weight: bold\">(</span><span style=\"color: #808000; text-decoration-color: #808000\">...</span><span style=\"font-weight: bold\">)</span>                    <span style=\"color: #7f7f7f; text-decoration-color: #7f7f7f\">            </span>\n",
       "</pre>\n"
      ],
      "text/plain": [
       "\u001b[2;36m[06/28/24 11:29:47]\u001b[0m\u001b[2;36m \u001b[0m\u001b[31mWARNING \u001b[0m Used `\u001b[1;35mrender_boxes\u001b[0m\u001b[1m(\u001b[0m\u001b[33m...\u001b[0m\u001b[1m)\u001b[0m` sink, but predictions that were provided do not  \u001b]8;id=297898;file:///Users/saadia/Documents/DevIA_2024/coding_projects/ShiFuMi_computerVision/venv/lib/python3.9/site-packages/inference/core/interfaces/stream/sinks.py\u001b\\\u001b[2msinks.py\u001b[0m\u001b]8;;\u001b\\\u001b[2m:\u001b[0m\u001b]8;id=967522;file:///Users/saadia/Documents/DevIA_2024/coding_projects/ShiFuMi_computerVision/venv/lib/python3.9/site-packages/inference/core/interfaces/stream/sinks.py#176\u001b\\\u001b[2m176\u001b[0m\u001b]8;;\u001b\\\n",
       "\u001b[2;36m                    \u001b[0m         match the expected format of object detection prediction that could be    \u001b[2m            \u001b[0m\n",
       "\u001b[2;36m                    \u001b[0m         accepted by `\u001b[1;35msupervision.Detection.from_inference\u001b[0m\u001b[1m(\u001b[0m\u001b[33m...\u001b[0m\u001b[1m)\u001b[0m                    \u001b[2m            \u001b[0m\n"
      ]
     },
     "metadata": {},
     "output_type": "display_data"
    },
    {
     "name": "stdout",
     "output_type": "stream",
     "text": [
      "0: 384x640 1 person, 537.5ms\n",
      "Speed: 2.0ms preprocess, 537.5ms inference, 0.8ms postprocess per image at shape (1, 3, 384, 640)\n",
      "Predictions made: [{'boxes': [[311.6809997558594, 174.616455078125, 992.3162841796875, 711.430908203125]], 'scores': [0.9573934674263], 'class_indices': [0.0]}]\n",
      "Video frames: 1\n",
      "\n"
     ]
    },
    {
     "data": {
      "text/html": [
       "<pre style=\"white-space:pre;overflow-x:auto;line-height:normal;font-family:Menlo,'DejaVu Sans Mono',consolas,'Courier New',monospace\"><span style=\"color: #7fbfbf; text-decoration-color: #7fbfbf\">                    </span><span style=\"color: #800000; text-decoration-color: #800000\">WARNING </span> Used `<span style=\"color: #800080; text-decoration-color: #800080; font-weight: bold\">render_boxes</span><span style=\"font-weight: bold\">(</span><span style=\"color: #808000; text-decoration-color: #808000\">...</span><span style=\"font-weight: bold\">)</span>` sink, but predictions that were provided do not  <a href=\"file:///Users/saadia/Documents/DevIA_2024/coding_projects/ShiFuMi_computerVision/venv/lib/python3.9/site-packages/inference/core/interfaces/stream/sinks.py\" target=\"_blank\"><span style=\"color: #7f7f7f; text-decoration-color: #7f7f7f\">sinks.py</span></a><span style=\"color: #7f7f7f; text-decoration-color: #7f7f7f\">:</span><a href=\"file:///Users/saadia/Documents/DevIA_2024/coding_projects/ShiFuMi_computerVision/venv/lib/python3.9/site-packages/inference/core/interfaces/stream/sinks.py#176\" target=\"_blank\"><span style=\"color: #7f7f7f; text-decoration-color: #7f7f7f\">176</span></a>\n",
       "<span style=\"color: #7fbfbf; text-decoration-color: #7fbfbf\">                    </span>         match the expected format of object detection prediction that could be    <span style=\"color: #7f7f7f; text-decoration-color: #7f7f7f\">            </span>\n",
       "<span style=\"color: #7fbfbf; text-decoration-color: #7fbfbf\">                    </span>         accepted by `<span style=\"color: #800080; text-decoration-color: #800080; font-weight: bold\">supervision.Detection.from_inference</span><span style=\"font-weight: bold\">(</span><span style=\"color: #808000; text-decoration-color: #808000\">...</span><span style=\"font-weight: bold\">)</span>                    <span style=\"color: #7f7f7f; text-decoration-color: #7f7f7f\">            </span>\n",
       "</pre>\n"
      ],
      "text/plain": [
       "\u001b[2;36m                   \u001b[0m\u001b[2;36m \u001b[0m\u001b[31mWARNING \u001b[0m Used `\u001b[1;35mrender_boxes\u001b[0m\u001b[1m(\u001b[0m\u001b[33m...\u001b[0m\u001b[1m)\u001b[0m` sink, but predictions that were provided do not  \u001b]8;id=160174;file:///Users/saadia/Documents/DevIA_2024/coding_projects/ShiFuMi_computerVision/venv/lib/python3.9/site-packages/inference/core/interfaces/stream/sinks.py\u001b\\\u001b[2msinks.py\u001b[0m\u001b]8;;\u001b\\\u001b[2m:\u001b[0m\u001b]8;id=576871;file:///Users/saadia/Documents/DevIA_2024/coding_projects/ShiFuMi_computerVision/venv/lib/python3.9/site-packages/inference/core/interfaces/stream/sinks.py#176\u001b\\\u001b[2m176\u001b[0m\u001b]8;;\u001b\\\n",
       "\u001b[2;36m                    \u001b[0m         match the expected format of object detection prediction that could be    \u001b[2m            \u001b[0m\n",
       "\u001b[2;36m                    \u001b[0m         accepted by `\u001b[1;35msupervision.Detection.from_inference\u001b[0m\u001b[1m(\u001b[0m\u001b[33m...\u001b[0m\u001b[1m)\u001b[0m                    \u001b[2m            \u001b[0m\n"
      ]
     },
     "metadata": {},
     "output_type": "display_data"
    },
    {
     "name": "stdout",
     "output_type": "stream",
     "text": [
      "0: 384x640 1 person, 508.2ms\n",
      "Speed: 1.9ms preprocess, 508.2ms inference, 0.6ms postprocess per image at shape (1, 3, 384, 640)\n",
      "Predictions made: [{'boxes': [[314.4383544921875, 173.0677490234375, 992.905029296875, 711.6725463867188]], 'scores': [0.9584246873855591], 'class_indices': [0.0]}]\n",
      "Video frames: 1\n",
      "\n"
     ]
    },
    {
     "data": {
      "text/html": [
       "<pre style=\"white-space:pre;overflow-x:auto;line-height:normal;font-family:Menlo,'DejaVu Sans Mono',consolas,'Courier New',monospace\"><span style=\"color: #7fbfbf; text-decoration-color: #7fbfbf\">[06/28/24 11:29:48] </span><span style=\"color: #800000; text-decoration-color: #800000\">WARNING </span> Used `<span style=\"color: #800080; text-decoration-color: #800080; font-weight: bold\">render_boxes</span><span style=\"font-weight: bold\">(</span><span style=\"color: #808000; text-decoration-color: #808000\">...</span><span style=\"font-weight: bold\">)</span>` sink, but predictions that were provided do not  <a href=\"file:///Users/saadia/Documents/DevIA_2024/coding_projects/ShiFuMi_computerVision/venv/lib/python3.9/site-packages/inference/core/interfaces/stream/sinks.py\" target=\"_blank\"><span style=\"color: #7f7f7f; text-decoration-color: #7f7f7f\">sinks.py</span></a><span style=\"color: #7f7f7f; text-decoration-color: #7f7f7f\">:</span><a href=\"file:///Users/saadia/Documents/DevIA_2024/coding_projects/ShiFuMi_computerVision/venv/lib/python3.9/site-packages/inference/core/interfaces/stream/sinks.py#176\" target=\"_blank\"><span style=\"color: #7f7f7f; text-decoration-color: #7f7f7f\">176</span></a>\n",
       "<span style=\"color: #7fbfbf; text-decoration-color: #7fbfbf\">                    </span>         match the expected format of object detection prediction that could be    <span style=\"color: #7f7f7f; text-decoration-color: #7f7f7f\">            </span>\n",
       "<span style=\"color: #7fbfbf; text-decoration-color: #7fbfbf\">                    </span>         accepted by `<span style=\"color: #800080; text-decoration-color: #800080; font-weight: bold\">supervision.Detection.from_inference</span><span style=\"font-weight: bold\">(</span><span style=\"color: #808000; text-decoration-color: #808000\">...</span><span style=\"font-weight: bold\">)</span>                    <span style=\"color: #7f7f7f; text-decoration-color: #7f7f7f\">            </span>\n",
       "</pre>\n"
      ],
      "text/plain": [
       "\u001b[2;36m[06/28/24 11:29:48]\u001b[0m\u001b[2;36m \u001b[0m\u001b[31mWARNING \u001b[0m Used `\u001b[1;35mrender_boxes\u001b[0m\u001b[1m(\u001b[0m\u001b[33m...\u001b[0m\u001b[1m)\u001b[0m` sink, but predictions that were provided do not  \u001b]8;id=705382;file:///Users/saadia/Documents/DevIA_2024/coding_projects/ShiFuMi_computerVision/venv/lib/python3.9/site-packages/inference/core/interfaces/stream/sinks.py\u001b\\\u001b[2msinks.py\u001b[0m\u001b]8;;\u001b\\\u001b[2m:\u001b[0m\u001b]8;id=476476;file:///Users/saadia/Documents/DevIA_2024/coding_projects/ShiFuMi_computerVision/venv/lib/python3.9/site-packages/inference/core/interfaces/stream/sinks.py#176\u001b\\\u001b[2m176\u001b[0m\u001b]8;;\u001b\\\n",
       "\u001b[2;36m                    \u001b[0m         match the expected format of object detection prediction that could be    \u001b[2m            \u001b[0m\n",
       "\u001b[2;36m                    \u001b[0m         accepted by `\u001b[1;35msupervision.Detection.from_inference\u001b[0m\u001b[1m(\u001b[0m\u001b[33m...\u001b[0m\u001b[1m)\u001b[0m                    \u001b[2m            \u001b[0m\n"
      ]
     },
     "metadata": {},
     "output_type": "display_data"
    },
    {
     "ename": "KeyboardInterrupt",
     "evalue": "",
     "output_type": "error",
     "traceback": [
      "\u001b[0;31m---------------------------------------------------------------------------\u001b[0m",
      "\u001b[0;31mKeyboardInterrupt\u001b[0m                         Traceback (most recent call last)",
      "Cell \u001b[0;32mIn[1], line 71\u001b[0m\n\u001b[1;32m     64\u001b[0m my_model \u001b[38;5;241m=\u001b[39m MyModel(\u001b[38;5;124m\"\u001b[39m\u001b[38;5;124m../shifumi_trained.pt\u001b[39m\u001b[38;5;124m\"\u001b[39m)\n\u001b[1;32m     65\u001b[0m pipeline \u001b[38;5;241m=\u001b[39m InferencePipeline\u001b[38;5;241m.\u001b[39minit_with_custom_logic(\n\u001b[1;32m     66\u001b[0m     on_video_frame\u001b[38;5;241m=\u001b[39mmy_model\u001b[38;5;241m.\u001b[39minfer,\n\u001b[1;32m     67\u001b[0m     video_reference\u001b[38;5;241m=\u001b[39m\u001b[38;5;241m0\u001b[39m,  \u001b[38;5;66;03m# Ensure this is the correct device ID for your webcam\u001b[39;00m\n\u001b[1;32m     68\u001b[0m     on_prediction\u001b[38;5;241m=\u001b[39mrender_boxes,  \u001b[38;5;66;03m# Function to run after each prediction\u001b[39;00m\n\u001b[1;32m     69\u001b[0m )\n\u001b[0;32m---> 71\u001b[0m \u001b[43mpipeline\u001b[49m\u001b[38;5;241;43m.\u001b[39;49m\u001b[43mstart\u001b[49m\u001b[43m(\u001b[49m\u001b[43m)\u001b[49m\n\u001b[1;32m     72\u001b[0m pipeline\u001b[38;5;241m.\u001b[39mjoin()\n",
      "File \u001b[0;32m~/Documents/DevIA_2024/coding_projects/ShiFuMi_computerVision/venv/lib/python3.9/site-packages/inference/core/interfaces/stream/inference_pipeline.py:747\u001b[0m, in \u001b[0;36mInferencePipeline.start\u001b[0;34m(self, use_main_thread)\u001b[0m\n\u001b[1;32m    745\u001b[0m     \u001b[38;5;28mself\u001b[39m\u001b[38;5;241m.\u001b[39m_on_pipeline_start()\n\u001b[1;32m    746\u001b[0m \u001b[38;5;28;01mif\u001b[39;00m use_main_thread:\n\u001b[0;32m--> 747\u001b[0m     \u001b[38;5;28;43mself\u001b[39;49m\u001b[38;5;241;43m.\u001b[39;49m\u001b[43m_dispatch_inference_results\u001b[49m\u001b[43m(\u001b[49m\u001b[43m)\u001b[49m\n\u001b[1;32m    748\u001b[0m \u001b[38;5;28;01melse\u001b[39;00m:\n\u001b[1;32m    749\u001b[0m     \u001b[38;5;28mself\u001b[39m\u001b[38;5;241m.\u001b[39m_dispatching_thread \u001b[38;5;241m=\u001b[39m Thread(target\u001b[38;5;241m=\u001b[39m\u001b[38;5;28mself\u001b[39m\u001b[38;5;241m.\u001b[39m_dispatch_inference_results)\n",
      "File \u001b[0;32m~/Documents/DevIA_2024/coding_projects/ShiFuMi_computerVision/venv/lib/python3.9/site-packages/inference/core/interfaces/stream/inference_pipeline.py:838\u001b[0m, in \u001b[0;36mInferencePipeline._dispatch_inference_results\u001b[0;34m(self)\u001b[0m\n\u001b[1;32m    834\u001b[0m \u001b[38;5;28;01mdef\u001b[39;00m \u001b[38;5;21m_dispatch_inference_results\u001b[39m(\u001b[38;5;28mself\u001b[39m) \u001b[38;5;241m-\u001b[39m\u001b[38;5;241m>\u001b[39m \u001b[38;5;28;01mNone\u001b[39;00m:\n\u001b[1;32m    835\u001b[0m     \u001b[38;5;28;01mwhile\u001b[39;00m \u001b[38;5;28;01mTrue\u001b[39;00m:\n\u001b[1;32m    836\u001b[0m         inference_results: Optional[\n\u001b[1;32m    837\u001b[0m             Tuple[List[AnyPrediction], List[VideoFrame]]\n\u001b[0;32m--> 838\u001b[0m         ] \u001b[38;5;241m=\u001b[39m \u001b[38;5;28;43mself\u001b[39;49m\u001b[38;5;241;43m.\u001b[39;49m\u001b[43m_predictions_queue\u001b[49m\u001b[38;5;241;43m.\u001b[39;49m\u001b[43mget\u001b[49m\u001b[43m(\u001b[49m\u001b[43m)\u001b[49m\n\u001b[1;32m    839\u001b[0m         \u001b[38;5;28;01mif\u001b[39;00m inference_results \u001b[38;5;129;01mis\u001b[39;00m \u001b[38;5;28;01mNone\u001b[39;00m:\n\u001b[1;32m    840\u001b[0m             \u001b[38;5;28mself\u001b[39m\u001b[38;5;241m.\u001b[39m_predictions_queue\u001b[38;5;241m.\u001b[39mtask_done()\n",
      "File \u001b[0;32m/Library/Developer/CommandLineTools/Library/Frameworks/Python3.framework/Versions/3.9/lib/python3.9/queue.py:171\u001b[0m, in \u001b[0;36mQueue.get\u001b[0;34m(self, block, timeout)\u001b[0m\n\u001b[1;32m    169\u001b[0m \u001b[38;5;28;01melif\u001b[39;00m timeout \u001b[38;5;129;01mis\u001b[39;00m \u001b[38;5;28;01mNone\u001b[39;00m:\n\u001b[1;32m    170\u001b[0m     \u001b[38;5;28;01mwhile\u001b[39;00m \u001b[38;5;129;01mnot\u001b[39;00m \u001b[38;5;28mself\u001b[39m\u001b[38;5;241m.\u001b[39m_qsize():\n\u001b[0;32m--> 171\u001b[0m         \u001b[38;5;28;43mself\u001b[39;49m\u001b[38;5;241;43m.\u001b[39;49m\u001b[43mnot_empty\u001b[49m\u001b[38;5;241;43m.\u001b[39;49m\u001b[43mwait\u001b[49m\u001b[43m(\u001b[49m\u001b[43m)\u001b[49m\n\u001b[1;32m    172\u001b[0m \u001b[38;5;28;01melif\u001b[39;00m timeout \u001b[38;5;241m<\u001b[39m \u001b[38;5;241m0\u001b[39m:\n\u001b[1;32m    173\u001b[0m     \u001b[38;5;28;01mraise\u001b[39;00m \u001b[38;5;167;01mValueError\u001b[39;00m(\u001b[38;5;124m\"\u001b[39m\u001b[38;5;124m'\u001b[39m\u001b[38;5;124mtimeout\u001b[39m\u001b[38;5;124m'\u001b[39m\u001b[38;5;124m must be a non-negative number\u001b[39m\u001b[38;5;124m\"\u001b[39m)\n",
      "File \u001b[0;32m/Library/Developer/CommandLineTools/Library/Frameworks/Python3.framework/Versions/3.9/lib/python3.9/threading.py:312\u001b[0m, in \u001b[0;36mCondition.wait\u001b[0;34m(self, timeout)\u001b[0m\n\u001b[1;32m    310\u001b[0m \u001b[38;5;28;01mtry\u001b[39;00m:    \u001b[38;5;66;03m# restore state no matter what (e.g., KeyboardInterrupt)\u001b[39;00m\n\u001b[1;32m    311\u001b[0m     \u001b[38;5;28;01mif\u001b[39;00m timeout \u001b[38;5;129;01mis\u001b[39;00m \u001b[38;5;28;01mNone\u001b[39;00m:\n\u001b[0;32m--> 312\u001b[0m         \u001b[43mwaiter\u001b[49m\u001b[38;5;241;43m.\u001b[39;49m\u001b[43macquire\u001b[49m\u001b[43m(\u001b[49m\u001b[43m)\u001b[49m\n\u001b[1;32m    313\u001b[0m         gotit \u001b[38;5;241m=\u001b[39m \u001b[38;5;28;01mTrue\u001b[39;00m\n\u001b[1;32m    314\u001b[0m     \u001b[38;5;28;01melse\u001b[39;00m:\n",
      "\u001b[0;31mKeyboardInterrupt\u001b[0m: "
     ]
    },
    {
     "name": "stdout",
     "output_type": "stream",
     "text": [
      "0: 384x640 1 person, 689.4ms\n",
      "Speed: 2.2ms preprocess, 689.4ms inference, 0.7ms postprocess per image at shape (1, 3, 384, 640)\n",
      "Predictions made: [{'boxes': [[316.673828125, 172.3680419921875, 993.9781494140625, 711.6966552734375]], 'scores': [0.9577639102935791], 'class_indices': [0.0]}]\n",
      "Video frames: 1\n",
      "\n",
      "0: 384x640 1 person, 504.7ms\n",
      "Speed: 2.3ms preprocess, 504.7ms inference, 0.6ms postprocess per image at shape (1, 3, 384, 640)\n",
      "Predictions made: [{'boxes': [[316.6331787109375, 172.14727783203125, 994.423583984375, 711.9906005859375]], 'scores': [0.9573447704315186], 'class_indices': [0.0]}]\n",
      "Video frames: 1\n",
      "\n",
      "0: 384x640 1 person, 1 toilet, 511.3ms\n",
      "Speed: 1.8ms preprocess, 511.3ms inference, 0.5ms postprocess per image at shape (1, 3, 384, 640)\n",
      "Predictions made: [{'boxes': [[317.3801574707031, 173.082763671875, 994.798095703125, 711.7730712890625], [101.35464477539062, 656.1139526367188, 270.4997253417969, 719.1968383789062]], 'scores': [0.9560822248458862, 0.26452329754829407], 'class_indices': [0.0, 61.0]}]\n",
      "Video frames: 1\n",
      "\n",
      "0: 384x640 1 person, 516.9ms\n",
      "Speed: 2.2ms preprocess, 516.9ms inference, 0.7ms postprocess per image at shape (1, 3, 384, 640)\n",
      "Predictions made: [{'boxes': [[314.551025390625, 171.48956298828125, 993.7691650390625, 711.8880615234375]], 'scores': [0.9566447138786316], 'class_indices': [0.0]}]\n",
      "Video frames: 1\n",
      "\n",
      "0: 384x640 1 person, 1 toilet, 512.7ms\n",
      "Speed: 4.2ms preprocess, 512.7ms inference, 0.7ms postprocess per image at shape (1, 3, 384, 640)\n",
      "Predictions made: [{'boxes': [[314.0611572265625, 170.44390869140625, 997.00634765625, 711.7364501953125], [98.76129150390625, 655.556396484375, 270.0380859375, 719.077392578125]], 'scores': [0.956940770149231, 0.25854477286338806], 'class_indices': [0.0, 61.0]}]\n",
      "Video frames: 1\n",
      "\n",
      "0: 384x640 1 person, 1 toilet, 471.6ms\n",
      "Speed: 1.8ms preprocess, 471.6ms inference, 0.6ms postprocess per image at shape (1, 3, 384, 640)\n",
      "Predictions made: [{'boxes': [[312.0313720703125, 171.082275390625, 997.1201171875, 711.7559204101562], [99.20062255859375, 655.88525390625, 269.9118957519531, 718.88623046875]], 'scores': [0.9574164152145386, 0.27617374062538147], 'class_indices': [0.0, 61.0]}]\n",
      "Video frames: 1\n",
      "\n",
      "0: 384x640 1 person, 475.2ms\n",
      "Speed: 1.7ms preprocess, 475.2ms inference, 0.3ms postprocess per image at shape (1, 3, 384, 640)\n",
      "Predictions made: [{'boxes': [[314.8839111328125, 171.880859375, 995.4520263671875, 711.4383544921875]], 'scores': [0.9576484560966492], 'class_indices': [0.0]}]\n",
      "Video frames: 1\n",
      "\n",
      "0: 384x640 1 person, 1 toilet, 473.9ms\n",
      "Speed: 2.0ms preprocess, 473.9ms inference, 0.3ms postprocess per image at shape (1, 3, 384, 640)\n",
      "Predictions made: [{'boxes': [[316.572265625, 173.1591796875, 994.41943359375, 711.767822265625], [98.81621551513672, 654.6077880859375, 269.99603271484375, 719.1473388671875]], 'scores': [0.9577929377555847, 0.2695827782154083], 'class_indices': [0.0, 61.0]}]\n",
      "Video frames: 1\n",
      "\n",
      "0: 384x640 1 person, 1 toilet, 470.3ms\n",
      "Speed: 1.4ms preprocess, 470.3ms inference, 0.5ms postprocess per image at shape (1, 3, 384, 640)\n",
      "Predictions made: [{'boxes': [[317.1488342285156, 173.986572265625, 994.4068603515625, 711.6363525390625], [98.63980102539062, 655.468994140625, 269.85260009765625, 719.021240234375]], 'scores': [0.9577152729034424, 0.25839221477508545], 'class_indices': [0.0, 61.0]}]\n",
      "Video frames: 1\n",
      "\n",
      "0: 384x640 1 person, 468.0ms\n",
      "Speed: 1.3ms preprocess, 468.0ms inference, 0.9ms postprocess per image at shape (1, 3, 384, 640)\n",
      "Predictions made: [{'boxes': [[318.2256774902344, 173.8919677734375, 994.2569580078125, 711.7246704101562]], 'scores': [0.9567325711250305], 'class_indices': [0.0]}]\n",
      "Video frames: 1\n",
      "\n",
      "0: 384x640 1 person, 550.6ms\n",
      "Speed: 3.0ms preprocess, 550.6ms inference, 0.4ms postprocess per image at shape (1, 3, 384, 640)\n",
      "Predictions made: [{'boxes': [[317.6642761230469, 174.2716064453125, 995.542236328125, 711.79150390625]], 'scores': [0.956747829914093], 'class_indices': [0.0]}]\n",
      "Video frames: 1\n",
      "\n",
      "0: 384x640 1 person, 486.8ms\n",
      "Speed: 1.1ms preprocess, 486.8ms inference, 0.5ms postprocess per image at shape (1, 3, 384, 640)\n",
      "Predictions made: [{'boxes': [[318.00567626953125, 174.1998291015625, 996.1080932617188, 711.8189697265625]], 'scores': [0.9567055106163025], 'class_indices': [0.0]}]\n",
      "Video frames: 1\n",
      "\n",
      "0: 384x640 1 person, 1 toilet, 481.4ms\n",
      "Speed: 1.8ms preprocess, 481.4ms inference, 0.3ms postprocess per image at shape (1, 3, 384, 640)\n",
      "Predictions made: [{'boxes': [[316.8763732910156, 174.5614013671875, 995.9329833984375, 711.462158203125], [98.58136749267578, 655.5628662109375, 270.139404296875, 719.1727294921875]], 'scores': [0.9558420181274414, 0.3211456835269928], 'class_indices': [0.0, 61.0]}]\n",
      "Video frames: 1\n",
      "\n",
      "0: 384x640 1 person, 1 toilet, 465.6ms\n",
      "Speed: 1.6ms preprocess, 465.6ms inference, 0.3ms postprocess per image at shape (1, 3, 384, 640)\n",
      "Predictions made: [{'boxes': [[316.3945617675781, 175.2406005859375, 997.4443359375, 711.7633056640625], [98.92092895507812, 655.2115478515625, 270.28167724609375, 719.138671875]], 'scores': [0.9562565684318542, 0.26774850487709045], 'class_indices': [0.0, 61.0]}]\n",
      "Video frames: 1\n",
      "\n",
      "0: 384x640 1 person, 1 toilet, 465.6ms\n",
      "Speed: 1.6ms preprocess, 465.6ms inference, 0.3ms postprocess per image at shape (1, 3, 384, 640)\n",
      "Predictions made: [{'boxes': [[315.2464599609375, 176.50592041015625, 999.4898681640625, 711.8011474609375], [98.82492065429688, 655.0980224609375, 270.216796875, 719.1077880859375]], 'scores': [0.9580680131912231, 0.2673158645629883], 'class_indices': [0.0, 61.0]}]\n",
      "Video frames: 1\n",
      "\n",
      "0: 384x640 1 person, 468.9ms\n",
      "Speed: 1.7ms preprocess, 468.9ms inference, 0.6ms postprocess per image at shape (1, 3, 384, 640)\n",
      "Predictions made: [{'boxes': [[314.4822998046875, 175.6239013671875, 1000.7452392578125, 711.55859375]], 'scores': [0.9579042792320251], 'class_indices': [0.0]}]\n",
      "Video frames: 1\n",
      "\n",
      "0: 384x640 1 person, 504.7ms\n",
      "Speed: 1.6ms preprocess, 504.7ms inference, 1.1ms postprocess per image at shape (1, 3, 384, 640)\n",
      "Predictions made: [{'boxes': [[316.578369140625, 176.20416259765625, 999.976318359375, 711.7990112304688]], 'scores': [0.9574171900749207], 'class_indices': [0.0]}]\n",
      "Video frames: 1\n",
      "\n",
      "0: 384x640 1 person, 1 toilet, 602.6ms\n",
      "Speed: 2.3ms preprocess, 602.6ms inference, 0.8ms postprocess per image at shape (1, 3, 384, 640)\n",
      "Predictions made: [{'boxes': [[318.7200622558594, 175.3858642578125, 1000.1002197265625, 712.0616455078125], [97.991943359375, 654.5120849609375, 270.730712890625, 719.1478271484375]], 'scores': [0.9596619009971619, 0.29834941029548645], 'class_indices': [0.0, 61.0]}]\n",
      "Video frames: 1\n",
      "\n",
      "0: 384x640 1 person, 498.0ms\n",
      "Speed: 2.6ms preprocess, 498.0ms inference, 0.4ms postprocess per image at shape (1, 3, 384, 640)\n",
      "Predictions made: [{'boxes': [[320.3828125, 174.69110107421875, 1000.79296875, 712.1165771484375]], 'scores': [0.9590267539024353], 'class_indices': [0.0]}]\n",
      "Video frames: 1\n",
      "\n",
      "0: 384x640 1 person, 473.4ms\n",
      "Speed: 1.2ms preprocess, 473.4ms inference, 0.5ms postprocess per image at shape (1, 3, 384, 640)\n",
      "Predictions made: [{'boxes': [[320.8876647949219, 176.0010986328125, 1001.169677734375, 711.966064453125]], 'scores': [0.9578888416290283], 'class_indices': [0.0]}]\n",
      "Video frames: 1\n",
      "\n",
      "0: 384x640 1 person, 467.2ms\n",
      "Speed: 1.8ms preprocess, 467.2ms inference, 0.3ms postprocess per image at shape (1, 3, 384, 640)\n",
      "Predictions made: [{'boxes': [[321.9244079589844, 176.56573486328125, 1001.7769775390625, 711.9110107421875]], 'scores': [0.9570463299751282], 'class_indices': [0.0]}]\n",
      "Video frames: 1\n",
      "\n",
      "0: 384x640 1 person, 1 toilet, 490.5ms\n",
      "Speed: 1.8ms preprocess, 490.5ms inference, 0.4ms postprocess per image at shape (1, 3, 384, 640)\n",
      "Predictions made: [{'boxes': [[322.58935546875, 176.36688232421875, 1002.1334228515625, 711.8761596679688], [98.2677230834961, 655.361328125, 270.1492614746094, 718.9947509765625]], 'scores': [0.9601614475250244, 0.3107316195964813], 'class_indices': [0.0, 61.0]}]\n",
      "Video frames: 1\n",
      "\n",
      "0: 384x640 1 person, 519.6ms\n",
      "Speed: 1.5ms preprocess, 519.6ms inference, 0.6ms postprocess per image at shape (1, 3, 384, 640)\n",
      "Predictions made: [{'boxes': [[321.7561950683594, 177.9957275390625, 1003.1944580078125, 711.94677734375]], 'scores': [0.9604042768478394], 'class_indices': [0.0]}]\n",
      "Video frames: 1\n",
      "\n",
      "0: 384x640 1 person, 1 toilet, 553.1ms\n",
      "Speed: 1.4ms preprocess, 553.1ms inference, 0.8ms postprocess per image at shape (1, 3, 384, 640)\n",
      "Predictions made: [{'boxes': [[321.848876953125, 174.4766845703125, 1008.7919921875, 711.95166015625], [101.11819458007812, 655.8856201171875, 270.6551818847656, 719.1478271484375]], 'scores': [0.9586348533630371, 0.31677451729774475], 'class_indices': [0.0, 61.0]}]\n",
      "Video frames: 1\n",
      "\n",
      "0: 384x640 1 person, 484.5ms\n",
      "Speed: 1.5ms preprocess, 484.5ms inference, 0.5ms postprocess per image at shape (1, 3, 384, 640)\n",
      "Predictions made: [{'boxes': [[319.9690856933594, 177.18267822265625, 1008.8172607421875, 711.7208251953125]], 'scores': [0.9589149355888367], 'class_indices': [0.0]}]\n",
      "Video frames: 1\n",
      "\n",
      "0: 384x640 1 person, 526.5ms\n",
      "Speed: 1.5ms preprocess, 526.5ms inference, 0.5ms postprocess per image at shape (1, 3, 384, 640)\n",
      "Predictions made: [{'boxes': [[325.19085693359375, 175.10980224609375, 1009.7374877929688, 711.4862670898438]], 'scores': [0.9592997431755066], 'class_indices': [0.0]}]\n",
      "Video frames: 1\n",
      "\n",
      "0: 384x640 1 person, 1 toilet, 491.5ms\n",
      "Speed: 1.2ms preprocess, 491.5ms inference, 0.3ms postprocess per image at shape (1, 3, 384, 640)\n",
      "Predictions made: [{'boxes': [[327.3539733886719, 176.066162109375, 1008.34130859375, 711.8956298828125], [98.59224700927734, 655.8926391601562, 269.9836120605469, 718.9906616210938]], 'scores': [0.9581848978996277, 0.28002360463142395], 'class_indices': [0.0, 61.0]}]\n",
      "Video frames: 1\n",
      "\n",
      "0: 384x640 1 person, 1 toilet, 484.9ms\n",
      "Speed: 1.5ms preprocess, 484.9ms inference, 0.4ms postprocess per image at shape (1, 3, 384, 640)\n",
      "Predictions made: [{'boxes': [[328.7689514160156, 176.91064453125, 1007.3609619140625, 711.6563720703125], [98.81988525390625, 655.299560546875, 270.03546142578125, 719.1484375]], 'scores': [0.9585192799568176, 0.28605225682258606], 'class_indices': [0.0, 61.0]}]\n",
      "Video frames: 1\n",
      "\n",
      "0: 384x640 1 person, 1 toilet, 502.2ms\n",
      "Speed: 1.4ms preprocess, 502.2ms inference, 0.5ms postprocess per image at shape (1, 3, 384, 640)\n",
      "Predictions made: [{'boxes': [[329.1334533691406, 176.66387939453125, 1007.5914306640625, 711.63037109375], [98.70462036132812, 655.339111328125, 270.0041198730469, 719.1439208984375]], 'scores': [0.9559516906738281, 0.3591390550136566], 'class_indices': [0.0, 61.0]}]\n",
      "Video frames: 1\n",
      "\n"
     ]
    }
   ],
   "source": [
    "from typing import Any, List\n",
    "from ultralytics import YOLO\n",
    "from inference import InferencePipeline\n",
    "from inference.core.interfaces.stream.sinks import render_boxes\n",
    "from inference.core.interfaces.camera.entities import VideoFrame\n",
    "import torch\n",
    "import numpy as np\n",
    "\n",
    "class MyModel:\n",
    "\n",
    "    def __init__(self, weights_path: str):\n",
    "        # Load the YOLO model\n",
    "        self._model = YOLO(weights_path)\n",
    "        print(\"Modèle chargé avec succès\")\n",
    "\n",
    "    def infer(self, video_frames: List[VideoFrame]) -> List[Any]:\n",
    "        print('Video frames:', len(video_frames))\n",
    "        \n",
    "        # Convert the list of images to the format expected by YOLO\n",
    "        images = [v.image for v in video_frames]\n",
    "\n",
    "        # Convert images to numpy arrays\n",
    "        images_np = [np.array(img) for img in images]\n",
    "\n",
    "        # Make predictions\n",
    "        results = self._model(images_np)\n",
    "\n",
    "        # Extract the necessary data from results\n",
    "        predictions = []\n",
    "        for result in results:\n",
    "            boxes = result.boxes.xyxy.tolist() if result.boxes else []\n",
    "            scores = result.boxes.conf.tolist() if result.boxes else []\n",
    "            class_indices = result.boxes.cls.tolist() if result.boxes else []\n",
    "            \n",
    "            # Create a dictionary  for each prediction\n",
    "            prediction = {\n",
    "                'boxes': boxes,\n",
    "                'scores': scores,\n",
    "                'class_indices': class_indices\n",
    "            }\n",
    "            predictions.append(prediction)\n",
    "\n",
    "        print(\"Predictions made:\", predictions)\n",
    "        return predictions\n",
    "        # for result in results:\n",
    "        #     if hasattr(result, 'boxes') and hasattr(result, 'scores') and hasattr(result, 'class_indices'):\n",
    "        #         boxes = result.boxes.xyxy.tolist()  # Assuming xyxy format, adjust if necessary\n",
    "        #         scores = result.scores.tolist()\n",
    "        #         class_indices = result.class_indices.tolist()\n",
    "                \n",
    "        #         # Create a dictionary for each prediction\n",
    "        #         prediction = {\n",
    "        #             'boxes': boxes,\n",
    "        #             'scores': scores,\n",
    "        #             'class_indices': class_indices\n",
    "        #         }\n",
    "        #         predictions.append(prediction)\n",
    "        #     else:\n",
    "        #         print(\"Unexpected result format:\", result)\n",
    "\n",
    "        # print(\"Predictions made:\", predictions)\n",
    "        # return predictions\n",
    "\n",
    "my_model = MyModel(\"../shifumi_trained.pt\")\n",
    "pipeline = InferencePipeline.init_with_custom_logic(\n",
    "    on_video_frame=my_model.infer,\n",
    "    video_reference=0,  # Ensure this is the correct device ID for your webcam\n",
    "    on_prediction=render_boxes,  # Function to run after each prediction\n",
    ")\n",
    "\n",
    "pipeline.start()\n",
    "pipeline.join()"
   ]
  }
 ],
 "metadata": {
  "kernelspec": {
   "display_name": "Python 3",
   "language": "python",
   "name": "python3"
  },
  "language_info": {
   "codemirror_mode": {
    "name": "ipython",
    "version": 3
   },
   "file_extension": ".py",
   "mimetype": "text/x-python",
   "name": "python",
   "nbconvert_exporter": "python",
   "pygments_lexer": "ipython3",
   "version": "3.9.6"
  }
 },
 "nbformat": 4,
 "nbformat_minor": 2
}
