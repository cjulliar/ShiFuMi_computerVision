{
 "cells": [
  {
   "cell_type": "code",
   "execution_count": 1,
   "metadata": {},
   "outputs": [],
   "source": [
    "from typing import Any, List\n",
    "from ultralytics import YOLO\n",
    "from inference import InferencePipeline\n",
    "from inference.core.interfaces.stream.sinks import render_boxes\n",
    "from inference.core.interfaces.camera.entities import VideoFrame\n",
    "import numpy as np\n",
    "import cv2"
   ]
  },
  {
   "cell_type": "code",
   "execution_count": null,
   "metadata": {},
   "outputs": [
    {
     "name": "stdout",
     "output_type": "stream",
     "text": [
      "WARNING ⚠️ Unable to automatically guess model task, assuming 'task=detect'. Explicitly define task for your model, i.e. 'task=detect', 'segment', 'classify','pose' or 'obb'.\n",
      "Modèle chargé avec succès\n",
      "Video frames: 1\n",
      "Loading ../models/shifumi_trained_yolo9t.torchscript for TorchScript inference...\n",
      "\n",
      "0: 640x640 (no detections), 399.3ms\n",
      "Speed: 3.7ms preprocess, 399.3ms inference, 0.6ms postprocess per image at shape (1, 3, 640, 640)\n",
      "Video frames: 1\n",
      "\n"
     ]
    },
    {
     "data": {
      "text/html": [
       "<pre style=\"white-space:pre;overflow-x:auto;line-height:normal;font-family:Menlo,'DejaVu Sans Mono',consolas,'Courier New',monospace\"><span style=\"color: #7fbfbf; text-decoration-color: #7fbfbf\">[07/01/24 12:07:40] </span><span style=\"color: #800000; text-decoration-color: #800000\">WARNING </span> Error in results dispatching - <span style=\"color: #800080; text-decoration-color: #800080; font-weight: bold\">render_boxes_on_frame</span><span style=\"font-weight: bold\">()</span> takes <a href=\"file:///Users/saadia/Documents/DevIA_2024/ShiFuMi_computerVision/venv/lib/python3.9/site-packages/inference/core/interfaces/stream/inference_pipeline.py\" target=\"_blank\"><span style=\"color: #7f7f7f; text-decoration-color: #7f7f7f\">inference_pipeline.py</span></a><span style=\"color: #7f7f7f; text-decoration-color: #7f7f7f\">:</span><a href=\"file:///Users/saadia/Documents/DevIA_2024/ShiFuMi_computerVision/venv/lib/python3.9/site-packages/inference/core/interfaces/stream/inference_pipeline.py#907\" target=\"_blank\"><span style=\"color: #7f7f7f; text-decoration-color: #7f7f7f\">907</span></a>\n",
       "<span style=\"color: #7fbfbf; text-decoration-color: #7fbfbf\">                    </span>         <span style=\"color: #008080; text-decoration-color: #008080; font-weight: bold\">1</span> positional argument but <span style=\"color: #008080; text-decoration-color: #008080; font-weight: bold\">2</span> were given                       <span style=\"color: #7f7f7f; text-decoration-color: #7f7f7f\">                         </span>\n",
       "</pre>\n"
      ],
      "text/plain": [
       "\u001b[2;36m[07/01/24 12:07:40]\u001b[0m\u001b[2;36m \u001b[0m\u001b[31mWARNING \u001b[0m Error in results dispatching - \u001b[1;35mrender_boxes_on_frame\u001b[0m\u001b[1m(\u001b[0m\u001b[1m)\u001b[0m takes \u001b]8;id=43604;file:///Users/saadia/Documents/DevIA_2024/ShiFuMi_computerVision/venv/lib/python3.9/site-packages/inference/core/interfaces/stream/inference_pipeline.py\u001b\\\u001b[2minference_pipeline.py\u001b[0m\u001b]8;;\u001b\\\u001b[2m:\u001b[0m\u001b]8;id=301955;file:///Users/saadia/Documents/DevIA_2024/ShiFuMi_computerVision/venv/lib/python3.9/site-packages/inference/core/interfaces/stream/inference_pipeline.py#907\u001b\\\u001b[2m907\u001b[0m\u001b]8;;\u001b\\\n",
       "\u001b[2;36m                    \u001b[0m         \u001b[1;36m1\u001b[0m positional argument but \u001b[1;36m2\u001b[0m were given                       \u001b[2m                         \u001b[0m\n"
      ]
     },
     "metadata": {},
     "output_type": "display_data"
    },
    {
     "name": "stdout",
     "output_type": "stream",
     "text": [
      "0: 640x640 (no detections), 255.5ms\n",
      "Speed: 2.9ms preprocess, 255.5ms inference, 0.3ms postprocess per image at shape (1, 3, 640, 640)\n",
      "Video frames: 1\n",
      "\n"
     ]
    },
    {
     "data": {
      "text/html": [
       "<pre style=\"white-space:pre;overflow-x:auto;line-height:normal;font-family:Menlo,'DejaVu Sans Mono',consolas,'Courier New',monospace\"><span style=\"color: #7fbfbf; text-decoration-color: #7fbfbf\">[07/01/24 12:07:41] </span><span style=\"color: #800000; text-decoration-color: #800000\">WARNING </span> Error in results dispatching - <span style=\"color: #800080; text-decoration-color: #800080; font-weight: bold\">render_boxes_on_frame</span><span style=\"font-weight: bold\">()</span> takes <a href=\"file:///Users/saadia/Documents/DevIA_2024/ShiFuMi_computerVision/venv/lib/python3.9/site-packages/inference/core/interfaces/stream/inference_pipeline.py\" target=\"_blank\"><span style=\"color: #7f7f7f; text-decoration-color: #7f7f7f\">inference_pipeline.py</span></a><span style=\"color: #7f7f7f; text-decoration-color: #7f7f7f\">:</span><a href=\"file:///Users/saadia/Documents/DevIA_2024/ShiFuMi_computerVision/venv/lib/python3.9/site-packages/inference/core/interfaces/stream/inference_pipeline.py#907\" target=\"_blank\"><span style=\"color: #7f7f7f; text-decoration-color: #7f7f7f\">907</span></a>\n",
       "<span style=\"color: #7fbfbf; text-decoration-color: #7fbfbf\">                    </span>         <span style=\"color: #008080; text-decoration-color: #008080; font-weight: bold\">1</span> positional argument but <span style=\"color: #008080; text-decoration-color: #008080; font-weight: bold\">2</span> were given                       <span style=\"color: #7f7f7f; text-decoration-color: #7f7f7f\">                         </span>\n",
       "</pre>\n"
      ],
      "text/plain": [
       "\u001b[2;36m[07/01/24 12:07:41]\u001b[0m\u001b[2;36m \u001b[0m\u001b[31mWARNING \u001b[0m Error in results dispatching - \u001b[1;35mrender_boxes_on_frame\u001b[0m\u001b[1m(\u001b[0m\u001b[1m)\u001b[0m takes \u001b]8;id=965761;file:///Users/saadia/Documents/DevIA_2024/ShiFuMi_computerVision/venv/lib/python3.9/site-packages/inference/core/interfaces/stream/inference_pipeline.py\u001b\\\u001b[2minference_pipeline.py\u001b[0m\u001b]8;;\u001b\\\u001b[2m:\u001b[0m\u001b]8;id=685242;file:///Users/saadia/Documents/DevIA_2024/ShiFuMi_computerVision/venv/lib/python3.9/site-packages/inference/core/interfaces/stream/inference_pipeline.py#907\u001b\\\u001b[2m907\u001b[0m\u001b]8;;\u001b\\\n",
       "\u001b[2;36m                    \u001b[0m         \u001b[1;36m1\u001b[0m positional argument but \u001b[1;36m2\u001b[0m were given                       \u001b[2m                         \u001b[0m\n"
      ]
     },
     "metadata": {},
     "output_type": "display_data"
    },
    {
     "name": "stdout",
     "output_type": "stream",
     "text": [
      "0: 640x640 (no detections), 155.7ms\n",
      "Speed: 2.0ms preprocess, 155.7ms inference, 0.4ms postprocess per image at shape (1, 3, 640, 640)\n"
     ]
    },
    {
     "data": {
      "text/html": [
       "<pre style=\"white-space:pre;overflow-x:auto;line-height:normal;font-family:Menlo,'DejaVu Sans Mono',consolas,'Courier New',monospace\"><span style=\"color: #7fbfbf; text-decoration-color: #7fbfbf\">                    </span><span style=\"color: #800000; text-decoration-color: #800000\">WARNING </span> Error in results dispatching - <span style=\"color: #800080; text-decoration-color: #800080; font-weight: bold\">render_boxes_on_frame</span><span style=\"font-weight: bold\">()</span> takes <a href=\"file:///Users/saadia/Documents/DevIA_2024/ShiFuMi_computerVision/venv/lib/python3.9/site-packages/inference/core/interfaces/stream/inference_pipeline.py\" target=\"_blank\"><span style=\"color: #7f7f7f; text-decoration-color: #7f7f7f\">inference_pipeline.py</span></a><span style=\"color: #7f7f7f; text-decoration-color: #7f7f7f\">:</span><a href=\"file:///Users/saadia/Documents/DevIA_2024/ShiFuMi_computerVision/venv/lib/python3.9/site-packages/inference/core/interfaces/stream/inference_pipeline.py#907\" target=\"_blank\"><span style=\"color: #7f7f7f; text-decoration-color: #7f7f7f\">907</span></a>\n",
       "<span style=\"color: #7fbfbf; text-decoration-color: #7fbfbf\">                    </span>         <span style=\"color: #008080; text-decoration-color: #008080; font-weight: bold\">1</span> positional argument but <span style=\"color: #008080; text-decoration-color: #008080; font-weight: bold\">2</span> were given                       <span style=\"color: #7f7f7f; text-decoration-color: #7f7f7f\">                         </span>\n",
       "</pre>\n"
      ],
      "text/plain": [
       "\u001b[2;36m                   \u001b[0m\u001b[2;36m \u001b[0m\u001b[31mWARNING \u001b[0m Error in results dispatching - \u001b[1;35mrender_boxes_on_frame\u001b[0m\u001b[1m(\u001b[0m\u001b[1m)\u001b[0m takes \u001b]8;id=148748;file:///Users/saadia/Documents/DevIA_2024/ShiFuMi_computerVision/venv/lib/python3.9/site-packages/inference/core/interfaces/stream/inference_pipeline.py\u001b\\\u001b[2minference_pipeline.py\u001b[0m\u001b]8;;\u001b\\\u001b[2m:\u001b[0m\u001b]8;id=673865;file:///Users/saadia/Documents/DevIA_2024/ShiFuMi_computerVision/venv/lib/python3.9/site-packages/inference/core/interfaces/stream/inference_pipeline.py#907\u001b\\\u001b[2m907\u001b[0m\u001b]8;;\u001b\\\n",
       "\u001b[2;36m                    \u001b[0m         \u001b[1;36m1\u001b[0m positional argument but \u001b[1;36m2\u001b[0m were given                       \u001b[2m                         \u001b[0m\n"
      ]
     },
     "metadata": {},
     "output_type": "display_data"
    },
    {
     "name": "stdout",
     "output_type": "stream",
     "text": [
      "Video frames: 1\n",
      "\n",
      "0: 640x640 (no detections), 178.4ms\n",
      "Speed: 2.2ms preprocess, 178.4ms inference, 0.3ms postprocess per image at shape (1, 3, 640, 640)\n"
     ]
    },
    {
     "data": {
      "text/html": [
       "<pre style=\"white-space:pre;overflow-x:auto;line-height:normal;font-family:Menlo,'DejaVu Sans Mono',consolas,'Courier New',monospace\"><span style=\"color: #7fbfbf; text-decoration-color: #7fbfbf\">                    </span><span style=\"color: #800000; text-decoration-color: #800000\">WARNING </span> Error in results dispatching - <span style=\"color: #800080; text-decoration-color: #800080; font-weight: bold\">render_boxes_on_frame</span><span style=\"font-weight: bold\">()</span> takes <a href=\"file:///Users/saadia/Documents/DevIA_2024/ShiFuMi_computerVision/venv/lib/python3.9/site-packages/inference/core/interfaces/stream/inference_pipeline.py\" target=\"_blank\"><span style=\"color: #7f7f7f; text-decoration-color: #7f7f7f\">inference_pipeline.py</span></a><span style=\"color: #7f7f7f; text-decoration-color: #7f7f7f\">:</span><a href=\"file:///Users/saadia/Documents/DevIA_2024/ShiFuMi_computerVision/venv/lib/python3.9/site-packages/inference/core/interfaces/stream/inference_pipeline.py#907\" target=\"_blank\"><span style=\"color: #7f7f7f; text-decoration-color: #7f7f7f\">907</span></a>\n",
       "<span style=\"color: #7fbfbf; text-decoration-color: #7fbfbf\">                    </span>         <span style=\"color: #008080; text-decoration-color: #008080; font-weight: bold\">1</span> positional argument but <span style=\"color: #008080; text-decoration-color: #008080; font-weight: bold\">2</span> were given                       <span style=\"color: #7f7f7f; text-decoration-color: #7f7f7f\">                         </span>\n",
       "</pre>\n"
      ],
      "text/plain": [
       "\u001b[2;36m                   \u001b[0m\u001b[2;36m \u001b[0m\u001b[31mWARNING \u001b[0m Error in results dispatching - \u001b[1;35mrender_boxes_on_frame\u001b[0m\u001b[1m(\u001b[0m\u001b[1m)\u001b[0m takes \u001b]8;id=33017;file:///Users/saadia/Documents/DevIA_2024/ShiFuMi_computerVision/venv/lib/python3.9/site-packages/inference/core/interfaces/stream/inference_pipeline.py\u001b\\\u001b[2minference_pipeline.py\u001b[0m\u001b]8;;\u001b\\\u001b[2m:\u001b[0m\u001b]8;id=989825;file:///Users/saadia/Documents/DevIA_2024/ShiFuMi_computerVision/venv/lib/python3.9/site-packages/inference/core/interfaces/stream/inference_pipeline.py#907\u001b\\\u001b[2m907\u001b[0m\u001b]8;;\u001b\\\n",
       "\u001b[2;36m                    \u001b[0m         \u001b[1;36m1\u001b[0m positional argument but \u001b[1;36m2\u001b[0m were given                       \u001b[2m                         \u001b[0m\n"
      ]
     },
     "metadata": {},
     "output_type": "display_data"
    },
    {
     "name": "stdout",
     "output_type": "stream",
     "text": [
      "Video frames: 1\n",
      "\n",
      "0: 640x640 (no detections), 158.0ms\n",
      "Speed: 2.4ms preprocess, 158.0ms inference, 0.3ms postprocess per image at shape (1, 3, 640, 640)\n"
     ]
    },
    {
     "data": {
      "text/html": [
       "<pre style=\"white-space:pre;overflow-x:auto;line-height:normal;font-family:Menlo,'DejaVu Sans Mono',consolas,'Courier New',monospace\"><span style=\"color: #7fbfbf; text-decoration-color: #7fbfbf\">[07/01/24 12:07:42] </span><span style=\"color: #800000; text-decoration-color: #800000\">WARNING </span> Error in results dispatching - <span style=\"color: #800080; text-decoration-color: #800080; font-weight: bold\">render_boxes_on_frame</span><span style=\"font-weight: bold\">()</span> takes <a href=\"file:///Users/saadia/Documents/DevIA_2024/ShiFuMi_computerVision/venv/lib/python3.9/site-packages/inference/core/interfaces/stream/inference_pipeline.py\" target=\"_blank\"><span style=\"color: #7f7f7f; text-decoration-color: #7f7f7f\">inference_pipeline.py</span></a><span style=\"color: #7f7f7f; text-decoration-color: #7f7f7f\">:</span><a href=\"file:///Users/saadia/Documents/DevIA_2024/ShiFuMi_computerVision/venv/lib/python3.9/site-packages/inference/core/interfaces/stream/inference_pipeline.py#907\" target=\"_blank\"><span style=\"color: #7f7f7f; text-decoration-color: #7f7f7f\">907</span></a>\n",
       "<span style=\"color: #7fbfbf; text-decoration-color: #7fbfbf\">                    </span>         <span style=\"color: #008080; text-decoration-color: #008080; font-weight: bold\">1</span> positional argument but <span style=\"color: #008080; text-decoration-color: #008080; font-weight: bold\">2</span> were given                       <span style=\"color: #7f7f7f; text-decoration-color: #7f7f7f\">                         </span>\n",
       "</pre>\n"
      ],
      "text/plain": [
       "\u001b[2;36m[07/01/24 12:07:42]\u001b[0m\u001b[2;36m \u001b[0m\u001b[31mWARNING \u001b[0m Error in results dispatching - \u001b[1;35mrender_boxes_on_frame\u001b[0m\u001b[1m(\u001b[0m\u001b[1m)\u001b[0m takes \u001b]8;id=484453;file:///Users/saadia/Documents/DevIA_2024/ShiFuMi_computerVision/venv/lib/python3.9/site-packages/inference/core/interfaces/stream/inference_pipeline.py\u001b\\\u001b[2minference_pipeline.py\u001b[0m\u001b]8;;\u001b\\\u001b[2m:\u001b[0m\u001b]8;id=794379;file:///Users/saadia/Documents/DevIA_2024/ShiFuMi_computerVision/venv/lib/python3.9/site-packages/inference/core/interfaces/stream/inference_pipeline.py#907\u001b\\\u001b[2m907\u001b[0m\u001b]8;;\u001b\\\n",
       "\u001b[2;36m                    \u001b[0m         \u001b[1;36m1\u001b[0m positional argument but \u001b[1;36m2\u001b[0m were given                       \u001b[2m                         \u001b[0m\n"
      ]
     },
     "metadata": {},
     "output_type": "display_data"
    },
    {
     "name": "stdout",
     "output_type": "stream",
     "text": [
      "Video frames: 1\n",
      "\n",
      "0: 640x640 (no detections), 158.5ms\n",
      "Speed: 2.2ms preprocess, 158.5ms inference, 0.4ms postprocess per image at shape (1, 3, 640, 640)\n"
     ]
    },
    {
     "data": {
      "text/html": [
       "<pre style=\"white-space:pre;overflow-x:auto;line-height:normal;font-family:Menlo,'DejaVu Sans Mono',consolas,'Courier New',monospace\"><span style=\"color: #7fbfbf; text-decoration-color: #7fbfbf\">                    </span><span style=\"color: #800000; text-decoration-color: #800000\">WARNING </span> Error in results dispatching - <span style=\"color: #800080; text-decoration-color: #800080; font-weight: bold\">render_boxes_on_frame</span><span style=\"font-weight: bold\">()</span> takes <a href=\"file:///Users/saadia/Documents/DevIA_2024/ShiFuMi_computerVision/venv/lib/python3.9/site-packages/inference/core/interfaces/stream/inference_pipeline.py\" target=\"_blank\"><span style=\"color: #7f7f7f; text-decoration-color: #7f7f7f\">inference_pipeline.py</span></a><span style=\"color: #7f7f7f; text-decoration-color: #7f7f7f\">:</span><a href=\"file:///Users/saadia/Documents/DevIA_2024/ShiFuMi_computerVision/venv/lib/python3.9/site-packages/inference/core/interfaces/stream/inference_pipeline.py#907\" target=\"_blank\"><span style=\"color: #7f7f7f; text-decoration-color: #7f7f7f\">907</span></a>\n",
       "<span style=\"color: #7fbfbf; text-decoration-color: #7fbfbf\">                    </span>         <span style=\"color: #008080; text-decoration-color: #008080; font-weight: bold\">1</span> positional argument but <span style=\"color: #008080; text-decoration-color: #008080; font-weight: bold\">2</span> were given                       <span style=\"color: #7f7f7f; text-decoration-color: #7f7f7f\">                         </span>\n",
       "</pre>\n"
      ],
      "text/plain": [
       "\u001b[2;36m                   \u001b[0m\u001b[2;36m \u001b[0m\u001b[31mWARNING \u001b[0m Error in results dispatching - \u001b[1;35mrender_boxes_on_frame\u001b[0m\u001b[1m(\u001b[0m\u001b[1m)\u001b[0m takes \u001b]8;id=387396;file:///Users/saadia/Documents/DevIA_2024/ShiFuMi_computerVision/venv/lib/python3.9/site-packages/inference/core/interfaces/stream/inference_pipeline.py\u001b\\\u001b[2minference_pipeline.py\u001b[0m\u001b]8;;\u001b\\\u001b[2m:\u001b[0m\u001b]8;id=497377;file:///Users/saadia/Documents/DevIA_2024/ShiFuMi_computerVision/venv/lib/python3.9/site-packages/inference/core/interfaces/stream/inference_pipeline.py#907\u001b\\\u001b[2m907\u001b[0m\u001b]8;;\u001b\\\n",
       "\u001b[2;36m                    \u001b[0m         \u001b[1;36m1\u001b[0m positional argument but \u001b[1;36m2\u001b[0m were given                       \u001b[2m                         \u001b[0m\n"
      ]
     },
     "metadata": {},
     "output_type": "display_data"
    },
    {
     "name": "stdout",
     "output_type": "stream",
     "text": [
      "Video frames: 1\n",
      "\n",
      "0: 640x640 (no detections), 167.1ms\n",
      "Speed: 2.3ms preprocess, 167.1ms inference, 0.3ms postprocess per image at shape (1, 3, 640, 640)\n"
     ]
    },
    {
     "data": {
      "text/html": [
       "<pre style=\"white-space:pre;overflow-x:auto;line-height:normal;font-family:Menlo,'DejaVu Sans Mono',consolas,'Courier New',monospace\"><span style=\"color: #7fbfbf; text-decoration-color: #7fbfbf\">[07/01/24 12:07:43] </span><span style=\"color: #800000; text-decoration-color: #800000\">WARNING </span> Error in results dispatching - <span style=\"color: #800080; text-decoration-color: #800080; font-weight: bold\">render_boxes_on_frame</span><span style=\"font-weight: bold\">()</span> takes <a href=\"file:///Users/saadia/Documents/DevIA_2024/ShiFuMi_computerVision/venv/lib/python3.9/site-packages/inference/core/interfaces/stream/inference_pipeline.py\" target=\"_blank\"><span style=\"color: #7f7f7f; text-decoration-color: #7f7f7f\">inference_pipeline.py</span></a><span style=\"color: #7f7f7f; text-decoration-color: #7f7f7f\">:</span><a href=\"file:///Users/saadia/Documents/DevIA_2024/ShiFuMi_computerVision/venv/lib/python3.9/site-packages/inference/core/interfaces/stream/inference_pipeline.py#907\" target=\"_blank\"><span style=\"color: #7f7f7f; text-decoration-color: #7f7f7f\">907</span></a>\n",
       "<span style=\"color: #7fbfbf; text-decoration-color: #7fbfbf\">                    </span>         <span style=\"color: #008080; text-decoration-color: #008080; font-weight: bold\">1</span> positional argument but <span style=\"color: #008080; text-decoration-color: #008080; font-weight: bold\">2</span> were given                       <span style=\"color: #7f7f7f; text-decoration-color: #7f7f7f\">                         </span>\n",
       "</pre>\n"
      ],
      "text/plain": [
       "\u001b[2;36m[07/01/24 12:07:43]\u001b[0m\u001b[2;36m \u001b[0m\u001b[31mWARNING \u001b[0m Error in results dispatching - \u001b[1;35mrender_boxes_on_frame\u001b[0m\u001b[1m(\u001b[0m\u001b[1m)\u001b[0m takes \u001b]8;id=439420;file:///Users/saadia/Documents/DevIA_2024/ShiFuMi_computerVision/venv/lib/python3.9/site-packages/inference/core/interfaces/stream/inference_pipeline.py\u001b\\\u001b[2minference_pipeline.py\u001b[0m\u001b]8;;\u001b\\\u001b[2m:\u001b[0m\u001b]8;id=753691;file:///Users/saadia/Documents/DevIA_2024/ShiFuMi_computerVision/venv/lib/python3.9/site-packages/inference/core/interfaces/stream/inference_pipeline.py#907\u001b\\\u001b[2m907\u001b[0m\u001b]8;;\u001b\\\n",
       "\u001b[2;36m                    \u001b[0m         \u001b[1;36m1\u001b[0m positional argument but \u001b[1;36m2\u001b[0m were given                       \u001b[2m                         \u001b[0m\n"
      ]
     },
     "metadata": {},
     "output_type": "display_data"
    },
    {
     "name": "stdout",
     "output_type": "stream",
     "text": [
      "Video frames: 1\n",
      "\n",
      "0: 640x640 (no detections), 152.1ms\n",
      "Speed: 2.1ms preprocess, 152.1ms inference, 0.3ms postprocess per image at shape (1, 3, 640, 640)\n",
      "Video frames: 1\n",
      "\n"
     ]
    },
    {
     "data": {
      "text/html": [
       "<pre style=\"white-space:pre;overflow-x:auto;line-height:normal;font-family:Menlo,'DejaVu Sans Mono',consolas,'Courier New',monospace\"><span style=\"color: #7fbfbf; text-decoration-color: #7fbfbf\">                    </span><span style=\"color: #800000; text-decoration-color: #800000\">WARNING </span> Error in results dispatching - <span style=\"color: #800080; text-decoration-color: #800080; font-weight: bold\">render_boxes_on_frame</span><span style=\"font-weight: bold\">()</span> takes <a href=\"file:///Users/saadia/Documents/DevIA_2024/ShiFuMi_computerVision/venv/lib/python3.9/site-packages/inference/core/interfaces/stream/inference_pipeline.py\" target=\"_blank\"><span style=\"color: #7f7f7f; text-decoration-color: #7f7f7f\">inference_pipeline.py</span></a><span style=\"color: #7f7f7f; text-decoration-color: #7f7f7f\">:</span><a href=\"file:///Users/saadia/Documents/DevIA_2024/ShiFuMi_computerVision/venv/lib/python3.9/site-packages/inference/core/interfaces/stream/inference_pipeline.py#907\" target=\"_blank\"><span style=\"color: #7f7f7f; text-decoration-color: #7f7f7f\">907</span></a>\n",
       "<span style=\"color: #7fbfbf; text-decoration-color: #7fbfbf\">                    </span>         <span style=\"color: #008080; text-decoration-color: #008080; font-weight: bold\">1</span> positional argument but <span style=\"color: #008080; text-decoration-color: #008080; font-weight: bold\">2</span> were given                       <span style=\"color: #7f7f7f; text-decoration-color: #7f7f7f\">                         </span>\n",
       "</pre>\n"
      ],
      "text/plain": [
       "\u001b[2;36m                   \u001b[0m\u001b[2;36m \u001b[0m\u001b[31mWARNING \u001b[0m Error in results dispatching - \u001b[1;35mrender_boxes_on_frame\u001b[0m\u001b[1m(\u001b[0m\u001b[1m)\u001b[0m takes \u001b]8;id=929273;file:///Users/saadia/Documents/DevIA_2024/ShiFuMi_computerVision/venv/lib/python3.9/site-packages/inference/core/interfaces/stream/inference_pipeline.py\u001b\\\u001b[2minference_pipeline.py\u001b[0m\u001b]8;;\u001b\\\u001b[2m:\u001b[0m\u001b]8;id=480511;file:///Users/saadia/Documents/DevIA_2024/ShiFuMi_computerVision/venv/lib/python3.9/site-packages/inference/core/interfaces/stream/inference_pipeline.py#907\u001b\\\u001b[2m907\u001b[0m\u001b]8;;\u001b\\\n",
       "\u001b[2;36m                    \u001b[0m         \u001b[1;36m1\u001b[0m positional argument but \u001b[1;36m2\u001b[0m were given                       \u001b[2m                         \u001b[0m\n"
      ]
     },
     "metadata": {},
     "output_type": "display_data"
    },
    {
     "name": "stdout",
     "output_type": "stream",
     "text": [
      "0: 640x640 (no detections), 157.8ms\n",
      "Speed: 2.8ms preprocess, 157.8ms inference, 0.2ms postprocess per image at shape (1, 3, 640, 640)\n",
      "Video frames: 1\n",
      "\n"
     ]
    },
    {
     "data": {
      "text/html": [
       "<pre style=\"white-space:pre;overflow-x:auto;line-height:normal;font-family:Menlo,'DejaVu Sans Mono',consolas,'Courier New',monospace\"><span style=\"color: #7fbfbf; text-decoration-color: #7fbfbf\">[07/01/24 12:07:44] </span><span style=\"color: #800000; text-decoration-color: #800000\">WARNING </span> Error in results dispatching - <span style=\"color: #800080; text-decoration-color: #800080; font-weight: bold\">render_boxes_on_frame</span><span style=\"font-weight: bold\">()</span> takes <a href=\"file:///Users/saadia/Documents/DevIA_2024/ShiFuMi_computerVision/venv/lib/python3.9/site-packages/inference/core/interfaces/stream/inference_pipeline.py\" target=\"_blank\"><span style=\"color: #7f7f7f; text-decoration-color: #7f7f7f\">inference_pipeline.py</span></a><span style=\"color: #7f7f7f; text-decoration-color: #7f7f7f\">:</span><a href=\"file:///Users/saadia/Documents/DevIA_2024/ShiFuMi_computerVision/venv/lib/python3.9/site-packages/inference/core/interfaces/stream/inference_pipeline.py#907\" target=\"_blank\"><span style=\"color: #7f7f7f; text-decoration-color: #7f7f7f\">907</span></a>\n",
       "<span style=\"color: #7fbfbf; text-decoration-color: #7fbfbf\">                    </span>         <span style=\"color: #008080; text-decoration-color: #008080; font-weight: bold\">1</span> positional argument but <span style=\"color: #008080; text-decoration-color: #008080; font-weight: bold\">2</span> were given                       <span style=\"color: #7f7f7f; text-decoration-color: #7f7f7f\">                         </span>\n",
       "</pre>\n"
      ],
      "text/plain": [
       "\u001b[2;36m[07/01/24 12:07:44]\u001b[0m\u001b[2;36m \u001b[0m\u001b[31mWARNING \u001b[0m Error in results dispatching - \u001b[1;35mrender_boxes_on_frame\u001b[0m\u001b[1m(\u001b[0m\u001b[1m)\u001b[0m takes \u001b]8;id=354431;file:///Users/saadia/Documents/DevIA_2024/ShiFuMi_computerVision/venv/lib/python3.9/site-packages/inference/core/interfaces/stream/inference_pipeline.py\u001b\\\u001b[2minference_pipeline.py\u001b[0m\u001b]8;;\u001b\\\u001b[2m:\u001b[0m\u001b]8;id=831588;file:///Users/saadia/Documents/DevIA_2024/ShiFuMi_computerVision/venv/lib/python3.9/site-packages/inference/core/interfaces/stream/inference_pipeline.py#907\u001b\\\u001b[2m907\u001b[0m\u001b]8;;\u001b\\\n",
       "\u001b[2;36m                    \u001b[0m         \u001b[1;36m1\u001b[0m positional argument but \u001b[1;36m2\u001b[0m were given                       \u001b[2m                         \u001b[0m\n"
      ]
     },
     "metadata": {},
     "output_type": "display_data"
    },
    {
     "name": "stdout",
     "output_type": "stream",
     "text": [
      "0: 640x640 (no detections), 149.7ms\n",
      "Speed: 2.1ms preprocess, 149.7ms inference, 0.4ms postprocess per image at shape (1, 3, 640, 640)\n",
      "Video frames: 1\n",
      "\n"
     ]
    },
    {
     "data": {
      "text/html": [
       "<pre style=\"white-space:pre;overflow-x:auto;line-height:normal;font-family:Menlo,'DejaVu Sans Mono',consolas,'Courier New',monospace\"><span style=\"color: #7fbfbf; text-decoration-color: #7fbfbf\">                    </span><span style=\"color: #800000; text-decoration-color: #800000\">WARNING </span> Error in results dispatching - <span style=\"color: #800080; text-decoration-color: #800080; font-weight: bold\">render_boxes_on_frame</span><span style=\"font-weight: bold\">()</span> takes <a href=\"file:///Users/saadia/Documents/DevIA_2024/ShiFuMi_computerVision/venv/lib/python3.9/site-packages/inference/core/interfaces/stream/inference_pipeline.py\" target=\"_blank\"><span style=\"color: #7f7f7f; text-decoration-color: #7f7f7f\">inference_pipeline.py</span></a><span style=\"color: #7f7f7f; text-decoration-color: #7f7f7f\">:</span><a href=\"file:///Users/saadia/Documents/DevIA_2024/ShiFuMi_computerVision/venv/lib/python3.9/site-packages/inference/core/interfaces/stream/inference_pipeline.py#907\" target=\"_blank\"><span style=\"color: #7f7f7f; text-decoration-color: #7f7f7f\">907</span></a>\n",
       "<span style=\"color: #7fbfbf; text-decoration-color: #7fbfbf\">                    </span>         <span style=\"color: #008080; text-decoration-color: #008080; font-weight: bold\">1</span> positional argument but <span style=\"color: #008080; text-decoration-color: #008080; font-weight: bold\">2</span> were given                       <span style=\"color: #7f7f7f; text-decoration-color: #7f7f7f\">                         </span>\n",
       "</pre>\n"
      ],
      "text/plain": [
       "\u001b[2;36m                   \u001b[0m\u001b[2;36m \u001b[0m\u001b[31mWARNING \u001b[0m Error in results dispatching - \u001b[1;35mrender_boxes_on_frame\u001b[0m\u001b[1m(\u001b[0m\u001b[1m)\u001b[0m takes \u001b]8;id=899157;file:///Users/saadia/Documents/DevIA_2024/ShiFuMi_computerVision/venv/lib/python3.9/site-packages/inference/core/interfaces/stream/inference_pipeline.py\u001b\\\u001b[2minference_pipeline.py\u001b[0m\u001b]8;;\u001b\\\u001b[2m:\u001b[0m\u001b]8;id=374181;file:///Users/saadia/Documents/DevIA_2024/ShiFuMi_computerVision/venv/lib/python3.9/site-packages/inference/core/interfaces/stream/inference_pipeline.py#907\u001b\\\u001b[2m907\u001b[0m\u001b]8;;\u001b\\\n",
       "\u001b[2;36m                    \u001b[0m         \u001b[1;36m1\u001b[0m positional argument but \u001b[1;36m2\u001b[0m were given                       \u001b[2m                         \u001b[0m\n"
      ]
     },
     "metadata": {},
     "output_type": "display_data"
    },
    {
     "name": "stdout",
     "output_type": "stream",
     "text": [
      "0: 640x640 (no detections), 151.1ms\n",
      "Speed: 2.1ms preprocess, 151.1ms inference, 0.3ms postprocess per image at shape (1, 3, 640, 640)\n",
      "Video frames: 1\n",
      "\n"
     ]
    },
    {
     "data": {
      "text/html": [
       "<pre style=\"white-space:pre;overflow-x:auto;line-height:normal;font-family:Menlo,'DejaVu Sans Mono',consolas,'Courier New',monospace\"><span style=\"color: #7fbfbf; text-decoration-color: #7fbfbf\">                    </span><span style=\"color: #800000; text-decoration-color: #800000\">WARNING </span> Error in results dispatching - <span style=\"color: #800080; text-decoration-color: #800080; font-weight: bold\">render_boxes_on_frame</span><span style=\"font-weight: bold\">()</span> takes <a href=\"file:///Users/saadia/Documents/DevIA_2024/ShiFuMi_computerVision/venv/lib/python3.9/site-packages/inference/core/interfaces/stream/inference_pipeline.py\" target=\"_blank\"><span style=\"color: #7f7f7f; text-decoration-color: #7f7f7f\">inference_pipeline.py</span></a><span style=\"color: #7f7f7f; text-decoration-color: #7f7f7f\">:</span><a href=\"file:///Users/saadia/Documents/DevIA_2024/ShiFuMi_computerVision/venv/lib/python3.9/site-packages/inference/core/interfaces/stream/inference_pipeline.py#907\" target=\"_blank\"><span style=\"color: #7f7f7f; text-decoration-color: #7f7f7f\">907</span></a>\n",
       "<span style=\"color: #7fbfbf; text-decoration-color: #7fbfbf\">                    </span>         <span style=\"color: #008080; text-decoration-color: #008080; font-weight: bold\">1</span> positional argument but <span style=\"color: #008080; text-decoration-color: #008080; font-weight: bold\">2</span> were given                       <span style=\"color: #7f7f7f; text-decoration-color: #7f7f7f\">                         </span>\n",
       "</pre>\n"
      ],
      "text/plain": [
       "\u001b[2;36m                   \u001b[0m\u001b[2;36m \u001b[0m\u001b[31mWARNING \u001b[0m Error in results dispatching - \u001b[1;35mrender_boxes_on_frame\u001b[0m\u001b[1m(\u001b[0m\u001b[1m)\u001b[0m takes \u001b]8;id=128596;file:///Users/saadia/Documents/DevIA_2024/ShiFuMi_computerVision/venv/lib/python3.9/site-packages/inference/core/interfaces/stream/inference_pipeline.py\u001b\\\u001b[2minference_pipeline.py\u001b[0m\u001b]8;;\u001b\\\u001b[2m:\u001b[0m\u001b]8;id=946721;file:///Users/saadia/Documents/DevIA_2024/ShiFuMi_computerVision/venv/lib/python3.9/site-packages/inference/core/interfaces/stream/inference_pipeline.py#907\u001b\\\u001b[2m907\u001b[0m\u001b]8;;\u001b\\\n",
       "\u001b[2;36m                    \u001b[0m         \u001b[1;36m1\u001b[0m positional argument but \u001b[1;36m2\u001b[0m were given                       \u001b[2m                         \u001b[0m\n"
      ]
     },
     "metadata": {},
     "output_type": "display_data"
    },
    {
     "name": "stdout",
     "output_type": "stream",
     "text": [
      "0: 640x640 (no detections), 149.8ms\n",
      "Speed: 2.1ms preprocess, 149.8ms inference, 0.4ms postprocess per image at shape (1, 3, 640, 640)\n",
      "Video frames: 1\n",
      "\n"
     ]
    },
    {
     "data": {
      "text/html": [
       "<pre style=\"white-space:pre;overflow-x:auto;line-height:normal;font-family:Menlo,'DejaVu Sans Mono',consolas,'Courier New',monospace\"><span style=\"color: #7fbfbf; text-decoration-color: #7fbfbf\">                    </span><span style=\"color: #800000; text-decoration-color: #800000\">WARNING </span> Error in results dispatching - <span style=\"color: #800080; text-decoration-color: #800080; font-weight: bold\">render_boxes_on_frame</span><span style=\"font-weight: bold\">()</span> takes <a href=\"file:///Users/saadia/Documents/DevIA_2024/ShiFuMi_computerVision/venv/lib/python3.9/site-packages/inference/core/interfaces/stream/inference_pipeline.py\" target=\"_blank\"><span style=\"color: #7f7f7f; text-decoration-color: #7f7f7f\">inference_pipeline.py</span></a><span style=\"color: #7f7f7f; text-decoration-color: #7f7f7f\">:</span><a href=\"file:///Users/saadia/Documents/DevIA_2024/ShiFuMi_computerVision/venv/lib/python3.9/site-packages/inference/core/interfaces/stream/inference_pipeline.py#907\" target=\"_blank\"><span style=\"color: #7f7f7f; text-decoration-color: #7f7f7f\">907</span></a>\n",
       "<span style=\"color: #7fbfbf; text-decoration-color: #7fbfbf\">                    </span>         <span style=\"color: #008080; text-decoration-color: #008080; font-weight: bold\">1</span> positional argument but <span style=\"color: #008080; text-decoration-color: #008080; font-weight: bold\">2</span> were given                       <span style=\"color: #7f7f7f; text-decoration-color: #7f7f7f\">                         </span>\n",
       "</pre>\n"
      ],
      "text/plain": [
       "\u001b[2;36m                   \u001b[0m\u001b[2;36m \u001b[0m\u001b[31mWARNING \u001b[0m Error in results dispatching - \u001b[1;35mrender_boxes_on_frame\u001b[0m\u001b[1m(\u001b[0m\u001b[1m)\u001b[0m takes \u001b]8;id=72322;file:///Users/saadia/Documents/DevIA_2024/ShiFuMi_computerVision/venv/lib/python3.9/site-packages/inference/core/interfaces/stream/inference_pipeline.py\u001b\\\u001b[2minference_pipeline.py\u001b[0m\u001b]8;;\u001b\\\u001b[2m:\u001b[0m\u001b]8;id=821666;file:///Users/saadia/Documents/DevIA_2024/ShiFuMi_computerVision/venv/lib/python3.9/site-packages/inference/core/interfaces/stream/inference_pipeline.py#907\u001b\\\u001b[2m907\u001b[0m\u001b]8;;\u001b\\\n",
       "\u001b[2;36m                    \u001b[0m         \u001b[1;36m1\u001b[0m positional argument but \u001b[1;36m2\u001b[0m were given                       \u001b[2m                         \u001b[0m\n"
      ]
     },
     "metadata": {},
     "output_type": "display_data"
    },
    {
     "name": "stdout",
     "output_type": "stream",
     "text": [
      "0: 640x640 (no detections), 154.4ms\n",
      "Speed: 2.1ms preprocess, 154.4ms inference, 0.3ms postprocess per image at shape (1, 3, 640, 640)\n",
      "Video frames: 1\n",
      "\n"
     ]
    },
    {
     "data": {
      "text/html": [
       "<pre style=\"white-space:pre;overflow-x:auto;line-height:normal;font-family:Menlo,'DejaVu Sans Mono',consolas,'Courier New',monospace\"><span style=\"color: #7fbfbf; text-decoration-color: #7fbfbf\">                    </span><span style=\"color: #800000; text-decoration-color: #800000\">WARNING </span> Error in results dispatching - <span style=\"color: #800080; text-decoration-color: #800080; font-weight: bold\">render_boxes_on_frame</span><span style=\"font-weight: bold\">()</span> takes <a href=\"file:///Users/saadia/Documents/DevIA_2024/ShiFuMi_computerVision/venv/lib/python3.9/site-packages/inference/core/interfaces/stream/inference_pipeline.py\" target=\"_blank\"><span style=\"color: #7f7f7f; text-decoration-color: #7f7f7f\">inference_pipeline.py</span></a><span style=\"color: #7f7f7f; text-decoration-color: #7f7f7f\">:</span><a href=\"file:///Users/saadia/Documents/DevIA_2024/ShiFuMi_computerVision/venv/lib/python3.9/site-packages/inference/core/interfaces/stream/inference_pipeline.py#907\" target=\"_blank\"><span style=\"color: #7f7f7f; text-decoration-color: #7f7f7f\">907</span></a>\n",
       "<span style=\"color: #7fbfbf; text-decoration-color: #7fbfbf\">                    </span>         <span style=\"color: #008080; text-decoration-color: #008080; font-weight: bold\">1</span> positional argument but <span style=\"color: #008080; text-decoration-color: #008080; font-weight: bold\">2</span> were given                       <span style=\"color: #7f7f7f; text-decoration-color: #7f7f7f\">                         </span>\n",
       "</pre>\n"
      ],
      "text/plain": [
       "\u001b[2;36m                   \u001b[0m\u001b[2;36m \u001b[0m\u001b[31mWARNING \u001b[0m Error in results dispatching - \u001b[1;35mrender_boxes_on_frame\u001b[0m\u001b[1m(\u001b[0m\u001b[1m)\u001b[0m takes \u001b]8;id=230982;file:///Users/saadia/Documents/DevIA_2024/ShiFuMi_computerVision/venv/lib/python3.9/site-packages/inference/core/interfaces/stream/inference_pipeline.py\u001b\\\u001b[2minference_pipeline.py\u001b[0m\u001b]8;;\u001b\\\u001b[2m:\u001b[0m\u001b]8;id=594770;file:///Users/saadia/Documents/DevIA_2024/ShiFuMi_computerVision/venv/lib/python3.9/site-packages/inference/core/interfaces/stream/inference_pipeline.py#907\u001b\\\u001b[2m907\u001b[0m\u001b]8;;\u001b\\\n",
       "\u001b[2;36m                    \u001b[0m         \u001b[1;36m1\u001b[0m positional argument but \u001b[1;36m2\u001b[0m were given                       \u001b[2m                         \u001b[0m\n"
      ]
     },
     "metadata": {},
     "output_type": "display_data"
    },
    {
     "name": "stdout",
     "output_type": "stream",
     "text": [
      "0: 640x640 (no detections), 156.7ms\n",
      "Speed: 2.3ms preprocess, 156.7ms inference, 0.3ms postprocess per image at shape (1, 3, 640, 640)\n",
      "Video frames: 1\n",
      "\n"
     ]
    },
    {
     "data": {
      "text/html": [
       "<pre style=\"white-space:pre;overflow-x:auto;line-height:normal;font-family:Menlo,'DejaVu Sans Mono',consolas,'Courier New',monospace\"><span style=\"color: #7fbfbf; text-decoration-color: #7fbfbf\">                    </span><span style=\"color: #800000; text-decoration-color: #800000\">WARNING </span> Error in results dispatching - <span style=\"color: #800080; text-decoration-color: #800080; font-weight: bold\">render_boxes_on_frame</span><span style=\"font-weight: bold\">()</span> takes <a href=\"file:///Users/saadia/Documents/DevIA_2024/ShiFuMi_computerVision/venv/lib/python3.9/site-packages/inference/core/interfaces/stream/inference_pipeline.py\" target=\"_blank\"><span style=\"color: #7f7f7f; text-decoration-color: #7f7f7f\">inference_pipeline.py</span></a><span style=\"color: #7f7f7f; text-decoration-color: #7f7f7f\">:</span><a href=\"file:///Users/saadia/Documents/DevIA_2024/ShiFuMi_computerVision/venv/lib/python3.9/site-packages/inference/core/interfaces/stream/inference_pipeline.py#907\" target=\"_blank\"><span style=\"color: #7f7f7f; text-decoration-color: #7f7f7f\">907</span></a>\n",
       "<span style=\"color: #7fbfbf; text-decoration-color: #7fbfbf\">                    </span>         <span style=\"color: #008080; text-decoration-color: #008080; font-weight: bold\">1</span> positional argument but <span style=\"color: #008080; text-decoration-color: #008080; font-weight: bold\">2</span> were given                       <span style=\"color: #7f7f7f; text-decoration-color: #7f7f7f\">                         </span>\n",
       "</pre>\n"
      ],
      "text/plain": [
       "\u001b[2;36m                   \u001b[0m\u001b[2;36m \u001b[0m\u001b[31mWARNING \u001b[0m Error in results dispatching - \u001b[1;35mrender_boxes_on_frame\u001b[0m\u001b[1m(\u001b[0m\u001b[1m)\u001b[0m takes \u001b]8;id=100653;file:///Users/saadia/Documents/DevIA_2024/ShiFuMi_computerVision/venv/lib/python3.9/site-packages/inference/core/interfaces/stream/inference_pipeline.py\u001b\\\u001b[2minference_pipeline.py\u001b[0m\u001b]8;;\u001b\\\u001b[2m:\u001b[0m\u001b]8;id=98720;file:///Users/saadia/Documents/DevIA_2024/ShiFuMi_computerVision/venv/lib/python3.9/site-packages/inference/core/interfaces/stream/inference_pipeline.py#907\u001b\\\u001b[2m907\u001b[0m\u001b]8;;\u001b\\\n",
       "\u001b[2;36m                    \u001b[0m         \u001b[1;36m1\u001b[0m positional argument but \u001b[1;36m2\u001b[0m were given                       \u001b[2m                         \u001b[0m\n"
      ]
     },
     "metadata": {},
     "output_type": "display_data"
    },
    {
     "name": "stdout",
     "output_type": "stream",
     "text": [
      "0: 640x640 (no detections), 151.1ms\n",
      "Speed: 1.9ms preprocess, 151.1ms inference, 0.3ms postprocess per image at shape (1, 3, 640, 640)\n",
      "Video frames: 1\n",
      "\n"
     ]
    },
    {
     "data": {
      "text/html": [
       "<pre style=\"white-space:pre;overflow-x:auto;line-height:normal;font-family:Menlo,'DejaVu Sans Mono',consolas,'Courier New',monospace\"><span style=\"color: #7fbfbf; text-decoration-color: #7fbfbf\">                    </span><span style=\"color: #800000; text-decoration-color: #800000\">WARNING </span> Error in results dispatching - <span style=\"color: #800080; text-decoration-color: #800080; font-weight: bold\">render_boxes_on_frame</span><span style=\"font-weight: bold\">()</span> takes <a href=\"file:///Users/saadia/Documents/DevIA_2024/ShiFuMi_computerVision/venv/lib/python3.9/site-packages/inference/core/interfaces/stream/inference_pipeline.py\" target=\"_blank\"><span style=\"color: #7f7f7f; text-decoration-color: #7f7f7f\">inference_pipeline.py</span></a><span style=\"color: #7f7f7f; text-decoration-color: #7f7f7f\">:</span><a href=\"file:///Users/saadia/Documents/DevIA_2024/ShiFuMi_computerVision/venv/lib/python3.9/site-packages/inference/core/interfaces/stream/inference_pipeline.py#907\" target=\"_blank\"><span style=\"color: #7f7f7f; text-decoration-color: #7f7f7f\">907</span></a>\n",
       "<span style=\"color: #7fbfbf; text-decoration-color: #7fbfbf\">                    </span>         <span style=\"color: #008080; text-decoration-color: #008080; font-weight: bold\">1</span> positional argument but <span style=\"color: #008080; text-decoration-color: #008080; font-weight: bold\">2</span> were given                       <span style=\"color: #7f7f7f; text-decoration-color: #7f7f7f\">                         </span>\n",
       "</pre>\n"
      ],
      "text/plain": [
       "\u001b[2;36m                   \u001b[0m\u001b[2;36m \u001b[0m\u001b[31mWARNING \u001b[0m Error in results dispatching - \u001b[1;35mrender_boxes_on_frame\u001b[0m\u001b[1m(\u001b[0m\u001b[1m)\u001b[0m takes \u001b]8;id=878670;file:///Users/saadia/Documents/DevIA_2024/ShiFuMi_computerVision/venv/lib/python3.9/site-packages/inference/core/interfaces/stream/inference_pipeline.py\u001b\\\u001b[2minference_pipeline.py\u001b[0m\u001b]8;;\u001b\\\u001b[2m:\u001b[0m\u001b]8;id=96761;file:///Users/saadia/Documents/DevIA_2024/ShiFuMi_computerVision/venv/lib/python3.9/site-packages/inference/core/interfaces/stream/inference_pipeline.py#907\u001b\\\u001b[2m907\u001b[0m\u001b]8;;\u001b\\\n",
       "\u001b[2;36m                    \u001b[0m         \u001b[1;36m1\u001b[0m positional argument but \u001b[1;36m2\u001b[0m were given                       \u001b[2m                         \u001b[0m\n"
      ]
     },
     "metadata": {},
     "output_type": "display_data"
    },
    {
     "name": "stdout",
     "output_type": "stream",
     "text": [
      "0: 640x640 (no detections), 161.8ms\n",
      "Speed: 2.5ms preprocess, 161.8ms inference, 0.2ms postprocess per image at shape (1, 3, 640, 640)\n",
      "Video frames: 1\n",
      "\n"
     ]
    },
    {
     "data": {
      "text/html": [
       "<pre style=\"white-space:pre;overflow-x:auto;line-height:normal;font-family:Menlo,'DejaVu Sans Mono',consolas,'Courier New',monospace\"><span style=\"color: #7fbfbf; text-decoration-color: #7fbfbf\">[07/01/24 12:07:45] </span><span style=\"color: #800000; text-decoration-color: #800000\">WARNING </span> Error in results dispatching - <span style=\"color: #800080; text-decoration-color: #800080; font-weight: bold\">render_boxes_on_frame</span><span style=\"font-weight: bold\">()</span> takes <a href=\"file:///Users/saadia/Documents/DevIA_2024/ShiFuMi_computerVision/venv/lib/python3.9/site-packages/inference/core/interfaces/stream/inference_pipeline.py\" target=\"_blank\"><span style=\"color: #7f7f7f; text-decoration-color: #7f7f7f\">inference_pipeline.py</span></a><span style=\"color: #7f7f7f; text-decoration-color: #7f7f7f\">:</span><a href=\"file:///Users/saadia/Documents/DevIA_2024/ShiFuMi_computerVision/venv/lib/python3.9/site-packages/inference/core/interfaces/stream/inference_pipeline.py#907\" target=\"_blank\"><span style=\"color: #7f7f7f; text-decoration-color: #7f7f7f\">907</span></a>\n",
       "<span style=\"color: #7fbfbf; text-decoration-color: #7fbfbf\">                    </span>         <span style=\"color: #008080; text-decoration-color: #008080; font-weight: bold\">1</span> positional argument but <span style=\"color: #008080; text-decoration-color: #008080; font-weight: bold\">2</span> were given                       <span style=\"color: #7f7f7f; text-decoration-color: #7f7f7f\">                         </span>\n",
       "</pre>\n"
      ],
      "text/plain": [
       "\u001b[2;36m[07/01/24 12:07:45]\u001b[0m\u001b[2;36m \u001b[0m\u001b[31mWARNING \u001b[0m Error in results dispatching - \u001b[1;35mrender_boxes_on_frame\u001b[0m\u001b[1m(\u001b[0m\u001b[1m)\u001b[0m takes \u001b]8;id=854867;file:///Users/saadia/Documents/DevIA_2024/ShiFuMi_computerVision/venv/lib/python3.9/site-packages/inference/core/interfaces/stream/inference_pipeline.py\u001b\\\u001b[2minference_pipeline.py\u001b[0m\u001b]8;;\u001b\\\u001b[2m:\u001b[0m\u001b]8;id=132384;file:///Users/saadia/Documents/DevIA_2024/ShiFuMi_computerVision/venv/lib/python3.9/site-packages/inference/core/interfaces/stream/inference_pipeline.py#907\u001b\\\u001b[2m907\u001b[0m\u001b]8;;\u001b\\\n",
       "\u001b[2;36m                    \u001b[0m         \u001b[1;36m1\u001b[0m positional argument but \u001b[1;36m2\u001b[0m were given                       \u001b[2m                         \u001b[0m\n"
      ]
     },
     "metadata": {},
     "output_type": "display_data"
    },
    {
     "name": "stdout",
     "output_type": "stream",
     "text": [
      "0: 640x640 (no detections), 153.7ms\n",
      "Speed: 2.1ms preprocess, 153.7ms inference, 0.3ms postprocess per image at shape (1, 3, 640, 640)\n",
      "Video frames: 1\n",
      "\n"
     ]
    },
    {
     "data": {
      "text/html": [
       "<pre style=\"white-space:pre;overflow-x:auto;line-height:normal;font-family:Menlo,'DejaVu Sans Mono',consolas,'Courier New',monospace\"><span style=\"color: #7fbfbf; text-decoration-color: #7fbfbf\">                    </span><span style=\"color: #800000; text-decoration-color: #800000\">WARNING </span> Error in results dispatching - <span style=\"color: #800080; text-decoration-color: #800080; font-weight: bold\">render_boxes_on_frame</span><span style=\"font-weight: bold\">()</span> takes <a href=\"file:///Users/saadia/Documents/DevIA_2024/ShiFuMi_computerVision/venv/lib/python3.9/site-packages/inference/core/interfaces/stream/inference_pipeline.py\" target=\"_blank\"><span style=\"color: #7f7f7f; text-decoration-color: #7f7f7f\">inference_pipeline.py</span></a><span style=\"color: #7f7f7f; text-decoration-color: #7f7f7f\">:</span><a href=\"file:///Users/saadia/Documents/DevIA_2024/ShiFuMi_computerVision/venv/lib/python3.9/site-packages/inference/core/interfaces/stream/inference_pipeline.py#907\" target=\"_blank\"><span style=\"color: #7f7f7f; text-decoration-color: #7f7f7f\">907</span></a>\n",
       "<span style=\"color: #7fbfbf; text-decoration-color: #7fbfbf\">                    </span>         <span style=\"color: #008080; text-decoration-color: #008080; font-weight: bold\">1</span> positional argument but <span style=\"color: #008080; text-decoration-color: #008080; font-weight: bold\">2</span> were given                       <span style=\"color: #7f7f7f; text-decoration-color: #7f7f7f\">                         </span>\n",
       "</pre>\n"
      ],
      "text/plain": [
       "\u001b[2;36m                   \u001b[0m\u001b[2;36m \u001b[0m\u001b[31mWARNING \u001b[0m Error in results dispatching - \u001b[1;35mrender_boxes_on_frame\u001b[0m\u001b[1m(\u001b[0m\u001b[1m)\u001b[0m takes \u001b]8;id=382996;file:///Users/saadia/Documents/DevIA_2024/ShiFuMi_computerVision/venv/lib/python3.9/site-packages/inference/core/interfaces/stream/inference_pipeline.py\u001b\\\u001b[2minference_pipeline.py\u001b[0m\u001b]8;;\u001b\\\u001b[2m:\u001b[0m\u001b]8;id=325094;file:///Users/saadia/Documents/DevIA_2024/ShiFuMi_computerVision/venv/lib/python3.9/site-packages/inference/core/interfaces/stream/inference_pipeline.py#907\u001b\\\u001b[2m907\u001b[0m\u001b]8;;\u001b\\\n",
       "\u001b[2;36m                    \u001b[0m         \u001b[1;36m1\u001b[0m positional argument but \u001b[1;36m2\u001b[0m were given                       \u001b[2m                         \u001b[0m\n"
      ]
     },
     "metadata": {},
     "output_type": "display_data"
    },
    {
     "name": "stdout",
     "output_type": "stream",
     "text": [
      "0: 640x640 (no detections), 152.7ms\n",
      "Speed: 2.3ms preprocess, 152.7ms inference, 0.4ms postprocess per image at shape (1, 3, 640, 640)\n",
      "Video frames: 1\n",
      "\n"
     ]
    },
    {
     "data": {
      "text/html": [
       "<pre style=\"white-space:pre;overflow-x:auto;line-height:normal;font-family:Menlo,'DejaVu Sans Mono',consolas,'Courier New',monospace\"><span style=\"color: #7fbfbf; text-decoration-color: #7fbfbf\">                    </span><span style=\"color: #800000; text-decoration-color: #800000\">WARNING </span> Error in results dispatching - <span style=\"color: #800080; text-decoration-color: #800080; font-weight: bold\">render_boxes_on_frame</span><span style=\"font-weight: bold\">()</span> takes <a href=\"file:///Users/saadia/Documents/DevIA_2024/ShiFuMi_computerVision/venv/lib/python3.9/site-packages/inference/core/interfaces/stream/inference_pipeline.py\" target=\"_blank\"><span style=\"color: #7f7f7f; text-decoration-color: #7f7f7f\">inference_pipeline.py</span></a><span style=\"color: #7f7f7f; text-decoration-color: #7f7f7f\">:</span><a href=\"file:///Users/saadia/Documents/DevIA_2024/ShiFuMi_computerVision/venv/lib/python3.9/site-packages/inference/core/interfaces/stream/inference_pipeline.py#907\" target=\"_blank\"><span style=\"color: #7f7f7f; text-decoration-color: #7f7f7f\">907</span></a>\n",
       "<span style=\"color: #7fbfbf; text-decoration-color: #7fbfbf\">                    </span>         <span style=\"color: #008080; text-decoration-color: #008080; font-weight: bold\">1</span> positional argument but <span style=\"color: #008080; text-decoration-color: #008080; font-weight: bold\">2</span> were given                       <span style=\"color: #7f7f7f; text-decoration-color: #7f7f7f\">                         </span>\n",
       "</pre>\n"
      ],
      "text/plain": [
       "\u001b[2;36m                   \u001b[0m\u001b[2;36m \u001b[0m\u001b[31mWARNING \u001b[0m Error in results dispatching - \u001b[1;35mrender_boxes_on_frame\u001b[0m\u001b[1m(\u001b[0m\u001b[1m)\u001b[0m takes \u001b]8;id=762680;file:///Users/saadia/Documents/DevIA_2024/ShiFuMi_computerVision/venv/lib/python3.9/site-packages/inference/core/interfaces/stream/inference_pipeline.py\u001b\\\u001b[2minference_pipeline.py\u001b[0m\u001b]8;;\u001b\\\u001b[2m:\u001b[0m\u001b]8;id=36211;file:///Users/saadia/Documents/DevIA_2024/ShiFuMi_computerVision/venv/lib/python3.9/site-packages/inference/core/interfaces/stream/inference_pipeline.py#907\u001b\\\u001b[2m907\u001b[0m\u001b]8;;\u001b\\\n",
       "\u001b[2;36m                    \u001b[0m         \u001b[1;36m1\u001b[0m positional argument but \u001b[1;36m2\u001b[0m were given                       \u001b[2m                         \u001b[0m\n"
      ]
     },
     "metadata": {},
     "output_type": "display_data"
    },
    {
     "name": "stdout",
     "output_type": "stream",
     "text": [
      "0: 640x640 (no detections), 150.5ms\n",
      "Speed: 2.1ms preprocess, 150.5ms inference, 0.4ms postprocess per image at shape (1, 3, 640, 640)\n",
      "Video frames: 1\n",
      "\n"
     ]
    },
    {
     "data": {
      "text/html": [
       "<pre style=\"white-space:pre;overflow-x:auto;line-height:normal;font-family:Menlo,'DejaVu Sans Mono',consolas,'Courier New',monospace\"><span style=\"color: #7fbfbf; text-decoration-color: #7fbfbf\">                    </span><span style=\"color: #800000; text-decoration-color: #800000\">WARNING </span> Error in results dispatching - <span style=\"color: #800080; text-decoration-color: #800080; font-weight: bold\">render_boxes_on_frame</span><span style=\"font-weight: bold\">()</span> takes <a href=\"file:///Users/saadia/Documents/DevIA_2024/ShiFuMi_computerVision/venv/lib/python3.9/site-packages/inference/core/interfaces/stream/inference_pipeline.py\" target=\"_blank\"><span style=\"color: #7f7f7f; text-decoration-color: #7f7f7f\">inference_pipeline.py</span></a><span style=\"color: #7f7f7f; text-decoration-color: #7f7f7f\">:</span><a href=\"file:///Users/saadia/Documents/DevIA_2024/ShiFuMi_computerVision/venv/lib/python3.9/site-packages/inference/core/interfaces/stream/inference_pipeline.py#907\" target=\"_blank\"><span style=\"color: #7f7f7f; text-decoration-color: #7f7f7f\">907</span></a>\n",
       "<span style=\"color: #7fbfbf; text-decoration-color: #7fbfbf\">                    </span>         <span style=\"color: #008080; text-decoration-color: #008080; font-weight: bold\">1</span> positional argument but <span style=\"color: #008080; text-decoration-color: #008080; font-weight: bold\">2</span> were given                       <span style=\"color: #7f7f7f; text-decoration-color: #7f7f7f\">                         </span>\n",
       "</pre>\n"
      ],
      "text/plain": [
       "\u001b[2;36m                   \u001b[0m\u001b[2;36m \u001b[0m\u001b[31mWARNING \u001b[0m Error in results dispatching - \u001b[1;35mrender_boxes_on_frame\u001b[0m\u001b[1m(\u001b[0m\u001b[1m)\u001b[0m takes \u001b]8;id=417697;file:///Users/saadia/Documents/DevIA_2024/ShiFuMi_computerVision/venv/lib/python3.9/site-packages/inference/core/interfaces/stream/inference_pipeline.py\u001b\\\u001b[2minference_pipeline.py\u001b[0m\u001b]8;;\u001b\\\u001b[2m:\u001b[0m\u001b]8;id=910375;file:///Users/saadia/Documents/DevIA_2024/ShiFuMi_computerVision/venv/lib/python3.9/site-packages/inference/core/interfaces/stream/inference_pipeline.py#907\u001b\\\u001b[2m907\u001b[0m\u001b]8;;\u001b\\\n",
       "\u001b[2;36m                    \u001b[0m         \u001b[1;36m1\u001b[0m positional argument but \u001b[1;36m2\u001b[0m were given                       \u001b[2m                         \u001b[0m\n"
      ]
     },
     "metadata": {},
     "output_type": "display_data"
    },
    {
     "name": "stdout",
     "output_type": "stream",
     "text": [
      "0: 640x640 (no detections), 153.9ms\n",
      "Speed: 2.1ms preprocess, 153.9ms inference, 0.2ms postprocess per image at shape (1, 3, 640, 640)\n",
      "Video frames: 1\n",
      "\n"
     ]
    },
    {
     "data": {
      "text/html": [
       "<pre style=\"white-space:pre;overflow-x:auto;line-height:normal;font-family:Menlo,'DejaVu Sans Mono',consolas,'Courier New',monospace\"><span style=\"color: #7fbfbf; text-decoration-color: #7fbfbf\">                    </span><span style=\"color: #800000; text-decoration-color: #800000\">WARNING </span> Error in results dispatching - <span style=\"color: #800080; text-decoration-color: #800080; font-weight: bold\">render_boxes_on_frame</span><span style=\"font-weight: bold\">()</span> takes <a href=\"file:///Users/saadia/Documents/DevIA_2024/ShiFuMi_computerVision/venv/lib/python3.9/site-packages/inference/core/interfaces/stream/inference_pipeline.py\" target=\"_blank\"><span style=\"color: #7f7f7f; text-decoration-color: #7f7f7f\">inference_pipeline.py</span></a><span style=\"color: #7f7f7f; text-decoration-color: #7f7f7f\">:</span><a href=\"file:///Users/saadia/Documents/DevIA_2024/ShiFuMi_computerVision/venv/lib/python3.9/site-packages/inference/core/interfaces/stream/inference_pipeline.py#907\" target=\"_blank\"><span style=\"color: #7f7f7f; text-decoration-color: #7f7f7f\">907</span></a>\n",
       "<span style=\"color: #7fbfbf; text-decoration-color: #7fbfbf\">                    </span>         <span style=\"color: #008080; text-decoration-color: #008080; font-weight: bold\">1</span> positional argument but <span style=\"color: #008080; text-decoration-color: #008080; font-weight: bold\">2</span> were given                       <span style=\"color: #7f7f7f; text-decoration-color: #7f7f7f\">                         </span>\n",
       "</pre>\n"
      ],
      "text/plain": [
       "\u001b[2;36m                   \u001b[0m\u001b[2;36m \u001b[0m\u001b[31mWARNING \u001b[0m Error in results dispatching - \u001b[1;35mrender_boxes_on_frame\u001b[0m\u001b[1m(\u001b[0m\u001b[1m)\u001b[0m takes \u001b]8;id=711425;file:///Users/saadia/Documents/DevIA_2024/ShiFuMi_computerVision/venv/lib/python3.9/site-packages/inference/core/interfaces/stream/inference_pipeline.py\u001b\\\u001b[2minference_pipeline.py\u001b[0m\u001b]8;;\u001b\\\u001b[2m:\u001b[0m\u001b]8;id=348298;file:///Users/saadia/Documents/DevIA_2024/ShiFuMi_computerVision/venv/lib/python3.9/site-packages/inference/core/interfaces/stream/inference_pipeline.py#907\u001b\\\u001b[2m907\u001b[0m\u001b]8;;\u001b\\\n",
       "\u001b[2;36m                    \u001b[0m         \u001b[1;36m1\u001b[0m positional argument but \u001b[1;36m2\u001b[0m were given                       \u001b[2m                         \u001b[0m\n"
      ]
     },
     "metadata": {},
     "output_type": "display_data"
    },
    {
     "name": "stdout",
     "output_type": "stream",
     "text": [
      "0: 640x640 (no detections), 154.5ms\n",
      "Speed: 2.0ms preprocess, 154.5ms inference, 0.2ms postprocess per image at shape (1, 3, 640, 640)\n",
      "Video frames: 1\n",
      "\n"
     ]
    },
    {
     "data": {
      "text/html": [
       "<pre style=\"white-space:pre;overflow-x:auto;line-height:normal;font-family:Menlo,'DejaVu Sans Mono',consolas,'Courier New',monospace\"><span style=\"color: #7fbfbf; text-decoration-color: #7fbfbf\">                    </span><span style=\"color: #800000; text-decoration-color: #800000\">WARNING </span> Error in results dispatching - <span style=\"color: #800080; text-decoration-color: #800080; font-weight: bold\">render_boxes_on_frame</span><span style=\"font-weight: bold\">()</span> takes <a href=\"file:///Users/saadia/Documents/DevIA_2024/ShiFuMi_computerVision/venv/lib/python3.9/site-packages/inference/core/interfaces/stream/inference_pipeline.py\" target=\"_blank\"><span style=\"color: #7f7f7f; text-decoration-color: #7f7f7f\">inference_pipeline.py</span></a><span style=\"color: #7f7f7f; text-decoration-color: #7f7f7f\">:</span><a href=\"file:///Users/saadia/Documents/DevIA_2024/ShiFuMi_computerVision/venv/lib/python3.9/site-packages/inference/core/interfaces/stream/inference_pipeline.py#907\" target=\"_blank\"><span style=\"color: #7f7f7f; text-decoration-color: #7f7f7f\">907</span></a>\n",
       "<span style=\"color: #7fbfbf; text-decoration-color: #7fbfbf\">                    </span>         <span style=\"color: #008080; text-decoration-color: #008080; font-weight: bold\">1</span> positional argument but <span style=\"color: #008080; text-decoration-color: #008080; font-weight: bold\">2</span> were given                       <span style=\"color: #7f7f7f; text-decoration-color: #7f7f7f\">                         </span>\n",
       "</pre>\n"
      ],
      "text/plain": [
       "\u001b[2;36m                   \u001b[0m\u001b[2;36m \u001b[0m\u001b[31mWARNING \u001b[0m Error in results dispatching - \u001b[1;35mrender_boxes_on_frame\u001b[0m\u001b[1m(\u001b[0m\u001b[1m)\u001b[0m takes \u001b]8;id=311117;file:///Users/saadia/Documents/DevIA_2024/ShiFuMi_computerVision/venv/lib/python3.9/site-packages/inference/core/interfaces/stream/inference_pipeline.py\u001b\\\u001b[2minference_pipeline.py\u001b[0m\u001b]8;;\u001b\\\u001b[2m:\u001b[0m\u001b]8;id=540876;file:///Users/saadia/Documents/DevIA_2024/ShiFuMi_computerVision/venv/lib/python3.9/site-packages/inference/core/interfaces/stream/inference_pipeline.py#907\u001b\\\u001b[2m907\u001b[0m\u001b]8;;\u001b\\\n",
       "\u001b[2;36m                    \u001b[0m         \u001b[1;36m1\u001b[0m positional argument but \u001b[1;36m2\u001b[0m were given                       \u001b[2m                         \u001b[0m\n"
      ]
     },
     "metadata": {},
     "output_type": "display_data"
    },
    {
     "name": "stdout",
     "output_type": "stream",
     "text": [
      "0: 640x640 (no detections), 154.4ms\n",
      "Speed: 2.5ms preprocess, 154.4ms inference, 0.3ms postprocess per image at shape (1, 3, 640, 640)\n",
      "Video frames: 1\n",
      "\n"
     ]
    },
    {
     "data": {
      "text/html": [
       "<pre style=\"white-space:pre;overflow-x:auto;line-height:normal;font-family:Menlo,'DejaVu Sans Mono',consolas,'Courier New',monospace\"><span style=\"color: #7fbfbf; text-decoration-color: #7fbfbf\">[07/01/24 12:07:46] </span><span style=\"color: #800000; text-decoration-color: #800000\">WARNING </span> Error in results dispatching - <span style=\"color: #800080; text-decoration-color: #800080; font-weight: bold\">render_boxes_on_frame</span><span style=\"font-weight: bold\">()</span> takes <a href=\"file:///Users/saadia/Documents/DevIA_2024/ShiFuMi_computerVision/venv/lib/python3.9/site-packages/inference/core/interfaces/stream/inference_pipeline.py\" target=\"_blank\"><span style=\"color: #7f7f7f; text-decoration-color: #7f7f7f\">inference_pipeline.py</span></a><span style=\"color: #7f7f7f; text-decoration-color: #7f7f7f\">:</span><a href=\"file:///Users/saadia/Documents/DevIA_2024/ShiFuMi_computerVision/venv/lib/python3.9/site-packages/inference/core/interfaces/stream/inference_pipeline.py#907\" target=\"_blank\"><span style=\"color: #7f7f7f; text-decoration-color: #7f7f7f\">907</span></a>\n",
       "<span style=\"color: #7fbfbf; text-decoration-color: #7fbfbf\">                    </span>         <span style=\"color: #008080; text-decoration-color: #008080; font-weight: bold\">1</span> positional argument but <span style=\"color: #008080; text-decoration-color: #008080; font-weight: bold\">2</span> were given                       <span style=\"color: #7f7f7f; text-decoration-color: #7f7f7f\">                         </span>\n",
       "</pre>\n"
      ],
      "text/plain": [
       "\u001b[2;36m[07/01/24 12:07:46]\u001b[0m\u001b[2;36m \u001b[0m\u001b[31mWARNING \u001b[0m Error in results dispatching - \u001b[1;35mrender_boxes_on_frame\u001b[0m\u001b[1m(\u001b[0m\u001b[1m)\u001b[0m takes \u001b]8;id=256598;file:///Users/saadia/Documents/DevIA_2024/ShiFuMi_computerVision/venv/lib/python3.9/site-packages/inference/core/interfaces/stream/inference_pipeline.py\u001b\\\u001b[2minference_pipeline.py\u001b[0m\u001b]8;;\u001b\\\u001b[2m:\u001b[0m\u001b]8;id=920051;file:///Users/saadia/Documents/DevIA_2024/ShiFuMi_computerVision/venv/lib/python3.9/site-packages/inference/core/interfaces/stream/inference_pipeline.py#907\u001b\\\u001b[2m907\u001b[0m\u001b]8;;\u001b\\\n",
       "\u001b[2;36m                    \u001b[0m         \u001b[1;36m1\u001b[0m positional argument but \u001b[1;36m2\u001b[0m were given                       \u001b[2m                         \u001b[0m\n"
      ]
     },
     "metadata": {},
     "output_type": "display_data"
    },
    {
     "name": "stdout",
     "output_type": "stream",
     "text": [
      "0: 640x640 (no detections), 154.0ms\n",
      "Speed: 2.5ms preprocess, 154.0ms inference, 0.3ms postprocess per image at shape (1, 3, 640, 640)\n",
      "Video frames: 1\n",
      "\n"
     ]
    },
    {
     "data": {
      "text/html": [
       "<pre style=\"white-space:pre;overflow-x:auto;line-height:normal;font-family:Menlo,'DejaVu Sans Mono',consolas,'Courier New',monospace\"><span style=\"color: #7fbfbf; text-decoration-color: #7fbfbf\">                    </span><span style=\"color: #800000; text-decoration-color: #800000\">WARNING </span> Error in results dispatching - <span style=\"color: #800080; text-decoration-color: #800080; font-weight: bold\">render_boxes_on_frame</span><span style=\"font-weight: bold\">()</span> takes <a href=\"file:///Users/saadia/Documents/DevIA_2024/ShiFuMi_computerVision/venv/lib/python3.9/site-packages/inference/core/interfaces/stream/inference_pipeline.py\" target=\"_blank\"><span style=\"color: #7f7f7f; text-decoration-color: #7f7f7f\">inference_pipeline.py</span></a><span style=\"color: #7f7f7f; text-decoration-color: #7f7f7f\">:</span><a href=\"file:///Users/saadia/Documents/DevIA_2024/ShiFuMi_computerVision/venv/lib/python3.9/site-packages/inference/core/interfaces/stream/inference_pipeline.py#907\" target=\"_blank\"><span style=\"color: #7f7f7f; text-decoration-color: #7f7f7f\">907</span></a>\n",
       "<span style=\"color: #7fbfbf; text-decoration-color: #7fbfbf\">                    </span>         <span style=\"color: #008080; text-decoration-color: #008080; font-weight: bold\">1</span> positional argument but <span style=\"color: #008080; text-decoration-color: #008080; font-weight: bold\">2</span> were given                       <span style=\"color: #7f7f7f; text-decoration-color: #7f7f7f\">                         </span>\n",
       "</pre>\n"
      ],
      "text/plain": [
       "\u001b[2;36m                   \u001b[0m\u001b[2;36m \u001b[0m\u001b[31mWARNING \u001b[0m Error in results dispatching - \u001b[1;35mrender_boxes_on_frame\u001b[0m\u001b[1m(\u001b[0m\u001b[1m)\u001b[0m takes \u001b]8;id=6160;file:///Users/saadia/Documents/DevIA_2024/ShiFuMi_computerVision/venv/lib/python3.9/site-packages/inference/core/interfaces/stream/inference_pipeline.py\u001b\\\u001b[2minference_pipeline.py\u001b[0m\u001b]8;;\u001b\\\u001b[2m:\u001b[0m\u001b]8;id=468946;file:///Users/saadia/Documents/DevIA_2024/ShiFuMi_computerVision/venv/lib/python3.9/site-packages/inference/core/interfaces/stream/inference_pipeline.py#907\u001b\\\u001b[2m907\u001b[0m\u001b]8;;\u001b\\\n",
       "\u001b[2;36m                    \u001b[0m         \u001b[1;36m1\u001b[0m positional argument but \u001b[1;36m2\u001b[0m were given                       \u001b[2m                         \u001b[0m\n"
      ]
     },
     "metadata": {},
     "output_type": "display_data"
    },
    {
     "name": "stdout",
     "output_type": "stream",
     "text": [
      "0: 640x640 (no detections), 162.0ms\n",
      "Speed: 2.1ms preprocess, 162.0ms inference, 0.3ms postprocess per image at shape (1, 3, 640, 640)\n",
      "Video frames: 1\n",
      "\n"
     ]
    },
    {
     "data": {
      "text/html": [
       "<pre style=\"white-space:pre;overflow-x:auto;line-height:normal;font-family:Menlo,'DejaVu Sans Mono',consolas,'Courier New',monospace\"><span style=\"color: #7fbfbf; text-decoration-color: #7fbfbf\">                    </span><span style=\"color: #800000; text-decoration-color: #800000\">WARNING </span> Error in results dispatching - <span style=\"color: #800080; text-decoration-color: #800080; font-weight: bold\">render_boxes_on_frame</span><span style=\"font-weight: bold\">()</span> takes <a href=\"file:///Users/saadia/Documents/DevIA_2024/ShiFuMi_computerVision/venv/lib/python3.9/site-packages/inference/core/interfaces/stream/inference_pipeline.py\" target=\"_blank\"><span style=\"color: #7f7f7f; text-decoration-color: #7f7f7f\">inference_pipeline.py</span></a><span style=\"color: #7f7f7f; text-decoration-color: #7f7f7f\">:</span><a href=\"file:///Users/saadia/Documents/DevIA_2024/ShiFuMi_computerVision/venv/lib/python3.9/site-packages/inference/core/interfaces/stream/inference_pipeline.py#907\" target=\"_blank\"><span style=\"color: #7f7f7f; text-decoration-color: #7f7f7f\">907</span></a>\n",
       "<span style=\"color: #7fbfbf; text-decoration-color: #7fbfbf\">                    </span>         <span style=\"color: #008080; text-decoration-color: #008080; font-weight: bold\">1</span> positional argument but <span style=\"color: #008080; text-decoration-color: #008080; font-weight: bold\">2</span> were given                       <span style=\"color: #7f7f7f; text-decoration-color: #7f7f7f\">                         </span>\n",
       "</pre>\n"
      ],
      "text/plain": [
       "\u001b[2;36m                   \u001b[0m\u001b[2;36m \u001b[0m\u001b[31mWARNING \u001b[0m Error in results dispatching - \u001b[1;35mrender_boxes_on_frame\u001b[0m\u001b[1m(\u001b[0m\u001b[1m)\u001b[0m takes \u001b]8;id=292945;file:///Users/saadia/Documents/DevIA_2024/ShiFuMi_computerVision/venv/lib/python3.9/site-packages/inference/core/interfaces/stream/inference_pipeline.py\u001b\\\u001b[2minference_pipeline.py\u001b[0m\u001b]8;;\u001b\\\u001b[2m:\u001b[0m\u001b]8;id=83272;file:///Users/saadia/Documents/DevIA_2024/ShiFuMi_computerVision/venv/lib/python3.9/site-packages/inference/core/interfaces/stream/inference_pipeline.py#907\u001b\\\u001b[2m907\u001b[0m\u001b]8;;\u001b\\\n",
       "\u001b[2;36m                    \u001b[0m         \u001b[1;36m1\u001b[0m positional argument but \u001b[1;36m2\u001b[0m were given                       \u001b[2m                         \u001b[0m\n"
      ]
     },
     "metadata": {},
     "output_type": "display_data"
    },
    {
     "name": "stdout",
     "output_type": "stream",
     "text": [
      "0: 640x640 (no detections), 160.5ms\n",
      "Speed: 2.2ms preprocess, 160.5ms inference, 0.3ms postprocess per image at shape (1, 3, 640, 640)\n",
      "Video frames: 1\n",
      "\n"
     ]
    },
    {
     "data": {
      "text/html": [
       "<pre style=\"white-space:pre;overflow-x:auto;line-height:normal;font-family:Menlo,'DejaVu Sans Mono',consolas,'Courier New',monospace\"><span style=\"color: #7fbfbf; text-decoration-color: #7fbfbf\">                    </span><span style=\"color: #800000; text-decoration-color: #800000\">WARNING </span> Error in results dispatching - <span style=\"color: #800080; text-decoration-color: #800080; font-weight: bold\">render_boxes_on_frame</span><span style=\"font-weight: bold\">()</span> takes <a href=\"file:///Users/saadia/Documents/DevIA_2024/ShiFuMi_computerVision/venv/lib/python3.9/site-packages/inference/core/interfaces/stream/inference_pipeline.py\" target=\"_blank\"><span style=\"color: #7f7f7f; text-decoration-color: #7f7f7f\">inference_pipeline.py</span></a><span style=\"color: #7f7f7f; text-decoration-color: #7f7f7f\">:</span><a href=\"file:///Users/saadia/Documents/DevIA_2024/ShiFuMi_computerVision/venv/lib/python3.9/site-packages/inference/core/interfaces/stream/inference_pipeline.py#907\" target=\"_blank\"><span style=\"color: #7f7f7f; text-decoration-color: #7f7f7f\">907</span></a>\n",
       "<span style=\"color: #7fbfbf; text-decoration-color: #7fbfbf\">                    </span>         <span style=\"color: #008080; text-decoration-color: #008080; font-weight: bold\">1</span> positional argument but <span style=\"color: #008080; text-decoration-color: #008080; font-weight: bold\">2</span> were given                       <span style=\"color: #7f7f7f; text-decoration-color: #7f7f7f\">                         </span>\n",
       "</pre>\n"
      ],
      "text/plain": [
       "\u001b[2;36m                   \u001b[0m\u001b[2;36m \u001b[0m\u001b[31mWARNING \u001b[0m Error in results dispatching - \u001b[1;35mrender_boxes_on_frame\u001b[0m\u001b[1m(\u001b[0m\u001b[1m)\u001b[0m takes \u001b]8;id=725405;file:///Users/saadia/Documents/DevIA_2024/ShiFuMi_computerVision/venv/lib/python3.9/site-packages/inference/core/interfaces/stream/inference_pipeline.py\u001b\\\u001b[2minference_pipeline.py\u001b[0m\u001b]8;;\u001b\\\u001b[2m:\u001b[0m\u001b]8;id=514239;file:///Users/saadia/Documents/DevIA_2024/ShiFuMi_computerVision/venv/lib/python3.9/site-packages/inference/core/interfaces/stream/inference_pipeline.py#907\u001b\\\u001b[2m907\u001b[0m\u001b]8;;\u001b\\\n",
       "\u001b[2;36m                    \u001b[0m         \u001b[1;36m1\u001b[0m positional argument but \u001b[1;36m2\u001b[0m were given                       \u001b[2m                         \u001b[0m\n"
      ]
     },
     "metadata": {},
     "output_type": "display_data"
    },
    {
     "name": "stdout",
     "output_type": "stream",
     "text": [
      "0: 640x640 (no detections), 153.5ms\n",
      "Speed: 2.0ms preprocess, 153.5ms inference, 0.3ms postprocess per image at shape (1, 3, 640, 640)\n",
      "Video frames: 1\n",
      "\n"
     ]
    },
    {
     "data": {
      "text/html": [
       "<pre style=\"white-space:pre;overflow-x:auto;line-height:normal;font-family:Menlo,'DejaVu Sans Mono',consolas,'Courier New',monospace\"><span style=\"color: #7fbfbf; text-decoration-color: #7fbfbf\">                    </span><span style=\"color: #800000; text-decoration-color: #800000\">WARNING </span> Error in results dispatching - <span style=\"color: #800080; text-decoration-color: #800080; font-weight: bold\">render_boxes_on_frame</span><span style=\"font-weight: bold\">()</span> takes <a href=\"file:///Users/saadia/Documents/DevIA_2024/ShiFuMi_computerVision/venv/lib/python3.9/site-packages/inference/core/interfaces/stream/inference_pipeline.py\" target=\"_blank\"><span style=\"color: #7f7f7f; text-decoration-color: #7f7f7f\">inference_pipeline.py</span></a><span style=\"color: #7f7f7f; text-decoration-color: #7f7f7f\">:</span><a href=\"file:///Users/saadia/Documents/DevIA_2024/ShiFuMi_computerVision/venv/lib/python3.9/site-packages/inference/core/interfaces/stream/inference_pipeline.py#907\" target=\"_blank\"><span style=\"color: #7f7f7f; text-decoration-color: #7f7f7f\">907</span></a>\n",
       "<span style=\"color: #7fbfbf; text-decoration-color: #7fbfbf\">                    </span>         <span style=\"color: #008080; text-decoration-color: #008080; font-weight: bold\">1</span> positional argument but <span style=\"color: #008080; text-decoration-color: #008080; font-weight: bold\">2</span> were given                       <span style=\"color: #7f7f7f; text-decoration-color: #7f7f7f\">                         </span>\n",
       "</pre>\n"
      ],
      "text/plain": [
       "\u001b[2;36m                   \u001b[0m\u001b[2;36m \u001b[0m\u001b[31mWARNING \u001b[0m Error in results dispatching - \u001b[1;35mrender_boxes_on_frame\u001b[0m\u001b[1m(\u001b[0m\u001b[1m)\u001b[0m takes \u001b]8;id=832196;file:///Users/saadia/Documents/DevIA_2024/ShiFuMi_computerVision/venv/lib/python3.9/site-packages/inference/core/interfaces/stream/inference_pipeline.py\u001b\\\u001b[2minference_pipeline.py\u001b[0m\u001b]8;;\u001b\\\u001b[2m:\u001b[0m\u001b]8;id=505623;file:///Users/saadia/Documents/DevIA_2024/ShiFuMi_computerVision/venv/lib/python3.9/site-packages/inference/core/interfaces/stream/inference_pipeline.py#907\u001b\\\u001b[2m907\u001b[0m\u001b]8;;\u001b\\\n",
       "\u001b[2;36m                    \u001b[0m         \u001b[1;36m1\u001b[0m positional argument but \u001b[1;36m2\u001b[0m were given                       \u001b[2m                         \u001b[0m\n"
      ]
     },
     "metadata": {},
     "output_type": "display_data"
    },
    {
     "name": "stdout",
     "output_type": "stream",
     "text": [
      "0: 640x640 (no detections), 151.8ms\n",
      "Speed: 2.3ms preprocess, 151.8ms inference, 0.2ms postprocess per image at shape (1, 3, 640, 640)\n",
      "Video frames: 1\n"
     ]
    },
    {
     "data": {
      "text/html": [
       "<pre style=\"white-space:pre;overflow-x:auto;line-height:normal;font-family:Menlo,'DejaVu Sans Mono',consolas,'Courier New',monospace\"><span style=\"color: #7fbfbf; text-decoration-color: #7fbfbf\">                    </span><span style=\"color: #800000; text-decoration-color: #800000\">WARNING </span> Error in results dispatching - <span style=\"color: #800080; text-decoration-color: #800080; font-weight: bold\">render_boxes_on_frame</span><span style=\"font-weight: bold\">()</span> takes <a href=\"file:///Users/saadia/Documents/DevIA_2024/ShiFuMi_computerVision/venv/lib/python3.9/site-packages/inference/core/interfaces/stream/inference_pipeline.py\" target=\"_blank\"><span style=\"color: #7f7f7f; text-decoration-color: #7f7f7f\">inference_pipeline.py</span></a><span style=\"color: #7f7f7f; text-decoration-color: #7f7f7f\">:</span><a href=\"file:///Users/saadia/Documents/DevIA_2024/ShiFuMi_computerVision/venv/lib/python3.9/site-packages/inference/core/interfaces/stream/inference_pipeline.py#907\" target=\"_blank\"><span style=\"color: #7f7f7f; text-decoration-color: #7f7f7f\">907</span></a>\n",
       "<span style=\"color: #7fbfbf; text-decoration-color: #7fbfbf\">                    </span>         <span style=\"color: #008080; text-decoration-color: #008080; font-weight: bold\">1</span> positional argument but <span style=\"color: #008080; text-decoration-color: #008080; font-weight: bold\">2</span> were given                       <span style=\"color: #7f7f7f; text-decoration-color: #7f7f7f\">                         </span>\n",
       "</pre>\n"
      ],
      "text/plain": [
       "\u001b[2;36m                   \u001b[0m\u001b[2;36m \u001b[0m\u001b[31mWARNING \u001b[0m Error in results dispatching - \u001b[1;35mrender_boxes_on_frame\u001b[0m\u001b[1m(\u001b[0m\u001b[1m)\u001b[0m takes \u001b]8;id=311677;file:///Users/saadia/Documents/DevIA_2024/ShiFuMi_computerVision/venv/lib/python3.9/site-packages/inference/core/interfaces/stream/inference_pipeline.py\u001b\\\u001b[2minference_pipeline.py\u001b[0m\u001b]8;;\u001b\\\u001b[2m:\u001b[0m\u001b]8;id=153354;file:///Users/saadia/Documents/DevIA_2024/ShiFuMi_computerVision/venv/lib/python3.9/site-packages/inference/core/interfaces/stream/inference_pipeline.py#907\u001b\\\u001b[2m907\u001b[0m\u001b]8;;\u001b\\\n",
       "\u001b[2;36m                    \u001b[0m         \u001b[1;36m1\u001b[0m positional argument but \u001b[1;36m2\u001b[0m were given                       \u001b[2m                         \u001b[0m\n"
      ]
     },
     "metadata": {},
     "output_type": "display_data"
    },
    {
     "name": "stdout",
     "output_type": "stream",
     "text": [
      "\n",
      "0: 640x640 (no detections), 164.6ms\n",
      "Speed: 2.1ms preprocess, 164.6ms inference, 0.2ms postprocess per image at shape (1, 3, 640, 640)\n",
      "Video frames: 1\n",
      "\n"
     ]
    },
    {
     "data": {
      "text/html": [
       "<pre style=\"white-space:pre;overflow-x:auto;line-height:normal;font-family:Menlo,'DejaVu Sans Mono',consolas,'Courier New',monospace\"><span style=\"color: #7fbfbf; text-decoration-color: #7fbfbf\">[07/01/24 12:07:47] </span><span style=\"color: #800000; text-decoration-color: #800000\">WARNING </span> Error in results dispatching - <span style=\"color: #800080; text-decoration-color: #800080; font-weight: bold\">render_boxes_on_frame</span><span style=\"font-weight: bold\">()</span> takes <a href=\"file:///Users/saadia/Documents/DevIA_2024/ShiFuMi_computerVision/venv/lib/python3.9/site-packages/inference/core/interfaces/stream/inference_pipeline.py\" target=\"_blank\"><span style=\"color: #7f7f7f; text-decoration-color: #7f7f7f\">inference_pipeline.py</span></a><span style=\"color: #7f7f7f; text-decoration-color: #7f7f7f\">:</span><a href=\"file:///Users/saadia/Documents/DevIA_2024/ShiFuMi_computerVision/venv/lib/python3.9/site-packages/inference/core/interfaces/stream/inference_pipeline.py#907\" target=\"_blank\"><span style=\"color: #7f7f7f; text-decoration-color: #7f7f7f\">907</span></a>\n",
       "<span style=\"color: #7fbfbf; text-decoration-color: #7fbfbf\">                    </span>         <span style=\"color: #008080; text-decoration-color: #008080; font-weight: bold\">1</span> positional argument but <span style=\"color: #008080; text-decoration-color: #008080; font-weight: bold\">2</span> were given                       <span style=\"color: #7f7f7f; text-decoration-color: #7f7f7f\">                         </span>\n",
       "</pre>\n"
      ],
      "text/plain": [
       "\u001b[2;36m[07/01/24 12:07:47]\u001b[0m\u001b[2;36m \u001b[0m\u001b[31mWARNING \u001b[0m Error in results dispatching - \u001b[1;35mrender_boxes_on_frame\u001b[0m\u001b[1m(\u001b[0m\u001b[1m)\u001b[0m takes \u001b]8;id=333601;file:///Users/saadia/Documents/DevIA_2024/ShiFuMi_computerVision/venv/lib/python3.9/site-packages/inference/core/interfaces/stream/inference_pipeline.py\u001b\\\u001b[2minference_pipeline.py\u001b[0m\u001b]8;;\u001b\\\u001b[2m:\u001b[0m\u001b]8;id=679180;file:///Users/saadia/Documents/DevIA_2024/ShiFuMi_computerVision/venv/lib/python3.9/site-packages/inference/core/interfaces/stream/inference_pipeline.py#907\u001b\\\u001b[2m907\u001b[0m\u001b]8;;\u001b\\\n",
       "\u001b[2;36m                    \u001b[0m         \u001b[1;36m1\u001b[0m positional argument but \u001b[1;36m2\u001b[0m were given                       \u001b[2m                         \u001b[0m\n"
      ]
     },
     "metadata": {},
     "output_type": "display_data"
    },
    {
     "name": "stdout",
     "output_type": "stream",
     "text": [
      "0: 640x640 (no detections), 159.8ms\n",
      "Speed: 2.6ms preprocess, 159.8ms inference, 0.3ms postprocess per image at shape (1, 3, 640, 640)\n",
      "Video frames: 1\n",
      "\n"
     ]
    },
    {
     "data": {
      "text/html": [
       "<pre style=\"white-space:pre;overflow-x:auto;line-height:normal;font-family:Menlo,'DejaVu Sans Mono',consolas,'Courier New',monospace\"><span style=\"color: #7fbfbf; text-decoration-color: #7fbfbf\">                    </span><span style=\"color: #800000; text-decoration-color: #800000\">WARNING </span> Error in results dispatching - <span style=\"color: #800080; text-decoration-color: #800080; font-weight: bold\">render_boxes_on_frame</span><span style=\"font-weight: bold\">()</span> takes <a href=\"file:///Users/saadia/Documents/DevIA_2024/ShiFuMi_computerVision/venv/lib/python3.9/site-packages/inference/core/interfaces/stream/inference_pipeline.py\" target=\"_blank\"><span style=\"color: #7f7f7f; text-decoration-color: #7f7f7f\">inference_pipeline.py</span></a><span style=\"color: #7f7f7f; text-decoration-color: #7f7f7f\">:</span><a href=\"file:///Users/saadia/Documents/DevIA_2024/ShiFuMi_computerVision/venv/lib/python3.9/site-packages/inference/core/interfaces/stream/inference_pipeline.py#907\" target=\"_blank\"><span style=\"color: #7f7f7f; text-decoration-color: #7f7f7f\">907</span></a>\n",
       "<span style=\"color: #7fbfbf; text-decoration-color: #7fbfbf\">                    </span>         <span style=\"color: #008080; text-decoration-color: #008080; font-weight: bold\">1</span> positional argument but <span style=\"color: #008080; text-decoration-color: #008080; font-weight: bold\">2</span> were given                       <span style=\"color: #7f7f7f; text-decoration-color: #7f7f7f\">                         </span>\n",
       "</pre>\n"
      ],
      "text/plain": [
       "\u001b[2;36m                   \u001b[0m\u001b[2;36m \u001b[0m\u001b[31mWARNING \u001b[0m Error in results dispatching - \u001b[1;35mrender_boxes_on_frame\u001b[0m\u001b[1m(\u001b[0m\u001b[1m)\u001b[0m takes \u001b]8;id=463275;file:///Users/saadia/Documents/DevIA_2024/ShiFuMi_computerVision/venv/lib/python3.9/site-packages/inference/core/interfaces/stream/inference_pipeline.py\u001b\\\u001b[2minference_pipeline.py\u001b[0m\u001b]8;;\u001b\\\u001b[2m:\u001b[0m\u001b]8;id=821634;file:///Users/saadia/Documents/DevIA_2024/ShiFuMi_computerVision/venv/lib/python3.9/site-packages/inference/core/interfaces/stream/inference_pipeline.py#907\u001b\\\u001b[2m907\u001b[0m\u001b]8;;\u001b\\\n",
       "\u001b[2;36m                    \u001b[0m         \u001b[1;36m1\u001b[0m positional argument but \u001b[1;36m2\u001b[0m were given                       \u001b[2m                         \u001b[0m\n"
      ]
     },
     "metadata": {},
     "output_type": "display_data"
    },
    {
     "name": "stdout",
     "output_type": "stream",
     "text": [
      "0: 640x640 (no detections), 165.5ms\n",
      "Speed: 1.8ms preprocess, 165.5ms inference, 0.2ms postprocess per image at shape (1, 3, 640, 640)\n",
      "Video frames: 1\n",
      "\n"
     ]
    },
    {
     "data": {
      "text/html": [
       "<pre style=\"white-space:pre;overflow-x:auto;line-height:normal;font-family:Menlo,'DejaVu Sans Mono',consolas,'Courier New',monospace\"><span style=\"color: #7fbfbf; text-decoration-color: #7fbfbf\">                    </span><span style=\"color: #800000; text-decoration-color: #800000\">WARNING </span> Error in results dispatching - <span style=\"color: #800080; text-decoration-color: #800080; font-weight: bold\">render_boxes_on_frame</span><span style=\"font-weight: bold\">()</span> takes <a href=\"file:///Users/saadia/Documents/DevIA_2024/ShiFuMi_computerVision/venv/lib/python3.9/site-packages/inference/core/interfaces/stream/inference_pipeline.py\" target=\"_blank\"><span style=\"color: #7f7f7f; text-decoration-color: #7f7f7f\">inference_pipeline.py</span></a><span style=\"color: #7f7f7f; text-decoration-color: #7f7f7f\">:</span><a href=\"file:///Users/saadia/Documents/DevIA_2024/ShiFuMi_computerVision/venv/lib/python3.9/site-packages/inference/core/interfaces/stream/inference_pipeline.py#907\" target=\"_blank\"><span style=\"color: #7f7f7f; text-decoration-color: #7f7f7f\">907</span></a>\n",
       "<span style=\"color: #7fbfbf; text-decoration-color: #7fbfbf\">                    </span>         <span style=\"color: #008080; text-decoration-color: #008080; font-weight: bold\">1</span> positional argument but <span style=\"color: #008080; text-decoration-color: #008080; font-weight: bold\">2</span> were given                       <span style=\"color: #7f7f7f; text-decoration-color: #7f7f7f\">                         </span>\n",
       "</pre>\n"
      ],
      "text/plain": [
       "\u001b[2;36m                   \u001b[0m\u001b[2;36m \u001b[0m\u001b[31mWARNING \u001b[0m Error in results dispatching - \u001b[1;35mrender_boxes_on_frame\u001b[0m\u001b[1m(\u001b[0m\u001b[1m)\u001b[0m takes \u001b]8;id=202030;file:///Users/saadia/Documents/DevIA_2024/ShiFuMi_computerVision/venv/lib/python3.9/site-packages/inference/core/interfaces/stream/inference_pipeline.py\u001b\\\u001b[2minference_pipeline.py\u001b[0m\u001b]8;;\u001b\\\u001b[2m:\u001b[0m\u001b]8;id=469534;file:///Users/saadia/Documents/DevIA_2024/ShiFuMi_computerVision/venv/lib/python3.9/site-packages/inference/core/interfaces/stream/inference_pipeline.py#907\u001b\\\u001b[2m907\u001b[0m\u001b]8;;\u001b\\\n",
       "\u001b[2;36m                    \u001b[0m         \u001b[1;36m1\u001b[0m positional argument but \u001b[1;36m2\u001b[0m were given                       \u001b[2m                         \u001b[0m\n"
      ]
     },
     "metadata": {},
     "output_type": "display_data"
    },
    {
     "name": "stdout",
     "output_type": "stream",
     "text": [
      "0: 640x640 (no detections), 162.2ms\n",
      "Speed: 2.5ms preprocess, 162.2ms inference, 0.3ms postprocess per image at shape (1, 3, 640, 640)\n",
      "Video frames: 1\n",
      "\n"
     ]
    },
    {
     "data": {
      "text/html": [
       "<pre style=\"white-space:pre;overflow-x:auto;line-height:normal;font-family:Menlo,'DejaVu Sans Mono',consolas,'Courier New',monospace\"><span style=\"color: #7fbfbf; text-decoration-color: #7fbfbf\">                    </span><span style=\"color: #800000; text-decoration-color: #800000\">WARNING </span> Error in results dispatching - <span style=\"color: #800080; text-decoration-color: #800080; font-weight: bold\">render_boxes_on_frame</span><span style=\"font-weight: bold\">()</span> takes <a href=\"file:///Users/saadia/Documents/DevIA_2024/ShiFuMi_computerVision/venv/lib/python3.9/site-packages/inference/core/interfaces/stream/inference_pipeline.py\" target=\"_blank\"><span style=\"color: #7f7f7f; text-decoration-color: #7f7f7f\">inference_pipeline.py</span></a><span style=\"color: #7f7f7f; text-decoration-color: #7f7f7f\">:</span><a href=\"file:///Users/saadia/Documents/DevIA_2024/ShiFuMi_computerVision/venv/lib/python3.9/site-packages/inference/core/interfaces/stream/inference_pipeline.py#907\" target=\"_blank\"><span style=\"color: #7f7f7f; text-decoration-color: #7f7f7f\">907</span></a>\n",
       "<span style=\"color: #7fbfbf; text-decoration-color: #7fbfbf\">                    </span>         <span style=\"color: #008080; text-decoration-color: #008080; font-weight: bold\">1</span> positional argument but <span style=\"color: #008080; text-decoration-color: #008080; font-weight: bold\">2</span> were given                       <span style=\"color: #7f7f7f; text-decoration-color: #7f7f7f\">                         </span>\n",
       "</pre>\n"
      ],
      "text/plain": [
       "\u001b[2;36m                   \u001b[0m\u001b[2;36m \u001b[0m\u001b[31mWARNING \u001b[0m Error in results dispatching - \u001b[1;35mrender_boxes_on_frame\u001b[0m\u001b[1m(\u001b[0m\u001b[1m)\u001b[0m takes \u001b]8;id=574551;file:///Users/saadia/Documents/DevIA_2024/ShiFuMi_computerVision/venv/lib/python3.9/site-packages/inference/core/interfaces/stream/inference_pipeline.py\u001b\\\u001b[2minference_pipeline.py\u001b[0m\u001b]8;;\u001b\\\u001b[2m:\u001b[0m\u001b]8;id=792491;file:///Users/saadia/Documents/DevIA_2024/ShiFuMi_computerVision/venv/lib/python3.9/site-packages/inference/core/interfaces/stream/inference_pipeline.py#907\u001b\\\u001b[2m907\u001b[0m\u001b]8;;\u001b\\\n",
       "\u001b[2;36m                    \u001b[0m         \u001b[1;36m1\u001b[0m positional argument but \u001b[1;36m2\u001b[0m were given                       \u001b[2m                         \u001b[0m\n"
      ]
     },
     "metadata": {},
     "output_type": "display_data"
    },
    {
     "name": "stdout",
     "output_type": "stream",
     "text": [
      "0: 640x640 (no detections), 158.6ms\n",
      "Speed: 2.9ms preprocess, 158.6ms inference, 0.3ms postprocess per image at shape (1, 3, 640, 640)\n",
      "Video frames: 1\n",
      "\n"
     ]
    },
    {
     "data": {
      "text/html": [
       "<pre style=\"white-space:pre;overflow-x:auto;line-height:normal;font-family:Menlo,'DejaVu Sans Mono',consolas,'Courier New',monospace\"><span style=\"color: #7fbfbf; text-decoration-color: #7fbfbf\">                    </span><span style=\"color: #800000; text-decoration-color: #800000\">WARNING </span> Error in results dispatching - <span style=\"color: #800080; text-decoration-color: #800080; font-weight: bold\">render_boxes_on_frame</span><span style=\"font-weight: bold\">()</span> takes <a href=\"file:///Users/saadia/Documents/DevIA_2024/ShiFuMi_computerVision/venv/lib/python3.9/site-packages/inference/core/interfaces/stream/inference_pipeline.py\" target=\"_blank\"><span style=\"color: #7f7f7f; text-decoration-color: #7f7f7f\">inference_pipeline.py</span></a><span style=\"color: #7f7f7f; text-decoration-color: #7f7f7f\">:</span><a href=\"file:///Users/saadia/Documents/DevIA_2024/ShiFuMi_computerVision/venv/lib/python3.9/site-packages/inference/core/interfaces/stream/inference_pipeline.py#907\" target=\"_blank\"><span style=\"color: #7f7f7f; text-decoration-color: #7f7f7f\">907</span></a>\n",
       "<span style=\"color: #7fbfbf; text-decoration-color: #7fbfbf\">                    </span>         <span style=\"color: #008080; text-decoration-color: #008080; font-weight: bold\">1</span> positional argument but <span style=\"color: #008080; text-decoration-color: #008080; font-weight: bold\">2</span> were given                       <span style=\"color: #7f7f7f; text-decoration-color: #7f7f7f\">                         </span>\n",
       "</pre>\n"
      ],
      "text/plain": [
       "\u001b[2;36m                   \u001b[0m\u001b[2;36m \u001b[0m\u001b[31mWARNING \u001b[0m Error in results dispatching - \u001b[1;35mrender_boxes_on_frame\u001b[0m\u001b[1m(\u001b[0m\u001b[1m)\u001b[0m takes \u001b]8;id=294949;file:///Users/saadia/Documents/DevIA_2024/ShiFuMi_computerVision/venv/lib/python3.9/site-packages/inference/core/interfaces/stream/inference_pipeline.py\u001b\\\u001b[2minference_pipeline.py\u001b[0m\u001b]8;;\u001b\\\u001b[2m:\u001b[0m\u001b]8;id=602516;file:///Users/saadia/Documents/DevIA_2024/ShiFuMi_computerVision/venv/lib/python3.9/site-packages/inference/core/interfaces/stream/inference_pipeline.py#907\u001b\\\u001b[2m907\u001b[0m\u001b]8;;\u001b\\\n",
       "\u001b[2;36m                    \u001b[0m         \u001b[1;36m1\u001b[0m positional argument but \u001b[1;36m2\u001b[0m were given                       \u001b[2m                         \u001b[0m\n"
      ]
     },
     "metadata": {},
     "output_type": "display_data"
    },
    {
     "name": "stdout",
     "output_type": "stream",
     "text": [
      "0: 640x640 (no detections), 176.0ms\n",
      "Speed: 2.7ms preprocess, 176.0ms inference, 0.2ms postprocess per image at shape (1, 3, 640, 640)\n",
      "Video frames: 1\n",
      "\n"
     ]
    },
    {
     "data": {
      "text/html": [
       "<pre style=\"white-space:pre;overflow-x:auto;line-height:normal;font-family:Menlo,'DejaVu Sans Mono',consolas,'Courier New',monospace\"><span style=\"color: #7fbfbf; text-decoration-color: #7fbfbf\">                    </span><span style=\"color: #800000; text-decoration-color: #800000\">WARNING </span> Error in results dispatching - <span style=\"color: #800080; text-decoration-color: #800080; font-weight: bold\">render_boxes_on_frame</span><span style=\"font-weight: bold\">()</span> takes <a href=\"file:///Users/saadia/Documents/DevIA_2024/ShiFuMi_computerVision/venv/lib/python3.9/site-packages/inference/core/interfaces/stream/inference_pipeline.py\" target=\"_blank\"><span style=\"color: #7f7f7f; text-decoration-color: #7f7f7f\">inference_pipeline.py</span></a><span style=\"color: #7f7f7f; text-decoration-color: #7f7f7f\">:</span><a href=\"file:///Users/saadia/Documents/DevIA_2024/ShiFuMi_computerVision/venv/lib/python3.9/site-packages/inference/core/interfaces/stream/inference_pipeline.py#907\" target=\"_blank\"><span style=\"color: #7f7f7f; text-decoration-color: #7f7f7f\">907</span></a>\n",
       "<span style=\"color: #7fbfbf; text-decoration-color: #7fbfbf\">                    </span>         <span style=\"color: #008080; text-decoration-color: #008080; font-weight: bold\">1</span> positional argument but <span style=\"color: #008080; text-decoration-color: #008080; font-weight: bold\">2</span> were given                       <span style=\"color: #7f7f7f; text-decoration-color: #7f7f7f\">                         </span>\n",
       "</pre>\n"
      ],
      "text/plain": [
       "\u001b[2;36m                   \u001b[0m\u001b[2;36m \u001b[0m\u001b[31mWARNING \u001b[0m Error in results dispatching - \u001b[1;35mrender_boxes_on_frame\u001b[0m\u001b[1m(\u001b[0m\u001b[1m)\u001b[0m takes \u001b]8;id=792043;file:///Users/saadia/Documents/DevIA_2024/ShiFuMi_computerVision/venv/lib/python3.9/site-packages/inference/core/interfaces/stream/inference_pipeline.py\u001b\\\u001b[2minference_pipeline.py\u001b[0m\u001b]8;;\u001b\\\u001b[2m:\u001b[0m\u001b]8;id=982818;file:///Users/saadia/Documents/DevIA_2024/ShiFuMi_computerVision/venv/lib/python3.9/site-packages/inference/core/interfaces/stream/inference_pipeline.py#907\u001b\\\u001b[2m907\u001b[0m\u001b]8;;\u001b\\\n",
       "\u001b[2;36m                    \u001b[0m         \u001b[1;36m1\u001b[0m positional argument but \u001b[1;36m2\u001b[0m were given                       \u001b[2m                         \u001b[0m\n"
      ]
     },
     "metadata": {},
     "output_type": "display_data"
    },
    {
     "name": "stdout",
     "output_type": "stream",
     "text": [
      "0: 640x640 (no detections), 158.8ms\n",
      "Speed: 2.0ms preprocess, 158.8ms inference, 0.2ms postprocess per image at shape (1, 3, 640, 640)\n",
      "Video frames: 1\n",
      "\n"
     ]
    },
    {
     "data": {
      "text/html": [
       "<pre style=\"white-space:pre;overflow-x:auto;line-height:normal;font-family:Menlo,'DejaVu Sans Mono',consolas,'Courier New',monospace\"><span style=\"color: #7fbfbf; text-decoration-color: #7fbfbf\">[07/01/24 12:07:48] </span><span style=\"color: #800000; text-decoration-color: #800000\">WARNING </span> Error in results dispatching - <span style=\"color: #800080; text-decoration-color: #800080; font-weight: bold\">render_boxes_on_frame</span><span style=\"font-weight: bold\">()</span> takes <a href=\"file:///Users/saadia/Documents/DevIA_2024/ShiFuMi_computerVision/venv/lib/python3.9/site-packages/inference/core/interfaces/stream/inference_pipeline.py\" target=\"_blank\"><span style=\"color: #7f7f7f; text-decoration-color: #7f7f7f\">inference_pipeline.py</span></a><span style=\"color: #7f7f7f; text-decoration-color: #7f7f7f\">:</span><a href=\"file:///Users/saadia/Documents/DevIA_2024/ShiFuMi_computerVision/venv/lib/python3.9/site-packages/inference/core/interfaces/stream/inference_pipeline.py#907\" target=\"_blank\"><span style=\"color: #7f7f7f; text-decoration-color: #7f7f7f\">907</span></a>\n",
       "<span style=\"color: #7fbfbf; text-decoration-color: #7fbfbf\">                    </span>         <span style=\"color: #008080; text-decoration-color: #008080; font-weight: bold\">1</span> positional argument but <span style=\"color: #008080; text-decoration-color: #008080; font-weight: bold\">2</span> were given                       <span style=\"color: #7f7f7f; text-decoration-color: #7f7f7f\">                         </span>\n",
       "</pre>\n"
      ],
      "text/plain": [
       "\u001b[2;36m[07/01/24 12:07:48]\u001b[0m\u001b[2;36m \u001b[0m\u001b[31mWARNING \u001b[0m Error in results dispatching - \u001b[1;35mrender_boxes_on_frame\u001b[0m\u001b[1m(\u001b[0m\u001b[1m)\u001b[0m takes \u001b]8;id=315529;file:///Users/saadia/Documents/DevIA_2024/ShiFuMi_computerVision/venv/lib/python3.9/site-packages/inference/core/interfaces/stream/inference_pipeline.py\u001b\\\u001b[2minference_pipeline.py\u001b[0m\u001b]8;;\u001b\\\u001b[2m:\u001b[0m\u001b]8;id=265129;file:///Users/saadia/Documents/DevIA_2024/ShiFuMi_computerVision/venv/lib/python3.9/site-packages/inference/core/interfaces/stream/inference_pipeline.py#907\u001b\\\u001b[2m907\u001b[0m\u001b]8;;\u001b\\\n",
       "\u001b[2;36m                    \u001b[0m         \u001b[1;36m1\u001b[0m positional argument but \u001b[1;36m2\u001b[0m were given                       \u001b[2m                         \u001b[0m\n"
      ]
     },
     "metadata": {},
     "output_type": "display_data"
    },
    {
     "name": "stdout",
     "output_type": "stream",
     "text": [
      "0: 640x640 (no detections), 163.5ms\n",
      "Speed: 3.1ms preprocess, 163.5ms inference, 0.2ms postprocess per image at shape (1, 3, 640, 640)\n",
      "Video frames: 1\n",
      "\n"
     ]
    },
    {
     "data": {
      "text/html": [
       "<pre style=\"white-space:pre;overflow-x:auto;line-height:normal;font-family:Menlo,'DejaVu Sans Mono',consolas,'Courier New',monospace\"><span style=\"color: #7fbfbf; text-decoration-color: #7fbfbf\">                    </span><span style=\"color: #800000; text-decoration-color: #800000\">WARNING </span> Error in results dispatching - <span style=\"color: #800080; text-decoration-color: #800080; font-weight: bold\">render_boxes_on_frame</span><span style=\"font-weight: bold\">()</span> takes <a href=\"file:///Users/saadia/Documents/DevIA_2024/ShiFuMi_computerVision/venv/lib/python3.9/site-packages/inference/core/interfaces/stream/inference_pipeline.py\" target=\"_blank\"><span style=\"color: #7f7f7f; text-decoration-color: #7f7f7f\">inference_pipeline.py</span></a><span style=\"color: #7f7f7f; text-decoration-color: #7f7f7f\">:</span><a href=\"file:///Users/saadia/Documents/DevIA_2024/ShiFuMi_computerVision/venv/lib/python3.9/site-packages/inference/core/interfaces/stream/inference_pipeline.py#907\" target=\"_blank\"><span style=\"color: #7f7f7f; text-decoration-color: #7f7f7f\">907</span></a>\n",
       "<span style=\"color: #7fbfbf; text-decoration-color: #7fbfbf\">                    </span>         <span style=\"color: #008080; text-decoration-color: #008080; font-weight: bold\">1</span> positional argument but <span style=\"color: #008080; text-decoration-color: #008080; font-weight: bold\">2</span> were given                       <span style=\"color: #7f7f7f; text-decoration-color: #7f7f7f\">                         </span>\n",
       "</pre>\n"
      ],
      "text/plain": [
       "\u001b[2;36m                   \u001b[0m\u001b[2;36m \u001b[0m\u001b[31mWARNING \u001b[0m Error in results dispatching - \u001b[1;35mrender_boxes_on_frame\u001b[0m\u001b[1m(\u001b[0m\u001b[1m)\u001b[0m takes \u001b]8;id=153695;file:///Users/saadia/Documents/DevIA_2024/ShiFuMi_computerVision/venv/lib/python3.9/site-packages/inference/core/interfaces/stream/inference_pipeline.py\u001b\\\u001b[2minference_pipeline.py\u001b[0m\u001b]8;;\u001b\\\u001b[2m:\u001b[0m\u001b]8;id=114746;file:///Users/saadia/Documents/DevIA_2024/ShiFuMi_computerVision/venv/lib/python3.9/site-packages/inference/core/interfaces/stream/inference_pipeline.py#907\u001b\\\u001b[2m907\u001b[0m\u001b]8;;\u001b\\\n",
       "\u001b[2;36m                    \u001b[0m         \u001b[1;36m1\u001b[0m positional argument but \u001b[1;36m2\u001b[0m were given                       \u001b[2m                         \u001b[0m\n"
      ]
     },
     "metadata": {},
     "output_type": "display_data"
    },
    {
     "name": "stdout",
     "output_type": "stream",
     "text": [
      "0: 640x640 (no detections), 159.6ms\n",
      "Speed: 2.0ms preprocess, 159.6ms inference, 0.3ms postprocess per image at shape (1, 3, 640, 640)\n",
      "Video frames: 1\n",
      "\n"
     ]
    },
    {
     "data": {
      "text/html": [
       "<pre style=\"white-space:pre;overflow-x:auto;line-height:normal;font-family:Menlo,'DejaVu Sans Mono',consolas,'Courier New',monospace\"><span style=\"color: #7fbfbf; text-decoration-color: #7fbfbf\">                    </span><span style=\"color: #800000; text-decoration-color: #800000\">WARNING </span> Error in results dispatching - <span style=\"color: #800080; text-decoration-color: #800080; font-weight: bold\">render_boxes_on_frame</span><span style=\"font-weight: bold\">()</span> takes <a href=\"file:///Users/saadia/Documents/DevIA_2024/ShiFuMi_computerVision/venv/lib/python3.9/site-packages/inference/core/interfaces/stream/inference_pipeline.py\" target=\"_blank\"><span style=\"color: #7f7f7f; text-decoration-color: #7f7f7f\">inference_pipeline.py</span></a><span style=\"color: #7f7f7f; text-decoration-color: #7f7f7f\">:</span><a href=\"file:///Users/saadia/Documents/DevIA_2024/ShiFuMi_computerVision/venv/lib/python3.9/site-packages/inference/core/interfaces/stream/inference_pipeline.py#907\" target=\"_blank\"><span style=\"color: #7f7f7f; text-decoration-color: #7f7f7f\">907</span></a>\n",
       "<span style=\"color: #7fbfbf; text-decoration-color: #7fbfbf\">                    </span>         <span style=\"color: #008080; text-decoration-color: #008080; font-weight: bold\">1</span> positional argument but <span style=\"color: #008080; text-decoration-color: #008080; font-weight: bold\">2</span> were given                       <span style=\"color: #7f7f7f; text-decoration-color: #7f7f7f\">                         </span>\n",
       "</pre>\n"
      ],
      "text/plain": [
       "\u001b[2;36m                   \u001b[0m\u001b[2;36m \u001b[0m\u001b[31mWARNING \u001b[0m Error in results dispatching - \u001b[1;35mrender_boxes_on_frame\u001b[0m\u001b[1m(\u001b[0m\u001b[1m)\u001b[0m takes \u001b]8;id=644283;file:///Users/saadia/Documents/DevIA_2024/ShiFuMi_computerVision/venv/lib/python3.9/site-packages/inference/core/interfaces/stream/inference_pipeline.py\u001b\\\u001b[2minference_pipeline.py\u001b[0m\u001b]8;;\u001b\\\u001b[2m:\u001b[0m\u001b]8;id=841260;file:///Users/saadia/Documents/DevIA_2024/ShiFuMi_computerVision/venv/lib/python3.9/site-packages/inference/core/interfaces/stream/inference_pipeline.py#907\u001b\\\u001b[2m907\u001b[0m\u001b]8;;\u001b\\\n",
       "\u001b[2;36m                    \u001b[0m         \u001b[1;36m1\u001b[0m positional argument but \u001b[1;36m2\u001b[0m were given                       \u001b[2m                         \u001b[0m\n"
      ]
     },
     "metadata": {},
     "output_type": "display_data"
    },
    {
     "name": "stdout",
     "output_type": "stream",
     "text": [
      "0: 640x640 (no detections), 158.7ms\n",
      "Speed: 2.1ms preprocess, 158.7ms inference, 0.3ms postprocess per image at shape (1, 3, 640, 640)\n",
      "Video frames: 1\n",
      "\n"
     ]
    },
    {
     "data": {
      "text/html": [
       "<pre style=\"white-space:pre;overflow-x:auto;line-height:normal;font-family:Menlo,'DejaVu Sans Mono',consolas,'Courier New',monospace\"><span style=\"color: #7fbfbf; text-decoration-color: #7fbfbf\">                    </span><span style=\"color: #800000; text-decoration-color: #800000\">WARNING </span> Error in results dispatching - <span style=\"color: #800080; text-decoration-color: #800080; font-weight: bold\">render_boxes_on_frame</span><span style=\"font-weight: bold\">()</span> takes <a href=\"file:///Users/saadia/Documents/DevIA_2024/ShiFuMi_computerVision/venv/lib/python3.9/site-packages/inference/core/interfaces/stream/inference_pipeline.py\" target=\"_blank\"><span style=\"color: #7f7f7f; text-decoration-color: #7f7f7f\">inference_pipeline.py</span></a><span style=\"color: #7f7f7f; text-decoration-color: #7f7f7f\">:</span><a href=\"file:///Users/saadia/Documents/DevIA_2024/ShiFuMi_computerVision/venv/lib/python3.9/site-packages/inference/core/interfaces/stream/inference_pipeline.py#907\" target=\"_blank\"><span style=\"color: #7f7f7f; text-decoration-color: #7f7f7f\">907</span></a>\n",
       "<span style=\"color: #7fbfbf; text-decoration-color: #7fbfbf\">                    </span>         <span style=\"color: #008080; text-decoration-color: #008080; font-weight: bold\">1</span> positional argument but <span style=\"color: #008080; text-decoration-color: #008080; font-weight: bold\">2</span> were given                       <span style=\"color: #7f7f7f; text-decoration-color: #7f7f7f\">                         </span>\n",
       "</pre>\n"
      ],
      "text/plain": [
       "\u001b[2;36m                   \u001b[0m\u001b[2;36m \u001b[0m\u001b[31mWARNING \u001b[0m Error in results dispatching - \u001b[1;35mrender_boxes_on_frame\u001b[0m\u001b[1m(\u001b[0m\u001b[1m)\u001b[0m takes \u001b]8;id=28091;file:///Users/saadia/Documents/DevIA_2024/ShiFuMi_computerVision/venv/lib/python3.9/site-packages/inference/core/interfaces/stream/inference_pipeline.py\u001b\\\u001b[2minference_pipeline.py\u001b[0m\u001b]8;;\u001b\\\u001b[2m:\u001b[0m\u001b]8;id=914942;file:///Users/saadia/Documents/DevIA_2024/ShiFuMi_computerVision/venv/lib/python3.9/site-packages/inference/core/interfaces/stream/inference_pipeline.py#907\u001b\\\u001b[2m907\u001b[0m\u001b]8;;\u001b\\\n",
       "\u001b[2;36m                    \u001b[0m         \u001b[1;36m1\u001b[0m positional argument but \u001b[1;36m2\u001b[0m were given                       \u001b[2m                         \u001b[0m\n"
      ]
     },
     "metadata": {},
     "output_type": "display_data"
    },
    {
     "name": "stdout",
     "output_type": "stream",
     "text": [
      "0: 640x640 (no detections), 154.2ms\n",
      "Speed: 2.3ms preprocess, 154.2ms inference, 0.5ms postprocess per image at shape (1, 3, 640, 640)\n",
      "Video frames: 1\n",
      "\n"
     ]
    },
    {
     "data": {
      "text/html": [
       "<pre style=\"white-space:pre;overflow-x:auto;line-height:normal;font-family:Menlo,'DejaVu Sans Mono',consolas,'Courier New',monospace\"><span style=\"color: #7fbfbf; text-decoration-color: #7fbfbf\">                    </span><span style=\"color: #800000; text-decoration-color: #800000\">WARNING </span> Error in results dispatching - <span style=\"color: #800080; text-decoration-color: #800080; font-weight: bold\">render_boxes_on_frame</span><span style=\"font-weight: bold\">()</span> takes <a href=\"file:///Users/saadia/Documents/DevIA_2024/ShiFuMi_computerVision/venv/lib/python3.9/site-packages/inference/core/interfaces/stream/inference_pipeline.py\" target=\"_blank\"><span style=\"color: #7f7f7f; text-decoration-color: #7f7f7f\">inference_pipeline.py</span></a><span style=\"color: #7f7f7f; text-decoration-color: #7f7f7f\">:</span><a href=\"file:///Users/saadia/Documents/DevIA_2024/ShiFuMi_computerVision/venv/lib/python3.9/site-packages/inference/core/interfaces/stream/inference_pipeline.py#907\" target=\"_blank\"><span style=\"color: #7f7f7f; text-decoration-color: #7f7f7f\">907</span></a>\n",
       "<span style=\"color: #7fbfbf; text-decoration-color: #7fbfbf\">                    </span>         <span style=\"color: #008080; text-decoration-color: #008080; font-weight: bold\">1</span> positional argument but <span style=\"color: #008080; text-decoration-color: #008080; font-weight: bold\">2</span> were given                       <span style=\"color: #7f7f7f; text-decoration-color: #7f7f7f\">                         </span>\n",
       "</pre>\n"
      ],
      "text/plain": [
       "\u001b[2;36m                   \u001b[0m\u001b[2;36m \u001b[0m\u001b[31mWARNING \u001b[0m Error in results dispatching - \u001b[1;35mrender_boxes_on_frame\u001b[0m\u001b[1m(\u001b[0m\u001b[1m)\u001b[0m takes \u001b]8;id=920989;file:///Users/saadia/Documents/DevIA_2024/ShiFuMi_computerVision/venv/lib/python3.9/site-packages/inference/core/interfaces/stream/inference_pipeline.py\u001b\\\u001b[2minference_pipeline.py\u001b[0m\u001b]8;;\u001b\\\u001b[2m:\u001b[0m\u001b]8;id=493154;file:///Users/saadia/Documents/DevIA_2024/ShiFuMi_computerVision/venv/lib/python3.9/site-packages/inference/core/interfaces/stream/inference_pipeline.py#907\u001b\\\u001b[2m907\u001b[0m\u001b]8;;\u001b\\\n",
       "\u001b[2;36m                    \u001b[0m         \u001b[1;36m1\u001b[0m positional argument but \u001b[1;36m2\u001b[0m were given                       \u001b[2m                         \u001b[0m\n"
      ]
     },
     "metadata": {},
     "output_type": "display_data"
    },
    {
     "name": "stdout",
     "output_type": "stream",
     "text": [
      "0: 640x640 (no detections), 155.2ms\n",
      "Speed: 2.6ms preprocess, 155.2ms inference, 0.3ms postprocess per image at shape (1, 3, 640, 640)\n",
      "Video frames: 1\n",
      "\n"
     ]
    },
    {
     "data": {
      "text/html": [
       "<pre style=\"white-space:pre;overflow-x:auto;line-height:normal;font-family:Menlo,'DejaVu Sans Mono',consolas,'Courier New',monospace\"><span style=\"color: #7fbfbf; text-decoration-color: #7fbfbf\">                    </span><span style=\"color: #800000; text-decoration-color: #800000\">WARNING </span> Error in results dispatching - <span style=\"color: #800080; text-decoration-color: #800080; font-weight: bold\">render_boxes_on_frame</span><span style=\"font-weight: bold\">()</span> takes <a href=\"file:///Users/saadia/Documents/DevIA_2024/ShiFuMi_computerVision/venv/lib/python3.9/site-packages/inference/core/interfaces/stream/inference_pipeline.py\" target=\"_blank\"><span style=\"color: #7f7f7f; text-decoration-color: #7f7f7f\">inference_pipeline.py</span></a><span style=\"color: #7f7f7f; text-decoration-color: #7f7f7f\">:</span><a href=\"file:///Users/saadia/Documents/DevIA_2024/ShiFuMi_computerVision/venv/lib/python3.9/site-packages/inference/core/interfaces/stream/inference_pipeline.py#907\" target=\"_blank\"><span style=\"color: #7f7f7f; text-decoration-color: #7f7f7f\">907</span></a>\n",
       "<span style=\"color: #7fbfbf; text-decoration-color: #7fbfbf\">                    </span>         <span style=\"color: #008080; text-decoration-color: #008080; font-weight: bold\">1</span> positional argument but <span style=\"color: #008080; text-decoration-color: #008080; font-weight: bold\">2</span> were given                       <span style=\"color: #7f7f7f; text-decoration-color: #7f7f7f\">                         </span>\n",
       "</pre>\n"
      ],
      "text/plain": [
       "\u001b[2;36m                   \u001b[0m\u001b[2;36m \u001b[0m\u001b[31mWARNING \u001b[0m Error in results dispatching - \u001b[1;35mrender_boxes_on_frame\u001b[0m\u001b[1m(\u001b[0m\u001b[1m)\u001b[0m takes \u001b]8;id=893460;file:///Users/saadia/Documents/DevIA_2024/ShiFuMi_computerVision/venv/lib/python3.9/site-packages/inference/core/interfaces/stream/inference_pipeline.py\u001b\\\u001b[2minference_pipeline.py\u001b[0m\u001b]8;;\u001b\\\u001b[2m:\u001b[0m\u001b]8;id=398419;file:///Users/saadia/Documents/DevIA_2024/ShiFuMi_computerVision/venv/lib/python3.9/site-packages/inference/core/interfaces/stream/inference_pipeline.py#907\u001b\\\u001b[2m907\u001b[0m\u001b]8;;\u001b\\\n",
       "\u001b[2;36m                    \u001b[0m         \u001b[1;36m1\u001b[0m positional argument but \u001b[1;36m2\u001b[0m were given                       \u001b[2m                         \u001b[0m\n"
      ]
     },
     "metadata": {},
     "output_type": "display_data"
    },
    {
     "name": "stdout",
     "output_type": "stream",
     "text": [
      "0: 640x640 (no detections), 157.8ms\n",
      "Speed: 2.1ms preprocess, 157.8ms inference, 0.2ms postprocess per image at shape (1, 3, 640, 640)\n",
      "Video frames: 1\n",
      "\n"
     ]
    },
    {
     "data": {
      "text/html": [
       "<pre style=\"white-space:pre;overflow-x:auto;line-height:normal;font-family:Menlo,'DejaVu Sans Mono',consolas,'Courier New',monospace\"><span style=\"color: #7fbfbf; text-decoration-color: #7fbfbf\">[07/01/24 12:07:49] </span><span style=\"color: #800000; text-decoration-color: #800000\">WARNING </span> Error in results dispatching - <span style=\"color: #800080; text-decoration-color: #800080; font-weight: bold\">render_boxes_on_frame</span><span style=\"font-weight: bold\">()</span> takes <a href=\"file:///Users/saadia/Documents/DevIA_2024/ShiFuMi_computerVision/venv/lib/python3.9/site-packages/inference/core/interfaces/stream/inference_pipeline.py\" target=\"_blank\"><span style=\"color: #7f7f7f; text-decoration-color: #7f7f7f\">inference_pipeline.py</span></a><span style=\"color: #7f7f7f; text-decoration-color: #7f7f7f\">:</span><a href=\"file:///Users/saadia/Documents/DevIA_2024/ShiFuMi_computerVision/venv/lib/python3.9/site-packages/inference/core/interfaces/stream/inference_pipeline.py#907\" target=\"_blank\"><span style=\"color: #7f7f7f; text-decoration-color: #7f7f7f\">907</span></a>\n",
       "<span style=\"color: #7fbfbf; text-decoration-color: #7fbfbf\">                    </span>         <span style=\"color: #008080; text-decoration-color: #008080; font-weight: bold\">1</span> positional argument but <span style=\"color: #008080; text-decoration-color: #008080; font-weight: bold\">2</span> were given                       <span style=\"color: #7f7f7f; text-decoration-color: #7f7f7f\">                         </span>\n",
       "</pre>\n"
      ],
      "text/plain": [
       "\u001b[2;36m[07/01/24 12:07:49]\u001b[0m\u001b[2;36m \u001b[0m\u001b[31mWARNING \u001b[0m Error in results dispatching - \u001b[1;35mrender_boxes_on_frame\u001b[0m\u001b[1m(\u001b[0m\u001b[1m)\u001b[0m takes \u001b]8;id=207984;file:///Users/saadia/Documents/DevIA_2024/ShiFuMi_computerVision/venv/lib/python3.9/site-packages/inference/core/interfaces/stream/inference_pipeline.py\u001b\\\u001b[2minference_pipeline.py\u001b[0m\u001b]8;;\u001b\\\u001b[2m:\u001b[0m\u001b]8;id=592510;file:///Users/saadia/Documents/DevIA_2024/ShiFuMi_computerVision/venv/lib/python3.9/site-packages/inference/core/interfaces/stream/inference_pipeline.py#907\u001b\\\u001b[2m907\u001b[0m\u001b]8;;\u001b\\\n",
       "\u001b[2;36m                    \u001b[0m         \u001b[1;36m1\u001b[0m positional argument but \u001b[1;36m2\u001b[0m were given                       \u001b[2m                         \u001b[0m\n"
      ]
     },
     "metadata": {},
     "output_type": "display_data"
    },
    {
     "name": "stdout",
     "output_type": "stream",
     "text": [
      "0: 640x640 (no detections), 169.5ms\n",
      "Speed: 2.2ms preprocess, 169.5ms inference, 0.3ms postprocess per image at shape (1, 3, 640, 640)\n",
      "Video frames: 1\n",
      "\n"
     ]
    },
    {
     "data": {
      "text/html": [
       "<pre style=\"white-space:pre;overflow-x:auto;line-height:normal;font-family:Menlo,'DejaVu Sans Mono',consolas,'Courier New',monospace\"><span style=\"color: #7fbfbf; text-decoration-color: #7fbfbf\">                    </span><span style=\"color: #800000; text-decoration-color: #800000\">WARNING </span> Error in results dispatching - <span style=\"color: #800080; text-decoration-color: #800080; font-weight: bold\">render_boxes_on_frame</span><span style=\"font-weight: bold\">()</span> takes <a href=\"file:///Users/saadia/Documents/DevIA_2024/ShiFuMi_computerVision/venv/lib/python3.9/site-packages/inference/core/interfaces/stream/inference_pipeline.py\" target=\"_blank\"><span style=\"color: #7f7f7f; text-decoration-color: #7f7f7f\">inference_pipeline.py</span></a><span style=\"color: #7f7f7f; text-decoration-color: #7f7f7f\">:</span><a href=\"file:///Users/saadia/Documents/DevIA_2024/ShiFuMi_computerVision/venv/lib/python3.9/site-packages/inference/core/interfaces/stream/inference_pipeline.py#907\" target=\"_blank\"><span style=\"color: #7f7f7f; text-decoration-color: #7f7f7f\">907</span></a>\n",
       "<span style=\"color: #7fbfbf; text-decoration-color: #7fbfbf\">                    </span>         <span style=\"color: #008080; text-decoration-color: #008080; font-weight: bold\">1</span> positional argument but <span style=\"color: #008080; text-decoration-color: #008080; font-weight: bold\">2</span> were given                       <span style=\"color: #7f7f7f; text-decoration-color: #7f7f7f\">                         </span>\n",
       "</pre>\n"
      ],
      "text/plain": [
       "\u001b[2;36m                   \u001b[0m\u001b[2;36m \u001b[0m\u001b[31mWARNING \u001b[0m Error in results dispatching - \u001b[1;35mrender_boxes_on_frame\u001b[0m\u001b[1m(\u001b[0m\u001b[1m)\u001b[0m takes \u001b]8;id=62492;file:///Users/saadia/Documents/DevIA_2024/ShiFuMi_computerVision/venv/lib/python3.9/site-packages/inference/core/interfaces/stream/inference_pipeline.py\u001b\\\u001b[2minference_pipeline.py\u001b[0m\u001b]8;;\u001b\\\u001b[2m:\u001b[0m\u001b]8;id=438244;file:///Users/saadia/Documents/DevIA_2024/ShiFuMi_computerVision/venv/lib/python3.9/site-packages/inference/core/interfaces/stream/inference_pipeline.py#907\u001b\\\u001b[2m907\u001b[0m\u001b]8;;\u001b\\\n",
       "\u001b[2;36m                    \u001b[0m         \u001b[1;36m1\u001b[0m positional argument but \u001b[1;36m2\u001b[0m were given                       \u001b[2m                         \u001b[0m\n"
      ]
     },
     "metadata": {},
     "output_type": "display_data"
    },
    {
     "name": "stdout",
     "output_type": "stream",
     "text": [
      "0: 640x640 (no detections), 156.3ms\n",
      "Speed: 2.4ms preprocess, 156.3ms inference, 0.3ms postprocess per image at shape (1, 3, 640, 640)\n",
      "Video frames: 1\n",
      "\n"
     ]
    },
    {
     "data": {
      "text/html": [
       "<pre style=\"white-space:pre;overflow-x:auto;line-height:normal;font-family:Menlo,'DejaVu Sans Mono',consolas,'Courier New',monospace\"><span style=\"color: #7fbfbf; text-decoration-color: #7fbfbf\">                    </span><span style=\"color: #800000; text-decoration-color: #800000\">WARNING </span> Error in results dispatching - <span style=\"color: #800080; text-decoration-color: #800080; font-weight: bold\">render_boxes_on_frame</span><span style=\"font-weight: bold\">()</span> takes <a href=\"file:///Users/saadia/Documents/DevIA_2024/ShiFuMi_computerVision/venv/lib/python3.9/site-packages/inference/core/interfaces/stream/inference_pipeline.py\" target=\"_blank\"><span style=\"color: #7f7f7f; text-decoration-color: #7f7f7f\">inference_pipeline.py</span></a><span style=\"color: #7f7f7f; text-decoration-color: #7f7f7f\">:</span><a href=\"file:///Users/saadia/Documents/DevIA_2024/ShiFuMi_computerVision/venv/lib/python3.9/site-packages/inference/core/interfaces/stream/inference_pipeline.py#907\" target=\"_blank\"><span style=\"color: #7f7f7f; text-decoration-color: #7f7f7f\">907</span></a>\n",
       "<span style=\"color: #7fbfbf; text-decoration-color: #7fbfbf\">                    </span>         <span style=\"color: #008080; text-decoration-color: #008080; font-weight: bold\">1</span> positional argument but <span style=\"color: #008080; text-decoration-color: #008080; font-weight: bold\">2</span> were given                       <span style=\"color: #7f7f7f; text-decoration-color: #7f7f7f\">                         </span>\n",
       "</pre>\n"
      ],
      "text/plain": [
       "\u001b[2;36m                   \u001b[0m\u001b[2;36m \u001b[0m\u001b[31mWARNING \u001b[0m Error in results dispatching - \u001b[1;35mrender_boxes_on_frame\u001b[0m\u001b[1m(\u001b[0m\u001b[1m)\u001b[0m takes \u001b]8;id=46868;file:///Users/saadia/Documents/DevIA_2024/ShiFuMi_computerVision/venv/lib/python3.9/site-packages/inference/core/interfaces/stream/inference_pipeline.py\u001b\\\u001b[2minference_pipeline.py\u001b[0m\u001b]8;;\u001b\\\u001b[2m:\u001b[0m\u001b]8;id=892667;file:///Users/saadia/Documents/DevIA_2024/ShiFuMi_computerVision/venv/lib/python3.9/site-packages/inference/core/interfaces/stream/inference_pipeline.py#907\u001b\\\u001b[2m907\u001b[0m\u001b]8;;\u001b\\\n",
       "\u001b[2;36m                    \u001b[0m         \u001b[1;36m1\u001b[0m positional argument but \u001b[1;36m2\u001b[0m were given                       \u001b[2m                         \u001b[0m\n"
      ]
     },
     "metadata": {},
     "output_type": "display_data"
    },
    {
     "name": "stdout",
     "output_type": "stream",
     "text": [
      "0: 640x640 (no detections), 156.9ms\n",
      "Speed: 2.8ms preprocess, 156.9ms inference, 0.3ms postprocess per image at shape (1, 3, 640, 640)\n",
      "Video frames: 1\n",
      "\n"
     ]
    },
    {
     "data": {
      "text/html": [
       "<pre style=\"white-space:pre;overflow-x:auto;line-height:normal;font-family:Menlo,'DejaVu Sans Mono',consolas,'Courier New',monospace\"><span style=\"color: #7fbfbf; text-decoration-color: #7fbfbf\">                    </span><span style=\"color: #800000; text-decoration-color: #800000\">WARNING </span> Error in results dispatching - <span style=\"color: #800080; text-decoration-color: #800080; font-weight: bold\">render_boxes_on_frame</span><span style=\"font-weight: bold\">()</span> takes <a href=\"file:///Users/saadia/Documents/DevIA_2024/ShiFuMi_computerVision/venv/lib/python3.9/site-packages/inference/core/interfaces/stream/inference_pipeline.py\" target=\"_blank\"><span style=\"color: #7f7f7f; text-decoration-color: #7f7f7f\">inference_pipeline.py</span></a><span style=\"color: #7f7f7f; text-decoration-color: #7f7f7f\">:</span><a href=\"file:///Users/saadia/Documents/DevIA_2024/ShiFuMi_computerVision/venv/lib/python3.9/site-packages/inference/core/interfaces/stream/inference_pipeline.py#907\" target=\"_blank\"><span style=\"color: #7f7f7f; text-decoration-color: #7f7f7f\">907</span></a>\n",
       "<span style=\"color: #7fbfbf; text-decoration-color: #7fbfbf\">                    </span>         <span style=\"color: #008080; text-decoration-color: #008080; font-weight: bold\">1</span> positional argument but <span style=\"color: #008080; text-decoration-color: #008080; font-weight: bold\">2</span> were given                       <span style=\"color: #7f7f7f; text-decoration-color: #7f7f7f\">                         </span>\n",
       "</pre>\n"
      ],
      "text/plain": [
       "\u001b[2;36m                   \u001b[0m\u001b[2;36m \u001b[0m\u001b[31mWARNING \u001b[0m Error in results dispatching - \u001b[1;35mrender_boxes_on_frame\u001b[0m\u001b[1m(\u001b[0m\u001b[1m)\u001b[0m takes \u001b]8;id=483940;file:///Users/saadia/Documents/DevIA_2024/ShiFuMi_computerVision/venv/lib/python3.9/site-packages/inference/core/interfaces/stream/inference_pipeline.py\u001b\\\u001b[2minference_pipeline.py\u001b[0m\u001b]8;;\u001b\\\u001b[2m:\u001b[0m\u001b]8;id=401699;file:///Users/saadia/Documents/DevIA_2024/ShiFuMi_computerVision/venv/lib/python3.9/site-packages/inference/core/interfaces/stream/inference_pipeline.py#907\u001b\\\u001b[2m907\u001b[0m\u001b]8;;\u001b\\\n",
       "\u001b[2;36m                    \u001b[0m         \u001b[1;36m1\u001b[0m positional argument but \u001b[1;36m2\u001b[0m were given                       \u001b[2m                         \u001b[0m\n"
      ]
     },
     "metadata": {},
     "output_type": "display_data"
    },
    {
     "name": "stdout",
     "output_type": "stream",
     "text": [
      "0: 640x640 (no detections), 155.7ms\n",
      "Speed: 2.7ms preprocess, 155.7ms inference, 0.3ms postprocess per image at shape (1, 3, 640, 640)\n",
      "Video frames: 1\n",
      "\n"
     ]
    },
    {
     "data": {
      "text/html": [
       "<pre style=\"white-space:pre;overflow-x:auto;line-height:normal;font-family:Menlo,'DejaVu Sans Mono',consolas,'Courier New',monospace\"><span style=\"color: #7fbfbf; text-decoration-color: #7fbfbf\">                    </span><span style=\"color: #800000; text-decoration-color: #800000\">WARNING </span> Error in results dispatching - <span style=\"color: #800080; text-decoration-color: #800080; font-weight: bold\">render_boxes_on_frame</span><span style=\"font-weight: bold\">()</span> takes <a href=\"file:///Users/saadia/Documents/DevIA_2024/ShiFuMi_computerVision/venv/lib/python3.9/site-packages/inference/core/interfaces/stream/inference_pipeline.py\" target=\"_blank\"><span style=\"color: #7f7f7f; text-decoration-color: #7f7f7f\">inference_pipeline.py</span></a><span style=\"color: #7f7f7f; text-decoration-color: #7f7f7f\">:</span><a href=\"file:///Users/saadia/Documents/DevIA_2024/ShiFuMi_computerVision/venv/lib/python3.9/site-packages/inference/core/interfaces/stream/inference_pipeline.py#907\" target=\"_blank\"><span style=\"color: #7f7f7f; text-decoration-color: #7f7f7f\">907</span></a>\n",
       "<span style=\"color: #7fbfbf; text-decoration-color: #7fbfbf\">                    </span>         <span style=\"color: #008080; text-decoration-color: #008080; font-weight: bold\">1</span> positional argument but <span style=\"color: #008080; text-decoration-color: #008080; font-weight: bold\">2</span> were given                       <span style=\"color: #7f7f7f; text-decoration-color: #7f7f7f\">                         </span>\n",
       "</pre>\n"
      ],
      "text/plain": [
       "\u001b[2;36m                   \u001b[0m\u001b[2;36m \u001b[0m\u001b[31mWARNING \u001b[0m Error in results dispatching - \u001b[1;35mrender_boxes_on_frame\u001b[0m\u001b[1m(\u001b[0m\u001b[1m)\u001b[0m takes \u001b]8;id=178453;file:///Users/saadia/Documents/DevIA_2024/ShiFuMi_computerVision/venv/lib/python3.9/site-packages/inference/core/interfaces/stream/inference_pipeline.py\u001b\\\u001b[2minference_pipeline.py\u001b[0m\u001b]8;;\u001b\\\u001b[2m:\u001b[0m\u001b]8;id=798994;file:///Users/saadia/Documents/DevIA_2024/ShiFuMi_computerVision/venv/lib/python3.9/site-packages/inference/core/interfaces/stream/inference_pipeline.py#907\u001b\\\u001b[2m907\u001b[0m\u001b]8;;\u001b\\\n",
       "\u001b[2;36m                    \u001b[0m         \u001b[1;36m1\u001b[0m positional argument but \u001b[1;36m2\u001b[0m were given                       \u001b[2m                         \u001b[0m\n"
      ]
     },
     "metadata": {},
     "output_type": "display_data"
    },
    {
     "name": "stdout",
     "output_type": "stream",
     "text": [
      "0: 640x640 (no detections), 157.3ms\n",
      "Speed: 2.3ms preprocess, 157.3ms inference, 0.4ms postprocess per image at shape (1, 3, 640, 640)\n",
      "Video frames: 1\n",
      "\n"
     ]
    },
    {
     "data": {
      "text/html": [
       "<pre style=\"white-space:pre;overflow-x:auto;line-height:normal;font-family:Menlo,'DejaVu Sans Mono',consolas,'Courier New',monospace\"><span style=\"color: #7fbfbf; text-decoration-color: #7fbfbf\">                    </span><span style=\"color: #800000; text-decoration-color: #800000\">WARNING </span> Error in results dispatching - <span style=\"color: #800080; text-decoration-color: #800080; font-weight: bold\">render_boxes_on_frame</span><span style=\"font-weight: bold\">()</span> takes <a href=\"file:///Users/saadia/Documents/DevIA_2024/ShiFuMi_computerVision/venv/lib/python3.9/site-packages/inference/core/interfaces/stream/inference_pipeline.py\" target=\"_blank\"><span style=\"color: #7f7f7f; text-decoration-color: #7f7f7f\">inference_pipeline.py</span></a><span style=\"color: #7f7f7f; text-decoration-color: #7f7f7f\">:</span><a href=\"file:///Users/saadia/Documents/DevIA_2024/ShiFuMi_computerVision/venv/lib/python3.9/site-packages/inference/core/interfaces/stream/inference_pipeline.py#907\" target=\"_blank\"><span style=\"color: #7f7f7f; text-decoration-color: #7f7f7f\">907</span></a>\n",
       "<span style=\"color: #7fbfbf; text-decoration-color: #7fbfbf\">                    </span>         <span style=\"color: #008080; text-decoration-color: #008080; font-weight: bold\">1</span> positional argument but <span style=\"color: #008080; text-decoration-color: #008080; font-weight: bold\">2</span> were given                       <span style=\"color: #7f7f7f; text-decoration-color: #7f7f7f\">                         </span>\n",
       "</pre>\n"
      ],
      "text/plain": [
       "\u001b[2;36m                   \u001b[0m\u001b[2;36m \u001b[0m\u001b[31mWARNING \u001b[0m Error in results dispatching - \u001b[1;35mrender_boxes_on_frame\u001b[0m\u001b[1m(\u001b[0m\u001b[1m)\u001b[0m takes \u001b]8;id=806831;file:///Users/saadia/Documents/DevIA_2024/ShiFuMi_computerVision/venv/lib/python3.9/site-packages/inference/core/interfaces/stream/inference_pipeline.py\u001b\\\u001b[2minference_pipeline.py\u001b[0m\u001b]8;;\u001b\\\u001b[2m:\u001b[0m\u001b]8;id=146670;file:///Users/saadia/Documents/DevIA_2024/ShiFuMi_computerVision/venv/lib/python3.9/site-packages/inference/core/interfaces/stream/inference_pipeline.py#907\u001b\\\u001b[2m907\u001b[0m\u001b]8;;\u001b\\\n",
       "\u001b[2;36m                    \u001b[0m         \u001b[1;36m1\u001b[0m positional argument but \u001b[1;36m2\u001b[0m were given                       \u001b[2m                         \u001b[0m\n"
      ]
     },
     "metadata": {},
     "output_type": "display_data"
    },
    {
     "name": "stdout",
     "output_type": "stream",
     "text": [
      "0: 640x640 (no detections), 153.7ms\n",
      "Speed: 2.4ms preprocess, 153.7ms inference, 0.2ms postprocess per image at shape (1, 3, 640, 640)\n",
      "Video frames: 1\n",
      "\n"
     ]
    },
    {
     "data": {
      "text/html": [
       "<pre style=\"white-space:pre;overflow-x:auto;line-height:normal;font-family:Menlo,'DejaVu Sans Mono',consolas,'Courier New',monospace\"><span style=\"color: #7fbfbf; text-decoration-color: #7fbfbf\">[07/01/24 12:07:50] </span><span style=\"color: #800000; text-decoration-color: #800000\">WARNING </span> Error in results dispatching - <span style=\"color: #800080; text-decoration-color: #800080; font-weight: bold\">render_boxes_on_frame</span><span style=\"font-weight: bold\">()</span> takes <a href=\"file:///Users/saadia/Documents/DevIA_2024/ShiFuMi_computerVision/venv/lib/python3.9/site-packages/inference/core/interfaces/stream/inference_pipeline.py\" target=\"_blank\"><span style=\"color: #7f7f7f; text-decoration-color: #7f7f7f\">inference_pipeline.py</span></a><span style=\"color: #7f7f7f; text-decoration-color: #7f7f7f\">:</span><a href=\"file:///Users/saadia/Documents/DevIA_2024/ShiFuMi_computerVision/venv/lib/python3.9/site-packages/inference/core/interfaces/stream/inference_pipeline.py#907\" target=\"_blank\"><span style=\"color: #7f7f7f; text-decoration-color: #7f7f7f\">907</span></a>\n",
       "<span style=\"color: #7fbfbf; text-decoration-color: #7fbfbf\">                    </span>         <span style=\"color: #008080; text-decoration-color: #008080; font-weight: bold\">1</span> positional argument but <span style=\"color: #008080; text-decoration-color: #008080; font-weight: bold\">2</span> were given                       <span style=\"color: #7f7f7f; text-decoration-color: #7f7f7f\">                         </span>\n",
       "</pre>\n"
      ],
      "text/plain": [
       "\u001b[2;36m[07/01/24 12:07:50]\u001b[0m\u001b[2;36m \u001b[0m\u001b[31mWARNING \u001b[0m Error in results dispatching - \u001b[1;35mrender_boxes_on_frame\u001b[0m\u001b[1m(\u001b[0m\u001b[1m)\u001b[0m takes \u001b]8;id=183315;file:///Users/saadia/Documents/DevIA_2024/ShiFuMi_computerVision/venv/lib/python3.9/site-packages/inference/core/interfaces/stream/inference_pipeline.py\u001b\\\u001b[2minference_pipeline.py\u001b[0m\u001b]8;;\u001b\\\u001b[2m:\u001b[0m\u001b]8;id=261849;file:///Users/saadia/Documents/DevIA_2024/ShiFuMi_computerVision/venv/lib/python3.9/site-packages/inference/core/interfaces/stream/inference_pipeline.py#907\u001b\\\u001b[2m907\u001b[0m\u001b]8;;\u001b\\\n",
       "\u001b[2;36m                    \u001b[0m         \u001b[1;36m1\u001b[0m positional argument but \u001b[1;36m2\u001b[0m were given                       \u001b[2m                         \u001b[0m\n"
      ]
     },
     "metadata": {},
     "output_type": "display_data"
    },
    {
     "name": "stdout",
     "output_type": "stream",
     "text": [
      "0: 640x640 (no detections), 148.8ms\n",
      "Speed: 2.6ms preprocess, 148.8ms inference, 0.3ms postprocess per image at shape (1, 3, 640, 640)\n",
      "Video frames: 1\n",
      "\n"
     ]
    },
    {
     "data": {
      "text/html": [
       "<pre style=\"white-space:pre;overflow-x:auto;line-height:normal;font-family:Menlo,'DejaVu Sans Mono',consolas,'Courier New',monospace\"><span style=\"color: #7fbfbf; text-decoration-color: #7fbfbf\">                    </span><span style=\"color: #800000; text-decoration-color: #800000\">WARNING </span> Error in results dispatching - <span style=\"color: #800080; text-decoration-color: #800080; font-weight: bold\">render_boxes_on_frame</span><span style=\"font-weight: bold\">()</span> takes <a href=\"file:///Users/saadia/Documents/DevIA_2024/ShiFuMi_computerVision/venv/lib/python3.9/site-packages/inference/core/interfaces/stream/inference_pipeline.py\" target=\"_blank\"><span style=\"color: #7f7f7f; text-decoration-color: #7f7f7f\">inference_pipeline.py</span></a><span style=\"color: #7f7f7f; text-decoration-color: #7f7f7f\">:</span><a href=\"file:///Users/saadia/Documents/DevIA_2024/ShiFuMi_computerVision/venv/lib/python3.9/site-packages/inference/core/interfaces/stream/inference_pipeline.py#907\" target=\"_blank\"><span style=\"color: #7f7f7f; text-decoration-color: #7f7f7f\">907</span></a>\n",
       "<span style=\"color: #7fbfbf; text-decoration-color: #7fbfbf\">                    </span>         <span style=\"color: #008080; text-decoration-color: #008080; font-weight: bold\">1</span> positional argument but <span style=\"color: #008080; text-decoration-color: #008080; font-weight: bold\">2</span> were given                       <span style=\"color: #7f7f7f; text-decoration-color: #7f7f7f\">                         </span>\n",
       "</pre>\n"
      ],
      "text/plain": [
       "\u001b[2;36m                   \u001b[0m\u001b[2;36m \u001b[0m\u001b[31mWARNING \u001b[0m Error in results dispatching - \u001b[1;35mrender_boxes_on_frame\u001b[0m\u001b[1m(\u001b[0m\u001b[1m)\u001b[0m takes \u001b]8;id=70988;file:///Users/saadia/Documents/DevIA_2024/ShiFuMi_computerVision/venv/lib/python3.9/site-packages/inference/core/interfaces/stream/inference_pipeline.py\u001b\\\u001b[2minference_pipeline.py\u001b[0m\u001b]8;;\u001b\\\u001b[2m:\u001b[0m\u001b]8;id=94941;file:///Users/saadia/Documents/DevIA_2024/ShiFuMi_computerVision/venv/lib/python3.9/site-packages/inference/core/interfaces/stream/inference_pipeline.py#907\u001b\\\u001b[2m907\u001b[0m\u001b]8;;\u001b\\\n",
       "\u001b[2;36m                    \u001b[0m         \u001b[1;36m1\u001b[0m positional argument but \u001b[1;36m2\u001b[0m were given                       \u001b[2m                         \u001b[0m\n"
      ]
     },
     "metadata": {},
     "output_type": "display_data"
    },
    {
     "name": "stdout",
     "output_type": "stream",
     "text": [
      "0: 640x640 (no detections), 164.5ms\n",
      "Speed: 2.0ms preprocess, 164.5ms inference, 0.3ms postprocess per image at shape (1, 3, 640, 640)\n",
      "Video frames: 1\n",
      "\n"
     ]
    },
    {
     "data": {
      "text/html": [
       "<pre style=\"white-space:pre;overflow-x:auto;line-height:normal;font-family:Menlo,'DejaVu Sans Mono',consolas,'Courier New',monospace\"><span style=\"color: #7fbfbf; text-decoration-color: #7fbfbf\">                    </span><span style=\"color: #800000; text-decoration-color: #800000\">WARNING </span> Error in results dispatching - <span style=\"color: #800080; text-decoration-color: #800080; font-weight: bold\">render_boxes_on_frame</span><span style=\"font-weight: bold\">()</span> takes <a href=\"file:///Users/saadia/Documents/DevIA_2024/ShiFuMi_computerVision/venv/lib/python3.9/site-packages/inference/core/interfaces/stream/inference_pipeline.py\" target=\"_blank\"><span style=\"color: #7f7f7f; text-decoration-color: #7f7f7f\">inference_pipeline.py</span></a><span style=\"color: #7f7f7f; text-decoration-color: #7f7f7f\">:</span><a href=\"file:///Users/saadia/Documents/DevIA_2024/ShiFuMi_computerVision/venv/lib/python3.9/site-packages/inference/core/interfaces/stream/inference_pipeline.py#907\" target=\"_blank\"><span style=\"color: #7f7f7f; text-decoration-color: #7f7f7f\">907</span></a>\n",
       "<span style=\"color: #7fbfbf; text-decoration-color: #7fbfbf\">                    </span>         <span style=\"color: #008080; text-decoration-color: #008080; font-weight: bold\">1</span> positional argument but <span style=\"color: #008080; text-decoration-color: #008080; font-weight: bold\">2</span> were given                       <span style=\"color: #7f7f7f; text-decoration-color: #7f7f7f\">                         </span>\n",
       "</pre>\n"
      ],
      "text/plain": [
       "\u001b[2;36m                   \u001b[0m\u001b[2;36m \u001b[0m\u001b[31mWARNING \u001b[0m Error in results dispatching - \u001b[1;35mrender_boxes_on_frame\u001b[0m\u001b[1m(\u001b[0m\u001b[1m)\u001b[0m takes \u001b]8;id=840068;file:///Users/saadia/Documents/DevIA_2024/ShiFuMi_computerVision/venv/lib/python3.9/site-packages/inference/core/interfaces/stream/inference_pipeline.py\u001b\\\u001b[2minference_pipeline.py\u001b[0m\u001b]8;;\u001b\\\u001b[2m:\u001b[0m\u001b]8;id=799899;file:///Users/saadia/Documents/DevIA_2024/ShiFuMi_computerVision/venv/lib/python3.9/site-packages/inference/core/interfaces/stream/inference_pipeline.py#907\u001b\\\u001b[2m907\u001b[0m\u001b]8;;\u001b\\\n",
       "\u001b[2;36m                    \u001b[0m         \u001b[1;36m1\u001b[0m positional argument but \u001b[1;36m2\u001b[0m were given                       \u001b[2m                         \u001b[0m\n"
      ]
     },
     "metadata": {},
     "output_type": "display_data"
    },
    {
     "name": "stdout",
     "output_type": "stream",
     "text": [
      "0: 640x640 (no detections), 162.5ms\n",
      "Speed: 2.0ms preprocess, 162.5ms inference, 0.2ms postprocess per image at shape (1, 3, 640, 640)\n",
      "Video frames: 1\n",
      "\n"
     ]
    },
    {
     "data": {
      "text/html": [
       "<pre style=\"white-space:pre;overflow-x:auto;line-height:normal;font-family:Menlo,'DejaVu Sans Mono',consolas,'Courier New',monospace\"><span style=\"color: #7fbfbf; text-decoration-color: #7fbfbf\">                    </span><span style=\"color: #800000; text-decoration-color: #800000\">WARNING </span> Error in results dispatching - <span style=\"color: #800080; text-decoration-color: #800080; font-weight: bold\">render_boxes_on_frame</span><span style=\"font-weight: bold\">()</span> takes <a href=\"file:///Users/saadia/Documents/DevIA_2024/ShiFuMi_computerVision/venv/lib/python3.9/site-packages/inference/core/interfaces/stream/inference_pipeline.py\" target=\"_blank\"><span style=\"color: #7f7f7f; text-decoration-color: #7f7f7f\">inference_pipeline.py</span></a><span style=\"color: #7f7f7f; text-decoration-color: #7f7f7f\">:</span><a href=\"file:///Users/saadia/Documents/DevIA_2024/ShiFuMi_computerVision/venv/lib/python3.9/site-packages/inference/core/interfaces/stream/inference_pipeline.py#907\" target=\"_blank\"><span style=\"color: #7f7f7f; text-decoration-color: #7f7f7f\">907</span></a>\n",
       "<span style=\"color: #7fbfbf; text-decoration-color: #7fbfbf\">                    </span>         <span style=\"color: #008080; text-decoration-color: #008080; font-weight: bold\">1</span> positional argument but <span style=\"color: #008080; text-decoration-color: #008080; font-weight: bold\">2</span> were given                       <span style=\"color: #7f7f7f; text-decoration-color: #7f7f7f\">                         </span>\n",
       "</pre>\n"
      ],
      "text/plain": [
       "\u001b[2;36m                   \u001b[0m\u001b[2;36m \u001b[0m\u001b[31mWARNING \u001b[0m Error in results dispatching - \u001b[1;35mrender_boxes_on_frame\u001b[0m\u001b[1m(\u001b[0m\u001b[1m)\u001b[0m takes \u001b]8;id=611791;file:///Users/saadia/Documents/DevIA_2024/ShiFuMi_computerVision/venv/lib/python3.9/site-packages/inference/core/interfaces/stream/inference_pipeline.py\u001b\\\u001b[2minference_pipeline.py\u001b[0m\u001b]8;;\u001b\\\u001b[2m:\u001b[0m\u001b]8;id=290287;file:///Users/saadia/Documents/DevIA_2024/ShiFuMi_computerVision/venv/lib/python3.9/site-packages/inference/core/interfaces/stream/inference_pipeline.py#907\u001b\\\u001b[2m907\u001b[0m\u001b]8;;\u001b\\\n",
       "\u001b[2;36m                    \u001b[0m         \u001b[1;36m1\u001b[0m positional argument but \u001b[1;36m2\u001b[0m were given                       \u001b[2m                         \u001b[0m\n"
      ]
     },
     "metadata": {},
     "output_type": "display_data"
    },
    {
     "name": "stdout",
     "output_type": "stream",
     "text": [
      "0: 640x640 (no detections), 161.5ms\n",
      "Speed: 2.2ms preprocess, 161.5ms inference, 0.2ms postprocess per image at shape (1, 3, 640, 640)\n",
      "Video frames: 1\n",
      "\n"
     ]
    },
    {
     "data": {
      "text/html": [
       "<pre style=\"white-space:pre;overflow-x:auto;line-height:normal;font-family:Menlo,'DejaVu Sans Mono',consolas,'Courier New',monospace\"><span style=\"color: #7fbfbf; text-decoration-color: #7fbfbf\">                    </span><span style=\"color: #800000; text-decoration-color: #800000\">WARNING </span> Error in results dispatching - <span style=\"color: #800080; text-decoration-color: #800080; font-weight: bold\">render_boxes_on_frame</span><span style=\"font-weight: bold\">()</span> takes <a href=\"file:///Users/saadia/Documents/DevIA_2024/ShiFuMi_computerVision/venv/lib/python3.9/site-packages/inference/core/interfaces/stream/inference_pipeline.py\" target=\"_blank\"><span style=\"color: #7f7f7f; text-decoration-color: #7f7f7f\">inference_pipeline.py</span></a><span style=\"color: #7f7f7f; text-decoration-color: #7f7f7f\">:</span><a href=\"file:///Users/saadia/Documents/DevIA_2024/ShiFuMi_computerVision/venv/lib/python3.9/site-packages/inference/core/interfaces/stream/inference_pipeline.py#907\" target=\"_blank\"><span style=\"color: #7f7f7f; text-decoration-color: #7f7f7f\">907</span></a>\n",
       "<span style=\"color: #7fbfbf; text-decoration-color: #7fbfbf\">                    </span>         <span style=\"color: #008080; text-decoration-color: #008080; font-weight: bold\">1</span> positional argument but <span style=\"color: #008080; text-decoration-color: #008080; font-weight: bold\">2</span> were given                       <span style=\"color: #7f7f7f; text-decoration-color: #7f7f7f\">                         </span>\n",
       "</pre>\n"
      ],
      "text/plain": [
       "\u001b[2;36m                   \u001b[0m\u001b[2;36m \u001b[0m\u001b[31mWARNING \u001b[0m Error in results dispatching - \u001b[1;35mrender_boxes_on_frame\u001b[0m\u001b[1m(\u001b[0m\u001b[1m)\u001b[0m takes \u001b]8;id=414666;file:///Users/saadia/Documents/DevIA_2024/ShiFuMi_computerVision/venv/lib/python3.9/site-packages/inference/core/interfaces/stream/inference_pipeline.py\u001b\\\u001b[2minference_pipeline.py\u001b[0m\u001b]8;;\u001b\\\u001b[2m:\u001b[0m\u001b]8;id=402750;file:///Users/saadia/Documents/DevIA_2024/ShiFuMi_computerVision/venv/lib/python3.9/site-packages/inference/core/interfaces/stream/inference_pipeline.py#907\u001b\\\u001b[2m907\u001b[0m\u001b]8;;\u001b\\\n",
       "\u001b[2;36m                    \u001b[0m         \u001b[1;36m1\u001b[0m positional argument but \u001b[1;36m2\u001b[0m were given                       \u001b[2m                         \u001b[0m\n"
      ]
     },
     "metadata": {},
     "output_type": "display_data"
    },
    {
     "name": "stdout",
     "output_type": "stream",
     "text": [
      "0: 640x640 (no detections), 174.9ms\n",
      "Speed: 2.0ms preprocess, 174.9ms inference, 0.7ms postprocess per image at shape (1, 3, 640, 640)\n",
      "Video frames: 1\n",
      "\n"
     ]
    },
    {
     "data": {
      "text/html": [
       "<pre style=\"white-space:pre;overflow-x:auto;line-height:normal;font-family:Menlo,'DejaVu Sans Mono',consolas,'Courier New',monospace\"><span style=\"color: #7fbfbf; text-decoration-color: #7fbfbf\">                    </span><span style=\"color: #800000; text-decoration-color: #800000\">WARNING </span> Error in results dispatching - <span style=\"color: #800080; text-decoration-color: #800080; font-weight: bold\">render_boxes_on_frame</span><span style=\"font-weight: bold\">()</span> takes <a href=\"file:///Users/saadia/Documents/DevIA_2024/ShiFuMi_computerVision/venv/lib/python3.9/site-packages/inference/core/interfaces/stream/inference_pipeline.py\" target=\"_blank\"><span style=\"color: #7f7f7f; text-decoration-color: #7f7f7f\">inference_pipeline.py</span></a><span style=\"color: #7f7f7f; text-decoration-color: #7f7f7f\">:</span><a href=\"file:///Users/saadia/Documents/DevIA_2024/ShiFuMi_computerVision/venv/lib/python3.9/site-packages/inference/core/interfaces/stream/inference_pipeline.py#907\" target=\"_blank\"><span style=\"color: #7f7f7f; text-decoration-color: #7f7f7f\">907</span></a>\n",
       "<span style=\"color: #7fbfbf; text-decoration-color: #7fbfbf\">                    </span>         <span style=\"color: #008080; text-decoration-color: #008080; font-weight: bold\">1</span> positional argument but <span style=\"color: #008080; text-decoration-color: #008080; font-weight: bold\">2</span> were given                       <span style=\"color: #7f7f7f; text-decoration-color: #7f7f7f\">                         </span>\n",
       "</pre>\n"
      ],
      "text/plain": [
       "\u001b[2;36m                   \u001b[0m\u001b[2;36m \u001b[0m\u001b[31mWARNING \u001b[0m Error in results dispatching - \u001b[1;35mrender_boxes_on_frame\u001b[0m\u001b[1m(\u001b[0m\u001b[1m)\u001b[0m takes \u001b]8;id=854584;file:///Users/saadia/Documents/DevIA_2024/ShiFuMi_computerVision/venv/lib/python3.9/site-packages/inference/core/interfaces/stream/inference_pipeline.py\u001b\\\u001b[2minference_pipeline.py\u001b[0m\u001b]8;;\u001b\\\u001b[2m:\u001b[0m\u001b]8;id=153139;file:///Users/saadia/Documents/DevIA_2024/ShiFuMi_computerVision/venv/lib/python3.9/site-packages/inference/core/interfaces/stream/inference_pipeline.py#907\u001b\\\u001b[2m907\u001b[0m\u001b]8;;\u001b\\\n",
       "\u001b[2;36m                    \u001b[0m         \u001b[1;36m1\u001b[0m positional argument but \u001b[1;36m2\u001b[0m were given                       \u001b[2m                         \u001b[0m\n"
      ]
     },
     "metadata": {},
     "output_type": "display_data"
    },
    {
     "name": "stdout",
     "output_type": "stream",
     "text": [
      "0: 640x640 (no detections), 169.4ms\n",
      "Speed: 2.6ms preprocess, 169.4ms inference, 0.3ms postprocess per image at shape (1, 3, 640, 640)\n",
      "Video frames: 1\n",
      "\n"
     ]
    },
    {
     "data": {
      "text/html": [
       "<pre style=\"white-space:pre;overflow-x:auto;line-height:normal;font-family:Menlo,'DejaVu Sans Mono',consolas,'Courier New',monospace\"><span style=\"color: #7fbfbf; text-decoration-color: #7fbfbf\">[07/01/24 12:07:51] </span><span style=\"color: #800000; text-decoration-color: #800000\">WARNING </span> Error in results dispatching - <span style=\"color: #800080; text-decoration-color: #800080; font-weight: bold\">render_boxes_on_frame</span><span style=\"font-weight: bold\">()</span> takes <a href=\"file:///Users/saadia/Documents/DevIA_2024/ShiFuMi_computerVision/venv/lib/python3.9/site-packages/inference/core/interfaces/stream/inference_pipeline.py\" target=\"_blank\"><span style=\"color: #7f7f7f; text-decoration-color: #7f7f7f\">inference_pipeline.py</span></a><span style=\"color: #7f7f7f; text-decoration-color: #7f7f7f\">:</span><a href=\"file:///Users/saadia/Documents/DevIA_2024/ShiFuMi_computerVision/venv/lib/python3.9/site-packages/inference/core/interfaces/stream/inference_pipeline.py#907\" target=\"_blank\"><span style=\"color: #7f7f7f; text-decoration-color: #7f7f7f\">907</span></a>\n",
       "<span style=\"color: #7fbfbf; text-decoration-color: #7fbfbf\">                    </span>         <span style=\"color: #008080; text-decoration-color: #008080; font-weight: bold\">1</span> positional argument but <span style=\"color: #008080; text-decoration-color: #008080; font-weight: bold\">2</span> were given                       <span style=\"color: #7f7f7f; text-decoration-color: #7f7f7f\">                         </span>\n",
       "</pre>\n"
      ],
      "text/plain": [
       "\u001b[2;36m[07/01/24 12:07:51]\u001b[0m\u001b[2;36m \u001b[0m\u001b[31mWARNING \u001b[0m Error in results dispatching - \u001b[1;35mrender_boxes_on_frame\u001b[0m\u001b[1m(\u001b[0m\u001b[1m)\u001b[0m takes \u001b]8;id=951162;file:///Users/saadia/Documents/DevIA_2024/ShiFuMi_computerVision/venv/lib/python3.9/site-packages/inference/core/interfaces/stream/inference_pipeline.py\u001b\\\u001b[2minference_pipeline.py\u001b[0m\u001b]8;;\u001b\\\u001b[2m:\u001b[0m\u001b]8;id=251614;file:///Users/saadia/Documents/DevIA_2024/ShiFuMi_computerVision/venv/lib/python3.9/site-packages/inference/core/interfaces/stream/inference_pipeline.py#907\u001b\\\u001b[2m907\u001b[0m\u001b]8;;\u001b\\\n",
       "\u001b[2;36m                    \u001b[0m         \u001b[1;36m1\u001b[0m positional argument but \u001b[1;36m2\u001b[0m were given                       \u001b[2m                         \u001b[0m\n"
      ]
     },
     "metadata": {},
     "output_type": "display_data"
    },
    {
     "name": "stdout",
     "output_type": "stream",
     "text": [
      "0: 640x640 (no detections), 158.2ms\n",
      "Speed: 2.2ms preprocess, 158.2ms inference, 0.3ms postprocess per image at shape (1, 3, 640, 640)\n",
      "Video frames: 1\n",
      "\n"
     ]
    },
    {
     "data": {
      "text/html": [
       "<pre style=\"white-space:pre;overflow-x:auto;line-height:normal;font-family:Menlo,'DejaVu Sans Mono',consolas,'Courier New',monospace\"><span style=\"color: #7fbfbf; text-decoration-color: #7fbfbf\">                    </span><span style=\"color: #800000; text-decoration-color: #800000\">WARNING </span> Error in results dispatching - <span style=\"color: #800080; text-decoration-color: #800080; font-weight: bold\">render_boxes_on_frame</span><span style=\"font-weight: bold\">()</span> takes <a href=\"file:///Users/saadia/Documents/DevIA_2024/ShiFuMi_computerVision/venv/lib/python3.9/site-packages/inference/core/interfaces/stream/inference_pipeline.py\" target=\"_blank\"><span style=\"color: #7f7f7f; text-decoration-color: #7f7f7f\">inference_pipeline.py</span></a><span style=\"color: #7f7f7f; text-decoration-color: #7f7f7f\">:</span><a href=\"file:///Users/saadia/Documents/DevIA_2024/ShiFuMi_computerVision/venv/lib/python3.9/site-packages/inference/core/interfaces/stream/inference_pipeline.py#907\" target=\"_blank\"><span style=\"color: #7f7f7f; text-decoration-color: #7f7f7f\">907</span></a>\n",
       "<span style=\"color: #7fbfbf; text-decoration-color: #7fbfbf\">                    </span>         <span style=\"color: #008080; text-decoration-color: #008080; font-weight: bold\">1</span> positional argument but <span style=\"color: #008080; text-decoration-color: #008080; font-weight: bold\">2</span> were given                       <span style=\"color: #7f7f7f; text-decoration-color: #7f7f7f\">                         </span>\n",
       "</pre>\n"
      ],
      "text/plain": [
       "\u001b[2;36m                   \u001b[0m\u001b[2;36m \u001b[0m\u001b[31mWARNING \u001b[0m Error in results dispatching - \u001b[1;35mrender_boxes_on_frame\u001b[0m\u001b[1m(\u001b[0m\u001b[1m)\u001b[0m takes \u001b]8;id=460522;file:///Users/saadia/Documents/DevIA_2024/ShiFuMi_computerVision/venv/lib/python3.9/site-packages/inference/core/interfaces/stream/inference_pipeline.py\u001b\\\u001b[2minference_pipeline.py\u001b[0m\u001b]8;;\u001b\\\u001b[2m:\u001b[0m\u001b]8;id=656620;file:///Users/saadia/Documents/DevIA_2024/ShiFuMi_computerVision/venv/lib/python3.9/site-packages/inference/core/interfaces/stream/inference_pipeline.py#907\u001b\\\u001b[2m907\u001b[0m\u001b]8;;\u001b\\\n",
       "\u001b[2;36m                    \u001b[0m         \u001b[1;36m1\u001b[0m positional argument but \u001b[1;36m2\u001b[0m were given                       \u001b[2m                         \u001b[0m\n"
      ]
     },
     "metadata": {},
     "output_type": "display_data"
    },
    {
     "name": "stdout",
     "output_type": "stream",
     "text": [
      "0: 640x640 (no detections), 158.3ms\n",
      "Speed: 2.5ms preprocess, 158.3ms inference, 0.3ms postprocess per image at shape (1, 3, 640, 640)\n",
      "Video frames: 1\n",
      "\n"
     ]
    },
    {
     "data": {
      "text/html": [
       "<pre style=\"white-space:pre;overflow-x:auto;line-height:normal;font-family:Menlo,'DejaVu Sans Mono',consolas,'Courier New',monospace\"><span style=\"color: #7fbfbf; text-decoration-color: #7fbfbf\">                    </span><span style=\"color: #800000; text-decoration-color: #800000\">WARNING </span> Error in results dispatching - <span style=\"color: #800080; text-decoration-color: #800080; font-weight: bold\">render_boxes_on_frame</span><span style=\"font-weight: bold\">()</span> takes <a href=\"file:///Users/saadia/Documents/DevIA_2024/ShiFuMi_computerVision/venv/lib/python3.9/site-packages/inference/core/interfaces/stream/inference_pipeline.py\" target=\"_blank\"><span style=\"color: #7f7f7f; text-decoration-color: #7f7f7f\">inference_pipeline.py</span></a><span style=\"color: #7f7f7f; text-decoration-color: #7f7f7f\">:</span><a href=\"file:///Users/saadia/Documents/DevIA_2024/ShiFuMi_computerVision/venv/lib/python3.9/site-packages/inference/core/interfaces/stream/inference_pipeline.py#907\" target=\"_blank\"><span style=\"color: #7f7f7f; text-decoration-color: #7f7f7f\">907</span></a>\n",
       "<span style=\"color: #7fbfbf; text-decoration-color: #7fbfbf\">                    </span>         <span style=\"color: #008080; text-decoration-color: #008080; font-weight: bold\">1</span> positional argument but <span style=\"color: #008080; text-decoration-color: #008080; font-weight: bold\">2</span> were given                       <span style=\"color: #7f7f7f; text-decoration-color: #7f7f7f\">                         </span>\n",
       "</pre>\n"
      ],
      "text/plain": [
       "\u001b[2;36m                   \u001b[0m\u001b[2;36m \u001b[0m\u001b[31mWARNING \u001b[0m Error in results dispatching - \u001b[1;35mrender_boxes_on_frame\u001b[0m\u001b[1m(\u001b[0m\u001b[1m)\u001b[0m takes \u001b]8;id=758173;file:///Users/saadia/Documents/DevIA_2024/ShiFuMi_computerVision/venv/lib/python3.9/site-packages/inference/core/interfaces/stream/inference_pipeline.py\u001b\\\u001b[2minference_pipeline.py\u001b[0m\u001b]8;;\u001b\\\u001b[2m:\u001b[0m\u001b]8;id=194831;file:///Users/saadia/Documents/DevIA_2024/ShiFuMi_computerVision/venv/lib/python3.9/site-packages/inference/core/interfaces/stream/inference_pipeline.py#907\u001b\\\u001b[2m907\u001b[0m\u001b]8;;\u001b\\\n",
       "\u001b[2;36m                    \u001b[0m         \u001b[1;36m1\u001b[0m positional argument but \u001b[1;36m2\u001b[0m were given                       \u001b[2m                         \u001b[0m\n"
      ]
     },
     "metadata": {},
     "output_type": "display_data"
    },
    {
     "name": "stdout",
     "output_type": "stream",
     "text": [
      "0: 640x640 (no detections), 171.5ms\n",
      "Speed: 2.8ms preprocess, 171.5ms inference, 0.2ms postprocess per image at shape (1, 3, 640, 640)\n",
      "Video frames: 1\n",
      "\n"
     ]
    },
    {
     "data": {
      "text/html": [
       "<pre style=\"white-space:pre;overflow-x:auto;line-height:normal;font-family:Menlo,'DejaVu Sans Mono',consolas,'Courier New',monospace\"><span style=\"color: #7fbfbf; text-decoration-color: #7fbfbf\">                    </span><span style=\"color: #800000; text-decoration-color: #800000\">WARNING </span> Error in results dispatching - <span style=\"color: #800080; text-decoration-color: #800080; font-weight: bold\">render_boxes_on_frame</span><span style=\"font-weight: bold\">()</span> takes <a href=\"file:///Users/saadia/Documents/DevIA_2024/ShiFuMi_computerVision/venv/lib/python3.9/site-packages/inference/core/interfaces/stream/inference_pipeline.py\" target=\"_blank\"><span style=\"color: #7f7f7f; text-decoration-color: #7f7f7f\">inference_pipeline.py</span></a><span style=\"color: #7f7f7f; text-decoration-color: #7f7f7f\">:</span><a href=\"file:///Users/saadia/Documents/DevIA_2024/ShiFuMi_computerVision/venv/lib/python3.9/site-packages/inference/core/interfaces/stream/inference_pipeline.py#907\" target=\"_blank\"><span style=\"color: #7f7f7f; text-decoration-color: #7f7f7f\">907</span></a>\n",
       "<span style=\"color: #7fbfbf; text-decoration-color: #7fbfbf\">                    </span>         <span style=\"color: #008080; text-decoration-color: #008080; font-weight: bold\">1</span> positional argument but <span style=\"color: #008080; text-decoration-color: #008080; font-weight: bold\">2</span> were given                       <span style=\"color: #7f7f7f; text-decoration-color: #7f7f7f\">                         </span>\n",
       "</pre>\n"
      ],
      "text/plain": [
       "\u001b[2;36m                   \u001b[0m\u001b[2;36m \u001b[0m\u001b[31mWARNING \u001b[0m Error in results dispatching - \u001b[1;35mrender_boxes_on_frame\u001b[0m\u001b[1m(\u001b[0m\u001b[1m)\u001b[0m takes \u001b]8;id=723378;file:///Users/saadia/Documents/DevIA_2024/ShiFuMi_computerVision/venv/lib/python3.9/site-packages/inference/core/interfaces/stream/inference_pipeline.py\u001b\\\u001b[2minference_pipeline.py\u001b[0m\u001b]8;;\u001b\\\u001b[2m:\u001b[0m\u001b]8;id=60806;file:///Users/saadia/Documents/DevIA_2024/ShiFuMi_computerVision/venv/lib/python3.9/site-packages/inference/core/interfaces/stream/inference_pipeline.py#907\u001b\\\u001b[2m907\u001b[0m\u001b]8;;\u001b\\\n",
       "\u001b[2;36m                    \u001b[0m         \u001b[1;36m1\u001b[0m positional argument but \u001b[1;36m2\u001b[0m were given                       \u001b[2m                         \u001b[0m\n"
      ]
     },
     "metadata": {},
     "output_type": "display_data"
    },
    {
     "name": "stdout",
     "output_type": "stream",
     "text": [
      "0: 640x640 (no detections), 158.3ms\n",
      "Speed: 2.8ms preprocess, 158.3ms inference, 0.2ms postprocess per image at shape (1, 3, 640, 640)\n",
      "Video frames: 1\n",
      "\n"
     ]
    },
    {
     "data": {
      "text/html": [
       "<pre style=\"white-space:pre;overflow-x:auto;line-height:normal;font-family:Menlo,'DejaVu Sans Mono',consolas,'Courier New',monospace\"><span style=\"color: #7fbfbf; text-decoration-color: #7fbfbf\">                    </span><span style=\"color: #800000; text-decoration-color: #800000\">WARNING </span> Error in results dispatching - <span style=\"color: #800080; text-decoration-color: #800080; font-weight: bold\">render_boxes_on_frame</span><span style=\"font-weight: bold\">()</span> takes <a href=\"file:///Users/saadia/Documents/DevIA_2024/ShiFuMi_computerVision/venv/lib/python3.9/site-packages/inference/core/interfaces/stream/inference_pipeline.py\" target=\"_blank\"><span style=\"color: #7f7f7f; text-decoration-color: #7f7f7f\">inference_pipeline.py</span></a><span style=\"color: #7f7f7f; text-decoration-color: #7f7f7f\">:</span><a href=\"file:///Users/saadia/Documents/DevIA_2024/ShiFuMi_computerVision/venv/lib/python3.9/site-packages/inference/core/interfaces/stream/inference_pipeline.py#907\" target=\"_blank\"><span style=\"color: #7f7f7f; text-decoration-color: #7f7f7f\">907</span></a>\n",
       "<span style=\"color: #7fbfbf; text-decoration-color: #7fbfbf\">                    </span>         <span style=\"color: #008080; text-decoration-color: #008080; font-weight: bold\">1</span> positional argument but <span style=\"color: #008080; text-decoration-color: #008080; font-weight: bold\">2</span> were given                       <span style=\"color: #7f7f7f; text-decoration-color: #7f7f7f\">                         </span>\n",
       "</pre>\n"
      ],
      "text/plain": [
       "\u001b[2;36m                   \u001b[0m\u001b[2;36m \u001b[0m\u001b[31mWARNING \u001b[0m Error in results dispatching - \u001b[1;35mrender_boxes_on_frame\u001b[0m\u001b[1m(\u001b[0m\u001b[1m)\u001b[0m takes \u001b]8;id=478746;file:///Users/saadia/Documents/DevIA_2024/ShiFuMi_computerVision/venv/lib/python3.9/site-packages/inference/core/interfaces/stream/inference_pipeline.py\u001b\\\u001b[2minference_pipeline.py\u001b[0m\u001b]8;;\u001b\\\u001b[2m:\u001b[0m\u001b]8;id=5315;file:///Users/saadia/Documents/DevIA_2024/ShiFuMi_computerVision/venv/lib/python3.9/site-packages/inference/core/interfaces/stream/inference_pipeline.py#907\u001b\\\u001b[2m907\u001b[0m\u001b]8;;\u001b\\\n",
       "\u001b[2;36m                    \u001b[0m         \u001b[1;36m1\u001b[0m positional argument but \u001b[1;36m2\u001b[0m were given                       \u001b[2m                         \u001b[0m\n"
      ]
     },
     "metadata": {},
     "output_type": "display_data"
    },
    {
     "name": "stdout",
     "output_type": "stream",
     "text": [
      "0: 640x640 (no detections), 159.6ms\n",
      "Speed: 2.0ms preprocess, 159.6ms inference, 0.2ms postprocess per image at shape (1, 3, 640, 640)\n",
      "Video frames: 1\n",
      "\n"
     ]
    },
    {
     "data": {
      "text/html": [
       "<pre style=\"white-space:pre;overflow-x:auto;line-height:normal;font-family:Menlo,'DejaVu Sans Mono',consolas,'Courier New',monospace\"><span style=\"color: #7fbfbf; text-decoration-color: #7fbfbf\">                    </span><span style=\"color: #800000; text-decoration-color: #800000\">WARNING </span> Error in results dispatching - <span style=\"color: #800080; text-decoration-color: #800080; font-weight: bold\">render_boxes_on_frame</span><span style=\"font-weight: bold\">()</span> takes <a href=\"file:///Users/saadia/Documents/DevIA_2024/ShiFuMi_computerVision/venv/lib/python3.9/site-packages/inference/core/interfaces/stream/inference_pipeline.py\" target=\"_blank\"><span style=\"color: #7f7f7f; text-decoration-color: #7f7f7f\">inference_pipeline.py</span></a><span style=\"color: #7f7f7f; text-decoration-color: #7f7f7f\">:</span><a href=\"file:///Users/saadia/Documents/DevIA_2024/ShiFuMi_computerVision/venv/lib/python3.9/site-packages/inference/core/interfaces/stream/inference_pipeline.py#907\" target=\"_blank\"><span style=\"color: #7f7f7f; text-decoration-color: #7f7f7f\">907</span></a>\n",
       "<span style=\"color: #7fbfbf; text-decoration-color: #7fbfbf\">                    </span>         <span style=\"color: #008080; text-decoration-color: #008080; font-weight: bold\">1</span> positional argument but <span style=\"color: #008080; text-decoration-color: #008080; font-weight: bold\">2</span> were given                       <span style=\"color: #7f7f7f; text-decoration-color: #7f7f7f\">                         </span>\n",
       "</pre>\n"
      ],
      "text/plain": [
       "\u001b[2;36m                   \u001b[0m\u001b[2;36m \u001b[0m\u001b[31mWARNING \u001b[0m Error in results dispatching - \u001b[1;35mrender_boxes_on_frame\u001b[0m\u001b[1m(\u001b[0m\u001b[1m)\u001b[0m takes \u001b]8;id=36498;file:///Users/saadia/Documents/DevIA_2024/ShiFuMi_computerVision/venv/lib/python3.9/site-packages/inference/core/interfaces/stream/inference_pipeline.py\u001b\\\u001b[2minference_pipeline.py\u001b[0m\u001b]8;;\u001b\\\u001b[2m:\u001b[0m\u001b]8;id=492306;file:///Users/saadia/Documents/DevIA_2024/ShiFuMi_computerVision/venv/lib/python3.9/site-packages/inference/core/interfaces/stream/inference_pipeline.py#907\u001b\\\u001b[2m907\u001b[0m\u001b]8;;\u001b\\\n",
       "\u001b[2;36m                    \u001b[0m         \u001b[1;36m1\u001b[0m positional argument but \u001b[1;36m2\u001b[0m were given                       \u001b[2m                         \u001b[0m\n"
      ]
     },
     "metadata": {},
     "output_type": "display_data"
    },
    {
     "name": "stdout",
     "output_type": "stream",
     "text": [
      "0: 640x640 (no detections), 156.6ms\n",
      "Speed: 2.5ms preprocess, 156.6ms inference, 0.3ms postprocess per image at shape (1, 3, 640, 640)\n",
      "Video frames: 1\n",
      "\n"
     ]
    },
    {
     "data": {
      "text/html": [
       "<pre style=\"white-space:pre;overflow-x:auto;line-height:normal;font-family:Menlo,'DejaVu Sans Mono',consolas,'Courier New',monospace\"><span style=\"color: #7fbfbf; text-decoration-color: #7fbfbf\">[07/01/24 12:07:52] </span><span style=\"color: #800000; text-decoration-color: #800000\">WARNING </span> Error in results dispatching - <span style=\"color: #800080; text-decoration-color: #800080; font-weight: bold\">render_boxes_on_frame</span><span style=\"font-weight: bold\">()</span> takes <a href=\"file:///Users/saadia/Documents/DevIA_2024/ShiFuMi_computerVision/venv/lib/python3.9/site-packages/inference/core/interfaces/stream/inference_pipeline.py\" target=\"_blank\"><span style=\"color: #7f7f7f; text-decoration-color: #7f7f7f\">inference_pipeline.py</span></a><span style=\"color: #7f7f7f; text-decoration-color: #7f7f7f\">:</span><a href=\"file:///Users/saadia/Documents/DevIA_2024/ShiFuMi_computerVision/venv/lib/python3.9/site-packages/inference/core/interfaces/stream/inference_pipeline.py#907\" target=\"_blank\"><span style=\"color: #7f7f7f; text-decoration-color: #7f7f7f\">907</span></a>\n",
       "<span style=\"color: #7fbfbf; text-decoration-color: #7fbfbf\">                    </span>         <span style=\"color: #008080; text-decoration-color: #008080; font-weight: bold\">1</span> positional argument but <span style=\"color: #008080; text-decoration-color: #008080; font-weight: bold\">2</span> were given                       <span style=\"color: #7f7f7f; text-decoration-color: #7f7f7f\">                         </span>\n",
       "</pre>\n"
      ],
      "text/plain": [
       "\u001b[2;36m[07/01/24 12:07:52]\u001b[0m\u001b[2;36m \u001b[0m\u001b[31mWARNING \u001b[0m Error in results dispatching - \u001b[1;35mrender_boxes_on_frame\u001b[0m\u001b[1m(\u001b[0m\u001b[1m)\u001b[0m takes \u001b]8;id=562353;file:///Users/saadia/Documents/DevIA_2024/ShiFuMi_computerVision/venv/lib/python3.9/site-packages/inference/core/interfaces/stream/inference_pipeline.py\u001b\\\u001b[2minference_pipeline.py\u001b[0m\u001b]8;;\u001b\\\u001b[2m:\u001b[0m\u001b]8;id=291157;file:///Users/saadia/Documents/DevIA_2024/ShiFuMi_computerVision/venv/lib/python3.9/site-packages/inference/core/interfaces/stream/inference_pipeline.py#907\u001b\\\u001b[2m907\u001b[0m\u001b]8;;\u001b\\\n",
       "\u001b[2;36m                    \u001b[0m         \u001b[1;36m1\u001b[0m positional argument but \u001b[1;36m2\u001b[0m were given                       \u001b[2m                         \u001b[0m\n"
      ]
     },
     "metadata": {},
     "output_type": "display_data"
    },
    {
     "name": "stdout",
     "output_type": "stream",
     "text": [
      "0: 640x640 (no detections), 155.0ms\n",
      "Speed: 1.9ms preprocess, 155.0ms inference, 0.3ms postprocess per image at shape (1, 3, 640, 640)\n",
      "Video frames: 1\n",
      "\n"
     ]
    },
    {
     "data": {
      "text/html": [
       "<pre style=\"white-space:pre;overflow-x:auto;line-height:normal;font-family:Menlo,'DejaVu Sans Mono',consolas,'Courier New',monospace\"><span style=\"color: #7fbfbf; text-decoration-color: #7fbfbf\">                    </span><span style=\"color: #800000; text-decoration-color: #800000\">WARNING </span> Error in results dispatching - <span style=\"color: #800080; text-decoration-color: #800080; font-weight: bold\">render_boxes_on_frame</span><span style=\"font-weight: bold\">()</span> takes <a href=\"file:///Users/saadia/Documents/DevIA_2024/ShiFuMi_computerVision/venv/lib/python3.9/site-packages/inference/core/interfaces/stream/inference_pipeline.py\" target=\"_blank\"><span style=\"color: #7f7f7f; text-decoration-color: #7f7f7f\">inference_pipeline.py</span></a><span style=\"color: #7f7f7f; text-decoration-color: #7f7f7f\">:</span><a href=\"file:///Users/saadia/Documents/DevIA_2024/ShiFuMi_computerVision/venv/lib/python3.9/site-packages/inference/core/interfaces/stream/inference_pipeline.py#907\" target=\"_blank\"><span style=\"color: #7f7f7f; text-decoration-color: #7f7f7f\">907</span></a>\n",
       "<span style=\"color: #7fbfbf; text-decoration-color: #7fbfbf\">                    </span>         <span style=\"color: #008080; text-decoration-color: #008080; font-weight: bold\">1</span> positional argument but <span style=\"color: #008080; text-decoration-color: #008080; font-weight: bold\">2</span> were given                       <span style=\"color: #7f7f7f; text-decoration-color: #7f7f7f\">                         </span>\n",
       "</pre>\n"
      ],
      "text/plain": [
       "\u001b[2;36m                   \u001b[0m\u001b[2;36m \u001b[0m\u001b[31mWARNING \u001b[0m Error in results dispatching - \u001b[1;35mrender_boxes_on_frame\u001b[0m\u001b[1m(\u001b[0m\u001b[1m)\u001b[0m takes \u001b]8;id=86143;file:///Users/saadia/Documents/DevIA_2024/ShiFuMi_computerVision/venv/lib/python3.9/site-packages/inference/core/interfaces/stream/inference_pipeline.py\u001b\\\u001b[2minference_pipeline.py\u001b[0m\u001b]8;;\u001b\\\u001b[2m:\u001b[0m\u001b]8;id=323271;file:///Users/saadia/Documents/DevIA_2024/ShiFuMi_computerVision/venv/lib/python3.9/site-packages/inference/core/interfaces/stream/inference_pipeline.py#907\u001b\\\u001b[2m907\u001b[0m\u001b]8;;\u001b\\\n",
       "\u001b[2;36m                    \u001b[0m         \u001b[1;36m1\u001b[0m positional argument but \u001b[1;36m2\u001b[0m were given                       \u001b[2m                         \u001b[0m\n"
      ]
     },
     "metadata": {},
     "output_type": "display_data"
    },
    {
     "name": "stdout",
     "output_type": "stream",
     "text": [
      "0: 640x640 (no detections), 151.6ms\n",
      "Speed: 2.3ms preprocess, 151.6ms inference, 0.3ms postprocess per image at shape (1, 3, 640, 640)\n",
      "Video frames: 1\n",
      "\n"
     ]
    },
    {
     "data": {
      "text/html": [
       "<pre style=\"white-space:pre;overflow-x:auto;line-height:normal;font-family:Menlo,'DejaVu Sans Mono',consolas,'Courier New',monospace\"><span style=\"color: #7fbfbf; text-decoration-color: #7fbfbf\">                    </span><span style=\"color: #800000; text-decoration-color: #800000\">WARNING </span> Error in results dispatching - <span style=\"color: #800080; text-decoration-color: #800080; font-weight: bold\">render_boxes_on_frame</span><span style=\"font-weight: bold\">()</span> takes <a href=\"file:///Users/saadia/Documents/DevIA_2024/ShiFuMi_computerVision/venv/lib/python3.9/site-packages/inference/core/interfaces/stream/inference_pipeline.py\" target=\"_blank\"><span style=\"color: #7f7f7f; text-decoration-color: #7f7f7f\">inference_pipeline.py</span></a><span style=\"color: #7f7f7f; text-decoration-color: #7f7f7f\">:</span><a href=\"file:///Users/saadia/Documents/DevIA_2024/ShiFuMi_computerVision/venv/lib/python3.9/site-packages/inference/core/interfaces/stream/inference_pipeline.py#907\" target=\"_blank\"><span style=\"color: #7f7f7f; text-decoration-color: #7f7f7f\">907</span></a>\n",
       "<span style=\"color: #7fbfbf; text-decoration-color: #7fbfbf\">                    </span>         <span style=\"color: #008080; text-decoration-color: #008080; font-weight: bold\">1</span> positional argument but <span style=\"color: #008080; text-decoration-color: #008080; font-weight: bold\">2</span> were given                       <span style=\"color: #7f7f7f; text-decoration-color: #7f7f7f\">                         </span>\n",
       "</pre>\n"
      ],
      "text/plain": [
       "\u001b[2;36m                   \u001b[0m\u001b[2;36m \u001b[0m\u001b[31mWARNING \u001b[0m Error in results dispatching - \u001b[1;35mrender_boxes_on_frame\u001b[0m\u001b[1m(\u001b[0m\u001b[1m)\u001b[0m takes \u001b]8;id=241346;file:///Users/saadia/Documents/DevIA_2024/ShiFuMi_computerVision/venv/lib/python3.9/site-packages/inference/core/interfaces/stream/inference_pipeline.py\u001b\\\u001b[2minference_pipeline.py\u001b[0m\u001b]8;;\u001b\\\u001b[2m:\u001b[0m\u001b]8;id=397683;file:///Users/saadia/Documents/DevIA_2024/ShiFuMi_computerVision/venv/lib/python3.9/site-packages/inference/core/interfaces/stream/inference_pipeline.py#907\u001b\\\u001b[2m907\u001b[0m\u001b]8;;\u001b\\\n",
       "\u001b[2;36m                    \u001b[0m         \u001b[1;36m1\u001b[0m positional argument but \u001b[1;36m2\u001b[0m were given                       \u001b[2m                         \u001b[0m\n"
      ]
     },
     "metadata": {},
     "output_type": "display_data"
    },
    {
     "name": "stdout",
     "output_type": "stream",
     "text": [
      "0: 640x640 (no detections), 154.3ms\n",
      "Speed: 2.7ms preprocess, 154.3ms inference, 0.3ms postprocess per image at shape (1, 3, 640, 640)\n",
      "Video frames: 1\n",
      "\n"
     ]
    },
    {
     "data": {
      "text/html": [
       "<pre style=\"white-space:pre;overflow-x:auto;line-height:normal;font-family:Menlo,'DejaVu Sans Mono',consolas,'Courier New',monospace\"><span style=\"color: #7fbfbf; text-decoration-color: #7fbfbf\">                    </span><span style=\"color: #800000; text-decoration-color: #800000\">WARNING </span> Error in results dispatching - <span style=\"color: #800080; text-decoration-color: #800080; font-weight: bold\">render_boxes_on_frame</span><span style=\"font-weight: bold\">()</span> takes <a href=\"file:///Users/saadia/Documents/DevIA_2024/ShiFuMi_computerVision/venv/lib/python3.9/site-packages/inference/core/interfaces/stream/inference_pipeline.py\" target=\"_blank\"><span style=\"color: #7f7f7f; text-decoration-color: #7f7f7f\">inference_pipeline.py</span></a><span style=\"color: #7f7f7f; text-decoration-color: #7f7f7f\">:</span><a href=\"file:///Users/saadia/Documents/DevIA_2024/ShiFuMi_computerVision/venv/lib/python3.9/site-packages/inference/core/interfaces/stream/inference_pipeline.py#907\" target=\"_blank\"><span style=\"color: #7f7f7f; text-decoration-color: #7f7f7f\">907</span></a>\n",
       "<span style=\"color: #7fbfbf; text-decoration-color: #7fbfbf\">                    </span>         <span style=\"color: #008080; text-decoration-color: #008080; font-weight: bold\">1</span> positional argument but <span style=\"color: #008080; text-decoration-color: #008080; font-weight: bold\">2</span> were given                       <span style=\"color: #7f7f7f; text-decoration-color: #7f7f7f\">                         </span>\n",
       "</pre>\n"
      ],
      "text/plain": [
       "\u001b[2;36m                   \u001b[0m\u001b[2;36m \u001b[0m\u001b[31mWARNING \u001b[0m Error in results dispatching - \u001b[1;35mrender_boxes_on_frame\u001b[0m\u001b[1m(\u001b[0m\u001b[1m)\u001b[0m takes \u001b]8;id=853308;file:///Users/saadia/Documents/DevIA_2024/ShiFuMi_computerVision/venv/lib/python3.9/site-packages/inference/core/interfaces/stream/inference_pipeline.py\u001b\\\u001b[2minference_pipeline.py\u001b[0m\u001b]8;;\u001b\\\u001b[2m:\u001b[0m\u001b]8;id=857368;file:///Users/saadia/Documents/DevIA_2024/ShiFuMi_computerVision/venv/lib/python3.9/site-packages/inference/core/interfaces/stream/inference_pipeline.py#907\u001b\\\u001b[2m907\u001b[0m\u001b]8;;\u001b\\\n",
       "\u001b[2;36m                    \u001b[0m         \u001b[1;36m1\u001b[0m positional argument but \u001b[1;36m2\u001b[0m were given                       \u001b[2m                         \u001b[0m\n"
      ]
     },
     "metadata": {},
     "output_type": "display_data"
    },
    {
     "name": "stdout",
     "output_type": "stream",
     "text": [
      "0: 640x640 (no detections), 170.7ms\n",
      "Speed: 2.0ms preprocess, 170.7ms inference, 0.4ms postprocess per image at shape (1, 3, 640, 640)\n",
      "Video frames: 1\n",
      "\n"
     ]
    },
    {
     "data": {
      "text/html": [
       "<pre style=\"white-space:pre;overflow-x:auto;line-height:normal;font-family:Menlo,'DejaVu Sans Mono',consolas,'Courier New',monospace\"><span style=\"color: #7fbfbf; text-decoration-color: #7fbfbf\">                    </span><span style=\"color: #800000; text-decoration-color: #800000\">WARNING </span> Error in results dispatching - <span style=\"color: #800080; text-decoration-color: #800080; font-weight: bold\">render_boxes_on_frame</span><span style=\"font-weight: bold\">()</span> takes <a href=\"file:///Users/saadia/Documents/DevIA_2024/ShiFuMi_computerVision/venv/lib/python3.9/site-packages/inference/core/interfaces/stream/inference_pipeline.py\" target=\"_blank\"><span style=\"color: #7f7f7f; text-decoration-color: #7f7f7f\">inference_pipeline.py</span></a><span style=\"color: #7f7f7f; text-decoration-color: #7f7f7f\">:</span><a href=\"file:///Users/saadia/Documents/DevIA_2024/ShiFuMi_computerVision/venv/lib/python3.9/site-packages/inference/core/interfaces/stream/inference_pipeline.py#907\" target=\"_blank\"><span style=\"color: #7f7f7f; text-decoration-color: #7f7f7f\">907</span></a>\n",
       "<span style=\"color: #7fbfbf; text-decoration-color: #7fbfbf\">                    </span>         <span style=\"color: #008080; text-decoration-color: #008080; font-weight: bold\">1</span> positional argument but <span style=\"color: #008080; text-decoration-color: #008080; font-weight: bold\">2</span> were given                       <span style=\"color: #7f7f7f; text-decoration-color: #7f7f7f\">                         </span>\n",
       "</pre>\n"
      ],
      "text/plain": [
       "\u001b[2;36m                   \u001b[0m\u001b[2;36m \u001b[0m\u001b[31mWARNING \u001b[0m Error in results dispatching - \u001b[1;35mrender_boxes_on_frame\u001b[0m\u001b[1m(\u001b[0m\u001b[1m)\u001b[0m takes \u001b]8;id=486304;file:///Users/saadia/Documents/DevIA_2024/ShiFuMi_computerVision/venv/lib/python3.9/site-packages/inference/core/interfaces/stream/inference_pipeline.py\u001b\\\u001b[2minference_pipeline.py\u001b[0m\u001b]8;;\u001b\\\u001b[2m:\u001b[0m\u001b]8;id=439656;file:///Users/saadia/Documents/DevIA_2024/ShiFuMi_computerVision/venv/lib/python3.9/site-packages/inference/core/interfaces/stream/inference_pipeline.py#907\u001b\\\u001b[2m907\u001b[0m\u001b]8;;\u001b\\\n",
       "\u001b[2;36m                    \u001b[0m         \u001b[1;36m1\u001b[0m positional argument but \u001b[1;36m2\u001b[0m were given                       \u001b[2m                         \u001b[0m\n"
      ]
     },
     "metadata": {},
     "output_type": "display_data"
    },
    {
     "name": "stdout",
     "output_type": "stream",
     "text": [
      "0: 640x640 (no detections), 156.3ms\n",
      "Speed: 1.8ms preprocess, 156.3ms inference, 0.3ms postprocess per image at shape (1, 3, 640, 640)\n",
      "Video frames: 1\n",
      "\n"
     ]
    },
    {
     "data": {
      "text/html": [
       "<pre style=\"white-space:pre;overflow-x:auto;line-height:normal;font-family:Menlo,'DejaVu Sans Mono',consolas,'Courier New',monospace\"><span style=\"color: #7fbfbf; text-decoration-color: #7fbfbf\">                    </span><span style=\"color: #800000; text-decoration-color: #800000\">WARNING </span> Error in results dispatching - <span style=\"color: #800080; text-decoration-color: #800080; font-weight: bold\">render_boxes_on_frame</span><span style=\"font-weight: bold\">()</span> takes <a href=\"file:///Users/saadia/Documents/DevIA_2024/ShiFuMi_computerVision/venv/lib/python3.9/site-packages/inference/core/interfaces/stream/inference_pipeline.py\" target=\"_blank\"><span style=\"color: #7f7f7f; text-decoration-color: #7f7f7f\">inference_pipeline.py</span></a><span style=\"color: #7f7f7f; text-decoration-color: #7f7f7f\">:</span><a href=\"file:///Users/saadia/Documents/DevIA_2024/ShiFuMi_computerVision/venv/lib/python3.9/site-packages/inference/core/interfaces/stream/inference_pipeline.py#907\" target=\"_blank\"><span style=\"color: #7f7f7f; text-decoration-color: #7f7f7f\">907</span></a>\n",
       "<span style=\"color: #7fbfbf; text-decoration-color: #7fbfbf\">                    </span>         <span style=\"color: #008080; text-decoration-color: #008080; font-weight: bold\">1</span> positional argument but <span style=\"color: #008080; text-decoration-color: #008080; font-weight: bold\">2</span> were given                       <span style=\"color: #7f7f7f; text-decoration-color: #7f7f7f\">                         </span>\n",
       "</pre>\n"
      ],
      "text/plain": [
       "\u001b[2;36m                   \u001b[0m\u001b[2;36m \u001b[0m\u001b[31mWARNING \u001b[0m Error in results dispatching - \u001b[1;35mrender_boxes_on_frame\u001b[0m\u001b[1m(\u001b[0m\u001b[1m)\u001b[0m takes \u001b]8;id=702206;file:///Users/saadia/Documents/DevIA_2024/ShiFuMi_computerVision/venv/lib/python3.9/site-packages/inference/core/interfaces/stream/inference_pipeline.py\u001b\\\u001b[2minference_pipeline.py\u001b[0m\u001b]8;;\u001b\\\u001b[2m:\u001b[0m\u001b]8;id=105131;file:///Users/saadia/Documents/DevIA_2024/ShiFuMi_computerVision/venv/lib/python3.9/site-packages/inference/core/interfaces/stream/inference_pipeline.py#907\u001b\\\u001b[2m907\u001b[0m\u001b]8;;\u001b\\\n",
       "\u001b[2;36m                    \u001b[0m         \u001b[1;36m1\u001b[0m positional argument but \u001b[1;36m2\u001b[0m were given                       \u001b[2m                         \u001b[0m\n"
      ]
     },
     "metadata": {},
     "output_type": "display_data"
    },
    {
     "name": "stdout",
     "output_type": "stream",
     "text": [
      "0: 640x640 (no detections), 154.0ms\n",
      "Speed: 2.5ms preprocess, 154.0ms inference, 0.2ms postprocess per image at shape (1, 3, 640, 640)\n",
      "Video frames: 1\n",
      "\n"
     ]
    },
    {
     "data": {
      "text/html": [
       "<pre style=\"white-space:pre;overflow-x:auto;line-height:normal;font-family:Menlo,'DejaVu Sans Mono',consolas,'Courier New',monospace\"><span style=\"color: #7fbfbf; text-decoration-color: #7fbfbf\">[07/01/24 12:07:53] </span><span style=\"color: #800000; text-decoration-color: #800000\">WARNING </span> Error in results dispatching - <span style=\"color: #800080; text-decoration-color: #800080; font-weight: bold\">render_boxes_on_frame</span><span style=\"font-weight: bold\">()</span> takes <a href=\"file:///Users/saadia/Documents/DevIA_2024/ShiFuMi_computerVision/venv/lib/python3.9/site-packages/inference/core/interfaces/stream/inference_pipeline.py\" target=\"_blank\"><span style=\"color: #7f7f7f; text-decoration-color: #7f7f7f\">inference_pipeline.py</span></a><span style=\"color: #7f7f7f; text-decoration-color: #7f7f7f\">:</span><a href=\"file:///Users/saadia/Documents/DevIA_2024/ShiFuMi_computerVision/venv/lib/python3.9/site-packages/inference/core/interfaces/stream/inference_pipeline.py#907\" target=\"_blank\"><span style=\"color: #7f7f7f; text-decoration-color: #7f7f7f\">907</span></a>\n",
       "<span style=\"color: #7fbfbf; text-decoration-color: #7fbfbf\">                    </span>         <span style=\"color: #008080; text-decoration-color: #008080; font-weight: bold\">1</span> positional argument but <span style=\"color: #008080; text-decoration-color: #008080; font-weight: bold\">2</span> were given                       <span style=\"color: #7f7f7f; text-decoration-color: #7f7f7f\">                         </span>\n",
       "</pre>\n"
      ],
      "text/plain": [
       "\u001b[2;36m[07/01/24 12:07:53]\u001b[0m\u001b[2;36m \u001b[0m\u001b[31mWARNING \u001b[0m Error in results dispatching - \u001b[1;35mrender_boxes_on_frame\u001b[0m\u001b[1m(\u001b[0m\u001b[1m)\u001b[0m takes \u001b]8;id=45637;file:///Users/saadia/Documents/DevIA_2024/ShiFuMi_computerVision/venv/lib/python3.9/site-packages/inference/core/interfaces/stream/inference_pipeline.py\u001b\\\u001b[2minference_pipeline.py\u001b[0m\u001b]8;;\u001b\\\u001b[2m:\u001b[0m\u001b]8;id=696094;file:///Users/saadia/Documents/DevIA_2024/ShiFuMi_computerVision/venv/lib/python3.9/site-packages/inference/core/interfaces/stream/inference_pipeline.py#907\u001b\\\u001b[2m907\u001b[0m\u001b]8;;\u001b\\\n",
       "\u001b[2;36m                    \u001b[0m         \u001b[1;36m1\u001b[0m positional argument but \u001b[1;36m2\u001b[0m were given                       \u001b[2m                         \u001b[0m\n"
      ]
     },
     "metadata": {},
     "output_type": "display_data"
    },
    {
     "name": "stdout",
     "output_type": "stream",
     "text": [
      "0: 640x640 (no detections), 153.9ms\n",
      "Speed: 2.5ms preprocess, 153.9ms inference, 0.3ms postprocess per image at shape (1, 3, 640, 640)\n",
      "Video frames: 1\n",
      "\n"
     ]
    },
    {
     "data": {
      "text/html": [
       "<pre style=\"white-space:pre;overflow-x:auto;line-height:normal;font-family:Menlo,'DejaVu Sans Mono',consolas,'Courier New',monospace\"><span style=\"color: #7fbfbf; text-decoration-color: #7fbfbf\">                    </span><span style=\"color: #800000; text-decoration-color: #800000\">WARNING </span> Error in results dispatching - <span style=\"color: #800080; text-decoration-color: #800080; font-weight: bold\">render_boxes_on_frame</span><span style=\"font-weight: bold\">()</span> takes <a href=\"file:///Users/saadia/Documents/DevIA_2024/ShiFuMi_computerVision/venv/lib/python3.9/site-packages/inference/core/interfaces/stream/inference_pipeline.py\" target=\"_blank\"><span style=\"color: #7f7f7f; text-decoration-color: #7f7f7f\">inference_pipeline.py</span></a><span style=\"color: #7f7f7f; text-decoration-color: #7f7f7f\">:</span><a href=\"file:///Users/saadia/Documents/DevIA_2024/ShiFuMi_computerVision/venv/lib/python3.9/site-packages/inference/core/interfaces/stream/inference_pipeline.py#907\" target=\"_blank\"><span style=\"color: #7f7f7f; text-decoration-color: #7f7f7f\">907</span></a>\n",
       "<span style=\"color: #7fbfbf; text-decoration-color: #7fbfbf\">                    </span>         <span style=\"color: #008080; text-decoration-color: #008080; font-weight: bold\">1</span> positional argument but <span style=\"color: #008080; text-decoration-color: #008080; font-weight: bold\">2</span> were given                       <span style=\"color: #7f7f7f; text-decoration-color: #7f7f7f\">                         </span>\n",
       "</pre>\n"
      ],
      "text/plain": [
       "\u001b[2;36m                   \u001b[0m\u001b[2;36m \u001b[0m\u001b[31mWARNING \u001b[0m Error in results dispatching - \u001b[1;35mrender_boxes_on_frame\u001b[0m\u001b[1m(\u001b[0m\u001b[1m)\u001b[0m takes \u001b]8;id=901694;file:///Users/saadia/Documents/DevIA_2024/ShiFuMi_computerVision/venv/lib/python3.9/site-packages/inference/core/interfaces/stream/inference_pipeline.py\u001b\\\u001b[2minference_pipeline.py\u001b[0m\u001b]8;;\u001b\\\u001b[2m:\u001b[0m\u001b]8;id=189763;file:///Users/saadia/Documents/DevIA_2024/ShiFuMi_computerVision/venv/lib/python3.9/site-packages/inference/core/interfaces/stream/inference_pipeline.py#907\u001b\\\u001b[2m907\u001b[0m\u001b]8;;\u001b\\\n",
       "\u001b[2;36m                    \u001b[0m         \u001b[1;36m1\u001b[0m positional argument but \u001b[1;36m2\u001b[0m were given                       \u001b[2m                         \u001b[0m\n"
      ]
     },
     "metadata": {},
     "output_type": "display_data"
    },
    {
     "name": "stdout",
     "output_type": "stream",
     "text": [
      "0: 640x640 1 Paper, 1 Rock, 157.4ms\n",
      "Speed: 2.2ms preprocess, 157.4ms inference, 3.3ms postprocess per image at shape (1, 3, 640, 640)\n",
      "Video frames: 1\n",
      "\n"
     ]
    },
    {
     "data": {
      "text/html": [
       "<pre style=\"white-space:pre;overflow-x:auto;line-height:normal;font-family:Menlo,'DejaVu Sans Mono',consolas,'Courier New',monospace\"><span style=\"color: #7fbfbf; text-decoration-color: #7fbfbf\">                    </span><span style=\"color: #800000; text-decoration-color: #800000\">WARNING </span> Error in results dispatching - <span style=\"color: #800080; text-decoration-color: #800080; font-weight: bold\">render_boxes_on_frame</span><span style=\"font-weight: bold\">()</span> takes <a href=\"file:///Users/saadia/Documents/DevIA_2024/ShiFuMi_computerVision/venv/lib/python3.9/site-packages/inference/core/interfaces/stream/inference_pipeline.py\" target=\"_blank\"><span style=\"color: #7f7f7f; text-decoration-color: #7f7f7f\">inference_pipeline.py</span></a><span style=\"color: #7f7f7f; text-decoration-color: #7f7f7f\">:</span><a href=\"file:///Users/saadia/Documents/DevIA_2024/ShiFuMi_computerVision/venv/lib/python3.9/site-packages/inference/core/interfaces/stream/inference_pipeline.py#907\" target=\"_blank\"><span style=\"color: #7f7f7f; text-decoration-color: #7f7f7f\">907</span></a>\n",
       "<span style=\"color: #7fbfbf; text-decoration-color: #7fbfbf\">                    </span>         <span style=\"color: #008080; text-decoration-color: #008080; font-weight: bold\">1</span> positional argument but <span style=\"color: #008080; text-decoration-color: #008080; font-weight: bold\">2</span> were given                       <span style=\"color: #7f7f7f; text-decoration-color: #7f7f7f\">                         </span>\n",
       "</pre>\n"
      ],
      "text/plain": [
       "\u001b[2;36m                   \u001b[0m\u001b[2;36m \u001b[0m\u001b[31mWARNING \u001b[0m Error in results dispatching - \u001b[1;35mrender_boxes_on_frame\u001b[0m\u001b[1m(\u001b[0m\u001b[1m)\u001b[0m takes \u001b]8;id=67650;file:///Users/saadia/Documents/DevIA_2024/ShiFuMi_computerVision/venv/lib/python3.9/site-packages/inference/core/interfaces/stream/inference_pipeline.py\u001b\\\u001b[2minference_pipeline.py\u001b[0m\u001b]8;;\u001b\\\u001b[2m:\u001b[0m\u001b]8;id=613428;file:///Users/saadia/Documents/DevIA_2024/ShiFuMi_computerVision/venv/lib/python3.9/site-packages/inference/core/interfaces/stream/inference_pipeline.py#907\u001b\\\u001b[2m907\u001b[0m\u001b]8;;\u001b\\\n",
       "\u001b[2;36m                    \u001b[0m         \u001b[1;36m1\u001b[0m positional argument but \u001b[1;36m2\u001b[0m were given                       \u001b[2m                         \u001b[0m\n"
      ]
     },
     "metadata": {},
     "output_type": "display_data"
    },
    {
     "name": "stdout",
     "output_type": "stream",
     "text": [
      "0: 640x640 1 Rock, 158.6ms\n",
      "Speed: 2.8ms preprocess, 158.6ms inference, 0.4ms postprocess per image at shape (1, 3, 640, 640)\n",
      "Video frames: 1\n",
      "\n"
     ]
    },
    {
     "data": {
      "text/html": [
       "<pre style=\"white-space:pre;overflow-x:auto;line-height:normal;font-family:Menlo,'DejaVu Sans Mono',consolas,'Courier New',monospace\"><span style=\"color: #7fbfbf; text-decoration-color: #7fbfbf\">                    </span><span style=\"color: #800000; text-decoration-color: #800000\">WARNING </span> Error in results dispatching - <span style=\"color: #800080; text-decoration-color: #800080; font-weight: bold\">render_boxes_on_frame</span><span style=\"font-weight: bold\">()</span> takes <a href=\"file:///Users/saadia/Documents/DevIA_2024/ShiFuMi_computerVision/venv/lib/python3.9/site-packages/inference/core/interfaces/stream/inference_pipeline.py\" target=\"_blank\"><span style=\"color: #7f7f7f; text-decoration-color: #7f7f7f\">inference_pipeline.py</span></a><span style=\"color: #7f7f7f; text-decoration-color: #7f7f7f\">:</span><a href=\"file:///Users/saadia/Documents/DevIA_2024/ShiFuMi_computerVision/venv/lib/python3.9/site-packages/inference/core/interfaces/stream/inference_pipeline.py#907\" target=\"_blank\"><span style=\"color: #7f7f7f; text-decoration-color: #7f7f7f\">907</span></a>\n",
       "<span style=\"color: #7fbfbf; text-decoration-color: #7fbfbf\">                    </span>         <span style=\"color: #008080; text-decoration-color: #008080; font-weight: bold\">1</span> positional argument but <span style=\"color: #008080; text-decoration-color: #008080; font-weight: bold\">2</span> were given                       <span style=\"color: #7f7f7f; text-decoration-color: #7f7f7f\">                         </span>\n",
       "</pre>\n"
      ],
      "text/plain": [
       "\u001b[2;36m                   \u001b[0m\u001b[2;36m \u001b[0m\u001b[31mWARNING \u001b[0m Error in results dispatching - \u001b[1;35mrender_boxes_on_frame\u001b[0m\u001b[1m(\u001b[0m\u001b[1m)\u001b[0m takes \u001b]8;id=296090;file:///Users/saadia/Documents/DevIA_2024/ShiFuMi_computerVision/venv/lib/python3.9/site-packages/inference/core/interfaces/stream/inference_pipeline.py\u001b\\\u001b[2minference_pipeline.py\u001b[0m\u001b]8;;\u001b\\\u001b[2m:\u001b[0m\u001b]8;id=960698;file:///Users/saadia/Documents/DevIA_2024/ShiFuMi_computerVision/venv/lib/python3.9/site-packages/inference/core/interfaces/stream/inference_pipeline.py#907\u001b\\\u001b[2m907\u001b[0m\u001b]8;;\u001b\\\n",
       "\u001b[2;36m                    \u001b[0m         \u001b[1;36m1\u001b[0m positional argument but \u001b[1;36m2\u001b[0m were given                       \u001b[2m                         \u001b[0m\n"
      ]
     },
     "metadata": {},
     "output_type": "display_data"
    },
    {
     "name": "stdout",
     "output_type": "stream",
     "text": [
      "0: 640x640 1 Rock, 157.3ms\n",
      "Speed: 2.3ms preprocess, 157.3ms inference, 0.7ms postprocess per image at shape (1, 3, 640, 640)\n",
      "Video frames: 1\n",
      "\n"
     ]
    },
    {
     "data": {
      "text/html": [
       "<pre style=\"white-space:pre;overflow-x:auto;line-height:normal;font-family:Menlo,'DejaVu Sans Mono',consolas,'Courier New',monospace\"><span style=\"color: #7fbfbf; text-decoration-color: #7fbfbf\">                    </span><span style=\"color: #800000; text-decoration-color: #800000\">WARNING </span> Error in results dispatching - <span style=\"color: #800080; text-decoration-color: #800080; font-weight: bold\">render_boxes_on_frame</span><span style=\"font-weight: bold\">()</span> takes <a href=\"file:///Users/saadia/Documents/DevIA_2024/ShiFuMi_computerVision/venv/lib/python3.9/site-packages/inference/core/interfaces/stream/inference_pipeline.py\" target=\"_blank\"><span style=\"color: #7f7f7f; text-decoration-color: #7f7f7f\">inference_pipeline.py</span></a><span style=\"color: #7f7f7f; text-decoration-color: #7f7f7f\">:</span><a href=\"file:///Users/saadia/Documents/DevIA_2024/ShiFuMi_computerVision/venv/lib/python3.9/site-packages/inference/core/interfaces/stream/inference_pipeline.py#907\" target=\"_blank\"><span style=\"color: #7f7f7f; text-decoration-color: #7f7f7f\">907</span></a>\n",
       "<span style=\"color: #7fbfbf; text-decoration-color: #7fbfbf\">                    </span>         <span style=\"color: #008080; text-decoration-color: #008080; font-weight: bold\">1</span> positional argument but <span style=\"color: #008080; text-decoration-color: #008080; font-weight: bold\">2</span> were given                       <span style=\"color: #7f7f7f; text-decoration-color: #7f7f7f\">                         </span>\n",
       "</pre>\n"
      ],
      "text/plain": [
       "\u001b[2;36m                   \u001b[0m\u001b[2;36m \u001b[0m\u001b[31mWARNING \u001b[0m Error in results dispatching - \u001b[1;35mrender_boxes_on_frame\u001b[0m\u001b[1m(\u001b[0m\u001b[1m)\u001b[0m takes \u001b]8;id=962672;file:///Users/saadia/Documents/DevIA_2024/ShiFuMi_computerVision/venv/lib/python3.9/site-packages/inference/core/interfaces/stream/inference_pipeline.py\u001b\\\u001b[2minference_pipeline.py\u001b[0m\u001b]8;;\u001b\\\u001b[2m:\u001b[0m\u001b]8;id=24771;file:///Users/saadia/Documents/DevIA_2024/ShiFuMi_computerVision/venv/lib/python3.9/site-packages/inference/core/interfaces/stream/inference_pipeline.py#907\u001b\\\u001b[2m907\u001b[0m\u001b]8;;\u001b\\\n",
       "\u001b[2;36m                    \u001b[0m         \u001b[1;36m1\u001b[0m positional argument but \u001b[1;36m2\u001b[0m were given                       \u001b[2m                         \u001b[0m\n"
      ]
     },
     "metadata": {},
     "output_type": "display_data"
    },
    {
     "name": "stdout",
     "output_type": "stream",
     "text": [
      "0: 640x640 1 Rock, 163.9ms\n",
      "Speed: 2.0ms preprocess, 163.9ms inference, 0.4ms postprocess per image at shape (1, 3, 640, 640)\n",
      "Video frames: 1\n",
      "\n"
     ]
    },
    {
     "data": {
      "text/html": [
       "<pre style=\"white-space:pre;overflow-x:auto;line-height:normal;font-family:Menlo,'DejaVu Sans Mono',consolas,'Courier New',monospace\"><span style=\"color: #7fbfbf; text-decoration-color: #7fbfbf\">                    </span><span style=\"color: #800000; text-decoration-color: #800000\">WARNING </span> Error in results dispatching - <span style=\"color: #800080; text-decoration-color: #800080; font-weight: bold\">render_boxes_on_frame</span><span style=\"font-weight: bold\">()</span> takes <a href=\"file:///Users/saadia/Documents/DevIA_2024/ShiFuMi_computerVision/venv/lib/python3.9/site-packages/inference/core/interfaces/stream/inference_pipeline.py\" target=\"_blank\"><span style=\"color: #7f7f7f; text-decoration-color: #7f7f7f\">inference_pipeline.py</span></a><span style=\"color: #7f7f7f; text-decoration-color: #7f7f7f\">:</span><a href=\"file:///Users/saadia/Documents/DevIA_2024/ShiFuMi_computerVision/venv/lib/python3.9/site-packages/inference/core/interfaces/stream/inference_pipeline.py#907\" target=\"_blank\"><span style=\"color: #7f7f7f; text-decoration-color: #7f7f7f\">907</span></a>\n",
       "<span style=\"color: #7fbfbf; text-decoration-color: #7fbfbf\">                    </span>         <span style=\"color: #008080; text-decoration-color: #008080; font-weight: bold\">1</span> positional argument but <span style=\"color: #008080; text-decoration-color: #008080; font-weight: bold\">2</span> were given                       <span style=\"color: #7f7f7f; text-decoration-color: #7f7f7f\">                         </span>\n",
       "</pre>\n"
      ],
      "text/plain": [
       "\u001b[2;36m                   \u001b[0m\u001b[2;36m \u001b[0m\u001b[31mWARNING \u001b[0m Error in results dispatching - \u001b[1;35mrender_boxes_on_frame\u001b[0m\u001b[1m(\u001b[0m\u001b[1m)\u001b[0m takes \u001b]8;id=335864;file:///Users/saadia/Documents/DevIA_2024/ShiFuMi_computerVision/venv/lib/python3.9/site-packages/inference/core/interfaces/stream/inference_pipeline.py\u001b\\\u001b[2minference_pipeline.py\u001b[0m\u001b]8;;\u001b\\\u001b[2m:\u001b[0m\u001b]8;id=61100;file:///Users/saadia/Documents/DevIA_2024/ShiFuMi_computerVision/venv/lib/python3.9/site-packages/inference/core/interfaces/stream/inference_pipeline.py#907\u001b\\\u001b[2m907\u001b[0m\u001b]8;;\u001b\\\n",
       "\u001b[2;36m                    \u001b[0m         \u001b[1;36m1\u001b[0m positional argument but \u001b[1;36m2\u001b[0m were given                       \u001b[2m                         \u001b[0m\n"
      ]
     },
     "metadata": {},
     "output_type": "display_data"
    },
    {
     "name": "stdout",
     "output_type": "stream",
     "text": [
      "0: 640x640 1 Rock, 155.8ms\n",
      "Speed: 2.3ms preprocess, 155.8ms inference, 0.5ms postprocess per image at shape (1, 3, 640, 640)\n",
      "Video frames: 1\n",
      "\n"
     ]
    },
    {
     "data": {
      "text/html": [
       "<pre style=\"white-space:pre;overflow-x:auto;line-height:normal;font-family:Menlo,'DejaVu Sans Mono',consolas,'Courier New',monospace\"><span style=\"color: #7fbfbf; text-decoration-color: #7fbfbf\">[07/01/24 12:07:54] </span><span style=\"color: #800000; text-decoration-color: #800000\">WARNING </span> Error in results dispatching - <span style=\"color: #800080; text-decoration-color: #800080; font-weight: bold\">render_boxes_on_frame</span><span style=\"font-weight: bold\">()</span> takes <a href=\"file:///Users/saadia/Documents/DevIA_2024/ShiFuMi_computerVision/venv/lib/python3.9/site-packages/inference/core/interfaces/stream/inference_pipeline.py\" target=\"_blank\"><span style=\"color: #7f7f7f; text-decoration-color: #7f7f7f\">inference_pipeline.py</span></a><span style=\"color: #7f7f7f; text-decoration-color: #7f7f7f\">:</span><a href=\"file:///Users/saadia/Documents/DevIA_2024/ShiFuMi_computerVision/venv/lib/python3.9/site-packages/inference/core/interfaces/stream/inference_pipeline.py#907\" target=\"_blank\"><span style=\"color: #7f7f7f; text-decoration-color: #7f7f7f\">907</span></a>\n",
       "<span style=\"color: #7fbfbf; text-decoration-color: #7fbfbf\">                    </span>         <span style=\"color: #008080; text-decoration-color: #008080; font-weight: bold\">1</span> positional argument but <span style=\"color: #008080; text-decoration-color: #008080; font-weight: bold\">2</span> were given                       <span style=\"color: #7f7f7f; text-decoration-color: #7f7f7f\">                         </span>\n",
       "</pre>\n"
      ],
      "text/plain": [
       "\u001b[2;36m[07/01/24 12:07:54]\u001b[0m\u001b[2;36m \u001b[0m\u001b[31mWARNING \u001b[0m Error in results dispatching - \u001b[1;35mrender_boxes_on_frame\u001b[0m\u001b[1m(\u001b[0m\u001b[1m)\u001b[0m takes \u001b]8;id=618990;file:///Users/saadia/Documents/DevIA_2024/ShiFuMi_computerVision/venv/lib/python3.9/site-packages/inference/core/interfaces/stream/inference_pipeline.py\u001b\\\u001b[2minference_pipeline.py\u001b[0m\u001b]8;;\u001b\\\u001b[2m:\u001b[0m\u001b]8;id=73900;file:///Users/saadia/Documents/DevIA_2024/ShiFuMi_computerVision/venv/lib/python3.9/site-packages/inference/core/interfaces/stream/inference_pipeline.py#907\u001b\\\u001b[2m907\u001b[0m\u001b]8;;\u001b\\\n",
       "\u001b[2;36m                    \u001b[0m         \u001b[1;36m1\u001b[0m positional argument but \u001b[1;36m2\u001b[0m were given                       \u001b[2m                         \u001b[0m\n"
      ]
     },
     "metadata": {},
     "output_type": "display_data"
    },
    {
     "name": "stdout",
     "output_type": "stream",
     "text": [
      "0: 640x640 1 Rock, 154.6ms\n",
      "Speed: 2.7ms preprocess, 154.6ms inference, 0.4ms postprocess per image at shape (1, 3, 640, 640)\n",
      "Video frames: 1\n",
      "\n"
     ]
    },
    {
     "data": {
      "text/html": [
       "<pre style=\"white-space:pre;overflow-x:auto;line-height:normal;font-family:Menlo,'DejaVu Sans Mono',consolas,'Courier New',monospace\"><span style=\"color: #7fbfbf; text-decoration-color: #7fbfbf\">                    </span><span style=\"color: #800000; text-decoration-color: #800000\">WARNING </span> Error in results dispatching - <span style=\"color: #800080; text-decoration-color: #800080; font-weight: bold\">render_boxes_on_frame</span><span style=\"font-weight: bold\">()</span> takes <a href=\"file:///Users/saadia/Documents/DevIA_2024/ShiFuMi_computerVision/venv/lib/python3.9/site-packages/inference/core/interfaces/stream/inference_pipeline.py\" target=\"_blank\"><span style=\"color: #7f7f7f; text-decoration-color: #7f7f7f\">inference_pipeline.py</span></a><span style=\"color: #7f7f7f; text-decoration-color: #7f7f7f\">:</span><a href=\"file:///Users/saadia/Documents/DevIA_2024/ShiFuMi_computerVision/venv/lib/python3.9/site-packages/inference/core/interfaces/stream/inference_pipeline.py#907\" target=\"_blank\"><span style=\"color: #7f7f7f; text-decoration-color: #7f7f7f\">907</span></a>\n",
       "<span style=\"color: #7fbfbf; text-decoration-color: #7fbfbf\">                    </span>         <span style=\"color: #008080; text-decoration-color: #008080; font-weight: bold\">1</span> positional argument but <span style=\"color: #008080; text-decoration-color: #008080; font-weight: bold\">2</span> were given                       <span style=\"color: #7f7f7f; text-decoration-color: #7f7f7f\">                         </span>\n",
       "</pre>\n"
      ],
      "text/plain": [
       "\u001b[2;36m                   \u001b[0m\u001b[2;36m \u001b[0m\u001b[31mWARNING \u001b[0m Error in results dispatching - \u001b[1;35mrender_boxes_on_frame\u001b[0m\u001b[1m(\u001b[0m\u001b[1m)\u001b[0m takes \u001b]8;id=548244;file:///Users/saadia/Documents/DevIA_2024/ShiFuMi_computerVision/venv/lib/python3.9/site-packages/inference/core/interfaces/stream/inference_pipeline.py\u001b\\\u001b[2minference_pipeline.py\u001b[0m\u001b]8;;\u001b\\\u001b[2m:\u001b[0m\u001b]8;id=178961;file:///Users/saadia/Documents/DevIA_2024/ShiFuMi_computerVision/venv/lib/python3.9/site-packages/inference/core/interfaces/stream/inference_pipeline.py#907\u001b\\\u001b[2m907\u001b[0m\u001b]8;;\u001b\\\n",
       "\u001b[2;36m                    \u001b[0m         \u001b[1;36m1\u001b[0m positional argument but \u001b[1;36m2\u001b[0m were given                       \u001b[2m                         \u001b[0m\n"
      ]
     },
     "metadata": {},
     "output_type": "display_data"
    },
    {
     "name": "stdout",
     "output_type": "stream",
     "text": [
      "0: 640x640 1 Scissors, 154.6ms\n",
      "Speed: 2.4ms preprocess, 154.6ms inference, 0.6ms postprocess per image at shape (1, 3, 640, 640)\n",
      "Video frames: 1\n",
      "\n"
     ]
    },
    {
     "data": {
      "text/html": [
       "<pre style=\"white-space:pre;overflow-x:auto;line-height:normal;font-family:Menlo,'DejaVu Sans Mono',consolas,'Courier New',monospace\"><span style=\"color: #7fbfbf; text-decoration-color: #7fbfbf\">                    </span><span style=\"color: #800000; text-decoration-color: #800000\">WARNING </span> Error in results dispatching - <span style=\"color: #800080; text-decoration-color: #800080; font-weight: bold\">render_boxes_on_frame</span><span style=\"font-weight: bold\">()</span> takes <a href=\"file:///Users/saadia/Documents/DevIA_2024/ShiFuMi_computerVision/venv/lib/python3.9/site-packages/inference/core/interfaces/stream/inference_pipeline.py\" target=\"_blank\"><span style=\"color: #7f7f7f; text-decoration-color: #7f7f7f\">inference_pipeline.py</span></a><span style=\"color: #7f7f7f; text-decoration-color: #7f7f7f\">:</span><a href=\"file:///Users/saadia/Documents/DevIA_2024/ShiFuMi_computerVision/venv/lib/python3.9/site-packages/inference/core/interfaces/stream/inference_pipeline.py#907\" target=\"_blank\"><span style=\"color: #7f7f7f; text-decoration-color: #7f7f7f\">907</span></a>\n",
       "<span style=\"color: #7fbfbf; text-decoration-color: #7fbfbf\">                    </span>         <span style=\"color: #008080; text-decoration-color: #008080; font-weight: bold\">1</span> positional argument but <span style=\"color: #008080; text-decoration-color: #008080; font-weight: bold\">2</span> were given                       <span style=\"color: #7f7f7f; text-decoration-color: #7f7f7f\">                         </span>\n",
       "</pre>\n"
      ],
      "text/plain": [
       "\u001b[2;36m                   \u001b[0m\u001b[2;36m \u001b[0m\u001b[31mWARNING \u001b[0m Error in results dispatching - \u001b[1;35mrender_boxes_on_frame\u001b[0m\u001b[1m(\u001b[0m\u001b[1m)\u001b[0m takes \u001b]8;id=311884;file:///Users/saadia/Documents/DevIA_2024/ShiFuMi_computerVision/venv/lib/python3.9/site-packages/inference/core/interfaces/stream/inference_pipeline.py\u001b\\\u001b[2minference_pipeline.py\u001b[0m\u001b]8;;\u001b\\\u001b[2m:\u001b[0m\u001b]8;id=220981;file:///Users/saadia/Documents/DevIA_2024/ShiFuMi_computerVision/venv/lib/python3.9/site-packages/inference/core/interfaces/stream/inference_pipeline.py#907\u001b\\\u001b[2m907\u001b[0m\u001b]8;;\u001b\\\n",
       "\u001b[2;36m                    \u001b[0m         \u001b[1;36m1\u001b[0m positional argument but \u001b[1;36m2\u001b[0m were given                       \u001b[2m                         \u001b[0m\n"
      ]
     },
     "metadata": {},
     "output_type": "display_data"
    },
    {
     "name": "stdout",
     "output_type": "stream",
     "text": [
      "0: 640x640 1 Scissors, 154.3ms\n",
      "Speed: 2.3ms preprocess, 154.3ms inference, 0.4ms postprocess per image at shape (1, 3, 640, 640)\n",
      "Video frames: 1\n",
      "\n"
     ]
    },
    {
     "data": {
      "text/html": [
       "<pre style=\"white-space:pre;overflow-x:auto;line-height:normal;font-family:Menlo,'DejaVu Sans Mono',consolas,'Courier New',monospace\"><span style=\"color: #7fbfbf; text-decoration-color: #7fbfbf\">                    </span><span style=\"color: #800000; text-decoration-color: #800000\">WARNING </span> Error in results dispatching - <span style=\"color: #800080; text-decoration-color: #800080; font-weight: bold\">render_boxes_on_frame</span><span style=\"font-weight: bold\">()</span> takes <a href=\"file:///Users/saadia/Documents/DevIA_2024/ShiFuMi_computerVision/venv/lib/python3.9/site-packages/inference/core/interfaces/stream/inference_pipeline.py\" target=\"_blank\"><span style=\"color: #7f7f7f; text-decoration-color: #7f7f7f\">inference_pipeline.py</span></a><span style=\"color: #7f7f7f; text-decoration-color: #7f7f7f\">:</span><a href=\"file:///Users/saadia/Documents/DevIA_2024/ShiFuMi_computerVision/venv/lib/python3.9/site-packages/inference/core/interfaces/stream/inference_pipeline.py#907\" target=\"_blank\"><span style=\"color: #7f7f7f; text-decoration-color: #7f7f7f\">907</span></a>\n",
       "<span style=\"color: #7fbfbf; text-decoration-color: #7fbfbf\">                    </span>         <span style=\"color: #008080; text-decoration-color: #008080; font-weight: bold\">1</span> positional argument but <span style=\"color: #008080; text-decoration-color: #008080; font-weight: bold\">2</span> were given                       <span style=\"color: #7f7f7f; text-decoration-color: #7f7f7f\">                         </span>\n",
       "</pre>\n"
      ],
      "text/plain": [
       "\u001b[2;36m                   \u001b[0m\u001b[2;36m \u001b[0m\u001b[31mWARNING \u001b[0m Error in results dispatching - \u001b[1;35mrender_boxes_on_frame\u001b[0m\u001b[1m(\u001b[0m\u001b[1m)\u001b[0m takes \u001b]8;id=696754;file:///Users/saadia/Documents/DevIA_2024/ShiFuMi_computerVision/venv/lib/python3.9/site-packages/inference/core/interfaces/stream/inference_pipeline.py\u001b\\\u001b[2minference_pipeline.py\u001b[0m\u001b]8;;\u001b\\\u001b[2m:\u001b[0m\u001b]8;id=822105;file:///Users/saadia/Documents/DevIA_2024/ShiFuMi_computerVision/venv/lib/python3.9/site-packages/inference/core/interfaces/stream/inference_pipeline.py#907\u001b\\\u001b[2m907\u001b[0m\u001b]8;;\u001b\\\n",
       "\u001b[2;36m                    \u001b[0m         \u001b[1;36m1\u001b[0m positional argument but \u001b[1;36m2\u001b[0m were given                       \u001b[2m                         \u001b[0m\n"
      ]
     },
     "metadata": {},
     "output_type": "display_data"
    },
    {
     "name": "stdout",
     "output_type": "stream",
     "text": [
      "0: 640x640 1 Scissors, 158.5ms\n",
      "Speed: 2.7ms preprocess, 158.5ms inference, 0.6ms postprocess per image at shape (1, 3, 640, 640)\n",
      "Video frames: 1\n",
      "\n"
     ]
    },
    {
     "data": {
      "text/html": [
       "<pre style=\"white-space:pre;overflow-x:auto;line-height:normal;font-family:Menlo,'DejaVu Sans Mono',consolas,'Courier New',monospace\"><span style=\"color: #7fbfbf; text-decoration-color: #7fbfbf\">                    </span><span style=\"color: #800000; text-decoration-color: #800000\">WARNING </span> Error in results dispatching - <span style=\"color: #800080; text-decoration-color: #800080; font-weight: bold\">render_boxes_on_frame</span><span style=\"font-weight: bold\">()</span> takes <a href=\"file:///Users/saadia/Documents/DevIA_2024/ShiFuMi_computerVision/venv/lib/python3.9/site-packages/inference/core/interfaces/stream/inference_pipeline.py\" target=\"_blank\"><span style=\"color: #7f7f7f; text-decoration-color: #7f7f7f\">inference_pipeline.py</span></a><span style=\"color: #7f7f7f; text-decoration-color: #7f7f7f\">:</span><a href=\"file:///Users/saadia/Documents/DevIA_2024/ShiFuMi_computerVision/venv/lib/python3.9/site-packages/inference/core/interfaces/stream/inference_pipeline.py#907\" target=\"_blank\"><span style=\"color: #7f7f7f; text-decoration-color: #7f7f7f\">907</span></a>\n",
       "<span style=\"color: #7fbfbf; text-decoration-color: #7fbfbf\">                    </span>         <span style=\"color: #008080; text-decoration-color: #008080; font-weight: bold\">1</span> positional argument but <span style=\"color: #008080; text-decoration-color: #008080; font-weight: bold\">2</span> were given                       <span style=\"color: #7f7f7f; text-decoration-color: #7f7f7f\">                         </span>\n",
       "</pre>\n"
      ],
      "text/plain": [
       "\u001b[2;36m                   \u001b[0m\u001b[2;36m \u001b[0m\u001b[31mWARNING \u001b[0m Error in results dispatching - \u001b[1;35mrender_boxes_on_frame\u001b[0m\u001b[1m(\u001b[0m\u001b[1m)\u001b[0m takes \u001b]8;id=455876;file:///Users/saadia/Documents/DevIA_2024/ShiFuMi_computerVision/venv/lib/python3.9/site-packages/inference/core/interfaces/stream/inference_pipeline.py\u001b\\\u001b[2minference_pipeline.py\u001b[0m\u001b]8;;\u001b\\\u001b[2m:\u001b[0m\u001b]8;id=238557;file:///Users/saadia/Documents/DevIA_2024/ShiFuMi_computerVision/venv/lib/python3.9/site-packages/inference/core/interfaces/stream/inference_pipeline.py#907\u001b\\\u001b[2m907\u001b[0m\u001b]8;;\u001b\\\n",
       "\u001b[2;36m                    \u001b[0m         \u001b[1;36m1\u001b[0m positional argument but \u001b[1;36m2\u001b[0m were given                       \u001b[2m                         \u001b[0m\n"
      ]
     },
     "metadata": {},
     "output_type": "display_data"
    },
    {
     "name": "stdout",
     "output_type": "stream",
     "text": [
      "0: 640x640 1 Rock, 158.9ms\n",
      "Speed: 3.0ms preprocess, 158.9ms inference, 0.4ms postprocess per image at shape (1, 3, 640, 640)\n",
      "Video frames: 1\n",
      "\n"
     ]
    },
    {
     "data": {
      "text/html": [
       "<pre style=\"white-space:pre;overflow-x:auto;line-height:normal;font-family:Menlo,'DejaVu Sans Mono',consolas,'Courier New',monospace\"><span style=\"color: #7fbfbf; text-decoration-color: #7fbfbf\">                    </span><span style=\"color: #800000; text-decoration-color: #800000\">WARNING </span> Error in results dispatching - <span style=\"color: #800080; text-decoration-color: #800080; font-weight: bold\">render_boxes_on_frame</span><span style=\"font-weight: bold\">()</span> takes <a href=\"file:///Users/saadia/Documents/DevIA_2024/ShiFuMi_computerVision/venv/lib/python3.9/site-packages/inference/core/interfaces/stream/inference_pipeline.py\" target=\"_blank\"><span style=\"color: #7f7f7f; text-decoration-color: #7f7f7f\">inference_pipeline.py</span></a><span style=\"color: #7f7f7f; text-decoration-color: #7f7f7f\">:</span><a href=\"file:///Users/saadia/Documents/DevIA_2024/ShiFuMi_computerVision/venv/lib/python3.9/site-packages/inference/core/interfaces/stream/inference_pipeline.py#907\" target=\"_blank\"><span style=\"color: #7f7f7f; text-decoration-color: #7f7f7f\">907</span></a>\n",
       "<span style=\"color: #7fbfbf; text-decoration-color: #7fbfbf\">                    </span>         <span style=\"color: #008080; text-decoration-color: #008080; font-weight: bold\">1</span> positional argument but <span style=\"color: #008080; text-decoration-color: #008080; font-weight: bold\">2</span> were given                       <span style=\"color: #7f7f7f; text-decoration-color: #7f7f7f\">                         </span>\n",
       "</pre>\n"
      ],
      "text/plain": [
       "\u001b[2;36m                   \u001b[0m\u001b[2;36m \u001b[0m\u001b[31mWARNING \u001b[0m Error in results dispatching - \u001b[1;35mrender_boxes_on_frame\u001b[0m\u001b[1m(\u001b[0m\u001b[1m)\u001b[0m takes \u001b]8;id=581101;file:///Users/saadia/Documents/DevIA_2024/ShiFuMi_computerVision/venv/lib/python3.9/site-packages/inference/core/interfaces/stream/inference_pipeline.py\u001b\\\u001b[2minference_pipeline.py\u001b[0m\u001b]8;;\u001b\\\u001b[2m:\u001b[0m\u001b]8;id=12045;file:///Users/saadia/Documents/DevIA_2024/ShiFuMi_computerVision/venv/lib/python3.9/site-packages/inference/core/interfaces/stream/inference_pipeline.py#907\u001b\\\u001b[2m907\u001b[0m\u001b]8;;\u001b\\\n",
       "\u001b[2;36m                    \u001b[0m         \u001b[1;36m1\u001b[0m positional argument but \u001b[1;36m2\u001b[0m were given                       \u001b[2m                         \u001b[0m\n"
      ]
     },
     "metadata": {},
     "output_type": "display_data"
    },
    {
     "name": "stdout",
     "output_type": "stream",
     "text": [
      "0: 640x640 1 Rock, 184.7ms\n",
      "Speed: 2.4ms preprocess, 184.7ms inference, 0.6ms postprocess per image at shape (1, 3, 640, 640)\n",
      "Video frames: 1\n",
      "\n"
     ]
    },
    {
     "data": {
      "text/html": [
       "<pre style=\"white-space:pre;overflow-x:auto;line-height:normal;font-family:Menlo,'DejaVu Sans Mono',consolas,'Courier New',monospace\"><span style=\"color: #7fbfbf; text-decoration-color: #7fbfbf\">[07/01/24 12:07:55] </span><span style=\"color: #800000; text-decoration-color: #800000\">WARNING </span> Error in results dispatching - <span style=\"color: #800080; text-decoration-color: #800080; font-weight: bold\">render_boxes_on_frame</span><span style=\"font-weight: bold\">()</span> takes <a href=\"file:///Users/saadia/Documents/DevIA_2024/ShiFuMi_computerVision/venv/lib/python3.9/site-packages/inference/core/interfaces/stream/inference_pipeline.py\" target=\"_blank\"><span style=\"color: #7f7f7f; text-decoration-color: #7f7f7f\">inference_pipeline.py</span></a><span style=\"color: #7f7f7f; text-decoration-color: #7f7f7f\">:</span><a href=\"file:///Users/saadia/Documents/DevIA_2024/ShiFuMi_computerVision/venv/lib/python3.9/site-packages/inference/core/interfaces/stream/inference_pipeline.py#907\" target=\"_blank\"><span style=\"color: #7f7f7f; text-decoration-color: #7f7f7f\">907</span></a>\n",
       "<span style=\"color: #7fbfbf; text-decoration-color: #7fbfbf\">                    </span>         <span style=\"color: #008080; text-decoration-color: #008080; font-weight: bold\">1</span> positional argument but <span style=\"color: #008080; text-decoration-color: #008080; font-weight: bold\">2</span> were given                       <span style=\"color: #7f7f7f; text-decoration-color: #7f7f7f\">                         </span>\n",
       "</pre>\n"
      ],
      "text/plain": [
       "\u001b[2;36m[07/01/24 12:07:55]\u001b[0m\u001b[2;36m \u001b[0m\u001b[31mWARNING \u001b[0m Error in results dispatching - \u001b[1;35mrender_boxes_on_frame\u001b[0m\u001b[1m(\u001b[0m\u001b[1m)\u001b[0m takes \u001b]8;id=810555;file:///Users/saadia/Documents/DevIA_2024/ShiFuMi_computerVision/venv/lib/python3.9/site-packages/inference/core/interfaces/stream/inference_pipeline.py\u001b\\\u001b[2minference_pipeline.py\u001b[0m\u001b]8;;\u001b\\\u001b[2m:\u001b[0m\u001b]8;id=985268;file:///Users/saadia/Documents/DevIA_2024/ShiFuMi_computerVision/venv/lib/python3.9/site-packages/inference/core/interfaces/stream/inference_pipeline.py#907\u001b\\\u001b[2m907\u001b[0m\u001b]8;;\u001b\\\n",
       "\u001b[2;36m                    \u001b[0m         \u001b[1;36m1\u001b[0m positional argument but \u001b[1;36m2\u001b[0m were given                       \u001b[2m                         \u001b[0m\n"
      ]
     },
     "metadata": {},
     "output_type": "display_data"
    },
    {
     "name": "stdout",
     "output_type": "stream",
     "text": [
      "0: 640x640 1 Rock, 157.9ms\n",
      "Speed: 2.3ms preprocess, 157.9ms inference, 0.6ms postprocess per image at shape (1, 3, 640, 640)\n",
      "Video frames: 1\n",
      "\n"
     ]
    },
    {
     "data": {
      "text/html": [
       "<pre style=\"white-space:pre;overflow-x:auto;line-height:normal;font-family:Menlo,'DejaVu Sans Mono',consolas,'Courier New',monospace\"><span style=\"color: #7fbfbf; text-decoration-color: #7fbfbf\">                    </span><span style=\"color: #800000; text-decoration-color: #800000\">WARNING </span> Error in results dispatching - <span style=\"color: #800080; text-decoration-color: #800080; font-weight: bold\">render_boxes_on_frame</span><span style=\"font-weight: bold\">()</span> takes <a href=\"file:///Users/saadia/Documents/DevIA_2024/ShiFuMi_computerVision/venv/lib/python3.9/site-packages/inference/core/interfaces/stream/inference_pipeline.py\" target=\"_blank\"><span style=\"color: #7f7f7f; text-decoration-color: #7f7f7f\">inference_pipeline.py</span></a><span style=\"color: #7f7f7f; text-decoration-color: #7f7f7f\">:</span><a href=\"file:///Users/saadia/Documents/DevIA_2024/ShiFuMi_computerVision/venv/lib/python3.9/site-packages/inference/core/interfaces/stream/inference_pipeline.py#907\" target=\"_blank\"><span style=\"color: #7f7f7f; text-decoration-color: #7f7f7f\">907</span></a>\n",
       "<span style=\"color: #7fbfbf; text-decoration-color: #7fbfbf\">                    </span>         <span style=\"color: #008080; text-decoration-color: #008080; font-weight: bold\">1</span> positional argument but <span style=\"color: #008080; text-decoration-color: #008080; font-weight: bold\">2</span> were given                       <span style=\"color: #7f7f7f; text-decoration-color: #7f7f7f\">                         </span>\n",
       "</pre>\n"
      ],
      "text/plain": [
       "\u001b[2;36m                   \u001b[0m\u001b[2;36m \u001b[0m\u001b[31mWARNING \u001b[0m Error in results dispatching - \u001b[1;35mrender_boxes_on_frame\u001b[0m\u001b[1m(\u001b[0m\u001b[1m)\u001b[0m takes \u001b]8;id=695695;file:///Users/saadia/Documents/DevIA_2024/ShiFuMi_computerVision/venv/lib/python3.9/site-packages/inference/core/interfaces/stream/inference_pipeline.py\u001b\\\u001b[2minference_pipeline.py\u001b[0m\u001b]8;;\u001b\\\u001b[2m:\u001b[0m\u001b]8;id=14804;file:///Users/saadia/Documents/DevIA_2024/ShiFuMi_computerVision/venv/lib/python3.9/site-packages/inference/core/interfaces/stream/inference_pipeline.py#907\u001b\\\u001b[2m907\u001b[0m\u001b]8;;\u001b\\\n",
       "\u001b[2;36m                    \u001b[0m         \u001b[1;36m1\u001b[0m positional argument but \u001b[1;36m2\u001b[0m were given                       \u001b[2m                         \u001b[0m\n"
      ]
     },
     "metadata": {},
     "output_type": "display_data"
    },
    {
     "name": "stdout",
     "output_type": "stream",
     "text": [
      "0: 640x640 1 Rock, 170.4ms\n",
      "Speed: 2.4ms preprocess, 170.4ms inference, 0.4ms postprocess per image at shape (1, 3, 640, 640)\n",
      "Video frames: 1\n",
      "\n"
     ]
    },
    {
     "data": {
      "text/html": [
       "<pre style=\"white-space:pre;overflow-x:auto;line-height:normal;font-family:Menlo,'DejaVu Sans Mono',consolas,'Courier New',monospace\"><span style=\"color: #7fbfbf; text-decoration-color: #7fbfbf\">                    </span><span style=\"color: #800000; text-decoration-color: #800000\">WARNING </span> Error in results dispatching - <span style=\"color: #800080; text-decoration-color: #800080; font-weight: bold\">render_boxes_on_frame</span><span style=\"font-weight: bold\">()</span> takes <a href=\"file:///Users/saadia/Documents/DevIA_2024/ShiFuMi_computerVision/venv/lib/python3.9/site-packages/inference/core/interfaces/stream/inference_pipeline.py\" target=\"_blank\"><span style=\"color: #7f7f7f; text-decoration-color: #7f7f7f\">inference_pipeline.py</span></a><span style=\"color: #7f7f7f; text-decoration-color: #7f7f7f\">:</span><a href=\"file:///Users/saadia/Documents/DevIA_2024/ShiFuMi_computerVision/venv/lib/python3.9/site-packages/inference/core/interfaces/stream/inference_pipeline.py#907\" target=\"_blank\"><span style=\"color: #7f7f7f; text-decoration-color: #7f7f7f\">907</span></a>\n",
       "<span style=\"color: #7fbfbf; text-decoration-color: #7fbfbf\">                    </span>         <span style=\"color: #008080; text-decoration-color: #008080; font-weight: bold\">1</span> positional argument but <span style=\"color: #008080; text-decoration-color: #008080; font-weight: bold\">2</span> were given                       <span style=\"color: #7f7f7f; text-decoration-color: #7f7f7f\">                         </span>\n",
       "</pre>\n"
      ],
      "text/plain": [
       "\u001b[2;36m                   \u001b[0m\u001b[2;36m \u001b[0m\u001b[31mWARNING \u001b[0m Error in results dispatching - \u001b[1;35mrender_boxes_on_frame\u001b[0m\u001b[1m(\u001b[0m\u001b[1m)\u001b[0m takes \u001b]8;id=610953;file:///Users/saadia/Documents/DevIA_2024/ShiFuMi_computerVision/venv/lib/python3.9/site-packages/inference/core/interfaces/stream/inference_pipeline.py\u001b\\\u001b[2minference_pipeline.py\u001b[0m\u001b]8;;\u001b\\\u001b[2m:\u001b[0m\u001b]8;id=857878;file:///Users/saadia/Documents/DevIA_2024/ShiFuMi_computerVision/venv/lib/python3.9/site-packages/inference/core/interfaces/stream/inference_pipeline.py#907\u001b\\\u001b[2m907\u001b[0m\u001b]8;;\u001b\\\n",
       "\u001b[2;36m                    \u001b[0m         \u001b[1;36m1\u001b[0m positional argument but \u001b[1;36m2\u001b[0m were given                       \u001b[2m                         \u001b[0m\n"
      ]
     },
     "metadata": {},
     "output_type": "display_data"
    },
    {
     "name": "stdout",
     "output_type": "stream",
     "text": [
      "0: 640x640 1 Rock, 169.1ms\n",
      "Speed: 2.2ms preprocess, 169.1ms inference, 0.6ms postprocess per image at shape (1, 3, 640, 640)\n",
      "Video frames: 1\n",
      "\n"
     ]
    },
    {
     "data": {
      "text/html": [
       "<pre style=\"white-space:pre;overflow-x:auto;line-height:normal;font-family:Menlo,'DejaVu Sans Mono',consolas,'Courier New',monospace\"><span style=\"color: #7fbfbf; text-decoration-color: #7fbfbf\">                    </span><span style=\"color: #800000; text-decoration-color: #800000\">WARNING </span> Error in results dispatching - <span style=\"color: #800080; text-decoration-color: #800080; font-weight: bold\">render_boxes_on_frame</span><span style=\"font-weight: bold\">()</span> takes <a href=\"file:///Users/saadia/Documents/DevIA_2024/ShiFuMi_computerVision/venv/lib/python3.9/site-packages/inference/core/interfaces/stream/inference_pipeline.py\" target=\"_blank\"><span style=\"color: #7f7f7f; text-decoration-color: #7f7f7f\">inference_pipeline.py</span></a><span style=\"color: #7f7f7f; text-decoration-color: #7f7f7f\">:</span><a href=\"file:///Users/saadia/Documents/DevIA_2024/ShiFuMi_computerVision/venv/lib/python3.9/site-packages/inference/core/interfaces/stream/inference_pipeline.py#907\" target=\"_blank\"><span style=\"color: #7f7f7f; text-decoration-color: #7f7f7f\">907</span></a>\n",
       "<span style=\"color: #7fbfbf; text-decoration-color: #7fbfbf\">                    </span>         <span style=\"color: #008080; text-decoration-color: #008080; font-weight: bold\">1</span> positional argument but <span style=\"color: #008080; text-decoration-color: #008080; font-weight: bold\">2</span> were given                       <span style=\"color: #7f7f7f; text-decoration-color: #7f7f7f\">                         </span>\n",
       "</pre>\n"
      ],
      "text/plain": [
       "\u001b[2;36m                   \u001b[0m\u001b[2;36m \u001b[0m\u001b[31mWARNING \u001b[0m Error in results dispatching - \u001b[1;35mrender_boxes_on_frame\u001b[0m\u001b[1m(\u001b[0m\u001b[1m)\u001b[0m takes \u001b]8;id=880751;file:///Users/saadia/Documents/DevIA_2024/ShiFuMi_computerVision/venv/lib/python3.9/site-packages/inference/core/interfaces/stream/inference_pipeline.py\u001b\\\u001b[2minference_pipeline.py\u001b[0m\u001b]8;;\u001b\\\u001b[2m:\u001b[0m\u001b]8;id=420816;file:///Users/saadia/Documents/DevIA_2024/ShiFuMi_computerVision/venv/lib/python3.9/site-packages/inference/core/interfaces/stream/inference_pipeline.py#907\u001b\\\u001b[2m907\u001b[0m\u001b]8;;\u001b\\\n",
       "\u001b[2;36m                    \u001b[0m         \u001b[1;36m1\u001b[0m positional argument but \u001b[1;36m2\u001b[0m were given                       \u001b[2m                         \u001b[0m\n"
      ]
     },
     "metadata": {},
     "output_type": "display_data"
    },
    {
     "name": "stdout",
     "output_type": "stream",
     "text": [
      "0: 640x640 1 Rock, 190.7ms\n",
      "Speed: 3.7ms preprocess, 190.7ms inference, 0.9ms postprocess per image at shape (1, 3, 640, 640)\n",
      "Video frames: 1\n",
      "\n"
     ]
    },
    {
     "data": {
      "text/html": [
       "<pre style=\"white-space:pre;overflow-x:auto;line-height:normal;font-family:Menlo,'DejaVu Sans Mono',consolas,'Courier New',monospace\"><span style=\"color: #7fbfbf; text-decoration-color: #7fbfbf\">                    </span><span style=\"color: #800000; text-decoration-color: #800000\">WARNING </span> Error in results dispatching - <span style=\"color: #800080; text-decoration-color: #800080; font-weight: bold\">render_boxes_on_frame</span><span style=\"font-weight: bold\">()</span> takes <a href=\"file:///Users/saadia/Documents/DevIA_2024/ShiFuMi_computerVision/venv/lib/python3.9/site-packages/inference/core/interfaces/stream/inference_pipeline.py\" target=\"_blank\"><span style=\"color: #7f7f7f; text-decoration-color: #7f7f7f\">inference_pipeline.py</span></a><span style=\"color: #7f7f7f; text-decoration-color: #7f7f7f\">:</span><a href=\"file:///Users/saadia/Documents/DevIA_2024/ShiFuMi_computerVision/venv/lib/python3.9/site-packages/inference/core/interfaces/stream/inference_pipeline.py#907\" target=\"_blank\"><span style=\"color: #7f7f7f; text-decoration-color: #7f7f7f\">907</span></a>\n",
       "<span style=\"color: #7fbfbf; text-decoration-color: #7fbfbf\">                    </span>         <span style=\"color: #008080; text-decoration-color: #008080; font-weight: bold\">1</span> positional argument but <span style=\"color: #008080; text-decoration-color: #008080; font-weight: bold\">2</span> were given                       <span style=\"color: #7f7f7f; text-decoration-color: #7f7f7f\">                         </span>\n",
       "</pre>\n"
      ],
      "text/plain": [
       "\u001b[2;36m                   \u001b[0m\u001b[2;36m \u001b[0m\u001b[31mWARNING \u001b[0m Error in results dispatching - \u001b[1;35mrender_boxes_on_frame\u001b[0m\u001b[1m(\u001b[0m\u001b[1m)\u001b[0m takes \u001b]8;id=371795;file:///Users/saadia/Documents/DevIA_2024/ShiFuMi_computerVision/venv/lib/python3.9/site-packages/inference/core/interfaces/stream/inference_pipeline.py\u001b\\\u001b[2minference_pipeline.py\u001b[0m\u001b]8;;\u001b\\\u001b[2m:\u001b[0m\u001b]8;id=230232;file:///Users/saadia/Documents/DevIA_2024/ShiFuMi_computerVision/venv/lib/python3.9/site-packages/inference/core/interfaces/stream/inference_pipeline.py#907\u001b\\\u001b[2m907\u001b[0m\u001b]8;;\u001b\\\n",
       "\u001b[2;36m                    \u001b[0m         \u001b[1;36m1\u001b[0m positional argument but \u001b[1;36m2\u001b[0m were given                       \u001b[2m                         \u001b[0m\n"
      ]
     },
     "metadata": {},
     "output_type": "display_data"
    },
    {
     "name": "stdout",
     "output_type": "stream",
     "text": [
      "0: 640x640 1 Rock, 169.3ms\n",
      "Speed: 2.4ms preprocess, 169.3ms inference, 0.5ms postprocess per image at shape (1, 3, 640, 640)\n",
      "Video frames: 1\n",
      "\n"
     ]
    },
    {
     "data": {
      "text/html": [
       "<pre style=\"white-space:pre;overflow-x:auto;line-height:normal;font-family:Menlo,'DejaVu Sans Mono',consolas,'Courier New',monospace\"><span style=\"color: #7fbfbf; text-decoration-color: #7fbfbf\">                    </span><span style=\"color: #800000; text-decoration-color: #800000\">WARNING </span> Error in results dispatching - <span style=\"color: #800080; text-decoration-color: #800080; font-weight: bold\">render_boxes_on_frame</span><span style=\"font-weight: bold\">()</span> takes <a href=\"file:///Users/saadia/Documents/DevIA_2024/ShiFuMi_computerVision/venv/lib/python3.9/site-packages/inference/core/interfaces/stream/inference_pipeline.py\" target=\"_blank\"><span style=\"color: #7f7f7f; text-decoration-color: #7f7f7f\">inference_pipeline.py</span></a><span style=\"color: #7f7f7f; text-decoration-color: #7f7f7f\">:</span><a href=\"file:///Users/saadia/Documents/DevIA_2024/ShiFuMi_computerVision/venv/lib/python3.9/site-packages/inference/core/interfaces/stream/inference_pipeline.py#907\" target=\"_blank\"><span style=\"color: #7f7f7f; text-decoration-color: #7f7f7f\">907</span></a>\n",
       "<span style=\"color: #7fbfbf; text-decoration-color: #7fbfbf\">                    </span>         <span style=\"color: #008080; text-decoration-color: #008080; font-weight: bold\">1</span> positional argument but <span style=\"color: #008080; text-decoration-color: #008080; font-weight: bold\">2</span> were given                       <span style=\"color: #7f7f7f; text-decoration-color: #7f7f7f\">                         </span>\n",
       "</pre>\n"
      ],
      "text/plain": [
       "\u001b[2;36m                   \u001b[0m\u001b[2;36m \u001b[0m\u001b[31mWARNING \u001b[0m Error in results dispatching - \u001b[1;35mrender_boxes_on_frame\u001b[0m\u001b[1m(\u001b[0m\u001b[1m)\u001b[0m takes \u001b]8;id=409406;file:///Users/saadia/Documents/DevIA_2024/ShiFuMi_computerVision/venv/lib/python3.9/site-packages/inference/core/interfaces/stream/inference_pipeline.py\u001b\\\u001b[2minference_pipeline.py\u001b[0m\u001b]8;;\u001b\\\u001b[2m:\u001b[0m\u001b]8;id=48067;file:///Users/saadia/Documents/DevIA_2024/ShiFuMi_computerVision/venv/lib/python3.9/site-packages/inference/core/interfaces/stream/inference_pipeline.py#907\u001b\\\u001b[2m907\u001b[0m\u001b]8;;\u001b\\\n",
       "\u001b[2;36m                    \u001b[0m         \u001b[1;36m1\u001b[0m positional argument but \u001b[1;36m2\u001b[0m were given                       \u001b[2m                         \u001b[0m\n"
      ]
     },
     "metadata": {},
     "output_type": "display_data"
    },
    {
     "name": "stdout",
     "output_type": "stream",
     "text": [
      "0: 640x640 1 Scissors, 203.4ms\n",
      "Speed: 3.6ms preprocess, 203.4ms inference, 0.4ms postprocess per image at shape (1, 3, 640, 640)\n",
      "Video frames: 1\n",
      "\n"
     ]
    },
    {
     "data": {
      "text/html": [
       "<pre style=\"white-space:pre;overflow-x:auto;line-height:normal;font-family:Menlo,'DejaVu Sans Mono',consolas,'Courier New',monospace\"><span style=\"color: #7fbfbf; text-decoration-color: #7fbfbf\">[07/01/24 12:07:56] </span><span style=\"color: #800000; text-decoration-color: #800000\">WARNING </span> Error in results dispatching - <span style=\"color: #800080; text-decoration-color: #800080; font-weight: bold\">render_boxes_on_frame</span><span style=\"font-weight: bold\">()</span> takes <a href=\"file:///Users/saadia/Documents/DevIA_2024/ShiFuMi_computerVision/venv/lib/python3.9/site-packages/inference/core/interfaces/stream/inference_pipeline.py\" target=\"_blank\"><span style=\"color: #7f7f7f; text-decoration-color: #7f7f7f\">inference_pipeline.py</span></a><span style=\"color: #7f7f7f; text-decoration-color: #7f7f7f\">:</span><a href=\"file:///Users/saadia/Documents/DevIA_2024/ShiFuMi_computerVision/venv/lib/python3.9/site-packages/inference/core/interfaces/stream/inference_pipeline.py#907\" target=\"_blank\"><span style=\"color: #7f7f7f; text-decoration-color: #7f7f7f\">907</span></a>\n",
       "<span style=\"color: #7fbfbf; text-decoration-color: #7fbfbf\">                    </span>         <span style=\"color: #008080; text-decoration-color: #008080; font-weight: bold\">1</span> positional argument but <span style=\"color: #008080; text-decoration-color: #008080; font-weight: bold\">2</span> were given                       <span style=\"color: #7f7f7f; text-decoration-color: #7f7f7f\">                         </span>\n",
       "</pre>\n"
      ],
      "text/plain": [
       "\u001b[2;36m[07/01/24 12:07:56]\u001b[0m\u001b[2;36m \u001b[0m\u001b[31mWARNING \u001b[0m Error in results dispatching - \u001b[1;35mrender_boxes_on_frame\u001b[0m\u001b[1m(\u001b[0m\u001b[1m)\u001b[0m takes \u001b]8;id=973337;file:///Users/saadia/Documents/DevIA_2024/ShiFuMi_computerVision/venv/lib/python3.9/site-packages/inference/core/interfaces/stream/inference_pipeline.py\u001b\\\u001b[2minference_pipeline.py\u001b[0m\u001b]8;;\u001b\\\u001b[2m:\u001b[0m\u001b]8;id=586892;file:///Users/saadia/Documents/DevIA_2024/ShiFuMi_computerVision/venv/lib/python3.9/site-packages/inference/core/interfaces/stream/inference_pipeline.py#907\u001b\\\u001b[2m907\u001b[0m\u001b]8;;\u001b\\\n",
       "\u001b[2;36m                    \u001b[0m         \u001b[1;36m1\u001b[0m positional argument but \u001b[1;36m2\u001b[0m were given                       \u001b[2m                         \u001b[0m\n"
      ]
     },
     "metadata": {},
     "output_type": "display_data"
    },
    {
     "name": "stdout",
     "output_type": "stream",
     "text": [
      "0: 640x640 1 Paper, 1 Scissors, 168.2ms\n",
      "Speed: 2.2ms preprocess, 168.2ms inference, 0.5ms postprocess per image at shape (1, 3, 640, 640)\n",
      "Video frames: 1\n",
      "\n"
     ]
    },
    {
     "data": {
      "text/html": [
       "<pre style=\"white-space:pre;overflow-x:auto;line-height:normal;font-family:Menlo,'DejaVu Sans Mono',consolas,'Courier New',monospace\"><span style=\"color: #7fbfbf; text-decoration-color: #7fbfbf\">                    </span><span style=\"color: #800000; text-decoration-color: #800000\">WARNING </span> Error in results dispatching - <span style=\"color: #800080; text-decoration-color: #800080; font-weight: bold\">render_boxes_on_frame</span><span style=\"font-weight: bold\">()</span> takes <a href=\"file:///Users/saadia/Documents/DevIA_2024/ShiFuMi_computerVision/venv/lib/python3.9/site-packages/inference/core/interfaces/stream/inference_pipeline.py\" target=\"_blank\"><span style=\"color: #7f7f7f; text-decoration-color: #7f7f7f\">inference_pipeline.py</span></a><span style=\"color: #7f7f7f; text-decoration-color: #7f7f7f\">:</span><a href=\"file:///Users/saadia/Documents/DevIA_2024/ShiFuMi_computerVision/venv/lib/python3.9/site-packages/inference/core/interfaces/stream/inference_pipeline.py#907\" target=\"_blank\"><span style=\"color: #7f7f7f; text-decoration-color: #7f7f7f\">907</span></a>\n",
       "<span style=\"color: #7fbfbf; text-decoration-color: #7fbfbf\">                    </span>         <span style=\"color: #008080; text-decoration-color: #008080; font-weight: bold\">1</span> positional argument but <span style=\"color: #008080; text-decoration-color: #008080; font-weight: bold\">2</span> were given                       <span style=\"color: #7f7f7f; text-decoration-color: #7f7f7f\">                         </span>\n",
       "</pre>\n"
      ],
      "text/plain": [
       "\u001b[2;36m                   \u001b[0m\u001b[2;36m \u001b[0m\u001b[31mWARNING \u001b[0m Error in results dispatching - \u001b[1;35mrender_boxes_on_frame\u001b[0m\u001b[1m(\u001b[0m\u001b[1m)\u001b[0m takes \u001b]8;id=900721;file:///Users/saadia/Documents/DevIA_2024/ShiFuMi_computerVision/venv/lib/python3.9/site-packages/inference/core/interfaces/stream/inference_pipeline.py\u001b\\\u001b[2minference_pipeline.py\u001b[0m\u001b]8;;\u001b\\\u001b[2m:\u001b[0m\u001b]8;id=474055;file:///Users/saadia/Documents/DevIA_2024/ShiFuMi_computerVision/venv/lib/python3.9/site-packages/inference/core/interfaces/stream/inference_pipeline.py#907\u001b\\\u001b[2m907\u001b[0m\u001b]8;;\u001b\\\n",
       "\u001b[2;36m                    \u001b[0m         \u001b[1;36m1\u001b[0m positional argument but \u001b[1;36m2\u001b[0m were given                       \u001b[2m                         \u001b[0m\n"
      ]
     },
     "metadata": {},
     "output_type": "display_data"
    },
    {
     "name": "stdout",
     "output_type": "stream",
     "text": [
      "0: 640x640 1 Paper, 1 Scissors, 177.0ms\n",
      "Speed: 2.1ms preprocess, 177.0ms inference, 0.5ms postprocess per image at shape (1, 3, 640, 640)\n",
      "Video frames: 1\n",
      "\n"
     ]
    },
    {
     "data": {
      "text/html": [
       "<pre style=\"white-space:pre;overflow-x:auto;line-height:normal;font-family:Menlo,'DejaVu Sans Mono',consolas,'Courier New',monospace\"><span style=\"color: #7fbfbf; text-decoration-color: #7fbfbf\">                    </span><span style=\"color: #800000; text-decoration-color: #800000\">WARNING </span> Error in results dispatching - <span style=\"color: #800080; text-decoration-color: #800080; font-weight: bold\">render_boxes_on_frame</span><span style=\"font-weight: bold\">()</span> takes <a href=\"file:///Users/saadia/Documents/DevIA_2024/ShiFuMi_computerVision/venv/lib/python3.9/site-packages/inference/core/interfaces/stream/inference_pipeline.py\" target=\"_blank\"><span style=\"color: #7f7f7f; text-decoration-color: #7f7f7f\">inference_pipeline.py</span></a><span style=\"color: #7f7f7f; text-decoration-color: #7f7f7f\">:</span><a href=\"file:///Users/saadia/Documents/DevIA_2024/ShiFuMi_computerVision/venv/lib/python3.9/site-packages/inference/core/interfaces/stream/inference_pipeline.py#907\" target=\"_blank\"><span style=\"color: #7f7f7f; text-decoration-color: #7f7f7f\">907</span></a>\n",
       "<span style=\"color: #7fbfbf; text-decoration-color: #7fbfbf\">                    </span>         <span style=\"color: #008080; text-decoration-color: #008080; font-weight: bold\">1</span> positional argument but <span style=\"color: #008080; text-decoration-color: #008080; font-weight: bold\">2</span> were given                       <span style=\"color: #7f7f7f; text-decoration-color: #7f7f7f\">                         </span>\n",
       "</pre>\n"
      ],
      "text/plain": [
       "\u001b[2;36m                   \u001b[0m\u001b[2;36m \u001b[0m\u001b[31mWARNING \u001b[0m Error in results dispatching - \u001b[1;35mrender_boxes_on_frame\u001b[0m\u001b[1m(\u001b[0m\u001b[1m)\u001b[0m takes \u001b]8;id=406289;file:///Users/saadia/Documents/DevIA_2024/ShiFuMi_computerVision/venv/lib/python3.9/site-packages/inference/core/interfaces/stream/inference_pipeline.py\u001b\\\u001b[2minference_pipeline.py\u001b[0m\u001b]8;;\u001b\\\u001b[2m:\u001b[0m\u001b]8;id=994512;file:///Users/saadia/Documents/DevIA_2024/ShiFuMi_computerVision/venv/lib/python3.9/site-packages/inference/core/interfaces/stream/inference_pipeline.py#907\u001b\\\u001b[2m907\u001b[0m\u001b]8;;\u001b\\\n",
       "\u001b[2;36m                    \u001b[0m         \u001b[1;36m1\u001b[0m positional argument but \u001b[1;36m2\u001b[0m were given                       \u001b[2m                         \u001b[0m\n"
      ]
     },
     "metadata": {},
     "output_type": "display_data"
    },
    {
     "name": "stdout",
     "output_type": "stream",
     "text": [
      "0: 640x640 1 Paper, 1 Scissors, 174.3ms\n",
      "Speed: 2.4ms preprocess, 174.3ms inference, 0.6ms postprocess per image at shape (1, 3, 640, 640)\n",
      "Video frames: 1\n",
      "\n"
     ]
    },
    {
     "data": {
      "text/html": [
       "<pre style=\"white-space:pre;overflow-x:auto;line-height:normal;font-family:Menlo,'DejaVu Sans Mono',consolas,'Courier New',monospace\"><span style=\"color: #7fbfbf; text-decoration-color: #7fbfbf\">                    </span><span style=\"color: #800000; text-decoration-color: #800000\">WARNING </span> Error in results dispatching - <span style=\"color: #800080; text-decoration-color: #800080; font-weight: bold\">render_boxes_on_frame</span><span style=\"font-weight: bold\">()</span> takes <a href=\"file:///Users/saadia/Documents/DevIA_2024/ShiFuMi_computerVision/venv/lib/python3.9/site-packages/inference/core/interfaces/stream/inference_pipeline.py\" target=\"_blank\"><span style=\"color: #7f7f7f; text-decoration-color: #7f7f7f\">inference_pipeline.py</span></a><span style=\"color: #7f7f7f; text-decoration-color: #7f7f7f\">:</span><a href=\"file:///Users/saadia/Documents/DevIA_2024/ShiFuMi_computerVision/venv/lib/python3.9/site-packages/inference/core/interfaces/stream/inference_pipeline.py#907\" target=\"_blank\"><span style=\"color: #7f7f7f; text-decoration-color: #7f7f7f\">907</span></a>\n",
       "<span style=\"color: #7fbfbf; text-decoration-color: #7fbfbf\">                    </span>         <span style=\"color: #008080; text-decoration-color: #008080; font-weight: bold\">1</span> positional argument but <span style=\"color: #008080; text-decoration-color: #008080; font-weight: bold\">2</span> were given                       <span style=\"color: #7f7f7f; text-decoration-color: #7f7f7f\">                         </span>\n",
       "</pre>\n"
      ],
      "text/plain": [
       "\u001b[2;36m                   \u001b[0m\u001b[2;36m \u001b[0m\u001b[31mWARNING \u001b[0m Error in results dispatching - \u001b[1;35mrender_boxes_on_frame\u001b[0m\u001b[1m(\u001b[0m\u001b[1m)\u001b[0m takes \u001b]8;id=274805;file:///Users/saadia/Documents/DevIA_2024/ShiFuMi_computerVision/venv/lib/python3.9/site-packages/inference/core/interfaces/stream/inference_pipeline.py\u001b\\\u001b[2minference_pipeline.py\u001b[0m\u001b]8;;\u001b\\\u001b[2m:\u001b[0m\u001b]8;id=327785;file:///Users/saadia/Documents/DevIA_2024/ShiFuMi_computerVision/venv/lib/python3.9/site-packages/inference/core/interfaces/stream/inference_pipeline.py#907\u001b\\\u001b[2m907\u001b[0m\u001b]8;;\u001b\\\n",
       "\u001b[2;36m                    \u001b[0m         \u001b[1;36m1\u001b[0m positional argument but \u001b[1;36m2\u001b[0m were given                       \u001b[2m                         \u001b[0m\n"
      ]
     },
     "metadata": {},
     "output_type": "display_data"
    },
    {
     "name": "stdout",
     "output_type": "stream",
     "text": [
      "0: 640x640 1 Paper, 1 Scissors, 162.8ms\n",
      "Speed: 2.1ms preprocess, 162.8ms inference, 0.5ms postprocess per image at shape (1, 3, 640, 640)\n",
      "Video frames: 1\n",
      "\n"
     ]
    },
    {
     "data": {
      "text/html": [
       "<pre style=\"white-space:pre;overflow-x:auto;line-height:normal;font-family:Menlo,'DejaVu Sans Mono',consolas,'Courier New',monospace\"><span style=\"color: #7fbfbf; text-decoration-color: #7fbfbf\">                    </span><span style=\"color: #800000; text-decoration-color: #800000\">WARNING </span> Error in results dispatching - <span style=\"color: #800080; text-decoration-color: #800080; font-weight: bold\">render_boxes_on_frame</span><span style=\"font-weight: bold\">()</span> takes <a href=\"file:///Users/saadia/Documents/DevIA_2024/ShiFuMi_computerVision/venv/lib/python3.9/site-packages/inference/core/interfaces/stream/inference_pipeline.py\" target=\"_blank\"><span style=\"color: #7f7f7f; text-decoration-color: #7f7f7f\">inference_pipeline.py</span></a><span style=\"color: #7f7f7f; text-decoration-color: #7f7f7f\">:</span><a href=\"file:///Users/saadia/Documents/DevIA_2024/ShiFuMi_computerVision/venv/lib/python3.9/site-packages/inference/core/interfaces/stream/inference_pipeline.py#907\" target=\"_blank\"><span style=\"color: #7f7f7f; text-decoration-color: #7f7f7f\">907</span></a>\n",
       "<span style=\"color: #7fbfbf; text-decoration-color: #7fbfbf\">                    </span>         <span style=\"color: #008080; text-decoration-color: #008080; font-weight: bold\">1</span> positional argument but <span style=\"color: #008080; text-decoration-color: #008080; font-weight: bold\">2</span> were given                       <span style=\"color: #7f7f7f; text-decoration-color: #7f7f7f\">                         </span>\n",
       "</pre>\n"
      ],
      "text/plain": [
       "\u001b[2;36m                   \u001b[0m\u001b[2;36m \u001b[0m\u001b[31mWARNING \u001b[0m Error in results dispatching - \u001b[1;35mrender_boxes_on_frame\u001b[0m\u001b[1m(\u001b[0m\u001b[1m)\u001b[0m takes \u001b]8;id=835410;file:///Users/saadia/Documents/DevIA_2024/ShiFuMi_computerVision/venv/lib/python3.9/site-packages/inference/core/interfaces/stream/inference_pipeline.py\u001b\\\u001b[2minference_pipeline.py\u001b[0m\u001b]8;;\u001b\\\u001b[2m:\u001b[0m\u001b]8;id=768044;file:///Users/saadia/Documents/DevIA_2024/ShiFuMi_computerVision/venv/lib/python3.9/site-packages/inference/core/interfaces/stream/inference_pipeline.py#907\u001b\\\u001b[2m907\u001b[0m\u001b]8;;\u001b\\\n",
       "\u001b[2;36m                    \u001b[0m         \u001b[1;36m1\u001b[0m positional argument but \u001b[1;36m2\u001b[0m were given                       \u001b[2m                         \u001b[0m\n"
      ]
     },
     "metadata": {},
     "output_type": "display_data"
    },
    {
     "name": "stdout",
     "output_type": "stream",
     "text": [
      "0: 640x640 1 Paper, 162.7ms\n",
      "Speed: 2.2ms preprocess, 162.7ms inference, 0.4ms postprocess per image at shape (1, 3, 640, 640)\n",
      "Video frames: 1\n",
      "\n"
     ]
    },
    {
     "data": {
      "text/html": [
       "<pre style=\"white-space:pre;overflow-x:auto;line-height:normal;font-family:Menlo,'DejaVu Sans Mono',consolas,'Courier New',monospace\"><span style=\"color: #7fbfbf; text-decoration-color: #7fbfbf\">[07/01/24 12:07:57] </span><span style=\"color: #800000; text-decoration-color: #800000\">WARNING </span> Error in results dispatching - <span style=\"color: #800080; text-decoration-color: #800080; font-weight: bold\">render_boxes_on_frame</span><span style=\"font-weight: bold\">()</span> takes <a href=\"file:///Users/saadia/Documents/DevIA_2024/ShiFuMi_computerVision/venv/lib/python3.9/site-packages/inference/core/interfaces/stream/inference_pipeline.py\" target=\"_blank\"><span style=\"color: #7f7f7f; text-decoration-color: #7f7f7f\">inference_pipeline.py</span></a><span style=\"color: #7f7f7f; text-decoration-color: #7f7f7f\">:</span><a href=\"file:///Users/saadia/Documents/DevIA_2024/ShiFuMi_computerVision/venv/lib/python3.9/site-packages/inference/core/interfaces/stream/inference_pipeline.py#907\" target=\"_blank\"><span style=\"color: #7f7f7f; text-decoration-color: #7f7f7f\">907</span></a>\n",
       "<span style=\"color: #7fbfbf; text-decoration-color: #7fbfbf\">                    </span>         <span style=\"color: #008080; text-decoration-color: #008080; font-weight: bold\">1</span> positional argument but <span style=\"color: #008080; text-decoration-color: #008080; font-weight: bold\">2</span> were given                       <span style=\"color: #7f7f7f; text-decoration-color: #7f7f7f\">                         </span>\n",
       "</pre>\n"
      ],
      "text/plain": [
       "\u001b[2;36m[07/01/24 12:07:57]\u001b[0m\u001b[2;36m \u001b[0m\u001b[31mWARNING \u001b[0m Error in results dispatching - \u001b[1;35mrender_boxes_on_frame\u001b[0m\u001b[1m(\u001b[0m\u001b[1m)\u001b[0m takes \u001b]8;id=181566;file:///Users/saadia/Documents/DevIA_2024/ShiFuMi_computerVision/venv/lib/python3.9/site-packages/inference/core/interfaces/stream/inference_pipeline.py\u001b\\\u001b[2minference_pipeline.py\u001b[0m\u001b]8;;\u001b\\\u001b[2m:\u001b[0m\u001b]8;id=183508;file:///Users/saadia/Documents/DevIA_2024/ShiFuMi_computerVision/venv/lib/python3.9/site-packages/inference/core/interfaces/stream/inference_pipeline.py#907\u001b\\\u001b[2m907\u001b[0m\u001b]8;;\u001b\\\n",
       "\u001b[2;36m                    \u001b[0m         \u001b[1;36m1\u001b[0m positional argument but \u001b[1;36m2\u001b[0m were given                       \u001b[2m                         \u001b[0m\n"
      ]
     },
     "metadata": {},
     "output_type": "display_data"
    },
    {
     "name": "stdout",
     "output_type": "stream",
     "text": [
      "0: 640x640 (no detections), 188.9ms\n",
      "Speed: 2.1ms preprocess, 188.9ms inference, 0.3ms postprocess per image at shape (1, 3, 640, 640)\n",
      "Video frames: 1\n",
      "\n"
     ]
    },
    {
     "data": {
      "text/html": [
       "<pre style=\"white-space:pre;overflow-x:auto;line-height:normal;font-family:Menlo,'DejaVu Sans Mono',consolas,'Courier New',monospace\"><span style=\"color: #7fbfbf; text-decoration-color: #7fbfbf\">                    </span><span style=\"color: #800000; text-decoration-color: #800000\">WARNING </span> Error in results dispatching - <span style=\"color: #800080; text-decoration-color: #800080; font-weight: bold\">render_boxes_on_frame</span><span style=\"font-weight: bold\">()</span> takes <a href=\"file:///Users/saadia/Documents/DevIA_2024/ShiFuMi_computerVision/venv/lib/python3.9/site-packages/inference/core/interfaces/stream/inference_pipeline.py\" target=\"_blank\"><span style=\"color: #7f7f7f; text-decoration-color: #7f7f7f\">inference_pipeline.py</span></a><span style=\"color: #7f7f7f; text-decoration-color: #7f7f7f\">:</span><a href=\"file:///Users/saadia/Documents/DevIA_2024/ShiFuMi_computerVision/venv/lib/python3.9/site-packages/inference/core/interfaces/stream/inference_pipeline.py#907\" target=\"_blank\"><span style=\"color: #7f7f7f; text-decoration-color: #7f7f7f\">907</span></a>\n",
       "<span style=\"color: #7fbfbf; text-decoration-color: #7fbfbf\">                    </span>         <span style=\"color: #008080; text-decoration-color: #008080; font-weight: bold\">1</span> positional argument but <span style=\"color: #008080; text-decoration-color: #008080; font-weight: bold\">2</span> were given                       <span style=\"color: #7f7f7f; text-decoration-color: #7f7f7f\">                         </span>\n",
       "</pre>\n"
      ],
      "text/plain": [
       "\u001b[2;36m                   \u001b[0m\u001b[2;36m \u001b[0m\u001b[31mWARNING \u001b[0m Error in results dispatching - \u001b[1;35mrender_boxes_on_frame\u001b[0m\u001b[1m(\u001b[0m\u001b[1m)\u001b[0m takes \u001b]8;id=325450;file:///Users/saadia/Documents/DevIA_2024/ShiFuMi_computerVision/venv/lib/python3.9/site-packages/inference/core/interfaces/stream/inference_pipeline.py\u001b\\\u001b[2minference_pipeline.py\u001b[0m\u001b]8;;\u001b\\\u001b[2m:\u001b[0m\u001b]8;id=503698;file:///Users/saadia/Documents/DevIA_2024/ShiFuMi_computerVision/venv/lib/python3.9/site-packages/inference/core/interfaces/stream/inference_pipeline.py#907\u001b\\\u001b[2m907\u001b[0m\u001b]8;;\u001b\\\n",
       "\u001b[2;36m                    \u001b[0m         \u001b[1;36m1\u001b[0m positional argument but \u001b[1;36m2\u001b[0m were given                       \u001b[2m                         \u001b[0m\n"
      ]
     },
     "metadata": {},
     "output_type": "display_data"
    },
    {
     "name": "stdout",
     "output_type": "stream",
     "text": [
      "0: 640x640 1 Paper, 175.3ms\n",
      "Speed: 2.4ms preprocess, 175.3ms inference, 0.7ms postprocess per image at shape (1, 3, 640, 640)\n",
      "Video frames: 1\n",
      "\n"
     ]
    },
    {
     "data": {
      "text/html": [
       "<pre style=\"white-space:pre;overflow-x:auto;line-height:normal;font-family:Menlo,'DejaVu Sans Mono',consolas,'Courier New',monospace\"><span style=\"color: #7fbfbf; text-decoration-color: #7fbfbf\">                    </span><span style=\"color: #800000; text-decoration-color: #800000\">WARNING </span> Error in results dispatching - <span style=\"color: #800080; text-decoration-color: #800080; font-weight: bold\">render_boxes_on_frame</span><span style=\"font-weight: bold\">()</span> takes <a href=\"file:///Users/saadia/Documents/DevIA_2024/ShiFuMi_computerVision/venv/lib/python3.9/site-packages/inference/core/interfaces/stream/inference_pipeline.py\" target=\"_blank\"><span style=\"color: #7f7f7f; text-decoration-color: #7f7f7f\">inference_pipeline.py</span></a><span style=\"color: #7f7f7f; text-decoration-color: #7f7f7f\">:</span><a href=\"file:///Users/saadia/Documents/DevIA_2024/ShiFuMi_computerVision/venv/lib/python3.9/site-packages/inference/core/interfaces/stream/inference_pipeline.py#907\" target=\"_blank\"><span style=\"color: #7f7f7f; text-decoration-color: #7f7f7f\">907</span></a>\n",
       "<span style=\"color: #7fbfbf; text-decoration-color: #7fbfbf\">                    </span>         <span style=\"color: #008080; text-decoration-color: #008080; font-weight: bold\">1</span> positional argument but <span style=\"color: #008080; text-decoration-color: #008080; font-weight: bold\">2</span> were given                       <span style=\"color: #7f7f7f; text-decoration-color: #7f7f7f\">                         </span>\n",
       "</pre>\n"
      ],
      "text/plain": [
       "\u001b[2;36m                   \u001b[0m\u001b[2;36m \u001b[0m\u001b[31mWARNING \u001b[0m Error in results dispatching - \u001b[1;35mrender_boxes_on_frame\u001b[0m\u001b[1m(\u001b[0m\u001b[1m)\u001b[0m takes \u001b]8;id=951688;file:///Users/saadia/Documents/DevIA_2024/ShiFuMi_computerVision/venv/lib/python3.9/site-packages/inference/core/interfaces/stream/inference_pipeline.py\u001b\\\u001b[2minference_pipeline.py\u001b[0m\u001b]8;;\u001b\\\u001b[2m:\u001b[0m\u001b]8;id=912444;file:///Users/saadia/Documents/DevIA_2024/ShiFuMi_computerVision/venv/lib/python3.9/site-packages/inference/core/interfaces/stream/inference_pipeline.py#907\u001b\\\u001b[2m907\u001b[0m\u001b]8;;\u001b\\\n",
       "\u001b[2;36m                    \u001b[0m         \u001b[1;36m1\u001b[0m positional argument but \u001b[1;36m2\u001b[0m were given                       \u001b[2m                         \u001b[0m\n"
      ]
     },
     "metadata": {},
     "output_type": "display_data"
    },
    {
     "name": "stdout",
     "output_type": "stream",
     "text": [
      "0: 640x640 1 Paper, 158.8ms\n",
      "Speed: 3.8ms preprocess, 158.8ms inference, 0.4ms postprocess per image at shape (1, 3, 640, 640)\n",
      "Video frames: 1\n",
      "\n"
     ]
    },
    {
     "data": {
      "text/html": [
       "<pre style=\"white-space:pre;overflow-x:auto;line-height:normal;font-family:Menlo,'DejaVu Sans Mono',consolas,'Courier New',monospace\"><span style=\"color: #7fbfbf; text-decoration-color: #7fbfbf\">                    </span><span style=\"color: #800000; text-decoration-color: #800000\">WARNING </span> Error in results dispatching - <span style=\"color: #800080; text-decoration-color: #800080; font-weight: bold\">render_boxes_on_frame</span><span style=\"font-weight: bold\">()</span> takes <a href=\"file:///Users/saadia/Documents/DevIA_2024/ShiFuMi_computerVision/venv/lib/python3.9/site-packages/inference/core/interfaces/stream/inference_pipeline.py\" target=\"_blank\"><span style=\"color: #7f7f7f; text-decoration-color: #7f7f7f\">inference_pipeline.py</span></a><span style=\"color: #7f7f7f; text-decoration-color: #7f7f7f\">:</span><a href=\"file:///Users/saadia/Documents/DevIA_2024/ShiFuMi_computerVision/venv/lib/python3.9/site-packages/inference/core/interfaces/stream/inference_pipeline.py#907\" target=\"_blank\"><span style=\"color: #7f7f7f; text-decoration-color: #7f7f7f\">907</span></a>\n",
       "<span style=\"color: #7fbfbf; text-decoration-color: #7fbfbf\">                    </span>         <span style=\"color: #008080; text-decoration-color: #008080; font-weight: bold\">1</span> positional argument but <span style=\"color: #008080; text-decoration-color: #008080; font-weight: bold\">2</span> were given                       <span style=\"color: #7f7f7f; text-decoration-color: #7f7f7f\">                         </span>\n",
       "</pre>\n"
      ],
      "text/plain": [
       "\u001b[2;36m                   \u001b[0m\u001b[2;36m \u001b[0m\u001b[31mWARNING \u001b[0m Error in results dispatching - \u001b[1;35mrender_boxes_on_frame\u001b[0m\u001b[1m(\u001b[0m\u001b[1m)\u001b[0m takes \u001b]8;id=627728;file:///Users/saadia/Documents/DevIA_2024/ShiFuMi_computerVision/venv/lib/python3.9/site-packages/inference/core/interfaces/stream/inference_pipeline.py\u001b\\\u001b[2minference_pipeline.py\u001b[0m\u001b]8;;\u001b\\\u001b[2m:\u001b[0m\u001b]8;id=100484;file:///Users/saadia/Documents/DevIA_2024/ShiFuMi_computerVision/venv/lib/python3.9/site-packages/inference/core/interfaces/stream/inference_pipeline.py#907\u001b\\\u001b[2m907\u001b[0m\u001b]8;;\u001b\\\n",
       "\u001b[2;36m                    \u001b[0m         \u001b[1;36m1\u001b[0m positional argument but \u001b[1;36m2\u001b[0m were given                       \u001b[2m                         \u001b[0m\n"
      ]
     },
     "metadata": {},
     "output_type": "display_data"
    },
    {
     "name": "stdout",
     "output_type": "stream",
     "text": [
      "0: 640x640 1 Paper, 174.7ms\n",
      "Speed: 1.9ms preprocess, 174.7ms inference, 0.6ms postprocess per image at shape (1, 3, 640, 640)\n",
      "Video frames: 1\n",
      "\n"
     ]
    },
    {
     "data": {
      "text/html": [
       "<pre style=\"white-space:pre;overflow-x:auto;line-height:normal;font-family:Menlo,'DejaVu Sans Mono',consolas,'Courier New',monospace\"><span style=\"color: #7fbfbf; text-decoration-color: #7fbfbf\">                    </span><span style=\"color: #800000; text-decoration-color: #800000\">WARNING </span> Error in results dispatching - <span style=\"color: #800080; text-decoration-color: #800080; font-weight: bold\">render_boxes_on_frame</span><span style=\"font-weight: bold\">()</span> takes <a href=\"file:///Users/saadia/Documents/DevIA_2024/ShiFuMi_computerVision/venv/lib/python3.9/site-packages/inference/core/interfaces/stream/inference_pipeline.py\" target=\"_blank\"><span style=\"color: #7f7f7f; text-decoration-color: #7f7f7f\">inference_pipeline.py</span></a><span style=\"color: #7f7f7f; text-decoration-color: #7f7f7f\">:</span><a href=\"file:///Users/saadia/Documents/DevIA_2024/ShiFuMi_computerVision/venv/lib/python3.9/site-packages/inference/core/interfaces/stream/inference_pipeline.py#907\" target=\"_blank\"><span style=\"color: #7f7f7f; text-decoration-color: #7f7f7f\">907</span></a>\n",
       "<span style=\"color: #7fbfbf; text-decoration-color: #7fbfbf\">                    </span>         <span style=\"color: #008080; text-decoration-color: #008080; font-weight: bold\">1</span> positional argument but <span style=\"color: #008080; text-decoration-color: #008080; font-weight: bold\">2</span> were given                       <span style=\"color: #7f7f7f; text-decoration-color: #7f7f7f\">                         </span>\n",
       "</pre>\n"
      ],
      "text/plain": [
       "\u001b[2;36m                   \u001b[0m\u001b[2;36m \u001b[0m\u001b[31mWARNING \u001b[0m Error in results dispatching - \u001b[1;35mrender_boxes_on_frame\u001b[0m\u001b[1m(\u001b[0m\u001b[1m)\u001b[0m takes \u001b]8;id=113262;file:///Users/saadia/Documents/DevIA_2024/ShiFuMi_computerVision/venv/lib/python3.9/site-packages/inference/core/interfaces/stream/inference_pipeline.py\u001b\\\u001b[2minference_pipeline.py\u001b[0m\u001b]8;;\u001b\\\u001b[2m:\u001b[0m\u001b]8;id=800168;file:///Users/saadia/Documents/DevIA_2024/ShiFuMi_computerVision/venv/lib/python3.9/site-packages/inference/core/interfaces/stream/inference_pipeline.py#907\u001b\\\u001b[2m907\u001b[0m\u001b]8;;\u001b\\\n",
       "\u001b[2;36m                    \u001b[0m         \u001b[1;36m1\u001b[0m positional argument but \u001b[1;36m2\u001b[0m were given                       \u001b[2m                         \u001b[0m\n"
      ]
     },
     "metadata": {},
     "output_type": "display_data"
    },
    {
     "name": "stdout",
     "output_type": "stream",
     "text": [
      "0: 640x640 1 Scissors, 182.9ms\n",
      "Speed: 3.0ms preprocess, 182.9ms inference, 0.5ms postprocess per image at shape (1, 3, 640, 640)\n",
      "Video frames: 1\n",
      "\n"
     ]
    },
    {
     "data": {
      "text/html": [
       "<pre style=\"white-space:pre;overflow-x:auto;line-height:normal;font-family:Menlo,'DejaVu Sans Mono',consolas,'Courier New',monospace\"><span style=\"color: #7fbfbf; text-decoration-color: #7fbfbf\">                    </span><span style=\"color: #800000; text-decoration-color: #800000\">WARNING </span> Error in results dispatching - <span style=\"color: #800080; text-decoration-color: #800080; font-weight: bold\">render_boxes_on_frame</span><span style=\"font-weight: bold\">()</span> takes <a href=\"file:///Users/saadia/Documents/DevIA_2024/ShiFuMi_computerVision/venv/lib/python3.9/site-packages/inference/core/interfaces/stream/inference_pipeline.py\" target=\"_blank\"><span style=\"color: #7f7f7f; text-decoration-color: #7f7f7f\">inference_pipeline.py</span></a><span style=\"color: #7f7f7f; text-decoration-color: #7f7f7f\">:</span><a href=\"file:///Users/saadia/Documents/DevIA_2024/ShiFuMi_computerVision/venv/lib/python3.9/site-packages/inference/core/interfaces/stream/inference_pipeline.py#907\" target=\"_blank\"><span style=\"color: #7f7f7f; text-decoration-color: #7f7f7f\">907</span></a>\n",
       "<span style=\"color: #7fbfbf; text-decoration-color: #7fbfbf\">                    </span>         <span style=\"color: #008080; text-decoration-color: #008080; font-weight: bold\">1</span> positional argument but <span style=\"color: #008080; text-decoration-color: #008080; font-weight: bold\">2</span> were given                       <span style=\"color: #7f7f7f; text-decoration-color: #7f7f7f\">                         </span>\n",
       "</pre>\n"
      ],
      "text/plain": [
       "\u001b[2;36m                   \u001b[0m\u001b[2;36m \u001b[0m\u001b[31mWARNING \u001b[0m Error in results dispatching - \u001b[1;35mrender_boxes_on_frame\u001b[0m\u001b[1m(\u001b[0m\u001b[1m)\u001b[0m takes \u001b]8;id=43854;file:///Users/saadia/Documents/DevIA_2024/ShiFuMi_computerVision/venv/lib/python3.9/site-packages/inference/core/interfaces/stream/inference_pipeline.py\u001b\\\u001b[2minference_pipeline.py\u001b[0m\u001b]8;;\u001b\\\u001b[2m:\u001b[0m\u001b]8;id=110084;file:///Users/saadia/Documents/DevIA_2024/ShiFuMi_computerVision/venv/lib/python3.9/site-packages/inference/core/interfaces/stream/inference_pipeline.py#907\u001b\\\u001b[2m907\u001b[0m\u001b]8;;\u001b\\\n",
       "\u001b[2;36m                    \u001b[0m         \u001b[1;36m1\u001b[0m positional argument but \u001b[1;36m2\u001b[0m were given                       \u001b[2m                         \u001b[0m\n"
      ]
     },
     "metadata": {},
     "output_type": "display_data"
    },
    {
     "name": "stdout",
     "output_type": "stream",
     "text": [
      "0: 640x640 1 Rock, 177.3ms\n",
      "Speed: 2.5ms preprocess, 177.3ms inference, 0.4ms postprocess per image at shape (1, 3, 640, 640)\n",
      "Video frames: 1\n",
      "\n"
     ]
    },
    {
     "data": {
      "text/html": [
       "<pre style=\"white-space:pre;overflow-x:auto;line-height:normal;font-family:Menlo,'DejaVu Sans Mono',consolas,'Courier New',monospace\"><span style=\"color: #7fbfbf; text-decoration-color: #7fbfbf\">[07/01/24 12:07:58] </span><span style=\"color: #800000; text-decoration-color: #800000\">WARNING </span> Error in results dispatching - <span style=\"color: #800080; text-decoration-color: #800080; font-weight: bold\">render_boxes_on_frame</span><span style=\"font-weight: bold\">()</span> takes <a href=\"file:///Users/saadia/Documents/DevIA_2024/ShiFuMi_computerVision/venv/lib/python3.9/site-packages/inference/core/interfaces/stream/inference_pipeline.py\" target=\"_blank\"><span style=\"color: #7f7f7f; text-decoration-color: #7f7f7f\">inference_pipeline.py</span></a><span style=\"color: #7f7f7f; text-decoration-color: #7f7f7f\">:</span><a href=\"file:///Users/saadia/Documents/DevIA_2024/ShiFuMi_computerVision/venv/lib/python3.9/site-packages/inference/core/interfaces/stream/inference_pipeline.py#907\" target=\"_blank\"><span style=\"color: #7f7f7f; text-decoration-color: #7f7f7f\">907</span></a>\n",
       "<span style=\"color: #7fbfbf; text-decoration-color: #7fbfbf\">                    </span>         <span style=\"color: #008080; text-decoration-color: #008080; font-weight: bold\">1</span> positional argument but <span style=\"color: #008080; text-decoration-color: #008080; font-weight: bold\">2</span> were given                       <span style=\"color: #7f7f7f; text-decoration-color: #7f7f7f\">                         </span>\n",
       "</pre>\n"
      ],
      "text/plain": [
       "\u001b[2;36m[07/01/24 12:07:58]\u001b[0m\u001b[2;36m \u001b[0m\u001b[31mWARNING \u001b[0m Error in results dispatching - \u001b[1;35mrender_boxes_on_frame\u001b[0m\u001b[1m(\u001b[0m\u001b[1m)\u001b[0m takes \u001b]8;id=395028;file:///Users/saadia/Documents/DevIA_2024/ShiFuMi_computerVision/venv/lib/python3.9/site-packages/inference/core/interfaces/stream/inference_pipeline.py\u001b\\\u001b[2minference_pipeline.py\u001b[0m\u001b]8;;\u001b\\\u001b[2m:\u001b[0m\u001b]8;id=529578;file:///Users/saadia/Documents/DevIA_2024/ShiFuMi_computerVision/venv/lib/python3.9/site-packages/inference/core/interfaces/stream/inference_pipeline.py#907\u001b\\\u001b[2m907\u001b[0m\u001b]8;;\u001b\\\n",
       "\u001b[2;36m                    \u001b[0m         \u001b[1;36m1\u001b[0m positional argument but \u001b[1;36m2\u001b[0m were given                       \u001b[2m                         \u001b[0m\n"
      ]
     },
     "metadata": {},
     "output_type": "display_data"
    },
    {
     "name": "stdout",
     "output_type": "stream",
     "text": [
      "0: 640x640 1 Paper, 186.9ms\n",
      "Speed: 2.2ms preprocess, 186.9ms inference, 0.4ms postprocess per image at shape (1, 3, 640, 640)\n",
      "Video frames: 1\n",
      "\n"
     ]
    },
    {
     "data": {
      "text/html": [
       "<pre style=\"white-space:pre;overflow-x:auto;line-height:normal;font-family:Menlo,'DejaVu Sans Mono',consolas,'Courier New',monospace\"><span style=\"color: #7fbfbf; text-decoration-color: #7fbfbf\">                    </span><span style=\"color: #800000; text-decoration-color: #800000\">WARNING </span> Error in results dispatching - <span style=\"color: #800080; text-decoration-color: #800080; font-weight: bold\">render_boxes_on_frame</span><span style=\"font-weight: bold\">()</span> takes <a href=\"file:///Users/saadia/Documents/DevIA_2024/ShiFuMi_computerVision/venv/lib/python3.9/site-packages/inference/core/interfaces/stream/inference_pipeline.py\" target=\"_blank\"><span style=\"color: #7f7f7f; text-decoration-color: #7f7f7f\">inference_pipeline.py</span></a><span style=\"color: #7f7f7f; text-decoration-color: #7f7f7f\">:</span><a href=\"file:///Users/saadia/Documents/DevIA_2024/ShiFuMi_computerVision/venv/lib/python3.9/site-packages/inference/core/interfaces/stream/inference_pipeline.py#907\" target=\"_blank\"><span style=\"color: #7f7f7f; text-decoration-color: #7f7f7f\">907</span></a>\n",
       "<span style=\"color: #7fbfbf; text-decoration-color: #7fbfbf\">                    </span>         <span style=\"color: #008080; text-decoration-color: #008080; font-weight: bold\">1</span> positional argument but <span style=\"color: #008080; text-decoration-color: #008080; font-weight: bold\">2</span> were given                       <span style=\"color: #7f7f7f; text-decoration-color: #7f7f7f\">                         </span>\n",
       "</pre>\n"
      ],
      "text/plain": [
       "\u001b[2;36m                   \u001b[0m\u001b[2;36m \u001b[0m\u001b[31mWARNING \u001b[0m Error in results dispatching - \u001b[1;35mrender_boxes_on_frame\u001b[0m\u001b[1m(\u001b[0m\u001b[1m)\u001b[0m takes \u001b]8;id=332777;file:///Users/saadia/Documents/DevIA_2024/ShiFuMi_computerVision/venv/lib/python3.9/site-packages/inference/core/interfaces/stream/inference_pipeline.py\u001b\\\u001b[2minference_pipeline.py\u001b[0m\u001b]8;;\u001b\\\u001b[2m:\u001b[0m\u001b]8;id=908816;file:///Users/saadia/Documents/DevIA_2024/ShiFuMi_computerVision/venv/lib/python3.9/site-packages/inference/core/interfaces/stream/inference_pipeline.py#907\u001b\\\u001b[2m907\u001b[0m\u001b]8;;\u001b\\\n",
       "\u001b[2;36m                    \u001b[0m         \u001b[1;36m1\u001b[0m positional argument but \u001b[1;36m2\u001b[0m were given                       \u001b[2m                         \u001b[0m\n"
      ]
     },
     "metadata": {},
     "output_type": "display_data"
    },
    {
     "name": "stdout",
     "output_type": "stream",
     "text": [
      "0: 640x640 1 Paper, 1 Scissors, 160.1ms\n",
      "Speed: 2.1ms preprocess, 160.1ms inference, 0.6ms postprocess per image at shape (1, 3, 640, 640)\n",
      "Video frames: 1\n",
      "\n"
     ]
    },
    {
     "data": {
      "text/html": [
       "<pre style=\"white-space:pre;overflow-x:auto;line-height:normal;font-family:Menlo,'DejaVu Sans Mono',consolas,'Courier New',monospace\"><span style=\"color: #7fbfbf; text-decoration-color: #7fbfbf\">                    </span><span style=\"color: #800000; text-decoration-color: #800000\">WARNING </span> Error in results dispatching - <span style=\"color: #800080; text-decoration-color: #800080; font-weight: bold\">render_boxes_on_frame</span><span style=\"font-weight: bold\">()</span> takes <a href=\"file:///Users/saadia/Documents/DevIA_2024/ShiFuMi_computerVision/venv/lib/python3.9/site-packages/inference/core/interfaces/stream/inference_pipeline.py\" target=\"_blank\"><span style=\"color: #7f7f7f; text-decoration-color: #7f7f7f\">inference_pipeline.py</span></a><span style=\"color: #7f7f7f; text-decoration-color: #7f7f7f\">:</span><a href=\"file:///Users/saadia/Documents/DevIA_2024/ShiFuMi_computerVision/venv/lib/python3.9/site-packages/inference/core/interfaces/stream/inference_pipeline.py#907\" target=\"_blank\"><span style=\"color: #7f7f7f; text-decoration-color: #7f7f7f\">907</span></a>\n",
       "<span style=\"color: #7fbfbf; text-decoration-color: #7fbfbf\">                    </span>         <span style=\"color: #008080; text-decoration-color: #008080; font-weight: bold\">1</span> positional argument but <span style=\"color: #008080; text-decoration-color: #008080; font-weight: bold\">2</span> were given                       <span style=\"color: #7f7f7f; text-decoration-color: #7f7f7f\">                         </span>\n",
       "</pre>\n"
      ],
      "text/plain": [
       "\u001b[2;36m                   \u001b[0m\u001b[2;36m \u001b[0m\u001b[31mWARNING \u001b[0m Error in results dispatching - \u001b[1;35mrender_boxes_on_frame\u001b[0m\u001b[1m(\u001b[0m\u001b[1m)\u001b[0m takes \u001b]8;id=419230;file:///Users/saadia/Documents/DevIA_2024/ShiFuMi_computerVision/venv/lib/python3.9/site-packages/inference/core/interfaces/stream/inference_pipeline.py\u001b\\\u001b[2minference_pipeline.py\u001b[0m\u001b]8;;\u001b\\\u001b[2m:\u001b[0m\u001b]8;id=491979;file:///Users/saadia/Documents/DevIA_2024/ShiFuMi_computerVision/venv/lib/python3.9/site-packages/inference/core/interfaces/stream/inference_pipeline.py#907\u001b\\\u001b[2m907\u001b[0m\u001b]8;;\u001b\\\n",
       "\u001b[2;36m                    \u001b[0m         \u001b[1;36m1\u001b[0m positional argument but \u001b[1;36m2\u001b[0m were given                       \u001b[2m                         \u001b[0m\n"
      ]
     },
     "metadata": {},
     "output_type": "display_data"
    },
    {
     "name": "stdout",
     "output_type": "stream",
     "text": [
      "0: 640x640 1 Paper, 1 Scissors, 184.7ms\n",
      "Speed: 2.8ms preprocess, 184.7ms inference, 0.8ms postprocess per image at shape (1, 3, 640, 640)\n",
      "Video frames: 1\n",
      "\n"
     ]
    },
    {
     "ename": "KeyboardInterrupt",
     "evalue": "",
     "output_type": "error",
     "traceback": [
      "\u001b[0;31m---------------------------------------------------------------------------\u001b[0m",
      "\u001b[0;31mKeyboardInterrupt\u001b[0m                         Traceback (most recent call last)",
      "Cell \u001b[0;32mIn[2], line 93\u001b[0m\n\u001b[1;32m     85\u001b[0m my_model \u001b[38;5;241m=\u001b[39m MyModel(\u001b[38;5;124m\"\u001b[39m\u001b[38;5;124m../models/shifumi_trained_yolo9t.torchscript\u001b[39m\u001b[38;5;124m\"\u001b[39m)\n\u001b[1;32m     86\u001b[0m pipeline \u001b[38;5;241m=\u001b[39m InferencePipeline\u001b[38;5;241m.\u001b[39minit_with_custom_logic(\n\u001b[1;32m     87\u001b[0m     on_video_frame\u001b[38;5;241m=\u001b[39mmy_model\u001b[38;5;241m.\u001b[39minfer,\n\u001b[1;32m     88\u001b[0m     video_reference\u001b[38;5;241m=\u001b[39m\u001b[38;5;241m0\u001b[39m,  \u001b[38;5;66;03m# Ensure this is the correct device ID for your webcam\u001b[39;00m\n\u001b[1;32m     89\u001b[0m     on_prediction\u001b[38;5;241m=\u001b[39mrender_boxes_on_frame\n\u001b[1;32m     90\u001b[0m )\n\u001b[0;32m---> 93\u001b[0m \u001b[43mpipeline\u001b[49m\u001b[38;5;241;43m.\u001b[39;49m\u001b[43mstart\u001b[49m\u001b[43m(\u001b[49m\u001b[43m)\u001b[49m\n\u001b[1;32m     94\u001b[0m pipeline\u001b[38;5;241m.\u001b[39mjoin()\n",
      "File \u001b[0;32m~/Documents/DevIA_2024/ShiFuMi_computerVision/venv/lib/python3.9/site-packages/inference/core/interfaces/stream/inference_pipeline.py:747\u001b[0m, in \u001b[0;36mInferencePipeline.start\u001b[0;34m(self, use_main_thread)\u001b[0m\n\u001b[1;32m    745\u001b[0m     \u001b[38;5;28mself\u001b[39m\u001b[38;5;241m.\u001b[39m_on_pipeline_start()\n\u001b[1;32m    746\u001b[0m \u001b[38;5;28;01mif\u001b[39;00m use_main_thread:\n\u001b[0;32m--> 747\u001b[0m     \u001b[38;5;28;43mself\u001b[39;49m\u001b[38;5;241;43m.\u001b[39;49m\u001b[43m_dispatch_inference_results\u001b[49m\u001b[43m(\u001b[49m\u001b[43m)\u001b[49m\n\u001b[1;32m    748\u001b[0m \u001b[38;5;28;01melse\u001b[39;00m:\n\u001b[1;32m    749\u001b[0m     \u001b[38;5;28mself\u001b[39m\u001b[38;5;241m.\u001b[39m_dispatching_thread \u001b[38;5;241m=\u001b[39m Thread(target\u001b[38;5;241m=\u001b[39m\u001b[38;5;28mself\u001b[39m\u001b[38;5;241m.\u001b[39m_dispatch_inference_results)\n",
      "File \u001b[0;32m~/Documents/DevIA_2024/ShiFuMi_computerVision/venv/lib/python3.9/site-packages/inference/core/interfaces/stream/inference_pipeline.py:838\u001b[0m, in \u001b[0;36mInferencePipeline._dispatch_inference_results\u001b[0;34m(self)\u001b[0m\n\u001b[1;32m    834\u001b[0m \u001b[38;5;28;01mdef\u001b[39;00m \u001b[38;5;21m_dispatch_inference_results\u001b[39m(\u001b[38;5;28mself\u001b[39m) \u001b[38;5;241m-\u001b[39m\u001b[38;5;241m>\u001b[39m \u001b[38;5;28;01mNone\u001b[39;00m:\n\u001b[1;32m    835\u001b[0m     \u001b[38;5;28;01mwhile\u001b[39;00m \u001b[38;5;28;01mTrue\u001b[39;00m:\n\u001b[1;32m    836\u001b[0m         inference_results: Optional[\n\u001b[1;32m    837\u001b[0m             Tuple[List[AnyPrediction], List[VideoFrame]]\n\u001b[0;32m--> 838\u001b[0m         ] \u001b[38;5;241m=\u001b[39m \u001b[38;5;28;43mself\u001b[39;49m\u001b[38;5;241;43m.\u001b[39;49m\u001b[43m_predictions_queue\u001b[49m\u001b[38;5;241;43m.\u001b[39;49m\u001b[43mget\u001b[49m\u001b[43m(\u001b[49m\u001b[43m)\u001b[49m\n\u001b[1;32m    839\u001b[0m         \u001b[38;5;28;01mif\u001b[39;00m inference_results \u001b[38;5;129;01mis\u001b[39;00m \u001b[38;5;28;01mNone\u001b[39;00m:\n\u001b[1;32m    840\u001b[0m             \u001b[38;5;28mself\u001b[39m\u001b[38;5;241m.\u001b[39m_predictions_queue\u001b[38;5;241m.\u001b[39mtask_done()\n",
      "File \u001b[0;32m/Library/Developer/CommandLineTools/Library/Frameworks/Python3.framework/Versions/3.9/lib/python3.9/queue.py:171\u001b[0m, in \u001b[0;36mQueue.get\u001b[0;34m(self, block, timeout)\u001b[0m\n\u001b[1;32m    169\u001b[0m \u001b[38;5;28;01melif\u001b[39;00m timeout \u001b[38;5;129;01mis\u001b[39;00m \u001b[38;5;28;01mNone\u001b[39;00m:\n\u001b[1;32m    170\u001b[0m     \u001b[38;5;28;01mwhile\u001b[39;00m \u001b[38;5;129;01mnot\u001b[39;00m \u001b[38;5;28mself\u001b[39m\u001b[38;5;241m.\u001b[39m_qsize():\n\u001b[0;32m--> 171\u001b[0m         \u001b[38;5;28;43mself\u001b[39;49m\u001b[38;5;241;43m.\u001b[39;49m\u001b[43mnot_empty\u001b[49m\u001b[38;5;241;43m.\u001b[39;49m\u001b[43mwait\u001b[49m\u001b[43m(\u001b[49m\u001b[43m)\u001b[49m\n\u001b[1;32m    172\u001b[0m \u001b[38;5;28;01melif\u001b[39;00m timeout \u001b[38;5;241m<\u001b[39m \u001b[38;5;241m0\u001b[39m:\n\u001b[1;32m    173\u001b[0m     \u001b[38;5;28;01mraise\u001b[39;00m \u001b[38;5;167;01mValueError\u001b[39;00m(\u001b[38;5;124m\"\u001b[39m\u001b[38;5;124m'\u001b[39m\u001b[38;5;124mtimeout\u001b[39m\u001b[38;5;124m'\u001b[39m\u001b[38;5;124m must be a non-negative number\u001b[39m\u001b[38;5;124m\"\u001b[39m)\n",
      "File \u001b[0;32m/Library/Developer/CommandLineTools/Library/Frameworks/Python3.framework/Versions/3.9/lib/python3.9/threading.py:312\u001b[0m, in \u001b[0;36mCondition.wait\u001b[0;34m(self, timeout)\u001b[0m\n\u001b[1;32m    310\u001b[0m \u001b[38;5;28;01mtry\u001b[39;00m:    \u001b[38;5;66;03m# restore state no matter what (e.g., KeyboardInterrupt)\u001b[39;00m\n\u001b[1;32m    311\u001b[0m     \u001b[38;5;28;01mif\u001b[39;00m timeout \u001b[38;5;129;01mis\u001b[39;00m \u001b[38;5;28;01mNone\u001b[39;00m:\n\u001b[0;32m--> 312\u001b[0m         \u001b[43mwaiter\u001b[49m\u001b[38;5;241;43m.\u001b[39;49m\u001b[43macquire\u001b[49m\u001b[43m(\u001b[49m\u001b[43m)\u001b[49m\n\u001b[1;32m    313\u001b[0m         gotit \u001b[38;5;241m=\u001b[39m \u001b[38;5;28;01mTrue\u001b[39;00m\n\u001b[1;32m    314\u001b[0m     \u001b[38;5;28;01melse\u001b[39;00m:\n",
      "\u001b[0;31mKeyboardInterrupt\u001b[0m: "
     ]
    },
    {
     "name": "stdout",
     "output_type": "stream",
     "text": [
      "0: 640x640 1 Paper, 173.5ms\n",
      "Speed: 2.2ms preprocess, 173.5ms inference, 26.4ms postprocess per image at shape (1, 3, 640, 640)\n"
     ]
    },
    {
     "name": "stdout",
     "output_type": "stream",
     "text": [
      "Video frames: 1\n",
      "\n",
      "0: 640x640 1 Paper, 169.7ms\n",
      "Speed: 2.6ms preprocess, 169.7ms inference, 0.6ms postprocess per image at shape (1, 3, 640, 640)\n",
      "Video frames: 1\n",
      "\n",
      "0: 640x640 1 Paper, 184.7ms\n",
      "Speed: 3.3ms preprocess, 184.7ms inference, 0.5ms postprocess per image at shape (1, 3, 640, 640)\n",
      "Video frames: 1\n",
      "\n",
      "0: 640x640 1 Paper, 180.0ms\n",
      "Speed: 3.4ms preprocess, 180.0ms inference, 0.6ms postprocess per image at shape (1, 3, 640, 640)\n",
      "Video frames: 1\n",
      "\n",
      "0: 640x640 1 Paper, 180.9ms\n",
      "Speed: 2.5ms preprocess, 180.9ms inference, 0.4ms postprocess per image at shape (1, 3, 640, 640)\n",
      "Video frames: 1\n",
      "\n",
      "0: 640x640 1 Paper, 175.9ms\n",
      "Speed: 2.7ms preprocess, 175.9ms inference, 0.4ms postprocess per image at shape (1, 3, 640, 640)\n",
      "Video frames: 1\n",
      "\n",
      "0: 640x640 1 Paper, 164.0ms\n",
      "Speed: 2.4ms preprocess, 164.0ms inference, 0.4ms postprocess per image at shape (1, 3, 640, 640)\n",
      "Video frames: 1\n",
      "\n",
      "0: 640x640 1 Rock, 178.7ms\n",
      "Speed: 2.8ms preprocess, 178.7ms inference, 0.4ms postprocess per image at shape (1, 3, 640, 640)\n",
      "Video frames: 1\n",
      "\n",
      "0: 640x640 1 Paper, 1 Rock, 172.5ms\n",
      "Speed: 2.3ms preprocess, 172.5ms inference, 0.3ms postprocess per image at shape (1, 3, 640, 640)\n",
      "Video frames: 1\n",
      "\n",
      "0: 640x640 1 Paper, 1 Rock, 169.0ms\n",
      "Speed: 2.8ms preprocess, 169.0ms inference, 0.4ms postprocess per image at shape (1, 3, 640, 640)\n",
      "Video frames: 1\n",
      "\n",
      "0: 640x640 1 Paper, 1 Rock, 171.4ms\n",
      "Speed: 3.5ms preprocess, 171.4ms inference, 0.4ms postprocess per image at shape (1, 3, 640, 640)\n",
      "Video frames: 1\n",
      "\n",
      "0: 640x640 1 Paper, 1 Rock, 155.7ms\n",
      "Speed: 2.7ms preprocess, 155.7ms inference, 0.4ms postprocess per image at shape (1, 3, 640, 640)\n",
      "Video frames: 1\n",
      "\n",
      "0: 640x640 1 Paper, 1 Rock, 182.4ms\n",
      "Speed: 3.8ms preprocess, 182.4ms inference, 0.7ms postprocess per image at shape (1, 3, 640, 640)\n",
      "Video frames: 1\n",
      "\n",
      "0: 640x640 1 Paper, 1 Rock, 156.5ms\n",
      "Speed: 2.6ms preprocess, 156.5ms inference, 0.4ms postprocess per image at shape (1, 3, 640, 640)\n",
      "Video frames: 1\n",
      "\n",
      "0: 640x640 1 Paper, 1 Rock, 165.4ms\n",
      "Speed: 2.7ms preprocess, 165.4ms inference, 0.4ms postprocess per image at shape (1, 3, 640, 640)\n",
      "Video frames: 1\n",
      "\n",
      "0: 640x640 1 Paper, 1 Rock, 160.5ms\n",
      "Speed: 2.7ms preprocess, 160.5ms inference, 0.4ms postprocess per image at shape (1, 3, 640, 640)\n",
      "Video frames: 1\n",
      "\n",
      "0: 640x640 1 Paper, 1 Rock, 160.0ms\n",
      "Speed: 2.4ms preprocess, 160.0ms inference, 0.3ms postprocess per image at shape (1, 3, 640, 640)\n",
      "Video frames: 1\n",
      "\n",
      "0: 640x640 1 Rock, 179.5ms\n",
      "Speed: 2.4ms preprocess, 179.5ms inference, 0.4ms postprocess per image at shape (1, 3, 640, 640)\n",
      "Video frames: 1\n",
      "\n",
      "0: 640x640 1 Rock, 171.1ms\n",
      "Speed: 3.1ms preprocess, 171.1ms inference, 0.5ms postprocess per image at shape (1, 3, 640, 640)\n",
      "Video frames: 1\n",
      "\n",
      "0: 640x640 1 Rock, 165.2ms\n",
      "Speed: 2.0ms preprocess, 165.2ms inference, 0.4ms postprocess per image at shape (1, 3, 640, 640)\n",
      "Video frames: 1\n",
      "\n",
      "0: 640x640 1 Rock, 156.7ms\n",
      "Speed: 2.6ms preprocess, 156.7ms inference, 0.4ms postprocess per image at shape (1, 3, 640, 640)\n",
      "Video frames: 1\n",
      "\n",
      "0: 640x640 1 Paper, 1 Rock, 153.6ms\n",
      "Speed: 2.4ms preprocess, 153.6ms inference, 0.4ms postprocess per image at shape (1, 3, 640, 640)\n",
      "Video frames: 1\n",
      "\n",
      "0: 640x640 (no detections), 164.5ms\n",
      "Speed: 2.4ms preprocess, 164.5ms inference, 0.2ms postprocess per image at shape (1, 3, 640, 640)\n",
      "Video frames: 1\n",
      "\n",
      "0: 640x640 1 Rock, 160.5ms\n",
      "Speed: 2.6ms preprocess, 160.5ms inference, 0.4ms postprocess per image at shape (1, 3, 640, 640)\n",
      "Video frames: 1\n",
      "\n",
      "0: 640x640 1 Paper, 151.7ms\n",
      "Speed: 2.4ms preprocess, 151.7ms inference, 0.4ms postprocess per image at shape (1, 3, 640, 640)\n",
      "Video frames: 1\n",
      "\n",
      "0: 640x640 1 Paper, 156.3ms\n",
      "Speed: 2.2ms preprocess, 156.3ms inference, 0.4ms postprocess per image at shape (1, 3, 640, 640)\n",
      "Video frames: 1\n",
      "\n",
      "0: 640x640 1 Paper, 155.1ms\n",
      "Speed: 3.1ms preprocess, 155.1ms inference, 0.3ms postprocess per image at shape (1, 3, 640, 640)\n",
      "Video frames: 1\n",
      "\n",
      "0: 640x640 1 Paper, 182.1ms\n",
      "Speed: 2.4ms preprocess, 182.1ms inference, 0.4ms postprocess per image at shape (1, 3, 640, 640)\n",
      "Video frames: 1\n",
      "\n",
      "0: 640x640 (no detections), 162.5ms\n",
      "Speed: 2.4ms preprocess, 162.5ms inference, 0.2ms postprocess per image at shape (1, 3, 640, 640)\n",
      "Video frames: 1\n",
      "\n",
      "0: 640x640 1 Rock, 151.3ms\n",
      "Speed: 2.1ms preprocess, 151.3ms inference, 0.7ms postprocess per image at shape (1, 3, 640, 640)\n",
      "Video frames: 1\n",
      "\n",
      "0: 640x640 1 Rock, 156.0ms\n",
      "Speed: 2.4ms preprocess, 156.0ms inference, 0.4ms postprocess per image at shape (1, 3, 640, 640)\n",
      "Video frames: 1\n",
      "\n",
      "0: 640x640 1 Rock, 154.8ms\n",
      "Speed: 2.6ms preprocess, 154.8ms inference, 0.3ms postprocess per image at shape (1, 3, 640, 640)\n",
      "Video frames: 1\n",
      "\n",
      "0: 640x640 1 Paper, 185.5ms\n",
      "Speed: 2.6ms preprocess, 185.5ms inference, 0.3ms postprocess per image at shape (1, 3, 640, 640)\n",
      "Video frames: 1\n",
      "\n",
      "0: 640x640 1 Paper, 162.3ms\n",
      "Speed: 2.2ms preprocess, 162.3ms inference, 0.4ms postprocess per image at shape (1, 3, 640, 640)\n",
      "Video frames: 1\n",
      "\n"
     ]
    }
   ],
   "source": [
    "#affichage classes + probas + box sur vidéo en live\n",
    "\n",
    "class VideoFrameWithPredictions:\n",
    "    def __init__(self, video_frame: VideoFrame, predictions: dict = None):\n",
    "        self.video_frame = video_frame\n",
    "        self.predictions = predictions or {}\n",
    "\n",
    "\n",
    "class MyModel:\n",
    "\n",
    "    def __init__(self, weights_path: str):\n",
    "        #charge le modele et les poids\n",
    "        self._model = YOLO(weights_path)\n",
    "        print(\"Modèle chargé avec succès\")\n",
    "\n",
    "    def infer(self, video_frames: List[VideoFrame]) -> List[VideoFrameWithPredictions]:\n",
    "        print('Video frames:', len(video_frames)) \n",
    "        \n",
    "        # convertir liste d'images en objet reconnu par yolo\n",
    "        images = [v.image for v in video_frames]\n",
    "\n",
    "        # convertir les images en numpy array\n",
    "        images_np = [np.array(img) for img in images]\n",
    "\n",
    "        # faire predictions\n",
    "        results = self._model(images_np)\n",
    "\n",
    "        # liste pour stocker les images et les prédictions\n",
    "        enriched_video_frames = []\n",
    "\n",
    "        # màj des images avec les prédictions\n",
    "        for i, result in enumerate(results):\n",
    "            boxes = result.boxes.xyxy.tolist() if result.boxes else []\n",
    "            scores = result.boxes.conf.tolist() if result.boxes else []\n",
    "            class_indices = result.boxes.cls.tolist() if result.boxes else []\n",
    "\n",
    "            # créer un nouvelle image enrichie avec les prédictions\n",
    "            enriched_frame = VideoFrameWithPredictions(\n",
    "                video_frame=video_frames[i],\n",
    "                predictions={\n",
    "                    'boxes': boxes,\n",
    "                    'scores': scores,\n",
    "                    'class_indices': class_indices\n",
    "                }\n",
    "            )\n",
    "\n",
    "            enriched_video_frames.append(enriched_frame)\n",
    "\n",
    "        return enriched_video_frames\n",
    "\n",
    "def render_boxes_on_frame(video_frame_with_predictions: VideoFrameWithPredictions) -> VideoFrame:\n",
    "    # convertir l'image en numpy array\n",
    "    image = np.array(video_frame_with_predictions.image)\n",
    "    predictions = video_frame_with_predictions.predictions\n",
    "\n",
    "    if predictions:\n",
    "        boxes = predictions['boxes']\n",
    "        scores = predictions['scores']\n",
    "        class_indices = predictions['class_indices']\n",
    "\n",
    "        for box, score, class_idx in zip(boxes, scores, class_indices):\n",
    "            x1, y1, x2, y2 = map(int, box)\n",
    "            label = f'Classe: {class_idx}, Probabilité: {score:.2f}'\n",
    "        \n",
    "            # dessine le boarding box\n",
    "            cv2.rectangle(image, (x1, y1), (x2, y2), (255, 0, 0), 2)\n",
    "        \n",
    "            # mettre le label \n",
    "            cv2.putText(image, label, (x1, y1 - 10), cv2.FONT_HERSHEY_SIMPLEX, 0.9, (255, 0, 0), 2)\n",
    "    \n",
    "    video_frame_with_predictions.video_frame.image = image\n",
    "    return video_frame_with_predictions.video_frame\n",
    "\n",
    "my_model = MyModel(\"../models/shifumi_trained_yolo9t.torchscript\")\n",
    "pipeline = InferencePipeline.init_with_custom_logic(\n",
    "    on_video_frame=my_model.infer,\n",
    "    video_reference=0,  # Ensure this is the correct device ID for your webcam\n",
    "    on_prediction=render_boxes_on_frame\n",
    ")\n",
    "\n",
    "\n",
    "pipeline.start()\n",
    "pipeline.join()\n"
   ]
  },
  {
   "cell_type": "code",
   "execution_count": null,
   "metadata": {},
   "outputs": [
    {
     "name": "stdout",
     "output_type": "stream",
     "text": [
      "WARNING ⚠️ Unable to automatically guess model task, assuming 'task=detect'. Explicitly define task for your model, i.e. 'task=detect', 'segment', 'classify','pose' or 'obb'.\n",
      "Modèle chargé avec succès\n",
      "Video frames: 1\n",
      "Loading ../models/shifumi_trained_yolo9t.torchscript for TorchScript inference...\n",
      "\n",
      "0: 640x640 1 Rock, 370.6ms\n",
      "Speed: 7.6ms preprocess, 370.6ms inference, 9.8ms postprocess per image at shape (1, 3, 640, 640)\n",
      "Video frames: 1\n",
      "\n"
     ]
    },
    {
     "data": {
      "text/html": [
       "<pre style=\"white-space:pre;overflow-x:auto;line-height:normal;font-family:Menlo,'DejaVu Sans Mono',consolas,'Courier New',monospace\"><span style=\"color: #7fbfbf; text-decoration-color: #7fbfbf\">[07/01/24 11:51:22] </span><span style=\"color: #800000; text-decoration-color: #800000\">WARNING </span> Error in results dispatching - <span style=\"color: #800080; text-decoration-color: #800080; font-weight: bold\">render_boxes_on_frame</span><span style=\"font-weight: bold\">()</span> takes <a href=\"file:///Users/saadia/Documents/DevIA_2024/ShiFuMi_computerVision/venv/lib/python3.9/site-packages/inference/core/interfaces/stream/inference_pipeline.py\" target=\"_blank\"><span style=\"color: #7f7f7f; text-decoration-color: #7f7f7f\">inference_pipeline.py</span></a><span style=\"color: #7f7f7f; text-decoration-color: #7f7f7f\">:</span><a href=\"file:///Users/saadia/Documents/DevIA_2024/ShiFuMi_computerVision/venv/lib/python3.9/site-packages/inference/core/interfaces/stream/inference_pipeline.py#907\" target=\"_blank\"><span style=\"color: #7f7f7f; text-decoration-color: #7f7f7f\">907</span></a>\n",
       "<span style=\"color: #7fbfbf; text-decoration-color: #7fbfbf\">                    </span>         <span style=\"color: #008080; text-decoration-color: #008080; font-weight: bold\">1</span> positional argument but <span style=\"color: #008080; text-decoration-color: #008080; font-weight: bold\">2</span> were given                       <span style=\"color: #7f7f7f; text-decoration-color: #7f7f7f\">                         </span>\n",
       "</pre>\n"
      ],
      "text/plain": [
       "\u001b[2;36m[07/01/24 11:51:22]\u001b[0m\u001b[2;36m \u001b[0m\u001b[31mWARNING \u001b[0m Error in results dispatching - \u001b[1;35mrender_boxes_on_frame\u001b[0m\u001b[1m(\u001b[0m\u001b[1m)\u001b[0m takes \u001b]8;id=819256;file:///Users/saadia/Documents/DevIA_2024/ShiFuMi_computerVision/venv/lib/python3.9/site-packages/inference/core/interfaces/stream/inference_pipeline.py\u001b\\\u001b[2minference_pipeline.py\u001b[0m\u001b]8;;\u001b\\\u001b[2m:\u001b[0m\u001b]8;id=395235;file:///Users/saadia/Documents/DevIA_2024/ShiFuMi_computerVision/venv/lib/python3.9/site-packages/inference/core/interfaces/stream/inference_pipeline.py#907\u001b\\\u001b[2m907\u001b[0m\u001b]8;;\u001b\\\n",
       "\u001b[2;36m                    \u001b[0m         \u001b[1;36m1\u001b[0m positional argument but \u001b[1;36m2\u001b[0m were given                       \u001b[2m                         \u001b[0m\n"
      ]
     },
     "metadata": {},
     "output_type": "display_data"
    },
    {
     "name": "stdout",
     "output_type": "stream",
     "text": [
      "0: 640x640 (no detections), 249.6ms\n",
      "Speed: 2.2ms preprocess, 249.6ms inference, 0.3ms postprocess per image at shape (1, 3, 640, 640)\n",
      "Video frames: 1\n",
      "\n"
     ]
    },
    {
     "data": {
      "text/html": [
       "<pre style=\"white-space:pre;overflow-x:auto;line-height:normal;font-family:Menlo,'DejaVu Sans Mono',consolas,'Courier New',monospace\"><span style=\"color: #7fbfbf; text-decoration-color: #7fbfbf\">                    </span><span style=\"color: #800000; text-decoration-color: #800000\">WARNING </span> Error in results dispatching - <span style=\"color: #800080; text-decoration-color: #800080; font-weight: bold\">render_boxes_on_frame</span><span style=\"font-weight: bold\">()</span> takes <a href=\"file:///Users/saadia/Documents/DevIA_2024/ShiFuMi_computerVision/venv/lib/python3.9/site-packages/inference/core/interfaces/stream/inference_pipeline.py\" target=\"_blank\"><span style=\"color: #7f7f7f; text-decoration-color: #7f7f7f\">inference_pipeline.py</span></a><span style=\"color: #7f7f7f; text-decoration-color: #7f7f7f\">:</span><a href=\"file:///Users/saadia/Documents/DevIA_2024/ShiFuMi_computerVision/venv/lib/python3.9/site-packages/inference/core/interfaces/stream/inference_pipeline.py#907\" target=\"_blank\"><span style=\"color: #7f7f7f; text-decoration-color: #7f7f7f\">907</span></a>\n",
       "<span style=\"color: #7fbfbf; text-decoration-color: #7fbfbf\">                    </span>         <span style=\"color: #008080; text-decoration-color: #008080; font-weight: bold\">1</span> positional argument but <span style=\"color: #008080; text-decoration-color: #008080; font-weight: bold\">2</span> were given                       <span style=\"color: #7f7f7f; text-decoration-color: #7f7f7f\">                         </span>\n",
       "</pre>\n"
      ],
      "text/plain": [
       "\u001b[2;36m                   \u001b[0m\u001b[2;36m \u001b[0m\u001b[31mWARNING \u001b[0m Error in results dispatching - \u001b[1;35mrender_boxes_on_frame\u001b[0m\u001b[1m(\u001b[0m\u001b[1m)\u001b[0m takes \u001b]8;id=624753;file:///Users/saadia/Documents/DevIA_2024/ShiFuMi_computerVision/venv/lib/python3.9/site-packages/inference/core/interfaces/stream/inference_pipeline.py\u001b\\\u001b[2minference_pipeline.py\u001b[0m\u001b]8;;\u001b\\\u001b[2m:\u001b[0m\u001b]8;id=435623;file:///Users/saadia/Documents/DevIA_2024/ShiFuMi_computerVision/venv/lib/python3.9/site-packages/inference/core/interfaces/stream/inference_pipeline.py#907\u001b\\\u001b[2m907\u001b[0m\u001b]8;;\u001b\\\n",
       "\u001b[2;36m                    \u001b[0m         \u001b[1;36m1\u001b[0m positional argument but \u001b[1;36m2\u001b[0m were given                       \u001b[2m                         \u001b[0m\n"
      ]
     },
     "metadata": {},
     "output_type": "display_data"
    },
    {
     "name": "stdout",
     "output_type": "stream",
     "text": [
      "0: 640x640 (no detections), 147.3ms\n",
      "Speed: 2.2ms preprocess, 147.3ms inference, 0.3ms postprocess per image at shape (1, 3, 640, 640)\n"
     ]
    },
    {
     "data": {
      "text/html": [
       "<pre style=\"white-space:pre;overflow-x:auto;line-height:normal;font-family:Menlo,'DejaVu Sans Mono',consolas,'Courier New',monospace\"><span style=\"color: #7fbfbf; text-decoration-color: #7fbfbf\">                    </span><span style=\"color: #800000; text-decoration-color: #800000\">WARNING </span> Error in results dispatching - <span style=\"color: #800080; text-decoration-color: #800080; font-weight: bold\">render_boxes_on_frame</span><span style=\"font-weight: bold\">()</span> takes <a href=\"file:///Users/saadia/Documents/DevIA_2024/ShiFuMi_computerVision/venv/lib/python3.9/site-packages/inference/core/interfaces/stream/inference_pipeline.py\" target=\"_blank\"><span style=\"color: #7f7f7f; text-decoration-color: #7f7f7f\">inference_pipeline.py</span></a><span style=\"color: #7f7f7f; text-decoration-color: #7f7f7f\">:</span><a href=\"file:///Users/saadia/Documents/DevIA_2024/ShiFuMi_computerVision/venv/lib/python3.9/site-packages/inference/core/interfaces/stream/inference_pipeline.py#907\" target=\"_blank\"><span style=\"color: #7f7f7f; text-decoration-color: #7f7f7f\">907</span></a>\n",
       "<span style=\"color: #7fbfbf; text-decoration-color: #7fbfbf\">                    </span>         <span style=\"color: #008080; text-decoration-color: #008080; font-weight: bold\">1</span> positional argument but <span style=\"color: #008080; text-decoration-color: #008080; font-weight: bold\">2</span> were given                       <span style=\"color: #7f7f7f; text-decoration-color: #7f7f7f\">                         </span>\n",
       "</pre>\n"
      ],
      "text/plain": [
       "\u001b[2;36m                   \u001b[0m\u001b[2;36m \u001b[0m\u001b[31mWARNING \u001b[0m Error in results dispatching - \u001b[1;35mrender_boxes_on_frame\u001b[0m\u001b[1m(\u001b[0m\u001b[1m)\u001b[0m takes \u001b]8;id=176004;file:///Users/saadia/Documents/DevIA_2024/ShiFuMi_computerVision/venv/lib/python3.9/site-packages/inference/core/interfaces/stream/inference_pipeline.py\u001b\\\u001b[2minference_pipeline.py\u001b[0m\u001b]8;;\u001b\\\u001b[2m:\u001b[0m\u001b]8;id=178796;file:///Users/saadia/Documents/DevIA_2024/ShiFuMi_computerVision/venv/lib/python3.9/site-packages/inference/core/interfaces/stream/inference_pipeline.py#907\u001b\\\u001b[2m907\u001b[0m\u001b]8;;\u001b\\\n",
       "\u001b[2;36m                    \u001b[0m         \u001b[1;36m1\u001b[0m positional argument but \u001b[1;36m2\u001b[0m were given                       \u001b[2m                         \u001b[0m\n"
      ]
     },
     "metadata": {},
     "output_type": "display_data"
    },
    {
     "name": "stdout",
     "output_type": "stream",
     "text": [
      "Video frames: 1\n",
      "\n",
      "0: 640x640 (no detections), 176.7ms\n",
      "Speed: 6.3ms preprocess, 176.7ms inference, 0.2ms postprocess per image at shape (1, 3, 640, 640)\n"
     ]
    },
    {
     "data": {
      "text/html": [
       "<pre style=\"white-space:pre;overflow-x:auto;line-height:normal;font-family:Menlo,'DejaVu Sans Mono',consolas,'Courier New',monospace\"><span style=\"color: #7fbfbf; text-decoration-color: #7fbfbf\">                    </span><span style=\"color: #800000; text-decoration-color: #800000\">WARNING </span> Error in results dispatching - <span style=\"color: #800080; text-decoration-color: #800080; font-weight: bold\">render_boxes_on_frame</span><span style=\"font-weight: bold\">()</span> takes <a href=\"file:///Users/saadia/Documents/DevIA_2024/ShiFuMi_computerVision/venv/lib/python3.9/site-packages/inference/core/interfaces/stream/inference_pipeline.py\" target=\"_blank\"><span style=\"color: #7f7f7f; text-decoration-color: #7f7f7f\">inference_pipeline.py</span></a><span style=\"color: #7f7f7f; text-decoration-color: #7f7f7f\">:</span><a href=\"file:///Users/saadia/Documents/DevIA_2024/ShiFuMi_computerVision/venv/lib/python3.9/site-packages/inference/core/interfaces/stream/inference_pipeline.py#907\" target=\"_blank\"><span style=\"color: #7f7f7f; text-decoration-color: #7f7f7f\">907</span></a>\n",
       "<span style=\"color: #7fbfbf; text-decoration-color: #7fbfbf\">                    </span>         <span style=\"color: #008080; text-decoration-color: #008080; font-weight: bold\">1</span> positional argument but <span style=\"color: #008080; text-decoration-color: #008080; font-weight: bold\">2</span> were given                       <span style=\"color: #7f7f7f; text-decoration-color: #7f7f7f\">                         </span>\n",
       "</pre>\n"
      ],
      "text/plain": [
       "\u001b[2;36m                   \u001b[0m\u001b[2;36m \u001b[0m\u001b[31mWARNING \u001b[0m Error in results dispatching - \u001b[1;35mrender_boxes_on_frame\u001b[0m\u001b[1m(\u001b[0m\u001b[1m)\u001b[0m takes \u001b]8;id=345592;file:///Users/saadia/Documents/DevIA_2024/ShiFuMi_computerVision/venv/lib/python3.9/site-packages/inference/core/interfaces/stream/inference_pipeline.py\u001b\\\u001b[2minference_pipeline.py\u001b[0m\u001b]8;;\u001b\\\u001b[2m:\u001b[0m\u001b]8;id=375062;file:///Users/saadia/Documents/DevIA_2024/ShiFuMi_computerVision/venv/lib/python3.9/site-packages/inference/core/interfaces/stream/inference_pipeline.py#907\u001b\\\u001b[2m907\u001b[0m\u001b]8;;\u001b\\\n",
       "\u001b[2;36m                    \u001b[0m         \u001b[1;36m1\u001b[0m positional argument but \u001b[1;36m2\u001b[0m were given                       \u001b[2m                         \u001b[0m\n"
      ]
     },
     "metadata": {},
     "output_type": "display_data"
    },
    {
     "name": "stdout",
     "output_type": "stream",
     "text": [
      "Video frames: 1\n",
      "\n",
      "0: 640x640 (no detections), 176.6ms\n",
      "Speed: 5.8ms preprocess, 176.6ms inference, 0.3ms postprocess per image at shape (1, 3, 640, 640)\n"
     ]
    },
    {
     "data": {
      "text/html": [
       "<pre style=\"white-space:pre;overflow-x:auto;line-height:normal;font-family:Menlo,'DejaVu Sans Mono',consolas,'Courier New',monospace\"><span style=\"color: #7fbfbf; text-decoration-color: #7fbfbf\">[07/01/24 11:51:23] </span><span style=\"color: #800000; text-decoration-color: #800000\">WARNING </span> Error in results dispatching - <span style=\"color: #800080; text-decoration-color: #800080; font-weight: bold\">render_boxes_on_frame</span><span style=\"font-weight: bold\">()</span> takes <a href=\"file:///Users/saadia/Documents/DevIA_2024/ShiFuMi_computerVision/venv/lib/python3.9/site-packages/inference/core/interfaces/stream/inference_pipeline.py\" target=\"_blank\"><span style=\"color: #7f7f7f; text-decoration-color: #7f7f7f\">inference_pipeline.py</span></a><span style=\"color: #7f7f7f; text-decoration-color: #7f7f7f\">:</span><a href=\"file:///Users/saadia/Documents/DevIA_2024/ShiFuMi_computerVision/venv/lib/python3.9/site-packages/inference/core/interfaces/stream/inference_pipeline.py#907\" target=\"_blank\"><span style=\"color: #7f7f7f; text-decoration-color: #7f7f7f\">907</span></a>\n",
       "<span style=\"color: #7fbfbf; text-decoration-color: #7fbfbf\">                    </span>         <span style=\"color: #008080; text-decoration-color: #008080; font-weight: bold\">1</span> positional argument but <span style=\"color: #008080; text-decoration-color: #008080; font-weight: bold\">2</span> were given                       <span style=\"color: #7f7f7f; text-decoration-color: #7f7f7f\">                         </span>\n",
       "</pre>\n"
      ],
      "text/plain": [
       "\u001b[2;36m[07/01/24 11:51:23]\u001b[0m\u001b[2;36m \u001b[0m\u001b[31mWARNING \u001b[0m Error in results dispatching - \u001b[1;35mrender_boxes_on_frame\u001b[0m\u001b[1m(\u001b[0m\u001b[1m)\u001b[0m takes \u001b]8;id=522895;file:///Users/saadia/Documents/DevIA_2024/ShiFuMi_computerVision/venv/lib/python3.9/site-packages/inference/core/interfaces/stream/inference_pipeline.py\u001b\\\u001b[2minference_pipeline.py\u001b[0m\u001b]8;;\u001b\\\u001b[2m:\u001b[0m\u001b]8;id=260264;file:///Users/saadia/Documents/DevIA_2024/ShiFuMi_computerVision/venv/lib/python3.9/site-packages/inference/core/interfaces/stream/inference_pipeline.py#907\u001b\\\u001b[2m907\u001b[0m\u001b]8;;\u001b\\\n",
       "\u001b[2;36m                    \u001b[0m         \u001b[1;36m1\u001b[0m positional argument but \u001b[1;36m2\u001b[0m were given                       \u001b[2m                         \u001b[0m\n"
      ]
     },
     "metadata": {},
     "output_type": "display_data"
    },
    {
     "name": "stdout",
     "output_type": "stream",
     "text": [
      "Video frames: 1\n",
      "\n",
      "0: 640x640 (no detections), 175.8ms\n",
      "Speed: 6.0ms preprocess, 175.8ms inference, 0.3ms postprocess per image at shape (1, 3, 640, 640)\n"
     ]
    },
    {
     "data": {
      "text/html": [
       "<pre style=\"white-space:pre;overflow-x:auto;line-height:normal;font-family:Menlo,'DejaVu Sans Mono',consolas,'Courier New',monospace\"><span style=\"color: #7fbfbf; text-decoration-color: #7fbfbf\">[07/01/24 11:51:24] </span><span style=\"color: #800000; text-decoration-color: #800000\">WARNING </span> Error in results dispatching - <span style=\"color: #800080; text-decoration-color: #800080; font-weight: bold\">render_boxes_on_frame</span><span style=\"font-weight: bold\">()</span> takes <a href=\"file:///Users/saadia/Documents/DevIA_2024/ShiFuMi_computerVision/venv/lib/python3.9/site-packages/inference/core/interfaces/stream/inference_pipeline.py\" target=\"_blank\"><span style=\"color: #7f7f7f; text-decoration-color: #7f7f7f\">inference_pipeline.py</span></a><span style=\"color: #7f7f7f; text-decoration-color: #7f7f7f\">:</span><a href=\"file:///Users/saadia/Documents/DevIA_2024/ShiFuMi_computerVision/venv/lib/python3.9/site-packages/inference/core/interfaces/stream/inference_pipeline.py#907\" target=\"_blank\"><span style=\"color: #7f7f7f; text-decoration-color: #7f7f7f\">907</span></a>\n",
       "<span style=\"color: #7fbfbf; text-decoration-color: #7fbfbf\">                    </span>         <span style=\"color: #008080; text-decoration-color: #008080; font-weight: bold\">1</span> positional argument but <span style=\"color: #008080; text-decoration-color: #008080; font-weight: bold\">2</span> were given                       <span style=\"color: #7f7f7f; text-decoration-color: #7f7f7f\">                         </span>\n",
       "</pre>\n"
      ],
      "text/plain": [
       "\u001b[2;36m[07/01/24 11:51:24]\u001b[0m\u001b[2;36m \u001b[0m\u001b[31mWARNING \u001b[0m Error in results dispatching - \u001b[1;35mrender_boxes_on_frame\u001b[0m\u001b[1m(\u001b[0m\u001b[1m)\u001b[0m takes \u001b]8;id=846286;file:///Users/saadia/Documents/DevIA_2024/ShiFuMi_computerVision/venv/lib/python3.9/site-packages/inference/core/interfaces/stream/inference_pipeline.py\u001b\\\u001b[2minference_pipeline.py\u001b[0m\u001b]8;;\u001b\\\u001b[2m:\u001b[0m\u001b]8;id=754066;file:///Users/saadia/Documents/DevIA_2024/ShiFuMi_computerVision/venv/lib/python3.9/site-packages/inference/core/interfaces/stream/inference_pipeline.py#907\u001b\\\u001b[2m907\u001b[0m\u001b]8;;\u001b\\\n",
       "\u001b[2;36m                    \u001b[0m         \u001b[1;36m1\u001b[0m positional argument but \u001b[1;36m2\u001b[0m were given                       \u001b[2m                         \u001b[0m\n"
      ]
     },
     "metadata": {},
     "output_type": "display_data"
    },
    {
     "name": "stdout",
     "output_type": "stream",
     "text": [
      "Video frames: 1\n",
      "\n",
      "0: 640x640 (no detections), 178.6ms\n",
      "Speed: 7.4ms preprocess, 178.6ms inference, 0.3ms postprocess per image at shape (1, 3, 640, 640)\n"
     ]
    },
    {
     "data": {
      "text/html": [
       "<pre style=\"white-space:pre;overflow-x:auto;line-height:normal;font-family:Menlo,'DejaVu Sans Mono',consolas,'Courier New',monospace\"><span style=\"color: #7fbfbf; text-decoration-color: #7fbfbf\">                    </span><span style=\"color: #800000; text-decoration-color: #800000\">WARNING </span> Error in results dispatching - <span style=\"color: #800080; text-decoration-color: #800080; font-weight: bold\">render_boxes_on_frame</span><span style=\"font-weight: bold\">()</span> takes <a href=\"file:///Users/saadia/Documents/DevIA_2024/ShiFuMi_computerVision/venv/lib/python3.9/site-packages/inference/core/interfaces/stream/inference_pipeline.py\" target=\"_blank\"><span style=\"color: #7f7f7f; text-decoration-color: #7f7f7f\">inference_pipeline.py</span></a><span style=\"color: #7f7f7f; text-decoration-color: #7f7f7f\">:</span><a href=\"file:///Users/saadia/Documents/DevIA_2024/ShiFuMi_computerVision/venv/lib/python3.9/site-packages/inference/core/interfaces/stream/inference_pipeline.py#907\" target=\"_blank\"><span style=\"color: #7f7f7f; text-decoration-color: #7f7f7f\">907</span></a>\n",
       "<span style=\"color: #7fbfbf; text-decoration-color: #7fbfbf\">                    </span>         <span style=\"color: #008080; text-decoration-color: #008080; font-weight: bold\">1</span> positional argument but <span style=\"color: #008080; text-decoration-color: #008080; font-weight: bold\">2</span> were given                       <span style=\"color: #7f7f7f; text-decoration-color: #7f7f7f\">                         </span>\n",
       "</pre>\n"
      ],
      "text/plain": [
       "\u001b[2;36m                   \u001b[0m\u001b[2;36m \u001b[0m\u001b[31mWARNING \u001b[0m Error in results dispatching - \u001b[1;35mrender_boxes_on_frame\u001b[0m\u001b[1m(\u001b[0m\u001b[1m)\u001b[0m takes \u001b]8;id=811795;file:///Users/saadia/Documents/DevIA_2024/ShiFuMi_computerVision/venv/lib/python3.9/site-packages/inference/core/interfaces/stream/inference_pipeline.py\u001b\\\u001b[2minference_pipeline.py\u001b[0m\u001b]8;;\u001b\\\u001b[2m:\u001b[0m\u001b]8;id=128272;file:///Users/saadia/Documents/DevIA_2024/ShiFuMi_computerVision/venv/lib/python3.9/site-packages/inference/core/interfaces/stream/inference_pipeline.py#907\u001b\\\u001b[2m907\u001b[0m\u001b]8;;\u001b\\\n",
       "\u001b[2;36m                    \u001b[0m         \u001b[1;36m1\u001b[0m positional argument but \u001b[1;36m2\u001b[0m were given                       \u001b[2m                         \u001b[0m\n"
      ]
     },
     "metadata": {},
     "output_type": "display_data"
    },
    {
     "name": "stdout",
     "output_type": "stream",
     "text": [
      "Video frames: 1\n",
      "\n",
      "0: 640x640 1 Rock, 167.1ms\n",
      "Speed: 3.3ms preprocess, 167.1ms inference, 0.5ms postprocess per image at shape (1, 3, 640, 640)\n",
      "Video frames: 1\n",
      "\n"
     ]
    },
    {
     "data": {
      "text/html": [
       "<pre style=\"white-space:pre;overflow-x:auto;line-height:normal;font-family:Menlo,'DejaVu Sans Mono',consolas,'Courier New',monospace\"><span style=\"color: #7fbfbf; text-decoration-color: #7fbfbf\">                    </span><span style=\"color: #800000; text-decoration-color: #800000\">WARNING </span> Error in results dispatching - <span style=\"color: #800080; text-decoration-color: #800080; font-weight: bold\">render_boxes_on_frame</span><span style=\"font-weight: bold\">()</span> takes <a href=\"file:///Users/saadia/Documents/DevIA_2024/ShiFuMi_computerVision/venv/lib/python3.9/site-packages/inference/core/interfaces/stream/inference_pipeline.py\" target=\"_blank\"><span style=\"color: #7f7f7f; text-decoration-color: #7f7f7f\">inference_pipeline.py</span></a><span style=\"color: #7f7f7f; text-decoration-color: #7f7f7f\">:</span><a href=\"file:///Users/saadia/Documents/DevIA_2024/ShiFuMi_computerVision/venv/lib/python3.9/site-packages/inference/core/interfaces/stream/inference_pipeline.py#907\" target=\"_blank\"><span style=\"color: #7f7f7f; text-decoration-color: #7f7f7f\">907</span></a>\n",
       "<span style=\"color: #7fbfbf; text-decoration-color: #7fbfbf\">                    </span>         <span style=\"color: #008080; text-decoration-color: #008080; font-weight: bold\">1</span> positional argument but <span style=\"color: #008080; text-decoration-color: #008080; font-weight: bold\">2</span> were given                       <span style=\"color: #7f7f7f; text-decoration-color: #7f7f7f\">                         </span>\n",
       "</pre>\n"
      ],
      "text/plain": [
       "\u001b[2;36m                   \u001b[0m\u001b[2;36m \u001b[0m\u001b[31mWARNING \u001b[0m Error in results dispatching - \u001b[1;35mrender_boxes_on_frame\u001b[0m\u001b[1m(\u001b[0m\u001b[1m)\u001b[0m takes \u001b]8;id=157576;file:///Users/saadia/Documents/DevIA_2024/ShiFuMi_computerVision/venv/lib/python3.9/site-packages/inference/core/interfaces/stream/inference_pipeline.py\u001b\\\u001b[2minference_pipeline.py\u001b[0m\u001b]8;;\u001b\\\u001b[2m:\u001b[0m\u001b]8;id=5038;file:///Users/saadia/Documents/DevIA_2024/ShiFuMi_computerVision/venv/lib/python3.9/site-packages/inference/core/interfaces/stream/inference_pipeline.py#907\u001b\\\u001b[2m907\u001b[0m\u001b]8;;\u001b\\\n",
       "\u001b[2;36m                    \u001b[0m         \u001b[1;36m1\u001b[0m positional argument but \u001b[1;36m2\u001b[0m were given                       \u001b[2m                         \u001b[0m\n"
      ]
     },
     "metadata": {},
     "output_type": "display_data"
    },
    {
     "name": "stdout",
     "output_type": "stream",
     "text": [
      "0: 640x640 1 Rock, 156.6ms\n",
      "Speed: 1.9ms preprocess, 156.6ms inference, 0.4ms postprocess per image at shape (1, 3, 640, 640)\n",
      "Video frames: 1\n",
      "\n"
     ]
    },
    {
     "data": {
      "text/html": [
       "<pre style=\"white-space:pre;overflow-x:auto;line-height:normal;font-family:Menlo,'DejaVu Sans Mono',consolas,'Courier New',monospace\"><span style=\"color: #7fbfbf; text-decoration-color: #7fbfbf\">[07/01/24 11:51:25] </span><span style=\"color: #800000; text-decoration-color: #800000\">WARNING </span> Error in results dispatching - <span style=\"color: #800080; text-decoration-color: #800080; font-weight: bold\">render_boxes_on_frame</span><span style=\"font-weight: bold\">()</span> takes <a href=\"file:///Users/saadia/Documents/DevIA_2024/ShiFuMi_computerVision/venv/lib/python3.9/site-packages/inference/core/interfaces/stream/inference_pipeline.py\" target=\"_blank\"><span style=\"color: #7f7f7f; text-decoration-color: #7f7f7f\">inference_pipeline.py</span></a><span style=\"color: #7f7f7f; text-decoration-color: #7f7f7f\">:</span><a href=\"file:///Users/saadia/Documents/DevIA_2024/ShiFuMi_computerVision/venv/lib/python3.9/site-packages/inference/core/interfaces/stream/inference_pipeline.py#907\" target=\"_blank\"><span style=\"color: #7f7f7f; text-decoration-color: #7f7f7f\">907</span></a>\n",
       "<span style=\"color: #7fbfbf; text-decoration-color: #7fbfbf\">                    </span>         <span style=\"color: #008080; text-decoration-color: #008080; font-weight: bold\">1</span> positional argument but <span style=\"color: #008080; text-decoration-color: #008080; font-weight: bold\">2</span> were given                       <span style=\"color: #7f7f7f; text-decoration-color: #7f7f7f\">                         </span>\n",
       "</pre>\n"
      ],
      "text/plain": [
       "\u001b[2;36m[07/01/24 11:51:25]\u001b[0m\u001b[2;36m \u001b[0m\u001b[31mWARNING \u001b[0m Error in results dispatching - \u001b[1;35mrender_boxes_on_frame\u001b[0m\u001b[1m(\u001b[0m\u001b[1m)\u001b[0m takes \u001b]8;id=122335;file:///Users/saadia/Documents/DevIA_2024/ShiFuMi_computerVision/venv/lib/python3.9/site-packages/inference/core/interfaces/stream/inference_pipeline.py\u001b\\\u001b[2minference_pipeline.py\u001b[0m\u001b]8;;\u001b\\\u001b[2m:\u001b[0m\u001b]8;id=890866;file:///Users/saadia/Documents/DevIA_2024/ShiFuMi_computerVision/venv/lib/python3.9/site-packages/inference/core/interfaces/stream/inference_pipeline.py#907\u001b\\\u001b[2m907\u001b[0m\u001b]8;;\u001b\\\n",
       "\u001b[2;36m                    \u001b[0m         \u001b[1;36m1\u001b[0m positional argument but \u001b[1;36m2\u001b[0m were given                       \u001b[2m                         \u001b[0m\n"
      ]
     },
     "metadata": {},
     "output_type": "display_data"
    },
    {
     "name": "stdout",
     "output_type": "stream",
     "text": [
      "0: 640x640 (no detections), 148.7ms\n",
      "Speed: 6.4ms preprocess, 148.7ms inference, 0.4ms postprocess per image at shape (1, 3, 640, 640)\n",
      "Video frames: 1\n",
      "\n"
     ]
    },
    {
     "data": {
      "text/html": [
       "<pre style=\"white-space:pre;overflow-x:auto;line-height:normal;font-family:Menlo,'DejaVu Sans Mono',consolas,'Courier New',monospace\"><span style=\"color: #7fbfbf; text-decoration-color: #7fbfbf\">                    </span><span style=\"color: #800000; text-decoration-color: #800000\">WARNING </span> Error in results dispatching - <span style=\"color: #800080; text-decoration-color: #800080; font-weight: bold\">render_boxes_on_frame</span><span style=\"font-weight: bold\">()</span> takes <a href=\"file:///Users/saadia/Documents/DevIA_2024/ShiFuMi_computerVision/venv/lib/python3.9/site-packages/inference/core/interfaces/stream/inference_pipeline.py\" target=\"_blank\"><span style=\"color: #7f7f7f; text-decoration-color: #7f7f7f\">inference_pipeline.py</span></a><span style=\"color: #7f7f7f; text-decoration-color: #7f7f7f\">:</span><a href=\"file:///Users/saadia/Documents/DevIA_2024/ShiFuMi_computerVision/venv/lib/python3.9/site-packages/inference/core/interfaces/stream/inference_pipeline.py#907\" target=\"_blank\"><span style=\"color: #7f7f7f; text-decoration-color: #7f7f7f\">907</span></a>\n",
       "<span style=\"color: #7fbfbf; text-decoration-color: #7fbfbf\">                    </span>         <span style=\"color: #008080; text-decoration-color: #008080; font-weight: bold\">1</span> positional argument but <span style=\"color: #008080; text-decoration-color: #008080; font-weight: bold\">2</span> were given                       <span style=\"color: #7f7f7f; text-decoration-color: #7f7f7f\">                         </span>\n",
       "</pre>\n"
      ],
      "text/plain": [
       "\u001b[2;36m                   \u001b[0m\u001b[2;36m \u001b[0m\u001b[31mWARNING \u001b[0m Error in results dispatching - \u001b[1;35mrender_boxes_on_frame\u001b[0m\u001b[1m(\u001b[0m\u001b[1m)\u001b[0m takes \u001b]8;id=899412;file:///Users/saadia/Documents/DevIA_2024/ShiFuMi_computerVision/venv/lib/python3.9/site-packages/inference/core/interfaces/stream/inference_pipeline.py\u001b\\\u001b[2minference_pipeline.py\u001b[0m\u001b]8;;\u001b\\\u001b[2m:\u001b[0m\u001b]8;id=792432;file:///Users/saadia/Documents/DevIA_2024/ShiFuMi_computerVision/venv/lib/python3.9/site-packages/inference/core/interfaces/stream/inference_pipeline.py#907\u001b\\\u001b[2m907\u001b[0m\u001b]8;;\u001b\\\n",
       "\u001b[2;36m                    \u001b[0m         \u001b[1;36m1\u001b[0m positional argument but \u001b[1;36m2\u001b[0m were given                       \u001b[2m                         \u001b[0m\n"
      ]
     },
     "metadata": {},
     "output_type": "display_data"
    },
    {
     "name": "stdout",
     "output_type": "stream",
     "text": [
      "0: 640x640 (no detections), 144.5ms\n",
      "Speed: 1.9ms preprocess, 144.5ms inference, 0.4ms postprocess per image at shape (1, 3, 640, 640)\n",
      "Video frames: 1\n",
      "\n"
     ]
    },
    {
     "data": {
      "text/html": [
       "<pre style=\"white-space:pre;overflow-x:auto;line-height:normal;font-family:Menlo,'DejaVu Sans Mono',consolas,'Courier New',monospace\"><span style=\"color: #7fbfbf; text-decoration-color: #7fbfbf\">                    </span><span style=\"color: #800000; text-decoration-color: #800000\">WARNING </span> Error in results dispatching - <span style=\"color: #800080; text-decoration-color: #800080; font-weight: bold\">render_boxes_on_frame</span><span style=\"font-weight: bold\">()</span> takes <a href=\"file:///Users/saadia/Documents/DevIA_2024/ShiFuMi_computerVision/venv/lib/python3.9/site-packages/inference/core/interfaces/stream/inference_pipeline.py\" target=\"_blank\"><span style=\"color: #7f7f7f; text-decoration-color: #7f7f7f\">inference_pipeline.py</span></a><span style=\"color: #7f7f7f; text-decoration-color: #7f7f7f\">:</span><a href=\"file:///Users/saadia/Documents/DevIA_2024/ShiFuMi_computerVision/venv/lib/python3.9/site-packages/inference/core/interfaces/stream/inference_pipeline.py#907\" target=\"_blank\"><span style=\"color: #7f7f7f; text-decoration-color: #7f7f7f\">907</span></a>\n",
       "<span style=\"color: #7fbfbf; text-decoration-color: #7fbfbf\">                    </span>         <span style=\"color: #008080; text-decoration-color: #008080; font-weight: bold\">1</span> positional argument but <span style=\"color: #008080; text-decoration-color: #008080; font-weight: bold\">2</span> were given                       <span style=\"color: #7f7f7f; text-decoration-color: #7f7f7f\">                         </span>\n",
       "</pre>\n"
      ],
      "text/plain": [
       "\u001b[2;36m                   \u001b[0m\u001b[2;36m \u001b[0m\u001b[31mWARNING \u001b[0m Error in results dispatching - \u001b[1;35mrender_boxes_on_frame\u001b[0m\u001b[1m(\u001b[0m\u001b[1m)\u001b[0m takes \u001b]8;id=850804;file:///Users/saadia/Documents/DevIA_2024/ShiFuMi_computerVision/venv/lib/python3.9/site-packages/inference/core/interfaces/stream/inference_pipeline.py\u001b\\\u001b[2minference_pipeline.py\u001b[0m\u001b]8;;\u001b\\\u001b[2m:\u001b[0m\u001b]8;id=148169;file:///Users/saadia/Documents/DevIA_2024/ShiFuMi_computerVision/venv/lib/python3.9/site-packages/inference/core/interfaces/stream/inference_pipeline.py#907\u001b\\\u001b[2m907\u001b[0m\u001b]8;;\u001b\\\n",
       "\u001b[2;36m                    \u001b[0m         \u001b[1;36m1\u001b[0m positional argument but \u001b[1;36m2\u001b[0m were given                       \u001b[2m                         \u001b[0m\n"
      ]
     },
     "metadata": {},
     "output_type": "display_data"
    },
    {
     "name": "stdout",
     "output_type": "stream",
     "text": [
      "0: 640x640 (no detections), 151.3ms\n",
      "Speed: 2.4ms preprocess, 151.3ms inference, 0.4ms postprocess per image at shape (1, 3, 640, 640)\n",
      "Video frames: 1\n",
      "\n"
     ]
    },
    {
     "data": {
      "text/html": [
       "<pre style=\"white-space:pre;overflow-x:auto;line-height:normal;font-family:Menlo,'DejaVu Sans Mono',consolas,'Courier New',monospace\"><span style=\"color: #7fbfbf; text-decoration-color: #7fbfbf\">                    </span><span style=\"color: #800000; text-decoration-color: #800000\">WARNING </span> Error in results dispatching - <span style=\"color: #800080; text-decoration-color: #800080; font-weight: bold\">render_boxes_on_frame</span><span style=\"font-weight: bold\">()</span> takes <a href=\"file:///Users/saadia/Documents/DevIA_2024/ShiFuMi_computerVision/venv/lib/python3.9/site-packages/inference/core/interfaces/stream/inference_pipeline.py\" target=\"_blank\"><span style=\"color: #7f7f7f; text-decoration-color: #7f7f7f\">inference_pipeline.py</span></a><span style=\"color: #7f7f7f; text-decoration-color: #7f7f7f\">:</span><a href=\"file:///Users/saadia/Documents/DevIA_2024/ShiFuMi_computerVision/venv/lib/python3.9/site-packages/inference/core/interfaces/stream/inference_pipeline.py#907\" target=\"_blank\"><span style=\"color: #7f7f7f; text-decoration-color: #7f7f7f\">907</span></a>\n",
       "<span style=\"color: #7fbfbf; text-decoration-color: #7fbfbf\">                    </span>         <span style=\"color: #008080; text-decoration-color: #008080; font-weight: bold\">1</span> positional argument but <span style=\"color: #008080; text-decoration-color: #008080; font-weight: bold\">2</span> were given                       <span style=\"color: #7f7f7f; text-decoration-color: #7f7f7f\">                         </span>\n",
       "</pre>\n"
      ],
      "text/plain": [
       "\u001b[2;36m                   \u001b[0m\u001b[2;36m \u001b[0m\u001b[31mWARNING \u001b[0m Error in results dispatching - \u001b[1;35mrender_boxes_on_frame\u001b[0m\u001b[1m(\u001b[0m\u001b[1m)\u001b[0m takes \u001b]8;id=322382;file:///Users/saadia/Documents/DevIA_2024/ShiFuMi_computerVision/venv/lib/python3.9/site-packages/inference/core/interfaces/stream/inference_pipeline.py\u001b\\\u001b[2minference_pipeline.py\u001b[0m\u001b]8;;\u001b\\\u001b[2m:\u001b[0m\u001b]8;id=248304;file:///Users/saadia/Documents/DevIA_2024/ShiFuMi_computerVision/venv/lib/python3.9/site-packages/inference/core/interfaces/stream/inference_pipeline.py#907\u001b\\\u001b[2m907\u001b[0m\u001b]8;;\u001b\\\n",
       "\u001b[2;36m                    \u001b[0m         \u001b[1;36m1\u001b[0m positional argument but \u001b[1;36m2\u001b[0m were given                       \u001b[2m                         \u001b[0m\n"
      ]
     },
     "metadata": {},
     "output_type": "display_data"
    },
    {
     "name": "stdout",
     "output_type": "stream",
     "text": [
      "0: 640x640 (no detections), 149.0ms\n",
      "Speed: 2.1ms preprocess, 149.0ms inference, 0.4ms postprocess per image at shape (1, 3, 640, 640)\n",
      "Video frames: 1\n",
      "\n"
     ]
    },
    {
     "data": {
      "text/html": [
       "<pre style=\"white-space:pre;overflow-x:auto;line-height:normal;font-family:Menlo,'DejaVu Sans Mono',consolas,'Courier New',monospace\"><span style=\"color: #7fbfbf; text-decoration-color: #7fbfbf\">                    </span><span style=\"color: #800000; text-decoration-color: #800000\">WARNING </span> Error in results dispatching - <span style=\"color: #800080; text-decoration-color: #800080; font-weight: bold\">render_boxes_on_frame</span><span style=\"font-weight: bold\">()</span> takes <a href=\"file:///Users/saadia/Documents/DevIA_2024/ShiFuMi_computerVision/venv/lib/python3.9/site-packages/inference/core/interfaces/stream/inference_pipeline.py\" target=\"_blank\"><span style=\"color: #7f7f7f; text-decoration-color: #7f7f7f\">inference_pipeline.py</span></a><span style=\"color: #7f7f7f; text-decoration-color: #7f7f7f\">:</span><a href=\"file:///Users/saadia/Documents/DevIA_2024/ShiFuMi_computerVision/venv/lib/python3.9/site-packages/inference/core/interfaces/stream/inference_pipeline.py#907\" target=\"_blank\"><span style=\"color: #7f7f7f; text-decoration-color: #7f7f7f\">907</span></a>\n",
       "<span style=\"color: #7fbfbf; text-decoration-color: #7fbfbf\">                    </span>         <span style=\"color: #008080; text-decoration-color: #008080; font-weight: bold\">1</span> positional argument but <span style=\"color: #008080; text-decoration-color: #008080; font-weight: bold\">2</span> were given                       <span style=\"color: #7f7f7f; text-decoration-color: #7f7f7f\">                         </span>\n",
       "</pre>\n"
      ],
      "text/plain": [
       "\u001b[2;36m                   \u001b[0m\u001b[2;36m \u001b[0m\u001b[31mWARNING \u001b[0m Error in results dispatching - \u001b[1;35mrender_boxes_on_frame\u001b[0m\u001b[1m(\u001b[0m\u001b[1m)\u001b[0m takes \u001b]8;id=383200;file:///Users/saadia/Documents/DevIA_2024/ShiFuMi_computerVision/venv/lib/python3.9/site-packages/inference/core/interfaces/stream/inference_pipeline.py\u001b\\\u001b[2minference_pipeline.py\u001b[0m\u001b]8;;\u001b\\\u001b[2m:\u001b[0m\u001b]8;id=237764;file:///Users/saadia/Documents/DevIA_2024/ShiFuMi_computerVision/venv/lib/python3.9/site-packages/inference/core/interfaces/stream/inference_pipeline.py#907\u001b\\\u001b[2m907\u001b[0m\u001b]8;;\u001b\\\n",
       "\u001b[2;36m                    \u001b[0m         \u001b[1;36m1\u001b[0m positional argument but \u001b[1;36m2\u001b[0m were given                       \u001b[2m                         \u001b[0m\n"
      ]
     },
     "metadata": {},
     "output_type": "display_data"
    },
    {
     "name": "stdout",
     "output_type": "stream",
     "text": [
      "0: 640x640 (no detections), 151.3ms\n",
      "Speed: 2.4ms preprocess, 151.3ms inference, 0.3ms postprocess per image at shape (1, 3, 640, 640)\n",
      "Video frames: 1\n",
      "\n"
     ]
    },
    {
     "data": {
      "text/html": [
       "<pre style=\"white-space:pre;overflow-x:auto;line-height:normal;font-family:Menlo,'DejaVu Sans Mono',consolas,'Courier New',monospace\"><span style=\"color: #7fbfbf; text-decoration-color: #7fbfbf\">                    </span><span style=\"color: #800000; text-decoration-color: #800000\">WARNING </span> Error in results dispatching - <span style=\"color: #800080; text-decoration-color: #800080; font-weight: bold\">render_boxes_on_frame</span><span style=\"font-weight: bold\">()</span> takes <a href=\"file:///Users/saadia/Documents/DevIA_2024/ShiFuMi_computerVision/venv/lib/python3.9/site-packages/inference/core/interfaces/stream/inference_pipeline.py\" target=\"_blank\"><span style=\"color: #7f7f7f; text-decoration-color: #7f7f7f\">inference_pipeline.py</span></a><span style=\"color: #7f7f7f; text-decoration-color: #7f7f7f\">:</span><a href=\"file:///Users/saadia/Documents/DevIA_2024/ShiFuMi_computerVision/venv/lib/python3.9/site-packages/inference/core/interfaces/stream/inference_pipeline.py#907\" target=\"_blank\"><span style=\"color: #7f7f7f; text-decoration-color: #7f7f7f\">907</span></a>\n",
       "<span style=\"color: #7fbfbf; text-decoration-color: #7fbfbf\">                    </span>         <span style=\"color: #008080; text-decoration-color: #008080; font-weight: bold\">1</span> positional argument but <span style=\"color: #008080; text-decoration-color: #008080; font-weight: bold\">2</span> were given                       <span style=\"color: #7f7f7f; text-decoration-color: #7f7f7f\">                         </span>\n",
       "</pre>\n"
      ],
      "text/plain": [
       "\u001b[2;36m                   \u001b[0m\u001b[2;36m \u001b[0m\u001b[31mWARNING \u001b[0m Error in results dispatching - \u001b[1;35mrender_boxes_on_frame\u001b[0m\u001b[1m(\u001b[0m\u001b[1m)\u001b[0m takes \u001b]8;id=910802;file:///Users/saadia/Documents/DevIA_2024/ShiFuMi_computerVision/venv/lib/python3.9/site-packages/inference/core/interfaces/stream/inference_pipeline.py\u001b\\\u001b[2minference_pipeline.py\u001b[0m\u001b]8;;\u001b\\\u001b[2m:\u001b[0m\u001b]8;id=880816;file:///Users/saadia/Documents/DevIA_2024/ShiFuMi_computerVision/venv/lib/python3.9/site-packages/inference/core/interfaces/stream/inference_pipeline.py#907\u001b\\\u001b[2m907\u001b[0m\u001b]8;;\u001b\\\n",
       "\u001b[2;36m                    \u001b[0m         \u001b[1;36m1\u001b[0m positional argument but \u001b[1;36m2\u001b[0m were given                       \u001b[2m                         \u001b[0m\n"
      ]
     },
     "metadata": {},
     "output_type": "display_data"
    },
    {
     "name": "stdout",
     "output_type": "stream",
     "text": [
      "0: 640x640 (no detections), 148.4ms\n",
      "Speed: 2.1ms preprocess, 148.4ms inference, 0.2ms postprocess per image at shape (1, 3, 640, 640)\n",
      "Video frames: 1\n",
      "\n"
     ]
    },
    {
     "data": {
      "text/html": [
       "<pre style=\"white-space:pre;overflow-x:auto;line-height:normal;font-family:Menlo,'DejaVu Sans Mono',consolas,'Courier New',monospace\"><span style=\"color: #7fbfbf; text-decoration-color: #7fbfbf\">[07/01/24 11:51:26] </span><span style=\"color: #800000; text-decoration-color: #800000\">WARNING </span> Error in results dispatching - <span style=\"color: #800080; text-decoration-color: #800080; font-weight: bold\">render_boxes_on_frame</span><span style=\"font-weight: bold\">()</span> takes <a href=\"file:///Users/saadia/Documents/DevIA_2024/ShiFuMi_computerVision/venv/lib/python3.9/site-packages/inference/core/interfaces/stream/inference_pipeline.py\" target=\"_blank\"><span style=\"color: #7f7f7f; text-decoration-color: #7f7f7f\">inference_pipeline.py</span></a><span style=\"color: #7f7f7f; text-decoration-color: #7f7f7f\">:</span><a href=\"file:///Users/saadia/Documents/DevIA_2024/ShiFuMi_computerVision/venv/lib/python3.9/site-packages/inference/core/interfaces/stream/inference_pipeline.py#907\" target=\"_blank\"><span style=\"color: #7f7f7f; text-decoration-color: #7f7f7f\">907</span></a>\n",
       "<span style=\"color: #7fbfbf; text-decoration-color: #7fbfbf\">                    </span>         <span style=\"color: #008080; text-decoration-color: #008080; font-weight: bold\">1</span> positional argument but <span style=\"color: #008080; text-decoration-color: #008080; font-weight: bold\">2</span> were given                       <span style=\"color: #7f7f7f; text-decoration-color: #7f7f7f\">                         </span>\n",
       "</pre>\n"
      ],
      "text/plain": [
       "\u001b[2;36m[07/01/24 11:51:26]\u001b[0m\u001b[2;36m \u001b[0m\u001b[31mWARNING \u001b[0m Error in results dispatching - \u001b[1;35mrender_boxes_on_frame\u001b[0m\u001b[1m(\u001b[0m\u001b[1m)\u001b[0m takes \u001b]8;id=357675;file:///Users/saadia/Documents/DevIA_2024/ShiFuMi_computerVision/venv/lib/python3.9/site-packages/inference/core/interfaces/stream/inference_pipeline.py\u001b\\\u001b[2minference_pipeline.py\u001b[0m\u001b]8;;\u001b\\\u001b[2m:\u001b[0m\u001b]8;id=724776;file:///Users/saadia/Documents/DevIA_2024/ShiFuMi_computerVision/venv/lib/python3.9/site-packages/inference/core/interfaces/stream/inference_pipeline.py#907\u001b\\\u001b[2m907\u001b[0m\u001b]8;;\u001b\\\n",
       "\u001b[2;36m                    \u001b[0m         \u001b[1;36m1\u001b[0m positional argument but \u001b[1;36m2\u001b[0m were given                       \u001b[2m                         \u001b[0m\n"
      ]
     },
     "metadata": {},
     "output_type": "display_data"
    },
    {
     "name": "stdout",
     "output_type": "stream",
     "text": [
      "0: 640x640 (no detections), 153.6ms\n",
      "Speed: 2.1ms preprocess, 153.6ms inference, 0.2ms postprocess per image at shape (1, 3, 640, 640)\n",
      "Video frames: 1\n",
      "\n"
     ]
    },
    {
     "data": {
      "text/html": [
       "<pre style=\"white-space:pre;overflow-x:auto;line-height:normal;font-family:Menlo,'DejaVu Sans Mono',consolas,'Courier New',monospace\"><span style=\"color: #7fbfbf; text-decoration-color: #7fbfbf\">                    </span><span style=\"color: #800000; text-decoration-color: #800000\">WARNING </span> Error in results dispatching - <span style=\"color: #800080; text-decoration-color: #800080; font-weight: bold\">render_boxes_on_frame</span><span style=\"font-weight: bold\">()</span> takes <a href=\"file:///Users/saadia/Documents/DevIA_2024/ShiFuMi_computerVision/venv/lib/python3.9/site-packages/inference/core/interfaces/stream/inference_pipeline.py\" target=\"_blank\"><span style=\"color: #7f7f7f; text-decoration-color: #7f7f7f\">inference_pipeline.py</span></a><span style=\"color: #7f7f7f; text-decoration-color: #7f7f7f\">:</span><a href=\"file:///Users/saadia/Documents/DevIA_2024/ShiFuMi_computerVision/venv/lib/python3.9/site-packages/inference/core/interfaces/stream/inference_pipeline.py#907\" target=\"_blank\"><span style=\"color: #7f7f7f; text-decoration-color: #7f7f7f\">907</span></a>\n",
       "<span style=\"color: #7fbfbf; text-decoration-color: #7fbfbf\">                    </span>         <span style=\"color: #008080; text-decoration-color: #008080; font-weight: bold\">1</span> positional argument but <span style=\"color: #008080; text-decoration-color: #008080; font-weight: bold\">2</span> were given                       <span style=\"color: #7f7f7f; text-decoration-color: #7f7f7f\">                         </span>\n",
       "</pre>\n"
      ],
      "text/plain": [
       "\u001b[2;36m                   \u001b[0m\u001b[2;36m \u001b[0m\u001b[31mWARNING \u001b[0m Error in results dispatching - \u001b[1;35mrender_boxes_on_frame\u001b[0m\u001b[1m(\u001b[0m\u001b[1m)\u001b[0m takes \u001b]8;id=577061;file:///Users/saadia/Documents/DevIA_2024/ShiFuMi_computerVision/venv/lib/python3.9/site-packages/inference/core/interfaces/stream/inference_pipeline.py\u001b\\\u001b[2minference_pipeline.py\u001b[0m\u001b]8;;\u001b\\\u001b[2m:\u001b[0m\u001b]8;id=418968;file:///Users/saadia/Documents/DevIA_2024/ShiFuMi_computerVision/venv/lib/python3.9/site-packages/inference/core/interfaces/stream/inference_pipeline.py#907\u001b\\\u001b[2m907\u001b[0m\u001b]8;;\u001b\\\n",
       "\u001b[2;36m                    \u001b[0m         \u001b[1;36m1\u001b[0m positional argument but \u001b[1;36m2\u001b[0m were given                       \u001b[2m                         \u001b[0m\n"
      ]
     },
     "metadata": {},
     "output_type": "display_data"
    },
    {
     "name": "stdout",
     "output_type": "stream",
     "text": [
      "0: 640x640 (no detections), 148.6ms\n",
      "Speed: 2.0ms preprocess, 148.6ms inference, 0.3ms postprocess per image at shape (1, 3, 640, 640)\n",
      "Video frames: 1\n",
      "\n"
     ]
    },
    {
     "data": {
      "text/html": [
       "<pre style=\"white-space:pre;overflow-x:auto;line-height:normal;font-family:Menlo,'DejaVu Sans Mono',consolas,'Courier New',monospace\"><span style=\"color: #7fbfbf; text-decoration-color: #7fbfbf\">                    </span><span style=\"color: #800000; text-decoration-color: #800000\">WARNING </span> Error in results dispatching - <span style=\"color: #800080; text-decoration-color: #800080; font-weight: bold\">render_boxes_on_frame</span><span style=\"font-weight: bold\">()</span> takes <a href=\"file:///Users/saadia/Documents/DevIA_2024/ShiFuMi_computerVision/venv/lib/python3.9/site-packages/inference/core/interfaces/stream/inference_pipeline.py\" target=\"_blank\"><span style=\"color: #7f7f7f; text-decoration-color: #7f7f7f\">inference_pipeline.py</span></a><span style=\"color: #7f7f7f; text-decoration-color: #7f7f7f\">:</span><a href=\"file:///Users/saadia/Documents/DevIA_2024/ShiFuMi_computerVision/venv/lib/python3.9/site-packages/inference/core/interfaces/stream/inference_pipeline.py#907\" target=\"_blank\"><span style=\"color: #7f7f7f; text-decoration-color: #7f7f7f\">907</span></a>\n",
       "<span style=\"color: #7fbfbf; text-decoration-color: #7fbfbf\">                    </span>         <span style=\"color: #008080; text-decoration-color: #008080; font-weight: bold\">1</span> positional argument but <span style=\"color: #008080; text-decoration-color: #008080; font-weight: bold\">2</span> were given                       <span style=\"color: #7f7f7f; text-decoration-color: #7f7f7f\">                         </span>\n",
       "</pre>\n"
      ],
      "text/plain": [
       "\u001b[2;36m                   \u001b[0m\u001b[2;36m \u001b[0m\u001b[31mWARNING \u001b[0m Error in results dispatching - \u001b[1;35mrender_boxes_on_frame\u001b[0m\u001b[1m(\u001b[0m\u001b[1m)\u001b[0m takes \u001b]8;id=622887;file:///Users/saadia/Documents/DevIA_2024/ShiFuMi_computerVision/venv/lib/python3.9/site-packages/inference/core/interfaces/stream/inference_pipeline.py\u001b\\\u001b[2minference_pipeline.py\u001b[0m\u001b]8;;\u001b\\\u001b[2m:\u001b[0m\u001b]8;id=973323;file:///Users/saadia/Documents/DevIA_2024/ShiFuMi_computerVision/venv/lib/python3.9/site-packages/inference/core/interfaces/stream/inference_pipeline.py#907\u001b\\\u001b[2m907\u001b[0m\u001b]8;;\u001b\\\n",
       "\u001b[2;36m                    \u001b[0m         \u001b[1;36m1\u001b[0m positional argument but \u001b[1;36m2\u001b[0m were given                       \u001b[2m                         \u001b[0m\n"
      ]
     },
     "metadata": {},
     "output_type": "display_data"
    },
    {
     "name": "stdout",
     "output_type": "stream",
     "text": [
      "0: 640x640 (no detections), 157.5ms\n",
      "Speed: 2.2ms preprocess, 157.5ms inference, 0.2ms postprocess per image at shape (1, 3, 640, 640)\n",
      "Video frames: 1\n",
      "\n"
     ]
    },
    {
     "data": {
      "text/html": [
       "<pre style=\"white-space:pre;overflow-x:auto;line-height:normal;font-family:Menlo,'DejaVu Sans Mono',consolas,'Courier New',monospace\"><span style=\"color: #7fbfbf; text-decoration-color: #7fbfbf\">                    </span><span style=\"color: #800000; text-decoration-color: #800000\">WARNING </span> Error in results dispatching - <span style=\"color: #800080; text-decoration-color: #800080; font-weight: bold\">render_boxes_on_frame</span><span style=\"font-weight: bold\">()</span> takes <a href=\"file:///Users/saadia/Documents/DevIA_2024/ShiFuMi_computerVision/venv/lib/python3.9/site-packages/inference/core/interfaces/stream/inference_pipeline.py\" target=\"_blank\"><span style=\"color: #7f7f7f; text-decoration-color: #7f7f7f\">inference_pipeline.py</span></a><span style=\"color: #7f7f7f; text-decoration-color: #7f7f7f\">:</span><a href=\"file:///Users/saadia/Documents/DevIA_2024/ShiFuMi_computerVision/venv/lib/python3.9/site-packages/inference/core/interfaces/stream/inference_pipeline.py#907\" target=\"_blank\"><span style=\"color: #7f7f7f; text-decoration-color: #7f7f7f\">907</span></a>\n",
       "<span style=\"color: #7fbfbf; text-decoration-color: #7fbfbf\">                    </span>         <span style=\"color: #008080; text-decoration-color: #008080; font-weight: bold\">1</span> positional argument but <span style=\"color: #008080; text-decoration-color: #008080; font-weight: bold\">2</span> were given                       <span style=\"color: #7f7f7f; text-decoration-color: #7f7f7f\">                         </span>\n",
       "</pre>\n"
      ],
      "text/plain": [
       "\u001b[2;36m                   \u001b[0m\u001b[2;36m \u001b[0m\u001b[31mWARNING \u001b[0m Error in results dispatching - \u001b[1;35mrender_boxes_on_frame\u001b[0m\u001b[1m(\u001b[0m\u001b[1m)\u001b[0m takes \u001b]8;id=196312;file:///Users/saadia/Documents/DevIA_2024/ShiFuMi_computerVision/venv/lib/python3.9/site-packages/inference/core/interfaces/stream/inference_pipeline.py\u001b\\\u001b[2minference_pipeline.py\u001b[0m\u001b]8;;\u001b\\\u001b[2m:\u001b[0m\u001b]8;id=62084;file:///Users/saadia/Documents/DevIA_2024/ShiFuMi_computerVision/venv/lib/python3.9/site-packages/inference/core/interfaces/stream/inference_pipeline.py#907\u001b\\\u001b[2m907\u001b[0m\u001b]8;;\u001b\\\n",
       "\u001b[2;36m                    \u001b[0m         \u001b[1;36m1\u001b[0m positional argument but \u001b[1;36m2\u001b[0m were given                       \u001b[2m                         \u001b[0m\n"
      ]
     },
     "metadata": {},
     "output_type": "display_data"
    },
    {
     "name": "stdout",
     "output_type": "stream",
     "text": [
      "0: 640x640 (no detections), 147.3ms\n",
      "Speed: 1.9ms preprocess, 147.3ms inference, 0.3ms postprocess per image at shape (1, 3, 640, 640)\n",
      "Video frames: 1\n",
      "\n"
     ]
    },
    {
     "data": {
      "text/html": [
       "<pre style=\"white-space:pre;overflow-x:auto;line-height:normal;font-family:Menlo,'DejaVu Sans Mono',consolas,'Courier New',monospace\"><span style=\"color: #7fbfbf; text-decoration-color: #7fbfbf\">                    </span><span style=\"color: #800000; text-decoration-color: #800000\">WARNING </span> Error in results dispatching - <span style=\"color: #800080; text-decoration-color: #800080; font-weight: bold\">render_boxes_on_frame</span><span style=\"font-weight: bold\">()</span> takes <a href=\"file:///Users/saadia/Documents/DevIA_2024/ShiFuMi_computerVision/venv/lib/python3.9/site-packages/inference/core/interfaces/stream/inference_pipeline.py\" target=\"_blank\"><span style=\"color: #7f7f7f; text-decoration-color: #7f7f7f\">inference_pipeline.py</span></a><span style=\"color: #7f7f7f; text-decoration-color: #7f7f7f\">:</span><a href=\"file:///Users/saadia/Documents/DevIA_2024/ShiFuMi_computerVision/venv/lib/python3.9/site-packages/inference/core/interfaces/stream/inference_pipeline.py#907\" target=\"_blank\"><span style=\"color: #7f7f7f; text-decoration-color: #7f7f7f\">907</span></a>\n",
       "<span style=\"color: #7fbfbf; text-decoration-color: #7fbfbf\">                    </span>         <span style=\"color: #008080; text-decoration-color: #008080; font-weight: bold\">1</span> positional argument but <span style=\"color: #008080; text-decoration-color: #008080; font-weight: bold\">2</span> were given                       <span style=\"color: #7f7f7f; text-decoration-color: #7f7f7f\">                         </span>\n",
       "</pre>\n"
      ],
      "text/plain": [
       "\u001b[2;36m                   \u001b[0m\u001b[2;36m \u001b[0m\u001b[31mWARNING \u001b[0m Error in results dispatching - \u001b[1;35mrender_boxes_on_frame\u001b[0m\u001b[1m(\u001b[0m\u001b[1m)\u001b[0m takes \u001b]8;id=953953;file:///Users/saadia/Documents/DevIA_2024/ShiFuMi_computerVision/venv/lib/python3.9/site-packages/inference/core/interfaces/stream/inference_pipeline.py\u001b\\\u001b[2minference_pipeline.py\u001b[0m\u001b]8;;\u001b\\\u001b[2m:\u001b[0m\u001b]8;id=669844;file:///Users/saadia/Documents/DevIA_2024/ShiFuMi_computerVision/venv/lib/python3.9/site-packages/inference/core/interfaces/stream/inference_pipeline.py#907\u001b\\\u001b[2m907\u001b[0m\u001b]8;;\u001b\\\n",
       "\u001b[2;36m                    \u001b[0m         \u001b[1;36m1\u001b[0m positional argument but \u001b[1;36m2\u001b[0m were given                       \u001b[2m                         \u001b[0m\n"
      ]
     },
     "metadata": {},
     "output_type": "display_data"
    },
    {
     "name": "stdout",
     "output_type": "stream",
     "text": [
      "0: 640x640 (no detections), 149.3ms\n",
      "Speed: 1.8ms preprocess, 149.3ms inference, 0.4ms postprocess per image at shape (1, 3, 640, 640)\n",
      "Video frames: 1\n",
      "\n"
     ]
    },
    {
     "data": {
      "text/html": [
       "<pre style=\"white-space:pre;overflow-x:auto;line-height:normal;font-family:Menlo,'DejaVu Sans Mono',consolas,'Courier New',monospace\"><span style=\"color: #7fbfbf; text-decoration-color: #7fbfbf\">                    </span><span style=\"color: #800000; text-decoration-color: #800000\">WARNING </span> Error in results dispatching - <span style=\"color: #800080; text-decoration-color: #800080; font-weight: bold\">render_boxes_on_frame</span><span style=\"font-weight: bold\">()</span> takes <a href=\"file:///Users/saadia/Documents/DevIA_2024/ShiFuMi_computerVision/venv/lib/python3.9/site-packages/inference/core/interfaces/stream/inference_pipeline.py\" target=\"_blank\"><span style=\"color: #7f7f7f; text-decoration-color: #7f7f7f\">inference_pipeline.py</span></a><span style=\"color: #7f7f7f; text-decoration-color: #7f7f7f\">:</span><a href=\"file:///Users/saadia/Documents/DevIA_2024/ShiFuMi_computerVision/venv/lib/python3.9/site-packages/inference/core/interfaces/stream/inference_pipeline.py#907\" target=\"_blank\"><span style=\"color: #7f7f7f; text-decoration-color: #7f7f7f\">907</span></a>\n",
       "<span style=\"color: #7fbfbf; text-decoration-color: #7fbfbf\">                    </span>         <span style=\"color: #008080; text-decoration-color: #008080; font-weight: bold\">1</span> positional argument but <span style=\"color: #008080; text-decoration-color: #008080; font-weight: bold\">2</span> were given                       <span style=\"color: #7f7f7f; text-decoration-color: #7f7f7f\">                         </span>\n",
       "</pre>\n"
      ],
      "text/plain": [
       "\u001b[2;36m                   \u001b[0m\u001b[2;36m \u001b[0m\u001b[31mWARNING \u001b[0m Error in results dispatching - \u001b[1;35mrender_boxes_on_frame\u001b[0m\u001b[1m(\u001b[0m\u001b[1m)\u001b[0m takes \u001b]8;id=784895;file:///Users/saadia/Documents/DevIA_2024/ShiFuMi_computerVision/venv/lib/python3.9/site-packages/inference/core/interfaces/stream/inference_pipeline.py\u001b\\\u001b[2minference_pipeline.py\u001b[0m\u001b]8;;\u001b\\\u001b[2m:\u001b[0m\u001b]8;id=213467;file:///Users/saadia/Documents/DevIA_2024/ShiFuMi_computerVision/venv/lib/python3.9/site-packages/inference/core/interfaces/stream/inference_pipeline.py#907\u001b\\\u001b[2m907\u001b[0m\u001b]8;;\u001b\\\n",
       "\u001b[2;36m                    \u001b[0m         \u001b[1;36m1\u001b[0m positional argument but \u001b[1;36m2\u001b[0m were given                       \u001b[2m                         \u001b[0m\n"
      ]
     },
     "metadata": {},
     "output_type": "display_data"
    },
    {
     "name": "stdout",
     "output_type": "stream",
     "text": [
      "0: 640x640 1 Paper, 147.6ms\n",
      "Speed: 2.0ms preprocess, 147.6ms inference, 0.4ms postprocess per image at shape (1, 3, 640, 640)\n",
      "Video frames: 1\n",
      "\n"
     ]
    },
    {
     "data": {
      "text/html": [
       "<pre style=\"white-space:pre;overflow-x:auto;line-height:normal;font-family:Menlo,'DejaVu Sans Mono',consolas,'Courier New',monospace\"><span style=\"color: #7fbfbf; text-decoration-color: #7fbfbf\">                    </span><span style=\"color: #800000; text-decoration-color: #800000\">WARNING </span> Error in results dispatching - <span style=\"color: #800080; text-decoration-color: #800080; font-weight: bold\">render_boxes_on_frame</span><span style=\"font-weight: bold\">()</span> takes <a href=\"file:///Users/saadia/Documents/DevIA_2024/ShiFuMi_computerVision/venv/lib/python3.9/site-packages/inference/core/interfaces/stream/inference_pipeline.py\" target=\"_blank\"><span style=\"color: #7f7f7f; text-decoration-color: #7f7f7f\">inference_pipeline.py</span></a><span style=\"color: #7f7f7f; text-decoration-color: #7f7f7f\">:</span><a href=\"file:///Users/saadia/Documents/DevIA_2024/ShiFuMi_computerVision/venv/lib/python3.9/site-packages/inference/core/interfaces/stream/inference_pipeline.py#907\" target=\"_blank\"><span style=\"color: #7f7f7f; text-decoration-color: #7f7f7f\">907</span></a>\n",
       "<span style=\"color: #7fbfbf; text-decoration-color: #7fbfbf\">                    </span>         <span style=\"color: #008080; text-decoration-color: #008080; font-weight: bold\">1</span> positional argument but <span style=\"color: #008080; text-decoration-color: #008080; font-weight: bold\">2</span> were given                       <span style=\"color: #7f7f7f; text-decoration-color: #7f7f7f\">                         </span>\n",
       "</pre>\n"
      ],
      "text/plain": [
       "\u001b[2;36m                   \u001b[0m\u001b[2;36m \u001b[0m\u001b[31mWARNING \u001b[0m Error in results dispatching - \u001b[1;35mrender_boxes_on_frame\u001b[0m\u001b[1m(\u001b[0m\u001b[1m)\u001b[0m takes \u001b]8;id=944309;file:///Users/saadia/Documents/DevIA_2024/ShiFuMi_computerVision/venv/lib/python3.9/site-packages/inference/core/interfaces/stream/inference_pipeline.py\u001b\\\u001b[2minference_pipeline.py\u001b[0m\u001b]8;;\u001b\\\u001b[2m:\u001b[0m\u001b]8;id=315102;file:///Users/saadia/Documents/DevIA_2024/ShiFuMi_computerVision/venv/lib/python3.9/site-packages/inference/core/interfaces/stream/inference_pipeline.py#907\u001b\\\u001b[2m907\u001b[0m\u001b]8;;\u001b\\\n",
       "\u001b[2;36m                    \u001b[0m         \u001b[1;36m1\u001b[0m positional argument but \u001b[1;36m2\u001b[0m were given                       \u001b[2m                         \u001b[0m\n"
      ]
     },
     "metadata": {},
     "output_type": "display_data"
    },
    {
     "name": "stdout",
     "output_type": "stream",
     "text": [
      "0: 640x640 1 Paper, 158.1ms\n",
      "Speed: 2.2ms preprocess, 158.1ms inference, 0.4ms postprocess per image at shape (1, 3, 640, 640)\n",
      "Video frames: 1\n",
      "\n"
     ]
    },
    {
     "data": {
      "text/html": [
       "<pre style=\"white-space:pre;overflow-x:auto;line-height:normal;font-family:Menlo,'DejaVu Sans Mono',consolas,'Courier New',monospace\"><span style=\"color: #7fbfbf; text-decoration-color: #7fbfbf\">[07/01/24 11:51:27] </span><span style=\"color: #800000; text-decoration-color: #800000\">WARNING </span> Error in results dispatching - <span style=\"color: #800080; text-decoration-color: #800080; font-weight: bold\">render_boxes_on_frame</span><span style=\"font-weight: bold\">()</span> takes <a href=\"file:///Users/saadia/Documents/DevIA_2024/ShiFuMi_computerVision/venv/lib/python3.9/site-packages/inference/core/interfaces/stream/inference_pipeline.py\" target=\"_blank\"><span style=\"color: #7f7f7f; text-decoration-color: #7f7f7f\">inference_pipeline.py</span></a><span style=\"color: #7f7f7f; text-decoration-color: #7f7f7f\">:</span><a href=\"file:///Users/saadia/Documents/DevIA_2024/ShiFuMi_computerVision/venv/lib/python3.9/site-packages/inference/core/interfaces/stream/inference_pipeline.py#907\" target=\"_blank\"><span style=\"color: #7f7f7f; text-decoration-color: #7f7f7f\">907</span></a>\n",
       "<span style=\"color: #7fbfbf; text-decoration-color: #7fbfbf\">                    </span>         <span style=\"color: #008080; text-decoration-color: #008080; font-weight: bold\">1</span> positional argument but <span style=\"color: #008080; text-decoration-color: #008080; font-weight: bold\">2</span> were given                       <span style=\"color: #7f7f7f; text-decoration-color: #7f7f7f\">                         </span>\n",
       "</pre>\n"
      ],
      "text/plain": [
       "\u001b[2;36m[07/01/24 11:51:27]\u001b[0m\u001b[2;36m \u001b[0m\u001b[31mWARNING \u001b[0m Error in results dispatching - \u001b[1;35mrender_boxes_on_frame\u001b[0m\u001b[1m(\u001b[0m\u001b[1m)\u001b[0m takes \u001b]8;id=983981;file:///Users/saadia/Documents/DevIA_2024/ShiFuMi_computerVision/venv/lib/python3.9/site-packages/inference/core/interfaces/stream/inference_pipeline.py\u001b\\\u001b[2minference_pipeline.py\u001b[0m\u001b]8;;\u001b\\\u001b[2m:\u001b[0m\u001b]8;id=153518;file:///Users/saadia/Documents/DevIA_2024/ShiFuMi_computerVision/venv/lib/python3.9/site-packages/inference/core/interfaces/stream/inference_pipeline.py#907\u001b\\\u001b[2m907\u001b[0m\u001b]8;;\u001b\\\n",
       "\u001b[2;36m                    \u001b[0m         \u001b[1;36m1\u001b[0m positional argument but \u001b[1;36m2\u001b[0m were given                       \u001b[2m                         \u001b[0m\n"
      ]
     },
     "metadata": {},
     "output_type": "display_data"
    },
    {
     "name": "stdout",
     "output_type": "stream",
     "text": [
      "0: 640x640 1 Paper, 148.4ms\n",
      "Speed: 1.9ms preprocess, 148.4ms inference, 0.5ms postprocess per image at shape (1, 3, 640, 640)\n",
      "Video frames: 1\n",
      "\n"
     ]
    },
    {
     "data": {
      "text/html": [
       "<pre style=\"white-space:pre;overflow-x:auto;line-height:normal;font-family:Menlo,'DejaVu Sans Mono',consolas,'Courier New',monospace\"><span style=\"color: #7fbfbf; text-decoration-color: #7fbfbf\">                    </span><span style=\"color: #800000; text-decoration-color: #800000\">WARNING </span> Error in results dispatching - <span style=\"color: #800080; text-decoration-color: #800080; font-weight: bold\">render_boxes_on_frame</span><span style=\"font-weight: bold\">()</span> takes <a href=\"file:///Users/saadia/Documents/DevIA_2024/ShiFuMi_computerVision/venv/lib/python3.9/site-packages/inference/core/interfaces/stream/inference_pipeline.py\" target=\"_blank\"><span style=\"color: #7f7f7f; text-decoration-color: #7f7f7f\">inference_pipeline.py</span></a><span style=\"color: #7f7f7f; text-decoration-color: #7f7f7f\">:</span><a href=\"file:///Users/saadia/Documents/DevIA_2024/ShiFuMi_computerVision/venv/lib/python3.9/site-packages/inference/core/interfaces/stream/inference_pipeline.py#907\" target=\"_blank\"><span style=\"color: #7f7f7f; text-decoration-color: #7f7f7f\">907</span></a>\n",
       "<span style=\"color: #7fbfbf; text-decoration-color: #7fbfbf\">                    </span>         <span style=\"color: #008080; text-decoration-color: #008080; font-weight: bold\">1</span> positional argument but <span style=\"color: #008080; text-decoration-color: #008080; font-weight: bold\">2</span> were given                       <span style=\"color: #7f7f7f; text-decoration-color: #7f7f7f\">                         </span>\n",
       "</pre>\n"
      ],
      "text/plain": [
       "\u001b[2;36m                   \u001b[0m\u001b[2;36m \u001b[0m\u001b[31mWARNING \u001b[0m Error in results dispatching - \u001b[1;35mrender_boxes_on_frame\u001b[0m\u001b[1m(\u001b[0m\u001b[1m)\u001b[0m takes \u001b]8;id=255445;file:///Users/saadia/Documents/DevIA_2024/ShiFuMi_computerVision/venv/lib/python3.9/site-packages/inference/core/interfaces/stream/inference_pipeline.py\u001b\\\u001b[2minference_pipeline.py\u001b[0m\u001b]8;;\u001b\\\u001b[2m:\u001b[0m\u001b]8;id=468863;file:///Users/saadia/Documents/DevIA_2024/ShiFuMi_computerVision/venv/lib/python3.9/site-packages/inference/core/interfaces/stream/inference_pipeline.py#907\u001b\\\u001b[2m907\u001b[0m\u001b]8;;\u001b\\\n",
       "\u001b[2;36m                    \u001b[0m         \u001b[1;36m1\u001b[0m positional argument but \u001b[1;36m2\u001b[0m were given                       \u001b[2m                         \u001b[0m\n"
      ]
     },
     "metadata": {},
     "output_type": "display_data"
    },
    {
     "name": "stdout",
     "output_type": "stream",
     "text": [
      "0: 640x640 1 Paper, 151.0ms\n",
      "Speed: 2.1ms preprocess, 151.0ms inference, 0.4ms postprocess per image at shape (1, 3, 640, 640)\n",
      "Video frames: 1\n",
      "\n"
     ]
    },
    {
     "data": {
      "text/html": [
       "<pre style=\"white-space:pre;overflow-x:auto;line-height:normal;font-family:Menlo,'DejaVu Sans Mono',consolas,'Courier New',monospace\"><span style=\"color: #7fbfbf; text-decoration-color: #7fbfbf\">                    </span><span style=\"color: #800000; text-decoration-color: #800000\">WARNING </span> Error in results dispatching - <span style=\"color: #800080; text-decoration-color: #800080; font-weight: bold\">render_boxes_on_frame</span><span style=\"font-weight: bold\">()</span> takes <a href=\"file:///Users/saadia/Documents/DevIA_2024/ShiFuMi_computerVision/venv/lib/python3.9/site-packages/inference/core/interfaces/stream/inference_pipeline.py\" target=\"_blank\"><span style=\"color: #7f7f7f; text-decoration-color: #7f7f7f\">inference_pipeline.py</span></a><span style=\"color: #7f7f7f; text-decoration-color: #7f7f7f\">:</span><a href=\"file:///Users/saadia/Documents/DevIA_2024/ShiFuMi_computerVision/venv/lib/python3.9/site-packages/inference/core/interfaces/stream/inference_pipeline.py#907\" target=\"_blank\"><span style=\"color: #7f7f7f; text-decoration-color: #7f7f7f\">907</span></a>\n",
       "<span style=\"color: #7fbfbf; text-decoration-color: #7fbfbf\">                    </span>         <span style=\"color: #008080; text-decoration-color: #008080; font-weight: bold\">1</span> positional argument but <span style=\"color: #008080; text-decoration-color: #008080; font-weight: bold\">2</span> were given                       <span style=\"color: #7f7f7f; text-decoration-color: #7f7f7f\">                         </span>\n",
       "</pre>\n"
      ],
      "text/plain": [
       "\u001b[2;36m                   \u001b[0m\u001b[2;36m \u001b[0m\u001b[31mWARNING \u001b[0m Error in results dispatching - \u001b[1;35mrender_boxes_on_frame\u001b[0m\u001b[1m(\u001b[0m\u001b[1m)\u001b[0m takes \u001b]8;id=793339;file:///Users/saadia/Documents/DevIA_2024/ShiFuMi_computerVision/venv/lib/python3.9/site-packages/inference/core/interfaces/stream/inference_pipeline.py\u001b\\\u001b[2minference_pipeline.py\u001b[0m\u001b]8;;\u001b\\\u001b[2m:\u001b[0m\u001b]8;id=185982;file:///Users/saadia/Documents/DevIA_2024/ShiFuMi_computerVision/venv/lib/python3.9/site-packages/inference/core/interfaces/stream/inference_pipeline.py#907\u001b\\\u001b[2m907\u001b[0m\u001b]8;;\u001b\\\n",
       "\u001b[2;36m                    \u001b[0m         \u001b[1;36m1\u001b[0m positional argument but \u001b[1;36m2\u001b[0m were given                       \u001b[2m                         \u001b[0m\n"
      ]
     },
     "metadata": {},
     "output_type": "display_data"
    },
    {
     "name": "stdout",
     "output_type": "stream",
     "text": [
      "0: 640x640 1 Paper, 148.0ms\n",
      "Speed: 2.1ms preprocess, 148.0ms inference, 0.5ms postprocess per image at shape (1, 3, 640, 640)\n",
      "Video frames: 1\n",
      "\n"
     ]
    },
    {
     "data": {
      "text/html": [
       "<pre style=\"white-space:pre;overflow-x:auto;line-height:normal;font-family:Menlo,'DejaVu Sans Mono',consolas,'Courier New',monospace\"><span style=\"color: #7fbfbf; text-decoration-color: #7fbfbf\">                    </span><span style=\"color: #800000; text-decoration-color: #800000\">WARNING </span> Error in results dispatching - <span style=\"color: #800080; text-decoration-color: #800080; font-weight: bold\">render_boxes_on_frame</span><span style=\"font-weight: bold\">()</span> takes <a href=\"file:///Users/saadia/Documents/DevIA_2024/ShiFuMi_computerVision/venv/lib/python3.9/site-packages/inference/core/interfaces/stream/inference_pipeline.py\" target=\"_blank\"><span style=\"color: #7f7f7f; text-decoration-color: #7f7f7f\">inference_pipeline.py</span></a><span style=\"color: #7f7f7f; text-decoration-color: #7f7f7f\">:</span><a href=\"file:///Users/saadia/Documents/DevIA_2024/ShiFuMi_computerVision/venv/lib/python3.9/site-packages/inference/core/interfaces/stream/inference_pipeline.py#907\" target=\"_blank\"><span style=\"color: #7f7f7f; text-decoration-color: #7f7f7f\">907</span></a>\n",
       "<span style=\"color: #7fbfbf; text-decoration-color: #7fbfbf\">                    </span>         <span style=\"color: #008080; text-decoration-color: #008080; font-weight: bold\">1</span> positional argument but <span style=\"color: #008080; text-decoration-color: #008080; font-weight: bold\">2</span> were given                       <span style=\"color: #7f7f7f; text-decoration-color: #7f7f7f\">                         </span>\n",
       "</pre>\n"
      ],
      "text/plain": [
       "\u001b[2;36m                   \u001b[0m\u001b[2;36m \u001b[0m\u001b[31mWARNING \u001b[0m Error in results dispatching - \u001b[1;35mrender_boxes_on_frame\u001b[0m\u001b[1m(\u001b[0m\u001b[1m)\u001b[0m takes \u001b]8;id=31876;file:///Users/saadia/Documents/DevIA_2024/ShiFuMi_computerVision/venv/lib/python3.9/site-packages/inference/core/interfaces/stream/inference_pipeline.py\u001b\\\u001b[2minference_pipeline.py\u001b[0m\u001b]8;;\u001b\\\u001b[2m:\u001b[0m\u001b]8;id=53604;file:///Users/saadia/Documents/DevIA_2024/ShiFuMi_computerVision/venv/lib/python3.9/site-packages/inference/core/interfaces/stream/inference_pipeline.py#907\u001b\\\u001b[2m907\u001b[0m\u001b]8;;\u001b\\\n",
       "\u001b[2;36m                    \u001b[0m         \u001b[1;36m1\u001b[0m positional argument but \u001b[1;36m2\u001b[0m were given                       \u001b[2m                         \u001b[0m\n"
      ]
     },
     "metadata": {},
     "output_type": "display_data"
    },
    {
     "name": "stdout",
     "output_type": "stream",
     "text": [
      "0: 640x640 1 Paper, 152.7ms\n",
      "Speed: 2.2ms preprocess, 152.7ms inference, 0.4ms postprocess per image at shape (1, 3, 640, 640)\n",
      "Video frames: 1\n",
      "\n"
     ]
    },
    {
     "data": {
      "text/html": [
       "<pre style=\"white-space:pre;overflow-x:auto;line-height:normal;font-family:Menlo,'DejaVu Sans Mono',consolas,'Courier New',monospace\"><span style=\"color: #7fbfbf; text-decoration-color: #7fbfbf\">                    </span><span style=\"color: #800000; text-decoration-color: #800000\">WARNING </span> Error in results dispatching - <span style=\"color: #800080; text-decoration-color: #800080; font-weight: bold\">render_boxes_on_frame</span><span style=\"font-weight: bold\">()</span> takes <a href=\"file:///Users/saadia/Documents/DevIA_2024/ShiFuMi_computerVision/venv/lib/python3.9/site-packages/inference/core/interfaces/stream/inference_pipeline.py\" target=\"_blank\"><span style=\"color: #7f7f7f; text-decoration-color: #7f7f7f\">inference_pipeline.py</span></a><span style=\"color: #7f7f7f; text-decoration-color: #7f7f7f\">:</span><a href=\"file:///Users/saadia/Documents/DevIA_2024/ShiFuMi_computerVision/venv/lib/python3.9/site-packages/inference/core/interfaces/stream/inference_pipeline.py#907\" target=\"_blank\"><span style=\"color: #7f7f7f; text-decoration-color: #7f7f7f\">907</span></a>\n",
       "<span style=\"color: #7fbfbf; text-decoration-color: #7fbfbf\">                    </span>         <span style=\"color: #008080; text-decoration-color: #008080; font-weight: bold\">1</span> positional argument but <span style=\"color: #008080; text-decoration-color: #008080; font-weight: bold\">2</span> were given                       <span style=\"color: #7f7f7f; text-decoration-color: #7f7f7f\">                         </span>\n",
       "</pre>\n"
      ],
      "text/plain": [
       "\u001b[2;36m                   \u001b[0m\u001b[2;36m \u001b[0m\u001b[31mWARNING \u001b[0m Error in results dispatching - \u001b[1;35mrender_boxes_on_frame\u001b[0m\u001b[1m(\u001b[0m\u001b[1m)\u001b[0m takes \u001b]8;id=697695;file:///Users/saadia/Documents/DevIA_2024/ShiFuMi_computerVision/venv/lib/python3.9/site-packages/inference/core/interfaces/stream/inference_pipeline.py\u001b\\\u001b[2minference_pipeline.py\u001b[0m\u001b]8;;\u001b\\\u001b[2m:\u001b[0m\u001b]8;id=487751;file:///Users/saadia/Documents/DevIA_2024/ShiFuMi_computerVision/venv/lib/python3.9/site-packages/inference/core/interfaces/stream/inference_pipeline.py#907\u001b\\\u001b[2m907\u001b[0m\u001b]8;;\u001b\\\n",
       "\u001b[2;36m                    \u001b[0m         \u001b[1;36m1\u001b[0m positional argument but \u001b[1;36m2\u001b[0m were given                       \u001b[2m                         \u001b[0m\n"
      ]
     },
     "metadata": {},
     "output_type": "display_data"
    },
    {
     "name": "stdout",
     "output_type": "stream",
     "text": [
      "0: 640x640 1 Paper, 149.6ms\n",
      "Speed: 2.5ms preprocess, 149.6ms inference, 0.4ms postprocess per image at shape (1, 3, 640, 640)\n",
      "Video frames: 1\n",
      "\n"
     ]
    },
    {
     "data": {
      "text/html": [
       "<pre style=\"white-space:pre;overflow-x:auto;line-height:normal;font-family:Menlo,'DejaVu Sans Mono',consolas,'Courier New',monospace\"><span style=\"color: #7fbfbf; text-decoration-color: #7fbfbf\">                    </span><span style=\"color: #800000; text-decoration-color: #800000\">WARNING </span> Error in results dispatching - <span style=\"color: #800080; text-decoration-color: #800080; font-weight: bold\">render_boxes_on_frame</span><span style=\"font-weight: bold\">()</span> takes <a href=\"file:///Users/saadia/Documents/DevIA_2024/ShiFuMi_computerVision/venv/lib/python3.9/site-packages/inference/core/interfaces/stream/inference_pipeline.py\" target=\"_blank\"><span style=\"color: #7f7f7f; text-decoration-color: #7f7f7f\">inference_pipeline.py</span></a><span style=\"color: #7f7f7f; text-decoration-color: #7f7f7f\">:</span><a href=\"file:///Users/saadia/Documents/DevIA_2024/ShiFuMi_computerVision/venv/lib/python3.9/site-packages/inference/core/interfaces/stream/inference_pipeline.py#907\" target=\"_blank\"><span style=\"color: #7f7f7f; text-decoration-color: #7f7f7f\">907</span></a>\n",
       "<span style=\"color: #7fbfbf; text-decoration-color: #7fbfbf\">                    </span>         <span style=\"color: #008080; text-decoration-color: #008080; font-weight: bold\">1</span> positional argument but <span style=\"color: #008080; text-decoration-color: #008080; font-weight: bold\">2</span> were given                       <span style=\"color: #7f7f7f; text-decoration-color: #7f7f7f\">                         </span>\n",
       "</pre>\n"
      ],
      "text/plain": [
       "\u001b[2;36m                   \u001b[0m\u001b[2;36m \u001b[0m\u001b[31mWARNING \u001b[0m Error in results dispatching - \u001b[1;35mrender_boxes_on_frame\u001b[0m\u001b[1m(\u001b[0m\u001b[1m)\u001b[0m takes \u001b]8;id=641323;file:///Users/saadia/Documents/DevIA_2024/ShiFuMi_computerVision/venv/lib/python3.9/site-packages/inference/core/interfaces/stream/inference_pipeline.py\u001b\\\u001b[2minference_pipeline.py\u001b[0m\u001b]8;;\u001b\\\u001b[2m:\u001b[0m\u001b]8;id=34369;file:///Users/saadia/Documents/DevIA_2024/ShiFuMi_computerVision/venv/lib/python3.9/site-packages/inference/core/interfaces/stream/inference_pipeline.py#907\u001b\\\u001b[2m907\u001b[0m\u001b]8;;\u001b\\\n",
       "\u001b[2;36m                    \u001b[0m         \u001b[1;36m1\u001b[0m positional argument but \u001b[1;36m2\u001b[0m were given                       \u001b[2m                         \u001b[0m\n"
      ]
     },
     "metadata": {},
     "output_type": "display_data"
    },
    {
     "name": "stdout",
     "output_type": "stream",
     "text": [
      "0: 640x640 1 Paper, 162.8ms\n",
      "Speed: 2.3ms preprocess, 162.8ms inference, 0.4ms postprocess per image at shape (1, 3, 640, 640)\n",
      "Video frames: 1\n",
      "\n"
     ]
    },
    {
     "data": {
      "text/html": [
       "<pre style=\"white-space:pre;overflow-x:auto;line-height:normal;font-family:Menlo,'DejaVu Sans Mono',consolas,'Courier New',monospace\"><span style=\"color: #7fbfbf; text-decoration-color: #7fbfbf\">[07/01/24 11:51:28] </span><span style=\"color: #800000; text-decoration-color: #800000\">WARNING </span> Error in results dispatching - <span style=\"color: #800080; text-decoration-color: #800080; font-weight: bold\">render_boxes_on_frame</span><span style=\"font-weight: bold\">()</span> takes <a href=\"file:///Users/saadia/Documents/DevIA_2024/ShiFuMi_computerVision/venv/lib/python3.9/site-packages/inference/core/interfaces/stream/inference_pipeline.py\" target=\"_blank\"><span style=\"color: #7f7f7f; text-decoration-color: #7f7f7f\">inference_pipeline.py</span></a><span style=\"color: #7f7f7f; text-decoration-color: #7f7f7f\">:</span><a href=\"file:///Users/saadia/Documents/DevIA_2024/ShiFuMi_computerVision/venv/lib/python3.9/site-packages/inference/core/interfaces/stream/inference_pipeline.py#907\" target=\"_blank\"><span style=\"color: #7f7f7f; text-decoration-color: #7f7f7f\">907</span></a>\n",
       "<span style=\"color: #7fbfbf; text-decoration-color: #7fbfbf\">                    </span>         <span style=\"color: #008080; text-decoration-color: #008080; font-weight: bold\">1</span> positional argument but <span style=\"color: #008080; text-decoration-color: #008080; font-weight: bold\">2</span> were given                       <span style=\"color: #7f7f7f; text-decoration-color: #7f7f7f\">                         </span>\n",
       "</pre>\n"
      ],
      "text/plain": [
       "\u001b[2;36m[07/01/24 11:51:28]\u001b[0m\u001b[2;36m \u001b[0m\u001b[31mWARNING \u001b[0m Error in results dispatching - \u001b[1;35mrender_boxes_on_frame\u001b[0m\u001b[1m(\u001b[0m\u001b[1m)\u001b[0m takes \u001b]8;id=279295;file:///Users/saadia/Documents/DevIA_2024/ShiFuMi_computerVision/venv/lib/python3.9/site-packages/inference/core/interfaces/stream/inference_pipeline.py\u001b\\\u001b[2minference_pipeline.py\u001b[0m\u001b]8;;\u001b\\\u001b[2m:\u001b[0m\u001b]8;id=175632;file:///Users/saadia/Documents/DevIA_2024/ShiFuMi_computerVision/venv/lib/python3.9/site-packages/inference/core/interfaces/stream/inference_pipeline.py#907\u001b\\\u001b[2m907\u001b[0m\u001b]8;;\u001b\\\n",
       "\u001b[2;36m                    \u001b[0m         \u001b[1;36m1\u001b[0m positional argument but \u001b[1;36m2\u001b[0m were given                       \u001b[2m                         \u001b[0m\n"
      ]
     },
     "metadata": {},
     "output_type": "display_data"
    },
    {
     "name": "stdout",
     "output_type": "stream",
     "text": [
      "0: 640x640 1 Paper, 164.7ms\n",
      "Speed: 2.5ms preprocess, 164.7ms inference, 0.4ms postprocess per image at shape (1, 3, 640, 640)\n",
      "Video frames: 1\n",
      "\n"
     ]
    },
    {
     "data": {
      "text/html": [
       "<pre style=\"white-space:pre;overflow-x:auto;line-height:normal;font-family:Menlo,'DejaVu Sans Mono',consolas,'Courier New',monospace\"><span style=\"color: #7fbfbf; text-decoration-color: #7fbfbf\">                    </span><span style=\"color: #800000; text-decoration-color: #800000\">WARNING </span> Error in results dispatching - <span style=\"color: #800080; text-decoration-color: #800080; font-weight: bold\">render_boxes_on_frame</span><span style=\"font-weight: bold\">()</span> takes <a href=\"file:///Users/saadia/Documents/DevIA_2024/ShiFuMi_computerVision/venv/lib/python3.9/site-packages/inference/core/interfaces/stream/inference_pipeline.py\" target=\"_blank\"><span style=\"color: #7f7f7f; text-decoration-color: #7f7f7f\">inference_pipeline.py</span></a><span style=\"color: #7f7f7f; text-decoration-color: #7f7f7f\">:</span><a href=\"file:///Users/saadia/Documents/DevIA_2024/ShiFuMi_computerVision/venv/lib/python3.9/site-packages/inference/core/interfaces/stream/inference_pipeline.py#907\" target=\"_blank\"><span style=\"color: #7f7f7f; text-decoration-color: #7f7f7f\">907</span></a>\n",
       "<span style=\"color: #7fbfbf; text-decoration-color: #7fbfbf\">                    </span>         <span style=\"color: #008080; text-decoration-color: #008080; font-weight: bold\">1</span> positional argument but <span style=\"color: #008080; text-decoration-color: #008080; font-weight: bold\">2</span> were given                       <span style=\"color: #7f7f7f; text-decoration-color: #7f7f7f\">                         </span>\n",
       "</pre>\n"
      ],
      "text/plain": [
       "\u001b[2;36m                   \u001b[0m\u001b[2;36m \u001b[0m\u001b[31mWARNING \u001b[0m Error in results dispatching - \u001b[1;35mrender_boxes_on_frame\u001b[0m\u001b[1m(\u001b[0m\u001b[1m)\u001b[0m takes \u001b]8;id=786543;file:///Users/saadia/Documents/DevIA_2024/ShiFuMi_computerVision/venv/lib/python3.9/site-packages/inference/core/interfaces/stream/inference_pipeline.py\u001b\\\u001b[2minference_pipeline.py\u001b[0m\u001b]8;;\u001b\\\u001b[2m:\u001b[0m\u001b]8;id=823338;file:///Users/saadia/Documents/DevIA_2024/ShiFuMi_computerVision/venv/lib/python3.9/site-packages/inference/core/interfaces/stream/inference_pipeline.py#907\u001b\\\u001b[2m907\u001b[0m\u001b]8;;\u001b\\\n",
       "\u001b[2;36m                    \u001b[0m         \u001b[1;36m1\u001b[0m positional argument but \u001b[1;36m2\u001b[0m were given                       \u001b[2m                         \u001b[0m\n"
      ]
     },
     "metadata": {},
     "output_type": "display_data"
    },
    {
     "name": "stdout",
     "output_type": "stream",
     "text": [
      "0: 640x640 1 Paper, 148.6ms\n",
      "Speed: 2.0ms preprocess, 148.6ms inference, 0.5ms postprocess per image at shape (1, 3, 640, 640)\n",
      "Video frames: 1\n",
      "\n"
     ]
    },
    {
     "data": {
      "text/html": [
       "<pre style=\"white-space:pre;overflow-x:auto;line-height:normal;font-family:Menlo,'DejaVu Sans Mono',consolas,'Courier New',monospace\"><span style=\"color: #7fbfbf; text-decoration-color: #7fbfbf\">                    </span><span style=\"color: #800000; text-decoration-color: #800000\">WARNING </span> Error in results dispatching - <span style=\"color: #800080; text-decoration-color: #800080; font-weight: bold\">render_boxes_on_frame</span><span style=\"font-weight: bold\">()</span> takes <a href=\"file:///Users/saadia/Documents/DevIA_2024/ShiFuMi_computerVision/venv/lib/python3.9/site-packages/inference/core/interfaces/stream/inference_pipeline.py\" target=\"_blank\"><span style=\"color: #7f7f7f; text-decoration-color: #7f7f7f\">inference_pipeline.py</span></a><span style=\"color: #7f7f7f; text-decoration-color: #7f7f7f\">:</span><a href=\"file:///Users/saadia/Documents/DevIA_2024/ShiFuMi_computerVision/venv/lib/python3.9/site-packages/inference/core/interfaces/stream/inference_pipeline.py#907\" target=\"_blank\"><span style=\"color: #7f7f7f; text-decoration-color: #7f7f7f\">907</span></a>\n",
       "<span style=\"color: #7fbfbf; text-decoration-color: #7fbfbf\">                    </span>         <span style=\"color: #008080; text-decoration-color: #008080; font-weight: bold\">1</span> positional argument but <span style=\"color: #008080; text-decoration-color: #008080; font-weight: bold\">2</span> were given                       <span style=\"color: #7f7f7f; text-decoration-color: #7f7f7f\">                         </span>\n",
       "</pre>\n"
      ],
      "text/plain": [
       "\u001b[2;36m                   \u001b[0m\u001b[2;36m \u001b[0m\u001b[31mWARNING \u001b[0m Error in results dispatching - \u001b[1;35mrender_boxes_on_frame\u001b[0m\u001b[1m(\u001b[0m\u001b[1m)\u001b[0m takes \u001b]8;id=327209;file:///Users/saadia/Documents/DevIA_2024/ShiFuMi_computerVision/venv/lib/python3.9/site-packages/inference/core/interfaces/stream/inference_pipeline.py\u001b\\\u001b[2minference_pipeline.py\u001b[0m\u001b]8;;\u001b\\\u001b[2m:\u001b[0m\u001b]8;id=286876;file:///Users/saadia/Documents/DevIA_2024/ShiFuMi_computerVision/venv/lib/python3.9/site-packages/inference/core/interfaces/stream/inference_pipeline.py#907\u001b\\\u001b[2m907\u001b[0m\u001b]8;;\u001b\\\n",
       "\u001b[2;36m                    \u001b[0m         \u001b[1;36m1\u001b[0m positional argument but \u001b[1;36m2\u001b[0m were given                       \u001b[2m                         \u001b[0m\n"
      ]
     },
     "metadata": {},
     "output_type": "display_data"
    },
    {
     "name": "stdout",
     "output_type": "stream",
     "text": [
      "0: 640x640 1 Scissors, 148.9ms\n",
      "Speed: 2.5ms preprocess, 148.9ms inference, 0.4ms postprocess per image at shape (1, 3, 640, 640)\n",
      "Video frames: 1\n",
      "\n"
     ]
    },
    {
     "data": {
      "text/html": [
       "<pre style=\"white-space:pre;overflow-x:auto;line-height:normal;font-family:Menlo,'DejaVu Sans Mono',consolas,'Courier New',monospace\"><span style=\"color: #7fbfbf; text-decoration-color: #7fbfbf\">                    </span><span style=\"color: #800000; text-decoration-color: #800000\">WARNING </span> Error in results dispatching - <span style=\"color: #800080; text-decoration-color: #800080; font-weight: bold\">render_boxes_on_frame</span><span style=\"font-weight: bold\">()</span> takes <a href=\"file:///Users/saadia/Documents/DevIA_2024/ShiFuMi_computerVision/venv/lib/python3.9/site-packages/inference/core/interfaces/stream/inference_pipeline.py\" target=\"_blank\"><span style=\"color: #7f7f7f; text-decoration-color: #7f7f7f\">inference_pipeline.py</span></a><span style=\"color: #7f7f7f; text-decoration-color: #7f7f7f\">:</span><a href=\"file:///Users/saadia/Documents/DevIA_2024/ShiFuMi_computerVision/venv/lib/python3.9/site-packages/inference/core/interfaces/stream/inference_pipeline.py#907\" target=\"_blank\"><span style=\"color: #7f7f7f; text-decoration-color: #7f7f7f\">907</span></a>\n",
       "<span style=\"color: #7fbfbf; text-decoration-color: #7fbfbf\">                    </span>         <span style=\"color: #008080; text-decoration-color: #008080; font-weight: bold\">1</span> positional argument but <span style=\"color: #008080; text-decoration-color: #008080; font-weight: bold\">2</span> were given                       <span style=\"color: #7f7f7f; text-decoration-color: #7f7f7f\">                         </span>\n",
       "</pre>\n"
      ],
      "text/plain": [
       "\u001b[2;36m                   \u001b[0m\u001b[2;36m \u001b[0m\u001b[31mWARNING \u001b[0m Error in results dispatching - \u001b[1;35mrender_boxes_on_frame\u001b[0m\u001b[1m(\u001b[0m\u001b[1m)\u001b[0m takes \u001b]8;id=431040;file:///Users/saadia/Documents/DevIA_2024/ShiFuMi_computerVision/venv/lib/python3.9/site-packages/inference/core/interfaces/stream/inference_pipeline.py\u001b\\\u001b[2minference_pipeline.py\u001b[0m\u001b]8;;\u001b\\\u001b[2m:\u001b[0m\u001b]8;id=41942;file:///Users/saadia/Documents/DevIA_2024/ShiFuMi_computerVision/venv/lib/python3.9/site-packages/inference/core/interfaces/stream/inference_pipeline.py#907\u001b\\\u001b[2m907\u001b[0m\u001b]8;;\u001b\\\n",
       "\u001b[2;36m                    \u001b[0m         \u001b[1;36m1\u001b[0m positional argument but \u001b[1;36m2\u001b[0m were given                       \u001b[2m                         \u001b[0m\n"
      ]
     },
     "metadata": {},
     "output_type": "display_data"
    },
    {
     "name": "stdout",
     "output_type": "stream",
     "text": [
      "0: 640x640 1 Scissors, 151.2ms\n",
      "Speed: 2.0ms preprocess, 151.2ms inference, 0.5ms postprocess per image at shape (1, 3, 640, 640)\n",
      "Video frames: 1\n",
      "\n"
     ]
    },
    {
     "data": {
      "text/html": [
       "<pre style=\"white-space:pre;overflow-x:auto;line-height:normal;font-family:Menlo,'DejaVu Sans Mono',consolas,'Courier New',monospace\"><span style=\"color: #7fbfbf; text-decoration-color: #7fbfbf\">                    </span><span style=\"color: #800000; text-decoration-color: #800000\">WARNING </span> Error in results dispatching - <span style=\"color: #800080; text-decoration-color: #800080; font-weight: bold\">render_boxes_on_frame</span><span style=\"font-weight: bold\">()</span> takes <a href=\"file:///Users/saadia/Documents/DevIA_2024/ShiFuMi_computerVision/venv/lib/python3.9/site-packages/inference/core/interfaces/stream/inference_pipeline.py\" target=\"_blank\"><span style=\"color: #7f7f7f; text-decoration-color: #7f7f7f\">inference_pipeline.py</span></a><span style=\"color: #7f7f7f; text-decoration-color: #7f7f7f\">:</span><a href=\"file:///Users/saadia/Documents/DevIA_2024/ShiFuMi_computerVision/venv/lib/python3.9/site-packages/inference/core/interfaces/stream/inference_pipeline.py#907\" target=\"_blank\"><span style=\"color: #7f7f7f; text-decoration-color: #7f7f7f\">907</span></a>\n",
       "<span style=\"color: #7fbfbf; text-decoration-color: #7fbfbf\">                    </span>         <span style=\"color: #008080; text-decoration-color: #008080; font-weight: bold\">1</span> positional argument but <span style=\"color: #008080; text-decoration-color: #008080; font-weight: bold\">2</span> were given                       <span style=\"color: #7f7f7f; text-decoration-color: #7f7f7f\">                         </span>\n",
       "</pre>\n"
      ],
      "text/plain": [
       "\u001b[2;36m                   \u001b[0m\u001b[2;36m \u001b[0m\u001b[31mWARNING \u001b[0m Error in results dispatching - \u001b[1;35mrender_boxes_on_frame\u001b[0m\u001b[1m(\u001b[0m\u001b[1m)\u001b[0m takes \u001b]8;id=708127;file:///Users/saadia/Documents/DevIA_2024/ShiFuMi_computerVision/venv/lib/python3.9/site-packages/inference/core/interfaces/stream/inference_pipeline.py\u001b\\\u001b[2minference_pipeline.py\u001b[0m\u001b]8;;\u001b\\\u001b[2m:\u001b[0m\u001b]8;id=298264;file:///Users/saadia/Documents/DevIA_2024/ShiFuMi_computerVision/venv/lib/python3.9/site-packages/inference/core/interfaces/stream/inference_pipeline.py#907\u001b\\\u001b[2m907\u001b[0m\u001b]8;;\u001b\\\n",
       "\u001b[2;36m                    \u001b[0m         \u001b[1;36m1\u001b[0m positional argument but \u001b[1;36m2\u001b[0m were given                       \u001b[2m                         \u001b[0m\n"
      ]
     },
     "metadata": {},
     "output_type": "display_data"
    },
    {
     "name": "stdout",
     "output_type": "stream",
     "text": [
      "0: 640x640 1 Scissors, 146.5ms\n",
      "Speed: 2.2ms preprocess, 146.5ms inference, 0.4ms postprocess per image at shape (1, 3, 640, 640)\n",
      "Video frames: 1\n",
      "\n"
     ]
    },
    {
     "data": {
      "text/html": [
       "<pre style=\"white-space:pre;overflow-x:auto;line-height:normal;font-family:Menlo,'DejaVu Sans Mono',consolas,'Courier New',monospace\"><span style=\"color: #7fbfbf; text-decoration-color: #7fbfbf\">                    </span><span style=\"color: #800000; text-decoration-color: #800000\">WARNING </span> Error in results dispatching - <span style=\"color: #800080; text-decoration-color: #800080; font-weight: bold\">render_boxes_on_frame</span><span style=\"font-weight: bold\">()</span> takes <a href=\"file:///Users/saadia/Documents/DevIA_2024/ShiFuMi_computerVision/venv/lib/python3.9/site-packages/inference/core/interfaces/stream/inference_pipeline.py\" target=\"_blank\"><span style=\"color: #7f7f7f; text-decoration-color: #7f7f7f\">inference_pipeline.py</span></a><span style=\"color: #7f7f7f; text-decoration-color: #7f7f7f\">:</span><a href=\"file:///Users/saadia/Documents/DevIA_2024/ShiFuMi_computerVision/venv/lib/python3.9/site-packages/inference/core/interfaces/stream/inference_pipeline.py#907\" target=\"_blank\"><span style=\"color: #7f7f7f; text-decoration-color: #7f7f7f\">907</span></a>\n",
       "<span style=\"color: #7fbfbf; text-decoration-color: #7fbfbf\">                    </span>         <span style=\"color: #008080; text-decoration-color: #008080; font-weight: bold\">1</span> positional argument but <span style=\"color: #008080; text-decoration-color: #008080; font-weight: bold\">2</span> were given                       <span style=\"color: #7f7f7f; text-decoration-color: #7f7f7f\">                         </span>\n",
       "</pre>\n"
      ],
      "text/plain": [
       "\u001b[2;36m                   \u001b[0m\u001b[2;36m \u001b[0m\u001b[31mWARNING \u001b[0m Error in results dispatching - \u001b[1;35mrender_boxes_on_frame\u001b[0m\u001b[1m(\u001b[0m\u001b[1m)\u001b[0m takes \u001b]8;id=953584;file:///Users/saadia/Documents/DevIA_2024/ShiFuMi_computerVision/venv/lib/python3.9/site-packages/inference/core/interfaces/stream/inference_pipeline.py\u001b\\\u001b[2minference_pipeline.py\u001b[0m\u001b]8;;\u001b\\\u001b[2m:\u001b[0m\u001b]8;id=803006;file:///Users/saadia/Documents/DevIA_2024/ShiFuMi_computerVision/venv/lib/python3.9/site-packages/inference/core/interfaces/stream/inference_pipeline.py#907\u001b\\\u001b[2m907\u001b[0m\u001b]8;;\u001b\\\n",
       "\u001b[2;36m                    \u001b[0m         \u001b[1;36m1\u001b[0m positional argument but \u001b[1;36m2\u001b[0m were given                       \u001b[2m                         \u001b[0m\n"
      ]
     },
     "metadata": {},
     "output_type": "display_data"
    },
    {
     "name": "stdout",
     "output_type": "stream",
     "text": [
      "0: 640x640 1 Scissors, 150.6ms\n",
      "Speed: 2.1ms preprocess, 150.6ms inference, 0.3ms postprocess per image at shape (1, 3, 640, 640)\n",
      "Video frames: 1\n",
      "\n"
     ]
    },
    {
     "data": {
      "text/html": [
       "<pre style=\"white-space:pre;overflow-x:auto;line-height:normal;font-family:Menlo,'DejaVu Sans Mono',consolas,'Courier New',monospace\"><span style=\"color: #7fbfbf; text-decoration-color: #7fbfbf\">[07/01/24 11:51:29] </span><span style=\"color: #800000; text-decoration-color: #800000\">WARNING </span> Error in results dispatching - <span style=\"color: #800080; text-decoration-color: #800080; font-weight: bold\">render_boxes_on_frame</span><span style=\"font-weight: bold\">()</span> takes <a href=\"file:///Users/saadia/Documents/DevIA_2024/ShiFuMi_computerVision/venv/lib/python3.9/site-packages/inference/core/interfaces/stream/inference_pipeline.py\" target=\"_blank\"><span style=\"color: #7f7f7f; text-decoration-color: #7f7f7f\">inference_pipeline.py</span></a><span style=\"color: #7f7f7f; text-decoration-color: #7f7f7f\">:</span><a href=\"file:///Users/saadia/Documents/DevIA_2024/ShiFuMi_computerVision/venv/lib/python3.9/site-packages/inference/core/interfaces/stream/inference_pipeline.py#907\" target=\"_blank\"><span style=\"color: #7f7f7f; text-decoration-color: #7f7f7f\">907</span></a>\n",
       "<span style=\"color: #7fbfbf; text-decoration-color: #7fbfbf\">                    </span>         <span style=\"color: #008080; text-decoration-color: #008080; font-weight: bold\">1</span> positional argument but <span style=\"color: #008080; text-decoration-color: #008080; font-weight: bold\">2</span> were given                       <span style=\"color: #7f7f7f; text-decoration-color: #7f7f7f\">                         </span>\n",
       "</pre>\n"
      ],
      "text/plain": [
       "\u001b[2;36m[07/01/24 11:51:29]\u001b[0m\u001b[2;36m \u001b[0m\u001b[31mWARNING \u001b[0m Error in results dispatching - \u001b[1;35mrender_boxes_on_frame\u001b[0m\u001b[1m(\u001b[0m\u001b[1m)\u001b[0m takes \u001b]8;id=387211;file:///Users/saadia/Documents/DevIA_2024/ShiFuMi_computerVision/venv/lib/python3.9/site-packages/inference/core/interfaces/stream/inference_pipeline.py\u001b\\\u001b[2minference_pipeline.py\u001b[0m\u001b]8;;\u001b\\\u001b[2m:\u001b[0m\u001b]8;id=84896;file:///Users/saadia/Documents/DevIA_2024/ShiFuMi_computerVision/venv/lib/python3.9/site-packages/inference/core/interfaces/stream/inference_pipeline.py#907\u001b\\\u001b[2m907\u001b[0m\u001b]8;;\u001b\\\n",
       "\u001b[2;36m                    \u001b[0m         \u001b[1;36m1\u001b[0m positional argument but \u001b[1;36m2\u001b[0m were given                       \u001b[2m                         \u001b[0m\n"
      ]
     },
     "metadata": {},
     "output_type": "display_data"
    },
    {
     "name": "stdout",
     "output_type": "stream",
     "text": [
      "0: 640x640 1 Scissors, 169.5ms\n",
      "Speed: 1.9ms preprocess, 169.5ms inference, 0.4ms postprocess per image at shape (1, 3, 640, 640)\n",
      "Video frames: 1\n",
      "\n"
     ]
    },
    {
     "data": {
      "text/html": [
       "<pre style=\"white-space:pre;overflow-x:auto;line-height:normal;font-family:Menlo,'DejaVu Sans Mono',consolas,'Courier New',monospace\"><span style=\"color: #7fbfbf; text-decoration-color: #7fbfbf\">                    </span><span style=\"color: #800000; text-decoration-color: #800000\">WARNING </span> Error in results dispatching - <span style=\"color: #800080; text-decoration-color: #800080; font-weight: bold\">render_boxes_on_frame</span><span style=\"font-weight: bold\">()</span> takes <a href=\"file:///Users/saadia/Documents/DevIA_2024/ShiFuMi_computerVision/venv/lib/python3.9/site-packages/inference/core/interfaces/stream/inference_pipeline.py\" target=\"_blank\"><span style=\"color: #7f7f7f; text-decoration-color: #7f7f7f\">inference_pipeline.py</span></a><span style=\"color: #7f7f7f; text-decoration-color: #7f7f7f\">:</span><a href=\"file:///Users/saadia/Documents/DevIA_2024/ShiFuMi_computerVision/venv/lib/python3.9/site-packages/inference/core/interfaces/stream/inference_pipeline.py#907\" target=\"_blank\"><span style=\"color: #7f7f7f; text-decoration-color: #7f7f7f\">907</span></a>\n",
       "<span style=\"color: #7fbfbf; text-decoration-color: #7fbfbf\">                    </span>         <span style=\"color: #008080; text-decoration-color: #008080; font-weight: bold\">1</span> positional argument but <span style=\"color: #008080; text-decoration-color: #008080; font-weight: bold\">2</span> were given                       <span style=\"color: #7f7f7f; text-decoration-color: #7f7f7f\">                         </span>\n",
       "</pre>\n"
      ],
      "text/plain": [
       "\u001b[2;36m                   \u001b[0m\u001b[2;36m \u001b[0m\u001b[31mWARNING \u001b[0m Error in results dispatching - \u001b[1;35mrender_boxes_on_frame\u001b[0m\u001b[1m(\u001b[0m\u001b[1m)\u001b[0m takes \u001b]8;id=263823;file:///Users/saadia/Documents/DevIA_2024/ShiFuMi_computerVision/venv/lib/python3.9/site-packages/inference/core/interfaces/stream/inference_pipeline.py\u001b\\\u001b[2minference_pipeline.py\u001b[0m\u001b]8;;\u001b\\\u001b[2m:\u001b[0m\u001b]8;id=687757;file:///Users/saadia/Documents/DevIA_2024/ShiFuMi_computerVision/venv/lib/python3.9/site-packages/inference/core/interfaces/stream/inference_pipeline.py#907\u001b\\\u001b[2m907\u001b[0m\u001b]8;;\u001b\\\n",
       "\u001b[2;36m                    \u001b[0m         \u001b[1;36m1\u001b[0m positional argument but \u001b[1;36m2\u001b[0m were given                       \u001b[2m                         \u001b[0m\n"
      ]
     },
     "metadata": {},
     "output_type": "display_data"
    },
    {
     "name": "stdout",
     "output_type": "stream",
     "text": [
      "0: 640x640 1 Scissors, 170.8ms\n",
      "Speed: 2.5ms preprocess, 170.8ms inference, 0.4ms postprocess per image at shape (1, 3, 640, 640)\n",
      "Video frames: 1\n",
      "\n"
     ]
    },
    {
     "data": {
      "text/html": [
       "<pre style=\"white-space:pre;overflow-x:auto;line-height:normal;font-family:Menlo,'DejaVu Sans Mono',consolas,'Courier New',monospace\"><span style=\"color: #7fbfbf; text-decoration-color: #7fbfbf\">                    </span><span style=\"color: #800000; text-decoration-color: #800000\">WARNING </span> Error in results dispatching - <span style=\"color: #800080; text-decoration-color: #800080; font-weight: bold\">render_boxes_on_frame</span><span style=\"font-weight: bold\">()</span> takes <a href=\"file:///Users/saadia/Documents/DevIA_2024/ShiFuMi_computerVision/venv/lib/python3.9/site-packages/inference/core/interfaces/stream/inference_pipeline.py\" target=\"_blank\"><span style=\"color: #7f7f7f; text-decoration-color: #7f7f7f\">inference_pipeline.py</span></a><span style=\"color: #7f7f7f; text-decoration-color: #7f7f7f\">:</span><a href=\"file:///Users/saadia/Documents/DevIA_2024/ShiFuMi_computerVision/venv/lib/python3.9/site-packages/inference/core/interfaces/stream/inference_pipeline.py#907\" target=\"_blank\"><span style=\"color: #7f7f7f; text-decoration-color: #7f7f7f\">907</span></a>\n",
       "<span style=\"color: #7fbfbf; text-decoration-color: #7fbfbf\">                    </span>         <span style=\"color: #008080; text-decoration-color: #008080; font-weight: bold\">1</span> positional argument but <span style=\"color: #008080; text-decoration-color: #008080; font-weight: bold\">2</span> were given                       <span style=\"color: #7f7f7f; text-decoration-color: #7f7f7f\">                         </span>\n",
       "</pre>\n"
      ],
      "text/plain": [
       "\u001b[2;36m                   \u001b[0m\u001b[2;36m \u001b[0m\u001b[31mWARNING \u001b[0m Error in results dispatching - \u001b[1;35mrender_boxes_on_frame\u001b[0m\u001b[1m(\u001b[0m\u001b[1m)\u001b[0m takes \u001b]8;id=873865;file:///Users/saadia/Documents/DevIA_2024/ShiFuMi_computerVision/venv/lib/python3.9/site-packages/inference/core/interfaces/stream/inference_pipeline.py\u001b\\\u001b[2minference_pipeline.py\u001b[0m\u001b]8;;\u001b\\\u001b[2m:\u001b[0m\u001b]8;id=32088;file:///Users/saadia/Documents/DevIA_2024/ShiFuMi_computerVision/venv/lib/python3.9/site-packages/inference/core/interfaces/stream/inference_pipeline.py#907\u001b\\\u001b[2m907\u001b[0m\u001b]8;;\u001b\\\n",
       "\u001b[2;36m                    \u001b[0m         \u001b[1;36m1\u001b[0m positional argument but \u001b[1;36m2\u001b[0m were given                       \u001b[2m                         \u001b[0m\n"
      ]
     },
     "metadata": {},
     "output_type": "display_data"
    },
    {
     "name": "stdout",
     "output_type": "stream",
     "text": [
      "0: 640x640 1 Scissors, 159.5ms\n",
      "Speed: 2.2ms preprocess, 159.5ms inference, 0.4ms postprocess per image at shape (1, 3, 640, 640)\n",
      "Video frames: 1\n",
      "\n"
     ]
    },
    {
     "data": {
      "text/html": [
       "<pre style=\"white-space:pre;overflow-x:auto;line-height:normal;font-family:Menlo,'DejaVu Sans Mono',consolas,'Courier New',monospace\"><span style=\"color: #7fbfbf; text-decoration-color: #7fbfbf\">                    </span><span style=\"color: #800000; text-decoration-color: #800000\">WARNING </span> Error in results dispatching - <span style=\"color: #800080; text-decoration-color: #800080; font-weight: bold\">render_boxes_on_frame</span><span style=\"font-weight: bold\">()</span> takes <a href=\"file:///Users/saadia/Documents/DevIA_2024/ShiFuMi_computerVision/venv/lib/python3.9/site-packages/inference/core/interfaces/stream/inference_pipeline.py\" target=\"_blank\"><span style=\"color: #7f7f7f; text-decoration-color: #7f7f7f\">inference_pipeline.py</span></a><span style=\"color: #7f7f7f; text-decoration-color: #7f7f7f\">:</span><a href=\"file:///Users/saadia/Documents/DevIA_2024/ShiFuMi_computerVision/venv/lib/python3.9/site-packages/inference/core/interfaces/stream/inference_pipeline.py#907\" target=\"_blank\"><span style=\"color: #7f7f7f; text-decoration-color: #7f7f7f\">907</span></a>\n",
       "<span style=\"color: #7fbfbf; text-decoration-color: #7fbfbf\">                    </span>         <span style=\"color: #008080; text-decoration-color: #008080; font-weight: bold\">1</span> positional argument but <span style=\"color: #008080; text-decoration-color: #008080; font-weight: bold\">2</span> were given                       <span style=\"color: #7f7f7f; text-decoration-color: #7f7f7f\">                         </span>\n",
       "</pre>\n"
      ],
      "text/plain": [
       "\u001b[2;36m                   \u001b[0m\u001b[2;36m \u001b[0m\u001b[31mWARNING \u001b[0m Error in results dispatching - \u001b[1;35mrender_boxes_on_frame\u001b[0m\u001b[1m(\u001b[0m\u001b[1m)\u001b[0m takes \u001b]8;id=818110;file:///Users/saadia/Documents/DevIA_2024/ShiFuMi_computerVision/venv/lib/python3.9/site-packages/inference/core/interfaces/stream/inference_pipeline.py\u001b\\\u001b[2minference_pipeline.py\u001b[0m\u001b]8;;\u001b\\\u001b[2m:\u001b[0m\u001b]8;id=754790;file:///Users/saadia/Documents/DevIA_2024/ShiFuMi_computerVision/venv/lib/python3.9/site-packages/inference/core/interfaces/stream/inference_pipeline.py#907\u001b\\\u001b[2m907\u001b[0m\u001b]8;;\u001b\\\n",
       "\u001b[2;36m                    \u001b[0m         \u001b[1;36m1\u001b[0m positional argument but \u001b[1;36m2\u001b[0m were given                       \u001b[2m                         \u001b[0m\n"
      ]
     },
     "metadata": {},
     "output_type": "display_data"
    },
    {
     "name": "stdout",
     "output_type": "stream",
     "text": [
      "0: 640x640 1 Scissors, 160.7ms\n",
      "Speed: 1.9ms preprocess, 160.7ms inference, 0.4ms postprocess per image at shape (1, 3, 640, 640)\n",
      "Video frames: 1\n",
      "\n"
     ]
    },
    {
     "data": {
      "text/html": [
       "<pre style=\"white-space:pre;overflow-x:auto;line-height:normal;font-family:Menlo,'DejaVu Sans Mono',consolas,'Courier New',monospace\"><span style=\"color: #7fbfbf; text-decoration-color: #7fbfbf\">                    </span><span style=\"color: #800000; text-decoration-color: #800000\">WARNING </span> Error in results dispatching - <span style=\"color: #800080; text-decoration-color: #800080; font-weight: bold\">render_boxes_on_frame</span><span style=\"font-weight: bold\">()</span> takes <a href=\"file:///Users/saadia/Documents/DevIA_2024/ShiFuMi_computerVision/venv/lib/python3.9/site-packages/inference/core/interfaces/stream/inference_pipeline.py\" target=\"_blank\"><span style=\"color: #7f7f7f; text-decoration-color: #7f7f7f\">inference_pipeline.py</span></a><span style=\"color: #7f7f7f; text-decoration-color: #7f7f7f\">:</span><a href=\"file:///Users/saadia/Documents/DevIA_2024/ShiFuMi_computerVision/venv/lib/python3.9/site-packages/inference/core/interfaces/stream/inference_pipeline.py#907\" target=\"_blank\"><span style=\"color: #7f7f7f; text-decoration-color: #7f7f7f\">907</span></a>\n",
       "<span style=\"color: #7fbfbf; text-decoration-color: #7fbfbf\">                    </span>         <span style=\"color: #008080; text-decoration-color: #008080; font-weight: bold\">1</span> positional argument but <span style=\"color: #008080; text-decoration-color: #008080; font-weight: bold\">2</span> were given                       <span style=\"color: #7f7f7f; text-decoration-color: #7f7f7f\">                         </span>\n",
       "</pre>\n"
      ],
      "text/plain": [
       "\u001b[2;36m                   \u001b[0m\u001b[2;36m \u001b[0m\u001b[31mWARNING \u001b[0m Error in results dispatching - \u001b[1;35mrender_boxes_on_frame\u001b[0m\u001b[1m(\u001b[0m\u001b[1m)\u001b[0m takes \u001b]8;id=364107;file:///Users/saadia/Documents/DevIA_2024/ShiFuMi_computerVision/venv/lib/python3.9/site-packages/inference/core/interfaces/stream/inference_pipeline.py\u001b\\\u001b[2minference_pipeline.py\u001b[0m\u001b]8;;\u001b\\\u001b[2m:\u001b[0m\u001b]8;id=333273;file:///Users/saadia/Documents/DevIA_2024/ShiFuMi_computerVision/venv/lib/python3.9/site-packages/inference/core/interfaces/stream/inference_pipeline.py#907\u001b\\\u001b[2m907\u001b[0m\u001b]8;;\u001b\\\n",
       "\u001b[2;36m                    \u001b[0m         \u001b[1;36m1\u001b[0m positional argument but \u001b[1;36m2\u001b[0m were given                       \u001b[2m                         \u001b[0m\n"
      ]
     },
     "metadata": {},
     "output_type": "display_data"
    },
    {
     "name": "stdout",
     "output_type": "stream",
     "text": [
      "0: 640x640 1 Scissors, 162.8ms\n",
      "Speed: 1.9ms preprocess, 162.8ms inference, 0.7ms postprocess per image at shape (1, 3, 640, 640)\n",
      "Video frames: 1\n",
      "\n"
     ]
    },
    {
     "data": {
      "text/html": [
       "<pre style=\"white-space:pre;overflow-x:auto;line-height:normal;font-family:Menlo,'DejaVu Sans Mono',consolas,'Courier New',monospace\"><span style=\"color: #7fbfbf; text-decoration-color: #7fbfbf\">                    </span><span style=\"color: #800000; text-decoration-color: #800000\">WARNING </span> Error in results dispatching - <span style=\"color: #800080; text-decoration-color: #800080; font-weight: bold\">render_boxes_on_frame</span><span style=\"font-weight: bold\">()</span> takes <a href=\"file:///Users/saadia/Documents/DevIA_2024/ShiFuMi_computerVision/venv/lib/python3.9/site-packages/inference/core/interfaces/stream/inference_pipeline.py\" target=\"_blank\"><span style=\"color: #7f7f7f; text-decoration-color: #7f7f7f\">inference_pipeline.py</span></a><span style=\"color: #7f7f7f; text-decoration-color: #7f7f7f\">:</span><a href=\"file:///Users/saadia/Documents/DevIA_2024/ShiFuMi_computerVision/venv/lib/python3.9/site-packages/inference/core/interfaces/stream/inference_pipeline.py#907\" target=\"_blank\"><span style=\"color: #7f7f7f; text-decoration-color: #7f7f7f\">907</span></a>\n",
       "<span style=\"color: #7fbfbf; text-decoration-color: #7fbfbf\">                    </span>         <span style=\"color: #008080; text-decoration-color: #008080; font-weight: bold\">1</span> positional argument but <span style=\"color: #008080; text-decoration-color: #008080; font-weight: bold\">2</span> were given                       <span style=\"color: #7f7f7f; text-decoration-color: #7f7f7f\">                         </span>\n",
       "</pre>\n"
      ],
      "text/plain": [
       "\u001b[2;36m                   \u001b[0m\u001b[2;36m \u001b[0m\u001b[31mWARNING \u001b[0m Error in results dispatching - \u001b[1;35mrender_boxes_on_frame\u001b[0m\u001b[1m(\u001b[0m\u001b[1m)\u001b[0m takes \u001b]8;id=60038;file:///Users/saadia/Documents/DevIA_2024/ShiFuMi_computerVision/venv/lib/python3.9/site-packages/inference/core/interfaces/stream/inference_pipeline.py\u001b\\\u001b[2minference_pipeline.py\u001b[0m\u001b]8;;\u001b\\\u001b[2m:\u001b[0m\u001b]8;id=218088;file:///Users/saadia/Documents/DevIA_2024/ShiFuMi_computerVision/venv/lib/python3.9/site-packages/inference/core/interfaces/stream/inference_pipeline.py#907\u001b\\\u001b[2m907\u001b[0m\u001b]8;;\u001b\\\n",
       "\u001b[2;36m                    \u001b[0m         \u001b[1;36m1\u001b[0m positional argument but \u001b[1;36m2\u001b[0m were given                       \u001b[2m                         \u001b[0m\n"
      ]
     },
     "metadata": {},
     "output_type": "display_data"
    },
    {
     "name": "stdout",
     "output_type": "stream",
     "text": [
      "0: 640x640 1 Scissors, 157.4ms\n",
      "Speed: 2.1ms preprocess, 157.4ms inference, 0.4ms postprocess per image at shape (1, 3, 640, 640)\n",
      "Video frames: 1\n",
      "\n"
     ]
    },
    {
     "data": {
      "text/html": [
       "<pre style=\"white-space:pre;overflow-x:auto;line-height:normal;font-family:Menlo,'DejaVu Sans Mono',consolas,'Courier New',monospace\"><span style=\"color: #7fbfbf; text-decoration-color: #7fbfbf\">[07/01/24 11:51:30] </span><span style=\"color: #800000; text-decoration-color: #800000\">WARNING </span> Error in results dispatching - <span style=\"color: #800080; text-decoration-color: #800080; font-weight: bold\">render_boxes_on_frame</span><span style=\"font-weight: bold\">()</span> takes <a href=\"file:///Users/saadia/Documents/DevIA_2024/ShiFuMi_computerVision/venv/lib/python3.9/site-packages/inference/core/interfaces/stream/inference_pipeline.py\" target=\"_blank\"><span style=\"color: #7f7f7f; text-decoration-color: #7f7f7f\">inference_pipeline.py</span></a><span style=\"color: #7f7f7f; text-decoration-color: #7f7f7f\">:</span><a href=\"file:///Users/saadia/Documents/DevIA_2024/ShiFuMi_computerVision/venv/lib/python3.9/site-packages/inference/core/interfaces/stream/inference_pipeline.py#907\" target=\"_blank\"><span style=\"color: #7f7f7f; text-decoration-color: #7f7f7f\">907</span></a>\n",
       "<span style=\"color: #7fbfbf; text-decoration-color: #7fbfbf\">                    </span>         <span style=\"color: #008080; text-decoration-color: #008080; font-weight: bold\">1</span> positional argument but <span style=\"color: #008080; text-decoration-color: #008080; font-weight: bold\">2</span> were given                       <span style=\"color: #7f7f7f; text-decoration-color: #7f7f7f\">                         </span>\n",
       "</pre>\n"
      ],
      "text/plain": [
       "\u001b[2;36m[07/01/24 11:51:30]\u001b[0m\u001b[2;36m \u001b[0m\u001b[31mWARNING \u001b[0m Error in results dispatching - \u001b[1;35mrender_boxes_on_frame\u001b[0m\u001b[1m(\u001b[0m\u001b[1m)\u001b[0m takes \u001b]8;id=958831;file:///Users/saadia/Documents/DevIA_2024/ShiFuMi_computerVision/venv/lib/python3.9/site-packages/inference/core/interfaces/stream/inference_pipeline.py\u001b\\\u001b[2minference_pipeline.py\u001b[0m\u001b]8;;\u001b\\\u001b[2m:\u001b[0m\u001b]8;id=346378;file:///Users/saadia/Documents/DevIA_2024/ShiFuMi_computerVision/venv/lib/python3.9/site-packages/inference/core/interfaces/stream/inference_pipeline.py#907\u001b\\\u001b[2m907\u001b[0m\u001b]8;;\u001b\\\n",
       "\u001b[2;36m                    \u001b[0m         \u001b[1;36m1\u001b[0m positional argument but \u001b[1;36m2\u001b[0m were given                       \u001b[2m                         \u001b[0m\n"
      ]
     },
     "metadata": {},
     "output_type": "display_data"
    },
    {
     "name": "stdout",
     "output_type": "stream",
     "text": [
      "0: 640x640 1 Scissors, 158.4ms\n",
      "Speed: 2.1ms preprocess, 158.4ms inference, 0.4ms postprocess per image at shape (1, 3, 640, 640)\n",
      "Video frames: 1\n",
      "\n"
     ]
    },
    {
     "data": {
      "text/html": [
       "<pre style=\"white-space:pre;overflow-x:auto;line-height:normal;font-family:Menlo,'DejaVu Sans Mono',consolas,'Courier New',monospace\"><span style=\"color: #7fbfbf; text-decoration-color: #7fbfbf\">                    </span><span style=\"color: #800000; text-decoration-color: #800000\">WARNING </span> Error in results dispatching - <span style=\"color: #800080; text-decoration-color: #800080; font-weight: bold\">render_boxes_on_frame</span><span style=\"font-weight: bold\">()</span> takes <a href=\"file:///Users/saadia/Documents/DevIA_2024/ShiFuMi_computerVision/venv/lib/python3.9/site-packages/inference/core/interfaces/stream/inference_pipeline.py\" target=\"_blank\"><span style=\"color: #7f7f7f; text-decoration-color: #7f7f7f\">inference_pipeline.py</span></a><span style=\"color: #7f7f7f; text-decoration-color: #7f7f7f\">:</span><a href=\"file:///Users/saadia/Documents/DevIA_2024/ShiFuMi_computerVision/venv/lib/python3.9/site-packages/inference/core/interfaces/stream/inference_pipeline.py#907\" target=\"_blank\"><span style=\"color: #7f7f7f; text-decoration-color: #7f7f7f\">907</span></a>\n",
       "<span style=\"color: #7fbfbf; text-decoration-color: #7fbfbf\">                    </span>         <span style=\"color: #008080; text-decoration-color: #008080; font-weight: bold\">1</span> positional argument but <span style=\"color: #008080; text-decoration-color: #008080; font-weight: bold\">2</span> were given                       <span style=\"color: #7f7f7f; text-decoration-color: #7f7f7f\">                         </span>\n",
       "</pre>\n"
      ],
      "text/plain": [
       "\u001b[2;36m                   \u001b[0m\u001b[2;36m \u001b[0m\u001b[31mWARNING \u001b[0m Error in results dispatching - \u001b[1;35mrender_boxes_on_frame\u001b[0m\u001b[1m(\u001b[0m\u001b[1m)\u001b[0m takes \u001b]8;id=172949;file:///Users/saadia/Documents/DevIA_2024/ShiFuMi_computerVision/venv/lib/python3.9/site-packages/inference/core/interfaces/stream/inference_pipeline.py\u001b\\\u001b[2minference_pipeline.py\u001b[0m\u001b]8;;\u001b\\\u001b[2m:\u001b[0m\u001b]8;id=120943;file:///Users/saadia/Documents/DevIA_2024/ShiFuMi_computerVision/venv/lib/python3.9/site-packages/inference/core/interfaces/stream/inference_pipeline.py#907\u001b\\\u001b[2m907\u001b[0m\u001b]8;;\u001b\\\n",
       "\u001b[2;36m                    \u001b[0m         \u001b[1;36m1\u001b[0m positional argument but \u001b[1;36m2\u001b[0m were given                       \u001b[2m                         \u001b[0m\n"
      ]
     },
     "metadata": {},
     "output_type": "display_data"
    },
    {
     "name": "stdout",
     "output_type": "stream",
     "text": [
      "0: 640x640 1 Scissors, 153.9ms\n",
      "Speed: 2.4ms preprocess, 153.9ms inference, 0.4ms postprocess per image at shape (1, 3, 640, 640)\n",
      "Video frames: 1\n",
      "\n"
     ]
    },
    {
     "data": {
      "text/html": [
       "<pre style=\"white-space:pre;overflow-x:auto;line-height:normal;font-family:Menlo,'DejaVu Sans Mono',consolas,'Courier New',monospace\"><span style=\"color: #7fbfbf; text-decoration-color: #7fbfbf\">                    </span><span style=\"color: #800000; text-decoration-color: #800000\">WARNING </span> Error in results dispatching - <span style=\"color: #800080; text-decoration-color: #800080; font-weight: bold\">render_boxes_on_frame</span><span style=\"font-weight: bold\">()</span> takes <a href=\"file:///Users/saadia/Documents/DevIA_2024/ShiFuMi_computerVision/venv/lib/python3.9/site-packages/inference/core/interfaces/stream/inference_pipeline.py\" target=\"_blank\"><span style=\"color: #7f7f7f; text-decoration-color: #7f7f7f\">inference_pipeline.py</span></a><span style=\"color: #7f7f7f; text-decoration-color: #7f7f7f\">:</span><a href=\"file:///Users/saadia/Documents/DevIA_2024/ShiFuMi_computerVision/venv/lib/python3.9/site-packages/inference/core/interfaces/stream/inference_pipeline.py#907\" target=\"_blank\"><span style=\"color: #7f7f7f; text-decoration-color: #7f7f7f\">907</span></a>\n",
       "<span style=\"color: #7fbfbf; text-decoration-color: #7fbfbf\">                    </span>         <span style=\"color: #008080; text-decoration-color: #008080; font-weight: bold\">1</span> positional argument but <span style=\"color: #008080; text-decoration-color: #008080; font-weight: bold\">2</span> were given                       <span style=\"color: #7f7f7f; text-decoration-color: #7f7f7f\">                         </span>\n",
       "</pre>\n"
      ],
      "text/plain": [
       "\u001b[2;36m                   \u001b[0m\u001b[2;36m \u001b[0m\u001b[31mWARNING \u001b[0m Error in results dispatching - \u001b[1;35mrender_boxes_on_frame\u001b[0m\u001b[1m(\u001b[0m\u001b[1m)\u001b[0m takes \u001b]8;id=132837;file:///Users/saadia/Documents/DevIA_2024/ShiFuMi_computerVision/venv/lib/python3.9/site-packages/inference/core/interfaces/stream/inference_pipeline.py\u001b\\\u001b[2minference_pipeline.py\u001b[0m\u001b]8;;\u001b\\\u001b[2m:\u001b[0m\u001b]8;id=181563;file:///Users/saadia/Documents/DevIA_2024/ShiFuMi_computerVision/venv/lib/python3.9/site-packages/inference/core/interfaces/stream/inference_pipeline.py#907\u001b\\\u001b[2m907\u001b[0m\u001b]8;;\u001b\\\n",
       "\u001b[2;36m                    \u001b[0m         \u001b[1;36m1\u001b[0m positional argument but \u001b[1;36m2\u001b[0m were given                       \u001b[2m                         \u001b[0m\n"
      ]
     },
     "metadata": {},
     "output_type": "display_data"
    },
    {
     "name": "stdout",
     "output_type": "stream",
     "text": [
      "0: 640x640 1 Scissors, 159.9ms\n",
      "Speed: 2.5ms preprocess, 159.9ms inference, 0.4ms postprocess per image at shape (1, 3, 640, 640)\n",
      "Video frames: 1\n",
      "\n"
     ]
    },
    {
     "data": {
      "text/html": [
       "<pre style=\"white-space:pre;overflow-x:auto;line-height:normal;font-family:Menlo,'DejaVu Sans Mono',consolas,'Courier New',monospace\"><span style=\"color: #7fbfbf; text-decoration-color: #7fbfbf\">                    </span><span style=\"color: #800000; text-decoration-color: #800000\">WARNING </span> Error in results dispatching - <span style=\"color: #800080; text-decoration-color: #800080; font-weight: bold\">render_boxes_on_frame</span><span style=\"font-weight: bold\">()</span> takes <a href=\"file:///Users/saadia/Documents/DevIA_2024/ShiFuMi_computerVision/venv/lib/python3.9/site-packages/inference/core/interfaces/stream/inference_pipeline.py\" target=\"_blank\"><span style=\"color: #7f7f7f; text-decoration-color: #7f7f7f\">inference_pipeline.py</span></a><span style=\"color: #7f7f7f; text-decoration-color: #7f7f7f\">:</span><a href=\"file:///Users/saadia/Documents/DevIA_2024/ShiFuMi_computerVision/venv/lib/python3.9/site-packages/inference/core/interfaces/stream/inference_pipeline.py#907\" target=\"_blank\"><span style=\"color: #7f7f7f; text-decoration-color: #7f7f7f\">907</span></a>\n",
       "<span style=\"color: #7fbfbf; text-decoration-color: #7fbfbf\">                    </span>         <span style=\"color: #008080; text-decoration-color: #008080; font-weight: bold\">1</span> positional argument but <span style=\"color: #008080; text-decoration-color: #008080; font-weight: bold\">2</span> were given                       <span style=\"color: #7f7f7f; text-decoration-color: #7f7f7f\">                         </span>\n",
       "</pre>\n"
      ],
      "text/plain": [
       "\u001b[2;36m                   \u001b[0m\u001b[2;36m \u001b[0m\u001b[31mWARNING \u001b[0m Error in results dispatching - \u001b[1;35mrender_boxes_on_frame\u001b[0m\u001b[1m(\u001b[0m\u001b[1m)\u001b[0m takes \u001b]8;id=699275;file:///Users/saadia/Documents/DevIA_2024/ShiFuMi_computerVision/venv/lib/python3.9/site-packages/inference/core/interfaces/stream/inference_pipeline.py\u001b\\\u001b[2minference_pipeline.py\u001b[0m\u001b]8;;\u001b\\\u001b[2m:\u001b[0m\u001b]8;id=340064;file:///Users/saadia/Documents/DevIA_2024/ShiFuMi_computerVision/venv/lib/python3.9/site-packages/inference/core/interfaces/stream/inference_pipeline.py#907\u001b\\\u001b[2m907\u001b[0m\u001b]8;;\u001b\\\n",
       "\u001b[2;36m                    \u001b[0m         \u001b[1;36m1\u001b[0m positional argument but \u001b[1;36m2\u001b[0m were given                       \u001b[2m                         \u001b[0m\n"
      ]
     },
     "metadata": {},
     "output_type": "display_data"
    },
    {
     "name": "stdout",
     "output_type": "stream",
     "text": [
      "0: 640x640 1 Scissors, 160.3ms\n",
      "Speed: 3.0ms preprocess, 160.3ms inference, 0.6ms postprocess per image at shape (1, 3, 640, 640)\n",
      "Video frames: 1\n",
      "\n"
     ]
    },
    {
     "data": {
      "text/html": [
       "<pre style=\"white-space:pre;overflow-x:auto;line-height:normal;font-family:Menlo,'DejaVu Sans Mono',consolas,'Courier New',monospace\"><span style=\"color: #7fbfbf; text-decoration-color: #7fbfbf\">                    </span><span style=\"color: #800000; text-decoration-color: #800000\">WARNING </span> Error in results dispatching - <span style=\"color: #800080; text-decoration-color: #800080; font-weight: bold\">render_boxes_on_frame</span><span style=\"font-weight: bold\">()</span> takes <a href=\"file:///Users/saadia/Documents/DevIA_2024/ShiFuMi_computerVision/venv/lib/python3.9/site-packages/inference/core/interfaces/stream/inference_pipeline.py\" target=\"_blank\"><span style=\"color: #7f7f7f; text-decoration-color: #7f7f7f\">inference_pipeline.py</span></a><span style=\"color: #7f7f7f; text-decoration-color: #7f7f7f\">:</span><a href=\"file:///Users/saadia/Documents/DevIA_2024/ShiFuMi_computerVision/venv/lib/python3.9/site-packages/inference/core/interfaces/stream/inference_pipeline.py#907\" target=\"_blank\"><span style=\"color: #7f7f7f; text-decoration-color: #7f7f7f\">907</span></a>\n",
       "<span style=\"color: #7fbfbf; text-decoration-color: #7fbfbf\">                    </span>         <span style=\"color: #008080; text-decoration-color: #008080; font-weight: bold\">1</span> positional argument but <span style=\"color: #008080; text-decoration-color: #008080; font-weight: bold\">2</span> were given                       <span style=\"color: #7f7f7f; text-decoration-color: #7f7f7f\">                         </span>\n",
       "</pre>\n"
      ],
      "text/plain": [
       "\u001b[2;36m                   \u001b[0m\u001b[2;36m \u001b[0m\u001b[31mWARNING \u001b[0m Error in results dispatching - \u001b[1;35mrender_boxes_on_frame\u001b[0m\u001b[1m(\u001b[0m\u001b[1m)\u001b[0m takes \u001b]8;id=752875;file:///Users/saadia/Documents/DevIA_2024/ShiFuMi_computerVision/venv/lib/python3.9/site-packages/inference/core/interfaces/stream/inference_pipeline.py\u001b\\\u001b[2minference_pipeline.py\u001b[0m\u001b]8;;\u001b\\\u001b[2m:\u001b[0m\u001b]8;id=173388;file:///Users/saadia/Documents/DevIA_2024/ShiFuMi_computerVision/venv/lib/python3.9/site-packages/inference/core/interfaces/stream/inference_pipeline.py#907\u001b\\\u001b[2m907\u001b[0m\u001b]8;;\u001b\\\n",
       "\u001b[2;36m                    \u001b[0m         \u001b[1;36m1\u001b[0m positional argument but \u001b[1;36m2\u001b[0m were given                       \u001b[2m                         \u001b[0m\n"
      ]
     },
     "metadata": {},
     "output_type": "display_data"
    },
    {
     "name": "stdout",
     "output_type": "stream",
     "text": [
      "0: 640x640 1 Paper, 1 Scissors, 162.9ms\n",
      "Speed: 3.0ms preprocess, 162.9ms inference, 0.4ms postprocess per image at shape (1, 3, 640, 640)\n",
      "Video frames: 1\n",
      "\n"
     ]
    },
    {
     "data": {
      "text/html": [
       "<pre style=\"white-space:pre;overflow-x:auto;line-height:normal;font-family:Menlo,'DejaVu Sans Mono',consolas,'Courier New',monospace\"><span style=\"color: #7fbfbf; text-decoration-color: #7fbfbf\">                    </span><span style=\"color: #800000; text-decoration-color: #800000\">WARNING </span> Error in results dispatching - <span style=\"color: #800080; text-decoration-color: #800080; font-weight: bold\">render_boxes_on_frame</span><span style=\"font-weight: bold\">()</span> takes <a href=\"file:///Users/saadia/Documents/DevIA_2024/ShiFuMi_computerVision/venv/lib/python3.9/site-packages/inference/core/interfaces/stream/inference_pipeline.py\" target=\"_blank\"><span style=\"color: #7f7f7f; text-decoration-color: #7f7f7f\">inference_pipeline.py</span></a><span style=\"color: #7f7f7f; text-decoration-color: #7f7f7f\">:</span><a href=\"file:///Users/saadia/Documents/DevIA_2024/ShiFuMi_computerVision/venv/lib/python3.9/site-packages/inference/core/interfaces/stream/inference_pipeline.py#907\" target=\"_blank\"><span style=\"color: #7f7f7f; text-decoration-color: #7f7f7f\">907</span></a>\n",
       "<span style=\"color: #7fbfbf; text-decoration-color: #7fbfbf\">                    </span>         <span style=\"color: #008080; text-decoration-color: #008080; font-weight: bold\">1</span> positional argument but <span style=\"color: #008080; text-decoration-color: #008080; font-weight: bold\">2</span> were given                       <span style=\"color: #7f7f7f; text-decoration-color: #7f7f7f\">                         </span>\n",
       "</pre>\n"
      ],
      "text/plain": [
       "\u001b[2;36m                   \u001b[0m\u001b[2;36m \u001b[0m\u001b[31mWARNING \u001b[0m Error in results dispatching - \u001b[1;35mrender_boxes_on_frame\u001b[0m\u001b[1m(\u001b[0m\u001b[1m)\u001b[0m takes \u001b]8;id=69896;file:///Users/saadia/Documents/DevIA_2024/ShiFuMi_computerVision/venv/lib/python3.9/site-packages/inference/core/interfaces/stream/inference_pipeline.py\u001b\\\u001b[2minference_pipeline.py\u001b[0m\u001b]8;;\u001b\\\u001b[2m:\u001b[0m\u001b]8;id=252312;file:///Users/saadia/Documents/DevIA_2024/ShiFuMi_computerVision/venv/lib/python3.9/site-packages/inference/core/interfaces/stream/inference_pipeline.py#907\u001b\\\u001b[2m907\u001b[0m\u001b]8;;\u001b\\\n",
       "\u001b[2;36m                    \u001b[0m         \u001b[1;36m1\u001b[0m positional argument but \u001b[1;36m2\u001b[0m were given                       \u001b[2m                         \u001b[0m\n"
      ]
     },
     "metadata": {},
     "output_type": "display_data"
    },
    {
     "name": "stdout",
     "output_type": "stream",
     "text": [
      "0: 640x640 1 Paper, 1 Scissors, 151.3ms\n",
      "Speed: 2.1ms preprocess, 151.3ms inference, 0.4ms postprocess per image at shape (1, 3, 640, 640)\n",
      "Video frames: 1\n",
      "\n"
     ]
    },
    {
     "data": {
      "text/html": [
       "<pre style=\"white-space:pre;overflow-x:auto;line-height:normal;font-family:Menlo,'DejaVu Sans Mono',consolas,'Courier New',monospace\"><span style=\"color: #7fbfbf; text-decoration-color: #7fbfbf\">[07/01/24 11:51:31] </span><span style=\"color: #800000; text-decoration-color: #800000\">WARNING </span> Error in results dispatching - <span style=\"color: #800080; text-decoration-color: #800080; font-weight: bold\">render_boxes_on_frame</span><span style=\"font-weight: bold\">()</span> takes <a href=\"file:///Users/saadia/Documents/DevIA_2024/ShiFuMi_computerVision/venv/lib/python3.9/site-packages/inference/core/interfaces/stream/inference_pipeline.py\" target=\"_blank\"><span style=\"color: #7f7f7f; text-decoration-color: #7f7f7f\">inference_pipeline.py</span></a><span style=\"color: #7f7f7f; text-decoration-color: #7f7f7f\">:</span><a href=\"file:///Users/saadia/Documents/DevIA_2024/ShiFuMi_computerVision/venv/lib/python3.9/site-packages/inference/core/interfaces/stream/inference_pipeline.py#907\" target=\"_blank\"><span style=\"color: #7f7f7f; text-decoration-color: #7f7f7f\">907</span></a>\n",
       "<span style=\"color: #7fbfbf; text-decoration-color: #7fbfbf\">                    </span>         <span style=\"color: #008080; text-decoration-color: #008080; font-weight: bold\">1</span> positional argument but <span style=\"color: #008080; text-decoration-color: #008080; font-weight: bold\">2</span> were given                       <span style=\"color: #7f7f7f; text-decoration-color: #7f7f7f\">                         </span>\n",
       "</pre>\n"
      ],
      "text/plain": [
       "\u001b[2;36m[07/01/24 11:51:31]\u001b[0m\u001b[2;36m \u001b[0m\u001b[31mWARNING \u001b[0m Error in results dispatching - \u001b[1;35mrender_boxes_on_frame\u001b[0m\u001b[1m(\u001b[0m\u001b[1m)\u001b[0m takes \u001b]8;id=86791;file:///Users/saadia/Documents/DevIA_2024/ShiFuMi_computerVision/venv/lib/python3.9/site-packages/inference/core/interfaces/stream/inference_pipeline.py\u001b\\\u001b[2minference_pipeline.py\u001b[0m\u001b]8;;\u001b\\\u001b[2m:\u001b[0m\u001b]8;id=337822;file:///Users/saadia/Documents/DevIA_2024/ShiFuMi_computerVision/venv/lib/python3.9/site-packages/inference/core/interfaces/stream/inference_pipeline.py#907\u001b\\\u001b[2m907\u001b[0m\u001b]8;;\u001b\\\n",
       "\u001b[2;36m                    \u001b[0m         \u001b[1;36m1\u001b[0m positional argument but \u001b[1;36m2\u001b[0m were given                       \u001b[2m                         \u001b[0m\n"
      ]
     },
     "metadata": {},
     "output_type": "display_data"
    },
    {
     "name": "stdout",
     "output_type": "stream",
     "text": [
      "0: 640x640 1 Paper, 1 Scissors, 177.0ms\n",
      "Speed: 2.1ms preprocess, 177.0ms inference, 0.4ms postprocess per image at shape (1, 3, 640, 640)\n",
      "Video frames: 1\n",
      "\n"
     ]
    },
    {
     "data": {
      "text/html": [
       "<pre style=\"white-space:pre;overflow-x:auto;line-height:normal;font-family:Menlo,'DejaVu Sans Mono',consolas,'Courier New',monospace\"><span style=\"color: #7fbfbf; text-decoration-color: #7fbfbf\">                    </span><span style=\"color: #800000; text-decoration-color: #800000\">WARNING </span> Error in results dispatching - <span style=\"color: #800080; text-decoration-color: #800080; font-weight: bold\">render_boxes_on_frame</span><span style=\"font-weight: bold\">()</span> takes <a href=\"file:///Users/saadia/Documents/DevIA_2024/ShiFuMi_computerVision/venv/lib/python3.9/site-packages/inference/core/interfaces/stream/inference_pipeline.py\" target=\"_blank\"><span style=\"color: #7f7f7f; text-decoration-color: #7f7f7f\">inference_pipeline.py</span></a><span style=\"color: #7f7f7f; text-decoration-color: #7f7f7f\">:</span><a href=\"file:///Users/saadia/Documents/DevIA_2024/ShiFuMi_computerVision/venv/lib/python3.9/site-packages/inference/core/interfaces/stream/inference_pipeline.py#907\" target=\"_blank\"><span style=\"color: #7f7f7f; text-decoration-color: #7f7f7f\">907</span></a>\n",
       "<span style=\"color: #7fbfbf; text-decoration-color: #7fbfbf\">                    </span>         <span style=\"color: #008080; text-decoration-color: #008080; font-weight: bold\">1</span> positional argument but <span style=\"color: #008080; text-decoration-color: #008080; font-weight: bold\">2</span> were given                       <span style=\"color: #7f7f7f; text-decoration-color: #7f7f7f\">                         </span>\n",
       "</pre>\n"
      ],
      "text/plain": [
       "\u001b[2;36m                   \u001b[0m\u001b[2;36m \u001b[0m\u001b[31mWARNING \u001b[0m Error in results dispatching - \u001b[1;35mrender_boxes_on_frame\u001b[0m\u001b[1m(\u001b[0m\u001b[1m)\u001b[0m takes \u001b]8;id=230329;file:///Users/saadia/Documents/DevIA_2024/ShiFuMi_computerVision/venv/lib/python3.9/site-packages/inference/core/interfaces/stream/inference_pipeline.py\u001b\\\u001b[2minference_pipeline.py\u001b[0m\u001b]8;;\u001b\\\u001b[2m:\u001b[0m\u001b]8;id=413745;file:///Users/saadia/Documents/DevIA_2024/ShiFuMi_computerVision/venv/lib/python3.9/site-packages/inference/core/interfaces/stream/inference_pipeline.py#907\u001b\\\u001b[2m907\u001b[0m\u001b]8;;\u001b\\\n",
       "\u001b[2;36m                    \u001b[0m         \u001b[1;36m1\u001b[0m positional argument but \u001b[1;36m2\u001b[0m were given                       \u001b[2m                         \u001b[0m\n"
      ]
     },
     "metadata": {},
     "output_type": "display_data"
    },
    {
     "name": "stdout",
     "output_type": "stream",
     "text": [
      "0: 640x640 1 Scissors, 150.7ms\n",
      "Speed: 1.9ms preprocess, 150.7ms inference, 0.4ms postprocess per image at shape (1, 3, 640, 640)\n",
      "Video frames: 1\n",
      "\n"
     ]
    },
    {
     "data": {
      "text/html": [
       "<pre style=\"white-space:pre;overflow-x:auto;line-height:normal;font-family:Menlo,'DejaVu Sans Mono',consolas,'Courier New',monospace\"><span style=\"color: #7fbfbf; text-decoration-color: #7fbfbf\">                    </span><span style=\"color: #800000; text-decoration-color: #800000\">WARNING </span> Error in results dispatching - <span style=\"color: #800080; text-decoration-color: #800080; font-weight: bold\">render_boxes_on_frame</span><span style=\"font-weight: bold\">()</span> takes <a href=\"file:///Users/saadia/Documents/DevIA_2024/ShiFuMi_computerVision/venv/lib/python3.9/site-packages/inference/core/interfaces/stream/inference_pipeline.py\" target=\"_blank\"><span style=\"color: #7f7f7f; text-decoration-color: #7f7f7f\">inference_pipeline.py</span></a><span style=\"color: #7f7f7f; text-decoration-color: #7f7f7f\">:</span><a href=\"file:///Users/saadia/Documents/DevIA_2024/ShiFuMi_computerVision/venv/lib/python3.9/site-packages/inference/core/interfaces/stream/inference_pipeline.py#907\" target=\"_blank\"><span style=\"color: #7f7f7f; text-decoration-color: #7f7f7f\">907</span></a>\n",
       "<span style=\"color: #7fbfbf; text-decoration-color: #7fbfbf\">                    </span>         <span style=\"color: #008080; text-decoration-color: #008080; font-weight: bold\">1</span> positional argument but <span style=\"color: #008080; text-decoration-color: #008080; font-weight: bold\">2</span> were given                       <span style=\"color: #7f7f7f; text-decoration-color: #7f7f7f\">                         </span>\n",
       "</pre>\n"
      ],
      "text/plain": [
       "\u001b[2;36m                   \u001b[0m\u001b[2;36m \u001b[0m\u001b[31mWARNING \u001b[0m Error in results dispatching - \u001b[1;35mrender_boxes_on_frame\u001b[0m\u001b[1m(\u001b[0m\u001b[1m)\u001b[0m takes \u001b]8;id=743393;file:///Users/saadia/Documents/DevIA_2024/ShiFuMi_computerVision/venv/lib/python3.9/site-packages/inference/core/interfaces/stream/inference_pipeline.py\u001b\\\u001b[2minference_pipeline.py\u001b[0m\u001b]8;;\u001b\\\u001b[2m:\u001b[0m\u001b]8;id=862403;file:///Users/saadia/Documents/DevIA_2024/ShiFuMi_computerVision/venv/lib/python3.9/site-packages/inference/core/interfaces/stream/inference_pipeline.py#907\u001b\\\u001b[2m907\u001b[0m\u001b]8;;\u001b\\\n",
       "\u001b[2;36m                    \u001b[0m         \u001b[1;36m1\u001b[0m positional argument but \u001b[1;36m2\u001b[0m were given                       \u001b[2m                         \u001b[0m\n"
      ]
     },
     "metadata": {},
     "output_type": "display_data"
    },
    {
     "name": "stdout",
     "output_type": "stream",
     "text": [
      "0: 640x640 1 Scissors, 154.8ms\n",
      "Speed: 2.4ms preprocess, 154.8ms inference, 0.4ms postprocess per image at shape (1, 3, 640, 640)\n",
      "Video frames: 1\n",
      "\n"
     ]
    },
    {
     "data": {
      "text/html": [
       "<pre style=\"white-space:pre;overflow-x:auto;line-height:normal;font-family:Menlo,'DejaVu Sans Mono',consolas,'Courier New',monospace\"><span style=\"color: #7fbfbf; text-decoration-color: #7fbfbf\">                    </span><span style=\"color: #800000; text-decoration-color: #800000\">WARNING </span> Error in results dispatching - <span style=\"color: #800080; text-decoration-color: #800080; font-weight: bold\">render_boxes_on_frame</span><span style=\"font-weight: bold\">()</span> takes <a href=\"file:///Users/saadia/Documents/DevIA_2024/ShiFuMi_computerVision/venv/lib/python3.9/site-packages/inference/core/interfaces/stream/inference_pipeline.py\" target=\"_blank\"><span style=\"color: #7f7f7f; text-decoration-color: #7f7f7f\">inference_pipeline.py</span></a><span style=\"color: #7f7f7f; text-decoration-color: #7f7f7f\">:</span><a href=\"file:///Users/saadia/Documents/DevIA_2024/ShiFuMi_computerVision/venv/lib/python3.9/site-packages/inference/core/interfaces/stream/inference_pipeline.py#907\" target=\"_blank\"><span style=\"color: #7f7f7f; text-decoration-color: #7f7f7f\">907</span></a>\n",
       "<span style=\"color: #7fbfbf; text-decoration-color: #7fbfbf\">                    </span>         <span style=\"color: #008080; text-decoration-color: #008080; font-weight: bold\">1</span> positional argument but <span style=\"color: #008080; text-decoration-color: #008080; font-weight: bold\">2</span> were given                       <span style=\"color: #7f7f7f; text-decoration-color: #7f7f7f\">                         </span>\n",
       "</pre>\n"
      ],
      "text/plain": [
       "\u001b[2;36m                   \u001b[0m\u001b[2;36m \u001b[0m\u001b[31mWARNING \u001b[0m Error in results dispatching - \u001b[1;35mrender_boxes_on_frame\u001b[0m\u001b[1m(\u001b[0m\u001b[1m)\u001b[0m takes \u001b]8;id=60136;file:///Users/saadia/Documents/DevIA_2024/ShiFuMi_computerVision/venv/lib/python3.9/site-packages/inference/core/interfaces/stream/inference_pipeline.py\u001b\\\u001b[2minference_pipeline.py\u001b[0m\u001b]8;;\u001b\\\u001b[2m:\u001b[0m\u001b]8;id=30954;file:///Users/saadia/Documents/DevIA_2024/ShiFuMi_computerVision/venv/lib/python3.9/site-packages/inference/core/interfaces/stream/inference_pipeline.py#907\u001b\\\u001b[2m907\u001b[0m\u001b]8;;\u001b\\\n",
       "\u001b[2;36m                    \u001b[0m         \u001b[1;36m1\u001b[0m positional argument but \u001b[1;36m2\u001b[0m were given                       \u001b[2m                         \u001b[0m\n"
      ]
     },
     "metadata": {},
     "output_type": "display_data"
    },
    {
     "name": "stdout",
     "output_type": "stream",
     "text": [
      "0: 640x640 1 Scissors, 149.1ms\n",
      "Speed: 2.3ms preprocess, 149.1ms inference, 0.4ms postprocess per image at shape (1, 3, 640, 640)\n",
      "Video frames: 1\n",
      "\n"
     ]
    },
    {
     "data": {
      "text/html": [
       "<pre style=\"white-space:pre;overflow-x:auto;line-height:normal;font-family:Menlo,'DejaVu Sans Mono',consolas,'Courier New',monospace\"><span style=\"color: #7fbfbf; text-decoration-color: #7fbfbf\">                    </span><span style=\"color: #800000; text-decoration-color: #800000\">WARNING </span> Error in results dispatching - <span style=\"color: #800080; text-decoration-color: #800080; font-weight: bold\">render_boxes_on_frame</span><span style=\"font-weight: bold\">()</span> takes <a href=\"file:///Users/saadia/Documents/DevIA_2024/ShiFuMi_computerVision/venv/lib/python3.9/site-packages/inference/core/interfaces/stream/inference_pipeline.py\" target=\"_blank\"><span style=\"color: #7f7f7f; text-decoration-color: #7f7f7f\">inference_pipeline.py</span></a><span style=\"color: #7f7f7f; text-decoration-color: #7f7f7f\">:</span><a href=\"file:///Users/saadia/Documents/DevIA_2024/ShiFuMi_computerVision/venv/lib/python3.9/site-packages/inference/core/interfaces/stream/inference_pipeline.py#907\" target=\"_blank\"><span style=\"color: #7f7f7f; text-decoration-color: #7f7f7f\">907</span></a>\n",
       "<span style=\"color: #7fbfbf; text-decoration-color: #7fbfbf\">                    </span>         <span style=\"color: #008080; text-decoration-color: #008080; font-weight: bold\">1</span> positional argument but <span style=\"color: #008080; text-decoration-color: #008080; font-weight: bold\">2</span> were given                       <span style=\"color: #7f7f7f; text-decoration-color: #7f7f7f\">                         </span>\n",
       "</pre>\n"
      ],
      "text/plain": [
       "\u001b[2;36m                   \u001b[0m\u001b[2;36m \u001b[0m\u001b[31mWARNING \u001b[0m Error in results dispatching - \u001b[1;35mrender_boxes_on_frame\u001b[0m\u001b[1m(\u001b[0m\u001b[1m)\u001b[0m takes \u001b]8;id=236672;file:///Users/saadia/Documents/DevIA_2024/ShiFuMi_computerVision/venv/lib/python3.9/site-packages/inference/core/interfaces/stream/inference_pipeline.py\u001b\\\u001b[2minference_pipeline.py\u001b[0m\u001b]8;;\u001b\\\u001b[2m:\u001b[0m\u001b]8;id=841649;file:///Users/saadia/Documents/DevIA_2024/ShiFuMi_computerVision/venv/lib/python3.9/site-packages/inference/core/interfaces/stream/inference_pipeline.py#907\u001b\\\u001b[2m907\u001b[0m\u001b]8;;\u001b\\\n",
       "\u001b[2;36m                    \u001b[0m         \u001b[1;36m1\u001b[0m positional argument but \u001b[1;36m2\u001b[0m were given                       \u001b[2m                         \u001b[0m\n"
      ]
     },
     "metadata": {},
     "output_type": "display_data"
    },
    {
     "name": "stdout",
     "output_type": "stream",
     "text": [
      "0: 640x640 1 Scissors, 147.5ms\n",
      "Speed: 2.0ms preprocess, 147.5ms inference, 0.4ms postprocess per image at shape (1, 3, 640, 640)\n",
      "Video frames: 1\n",
      "\n"
     ]
    },
    {
     "data": {
      "text/html": [
       "<pre style=\"white-space:pre;overflow-x:auto;line-height:normal;font-family:Menlo,'DejaVu Sans Mono',consolas,'Courier New',monospace\"><span style=\"color: #7fbfbf; text-decoration-color: #7fbfbf\">                    </span><span style=\"color: #800000; text-decoration-color: #800000\">WARNING </span> Error in results dispatching - <span style=\"color: #800080; text-decoration-color: #800080; font-weight: bold\">render_boxes_on_frame</span><span style=\"font-weight: bold\">()</span> takes <a href=\"file:///Users/saadia/Documents/DevIA_2024/ShiFuMi_computerVision/venv/lib/python3.9/site-packages/inference/core/interfaces/stream/inference_pipeline.py\" target=\"_blank\"><span style=\"color: #7f7f7f; text-decoration-color: #7f7f7f\">inference_pipeline.py</span></a><span style=\"color: #7f7f7f; text-decoration-color: #7f7f7f\">:</span><a href=\"file:///Users/saadia/Documents/DevIA_2024/ShiFuMi_computerVision/venv/lib/python3.9/site-packages/inference/core/interfaces/stream/inference_pipeline.py#907\" target=\"_blank\"><span style=\"color: #7f7f7f; text-decoration-color: #7f7f7f\">907</span></a>\n",
       "<span style=\"color: #7fbfbf; text-decoration-color: #7fbfbf\">                    </span>         <span style=\"color: #008080; text-decoration-color: #008080; font-weight: bold\">1</span> positional argument but <span style=\"color: #008080; text-decoration-color: #008080; font-weight: bold\">2</span> were given                       <span style=\"color: #7f7f7f; text-decoration-color: #7f7f7f\">                         </span>\n",
       "</pre>\n"
      ],
      "text/plain": [
       "\u001b[2;36m                   \u001b[0m\u001b[2;36m \u001b[0m\u001b[31mWARNING \u001b[0m Error in results dispatching - \u001b[1;35mrender_boxes_on_frame\u001b[0m\u001b[1m(\u001b[0m\u001b[1m)\u001b[0m takes \u001b]8;id=920412;file:///Users/saadia/Documents/DevIA_2024/ShiFuMi_computerVision/venv/lib/python3.9/site-packages/inference/core/interfaces/stream/inference_pipeline.py\u001b\\\u001b[2minference_pipeline.py\u001b[0m\u001b]8;;\u001b\\\u001b[2m:\u001b[0m\u001b]8;id=636654;file:///Users/saadia/Documents/DevIA_2024/ShiFuMi_computerVision/venv/lib/python3.9/site-packages/inference/core/interfaces/stream/inference_pipeline.py#907\u001b\\\u001b[2m907\u001b[0m\u001b]8;;\u001b\\\n",
       "\u001b[2;36m                    \u001b[0m         \u001b[1;36m1\u001b[0m positional argument but \u001b[1;36m2\u001b[0m were given                       \u001b[2m                         \u001b[0m\n"
      ]
     },
     "metadata": {},
     "output_type": "display_data"
    },
    {
     "name": "stdout",
     "output_type": "stream",
     "text": [
      "0: 640x640 1 Scissors, 148.8ms\n",
      "Speed: 2.1ms preprocess, 148.8ms inference, 0.4ms postprocess per image at shape (1, 3, 640, 640)\n",
      "Video frames: 1\n",
      "\n"
     ]
    },
    {
     "data": {
      "text/html": [
       "<pre style=\"white-space:pre;overflow-x:auto;line-height:normal;font-family:Menlo,'DejaVu Sans Mono',consolas,'Courier New',monospace\"><span style=\"color: #7fbfbf; text-decoration-color: #7fbfbf\">                    </span><span style=\"color: #800000; text-decoration-color: #800000\">WARNING </span> Error in results dispatching - <span style=\"color: #800080; text-decoration-color: #800080; font-weight: bold\">render_boxes_on_frame</span><span style=\"font-weight: bold\">()</span> takes <a href=\"file:///Users/saadia/Documents/DevIA_2024/ShiFuMi_computerVision/venv/lib/python3.9/site-packages/inference/core/interfaces/stream/inference_pipeline.py\" target=\"_blank\"><span style=\"color: #7f7f7f; text-decoration-color: #7f7f7f\">inference_pipeline.py</span></a><span style=\"color: #7f7f7f; text-decoration-color: #7f7f7f\">:</span><a href=\"file:///Users/saadia/Documents/DevIA_2024/ShiFuMi_computerVision/venv/lib/python3.9/site-packages/inference/core/interfaces/stream/inference_pipeline.py#907\" target=\"_blank\"><span style=\"color: #7f7f7f; text-decoration-color: #7f7f7f\">907</span></a>\n",
       "<span style=\"color: #7fbfbf; text-decoration-color: #7fbfbf\">                    </span>         <span style=\"color: #008080; text-decoration-color: #008080; font-weight: bold\">1</span> positional argument but <span style=\"color: #008080; text-decoration-color: #008080; font-weight: bold\">2</span> were given                       <span style=\"color: #7f7f7f; text-decoration-color: #7f7f7f\">                         </span>\n",
       "</pre>\n"
      ],
      "text/plain": [
       "\u001b[2;36m                   \u001b[0m\u001b[2;36m \u001b[0m\u001b[31mWARNING \u001b[0m Error in results dispatching - \u001b[1;35mrender_boxes_on_frame\u001b[0m\u001b[1m(\u001b[0m\u001b[1m)\u001b[0m takes \u001b]8;id=931597;file:///Users/saadia/Documents/DevIA_2024/ShiFuMi_computerVision/venv/lib/python3.9/site-packages/inference/core/interfaces/stream/inference_pipeline.py\u001b\\\u001b[2minference_pipeline.py\u001b[0m\u001b]8;;\u001b\\\u001b[2m:\u001b[0m\u001b]8;id=929250;file:///Users/saadia/Documents/DevIA_2024/ShiFuMi_computerVision/venv/lib/python3.9/site-packages/inference/core/interfaces/stream/inference_pipeline.py#907\u001b\\\u001b[2m907\u001b[0m\u001b]8;;\u001b\\\n",
       "\u001b[2;36m                    \u001b[0m         \u001b[1;36m1\u001b[0m positional argument but \u001b[1;36m2\u001b[0m were given                       \u001b[2m                         \u001b[0m\n"
      ]
     },
     "metadata": {},
     "output_type": "display_data"
    },
    {
     "name": "stdout",
     "output_type": "stream",
     "text": [
      "0: 640x640 1 Paper, 1 Scissors, 159.3ms\n",
      "Speed: 2.1ms preprocess, 159.3ms inference, 0.4ms postprocess per image at shape (1, 3, 640, 640)\n",
      "Video frames: 1\n",
      "\n"
     ]
    },
    {
     "data": {
      "text/html": [
       "<pre style=\"white-space:pre;overflow-x:auto;line-height:normal;font-family:Menlo,'DejaVu Sans Mono',consolas,'Courier New',monospace\"><span style=\"color: #7fbfbf; text-decoration-color: #7fbfbf\">[07/01/24 11:51:32] </span><span style=\"color: #800000; text-decoration-color: #800000\">WARNING </span> Error in results dispatching - <span style=\"color: #800080; text-decoration-color: #800080; font-weight: bold\">render_boxes_on_frame</span><span style=\"font-weight: bold\">()</span> takes <a href=\"file:///Users/saadia/Documents/DevIA_2024/ShiFuMi_computerVision/venv/lib/python3.9/site-packages/inference/core/interfaces/stream/inference_pipeline.py\" target=\"_blank\"><span style=\"color: #7f7f7f; text-decoration-color: #7f7f7f\">inference_pipeline.py</span></a><span style=\"color: #7f7f7f; text-decoration-color: #7f7f7f\">:</span><a href=\"file:///Users/saadia/Documents/DevIA_2024/ShiFuMi_computerVision/venv/lib/python3.9/site-packages/inference/core/interfaces/stream/inference_pipeline.py#907\" target=\"_blank\"><span style=\"color: #7f7f7f; text-decoration-color: #7f7f7f\">907</span></a>\n",
       "<span style=\"color: #7fbfbf; text-decoration-color: #7fbfbf\">                    </span>         <span style=\"color: #008080; text-decoration-color: #008080; font-weight: bold\">1</span> positional argument but <span style=\"color: #008080; text-decoration-color: #008080; font-weight: bold\">2</span> were given                       <span style=\"color: #7f7f7f; text-decoration-color: #7f7f7f\">                         </span>\n",
       "</pre>\n"
      ],
      "text/plain": [
       "\u001b[2;36m[07/01/24 11:51:32]\u001b[0m\u001b[2;36m \u001b[0m\u001b[31mWARNING \u001b[0m Error in results dispatching - \u001b[1;35mrender_boxes_on_frame\u001b[0m\u001b[1m(\u001b[0m\u001b[1m)\u001b[0m takes \u001b]8;id=242480;file:///Users/saadia/Documents/DevIA_2024/ShiFuMi_computerVision/venv/lib/python3.9/site-packages/inference/core/interfaces/stream/inference_pipeline.py\u001b\\\u001b[2minference_pipeline.py\u001b[0m\u001b]8;;\u001b\\\u001b[2m:\u001b[0m\u001b]8;id=308885;file:///Users/saadia/Documents/DevIA_2024/ShiFuMi_computerVision/venv/lib/python3.9/site-packages/inference/core/interfaces/stream/inference_pipeline.py#907\u001b\\\u001b[2m907\u001b[0m\u001b]8;;\u001b\\\n",
       "\u001b[2;36m                    \u001b[0m         \u001b[1;36m1\u001b[0m positional argument but \u001b[1;36m2\u001b[0m were given                       \u001b[2m                         \u001b[0m\n"
      ]
     },
     "metadata": {},
     "output_type": "display_data"
    },
    {
     "name": "stdout",
     "output_type": "stream",
     "text": [
      "0: 640x640 1 Paper, 1 Scissors, 156.9ms\n",
      "Speed: 2.4ms preprocess, 156.9ms inference, 0.8ms postprocess per image at shape (1, 3, 640, 640)\n",
      "Video frames: 1\n",
      "\n"
     ]
    },
    {
     "data": {
      "text/html": [
       "<pre style=\"white-space:pre;overflow-x:auto;line-height:normal;font-family:Menlo,'DejaVu Sans Mono',consolas,'Courier New',monospace\"><span style=\"color: #7fbfbf; text-decoration-color: #7fbfbf\">                    </span><span style=\"color: #800000; text-decoration-color: #800000\">WARNING </span> Error in results dispatching - <span style=\"color: #800080; text-decoration-color: #800080; font-weight: bold\">render_boxes_on_frame</span><span style=\"font-weight: bold\">()</span> takes <a href=\"file:///Users/saadia/Documents/DevIA_2024/ShiFuMi_computerVision/venv/lib/python3.9/site-packages/inference/core/interfaces/stream/inference_pipeline.py\" target=\"_blank\"><span style=\"color: #7f7f7f; text-decoration-color: #7f7f7f\">inference_pipeline.py</span></a><span style=\"color: #7f7f7f; text-decoration-color: #7f7f7f\">:</span><a href=\"file:///Users/saadia/Documents/DevIA_2024/ShiFuMi_computerVision/venv/lib/python3.9/site-packages/inference/core/interfaces/stream/inference_pipeline.py#907\" target=\"_blank\"><span style=\"color: #7f7f7f; text-decoration-color: #7f7f7f\">907</span></a>\n",
       "<span style=\"color: #7fbfbf; text-decoration-color: #7fbfbf\">                    </span>         <span style=\"color: #008080; text-decoration-color: #008080; font-weight: bold\">1</span> positional argument but <span style=\"color: #008080; text-decoration-color: #008080; font-weight: bold\">2</span> were given                       <span style=\"color: #7f7f7f; text-decoration-color: #7f7f7f\">                         </span>\n",
       "</pre>\n"
      ],
      "text/plain": [
       "\u001b[2;36m                   \u001b[0m\u001b[2;36m \u001b[0m\u001b[31mWARNING \u001b[0m Error in results dispatching - \u001b[1;35mrender_boxes_on_frame\u001b[0m\u001b[1m(\u001b[0m\u001b[1m)\u001b[0m takes \u001b]8;id=205575;file:///Users/saadia/Documents/DevIA_2024/ShiFuMi_computerVision/venv/lib/python3.9/site-packages/inference/core/interfaces/stream/inference_pipeline.py\u001b\\\u001b[2minference_pipeline.py\u001b[0m\u001b]8;;\u001b\\\u001b[2m:\u001b[0m\u001b]8;id=1178;file:///Users/saadia/Documents/DevIA_2024/ShiFuMi_computerVision/venv/lib/python3.9/site-packages/inference/core/interfaces/stream/inference_pipeline.py#907\u001b\\\u001b[2m907\u001b[0m\u001b]8;;\u001b\\\n",
       "\u001b[2;36m                    \u001b[0m         \u001b[1;36m1\u001b[0m positional argument but \u001b[1;36m2\u001b[0m were given                       \u001b[2m                         \u001b[0m\n"
      ]
     },
     "metadata": {},
     "output_type": "display_data"
    },
    {
     "name": "stdout",
     "output_type": "stream",
     "text": [
      "0: 640x640 1 Paper, 197.0ms\n",
      "Speed: 4.0ms preprocess, 197.0ms inference, 0.8ms postprocess per image at shape (1, 3, 640, 640)\n",
      "Video frames: 1\n",
      "\n"
     ]
    },
    {
     "data": {
      "text/html": [
       "<pre style=\"white-space:pre;overflow-x:auto;line-height:normal;font-family:Menlo,'DejaVu Sans Mono',consolas,'Courier New',monospace\"><span style=\"color: #7fbfbf; text-decoration-color: #7fbfbf\">                    </span><span style=\"color: #800000; text-decoration-color: #800000\">WARNING </span> Error in results dispatching - <span style=\"color: #800080; text-decoration-color: #800080; font-weight: bold\">render_boxes_on_frame</span><span style=\"font-weight: bold\">()</span> takes <a href=\"file:///Users/saadia/Documents/DevIA_2024/ShiFuMi_computerVision/venv/lib/python3.9/site-packages/inference/core/interfaces/stream/inference_pipeline.py\" target=\"_blank\"><span style=\"color: #7f7f7f; text-decoration-color: #7f7f7f\">inference_pipeline.py</span></a><span style=\"color: #7f7f7f; text-decoration-color: #7f7f7f\">:</span><a href=\"file:///Users/saadia/Documents/DevIA_2024/ShiFuMi_computerVision/venv/lib/python3.9/site-packages/inference/core/interfaces/stream/inference_pipeline.py#907\" target=\"_blank\"><span style=\"color: #7f7f7f; text-decoration-color: #7f7f7f\">907</span></a>\n",
       "<span style=\"color: #7fbfbf; text-decoration-color: #7fbfbf\">                    </span>         <span style=\"color: #008080; text-decoration-color: #008080; font-weight: bold\">1</span> positional argument but <span style=\"color: #008080; text-decoration-color: #008080; font-weight: bold\">2</span> were given                       <span style=\"color: #7f7f7f; text-decoration-color: #7f7f7f\">                         </span>\n",
       "</pre>\n"
      ],
      "text/plain": [
       "\u001b[2;36m                   \u001b[0m\u001b[2;36m \u001b[0m\u001b[31mWARNING \u001b[0m Error in results dispatching - \u001b[1;35mrender_boxes_on_frame\u001b[0m\u001b[1m(\u001b[0m\u001b[1m)\u001b[0m takes \u001b]8;id=788892;file:///Users/saadia/Documents/DevIA_2024/ShiFuMi_computerVision/venv/lib/python3.9/site-packages/inference/core/interfaces/stream/inference_pipeline.py\u001b\\\u001b[2minference_pipeline.py\u001b[0m\u001b]8;;\u001b\\\u001b[2m:\u001b[0m\u001b]8;id=310379;file:///Users/saadia/Documents/DevIA_2024/ShiFuMi_computerVision/venv/lib/python3.9/site-packages/inference/core/interfaces/stream/inference_pipeline.py#907\u001b\\\u001b[2m907\u001b[0m\u001b]8;;\u001b\\\n",
       "\u001b[2;36m                    \u001b[0m         \u001b[1;36m1\u001b[0m positional argument but \u001b[1;36m2\u001b[0m were given                       \u001b[2m                         \u001b[0m\n"
      ]
     },
     "metadata": {},
     "output_type": "display_data"
    },
    {
     "name": "stdout",
     "output_type": "stream",
     "text": [
      "0: 640x640 1 Scissors, 152.8ms\n",
      "Speed: 2.3ms preprocess, 152.8ms inference, 0.4ms postprocess per image at shape (1, 3, 640, 640)\n",
      "Video frames: 1\n",
      "\n"
     ]
    },
    {
     "data": {
      "text/html": [
       "<pre style=\"white-space:pre;overflow-x:auto;line-height:normal;font-family:Menlo,'DejaVu Sans Mono',consolas,'Courier New',monospace\"><span style=\"color: #7fbfbf; text-decoration-color: #7fbfbf\">                    </span><span style=\"color: #800000; text-decoration-color: #800000\">WARNING </span> Error in results dispatching - <span style=\"color: #800080; text-decoration-color: #800080; font-weight: bold\">render_boxes_on_frame</span><span style=\"font-weight: bold\">()</span> takes <a href=\"file:///Users/saadia/Documents/DevIA_2024/ShiFuMi_computerVision/venv/lib/python3.9/site-packages/inference/core/interfaces/stream/inference_pipeline.py\" target=\"_blank\"><span style=\"color: #7f7f7f; text-decoration-color: #7f7f7f\">inference_pipeline.py</span></a><span style=\"color: #7f7f7f; text-decoration-color: #7f7f7f\">:</span><a href=\"file:///Users/saadia/Documents/DevIA_2024/ShiFuMi_computerVision/venv/lib/python3.9/site-packages/inference/core/interfaces/stream/inference_pipeline.py#907\" target=\"_blank\"><span style=\"color: #7f7f7f; text-decoration-color: #7f7f7f\">907</span></a>\n",
       "<span style=\"color: #7fbfbf; text-decoration-color: #7fbfbf\">                    </span>         <span style=\"color: #008080; text-decoration-color: #008080; font-weight: bold\">1</span> positional argument but <span style=\"color: #008080; text-decoration-color: #008080; font-weight: bold\">2</span> were given                       <span style=\"color: #7f7f7f; text-decoration-color: #7f7f7f\">                         </span>\n",
       "</pre>\n"
      ],
      "text/plain": [
       "\u001b[2;36m                   \u001b[0m\u001b[2;36m \u001b[0m\u001b[31mWARNING \u001b[0m Error in results dispatching - \u001b[1;35mrender_boxes_on_frame\u001b[0m\u001b[1m(\u001b[0m\u001b[1m)\u001b[0m takes \u001b]8;id=556011;file:///Users/saadia/Documents/DevIA_2024/ShiFuMi_computerVision/venv/lib/python3.9/site-packages/inference/core/interfaces/stream/inference_pipeline.py\u001b\\\u001b[2minference_pipeline.py\u001b[0m\u001b]8;;\u001b\\\u001b[2m:\u001b[0m\u001b]8;id=601312;file:///Users/saadia/Documents/DevIA_2024/ShiFuMi_computerVision/venv/lib/python3.9/site-packages/inference/core/interfaces/stream/inference_pipeline.py#907\u001b\\\u001b[2m907\u001b[0m\u001b]8;;\u001b\\\n",
       "\u001b[2;36m                    \u001b[0m         \u001b[1;36m1\u001b[0m positional argument but \u001b[1;36m2\u001b[0m were given                       \u001b[2m                         \u001b[0m\n"
      ]
     },
     "metadata": {},
     "output_type": "display_data"
    },
    {
     "name": "stdout",
     "output_type": "stream",
     "text": [
      "0: 640x640 1 Scissors, 155.9ms\n",
      "Speed: 2.0ms preprocess, 155.9ms inference, 0.4ms postprocess per image at shape (1, 3, 640, 640)\n",
      "Video frames: 1\n",
      "\n"
     ]
    },
    {
     "data": {
      "text/html": [
       "<pre style=\"white-space:pre;overflow-x:auto;line-height:normal;font-family:Menlo,'DejaVu Sans Mono',consolas,'Courier New',monospace\"><span style=\"color: #7fbfbf; text-decoration-color: #7fbfbf\">                    </span><span style=\"color: #800000; text-decoration-color: #800000\">WARNING </span> Error in results dispatching - <span style=\"color: #800080; text-decoration-color: #800080; font-weight: bold\">render_boxes_on_frame</span><span style=\"font-weight: bold\">()</span> takes <a href=\"file:///Users/saadia/Documents/DevIA_2024/ShiFuMi_computerVision/venv/lib/python3.9/site-packages/inference/core/interfaces/stream/inference_pipeline.py\" target=\"_blank\"><span style=\"color: #7f7f7f; text-decoration-color: #7f7f7f\">inference_pipeline.py</span></a><span style=\"color: #7f7f7f; text-decoration-color: #7f7f7f\">:</span><a href=\"file:///Users/saadia/Documents/DevIA_2024/ShiFuMi_computerVision/venv/lib/python3.9/site-packages/inference/core/interfaces/stream/inference_pipeline.py#907\" target=\"_blank\"><span style=\"color: #7f7f7f; text-decoration-color: #7f7f7f\">907</span></a>\n",
       "<span style=\"color: #7fbfbf; text-decoration-color: #7fbfbf\">                    </span>         <span style=\"color: #008080; text-decoration-color: #008080; font-weight: bold\">1</span> positional argument but <span style=\"color: #008080; text-decoration-color: #008080; font-weight: bold\">2</span> were given                       <span style=\"color: #7f7f7f; text-decoration-color: #7f7f7f\">                         </span>\n",
       "</pre>\n"
      ],
      "text/plain": [
       "\u001b[2;36m                   \u001b[0m\u001b[2;36m \u001b[0m\u001b[31mWARNING \u001b[0m Error in results dispatching - \u001b[1;35mrender_boxes_on_frame\u001b[0m\u001b[1m(\u001b[0m\u001b[1m)\u001b[0m takes \u001b]8;id=724122;file:///Users/saadia/Documents/DevIA_2024/ShiFuMi_computerVision/venv/lib/python3.9/site-packages/inference/core/interfaces/stream/inference_pipeline.py\u001b\\\u001b[2minference_pipeline.py\u001b[0m\u001b]8;;\u001b\\\u001b[2m:\u001b[0m\u001b]8;id=174068;file:///Users/saadia/Documents/DevIA_2024/ShiFuMi_computerVision/venv/lib/python3.9/site-packages/inference/core/interfaces/stream/inference_pipeline.py#907\u001b\\\u001b[2m907\u001b[0m\u001b]8;;\u001b\\\n",
       "\u001b[2;36m                    \u001b[0m         \u001b[1;36m1\u001b[0m positional argument but \u001b[1;36m2\u001b[0m were given                       \u001b[2m                         \u001b[0m\n"
      ]
     },
     "metadata": {},
     "output_type": "display_data"
    },
    {
     "name": "stdout",
     "output_type": "stream",
     "text": [
      "0: 640x640 1 Paper, 1 Scissors, 239.2ms\n",
      "Speed: 2.0ms preprocess, 239.2ms inference, 0.4ms postprocess per image at shape (1, 3, 640, 640)\n",
      "Video frames: 1\n",
      "\n"
     ]
    },
    {
     "data": {
      "text/html": [
       "<pre style=\"white-space:pre;overflow-x:auto;line-height:normal;font-family:Menlo,'DejaVu Sans Mono',consolas,'Courier New',monospace\"><span style=\"color: #7fbfbf; text-decoration-color: #7fbfbf\">[07/01/24 11:51:33] </span><span style=\"color: #800000; text-decoration-color: #800000\">WARNING </span> Error in results dispatching - <span style=\"color: #800080; text-decoration-color: #800080; font-weight: bold\">render_boxes_on_frame</span><span style=\"font-weight: bold\">()</span> takes <a href=\"file:///Users/saadia/Documents/DevIA_2024/ShiFuMi_computerVision/venv/lib/python3.9/site-packages/inference/core/interfaces/stream/inference_pipeline.py\" target=\"_blank\"><span style=\"color: #7f7f7f; text-decoration-color: #7f7f7f\">inference_pipeline.py</span></a><span style=\"color: #7f7f7f; text-decoration-color: #7f7f7f\">:</span><a href=\"file:///Users/saadia/Documents/DevIA_2024/ShiFuMi_computerVision/venv/lib/python3.9/site-packages/inference/core/interfaces/stream/inference_pipeline.py#907\" target=\"_blank\"><span style=\"color: #7f7f7f; text-decoration-color: #7f7f7f\">907</span></a>\n",
       "<span style=\"color: #7fbfbf; text-decoration-color: #7fbfbf\">                    </span>         <span style=\"color: #008080; text-decoration-color: #008080; font-weight: bold\">1</span> positional argument but <span style=\"color: #008080; text-decoration-color: #008080; font-weight: bold\">2</span> were given                       <span style=\"color: #7f7f7f; text-decoration-color: #7f7f7f\">                         </span>\n",
       "</pre>\n"
      ],
      "text/plain": [
       "\u001b[2;36m[07/01/24 11:51:33]\u001b[0m\u001b[2;36m \u001b[0m\u001b[31mWARNING \u001b[0m Error in results dispatching - \u001b[1;35mrender_boxes_on_frame\u001b[0m\u001b[1m(\u001b[0m\u001b[1m)\u001b[0m takes \u001b]8;id=608788;file:///Users/saadia/Documents/DevIA_2024/ShiFuMi_computerVision/venv/lib/python3.9/site-packages/inference/core/interfaces/stream/inference_pipeline.py\u001b\\\u001b[2minference_pipeline.py\u001b[0m\u001b]8;;\u001b\\\u001b[2m:\u001b[0m\u001b]8;id=356207;file:///Users/saadia/Documents/DevIA_2024/ShiFuMi_computerVision/venv/lib/python3.9/site-packages/inference/core/interfaces/stream/inference_pipeline.py#907\u001b\\\u001b[2m907\u001b[0m\u001b]8;;\u001b\\\n",
       "\u001b[2;36m                    \u001b[0m         \u001b[1;36m1\u001b[0m positional argument but \u001b[1;36m2\u001b[0m were given                       \u001b[2m                         \u001b[0m\n"
      ]
     },
     "metadata": {},
     "output_type": "display_data"
    },
    {
     "name": "stdout",
     "output_type": "stream",
     "text": [
      "0: 640x640 1 Scissors, 187.4ms\n",
      "Speed: 2.3ms preprocess, 187.4ms inference, 0.4ms postprocess per image at shape (1, 3, 640, 640)\n",
      "Video frames: 1\n",
      "\n"
     ]
    },
    {
     "data": {
      "text/html": [
       "<pre style=\"white-space:pre;overflow-x:auto;line-height:normal;font-family:Menlo,'DejaVu Sans Mono',consolas,'Courier New',monospace\"><span style=\"color: #7fbfbf; text-decoration-color: #7fbfbf\">                    </span><span style=\"color: #800000; text-decoration-color: #800000\">WARNING </span> Error in results dispatching - <span style=\"color: #800080; text-decoration-color: #800080; font-weight: bold\">render_boxes_on_frame</span><span style=\"font-weight: bold\">()</span> takes <a href=\"file:///Users/saadia/Documents/DevIA_2024/ShiFuMi_computerVision/venv/lib/python3.9/site-packages/inference/core/interfaces/stream/inference_pipeline.py\" target=\"_blank\"><span style=\"color: #7f7f7f; text-decoration-color: #7f7f7f\">inference_pipeline.py</span></a><span style=\"color: #7f7f7f; text-decoration-color: #7f7f7f\">:</span><a href=\"file:///Users/saadia/Documents/DevIA_2024/ShiFuMi_computerVision/venv/lib/python3.9/site-packages/inference/core/interfaces/stream/inference_pipeline.py#907\" target=\"_blank\"><span style=\"color: #7f7f7f; text-decoration-color: #7f7f7f\">907</span></a>\n",
       "<span style=\"color: #7fbfbf; text-decoration-color: #7fbfbf\">                    </span>         <span style=\"color: #008080; text-decoration-color: #008080; font-weight: bold\">1</span> positional argument but <span style=\"color: #008080; text-decoration-color: #008080; font-weight: bold\">2</span> were given                       <span style=\"color: #7f7f7f; text-decoration-color: #7f7f7f\">                         </span>\n",
       "</pre>\n"
      ],
      "text/plain": [
       "\u001b[2;36m                   \u001b[0m\u001b[2;36m \u001b[0m\u001b[31mWARNING \u001b[0m Error in results dispatching - \u001b[1;35mrender_boxes_on_frame\u001b[0m\u001b[1m(\u001b[0m\u001b[1m)\u001b[0m takes \u001b]8;id=739109;file:///Users/saadia/Documents/DevIA_2024/ShiFuMi_computerVision/venv/lib/python3.9/site-packages/inference/core/interfaces/stream/inference_pipeline.py\u001b\\\u001b[2minference_pipeline.py\u001b[0m\u001b]8;;\u001b\\\u001b[2m:\u001b[0m\u001b]8;id=609509;file:///Users/saadia/Documents/DevIA_2024/ShiFuMi_computerVision/venv/lib/python3.9/site-packages/inference/core/interfaces/stream/inference_pipeline.py#907\u001b\\\u001b[2m907\u001b[0m\u001b]8;;\u001b\\\n",
       "\u001b[2;36m                    \u001b[0m         \u001b[1;36m1\u001b[0m positional argument but \u001b[1;36m2\u001b[0m were given                       \u001b[2m                         \u001b[0m\n"
      ]
     },
     "metadata": {},
     "output_type": "display_data"
    },
    {
     "name": "stdout",
     "output_type": "stream",
     "text": [
      "0: 640x640 1 Scissors, 164.1ms\n",
      "Speed: 2.5ms preprocess, 164.1ms inference, 0.4ms postprocess per image at shape (1, 3, 640, 640)\n",
      "Video frames: 1\n",
      "\n"
     ]
    },
    {
     "data": {
      "text/html": [
       "<pre style=\"white-space:pre;overflow-x:auto;line-height:normal;font-family:Menlo,'DejaVu Sans Mono',consolas,'Courier New',monospace\"><span style=\"color: #7fbfbf; text-decoration-color: #7fbfbf\">                    </span><span style=\"color: #800000; text-decoration-color: #800000\">WARNING </span> Error in results dispatching - <span style=\"color: #800080; text-decoration-color: #800080; font-weight: bold\">render_boxes_on_frame</span><span style=\"font-weight: bold\">()</span> takes <a href=\"file:///Users/saadia/Documents/DevIA_2024/ShiFuMi_computerVision/venv/lib/python3.9/site-packages/inference/core/interfaces/stream/inference_pipeline.py\" target=\"_blank\"><span style=\"color: #7f7f7f; text-decoration-color: #7f7f7f\">inference_pipeline.py</span></a><span style=\"color: #7f7f7f; text-decoration-color: #7f7f7f\">:</span><a href=\"file:///Users/saadia/Documents/DevIA_2024/ShiFuMi_computerVision/venv/lib/python3.9/site-packages/inference/core/interfaces/stream/inference_pipeline.py#907\" target=\"_blank\"><span style=\"color: #7f7f7f; text-decoration-color: #7f7f7f\">907</span></a>\n",
       "<span style=\"color: #7fbfbf; text-decoration-color: #7fbfbf\">                    </span>         <span style=\"color: #008080; text-decoration-color: #008080; font-weight: bold\">1</span> positional argument but <span style=\"color: #008080; text-decoration-color: #008080; font-weight: bold\">2</span> were given                       <span style=\"color: #7f7f7f; text-decoration-color: #7f7f7f\">                         </span>\n",
       "</pre>\n"
      ],
      "text/plain": [
       "\u001b[2;36m                   \u001b[0m\u001b[2;36m \u001b[0m\u001b[31mWARNING \u001b[0m Error in results dispatching - \u001b[1;35mrender_boxes_on_frame\u001b[0m\u001b[1m(\u001b[0m\u001b[1m)\u001b[0m takes \u001b]8;id=592680;file:///Users/saadia/Documents/DevIA_2024/ShiFuMi_computerVision/venv/lib/python3.9/site-packages/inference/core/interfaces/stream/inference_pipeline.py\u001b\\\u001b[2minference_pipeline.py\u001b[0m\u001b]8;;\u001b\\\u001b[2m:\u001b[0m\u001b]8;id=934930;file:///Users/saadia/Documents/DevIA_2024/ShiFuMi_computerVision/venv/lib/python3.9/site-packages/inference/core/interfaces/stream/inference_pipeline.py#907\u001b\\\u001b[2m907\u001b[0m\u001b]8;;\u001b\\\n",
       "\u001b[2;36m                    \u001b[0m         \u001b[1;36m1\u001b[0m positional argument but \u001b[1;36m2\u001b[0m were given                       \u001b[2m                         \u001b[0m\n"
      ]
     },
     "metadata": {},
     "output_type": "display_data"
    },
    {
     "name": "stdout",
     "output_type": "stream",
     "text": [
      "0: 640x640 1 Scissors, 164.8ms\n",
      "Speed: 2.3ms preprocess, 164.8ms inference, 0.5ms postprocess per image at shape (1, 3, 640, 640)\n",
      "Video frames: 1\n",
      "\n"
     ]
    },
    {
     "data": {
      "text/html": [
       "<pre style=\"white-space:pre;overflow-x:auto;line-height:normal;font-family:Menlo,'DejaVu Sans Mono',consolas,'Courier New',monospace\"><span style=\"color: #7fbfbf; text-decoration-color: #7fbfbf\">                    </span><span style=\"color: #800000; text-decoration-color: #800000\">WARNING </span> Error in results dispatching - <span style=\"color: #800080; text-decoration-color: #800080; font-weight: bold\">render_boxes_on_frame</span><span style=\"font-weight: bold\">()</span> takes <a href=\"file:///Users/saadia/Documents/DevIA_2024/ShiFuMi_computerVision/venv/lib/python3.9/site-packages/inference/core/interfaces/stream/inference_pipeline.py\" target=\"_blank\"><span style=\"color: #7f7f7f; text-decoration-color: #7f7f7f\">inference_pipeline.py</span></a><span style=\"color: #7f7f7f; text-decoration-color: #7f7f7f\">:</span><a href=\"file:///Users/saadia/Documents/DevIA_2024/ShiFuMi_computerVision/venv/lib/python3.9/site-packages/inference/core/interfaces/stream/inference_pipeline.py#907\" target=\"_blank\"><span style=\"color: #7f7f7f; text-decoration-color: #7f7f7f\">907</span></a>\n",
       "<span style=\"color: #7fbfbf; text-decoration-color: #7fbfbf\">                    </span>         <span style=\"color: #008080; text-decoration-color: #008080; font-weight: bold\">1</span> positional argument but <span style=\"color: #008080; text-decoration-color: #008080; font-weight: bold\">2</span> were given                       <span style=\"color: #7f7f7f; text-decoration-color: #7f7f7f\">                         </span>\n",
       "</pre>\n"
      ],
      "text/plain": [
       "\u001b[2;36m                   \u001b[0m\u001b[2;36m \u001b[0m\u001b[31mWARNING \u001b[0m Error in results dispatching - \u001b[1;35mrender_boxes_on_frame\u001b[0m\u001b[1m(\u001b[0m\u001b[1m)\u001b[0m takes \u001b]8;id=936343;file:///Users/saadia/Documents/DevIA_2024/ShiFuMi_computerVision/venv/lib/python3.9/site-packages/inference/core/interfaces/stream/inference_pipeline.py\u001b\\\u001b[2minference_pipeline.py\u001b[0m\u001b]8;;\u001b\\\u001b[2m:\u001b[0m\u001b]8;id=337028;file:///Users/saadia/Documents/DevIA_2024/ShiFuMi_computerVision/venv/lib/python3.9/site-packages/inference/core/interfaces/stream/inference_pipeline.py#907\u001b\\\u001b[2m907\u001b[0m\u001b]8;;\u001b\\\n",
       "\u001b[2;36m                    \u001b[0m         \u001b[1;36m1\u001b[0m positional argument but \u001b[1;36m2\u001b[0m were given                       \u001b[2m                         \u001b[0m\n"
      ]
     },
     "metadata": {},
     "output_type": "display_data"
    },
    {
     "name": "stdout",
     "output_type": "stream",
     "text": [
      "0: 640x640 1 Scissors, 163.1ms\n",
      "Speed: 2.5ms preprocess, 163.1ms inference, 0.4ms postprocess per image at shape (1, 3, 640, 640)\n",
      "Video frames: 1\n"
     ]
    },
    {
     "data": {
      "text/html": [
       "<pre style=\"white-space:pre;overflow-x:auto;line-height:normal;font-family:Menlo,'DejaVu Sans Mono',consolas,'Courier New',monospace\"><span style=\"color: #7fbfbf; text-decoration-color: #7fbfbf\">                    </span><span style=\"color: #800000; text-decoration-color: #800000\">WARNING </span> Error in results dispatching - <span style=\"color: #800080; text-decoration-color: #800080; font-weight: bold\">render_boxes_on_frame</span><span style=\"font-weight: bold\">()</span> takes <a href=\"file:///Users/saadia/Documents/DevIA_2024/ShiFuMi_computerVision/venv/lib/python3.9/site-packages/inference/core/interfaces/stream/inference_pipeline.py\" target=\"_blank\"><span style=\"color: #7f7f7f; text-decoration-color: #7f7f7f\">inference_pipeline.py</span></a><span style=\"color: #7f7f7f; text-decoration-color: #7f7f7f\">:</span><a href=\"file:///Users/saadia/Documents/DevIA_2024/ShiFuMi_computerVision/venv/lib/python3.9/site-packages/inference/core/interfaces/stream/inference_pipeline.py#907\" target=\"_blank\"><span style=\"color: #7f7f7f; text-decoration-color: #7f7f7f\">907</span></a>\n",
       "<span style=\"color: #7fbfbf; text-decoration-color: #7fbfbf\">                    </span>         <span style=\"color: #008080; text-decoration-color: #008080; font-weight: bold\">1</span> positional argument but <span style=\"color: #008080; text-decoration-color: #008080; font-weight: bold\">2</span> were given                       <span style=\"color: #7f7f7f; text-decoration-color: #7f7f7f\">                         </span>\n",
       "</pre>\n"
      ],
      "text/plain": [
       "\u001b[2;36m                   \u001b[0m\u001b[2;36m \u001b[0m\u001b[31mWARNING \u001b[0m Error in results dispatching - \u001b[1;35mrender_boxes_on_frame\u001b[0m\u001b[1m(\u001b[0m\u001b[1m)\u001b[0m takes \u001b]8;id=905622;file:///Users/saadia/Documents/DevIA_2024/ShiFuMi_computerVision/venv/lib/python3.9/site-packages/inference/core/interfaces/stream/inference_pipeline.py\u001b\\\u001b[2minference_pipeline.py\u001b[0m\u001b]8;;\u001b\\\u001b[2m:\u001b[0m\u001b]8;id=164850;file:///Users/saadia/Documents/DevIA_2024/ShiFuMi_computerVision/venv/lib/python3.9/site-packages/inference/core/interfaces/stream/inference_pipeline.py#907\u001b\\\u001b[2m907\u001b[0m\u001b]8;;\u001b\\\n",
       "\u001b[2;36m                    \u001b[0m         \u001b[1;36m1\u001b[0m positional argument but \u001b[1;36m2\u001b[0m were given                       \u001b[2m                         \u001b[0m\n"
      ]
     },
     "metadata": {},
     "output_type": "display_data"
    },
    {
     "name": "stdout",
     "output_type": "stream",
     "text": [
      "\n",
      "0: 640x640 1 Scissors, 163.5ms\n",
      "Speed: 1.7ms preprocess, 163.5ms inference, 0.4ms postprocess per image at shape (1, 3, 640, 640)\n",
      "Video frames: 1\n",
      "\n"
     ]
    },
    {
     "data": {
      "text/html": [
       "<pre style=\"white-space:pre;overflow-x:auto;line-height:normal;font-family:Menlo,'DejaVu Sans Mono',consolas,'Courier New',monospace\"><span style=\"color: #7fbfbf; text-decoration-color: #7fbfbf\">                    </span><span style=\"color: #800000; text-decoration-color: #800000\">WARNING </span> Error in results dispatching - <span style=\"color: #800080; text-decoration-color: #800080; font-weight: bold\">render_boxes_on_frame</span><span style=\"font-weight: bold\">()</span> takes <a href=\"file:///Users/saadia/Documents/DevIA_2024/ShiFuMi_computerVision/venv/lib/python3.9/site-packages/inference/core/interfaces/stream/inference_pipeline.py\" target=\"_blank\"><span style=\"color: #7f7f7f; text-decoration-color: #7f7f7f\">inference_pipeline.py</span></a><span style=\"color: #7f7f7f; text-decoration-color: #7f7f7f\">:</span><a href=\"file:///Users/saadia/Documents/DevIA_2024/ShiFuMi_computerVision/venv/lib/python3.9/site-packages/inference/core/interfaces/stream/inference_pipeline.py#907\" target=\"_blank\"><span style=\"color: #7f7f7f; text-decoration-color: #7f7f7f\">907</span></a>\n",
       "<span style=\"color: #7fbfbf; text-decoration-color: #7fbfbf\">                    </span>         <span style=\"color: #008080; text-decoration-color: #008080; font-weight: bold\">1</span> positional argument but <span style=\"color: #008080; text-decoration-color: #008080; font-weight: bold\">2</span> were given                       <span style=\"color: #7f7f7f; text-decoration-color: #7f7f7f\">                         </span>\n",
       "</pre>\n"
      ],
      "text/plain": [
       "\u001b[2;36m                   \u001b[0m\u001b[2;36m \u001b[0m\u001b[31mWARNING \u001b[0m Error in results dispatching - \u001b[1;35mrender_boxes_on_frame\u001b[0m\u001b[1m(\u001b[0m\u001b[1m)\u001b[0m takes \u001b]8;id=487615;file:///Users/saadia/Documents/DevIA_2024/ShiFuMi_computerVision/venv/lib/python3.9/site-packages/inference/core/interfaces/stream/inference_pipeline.py\u001b\\\u001b[2minference_pipeline.py\u001b[0m\u001b]8;;\u001b\\\u001b[2m:\u001b[0m\u001b]8;id=940011;file:///Users/saadia/Documents/DevIA_2024/ShiFuMi_computerVision/venv/lib/python3.9/site-packages/inference/core/interfaces/stream/inference_pipeline.py#907\u001b\\\u001b[2m907\u001b[0m\u001b]8;;\u001b\\\n",
       "\u001b[2;36m                    \u001b[0m         \u001b[1;36m1\u001b[0m positional argument but \u001b[1;36m2\u001b[0m were given                       \u001b[2m                         \u001b[0m\n"
      ]
     },
     "metadata": {},
     "output_type": "display_data"
    },
    {
     "name": "stdout",
     "output_type": "stream",
     "text": [
      "0: 640x640 1 Rock, 163.7ms\n",
      "Speed: 2.4ms preprocess, 163.7ms inference, 0.4ms postprocess per image at shape (1, 3, 640, 640)\n",
      "Video frames: 1\n",
      "\n"
     ]
    },
    {
     "data": {
      "text/html": [
       "<pre style=\"white-space:pre;overflow-x:auto;line-height:normal;font-family:Menlo,'DejaVu Sans Mono',consolas,'Courier New',monospace\"><span style=\"color: #7fbfbf; text-decoration-color: #7fbfbf\">[07/01/24 11:51:34] </span><span style=\"color: #800000; text-decoration-color: #800000\">WARNING </span> Error in results dispatching - <span style=\"color: #800080; text-decoration-color: #800080; font-weight: bold\">render_boxes_on_frame</span><span style=\"font-weight: bold\">()</span> takes <a href=\"file:///Users/saadia/Documents/DevIA_2024/ShiFuMi_computerVision/venv/lib/python3.9/site-packages/inference/core/interfaces/stream/inference_pipeline.py\" target=\"_blank\"><span style=\"color: #7f7f7f; text-decoration-color: #7f7f7f\">inference_pipeline.py</span></a><span style=\"color: #7f7f7f; text-decoration-color: #7f7f7f\">:</span><a href=\"file:///Users/saadia/Documents/DevIA_2024/ShiFuMi_computerVision/venv/lib/python3.9/site-packages/inference/core/interfaces/stream/inference_pipeline.py#907\" target=\"_blank\"><span style=\"color: #7f7f7f; text-decoration-color: #7f7f7f\">907</span></a>\n",
       "<span style=\"color: #7fbfbf; text-decoration-color: #7fbfbf\">                    </span>         <span style=\"color: #008080; text-decoration-color: #008080; font-weight: bold\">1</span> positional argument but <span style=\"color: #008080; text-decoration-color: #008080; font-weight: bold\">2</span> were given                       <span style=\"color: #7f7f7f; text-decoration-color: #7f7f7f\">                         </span>\n",
       "</pre>\n"
      ],
      "text/plain": [
       "\u001b[2;36m[07/01/24 11:51:34]\u001b[0m\u001b[2;36m \u001b[0m\u001b[31mWARNING \u001b[0m Error in results dispatching - \u001b[1;35mrender_boxes_on_frame\u001b[0m\u001b[1m(\u001b[0m\u001b[1m)\u001b[0m takes \u001b]8;id=126349;file:///Users/saadia/Documents/DevIA_2024/ShiFuMi_computerVision/venv/lib/python3.9/site-packages/inference/core/interfaces/stream/inference_pipeline.py\u001b\\\u001b[2minference_pipeline.py\u001b[0m\u001b]8;;\u001b\\\u001b[2m:\u001b[0m\u001b]8;id=192749;file:///Users/saadia/Documents/DevIA_2024/ShiFuMi_computerVision/venv/lib/python3.9/site-packages/inference/core/interfaces/stream/inference_pipeline.py#907\u001b\\\u001b[2m907\u001b[0m\u001b]8;;\u001b\\\n",
       "\u001b[2;36m                    \u001b[0m         \u001b[1;36m1\u001b[0m positional argument but \u001b[1;36m2\u001b[0m were given                       \u001b[2m                         \u001b[0m\n"
      ]
     },
     "metadata": {},
     "output_type": "display_data"
    },
    {
     "name": "stdout",
     "output_type": "stream",
     "text": [
      "0: 640x640 1 Rock, 155.0ms\n",
      "Speed: 2.5ms preprocess, 155.0ms inference, 0.4ms postprocess per image at shape (1, 3, 640, 640)\n",
      "Video frames: 1\n",
      "\n"
     ]
    },
    {
     "data": {
      "text/html": [
       "<pre style=\"white-space:pre;overflow-x:auto;line-height:normal;font-family:Menlo,'DejaVu Sans Mono',consolas,'Courier New',monospace\"><span style=\"color: #7fbfbf; text-decoration-color: #7fbfbf\">                    </span><span style=\"color: #800000; text-decoration-color: #800000\">WARNING </span> Error in results dispatching - <span style=\"color: #800080; text-decoration-color: #800080; font-weight: bold\">render_boxes_on_frame</span><span style=\"font-weight: bold\">()</span> takes <a href=\"file:///Users/saadia/Documents/DevIA_2024/ShiFuMi_computerVision/venv/lib/python3.9/site-packages/inference/core/interfaces/stream/inference_pipeline.py\" target=\"_blank\"><span style=\"color: #7f7f7f; text-decoration-color: #7f7f7f\">inference_pipeline.py</span></a><span style=\"color: #7f7f7f; text-decoration-color: #7f7f7f\">:</span><a href=\"file:///Users/saadia/Documents/DevIA_2024/ShiFuMi_computerVision/venv/lib/python3.9/site-packages/inference/core/interfaces/stream/inference_pipeline.py#907\" target=\"_blank\"><span style=\"color: #7f7f7f; text-decoration-color: #7f7f7f\">907</span></a>\n",
       "<span style=\"color: #7fbfbf; text-decoration-color: #7fbfbf\">                    </span>         <span style=\"color: #008080; text-decoration-color: #008080; font-weight: bold\">1</span> positional argument but <span style=\"color: #008080; text-decoration-color: #008080; font-weight: bold\">2</span> were given                       <span style=\"color: #7f7f7f; text-decoration-color: #7f7f7f\">                         </span>\n",
       "</pre>\n"
      ],
      "text/plain": [
       "\u001b[2;36m                   \u001b[0m\u001b[2;36m \u001b[0m\u001b[31mWARNING \u001b[0m Error in results dispatching - \u001b[1;35mrender_boxes_on_frame\u001b[0m\u001b[1m(\u001b[0m\u001b[1m)\u001b[0m takes \u001b]8;id=155727;file:///Users/saadia/Documents/DevIA_2024/ShiFuMi_computerVision/venv/lib/python3.9/site-packages/inference/core/interfaces/stream/inference_pipeline.py\u001b\\\u001b[2minference_pipeline.py\u001b[0m\u001b]8;;\u001b\\\u001b[2m:\u001b[0m\u001b]8;id=248167;file:///Users/saadia/Documents/DevIA_2024/ShiFuMi_computerVision/venv/lib/python3.9/site-packages/inference/core/interfaces/stream/inference_pipeline.py#907\u001b\\\u001b[2m907\u001b[0m\u001b]8;;\u001b\\\n",
       "\u001b[2;36m                    \u001b[0m         \u001b[1;36m1\u001b[0m positional argument but \u001b[1;36m2\u001b[0m were given                       \u001b[2m                         \u001b[0m\n"
      ]
     },
     "metadata": {},
     "output_type": "display_data"
    },
    {
     "name": "stdout",
     "output_type": "stream",
     "text": [
      "0: 640x640 1 Rock, 161.9ms\n",
      "Speed: 2.0ms preprocess, 161.9ms inference, 0.7ms postprocess per image at shape (1, 3, 640, 640)\n",
      "Video frames: 1\n",
      "\n"
     ]
    },
    {
     "data": {
      "text/html": [
       "<pre style=\"white-space:pre;overflow-x:auto;line-height:normal;font-family:Menlo,'DejaVu Sans Mono',consolas,'Courier New',monospace\"><span style=\"color: #7fbfbf; text-decoration-color: #7fbfbf\">                    </span><span style=\"color: #800000; text-decoration-color: #800000\">WARNING </span> Error in results dispatching - <span style=\"color: #800080; text-decoration-color: #800080; font-weight: bold\">render_boxes_on_frame</span><span style=\"font-weight: bold\">()</span> takes <a href=\"file:///Users/saadia/Documents/DevIA_2024/ShiFuMi_computerVision/venv/lib/python3.9/site-packages/inference/core/interfaces/stream/inference_pipeline.py\" target=\"_blank\"><span style=\"color: #7f7f7f; text-decoration-color: #7f7f7f\">inference_pipeline.py</span></a><span style=\"color: #7f7f7f; text-decoration-color: #7f7f7f\">:</span><a href=\"file:///Users/saadia/Documents/DevIA_2024/ShiFuMi_computerVision/venv/lib/python3.9/site-packages/inference/core/interfaces/stream/inference_pipeline.py#907\" target=\"_blank\"><span style=\"color: #7f7f7f; text-decoration-color: #7f7f7f\">907</span></a>\n",
       "<span style=\"color: #7fbfbf; text-decoration-color: #7fbfbf\">                    </span>         <span style=\"color: #008080; text-decoration-color: #008080; font-weight: bold\">1</span> positional argument but <span style=\"color: #008080; text-decoration-color: #008080; font-weight: bold\">2</span> were given                       <span style=\"color: #7f7f7f; text-decoration-color: #7f7f7f\">                         </span>\n",
       "</pre>\n"
      ],
      "text/plain": [
       "\u001b[2;36m                   \u001b[0m\u001b[2;36m \u001b[0m\u001b[31mWARNING \u001b[0m Error in results dispatching - \u001b[1;35mrender_boxes_on_frame\u001b[0m\u001b[1m(\u001b[0m\u001b[1m)\u001b[0m takes \u001b]8;id=902726;file:///Users/saadia/Documents/DevIA_2024/ShiFuMi_computerVision/venv/lib/python3.9/site-packages/inference/core/interfaces/stream/inference_pipeline.py\u001b\\\u001b[2minference_pipeline.py\u001b[0m\u001b]8;;\u001b\\\u001b[2m:\u001b[0m\u001b]8;id=970146;file:///Users/saadia/Documents/DevIA_2024/ShiFuMi_computerVision/venv/lib/python3.9/site-packages/inference/core/interfaces/stream/inference_pipeline.py#907\u001b\\\u001b[2m907\u001b[0m\u001b]8;;\u001b\\\n",
       "\u001b[2;36m                    \u001b[0m         \u001b[1;36m1\u001b[0m positional argument but \u001b[1;36m2\u001b[0m were given                       \u001b[2m                         \u001b[0m\n"
      ]
     },
     "metadata": {},
     "output_type": "display_data"
    },
    {
     "name": "stdout",
     "output_type": "stream",
     "text": [
      "0: 640x640 1 Rock, 163.3ms\n",
      "Speed: 2.0ms preprocess, 163.3ms inference, 0.4ms postprocess per image at shape (1, 3, 640, 640)\n",
      "Video frames: 1\n",
      "\n"
     ]
    },
    {
     "data": {
      "text/html": [
       "<pre style=\"white-space:pre;overflow-x:auto;line-height:normal;font-family:Menlo,'DejaVu Sans Mono',consolas,'Courier New',monospace\"><span style=\"color: #7fbfbf; text-decoration-color: #7fbfbf\">                    </span><span style=\"color: #800000; text-decoration-color: #800000\">WARNING </span> Error in results dispatching - <span style=\"color: #800080; text-decoration-color: #800080; font-weight: bold\">render_boxes_on_frame</span><span style=\"font-weight: bold\">()</span> takes <a href=\"file:///Users/saadia/Documents/DevIA_2024/ShiFuMi_computerVision/venv/lib/python3.9/site-packages/inference/core/interfaces/stream/inference_pipeline.py\" target=\"_blank\"><span style=\"color: #7f7f7f; text-decoration-color: #7f7f7f\">inference_pipeline.py</span></a><span style=\"color: #7f7f7f; text-decoration-color: #7f7f7f\">:</span><a href=\"file:///Users/saadia/Documents/DevIA_2024/ShiFuMi_computerVision/venv/lib/python3.9/site-packages/inference/core/interfaces/stream/inference_pipeline.py#907\" target=\"_blank\"><span style=\"color: #7f7f7f; text-decoration-color: #7f7f7f\">907</span></a>\n",
       "<span style=\"color: #7fbfbf; text-decoration-color: #7fbfbf\">                    </span>         <span style=\"color: #008080; text-decoration-color: #008080; font-weight: bold\">1</span> positional argument but <span style=\"color: #008080; text-decoration-color: #008080; font-weight: bold\">2</span> were given                       <span style=\"color: #7f7f7f; text-decoration-color: #7f7f7f\">                         </span>\n",
       "</pre>\n"
      ],
      "text/plain": [
       "\u001b[2;36m                   \u001b[0m\u001b[2;36m \u001b[0m\u001b[31mWARNING \u001b[0m Error in results dispatching - \u001b[1;35mrender_boxes_on_frame\u001b[0m\u001b[1m(\u001b[0m\u001b[1m)\u001b[0m takes \u001b]8;id=515900;file:///Users/saadia/Documents/DevIA_2024/ShiFuMi_computerVision/venv/lib/python3.9/site-packages/inference/core/interfaces/stream/inference_pipeline.py\u001b\\\u001b[2minference_pipeline.py\u001b[0m\u001b]8;;\u001b\\\u001b[2m:\u001b[0m\u001b]8;id=74747;file:///Users/saadia/Documents/DevIA_2024/ShiFuMi_computerVision/venv/lib/python3.9/site-packages/inference/core/interfaces/stream/inference_pipeline.py#907\u001b\\\u001b[2m907\u001b[0m\u001b]8;;\u001b\\\n",
       "\u001b[2;36m                    \u001b[0m         \u001b[1;36m1\u001b[0m positional argument but \u001b[1;36m2\u001b[0m were given                       \u001b[2m                         \u001b[0m\n"
      ]
     },
     "metadata": {},
     "output_type": "display_data"
    },
    {
     "name": "stdout",
     "output_type": "stream",
     "text": [
      "0: 640x640 1 Rock, 166.2ms\n",
      "Speed: 2.0ms preprocess, 166.2ms inference, 0.4ms postprocess per image at shape (1, 3, 640, 640)\n",
      "Video frames: 1\n",
      "\n"
     ]
    },
    {
     "data": {
      "text/html": [
       "<pre style=\"white-space:pre;overflow-x:auto;line-height:normal;font-family:Menlo,'DejaVu Sans Mono',consolas,'Courier New',monospace\"><span style=\"color: #7fbfbf; text-decoration-color: #7fbfbf\">                    </span><span style=\"color: #800000; text-decoration-color: #800000\">WARNING </span> Error in results dispatching - <span style=\"color: #800080; text-decoration-color: #800080; font-weight: bold\">render_boxes_on_frame</span><span style=\"font-weight: bold\">()</span> takes <a href=\"file:///Users/saadia/Documents/DevIA_2024/ShiFuMi_computerVision/venv/lib/python3.9/site-packages/inference/core/interfaces/stream/inference_pipeline.py\" target=\"_blank\"><span style=\"color: #7f7f7f; text-decoration-color: #7f7f7f\">inference_pipeline.py</span></a><span style=\"color: #7f7f7f; text-decoration-color: #7f7f7f\">:</span><a href=\"file:///Users/saadia/Documents/DevIA_2024/ShiFuMi_computerVision/venv/lib/python3.9/site-packages/inference/core/interfaces/stream/inference_pipeline.py#907\" target=\"_blank\"><span style=\"color: #7f7f7f; text-decoration-color: #7f7f7f\">907</span></a>\n",
       "<span style=\"color: #7fbfbf; text-decoration-color: #7fbfbf\">                    </span>         <span style=\"color: #008080; text-decoration-color: #008080; font-weight: bold\">1</span> positional argument but <span style=\"color: #008080; text-decoration-color: #008080; font-weight: bold\">2</span> were given                       <span style=\"color: #7f7f7f; text-decoration-color: #7f7f7f\">                         </span>\n",
       "</pre>\n"
      ],
      "text/plain": [
       "\u001b[2;36m                   \u001b[0m\u001b[2;36m \u001b[0m\u001b[31mWARNING \u001b[0m Error in results dispatching - \u001b[1;35mrender_boxes_on_frame\u001b[0m\u001b[1m(\u001b[0m\u001b[1m)\u001b[0m takes \u001b]8;id=882525;file:///Users/saadia/Documents/DevIA_2024/ShiFuMi_computerVision/venv/lib/python3.9/site-packages/inference/core/interfaces/stream/inference_pipeline.py\u001b\\\u001b[2minference_pipeline.py\u001b[0m\u001b]8;;\u001b\\\u001b[2m:\u001b[0m\u001b]8;id=610982;file:///Users/saadia/Documents/DevIA_2024/ShiFuMi_computerVision/venv/lib/python3.9/site-packages/inference/core/interfaces/stream/inference_pipeline.py#907\u001b\\\u001b[2m907\u001b[0m\u001b]8;;\u001b\\\n",
       "\u001b[2;36m                    \u001b[0m         \u001b[1;36m1\u001b[0m positional argument but \u001b[1;36m2\u001b[0m were given                       \u001b[2m                         \u001b[0m\n"
      ]
     },
     "metadata": {},
     "output_type": "display_data"
    },
    {
     "name": "stdout",
     "output_type": "stream",
     "text": [
      "0: 640x640 1 Rock, 165.5ms\n",
      "Speed: 2.2ms preprocess, 165.5ms inference, 0.4ms postprocess per image at shape (1, 3, 640, 640)\n",
      "Video frames: 1\n",
      "\n"
     ]
    },
    {
     "data": {
      "text/html": [
       "<pre style=\"white-space:pre;overflow-x:auto;line-height:normal;font-family:Menlo,'DejaVu Sans Mono',consolas,'Courier New',monospace\"><span style=\"color: #7fbfbf; text-decoration-color: #7fbfbf\">                    </span><span style=\"color: #800000; text-decoration-color: #800000\">WARNING </span> Error in results dispatching - <span style=\"color: #800080; text-decoration-color: #800080; font-weight: bold\">render_boxes_on_frame</span><span style=\"font-weight: bold\">()</span> takes <a href=\"file:///Users/saadia/Documents/DevIA_2024/ShiFuMi_computerVision/venv/lib/python3.9/site-packages/inference/core/interfaces/stream/inference_pipeline.py\" target=\"_blank\"><span style=\"color: #7f7f7f; text-decoration-color: #7f7f7f\">inference_pipeline.py</span></a><span style=\"color: #7f7f7f; text-decoration-color: #7f7f7f\">:</span><a href=\"file:///Users/saadia/Documents/DevIA_2024/ShiFuMi_computerVision/venv/lib/python3.9/site-packages/inference/core/interfaces/stream/inference_pipeline.py#907\" target=\"_blank\"><span style=\"color: #7f7f7f; text-decoration-color: #7f7f7f\">907</span></a>\n",
       "<span style=\"color: #7fbfbf; text-decoration-color: #7fbfbf\">                    </span>         <span style=\"color: #008080; text-decoration-color: #008080; font-weight: bold\">1</span> positional argument but <span style=\"color: #008080; text-decoration-color: #008080; font-weight: bold\">2</span> were given                       <span style=\"color: #7f7f7f; text-decoration-color: #7f7f7f\">                         </span>\n",
       "</pre>\n"
      ],
      "text/plain": [
       "\u001b[2;36m                   \u001b[0m\u001b[2;36m \u001b[0m\u001b[31mWARNING \u001b[0m Error in results dispatching - \u001b[1;35mrender_boxes_on_frame\u001b[0m\u001b[1m(\u001b[0m\u001b[1m)\u001b[0m takes \u001b]8;id=704656;file:///Users/saadia/Documents/DevIA_2024/ShiFuMi_computerVision/venv/lib/python3.9/site-packages/inference/core/interfaces/stream/inference_pipeline.py\u001b\\\u001b[2minference_pipeline.py\u001b[0m\u001b]8;;\u001b\\\u001b[2m:\u001b[0m\u001b]8;id=217388;file:///Users/saadia/Documents/DevIA_2024/ShiFuMi_computerVision/venv/lib/python3.9/site-packages/inference/core/interfaces/stream/inference_pipeline.py#907\u001b\\\u001b[2m907\u001b[0m\u001b]8;;\u001b\\\n",
       "\u001b[2;36m                    \u001b[0m         \u001b[1;36m1\u001b[0m positional argument but \u001b[1;36m2\u001b[0m were given                       \u001b[2m                         \u001b[0m\n"
      ]
     },
     "metadata": {},
     "output_type": "display_data"
    },
    {
     "name": "stdout",
     "output_type": "stream",
     "text": [
      "0: 640x640 1 Rock, 159.3ms\n",
      "Speed: 2.3ms preprocess, 159.3ms inference, 0.6ms postprocess per image at shape (1, 3, 640, 640)\n",
      "Video frames: 1\n",
      "\n"
     ]
    },
    {
     "data": {
      "text/html": [
       "<pre style=\"white-space:pre;overflow-x:auto;line-height:normal;font-family:Menlo,'DejaVu Sans Mono',consolas,'Courier New',monospace\"><span style=\"color: #7fbfbf; text-decoration-color: #7fbfbf\">[07/01/24 11:51:35] </span><span style=\"color: #800000; text-decoration-color: #800000\">WARNING </span> Error in results dispatching - <span style=\"color: #800080; text-decoration-color: #800080; font-weight: bold\">render_boxes_on_frame</span><span style=\"font-weight: bold\">()</span> takes <a href=\"file:///Users/saadia/Documents/DevIA_2024/ShiFuMi_computerVision/venv/lib/python3.9/site-packages/inference/core/interfaces/stream/inference_pipeline.py\" target=\"_blank\"><span style=\"color: #7f7f7f; text-decoration-color: #7f7f7f\">inference_pipeline.py</span></a><span style=\"color: #7f7f7f; text-decoration-color: #7f7f7f\">:</span><a href=\"file:///Users/saadia/Documents/DevIA_2024/ShiFuMi_computerVision/venv/lib/python3.9/site-packages/inference/core/interfaces/stream/inference_pipeline.py#907\" target=\"_blank\"><span style=\"color: #7f7f7f; text-decoration-color: #7f7f7f\">907</span></a>\n",
       "<span style=\"color: #7fbfbf; text-decoration-color: #7fbfbf\">                    </span>         <span style=\"color: #008080; text-decoration-color: #008080; font-weight: bold\">1</span> positional argument but <span style=\"color: #008080; text-decoration-color: #008080; font-weight: bold\">2</span> were given                       <span style=\"color: #7f7f7f; text-decoration-color: #7f7f7f\">                         </span>\n",
       "</pre>\n"
      ],
      "text/plain": [
       "\u001b[2;36m[07/01/24 11:51:35]\u001b[0m\u001b[2;36m \u001b[0m\u001b[31mWARNING \u001b[0m Error in results dispatching - \u001b[1;35mrender_boxes_on_frame\u001b[0m\u001b[1m(\u001b[0m\u001b[1m)\u001b[0m takes \u001b]8;id=896391;file:///Users/saadia/Documents/DevIA_2024/ShiFuMi_computerVision/venv/lib/python3.9/site-packages/inference/core/interfaces/stream/inference_pipeline.py\u001b\\\u001b[2minference_pipeline.py\u001b[0m\u001b]8;;\u001b\\\u001b[2m:\u001b[0m\u001b]8;id=576927;file:///Users/saadia/Documents/DevIA_2024/ShiFuMi_computerVision/venv/lib/python3.9/site-packages/inference/core/interfaces/stream/inference_pipeline.py#907\u001b\\\u001b[2m907\u001b[0m\u001b]8;;\u001b\\\n",
       "\u001b[2;36m                    \u001b[0m         \u001b[1;36m1\u001b[0m positional argument but \u001b[1;36m2\u001b[0m were given                       \u001b[2m                         \u001b[0m\n"
      ]
     },
     "metadata": {},
     "output_type": "display_data"
    },
    {
     "name": "stdout",
     "output_type": "stream",
     "text": [
      "0: 640x640 1 Rock, 161.9ms\n",
      "Speed: 2.8ms preprocess, 161.9ms inference, 0.3ms postprocess per image at shape (1, 3, 640, 640)\n",
      "Video frames: 1\n",
      "\n"
     ]
    },
    {
     "data": {
      "text/html": [
       "<pre style=\"white-space:pre;overflow-x:auto;line-height:normal;font-family:Menlo,'DejaVu Sans Mono',consolas,'Courier New',monospace\"><span style=\"color: #7fbfbf; text-decoration-color: #7fbfbf\">                    </span><span style=\"color: #800000; text-decoration-color: #800000\">WARNING </span> Error in results dispatching - <span style=\"color: #800080; text-decoration-color: #800080; font-weight: bold\">render_boxes_on_frame</span><span style=\"font-weight: bold\">()</span> takes <a href=\"file:///Users/saadia/Documents/DevIA_2024/ShiFuMi_computerVision/venv/lib/python3.9/site-packages/inference/core/interfaces/stream/inference_pipeline.py\" target=\"_blank\"><span style=\"color: #7f7f7f; text-decoration-color: #7f7f7f\">inference_pipeline.py</span></a><span style=\"color: #7f7f7f; text-decoration-color: #7f7f7f\">:</span><a href=\"file:///Users/saadia/Documents/DevIA_2024/ShiFuMi_computerVision/venv/lib/python3.9/site-packages/inference/core/interfaces/stream/inference_pipeline.py#907\" target=\"_blank\"><span style=\"color: #7f7f7f; text-decoration-color: #7f7f7f\">907</span></a>\n",
       "<span style=\"color: #7fbfbf; text-decoration-color: #7fbfbf\">                    </span>         <span style=\"color: #008080; text-decoration-color: #008080; font-weight: bold\">1</span> positional argument but <span style=\"color: #008080; text-decoration-color: #008080; font-weight: bold\">2</span> were given                       <span style=\"color: #7f7f7f; text-decoration-color: #7f7f7f\">                         </span>\n",
       "</pre>\n"
      ],
      "text/plain": [
       "\u001b[2;36m                   \u001b[0m\u001b[2;36m \u001b[0m\u001b[31mWARNING \u001b[0m Error in results dispatching - \u001b[1;35mrender_boxes_on_frame\u001b[0m\u001b[1m(\u001b[0m\u001b[1m)\u001b[0m takes \u001b]8;id=659403;file:///Users/saadia/Documents/DevIA_2024/ShiFuMi_computerVision/venv/lib/python3.9/site-packages/inference/core/interfaces/stream/inference_pipeline.py\u001b\\\u001b[2minference_pipeline.py\u001b[0m\u001b]8;;\u001b\\\u001b[2m:\u001b[0m\u001b]8;id=713461;file:///Users/saadia/Documents/DevIA_2024/ShiFuMi_computerVision/venv/lib/python3.9/site-packages/inference/core/interfaces/stream/inference_pipeline.py#907\u001b\\\u001b[2m907\u001b[0m\u001b]8;;\u001b\\\n",
       "\u001b[2;36m                    \u001b[0m         \u001b[1;36m1\u001b[0m positional argument but \u001b[1;36m2\u001b[0m were given                       \u001b[2m                         \u001b[0m\n"
      ]
     },
     "metadata": {},
     "output_type": "display_data"
    },
    {
     "name": "stdout",
     "output_type": "stream",
     "text": [
      "0: 640x640 1 Rock, 166.1ms\n",
      "Speed: 2.2ms preprocess, 166.1ms inference, 0.4ms postprocess per image at shape (1, 3, 640, 640)\n",
      "Video frames: 1\n",
      "\n"
     ]
    },
    {
     "data": {
      "text/html": [
       "<pre style=\"white-space:pre;overflow-x:auto;line-height:normal;font-family:Menlo,'DejaVu Sans Mono',consolas,'Courier New',monospace\"><span style=\"color: #7fbfbf; text-decoration-color: #7fbfbf\">                    </span><span style=\"color: #800000; text-decoration-color: #800000\">WARNING </span> Error in results dispatching - <span style=\"color: #800080; text-decoration-color: #800080; font-weight: bold\">render_boxes_on_frame</span><span style=\"font-weight: bold\">()</span> takes <a href=\"file:///Users/saadia/Documents/DevIA_2024/ShiFuMi_computerVision/venv/lib/python3.9/site-packages/inference/core/interfaces/stream/inference_pipeline.py\" target=\"_blank\"><span style=\"color: #7f7f7f; text-decoration-color: #7f7f7f\">inference_pipeline.py</span></a><span style=\"color: #7f7f7f; text-decoration-color: #7f7f7f\">:</span><a href=\"file:///Users/saadia/Documents/DevIA_2024/ShiFuMi_computerVision/venv/lib/python3.9/site-packages/inference/core/interfaces/stream/inference_pipeline.py#907\" target=\"_blank\"><span style=\"color: #7f7f7f; text-decoration-color: #7f7f7f\">907</span></a>\n",
       "<span style=\"color: #7fbfbf; text-decoration-color: #7fbfbf\">                    </span>         <span style=\"color: #008080; text-decoration-color: #008080; font-weight: bold\">1</span> positional argument but <span style=\"color: #008080; text-decoration-color: #008080; font-weight: bold\">2</span> were given                       <span style=\"color: #7f7f7f; text-decoration-color: #7f7f7f\">                         </span>\n",
       "</pre>\n"
      ],
      "text/plain": [
       "\u001b[2;36m                   \u001b[0m\u001b[2;36m \u001b[0m\u001b[31mWARNING \u001b[0m Error in results dispatching - \u001b[1;35mrender_boxes_on_frame\u001b[0m\u001b[1m(\u001b[0m\u001b[1m)\u001b[0m takes \u001b]8;id=6185;file:///Users/saadia/Documents/DevIA_2024/ShiFuMi_computerVision/venv/lib/python3.9/site-packages/inference/core/interfaces/stream/inference_pipeline.py\u001b\\\u001b[2minference_pipeline.py\u001b[0m\u001b]8;;\u001b\\\u001b[2m:\u001b[0m\u001b]8;id=530658;file:///Users/saadia/Documents/DevIA_2024/ShiFuMi_computerVision/venv/lib/python3.9/site-packages/inference/core/interfaces/stream/inference_pipeline.py#907\u001b\\\u001b[2m907\u001b[0m\u001b]8;;\u001b\\\n",
       "\u001b[2;36m                    \u001b[0m         \u001b[1;36m1\u001b[0m positional argument but \u001b[1;36m2\u001b[0m were given                       \u001b[2m                         \u001b[0m\n"
      ]
     },
     "metadata": {},
     "output_type": "display_data"
    },
    {
     "name": "stdout",
     "output_type": "stream",
     "text": [
      "0: 640x640 1 Rock, 158.4ms\n",
      "Speed: 2.3ms preprocess, 158.4ms inference, 0.4ms postprocess per image at shape (1, 3, 640, 640)\n",
      "Video frames: 1\n",
      "\n"
     ]
    },
    {
     "data": {
      "text/html": [
       "<pre style=\"white-space:pre;overflow-x:auto;line-height:normal;font-family:Menlo,'DejaVu Sans Mono',consolas,'Courier New',monospace\"><span style=\"color: #7fbfbf; text-decoration-color: #7fbfbf\">                    </span><span style=\"color: #800000; text-decoration-color: #800000\">WARNING </span> Error in results dispatching - <span style=\"color: #800080; text-decoration-color: #800080; font-weight: bold\">render_boxes_on_frame</span><span style=\"font-weight: bold\">()</span> takes <a href=\"file:///Users/saadia/Documents/DevIA_2024/ShiFuMi_computerVision/venv/lib/python3.9/site-packages/inference/core/interfaces/stream/inference_pipeline.py\" target=\"_blank\"><span style=\"color: #7f7f7f; text-decoration-color: #7f7f7f\">inference_pipeline.py</span></a><span style=\"color: #7f7f7f; text-decoration-color: #7f7f7f\">:</span><a href=\"file:///Users/saadia/Documents/DevIA_2024/ShiFuMi_computerVision/venv/lib/python3.9/site-packages/inference/core/interfaces/stream/inference_pipeline.py#907\" target=\"_blank\"><span style=\"color: #7f7f7f; text-decoration-color: #7f7f7f\">907</span></a>\n",
       "<span style=\"color: #7fbfbf; text-decoration-color: #7fbfbf\">                    </span>         <span style=\"color: #008080; text-decoration-color: #008080; font-weight: bold\">1</span> positional argument but <span style=\"color: #008080; text-decoration-color: #008080; font-weight: bold\">2</span> were given                       <span style=\"color: #7f7f7f; text-decoration-color: #7f7f7f\">                         </span>\n",
       "</pre>\n"
      ],
      "text/plain": [
       "\u001b[2;36m                   \u001b[0m\u001b[2;36m \u001b[0m\u001b[31mWARNING \u001b[0m Error in results dispatching - \u001b[1;35mrender_boxes_on_frame\u001b[0m\u001b[1m(\u001b[0m\u001b[1m)\u001b[0m takes \u001b]8;id=12066;file:///Users/saadia/Documents/DevIA_2024/ShiFuMi_computerVision/venv/lib/python3.9/site-packages/inference/core/interfaces/stream/inference_pipeline.py\u001b\\\u001b[2minference_pipeline.py\u001b[0m\u001b]8;;\u001b\\\u001b[2m:\u001b[0m\u001b]8;id=667097;file:///Users/saadia/Documents/DevIA_2024/ShiFuMi_computerVision/venv/lib/python3.9/site-packages/inference/core/interfaces/stream/inference_pipeline.py#907\u001b\\\u001b[2m907\u001b[0m\u001b]8;;\u001b\\\n",
       "\u001b[2;36m                    \u001b[0m         \u001b[1;36m1\u001b[0m positional argument but \u001b[1;36m2\u001b[0m were given                       \u001b[2m                         \u001b[0m\n"
      ]
     },
     "metadata": {},
     "output_type": "display_data"
    },
    {
     "name": "stdout",
     "output_type": "stream",
     "text": [
      "0: 640x640 1 Rock, 157.1ms\n",
      "Speed: 2.4ms preprocess, 157.1ms inference, 0.6ms postprocess per image at shape (1, 3, 640, 640)\n",
      "Video frames: 1\n",
      "\n"
     ]
    },
    {
     "data": {
      "text/html": [
       "<pre style=\"white-space:pre;overflow-x:auto;line-height:normal;font-family:Menlo,'DejaVu Sans Mono',consolas,'Courier New',monospace\"><span style=\"color: #7fbfbf; text-decoration-color: #7fbfbf\">                    </span><span style=\"color: #800000; text-decoration-color: #800000\">WARNING </span> Error in results dispatching - <span style=\"color: #800080; text-decoration-color: #800080; font-weight: bold\">render_boxes_on_frame</span><span style=\"font-weight: bold\">()</span> takes <a href=\"file:///Users/saadia/Documents/DevIA_2024/ShiFuMi_computerVision/venv/lib/python3.9/site-packages/inference/core/interfaces/stream/inference_pipeline.py\" target=\"_blank\"><span style=\"color: #7f7f7f; text-decoration-color: #7f7f7f\">inference_pipeline.py</span></a><span style=\"color: #7f7f7f; text-decoration-color: #7f7f7f\">:</span><a href=\"file:///Users/saadia/Documents/DevIA_2024/ShiFuMi_computerVision/venv/lib/python3.9/site-packages/inference/core/interfaces/stream/inference_pipeline.py#907\" target=\"_blank\"><span style=\"color: #7f7f7f; text-decoration-color: #7f7f7f\">907</span></a>\n",
       "<span style=\"color: #7fbfbf; text-decoration-color: #7fbfbf\">                    </span>         <span style=\"color: #008080; text-decoration-color: #008080; font-weight: bold\">1</span> positional argument but <span style=\"color: #008080; text-decoration-color: #008080; font-weight: bold\">2</span> were given                       <span style=\"color: #7f7f7f; text-decoration-color: #7f7f7f\">                         </span>\n",
       "</pre>\n"
      ],
      "text/plain": [
       "\u001b[2;36m                   \u001b[0m\u001b[2;36m \u001b[0m\u001b[31mWARNING \u001b[0m Error in results dispatching - \u001b[1;35mrender_boxes_on_frame\u001b[0m\u001b[1m(\u001b[0m\u001b[1m)\u001b[0m takes \u001b]8;id=946718;file:///Users/saadia/Documents/DevIA_2024/ShiFuMi_computerVision/venv/lib/python3.9/site-packages/inference/core/interfaces/stream/inference_pipeline.py\u001b\\\u001b[2minference_pipeline.py\u001b[0m\u001b]8;;\u001b\\\u001b[2m:\u001b[0m\u001b]8;id=591023;file:///Users/saadia/Documents/DevIA_2024/ShiFuMi_computerVision/venv/lib/python3.9/site-packages/inference/core/interfaces/stream/inference_pipeline.py#907\u001b\\\u001b[2m907\u001b[0m\u001b]8;;\u001b\\\n",
       "\u001b[2;36m                    \u001b[0m         \u001b[1;36m1\u001b[0m positional argument but \u001b[1;36m2\u001b[0m were given                       \u001b[2m                         \u001b[0m\n"
      ]
     },
     "metadata": {},
     "output_type": "display_data"
    },
    {
     "name": "stdout",
     "output_type": "stream",
     "text": [
      "0: 640x640 1 Rock, 151.8ms\n",
      "Speed: 2.2ms preprocess, 151.8ms inference, 0.5ms postprocess per image at shape (1, 3, 640, 640)\n",
      "Video frames: 1\n",
      "\n"
     ]
    },
    {
     "data": {
      "text/html": [
       "<pre style=\"white-space:pre;overflow-x:auto;line-height:normal;font-family:Menlo,'DejaVu Sans Mono',consolas,'Courier New',monospace\"><span style=\"color: #7fbfbf; text-decoration-color: #7fbfbf\">                    </span><span style=\"color: #800000; text-decoration-color: #800000\">WARNING </span> Error in results dispatching - <span style=\"color: #800080; text-decoration-color: #800080; font-weight: bold\">render_boxes_on_frame</span><span style=\"font-weight: bold\">()</span> takes <a href=\"file:///Users/saadia/Documents/DevIA_2024/ShiFuMi_computerVision/venv/lib/python3.9/site-packages/inference/core/interfaces/stream/inference_pipeline.py\" target=\"_blank\"><span style=\"color: #7f7f7f; text-decoration-color: #7f7f7f\">inference_pipeline.py</span></a><span style=\"color: #7f7f7f; text-decoration-color: #7f7f7f\">:</span><a href=\"file:///Users/saadia/Documents/DevIA_2024/ShiFuMi_computerVision/venv/lib/python3.9/site-packages/inference/core/interfaces/stream/inference_pipeline.py#907\" target=\"_blank\"><span style=\"color: #7f7f7f; text-decoration-color: #7f7f7f\">907</span></a>\n",
       "<span style=\"color: #7fbfbf; text-decoration-color: #7fbfbf\">                    </span>         <span style=\"color: #008080; text-decoration-color: #008080; font-weight: bold\">1</span> positional argument but <span style=\"color: #008080; text-decoration-color: #008080; font-weight: bold\">2</span> were given                       <span style=\"color: #7f7f7f; text-decoration-color: #7f7f7f\">                         </span>\n",
       "</pre>\n"
      ],
      "text/plain": [
       "\u001b[2;36m                   \u001b[0m\u001b[2;36m \u001b[0m\u001b[31mWARNING \u001b[0m Error in results dispatching - \u001b[1;35mrender_boxes_on_frame\u001b[0m\u001b[1m(\u001b[0m\u001b[1m)\u001b[0m takes \u001b]8;id=568156;file:///Users/saadia/Documents/DevIA_2024/ShiFuMi_computerVision/venv/lib/python3.9/site-packages/inference/core/interfaces/stream/inference_pipeline.py\u001b\\\u001b[2minference_pipeline.py\u001b[0m\u001b]8;;\u001b\\\u001b[2m:\u001b[0m\u001b]8;id=528430;file:///Users/saadia/Documents/DevIA_2024/ShiFuMi_computerVision/venv/lib/python3.9/site-packages/inference/core/interfaces/stream/inference_pipeline.py#907\u001b\\\u001b[2m907\u001b[0m\u001b]8;;\u001b\\\n",
       "\u001b[2;36m                    \u001b[0m         \u001b[1;36m1\u001b[0m positional argument but \u001b[1;36m2\u001b[0m were given                       \u001b[2m                         \u001b[0m\n"
      ]
     },
     "metadata": {},
     "output_type": "display_data"
    },
    {
     "name": "stdout",
     "output_type": "stream",
     "text": [
      "0: 640x640 1 Scissors, 147.4ms\n",
      "Speed: 2.4ms preprocess, 147.4ms inference, 0.4ms postprocess per image at shape (1, 3, 640, 640)\n",
      "Video frames: 1\n",
      "\n"
     ]
    },
    {
     "data": {
      "text/html": [
       "<pre style=\"white-space:pre;overflow-x:auto;line-height:normal;font-family:Menlo,'DejaVu Sans Mono',consolas,'Courier New',monospace\"><span style=\"color: #7fbfbf; text-decoration-color: #7fbfbf\">[07/01/24 11:51:36] </span><span style=\"color: #800000; text-decoration-color: #800000\">WARNING </span> Error in results dispatching - <span style=\"color: #800080; text-decoration-color: #800080; font-weight: bold\">render_boxes_on_frame</span><span style=\"font-weight: bold\">()</span> takes <a href=\"file:///Users/saadia/Documents/DevIA_2024/ShiFuMi_computerVision/venv/lib/python3.9/site-packages/inference/core/interfaces/stream/inference_pipeline.py\" target=\"_blank\"><span style=\"color: #7f7f7f; text-decoration-color: #7f7f7f\">inference_pipeline.py</span></a><span style=\"color: #7f7f7f; text-decoration-color: #7f7f7f\">:</span><a href=\"file:///Users/saadia/Documents/DevIA_2024/ShiFuMi_computerVision/venv/lib/python3.9/site-packages/inference/core/interfaces/stream/inference_pipeline.py#907\" target=\"_blank\"><span style=\"color: #7f7f7f; text-decoration-color: #7f7f7f\">907</span></a>\n",
       "<span style=\"color: #7fbfbf; text-decoration-color: #7fbfbf\">                    </span>         <span style=\"color: #008080; text-decoration-color: #008080; font-weight: bold\">1</span> positional argument but <span style=\"color: #008080; text-decoration-color: #008080; font-weight: bold\">2</span> were given                       <span style=\"color: #7f7f7f; text-decoration-color: #7f7f7f\">                         </span>\n",
       "</pre>\n"
      ],
      "text/plain": [
       "\u001b[2;36m[07/01/24 11:51:36]\u001b[0m\u001b[2;36m \u001b[0m\u001b[31mWARNING \u001b[0m Error in results dispatching - \u001b[1;35mrender_boxes_on_frame\u001b[0m\u001b[1m(\u001b[0m\u001b[1m)\u001b[0m takes \u001b]8;id=323887;file:///Users/saadia/Documents/DevIA_2024/ShiFuMi_computerVision/venv/lib/python3.9/site-packages/inference/core/interfaces/stream/inference_pipeline.py\u001b\\\u001b[2minference_pipeline.py\u001b[0m\u001b]8;;\u001b\\\u001b[2m:\u001b[0m\u001b]8;id=537237;file:///Users/saadia/Documents/DevIA_2024/ShiFuMi_computerVision/venv/lib/python3.9/site-packages/inference/core/interfaces/stream/inference_pipeline.py#907\u001b\\\u001b[2m907\u001b[0m\u001b]8;;\u001b\\\n",
       "\u001b[2;36m                    \u001b[0m         \u001b[1;36m1\u001b[0m positional argument but \u001b[1;36m2\u001b[0m were given                       \u001b[2m                         \u001b[0m\n"
      ]
     },
     "metadata": {},
     "output_type": "display_data"
    },
    {
     "name": "stdout",
     "output_type": "stream",
     "text": [
      "0: 640x640 1 Scissors, 153.6ms\n",
      "Speed: 2.2ms preprocess, 153.6ms inference, 0.4ms postprocess per image at shape (1, 3, 640, 640)\n",
      "Video frames: 1\n",
      "\n"
     ]
    },
    {
     "data": {
      "text/html": [
       "<pre style=\"white-space:pre;overflow-x:auto;line-height:normal;font-family:Menlo,'DejaVu Sans Mono',consolas,'Courier New',monospace\"><span style=\"color: #7fbfbf; text-decoration-color: #7fbfbf\">                    </span><span style=\"color: #800000; text-decoration-color: #800000\">WARNING </span> Error in results dispatching - <span style=\"color: #800080; text-decoration-color: #800080; font-weight: bold\">render_boxes_on_frame</span><span style=\"font-weight: bold\">()</span> takes <a href=\"file:///Users/saadia/Documents/DevIA_2024/ShiFuMi_computerVision/venv/lib/python3.9/site-packages/inference/core/interfaces/stream/inference_pipeline.py\" target=\"_blank\"><span style=\"color: #7f7f7f; text-decoration-color: #7f7f7f\">inference_pipeline.py</span></a><span style=\"color: #7f7f7f; text-decoration-color: #7f7f7f\">:</span><a href=\"file:///Users/saadia/Documents/DevIA_2024/ShiFuMi_computerVision/venv/lib/python3.9/site-packages/inference/core/interfaces/stream/inference_pipeline.py#907\" target=\"_blank\"><span style=\"color: #7f7f7f; text-decoration-color: #7f7f7f\">907</span></a>\n",
       "<span style=\"color: #7fbfbf; text-decoration-color: #7fbfbf\">                    </span>         <span style=\"color: #008080; text-decoration-color: #008080; font-weight: bold\">1</span> positional argument but <span style=\"color: #008080; text-decoration-color: #008080; font-weight: bold\">2</span> were given                       <span style=\"color: #7f7f7f; text-decoration-color: #7f7f7f\">                         </span>\n",
       "</pre>\n"
      ],
      "text/plain": [
       "\u001b[2;36m                   \u001b[0m\u001b[2;36m \u001b[0m\u001b[31mWARNING \u001b[0m Error in results dispatching - \u001b[1;35mrender_boxes_on_frame\u001b[0m\u001b[1m(\u001b[0m\u001b[1m)\u001b[0m takes \u001b]8;id=893736;file:///Users/saadia/Documents/DevIA_2024/ShiFuMi_computerVision/venv/lib/python3.9/site-packages/inference/core/interfaces/stream/inference_pipeline.py\u001b\\\u001b[2minference_pipeline.py\u001b[0m\u001b]8;;\u001b\\\u001b[2m:\u001b[0m\u001b]8;id=671995;file:///Users/saadia/Documents/DevIA_2024/ShiFuMi_computerVision/venv/lib/python3.9/site-packages/inference/core/interfaces/stream/inference_pipeline.py#907\u001b\\\u001b[2m907\u001b[0m\u001b]8;;\u001b\\\n",
       "\u001b[2;36m                    \u001b[0m         \u001b[1;36m1\u001b[0m positional argument but \u001b[1;36m2\u001b[0m were given                       \u001b[2m                         \u001b[0m\n"
      ]
     },
     "metadata": {},
     "output_type": "display_data"
    },
    {
     "name": "stdout",
     "output_type": "stream",
     "text": [
      "0: 640x640 1 Scissors, 160.9ms\n",
      "Speed: 2.0ms preprocess, 160.9ms inference, 0.4ms postprocess per image at shape (1, 3, 640, 640)\n",
      "Video frames: 1\n",
      "\n"
     ]
    },
    {
     "data": {
      "text/html": [
       "<pre style=\"white-space:pre;overflow-x:auto;line-height:normal;font-family:Menlo,'DejaVu Sans Mono',consolas,'Courier New',monospace\"><span style=\"color: #7fbfbf; text-decoration-color: #7fbfbf\">                    </span><span style=\"color: #800000; text-decoration-color: #800000\">WARNING </span> Error in results dispatching - <span style=\"color: #800080; text-decoration-color: #800080; font-weight: bold\">render_boxes_on_frame</span><span style=\"font-weight: bold\">()</span> takes <a href=\"file:///Users/saadia/Documents/DevIA_2024/ShiFuMi_computerVision/venv/lib/python3.9/site-packages/inference/core/interfaces/stream/inference_pipeline.py\" target=\"_blank\"><span style=\"color: #7f7f7f; text-decoration-color: #7f7f7f\">inference_pipeline.py</span></a><span style=\"color: #7f7f7f; text-decoration-color: #7f7f7f\">:</span><a href=\"file:///Users/saadia/Documents/DevIA_2024/ShiFuMi_computerVision/venv/lib/python3.9/site-packages/inference/core/interfaces/stream/inference_pipeline.py#907\" target=\"_blank\"><span style=\"color: #7f7f7f; text-decoration-color: #7f7f7f\">907</span></a>\n",
       "<span style=\"color: #7fbfbf; text-decoration-color: #7fbfbf\">                    </span>         <span style=\"color: #008080; text-decoration-color: #008080; font-weight: bold\">1</span> positional argument but <span style=\"color: #008080; text-decoration-color: #008080; font-weight: bold\">2</span> were given                       <span style=\"color: #7f7f7f; text-decoration-color: #7f7f7f\">                         </span>\n",
       "</pre>\n"
      ],
      "text/plain": [
       "\u001b[2;36m                   \u001b[0m\u001b[2;36m \u001b[0m\u001b[31mWARNING \u001b[0m Error in results dispatching - \u001b[1;35mrender_boxes_on_frame\u001b[0m\u001b[1m(\u001b[0m\u001b[1m)\u001b[0m takes \u001b]8;id=522402;file:///Users/saadia/Documents/DevIA_2024/ShiFuMi_computerVision/venv/lib/python3.9/site-packages/inference/core/interfaces/stream/inference_pipeline.py\u001b\\\u001b[2minference_pipeline.py\u001b[0m\u001b]8;;\u001b\\\u001b[2m:\u001b[0m\u001b]8;id=162400;file:///Users/saadia/Documents/DevIA_2024/ShiFuMi_computerVision/venv/lib/python3.9/site-packages/inference/core/interfaces/stream/inference_pipeline.py#907\u001b\\\u001b[2m907\u001b[0m\u001b]8;;\u001b\\\n",
       "\u001b[2;36m                    \u001b[0m         \u001b[1;36m1\u001b[0m positional argument but \u001b[1;36m2\u001b[0m were given                       \u001b[2m                         \u001b[0m\n"
      ]
     },
     "metadata": {},
     "output_type": "display_data"
    },
    {
     "name": "stdout",
     "output_type": "stream",
     "text": [
      "0: 640x640 1 Scissors, 231.2ms\n",
      "Speed: 1.9ms preprocess, 231.2ms inference, 0.4ms postprocess per image at shape (1, 3, 640, 640)\n",
      "Video frames: 1\n",
      "\n"
     ]
    },
    {
     "data": {
      "text/html": [
       "<pre style=\"white-space:pre;overflow-x:auto;line-height:normal;font-family:Menlo,'DejaVu Sans Mono',consolas,'Courier New',monospace\"><span style=\"color: #7fbfbf; text-decoration-color: #7fbfbf\">                    </span><span style=\"color: #800000; text-decoration-color: #800000\">WARNING </span> Error in results dispatching - <span style=\"color: #800080; text-decoration-color: #800080; font-weight: bold\">render_boxes_on_frame</span><span style=\"font-weight: bold\">()</span> takes <a href=\"file:///Users/saadia/Documents/DevIA_2024/ShiFuMi_computerVision/venv/lib/python3.9/site-packages/inference/core/interfaces/stream/inference_pipeline.py\" target=\"_blank\"><span style=\"color: #7f7f7f; text-decoration-color: #7f7f7f\">inference_pipeline.py</span></a><span style=\"color: #7f7f7f; text-decoration-color: #7f7f7f\">:</span><a href=\"file:///Users/saadia/Documents/DevIA_2024/ShiFuMi_computerVision/venv/lib/python3.9/site-packages/inference/core/interfaces/stream/inference_pipeline.py#907\" target=\"_blank\"><span style=\"color: #7f7f7f; text-decoration-color: #7f7f7f\">907</span></a>\n",
       "<span style=\"color: #7fbfbf; text-decoration-color: #7fbfbf\">                    </span>         <span style=\"color: #008080; text-decoration-color: #008080; font-weight: bold\">1</span> positional argument but <span style=\"color: #008080; text-decoration-color: #008080; font-weight: bold\">2</span> were given                       <span style=\"color: #7f7f7f; text-decoration-color: #7f7f7f\">                         </span>\n",
       "</pre>\n"
      ],
      "text/plain": [
       "\u001b[2;36m                   \u001b[0m\u001b[2;36m \u001b[0m\u001b[31mWARNING \u001b[0m Error in results dispatching - \u001b[1;35mrender_boxes_on_frame\u001b[0m\u001b[1m(\u001b[0m\u001b[1m)\u001b[0m takes \u001b]8;id=799614;file:///Users/saadia/Documents/DevIA_2024/ShiFuMi_computerVision/venv/lib/python3.9/site-packages/inference/core/interfaces/stream/inference_pipeline.py\u001b\\\u001b[2minference_pipeline.py\u001b[0m\u001b]8;;\u001b\\\u001b[2m:\u001b[0m\u001b]8;id=339753;file:///Users/saadia/Documents/DevIA_2024/ShiFuMi_computerVision/venv/lib/python3.9/site-packages/inference/core/interfaces/stream/inference_pipeline.py#907\u001b\\\u001b[2m907\u001b[0m\u001b]8;;\u001b\\\n",
       "\u001b[2;36m                    \u001b[0m         \u001b[1;36m1\u001b[0m positional argument but \u001b[1;36m2\u001b[0m were given                       \u001b[2m                         \u001b[0m\n"
      ]
     },
     "metadata": {},
     "output_type": "display_data"
    },
    {
     "name": "stdout",
     "output_type": "stream",
     "text": [
      "0: 640x640 1 Scissors, 151.8ms\n",
      "Speed: 2.2ms preprocess, 151.8ms inference, 0.3ms postprocess per image at shape (1, 3, 640, 640)\n",
      "Video frames: 1\n",
      "\n"
     ]
    },
    {
     "data": {
      "text/html": [
       "<pre style=\"white-space:pre;overflow-x:auto;line-height:normal;font-family:Menlo,'DejaVu Sans Mono',consolas,'Courier New',monospace\"><span style=\"color: #7fbfbf; text-decoration-color: #7fbfbf\">                    </span><span style=\"color: #800000; text-decoration-color: #800000\">WARNING </span> Error in results dispatching - <span style=\"color: #800080; text-decoration-color: #800080; font-weight: bold\">render_boxes_on_frame</span><span style=\"font-weight: bold\">()</span> takes <a href=\"file:///Users/saadia/Documents/DevIA_2024/ShiFuMi_computerVision/venv/lib/python3.9/site-packages/inference/core/interfaces/stream/inference_pipeline.py\" target=\"_blank\"><span style=\"color: #7f7f7f; text-decoration-color: #7f7f7f\">inference_pipeline.py</span></a><span style=\"color: #7f7f7f; text-decoration-color: #7f7f7f\">:</span><a href=\"file:///Users/saadia/Documents/DevIA_2024/ShiFuMi_computerVision/venv/lib/python3.9/site-packages/inference/core/interfaces/stream/inference_pipeline.py#907\" target=\"_blank\"><span style=\"color: #7f7f7f; text-decoration-color: #7f7f7f\">907</span></a>\n",
       "<span style=\"color: #7fbfbf; text-decoration-color: #7fbfbf\">                    </span>         <span style=\"color: #008080; text-decoration-color: #008080; font-weight: bold\">1</span> positional argument but <span style=\"color: #008080; text-decoration-color: #008080; font-weight: bold\">2</span> were given                       <span style=\"color: #7f7f7f; text-decoration-color: #7f7f7f\">                         </span>\n",
       "</pre>\n"
      ],
      "text/plain": [
       "\u001b[2;36m                   \u001b[0m\u001b[2;36m \u001b[0m\u001b[31mWARNING \u001b[0m Error in results dispatching - \u001b[1;35mrender_boxes_on_frame\u001b[0m\u001b[1m(\u001b[0m\u001b[1m)\u001b[0m takes \u001b]8;id=474680;file:///Users/saadia/Documents/DevIA_2024/ShiFuMi_computerVision/venv/lib/python3.9/site-packages/inference/core/interfaces/stream/inference_pipeline.py\u001b\\\u001b[2minference_pipeline.py\u001b[0m\u001b]8;;\u001b\\\u001b[2m:\u001b[0m\u001b]8;id=487528;file:///Users/saadia/Documents/DevIA_2024/ShiFuMi_computerVision/venv/lib/python3.9/site-packages/inference/core/interfaces/stream/inference_pipeline.py#907\u001b\\\u001b[2m907\u001b[0m\u001b]8;;\u001b\\\n",
       "\u001b[2;36m                    \u001b[0m         \u001b[1;36m1\u001b[0m positional argument but \u001b[1;36m2\u001b[0m were given                       \u001b[2m                         \u001b[0m\n"
      ]
     },
     "metadata": {},
     "output_type": "display_data"
    },
    {
     "name": "stdout",
     "output_type": "stream",
     "text": [
      "0: 640x640 2 Scissorss, 152.9ms\n",
      "Speed: 2.2ms preprocess, 152.9ms inference, 0.4ms postprocess per image at shape (1, 3, 640, 640)\n",
      "Video frames: 1\n",
      "\n"
     ]
    },
    {
     "data": {
      "text/html": [
       "<pre style=\"white-space:pre;overflow-x:auto;line-height:normal;font-family:Menlo,'DejaVu Sans Mono',consolas,'Courier New',monospace\"><span style=\"color: #7fbfbf; text-decoration-color: #7fbfbf\">[07/01/24 11:51:37] </span><span style=\"color: #800000; text-decoration-color: #800000\">WARNING </span> Error in results dispatching - <span style=\"color: #800080; text-decoration-color: #800080; font-weight: bold\">render_boxes_on_frame</span><span style=\"font-weight: bold\">()</span> takes <a href=\"file:///Users/saadia/Documents/DevIA_2024/ShiFuMi_computerVision/venv/lib/python3.9/site-packages/inference/core/interfaces/stream/inference_pipeline.py\" target=\"_blank\"><span style=\"color: #7f7f7f; text-decoration-color: #7f7f7f\">inference_pipeline.py</span></a><span style=\"color: #7f7f7f; text-decoration-color: #7f7f7f\">:</span><a href=\"file:///Users/saadia/Documents/DevIA_2024/ShiFuMi_computerVision/venv/lib/python3.9/site-packages/inference/core/interfaces/stream/inference_pipeline.py#907\" target=\"_blank\"><span style=\"color: #7f7f7f; text-decoration-color: #7f7f7f\">907</span></a>\n",
       "<span style=\"color: #7fbfbf; text-decoration-color: #7fbfbf\">                    </span>         <span style=\"color: #008080; text-decoration-color: #008080; font-weight: bold\">1</span> positional argument but <span style=\"color: #008080; text-decoration-color: #008080; font-weight: bold\">2</span> were given                       <span style=\"color: #7f7f7f; text-decoration-color: #7f7f7f\">                         </span>\n",
       "</pre>\n"
      ],
      "text/plain": [
       "\u001b[2;36m[07/01/24 11:51:37]\u001b[0m\u001b[2;36m \u001b[0m\u001b[31mWARNING \u001b[0m Error in results dispatching - \u001b[1;35mrender_boxes_on_frame\u001b[0m\u001b[1m(\u001b[0m\u001b[1m)\u001b[0m takes \u001b]8;id=126419;file:///Users/saadia/Documents/DevIA_2024/ShiFuMi_computerVision/venv/lib/python3.9/site-packages/inference/core/interfaces/stream/inference_pipeline.py\u001b\\\u001b[2minference_pipeline.py\u001b[0m\u001b]8;;\u001b\\\u001b[2m:\u001b[0m\u001b]8;id=675701;file:///Users/saadia/Documents/DevIA_2024/ShiFuMi_computerVision/venv/lib/python3.9/site-packages/inference/core/interfaces/stream/inference_pipeline.py#907\u001b\\\u001b[2m907\u001b[0m\u001b]8;;\u001b\\\n",
       "\u001b[2;36m                    \u001b[0m         \u001b[1;36m1\u001b[0m positional argument but \u001b[1;36m2\u001b[0m were given                       \u001b[2m                         \u001b[0m\n"
      ]
     },
     "metadata": {},
     "output_type": "display_data"
    },
    {
     "name": "stdout",
     "output_type": "stream",
     "text": [
      "0: 640x640 1 Scissors, 149.0ms\n",
      "Speed: 2.0ms preprocess, 149.0ms inference, 0.5ms postprocess per image at shape (1, 3, 640, 640)\n",
      "Video frames: 1\n",
      "\n"
     ]
    },
    {
     "data": {
      "text/html": [
       "<pre style=\"white-space:pre;overflow-x:auto;line-height:normal;font-family:Menlo,'DejaVu Sans Mono',consolas,'Courier New',monospace\"><span style=\"color: #7fbfbf; text-decoration-color: #7fbfbf\">                    </span><span style=\"color: #800000; text-decoration-color: #800000\">WARNING </span> Error in results dispatching - <span style=\"color: #800080; text-decoration-color: #800080; font-weight: bold\">render_boxes_on_frame</span><span style=\"font-weight: bold\">()</span> takes <a href=\"file:///Users/saadia/Documents/DevIA_2024/ShiFuMi_computerVision/venv/lib/python3.9/site-packages/inference/core/interfaces/stream/inference_pipeline.py\" target=\"_blank\"><span style=\"color: #7f7f7f; text-decoration-color: #7f7f7f\">inference_pipeline.py</span></a><span style=\"color: #7f7f7f; text-decoration-color: #7f7f7f\">:</span><a href=\"file:///Users/saadia/Documents/DevIA_2024/ShiFuMi_computerVision/venv/lib/python3.9/site-packages/inference/core/interfaces/stream/inference_pipeline.py#907\" target=\"_blank\"><span style=\"color: #7f7f7f; text-decoration-color: #7f7f7f\">907</span></a>\n",
       "<span style=\"color: #7fbfbf; text-decoration-color: #7fbfbf\">                    </span>         <span style=\"color: #008080; text-decoration-color: #008080; font-weight: bold\">1</span> positional argument but <span style=\"color: #008080; text-decoration-color: #008080; font-weight: bold\">2</span> were given                       <span style=\"color: #7f7f7f; text-decoration-color: #7f7f7f\">                         </span>\n",
       "</pre>\n"
      ],
      "text/plain": [
       "\u001b[2;36m                   \u001b[0m\u001b[2;36m \u001b[0m\u001b[31mWARNING \u001b[0m Error in results dispatching - \u001b[1;35mrender_boxes_on_frame\u001b[0m\u001b[1m(\u001b[0m\u001b[1m)\u001b[0m takes \u001b]8;id=847618;file:///Users/saadia/Documents/DevIA_2024/ShiFuMi_computerVision/venv/lib/python3.9/site-packages/inference/core/interfaces/stream/inference_pipeline.py\u001b\\\u001b[2minference_pipeline.py\u001b[0m\u001b]8;;\u001b\\\u001b[2m:\u001b[0m\u001b]8;id=994924;file:///Users/saadia/Documents/DevIA_2024/ShiFuMi_computerVision/venv/lib/python3.9/site-packages/inference/core/interfaces/stream/inference_pipeline.py#907\u001b\\\u001b[2m907\u001b[0m\u001b]8;;\u001b\\\n",
       "\u001b[2;36m                    \u001b[0m         \u001b[1;36m1\u001b[0m positional argument but \u001b[1;36m2\u001b[0m were given                       \u001b[2m                         \u001b[0m\n"
      ]
     },
     "metadata": {},
     "output_type": "display_data"
    },
    {
     "name": "stdout",
     "output_type": "stream",
     "text": [
      "0: 640x640 1 Rock, 150.7ms\n",
      "Speed: 2.1ms preprocess, 150.7ms inference, 0.4ms postprocess per image at shape (1, 3, 640, 640)\n",
      "Video frames: 1\n",
      "\n"
     ]
    },
    {
     "data": {
      "text/html": [
       "<pre style=\"white-space:pre;overflow-x:auto;line-height:normal;font-family:Menlo,'DejaVu Sans Mono',consolas,'Courier New',monospace\"><span style=\"color: #7fbfbf; text-decoration-color: #7fbfbf\">                    </span><span style=\"color: #800000; text-decoration-color: #800000\">WARNING </span> Error in results dispatching - <span style=\"color: #800080; text-decoration-color: #800080; font-weight: bold\">render_boxes_on_frame</span><span style=\"font-weight: bold\">()</span> takes <a href=\"file:///Users/saadia/Documents/DevIA_2024/ShiFuMi_computerVision/venv/lib/python3.9/site-packages/inference/core/interfaces/stream/inference_pipeline.py\" target=\"_blank\"><span style=\"color: #7f7f7f; text-decoration-color: #7f7f7f\">inference_pipeline.py</span></a><span style=\"color: #7f7f7f; text-decoration-color: #7f7f7f\">:</span><a href=\"file:///Users/saadia/Documents/DevIA_2024/ShiFuMi_computerVision/venv/lib/python3.9/site-packages/inference/core/interfaces/stream/inference_pipeline.py#907\" target=\"_blank\"><span style=\"color: #7f7f7f; text-decoration-color: #7f7f7f\">907</span></a>\n",
       "<span style=\"color: #7fbfbf; text-decoration-color: #7fbfbf\">                    </span>         <span style=\"color: #008080; text-decoration-color: #008080; font-weight: bold\">1</span> positional argument but <span style=\"color: #008080; text-decoration-color: #008080; font-weight: bold\">2</span> were given                       <span style=\"color: #7f7f7f; text-decoration-color: #7f7f7f\">                         </span>\n",
       "</pre>\n"
      ],
      "text/plain": [
       "\u001b[2;36m                   \u001b[0m\u001b[2;36m \u001b[0m\u001b[31mWARNING \u001b[0m Error in results dispatching - \u001b[1;35mrender_boxes_on_frame\u001b[0m\u001b[1m(\u001b[0m\u001b[1m)\u001b[0m takes \u001b]8;id=381427;file:///Users/saadia/Documents/DevIA_2024/ShiFuMi_computerVision/venv/lib/python3.9/site-packages/inference/core/interfaces/stream/inference_pipeline.py\u001b\\\u001b[2minference_pipeline.py\u001b[0m\u001b]8;;\u001b\\\u001b[2m:\u001b[0m\u001b]8;id=223656;file:///Users/saadia/Documents/DevIA_2024/ShiFuMi_computerVision/venv/lib/python3.9/site-packages/inference/core/interfaces/stream/inference_pipeline.py#907\u001b\\\u001b[2m907\u001b[0m\u001b]8;;\u001b\\\n",
       "\u001b[2;36m                    \u001b[0m         \u001b[1;36m1\u001b[0m positional argument but \u001b[1;36m2\u001b[0m were given                       \u001b[2m                         \u001b[0m\n"
      ]
     },
     "metadata": {},
     "output_type": "display_data"
    },
    {
     "name": "stdout",
     "output_type": "stream",
     "text": [
      "0: 640x640 1 Rock, 151.5ms\n",
      "Speed: 2.2ms preprocess, 151.5ms inference, 0.4ms postprocess per image at shape (1, 3, 640, 640)\n",
      "Video frames: 1\n",
      "\n"
     ]
    },
    {
     "data": {
      "text/html": [
       "<pre style=\"white-space:pre;overflow-x:auto;line-height:normal;font-family:Menlo,'DejaVu Sans Mono',consolas,'Courier New',monospace\"><span style=\"color: #7fbfbf; text-decoration-color: #7fbfbf\">                    </span><span style=\"color: #800000; text-decoration-color: #800000\">WARNING </span> Error in results dispatching - <span style=\"color: #800080; text-decoration-color: #800080; font-weight: bold\">render_boxes_on_frame</span><span style=\"font-weight: bold\">()</span> takes <a href=\"file:///Users/saadia/Documents/DevIA_2024/ShiFuMi_computerVision/venv/lib/python3.9/site-packages/inference/core/interfaces/stream/inference_pipeline.py\" target=\"_blank\"><span style=\"color: #7f7f7f; text-decoration-color: #7f7f7f\">inference_pipeline.py</span></a><span style=\"color: #7f7f7f; text-decoration-color: #7f7f7f\">:</span><a href=\"file:///Users/saadia/Documents/DevIA_2024/ShiFuMi_computerVision/venv/lib/python3.9/site-packages/inference/core/interfaces/stream/inference_pipeline.py#907\" target=\"_blank\"><span style=\"color: #7f7f7f; text-decoration-color: #7f7f7f\">907</span></a>\n",
       "<span style=\"color: #7fbfbf; text-decoration-color: #7fbfbf\">                    </span>         <span style=\"color: #008080; text-decoration-color: #008080; font-weight: bold\">1</span> positional argument but <span style=\"color: #008080; text-decoration-color: #008080; font-weight: bold\">2</span> were given                       <span style=\"color: #7f7f7f; text-decoration-color: #7f7f7f\">                         </span>\n",
       "</pre>\n"
      ],
      "text/plain": [
       "\u001b[2;36m                   \u001b[0m\u001b[2;36m \u001b[0m\u001b[31mWARNING \u001b[0m Error in results dispatching - \u001b[1;35mrender_boxes_on_frame\u001b[0m\u001b[1m(\u001b[0m\u001b[1m)\u001b[0m takes \u001b]8;id=617185;file:///Users/saadia/Documents/DevIA_2024/ShiFuMi_computerVision/venv/lib/python3.9/site-packages/inference/core/interfaces/stream/inference_pipeline.py\u001b\\\u001b[2minference_pipeline.py\u001b[0m\u001b]8;;\u001b\\\u001b[2m:\u001b[0m\u001b]8;id=117274;file:///Users/saadia/Documents/DevIA_2024/ShiFuMi_computerVision/venv/lib/python3.9/site-packages/inference/core/interfaces/stream/inference_pipeline.py#907\u001b\\\u001b[2m907\u001b[0m\u001b]8;;\u001b\\\n",
       "\u001b[2;36m                    \u001b[0m         \u001b[1;36m1\u001b[0m positional argument but \u001b[1;36m2\u001b[0m were given                       \u001b[2m                         \u001b[0m\n"
      ]
     },
     "metadata": {},
     "output_type": "display_data"
    },
    {
     "name": "stdout",
     "output_type": "stream",
     "text": [
      "0: 640x640 1 Rock, 156.1ms\n",
      "Speed: 2.1ms preprocess, 156.1ms inference, 0.4ms postprocess per image at shape (1, 3, 640, 640)\n",
      "Video frames: 1\n",
      "\n"
     ]
    },
    {
     "data": {
      "text/html": [
       "<pre style=\"white-space:pre;overflow-x:auto;line-height:normal;font-family:Menlo,'DejaVu Sans Mono',consolas,'Courier New',monospace\"><span style=\"color: #7fbfbf; text-decoration-color: #7fbfbf\">                    </span><span style=\"color: #800000; text-decoration-color: #800000\">WARNING </span> Error in results dispatching - <span style=\"color: #800080; text-decoration-color: #800080; font-weight: bold\">render_boxes_on_frame</span><span style=\"font-weight: bold\">()</span> takes <a href=\"file:///Users/saadia/Documents/DevIA_2024/ShiFuMi_computerVision/venv/lib/python3.9/site-packages/inference/core/interfaces/stream/inference_pipeline.py\" target=\"_blank\"><span style=\"color: #7f7f7f; text-decoration-color: #7f7f7f\">inference_pipeline.py</span></a><span style=\"color: #7f7f7f; text-decoration-color: #7f7f7f\">:</span><a href=\"file:///Users/saadia/Documents/DevIA_2024/ShiFuMi_computerVision/venv/lib/python3.9/site-packages/inference/core/interfaces/stream/inference_pipeline.py#907\" target=\"_blank\"><span style=\"color: #7f7f7f; text-decoration-color: #7f7f7f\">907</span></a>\n",
       "<span style=\"color: #7fbfbf; text-decoration-color: #7fbfbf\">                    </span>         <span style=\"color: #008080; text-decoration-color: #008080; font-weight: bold\">1</span> positional argument but <span style=\"color: #008080; text-decoration-color: #008080; font-weight: bold\">2</span> were given                       <span style=\"color: #7f7f7f; text-decoration-color: #7f7f7f\">                         </span>\n",
       "</pre>\n"
      ],
      "text/plain": [
       "\u001b[2;36m                   \u001b[0m\u001b[2;36m \u001b[0m\u001b[31mWARNING \u001b[0m Error in results dispatching - \u001b[1;35mrender_boxes_on_frame\u001b[0m\u001b[1m(\u001b[0m\u001b[1m)\u001b[0m takes \u001b]8;id=53175;file:///Users/saadia/Documents/DevIA_2024/ShiFuMi_computerVision/venv/lib/python3.9/site-packages/inference/core/interfaces/stream/inference_pipeline.py\u001b\\\u001b[2minference_pipeline.py\u001b[0m\u001b]8;;\u001b\\\u001b[2m:\u001b[0m\u001b]8;id=710568;file:///Users/saadia/Documents/DevIA_2024/ShiFuMi_computerVision/venv/lib/python3.9/site-packages/inference/core/interfaces/stream/inference_pipeline.py#907\u001b\\\u001b[2m907\u001b[0m\u001b]8;;\u001b\\\n",
       "\u001b[2;36m                    \u001b[0m         \u001b[1;36m1\u001b[0m positional argument but \u001b[1;36m2\u001b[0m were given                       \u001b[2m                         \u001b[0m\n"
      ]
     },
     "metadata": {},
     "output_type": "display_data"
    },
    {
     "name": "stdout",
     "output_type": "stream",
     "text": [
      "0: 640x640 1 Rock, 149.6ms\n",
      "Speed: 1.8ms preprocess, 149.6ms inference, 0.5ms postprocess per image at shape (1, 3, 640, 640)\n",
      "Video frames: 1\n",
      "\n"
     ]
    },
    {
     "data": {
      "text/html": [
       "<pre style=\"white-space:pre;overflow-x:auto;line-height:normal;font-family:Menlo,'DejaVu Sans Mono',consolas,'Courier New',monospace\"><span style=\"color: #7fbfbf; text-decoration-color: #7fbfbf\">                    </span><span style=\"color: #800000; text-decoration-color: #800000\">WARNING </span> Error in results dispatching - <span style=\"color: #800080; text-decoration-color: #800080; font-weight: bold\">render_boxes_on_frame</span><span style=\"font-weight: bold\">()</span> takes <a href=\"file:///Users/saadia/Documents/DevIA_2024/ShiFuMi_computerVision/venv/lib/python3.9/site-packages/inference/core/interfaces/stream/inference_pipeline.py\" target=\"_blank\"><span style=\"color: #7f7f7f; text-decoration-color: #7f7f7f\">inference_pipeline.py</span></a><span style=\"color: #7f7f7f; text-decoration-color: #7f7f7f\">:</span><a href=\"file:///Users/saadia/Documents/DevIA_2024/ShiFuMi_computerVision/venv/lib/python3.9/site-packages/inference/core/interfaces/stream/inference_pipeline.py#907\" target=\"_blank\"><span style=\"color: #7f7f7f; text-decoration-color: #7f7f7f\">907</span></a>\n",
       "<span style=\"color: #7fbfbf; text-decoration-color: #7fbfbf\">                    </span>         <span style=\"color: #008080; text-decoration-color: #008080; font-weight: bold\">1</span> positional argument but <span style=\"color: #008080; text-decoration-color: #008080; font-weight: bold\">2</span> were given                       <span style=\"color: #7f7f7f; text-decoration-color: #7f7f7f\">                         </span>\n",
       "</pre>\n"
      ],
      "text/plain": [
       "\u001b[2;36m                   \u001b[0m\u001b[2;36m \u001b[0m\u001b[31mWARNING \u001b[0m Error in results dispatching - \u001b[1;35mrender_boxes_on_frame\u001b[0m\u001b[1m(\u001b[0m\u001b[1m)\u001b[0m takes \u001b]8;id=871880;file:///Users/saadia/Documents/DevIA_2024/ShiFuMi_computerVision/venv/lib/python3.9/site-packages/inference/core/interfaces/stream/inference_pipeline.py\u001b\\\u001b[2minference_pipeline.py\u001b[0m\u001b]8;;\u001b\\\u001b[2m:\u001b[0m\u001b]8;id=856134;file:///Users/saadia/Documents/DevIA_2024/ShiFuMi_computerVision/venv/lib/python3.9/site-packages/inference/core/interfaces/stream/inference_pipeline.py#907\u001b\\\u001b[2m907\u001b[0m\u001b]8;;\u001b\\\n",
       "\u001b[2;36m                    \u001b[0m         \u001b[1;36m1\u001b[0m positional argument but \u001b[1;36m2\u001b[0m were given                       \u001b[2m                         \u001b[0m\n"
      ]
     },
     "metadata": {},
     "output_type": "display_data"
    },
    {
     "name": "stdout",
     "output_type": "stream",
     "text": [
      "0: 640x640 1 Rock, 155.4ms\n",
      "Speed: 2.0ms preprocess, 155.4ms inference, 0.5ms postprocess per image at shape (1, 3, 640, 640)\n",
      "Video frames: 1\n",
      "\n"
     ]
    },
    {
     "data": {
      "text/html": [
       "<pre style=\"white-space:pre;overflow-x:auto;line-height:normal;font-family:Menlo,'DejaVu Sans Mono',consolas,'Courier New',monospace\"><span style=\"color: #7fbfbf; text-decoration-color: #7fbfbf\">                    </span><span style=\"color: #800000; text-decoration-color: #800000\">WARNING </span> Error in results dispatching - <span style=\"color: #800080; text-decoration-color: #800080; font-weight: bold\">render_boxes_on_frame</span><span style=\"font-weight: bold\">()</span> takes <a href=\"file:///Users/saadia/Documents/DevIA_2024/ShiFuMi_computerVision/venv/lib/python3.9/site-packages/inference/core/interfaces/stream/inference_pipeline.py\" target=\"_blank\"><span style=\"color: #7f7f7f; text-decoration-color: #7f7f7f\">inference_pipeline.py</span></a><span style=\"color: #7f7f7f; text-decoration-color: #7f7f7f\">:</span><a href=\"file:///Users/saadia/Documents/DevIA_2024/ShiFuMi_computerVision/venv/lib/python3.9/site-packages/inference/core/interfaces/stream/inference_pipeline.py#907\" target=\"_blank\"><span style=\"color: #7f7f7f; text-decoration-color: #7f7f7f\">907</span></a>\n",
       "<span style=\"color: #7fbfbf; text-decoration-color: #7fbfbf\">                    </span>         <span style=\"color: #008080; text-decoration-color: #008080; font-weight: bold\">1</span> positional argument but <span style=\"color: #008080; text-decoration-color: #008080; font-weight: bold\">2</span> were given                       <span style=\"color: #7f7f7f; text-decoration-color: #7f7f7f\">                         </span>\n",
       "</pre>\n"
      ],
      "text/plain": [
       "\u001b[2;36m                   \u001b[0m\u001b[2;36m \u001b[0m\u001b[31mWARNING \u001b[0m Error in results dispatching - \u001b[1;35mrender_boxes_on_frame\u001b[0m\u001b[1m(\u001b[0m\u001b[1m)\u001b[0m takes \u001b]8;id=448981;file:///Users/saadia/Documents/DevIA_2024/ShiFuMi_computerVision/venv/lib/python3.9/site-packages/inference/core/interfaces/stream/inference_pipeline.py\u001b\\\u001b[2minference_pipeline.py\u001b[0m\u001b]8;;\u001b\\\u001b[2m:\u001b[0m\u001b]8;id=112405;file:///Users/saadia/Documents/DevIA_2024/ShiFuMi_computerVision/venv/lib/python3.9/site-packages/inference/core/interfaces/stream/inference_pipeline.py#907\u001b\\\u001b[2m907\u001b[0m\u001b]8;;\u001b\\\n",
       "\u001b[2;36m                    \u001b[0m         \u001b[1;36m1\u001b[0m positional argument but \u001b[1;36m2\u001b[0m were given                       \u001b[2m                         \u001b[0m\n"
      ]
     },
     "metadata": {},
     "output_type": "display_data"
    },
    {
     "name": "stdout",
     "output_type": "stream",
     "text": [
      "0: 640x640 1 Rock, 164.5ms\n",
      "Speed: 2.5ms preprocess, 164.5ms inference, 0.4ms postprocess per image at shape (1, 3, 640, 640)\n",
      "Video frames: 1\n",
      "\n"
     ]
    },
    {
     "data": {
      "text/html": [
       "<pre style=\"white-space:pre;overflow-x:auto;line-height:normal;font-family:Menlo,'DejaVu Sans Mono',consolas,'Courier New',monospace\"><span style=\"color: #7fbfbf; text-decoration-color: #7fbfbf\">[07/01/24 11:51:38] </span><span style=\"color: #800000; text-decoration-color: #800000\">WARNING </span> Error in results dispatching - <span style=\"color: #800080; text-decoration-color: #800080; font-weight: bold\">render_boxes_on_frame</span><span style=\"font-weight: bold\">()</span> takes <a href=\"file:///Users/saadia/Documents/DevIA_2024/ShiFuMi_computerVision/venv/lib/python3.9/site-packages/inference/core/interfaces/stream/inference_pipeline.py\" target=\"_blank\"><span style=\"color: #7f7f7f; text-decoration-color: #7f7f7f\">inference_pipeline.py</span></a><span style=\"color: #7f7f7f; text-decoration-color: #7f7f7f\">:</span><a href=\"file:///Users/saadia/Documents/DevIA_2024/ShiFuMi_computerVision/venv/lib/python3.9/site-packages/inference/core/interfaces/stream/inference_pipeline.py#907\" target=\"_blank\"><span style=\"color: #7f7f7f; text-decoration-color: #7f7f7f\">907</span></a>\n",
       "<span style=\"color: #7fbfbf; text-decoration-color: #7fbfbf\">                    </span>         <span style=\"color: #008080; text-decoration-color: #008080; font-weight: bold\">1</span> positional argument but <span style=\"color: #008080; text-decoration-color: #008080; font-weight: bold\">2</span> were given                       <span style=\"color: #7f7f7f; text-decoration-color: #7f7f7f\">                         </span>\n",
       "</pre>\n"
      ],
      "text/plain": [
       "\u001b[2;36m[07/01/24 11:51:38]\u001b[0m\u001b[2;36m \u001b[0m\u001b[31mWARNING \u001b[0m Error in results dispatching - \u001b[1;35mrender_boxes_on_frame\u001b[0m\u001b[1m(\u001b[0m\u001b[1m)\u001b[0m takes \u001b]8;id=708340;file:///Users/saadia/Documents/DevIA_2024/ShiFuMi_computerVision/venv/lib/python3.9/site-packages/inference/core/interfaces/stream/inference_pipeline.py\u001b\\\u001b[2minference_pipeline.py\u001b[0m\u001b]8;;\u001b\\\u001b[2m:\u001b[0m\u001b]8;id=79149;file:///Users/saadia/Documents/DevIA_2024/ShiFuMi_computerVision/venv/lib/python3.9/site-packages/inference/core/interfaces/stream/inference_pipeline.py#907\u001b\\\u001b[2m907\u001b[0m\u001b]8;;\u001b\\\n",
       "\u001b[2;36m                    \u001b[0m         \u001b[1;36m1\u001b[0m positional argument but \u001b[1;36m2\u001b[0m were given                       \u001b[2m                         \u001b[0m\n"
      ]
     },
     "metadata": {},
     "output_type": "display_data"
    },
    {
     "name": "stdout",
     "output_type": "stream",
     "text": [
      "0: 640x640 1 Rock, 163.2ms\n",
      "Speed: 2.3ms preprocess, 163.2ms inference, 0.7ms postprocess per image at shape (1, 3, 640, 640)\n",
      "Video frames: 1\n",
      "\n"
     ]
    },
    {
     "data": {
      "text/html": [
       "<pre style=\"white-space:pre;overflow-x:auto;line-height:normal;font-family:Menlo,'DejaVu Sans Mono',consolas,'Courier New',monospace\"><span style=\"color: #7fbfbf; text-decoration-color: #7fbfbf\">                    </span><span style=\"color: #800000; text-decoration-color: #800000\">WARNING </span> Error in results dispatching - <span style=\"color: #800080; text-decoration-color: #800080; font-weight: bold\">render_boxes_on_frame</span><span style=\"font-weight: bold\">()</span> takes <a href=\"file:///Users/saadia/Documents/DevIA_2024/ShiFuMi_computerVision/venv/lib/python3.9/site-packages/inference/core/interfaces/stream/inference_pipeline.py\" target=\"_blank\"><span style=\"color: #7f7f7f; text-decoration-color: #7f7f7f\">inference_pipeline.py</span></a><span style=\"color: #7f7f7f; text-decoration-color: #7f7f7f\">:</span><a href=\"file:///Users/saadia/Documents/DevIA_2024/ShiFuMi_computerVision/venv/lib/python3.9/site-packages/inference/core/interfaces/stream/inference_pipeline.py#907\" target=\"_blank\"><span style=\"color: #7f7f7f; text-decoration-color: #7f7f7f\">907</span></a>\n",
       "<span style=\"color: #7fbfbf; text-decoration-color: #7fbfbf\">                    </span>         <span style=\"color: #008080; text-decoration-color: #008080; font-weight: bold\">1</span> positional argument but <span style=\"color: #008080; text-decoration-color: #008080; font-weight: bold\">2</span> were given                       <span style=\"color: #7f7f7f; text-decoration-color: #7f7f7f\">                         </span>\n",
       "</pre>\n"
      ],
      "text/plain": [
       "\u001b[2;36m                   \u001b[0m\u001b[2;36m \u001b[0m\u001b[31mWARNING \u001b[0m Error in results dispatching - \u001b[1;35mrender_boxes_on_frame\u001b[0m\u001b[1m(\u001b[0m\u001b[1m)\u001b[0m takes \u001b]8;id=975947;file:///Users/saadia/Documents/DevIA_2024/ShiFuMi_computerVision/venv/lib/python3.9/site-packages/inference/core/interfaces/stream/inference_pipeline.py\u001b\\\u001b[2minference_pipeline.py\u001b[0m\u001b]8;;\u001b\\\u001b[2m:\u001b[0m\u001b]8;id=88147;file:///Users/saadia/Documents/DevIA_2024/ShiFuMi_computerVision/venv/lib/python3.9/site-packages/inference/core/interfaces/stream/inference_pipeline.py#907\u001b\\\u001b[2m907\u001b[0m\u001b]8;;\u001b\\\n",
       "\u001b[2;36m                    \u001b[0m         \u001b[1;36m1\u001b[0m positional argument but \u001b[1;36m2\u001b[0m were given                       \u001b[2m                         \u001b[0m\n"
      ]
     },
     "metadata": {},
     "output_type": "display_data"
    },
    {
     "name": "stdout",
     "output_type": "stream",
     "text": [
      "0: 640x640 1 Rock, 160.8ms\n",
      "Speed: 2.1ms preprocess, 160.8ms inference, 0.4ms postprocess per image at shape (1, 3, 640, 640)\n",
      "Video frames: 1\n",
      "\n"
     ]
    },
    {
     "data": {
      "text/html": [
       "<pre style=\"white-space:pre;overflow-x:auto;line-height:normal;font-family:Menlo,'DejaVu Sans Mono',consolas,'Courier New',monospace\"><span style=\"color: #7fbfbf; text-decoration-color: #7fbfbf\">                    </span><span style=\"color: #800000; text-decoration-color: #800000\">WARNING </span> Error in results dispatching - <span style=\"color: #800080; text-decoration-color: #800080; font-weight: bold\">render_boxes_on_frame</span><span style=\"font-weight: bold\">()</span> takes <a href=\"file:///Users/saadia/Documents/DevIA_2024/ShiFuMi_computerVision/venv/lib/python3.9/site-packages/inference/core/interfaces/stream/inference_pipeline.py\" target=\"_blank\"><span style=\"color: #7f7f7f; text-decoration-color: #7f7f7f\">inference_pipeline.py</span></a><span style=\"color: #7f7f7f; text-decoration-color: #7f7f7f\">:</span><a href=\"file:///Users/saadia/Documents/DevIA_2024/ShiFuMi_computerVision/venv/lib/python3.9/site-packages/inference/core/interfaces/stream/inference_pipeline.py#907\" target=\"_blank\"><span style=\"color: #7f7f7f; text-decoration-color: #7f7f7f\">907</span></a>\n",
       "<span style=\"color: #7fbfbf; text-decoration-color: #7fbfbf\">                    </span>         <span style=\"color: #008080; text-decoration-color: #008080; font-weight: bold\">1</span> positional argument but <span style=\"color: #008080; text-decoration-color: #008080; font-weight: bold\">2</span> were given                       <span style=\"color: #7f7f7f; text-decoration-color: #7f7f7f\">                         </span>\n",
       "</pre>\n"
      ],
      "text/plain": [
       "\u001b[2;36m                   \u001b[0m\u001b[2;36m \u001b[0m\u001b[31mWARNING \u001b[0m Error in results dispatching - \u001b[1;35mrender_boxes_on_frame\u001b[0m\u001b[1m(\u001b[0m\u001b[1m)\u001b[0m takes \u001b]8;id=336984;file:///Users/saadia/Documents/DevIA_2024/ShiFuMi_computerVision/venv/lib/python3.9/site-packages/inference/core/interfaces/stream/inference_pipeline.py\u001b\\\u001b[2minference_pipeline.py\u001b[0m\u001b]8;;\u001b\\\u001b[2m:\u001b[0m\u001b]8;id=43044;file:///Users/saadia/Documents/DevIA_2024/ShiFuMi_computerVision/venv/lib/python3.9/site-packages/inference/core/interfaces/stream/inference_pipeline.py#907\u001b\\\u001b[2m907\u001b[0m\u001b]8;;\u001b\\\n",
       "\u001b[2;36m                    \u001b[0m         \u001b[1;36m1\u001b[0m positional argument but \u001b[1;36m2\u001b[0m were given                       \u001b[2m                         \u001b[0m\n"
      ]
     },
     "metadata": {},
     "output_type": "display_data"
    },
    {
     "name": "stdout",
     "output_type": "stream",
     "text": [
      "0: 640x640 1 Rock, 1 Scissors, 163.4ms\n",
      "Speed: 2.5ms preprocess, 163.4ms inference, 0.5ms postprocess per image at shape (1, 3, 640, 640)\n",
      "Video frames: 1\n",
      "\n"
     ]
    },
    {
     "data": {
      "text/html": [
       "<pre style=\"white-space:pre;overflow-x:auto;line-height:normal;font-family:Menlo,'DejaVu Sans Mono',consolas,'Courier New',monospace\"><span style=\"color: #7fbfbf; text-decoration-color: #7fbfbf\">                    </span><span style=\"color: #800000; text-decoration-color: #800000\">WARNING </span> Error in results dispatching - <span style=\"color: #800080; text-decoration-color: #800080; font-weight: bold\">render_boxes_on_frame</span><span style=\"font-weight: bold\">()</span> takes <a href=\"file:///Users/saadia/Documents/DevIA_2024/ShiFuMi_computerVision/venv/lib/python3.9/site-packages/inference/core/interfaces/stream/inference_pipeline.py\" target=\"_blank\"><span style=\"color: #7f7f7f; text-decoration-color: #7f7f7f\">inference_pipeline.py</span></a><span style=\"color: #7f7f7f; text-decoration-color: #7f7f7f\">:</span><a href=\"file:///Users/saadia/Documents/DevIA_2024/ShiFuMi_computerVision/venv/lib/python3.9/site-packages/inference/core/interfaces/stream/inference_pipeline.py#907\" target=\"_blank\"><span style=\"color: #7f7f7f; text-decoration-color: #7f7f7f\">907</span></a>\n",
       "<span style=\"color: #7fbfbf; text-decoration-color: #7fbfbf\">                    </span>         <span style=\"color: #008080; text-decoration-color: #008080; font-weight: bold\">1</span> positional argument but <span style=\"color: #008080; text-decoration-color: #008080; font-weight: bold\">2</span> were given                       <span style=\"color: #7f7f7f; text-decoration-color: #7f7f7f\">                         </span>\n",
       "</pre>\n"
      ],
      "text/plain": [
       "\u001b[2;36m                   \u001b[0m\u001b[2;36m \u001b[0m\u001b[31mWARNING \u001b[0m Error in results dispatching - \u001b[1;35mrender_boxes_on_frame\u001b[0m\u001b[1m(\u001b[0m\u001b[1m)\u001b[0m takes \u001b]8;id=615957;file:///Users/saadia/Documents/DevIA_2024/ShiFuMi_computerVision/venv/lib/python3.9/site-packages/inference/core/interfaces/stream/inference_pipeline.py\u001b\\\u001b[2minference_pipeline.py\u001b[0m\u001b]8;;\u001b\\\u001b[2m:\u001b[0m\u001b]8;id=429744;file:///Users/saadia/Documents/DevIA_2024/ShiFuMi_computerVision/venv/lib/python3.9/site-packages/inference/core/interfaces/stream/inference_pipeline.py#907\u001b\\\u001b[2m907\u001b[0m\u001b]8;;\u001b\\\n",
       "\u001b[2;36m                    \u001b[0m         \u001b[1;36m1\u001b[0m positional argument but \u001b[1;36m2\u001b[0m were given                       \u001b[2m                         \u001b[0m\n"
      ]
     },
     "metadata": {},
     "output_type": "display_data"
    },
    {
     "name": "stdout",
     "output_type": "stream",
     "text": [
      "0: 640x640 1 Scissors, 161.5ms\n",
      "Speed: 2.7ms preprocess, 161.5ms inference, 0.4ms postprocess per image at shape (1, 3, 640, 640)\n",
      "Video frames: 1\n",
      "\n"
     ]
    },
    {
     "data": {
      "text/html": [
       "<pre style=\"white-space:pre;overflow-x:auto;line-height:normal;font-family:Menlo,'DejaVu Sans Mono',consolas,'Courier New',monospace\"><span style=\"color: #7fbfbf; text-decoration-color: #7fbfbf\">                    </span><span style=\"color: #800000; text-decoration-color: #800000\">WARNING </span> Error in results dispatching - <span style=\"color: #800080; text-decoration-color: #800080; font-weight: bold\">render_boxes_on_frame</span><span style=\"font-weight: bold\">()</span> takes <a href=\"file:///Users/saadia/Documents/DevIA_2024/ShiFuMi_computerVision/venv/lib/python3.9/site-packages/inference/core/interfaces/stream/inference_pipeline.py\" target=\"_blank\"><span style=\"color: #7f7f7f; text-decoration-color: #7f7f7f\">inference_pipeline.py</span></a><span style=\"color: #7f7f7f; text-decoration-color: #7f7f7f\">:</span><a href=\"file:///Users/saadia/Documents/DevIA_2024/ShiFuMi_computerVision/venv/lib/python3.9/site-packages/inference/core/interfaces/stream/inference_pipeline.py#907\" target=\"_blank\"><span style=\"color: #7f7f7f; text-decoration-color: #7f7f7f\">907</span></a>\n",
       "<span style=\"color: #7fbfbf; text-decoration-color: #7fbfbf\">                    </span>         <span style=\"color: #008080; text-decoration-color: #008080; font-weight: bold\">1</span> positional argument but <span style=\"color: #008080; text-decoration-color: #008080; font-weight: bold\">2</span> were given                       <span style=\"color: #7f7f7f; text-decoration-color: #7f7f7f\">                         </span>\n",
       "</pre>\n"
      ],
      "text/plain": [
       "\u001b[2;36m                   \u001b[0m\u001b[2;36m \u001b[0m\u001b[31mWARNING \u001b[0m Error in results dispatching - \u001b[1;35mrender_boxes_on_frame\u001b[0m\u001b[1m(\u001b[0m\u001b[1m)\u001b[0m takes \u001b]8;id=933038;file:///Users/saadia/Documents/DevIA_2024/ShiFuMi_computerVision/venv/lib/python3.9/site-packages/inference/core/interfaces/stream/inference_pipeline.py\u001b\\\u001b[2minference_pipeline.py\u001b[0m\u001b]8;;\u001b\\\u001b[2m:\u001b[0m\u001b]8;id=417687;file:///Users/saadia/Documents/DevIA_2024/ShiFuMi_computerVision/venv/lib/python3.9/site-packages/inference/core/interfaces/stream/inference_pipeline.py#907\u001b\\\u001b[2m907\u001b[0m\u001b]8;;\u001b\\\n",
       "\u001b[2;36m                    \u001b[0m         \u001b[1;36m1\u001b[0m positional argument but \u001b[1;36m2\u001b[0m were given                       \u001b[2m                         \u001b[0m\n"
      ]
     },
     "metadata": {},
     "output_type": "display_data"
    },
    {
     "name": "stdout",
     "output_type": "stream",
     "text": [
      "0: 640x640 1 Scissors, 166.0ms\n",
      "Speed: 2.5ms preprocess, 166.0ms inference, 0.4ms postprocess per image at shape (1, 3, 640, 640)\n",
      "Video frames: 1\n",
      "\n"
     ]
    },
    {
     "data": {
      "text/html": [
       "<pre style=\"white-space:pre;overflow-x:auto;line-height:normal;font-family:Menlo,'DejaVu Sans Mono',consolas,'Courier New',monospace\"><span style=\"color: #7fbfbf; text-decoration-color: #7fbfbf\">                    </span><span style=\"color: #800000; text-decoration-color: #800000\">WARNING </span> Error in results dispatching - <span style=\"color: #800080; text-decoration-color: #800080; font-weight: bold\">render_boxes_on_frame</span><span style=\"font-weight: bold\">()</span> takes <a href=\"file:///Users/saadia/Documents/DevIA_2024/ShiFuMi_computerVision/venv/lib/python3.9/site-packages/inference/core/interfaces/stream/inference_pipeline.py\" target=\"_blank\"><span style=\"color: #7f7f7f; text-decoration-color: #7f7f7f\">inference_pipeline.py</span></a><span style=\"color: #7f7f7f; text-decoration-color: #7f7f7f\">:</span><a href=\"file:///Users/saadia/Documents/DevIA_2024/ShiFuMi_computerVision/venv/lib/python3.9/site-packages/inference/core/interfaces/stream/inference_pipeline.py#907\" target=\"_blank\"><span style=\"color: #7f7f7f; text-decoration-color: #7f7f7f\">907</span></a>\n",
       "<span style=\"color: #7fbfbf; text-decoration-color: #7fbfbf\">                    </span>         <span style=\"color: #008080; text-decoration-color: #008080; font-weight: bold\">1</span> positional argument but <span style=\"color: #008080; text-decoration-color: #008080; font-weight: bold\">2</span> were given                       <span style=\"color: #7f7f7f; text-decoration-color: #7f7f7f\">                         </span>\n",
       "</pre>\n"
      ],
      "text/plain": [
       "\u001b[2;36m                   \u001b[0m\u001b[2;36m \u001b[0m\u001b[31mWARNING \u001b[0m Error in results dispatching - \u001b[1;35mrender_boxes_on_frame\u001b[0m\u001b[1m(\u001b[0m\u001b[1m)\u001b[0m takes \u001b]8;id=602592;file:///Users/saadia/Documents/DevIA_2024/ShiFuMi_computerVision/venv/lib/python3.9/site-packages/inference/core/interfaces/stream/inference_pipeline.py\u001b\\\u001b[2minference_pipeline.py\u001b[0m\u001b]8;;\u001b\\\u001b[2m:\u001b[0m\u001b]8;id=476135;file:///Users/saadia/Documents/DevIA_2024/ShiFuMi_computerVision/venv/lib/python3.9/site-packages/inference/core/interfaces/stream/inference_pipeline.py#907\u001b\\\u001b[2m907\u001b[0m\u001b]8;;\u001b\\\n",
       "\u001b[2;36m                    \u001b[0m         \u001b[1;36m1\u001b[0m positional argument but \u001b[1;36m2\u001b[0m were given                       \u001b[2m                         \u001b[0m\n"
      ]
     },
     "metadata": {},
     "output_type": "display_data"
    },
    {
     "name": "stdout",
     "output_type": "stream",
     "text": [
      "0: 640x640 1 Paper, 1 Scissors, 156.1ms\n",
      "Speed: 2.4ms preprocess, 156.1ms inference, 0.5ms postprocess per image at shape (1, 3, 640, 640)\n",
      "Video frames: 1\n",
      "\n"
     ]
    },
    {
     "data": {
      "text/html": [
       "<pre style=\"white-space:pre;overflow-x:auto;line-height:normal;font-family:Menlo,'DejaVu Sans Mono',consolas,'Courier New',monospace\"><span style=\"color: #7fbfbf; text-decoration-color: #7fbfbf\">[07/01/24 11:51:39] </span><span style=\"color: #800000; text-decoration-color: #800000\">WARNING </span> Error in results dispatching - <span style=\"color: #800080; text-decoration-color: #800080; font-weight: bold\">render_boxes_on_frame</span><span style=\"font-weight: bold\">()</span> takes <a href=\"file:///Users/saadia/Documents/DevIA_2024/ShiFuMi_computerVision/venv/lib/python3.9/site-packages/inference/core/interfaces/stream/inference_pipeline.py\" target=\"_blank\"><span style=\"color: #7f7f7f; text-decoration-color: #7f7f7f\">inference_pipeline.py</span></a><span style=\"color: #7f7f7f; text-decoration-color: #7f7f7f\">:</span><a href=\"file:///Users/saadia/Documents/DevIA_2024/ShiFuMi_computerVision/venv/lib/python3.9/site-packages/inference/core/interfaces/stream/inference_pipeline.py#907\" target=\"_blank\"><span style=\"color: #7f7f7f; text-decoration-color: #7f7f7f\">907</span></a>\n",
       "<span style=\"color: #7fbfbf; text-decoration-color: #7fbfbf\">                    </span>         <span style=\"color: #008080; text-decoration-color: #008080; font-weight: bold\">1</span> positional argument but <span style=\"color: #008080; text-decoration-color: #008080; font-weight: bold\">2</span> were given                       <span style=\"color: #7f7f7f; text-decoration-color: #7f7f7f\">                         </span>\n",
       "</pre>\n"
      ],
      "text/plain": [
       "\u001b[2;36m[07/01/24 11:51:39]\u001b[0m\u001b[2;36m \u001b[0m\u001b[31mWARNING \u001b[0m Error in results dispatching - \u001b[1;35mrender_boxes_on_frame\u001b[0m\u001b[1m(\u001b[0m\u001b[1m)\u001b[0m takes \u001b]8;id=145196;file:///Users/saadia/Documents/DevIA_2024/ShiFuMi_computerVision/venv/lib/python3.9/site-packages/inference/core/interfaces/stream/inference_pipeline.py\u001b\\\u001b[2minference_pipeline.py\u001b[0m\u001b]8;;\u001b\\\u001b[2m:\u001b[0m\u001b]8;id=927455;file:///Users/saadia/Documents/DevIA_2024/ShiFuMi_computerVision/venv/lib/python3.9/site-packages/inference/core/interfaces/stream/inference_pipeline.py#907\u001b\\\u001b[2m907\u001b[0m\u001b]8;;\u001b\\\n",
       "\u001b[2;36m                    \u001b[0m         \u001b[1;36m1\u001b[0m positional argument but \u001b[1;36m2\u001b[0m were given                       \u001b[2m                         \u001b[0m\n"
      ]
     },
     "metadata": {},
     "output_type": "display_data"
    },
    {
     "name": "stdout",
     "output_type": "stream",
     "text": [
      "0: 640x640 1 Scissors, 158.5ms\n",
      "Speed: 2.5ms preprocess, 158.5ms inference, 0.4ms postprocess per image at shape (1, 3, 640, 640)\n",
      "Video frames: 1\n",
      "\n"
     ]
    },
    {
     "data": {
      "text/html": [
       "<pre style=\"white-space:pre;overflow-x:auto;line-height:normal;font-family:Menlo,'DejaVu Sans Mono',consolas,'Courier New',monospace\"><span style=\"color: #7fbfbf; text-decoration-color: #7fbfbf\">                    </span><span style=\"color: #800000; text-decoration-color: #800000\">WARNING </span> Error in results dispatching - <span style=\"color: #800080; text-decoration-color: #800080; font-weight: bold\">render_boxes_on_frame</span><span style=\"font-weight: bold\">()</span> takes <a href=\"file:///Users/saadia/Documents/DevIA_2024/ShiFuMi_computerVision/venv/lib/python3.9/site-packages/inference/core/interfaces/stream/inference_pipeline.py\" target=\"_blank\"><span style=\"color: #7f7f7f; text-decoration-color: #7f7f7f\">inference_pipeline.py</span></a><span style=\"color: #7f7f7f; text-decoration-color: #7f7f7f\">:</span><a href=\"file:///Users/saadia/Documents/DevIA_2024/ShiFuMi_computerVision/venv/lib/python3.9/site-packages/inference/core/interfaces/stream/inference_pipeline.py#907\" target=\"_blank\"><span style=\"color: #7f7f7f; text-decoration-color: #7f7f7f\">907</span></a>\n",
       "<span style=\"color: #7fbfbf; text-decoration-color: #7fbfbf\">                    </span>         <span style=\"color: #008080; text-decoration-color: #008080; font-weight: bold\">1</span> positional argument but <span style=\"color: #008080; text-decoration-color: #008080; font-weight: bold\">2</span> were given                       <span style=\"color: #7f7f7f; text-decoration-color: #7f7f7f\">                         </span>\n",
       "</pre>\n"
      ],
      "text/plain": [
       "\u001b[2;36m                   \u001b[0m\u001b[2;36m \u001b[0m\u001b[31mWARNING \u001b[0m Error in results dispatching - \u001b[1;35mrender_boxes_on_frame\u001b[0m\u001b[1m(\u001b[0m\u001b[1m)\u001b[0m takes \u001b]8;id=233064;file:///Users/saadia/Documents/DevIA_2024/ShiFuMi_computerVision/venv/lib/python3.9/site-packages/inference/core/interfaces/stream/inference_pipeline.py\u001b\\\u001b[2minference_pipeline.py\u001b[0m\u001b]8;;\u001b\\\u001b[2m:\u001b[0m\u001b]8;id=427826;file:///Users/saadia/Documents/DevIA_2024/ShiFuMi_computerVision/venv/lib/python3.9/site-packages/inference/core/interfaces/stream/inference_pipeline.py#907\u001b\\\u001b[2m907\u001b[0m\u001b]8;;\u001b\\\n",
       "\u001b[2;36m                    \u001b[0m         \u001b[1;36m1\u001b[0m positional argument but \u001b[1;36m2\u001b[0m were given                       \u001b[2m                         \u001b[0m\n"
      ]
     },
     "metadata": {},
     "output_type": "display_data"
    },
    {
     "name": "stdout",
     "output_type": "stream",
     "text": [
      "0: 640x640 1 Rock, 1 Scissors, 162.3ms\n",
      "Speed: 2.4ms preprocess, 162.3ms inference, 0.4ms postprocess per image at shape (1, 3, 640, 640)\n",
      "Video frames: 1\n",
      "\n"
     ]
    },
    {
     "data": {
      "text/html": [
       "<pre style=\"white-space:pre;overflow-x:auto;line-height:normal;font-family:Menlo,'DejaVu Sans Mono',consolas,'Courier New',monospace\"><span style=\"color: #7fbfbf; text-decoration-color: #7fbfbf\">                    </span><span style=\"color: #800000; text-decoration-color: #800000\">WARNING </span> Error in results dispatching - <span style=\"color: #800080; text-decoration-color: #800080; font-weight: bold\">render_boxes_on_frame</span><span style=\"font-weight: bold\">()</span> takes <a href=\"file:///Users/saadia/Documents/DevIA_2024/ShiFuMi_computerVision/venv/lib/python3.9/site-packages/inference/core/interfaces/stream/inference_pipeline.py\" target=\"_blank\"><span style=\"color: #7f7f7f; text-decoration-color: #7f7f7f\">inference_pipeline.py</span></a><span style=\"color: #7f7f7f; text-decoration-color: #7f7f7f\">:</span><a href=\"file:///Users/saadia/Documents/DevIA_2024/ShiFuMi_computerVision/venv/lib/python3.9/site-packages/inference/core/interfaces/stream/inference_pipeline.py#907\" target=\"_blank\"><span style=\"color: #7f7f7f; text-decoration-color: #7f7f7f\">907</span></a>\n",
       "<span style=\"color: #7fbfbf; text-decoration-color: #7fbfbf\">                    </span>         <span style=\"color: #008080; text-decoration-color: #008080; font-weight: bold\">1</span> positional argument but <span style=\"color: #008080; text-decoration-color: #008080; font-weight: bold\">2</span> were given                       <span style=\"color: #7f7f7f; text-decoration-color: #7f7f7f\">                         </span>\n",
       "</pre>\n"
      ],
      "text/plain": [
       "\u001b[2;36m                   \u001b[0m\u001b[2;36m \u001b[0m\u001b[31mWARNING \u001b[0m Error in results dispatching - \u001b[1;35mrender_boxes_on_frame\u001b[0m\u001b[1m(\u001b[0m\u001b[1m)\u001b[0m takes \u001b]8;id=219270;file:///Users/saadia/Documents/DevIA_2024/ShiFuMi_computerVision/venv/lib/python3.9/site-packages/inference/core/interfaces/stream/inference_pipeline.py\u001b\\\u001b[2minference_pipeline.py\u001b[0m\u001b]8;;\u001b\\\u001b[2m:\u001b[0m\u001b]8;id=604414;file:///Users/saadia/Documents/DevIA_2024/ShiFuMi_computerVision/venv/lib/python3.9/site-packages/inference/core/interfaces/stream/inference_pipeline.py#907\u001b\\\u001b[2m907\u001b[0m\u001b]8;;\u001b\\\n",
       "\u001b[2;36m                    \u001b[0m         \u001b[1;36m1\u001b[0m positional argument but \u001b[1;36m2\u001b[0m were given                       \u001b[2m                         \u001b[0m\n"
      ]
     },
     "metadata": {},
     "output_type": "display_data"
    },
    {
     "name": "stdout",
     "output_type": "stream",
     "text": [
      "0: 640x640 1 Scissors, 164.8ms\n",
      "Speed: 2.4ms preprocess, 164.8ms inference, 0.4ms postprocess per image at shape (1, 3, 640, 640)\n",
      "Video frames: 1\n",
      "\n"
     ]
    },
    {
     "data": {
      "text/html": [
       "<pre style=\"white-space:pre;overflow-x:auto;line-height:normal;font-family:Menlo,'DejaVu Sans Mono',consolas,'Courier New',monospace\"><span style=\"color: #7fbfbf; text-decoration-color: #7fbfbf\">                    </span><span style=\"color: #800000; text-decoration-color: #800000\">WARNING </span> Error in results dispatching - <span style=\"color: #800080; text-decoration-color: #800080; font-weight: bold\">render_boxes_on_frame</span><span style=\"font-weight: bold\">()</span> takes <a href=\"file:///Users/saadia/Documents/DevIA_2024/ShiFuMi_computerVision/venv/lib/python3.9/site-packages/inference/core/interfaces/stream/inference_pipeline.py\" target=\"_blank\"><span style=\"color: #7f7f7f; text-decoration-color: #7f7f7f\">inference_pipeline.py</span></a><span style=\"color: #7f7f7f; text-decoration-color: #7f7f7f\">:</span><a href=\"file:///Users/saadia/Documents/DevIA_2024/ShiFuMi_computerVision/venv/lib/python3.9/site-packages/inference/core/interfaces/stream/inference_pipeline.py#907\" target=\"_blank\"><span style=\"color: #7f7f7f; text-decoration-color: #7f7f7f\">907</span></a>\n",
       "<span style=\"color: #7fbfbf; text-decoration-color: #7fbfbf\">                    </span>         <span style=\"color: #008080; text-decoration-color: #008080; font-weight: bold\">1</span> positional argument but <span style=\"color: #008080; text-decoration-color: #008080; font-weight: bold\">2</span> were given                       <span style=\"color: #7f7f7f; text-decoration-color: #7f7f7f\">                         </span>\n",
       "</pre>\n"
      ],
      "text/plain": [
       "\u001b[2;36m                   \u001b[0m\u001b[2;36m \u001b[0m\u001b[31mWARNING \u001b[0m Error in results dispatching - \u001b[1;35mrender_boxes_on_frame\u001b[0m\u001b[1m(\u001b[0m\u001b[1m)\u001b[0m takes \u001b]8;id=289926;file:///Users/saadia/Documents/DevIA_2024/ShiFuMi_computerVision/venv/lib/python3.9/site-packages/inference/core/interfaces/stream/inference_pipeline.py\u001b\\\u001b[2minference_pipeline.py\u001b[0m\u001b]8;;\u001b\\\u001b[2m:\u001b[0m\u001b]8;id=178477;file:///Users/saadia/Documents/DevIA_2024/ShiFuMi_computerVision/venv/lib/python3.9/site-packages/inference/core/interfaces/stream/inference_pipeline.py#907\u001b\\\u001b[2m907\u001b[0m\u001b]8;;\u001b\\\n",
       "\u001b[2;36m                    \u001b[0m         \u001b[1;36m1\u001b[0m positional argument but \u001b[1;36m2\u001b[0m were given                       \u001b[2m                         \u001b[0m\n"
      ]
     },
     "metadata": {},
     "output_type": "display_data"
    },
    {
     "name": "stdout",
     "output_type": "stream",
     "text": [
      "0: 640x640 1 Rock, 1 Scissors, 165.4ms\n",
      "Speed: 2.1ms preprocess, 165.4ms inference, 0.4ms postprocess per image at shape (1, 3, 640, 640)\n",
      "Video frames: 1\n",
      "\n"
     ]
    },
    {
     "data": {
      "text/html": [
       "<pre style=\"white-space:pre;overflow-x:auto;line-height:normal;font-family:Menlo,'DejaVu Sans Mono',consolas,'Courier New',monospace\"><span style=\"color: #7fbfbf; text-decoration-color: #7fbfbf\">                    </span><span style=\"color: #800000; text-decoration-color: #800000\">WARNING </span> Error in results dispatching - <span style=\"color: #800080; text-decoration-color: #800080; font-weight: bold\">render_boxes_on_frame</span><span style=\"font-weight: bold\">()</span> takes <a href=\"file:///Users/saadia/Documents/DevIA_2024/ShiFuMi_computerVision/venv/lib/python3.9/site-packages/inference/core/interfaces/stream/inference_pipeline.py\" target=\"_blank\"><span style=\"color: #7f7f7f; text-decoration-color: #7f7f7f\">inference_pipeline.py</span></a><span style=\"color: #7f7f7f; text-decoration-color: #7f7f7f\">:</span><a href=\"file:///Users/saadia/Documents/DevIA_2024/ShiFuMi_computerVision/venv/lib/python3.9/site-packages/inference/core/interfaces/stream/inference_pipeline.py#907\" target=\"_blank\"><span style=\"color: #7f7f7f; text-decoration-color: #7f7f7f\">907</span></a>\n",
       "<span style=\"color: #7fbfbf; text-decoration-color: #7fbfbf\">                    </span>         <span style=\"color: #008080; text-decoration-color: #008080; font-weight: bold\">1</span> positional argument but <span style=\"color: #008080; text-decoration-color: #008080; font-weight: bold\">2</span> were given                       <span style=\"color: #7f7f7f; text-decoration-color: #7f7f7f\">                         </span>\n",
       "</pre>\n"
      ],
      "text/plain": [
       "\u001b[2;36m                   \u001b[0m\u001b[2;36m \u001b[0m\u001b[31mWARNING \u001b[0m Error in results dispatching - \u001b[1;35mrender_boxes_on_frame\u001b[0m\u001b[1m(\u001b[0m\u001b[1m)\u001b[0m takes \u001b]8;id=559286;file:///Users/saadia/Documents/DevIA_2024/ShiFuMi_computerVision/venv/lib/python3.9/site-packages/inference/core/interfaces/stream/inference_pipeline.py\u001b\\\u001b[2minference_pipeline.py\u001b[0m\u001b]8;;\u001b\\\u001b[2m:\u001b[0m\u001b]8;id=481169;file:///Users/saadia/Documents/DevIA_2024/ShiFuMi_computerVision/venv/lib/python3.9/site-packages/inference/core/interfaces/stream/inference_pipeline.py#907\u001b\\\u001b[2m907\u001b[0m\u001b]8;;\u001b\\\n",
       "\u001b[2;36m                    \u001b[0m         \u001b[1;36m1\u001b[0m positional argument but \u001b[1;36m2\u001b[0m were given                       \u001b[2m                         \u001b[0m\n"
      ]
     },
     "metadata": {},
     "output_type": "display_data"
    },
    {
     "name": "stdout",
     "output_type": "stream",
     "text": [
      "0: 640x640 1 Scissors, 167.3ms\n",
      "Speed: 2.0ms preprocess, 167.3ms inference, 0.4ms postprocess per image at shape (1, 3, 640, 640)\n",
      "Video frames: 1\n",
      "\n"
     ]
    },
    {
     "data": {
      "text/html": [
       "<pre style=\"white-space:pre;overflow-x:auto;line-height:normal;font-family:Menlo,'DejaVu Sans Mono',consolas,'Courier New',monospace\"><span style=\"color: #7fbfbf; text-decoration-color: #7fbfbf\">                    </span><span style=\"color: #800000; text-decoration-color: #800000\">WARNING </span> Error in results dispatching - <span style=\"color: #800080; text-decoration-color: #800080; font-weight: bold\">render_boxes_on_frame</span><span style=\"font-weight: bold\">()</span> takes <a href=\"file:///Users/saadia/Documents/DevIA_2024/ShiFuMi_computerVision/venv/lib/python3.9/site-packages/inference/core/interfaces/stream/inference_pipeline.py\" target=\"_blank\"><span style=\"color: #7f7f7f; text-decoration-color: #7f7f7f\">inference_pipeline.py</span></a><span style=\"color: #7f7f7f; text-decoration-color: #7f7f7f\">:</span><a href=\"file:///Users/saadia/Documents/DevIA_2024/ShiFuMi_computerVision/venv/lib/python3.9/site-packages/inference/core/interfaces/stream/inference_pipeline.py#907\" target=\"_blank\"><span style=\"color: #7f7f7f; text-decoration-color: #7f7f7f\">907</span></a>\n",
       "<span style=\"color: #7fbfbf; text-decoration-color: #7fbfbf\">                    </span>         <span style=\"color: #008080; text-decoration-color: #008080; font-weight: bold\">1</span> positional argument but <span style=\"color: #008080; text-decoration-color: #008080; font-weight: bold\">2</span> were given                       <span style=\"color: #7f7f7f; text-decoration-color: #7f7f7f\">                         </span>\n",
       "</pre>\n"
      ],
      "text/plain": [
       "\u001b[2;36m                   \u001b[0m\u001b[2;36m \u001b[0m\u001b[31mWARNING \u001b[0m Error in results dispatching - \u001b[1;35mrender_boxes_on_frame\u001b[0m\u001b[1m(\u001b[0m\u001b[1m)\u001b[0m takes \u001b]8;id=473026;file:///Users/saadia/Documents/DevIA_2024/ShiFuMi_computerVision/venv/lib/python3.9/site-packages/inference/core/interfaces/stream/inference_pipeline.py\u001b\\\u001b[2minference_pipeline.py\u001b[0m\u001b]8;;\u001b\\\u001b[2m:\u001b[0m\u001b]8;id=14010;file:///Users/saadia/Documents/DevIA_2024/ShiFuMi_computerVision/venv/lib/python3.9/site-packages/inference/core/interfaces/stream/inference_pipeline.py#907\u001b\\\u001b[2m907\u001b[0m\u001b]8;;\u001b\\\n",
       "\u001b[2;36m                    \u001b[0m         \u001b[1;36m1\u001b[0m positional argument but \u001b[1;36m2\u001b[0m were given                       \u001b[2m                         \u001b[0m\n"
      ]
     },
     "metadata": {},
     "output_type": "display_data"
    },
    {
     "name": "stdout",
     "output_type": "stream",
     "text": [
      "0: 640x640 (no detections), 196.9ms\n",
      "Speed: 2.7ms preprocess, 196.9ms inference, 0.3ms postprocess per image at shape (1, 3, 640, 640)\n",
      "Video frames: 1\n",
      "\n"
     ]
    },
    {
     "data": {
      "text/html": [
       "<pre style=\"white-space:pre;overflow-x:auto;line-height:normal;font-family:Menlo,'DejaVu Sans Mono',consolas,'Courier New',monospace\"><span style=\"color: #7fbfbf; text-decoration-color: #7fbfbf\">[07/01/24 11:51:40] </span><span style=\"color: #800000; text-decoration-color: #800000\">WARNING </span> Error in results dispatching - <span style=\"color: #800080; text-decoration-color: #800080; font-weight: bold\">render_boxes_on_frame</span><span style=\"font-weight: bold\">()</span> takes <a href=\"file:///Users/saadia/Documents/DevIA_2024/ShiFuMi_computerVision/venv/lib/python3.9/site-packages/inference/core/interfaces/stream/inference_pipeline.py\" target=\"_blank\"><span style=\"color: #7f7f7f; text-decoration-color: #7f7f7f\">inference_pipeline.py</span></a><span style=\"color: #7f7f7f; text-decoration-color: #7f7f7f\">:</span><a href=\"file:///Users/saadia/Documents/DevIA_2024/ShiFuMi_computerVision/venv/lib/python3.9/site-packages/inference/core/interfaces/stream/inference_pipeline.py#907\" target=\"_blank\"><span style=\"color: #7f7f7f; text-decoration-color: #7f7f7f\">907</span></a>\n",
       "<span style=\"color: #7fbfbf; text-decoration-color: #7fbfbf\">                    </span>         <span style=\"color: #008080; text-decoration-color: #008080; font-weight: bold\">1</span> positional argument but <span style=\"color: #008080; text-decoration-color: #008080; font-weight: bold\">2</span> were given                       <span style=\"color: #7f7f7f; text-decoration-color: #7f7f7f\">                         </span>\n",
       "</pre>\n"
      ],
      "text/plain": [
       "\u001b[2;36m[07/01/24 11:51:40]\u001b[0m\u001b[2;36m \u001b[0m\u001b[31mWARNING \u001b[0m Error in results dispatching - \u001b[1;35mrender_boxes_on_frame\u001b[0m\u001b[1m(\u001b[0m\u001b[1m)\u001b[0m takes \u001b]8;id=294884;file:///Users/saadia/Documents/DevIA_2024/ShiFuMi_computerVision/venv/lib/python3.9/site-packages/inference/core/interfaces/stream/inference_pipeline.py\u001b\\\u001b[2minference_pipeline.py\u001b[0m\u001b]8;;\u001b\\\u001b[2m:\u001b[0m\u001b]8;id=153932;file:///Users/saadia/Documents/DevIA_2024/ShiFuMi_computerVision/venv/lib/python3.9/site-packages/inference/core/interfaces/stream/inference_pipeline.py#907\u001b\\\u001b[2m907\u001b[0m\u001b]8;;\u001b\\\n",
       "\u001b[2;36m                    \u001b[0m         \u001b[1;36m1\u001b[0m positional argument but \u001b[1;36m2\u001b[0m were given                       \u001b[2m                         \u001b[0m\n"
      ]
     },
     "metadata": {},
     "output_type": "display_data"
    },
    {
     "name": "stdout",
     "output_type": "stream",
     "text": [
      "0: 640x640 (no detections), 182.9ms\n",
      "Speed: 2.0ms preprocess, 182.9ms inference, 0.2ms postprocess per image at shape (1, 3, 640, 640)\n",
      "Video frames: 1\n",
      "\n"
     ]
    },
    {
     "data": {
      "text/html": [
       "<pre style=\"white-space:pre;overflow-x:auto;line-height:normal;font-family:Menlo,'DejaVu Sans Mono',consolas,'Courier New',monospace\"><span style=\"color: #7fbfbf; text-decoration-color: #7fbfbf\">                    </span><span style=\"color: #800000; text-decoration-color: #800000\">WARNING </span> Error in results dispatching - <span style=\"color: #800080; text-decoration-color: #800080; font-weight: bold\">render_boxes_on_frame</span><span style=\"font-weight: bold\">()</span> takes <a href=\"file:///Users/saadia/Documents/DevIA_2024/ShiFuMi_computerVision/venv/lib/python3.9/site-packages/inference/core/interfaces/stream/inference_pipeline.py\" target=\"_blank\"><span style=\"color: #7f7f7f; text-decoration-color: #7f7f7f\">inference_pipeline.py</span></a><span style=\"color: #7f7f7f; text-decoration-color: #7f7f7f\">:</span><a href=\"file:///Users/saadia/Documents/DevIA_2024/ShiFuMi_computerVision/venv/lib/python3.9/site-packages/inference/core/interfaces/stream/inference_pipeline.py#907\" target=\"_blank\"><span style=\"color: #7f7f7f; text-decoration-color: #7f7f7f\">907</span></a>\n",
       "<span style=\"color: #7fbfbf; text-decoration-color: #7fbfbf\">                    </span>         <span style=\"color: #008080; text-decoration-color: #008080; font-weight: bold\">1</span> positional argument but <span style=\"color: #008080; text-decoration-color: #008080; font-weight: bold\">2</span> were given                       <span style=\"color: #7f7f7f; text-decoration-color: #7f7f7f\">                         </span>\n",
       "</pre>\n"
      ],
      "text/plain": [
       "\u001b[2;36m                   \u001b[0m\u001b[2;36m \u001b[0m\u001b[31mWARNING \u001b[0m Error in results dispatching - \u001b[1;35mrender_boxes_on_frame\u001b[0m\u001b[1m(\u001b[0m\u001b[1m)\u001b[0m takes \u001b]8;id=416752;file:///Users/saadia/Documents/DevIA_2024/ShiFuMi_computerVision/venv/lib/python3.9/site-packages/inference/core/interfaces/stream/inference_pipeline.py\u001b\\\u001b[2minference_pipeline.py\u001b[0m\u001b]8;;\u001b\\\u001b[2m:\u001b[0m\u001b]8;id=582431;file:///Users/saadia/Documents/DevIA_2024/ShiFuMi_computerVision/venv/lib/python3.9/site-packages/inference/core/interfaces/stream/inference_pipeline.py#907\u001b\\\u001b[2m907\u001b[0m\u001b]8;;\u001b\\\n",
       "\u001b[2;36m                    \u001b[0m         \u001b[1;36m1\u001b[0m positional argument but \u001b[1;36m2\u001b[0m were given                       \u001b[2m                         \u001b[0m\n"
      ]
     },
     "metadata": {},
     "output_type": "display_data"
    },
    {
     "name": "stdout",
     "output_type": "stream",
     "text": [
      "0: 640x640 1 Rock, 151.6ms\n",
      "Speed: 2.1ms preprocess, 151.6ms inference, 0.7ms postprocess per image at shape (1, 3, 640, 640)\n",
      "Video frames: 1\n",
      "\n"
     ]
    },
    {
     "data": {
      "text/html": [
       "<pre style=\"white-space:pre;overflow-x:auto;line-height:normal;font-family:Menlo,'DejaVu Sans Mono',consolas,'Courier New',monospace\"><span style=\"color: #7fbfbf; text-decoration-color: #7fbfbf\">                    </span><span style=\"color: #800000; text-decoration-color: #800000\">WARNING </span> Error in results dispatching - <span style=\"color: #800080; text-decoration-color: #800080; font-weight: bold\">render_boxes_on_frame</span><span style=\"font-weight: bold\">()</span> takes <a href=\"file:///Users/saadia/Documents/DevIA_2024/ShiFuMi_computerVision/venv/lib/python3.9/site-packages/inference/core/interfaces/stream/inference_pipeline.py\" target=\"_blank\"><span style=\"color: #7f7f7f; text-decoration-color: #7f7f7f\">inference_pipeline.py</span></a><span style=\"color: #7f7f7f; text-decoration-color: #7f7f7f\">:</span><a href=\"file:///Users/saadia/Documents/DevIA_2024/ShiFuMi_computerVision/venv/lib/python3.9/site-packages/inference/core/interfaces/stream/inference_pipeline.py#907\" target=\"_blank\"><span style=\"color: #7f7f7f; text-decoration-color: #7f7f7f\">907</span></a>\n",
       "<span style=\"color: #7fbfbf; text-decoration-color: #7fbfbf\">                    </span>         <span style=\"color: #008080; text-decoration-color: #008080; font-weight: bold\">1</span> positional argument but <span style=\"color: #008080; text-decoration-color: #008080; font-weight: bold\">2</span> were given                       <span style=\"color: #7f7f7f; text-decoration-color: #7f7f7f\">                         </span>\n",
       "</pre>\n"
      ],
      "text/plain": [
       "\u001b[2;36m                   \u001b[0m\u001b[2;36m \u001b[0m\u001b[31mWARNING \u001b[0m Error in results dispatching - \u001b[1;35mrender_boxes_on_frame\u001b[0m\u001b[1m(\u001b[0m\u001b[1m)\u001b[0m takes \u001b]8;id=312541;file:///Users/saadia/Documents/DevIA_2024/ShiFuMi_computerVision/venv/lib/python3.9/site-packages/inference/core/interfaces/stream/inference_pipeline.py\u001b\\\u001b[2minference_pipeline.py\u001b[0m\u001b]8;;\u001b\\\u001b[2m:\u001b[0m\u001b]8;id=79785;file:///Users/saadia/Documents/DevIA_2024/ShiFuMi_computerVision/venv/lib/python3.9/site-packages/inference/core/interfaces/stream/inference_pipeline.py#907\u001b\\\u001b[2m907\u001b[0m\u001b]8;;\u001b\\\n",
       "\u001b[2;36m                    \u001b[0m         \u001b[1;36m1\u001b[0m positional argument but \u001b[1;36m2\u001b[0m were given                       \u001b[2m                         \u001b[0m\n"
      ]
     },
     "metadata": {},
     "output_type": "display_data"
    },
    {
     "name": "stdout",
     "output_type": "stream",
     "text": [
      "0: 640x640 (no detections), 167.1ms\n",
      "Speed: 3.0ms preprocess, 167.1ms inference, 0.2ms postprocess per image at shape (1, 3, 640, 640)\n",
      "Video frames: 1\n",
      "\n"
     ]
    },
    {
     "data": {
      "text/html": [
       "<pre style=\"white-space:pre;overflow-x:auto;line-height:normal;font-family:Menlo,'DejaVu Sans Mono',consolas,'Courier New',monospace\"><span style=\"color: #7fbfbf; text-decoration-color: #7fbfbf\">                    </span><span style=\"color: #800000; text-decoration-color: #800000\">WARNING </span> Error in results dispatching - <span style=\"color: #800080; text-decoration-color: #800080; font-weight: bold\">render_boxes_on_frame</span><span style=\"font-weight: bold\">()</span> takes <a href=\"file:///Users/saadia/Documents/DevIA_2024/ShiFuMi_computerVision/venv/lib/python3.9/site-packages/inference/core/interfaces/stream/inference_pipeline.py\" target=\"_blank\"><span style=\"color: #7f7f7f; text-decoration-color: #7f7f7f\">inference_pipeline.py</span></a><span style=\"color: #7f7f7f; text-decoration-color: #7f7f7f\">:</span><a href=\"file:///Users/saadia/Documents/DevIA_2024/ShiFuMi_computerVision/venv/lib/python3.9/site-packages/inference/core/interfaces/stream/inference_pipeline.py#907\" target=\"_blank\"><span style=\"color: #7f7f7f; text-decoration-color: #7f7f7f\">907</span></a>\n",
       "<span style=\"color: #7fbfbf; text-decoration-color: #7fbfbf\">                    </span>         <span style=\"color: #008080; text-decoration-color: #008080; font-weight: bold\">1</span> positional argument but <span style=\"color: #008080; text-decoration-color: #008080; font-weight: bold\">2</span> were given                       <span style=\"color: #7f7f7f; text-decoration-color: #7f7f7f\">                         </span>\n",
       "</pre>\n"
      ],
      "text/plain": [
       "\u001b[2;36m                   \u001b[0m\u001b[2;36m \u001b[0m\u001b[31mWARNING \u001b[0m Error in results dispatching - \u001b[1;35mrender_boxes_on_frame\u001b[0m\u001b[1m(\u001b[0m\u001b[1m)\u001b[0m takes \u001b]8;id=92054;file:///Users/saadia/Documents/DevIA_2024/ShiFuMi_computerVision/venv/lib/python3.9/site-packages/inference/core/interfaces/stream/inference_pipeline.py\u001b\\\u001b[2minference_pipeline.py\u001b[0m\u001b]8;;\u001b\\\u001b[2m:\u001b[0m\u001b]8;id=558465;file:///Users/saadia/Documents/DevIA_2024/ShiFuMi_computerVision/venv/lib/python3.9/site-packages/inference/core/interfaces/stream/inference_pipeline.py#907\u001b\\\u001b[2m907\u001b[0m\u001b]8;;\u001b\\\n",
       "\u001b[2;36m                    \u001b[0m         \u001b[1;36m1\u001b[0m positional argument but \u001b[1;36m2\u001b[0m were given                       \u001b[2m                         \u001b[0m\n"
      ]
     },
     "metadata": {},
     "output_type": "display_data"
    },
    {
     "name": "stdout",
     "output_type": "stream",
     "text": [
      "0: 640x640 (no detections), 156.5ms\n",
      "Speed: 2.3ms preprocess, 156.5ms inference, 0.3ms postprocess per image at shape (1, 3, 640, 640)\n",
      "Video frames: 1\n",
      "\n"
     ]
    },
    {
     "data": {
      "text/html": [
       "<pre style=\"white-space:pre;overflow-x:auto;line-height:normal;font-family:Menlo,'DejaVu Sans Mono',consolas,'Courier New',monospace\"><span style=\"color: #7fbfbf; text-decoration-color: #7fbfbf\">                    </span><span style=\"color: #800000; text-decoration-color: #800000\">WARNING </span> Error in results dispatching - <span style=\"color: #800080; text-decoration-color: #800080; font-weight: bold\">render_boxes_on_frame</span><span style=\"font-weight: bold\">()</span> takes <a href=\"file:///Users/saadia/Documents/DevIA_2024/ShiFuMi_computerVision/venv/lib/python3.9/site-packages/inference/core/interfaces/stream/inference_pipeline.py\" target=\"_blank\"><span style=\"color: #7f7f7f; text-decoration-color: #7f7f7f\">inference_pipeline.py</span></a><span style=\"color: #7f7f7f; text-decoration-color: #7f7f7f\">:</span><a href=\"file:///Users/saadia/Documents/DevIA_2024/ShiFuMi_computerVision/venv/lib/python3.9/site-packages/inference/core/interfaces/stream/inference_pipeline.py#907\" target=\"_blank\"><span style=\"color: #7f7f7f; text-decoration-color: #7f7f7f\">907</span></a>\n",
       "<span style=\"color: #7fbfbf; text-decoration-color: #7fbfbf\">                    </span>         <span style=\"color: #008080; text-decoration-color: #008080; font-weight: bold\">1</span> positional argument but <span style=\"color: #008080; text-decoration-color: #008080; font-weight: bold\">2</span> were given                       <span style=\"color: #7f7f7f; text-decoration-color: #7f7f7f\">                         </span>\n",
       "</pre>\n"
      ],
      "text/plain": [
       "\u001b[2;36m                   \u001b[0m\u001b[2;36m \u001b[0m\u001b[31mWARNING \u001b[0m Error in results dispatching - \u001b[1;35mrender_boxes_on_frame\u001b[0m\u001b[1m(\u001b[0m\u001b[1m)\u001b[0m takes \u001b]8;id=281420;file:///Users/saadia/Documents/DevIA_2024/ShiFuMi_computerVision/venv/lib/python3.9/site-packages/inference/core/interfaces/stream/inference_pipeline.py\u001b\\\u001b[2minference_pipeline.py\u001b[0m\u001b]8;;\u001b\\\u001b[2m:\u001b[0m\u001b]8;id=721346;file:///Users/saadia/Documents/DevIA_2024/ShiFuMi_computerVision/venv/lib/python3.9/site-packages/inference/core/interfaces/stream/inference_pipeline.py#907\u001b\\\u001b[2m907\u001b[0m\u001b]8;;\u001b\\\n",
       "\u001b[2;36m                    \u001b[0m         \u001b[1;36m1\u001b[0m positional argument but \u001b[1;36m2\u001b[0m were given                       \u001b[2m                         \u001b[0m\n"
      ]
     },
     "metadata": {},
     "output_type": "display_data"
    },
    {
     "name": "stdout",
     "output_type": "stream",
     "text": [
      "0: 640x640 (no detections), 152.5ms\n",
      "Speed: 2.1ms preprocess, 152.5ms inference, 0.4ms postprocess per image at shape (1, 3, 640, 640)\n",
      "Video frames: 1\n",
      "\n"
     ]
    },
    {
     "data": {
      "text/html": [
       "<pre style=\"white-space:pre;overflow-x:auto;line-height:normal;font-family:Menlo,'DejaVu Sans Mono',consolas,'Courier New',monospace\"><span style=\"color: #7fbfbf; text-decoration-color: #7fbfbf\">[07/01/24 11:51:41] </span><span style=\"color: #800000; text-decoration-color: #800000\">WARNING </span> Error in results dispatching - <span style=\"color: #800080; text-decoration-color: #800080; font-weight: bold\">render_boxes_on_frame</span><span style=\"font-weight: bold\">()</span> takes <a href=\"file:///Users/saadia/Documents/DevIA_2024/ShiFuMi_computerVision/venv/lib/python3.9/site-packages/inference/core/interfaces/stream/inference_pipeline.py\" target=\"_blank\"><span style=\"color: #7f7f7f; text-decoration-color: #7f7f7f\">inference_pipeline.py</span></a><span style=\"color: #7f7f7f; text-decoration-color: #7f7f7f\">:</span><a href=\"file:///Users/saadia/Documents/DevIA_2024/ShiFuMi_computerVision/venv/lib/python3.9/site-packages/inference/core/interfaces/stream/inference_pipeline.py#907\" target=\"_blank\"><span style=\"color: #7f7f7f; text-decoration-color: #7f7f7f\">907</span></a>\n",
       "<span style=\"color: #7fbfbf; text-decoration-color: #7fbfbf\">                    </span>         <span style=\"color: #008080; text-decoration-color: #008080; font-weight: bold\">1</span> positional argument but <span style=\"color: #008080; text-decoration-color: #008080; font-weight: bold\">2</span> were given                       <span style=\"color: #7f7f7f; text-decoration-color: #7f7f7f\">                         </span>\n",
       "</pre>\n"
      ],
      "text/plain": [
       "\u001b[2;36m[07/01/24 11:51:41]\u001b[0m\u001b[2;36m \u001b[0m\u001b[31mWARNING \u001b[0m Error in results dispatching - \u001b[1;35mrender_boxes_on_frame\u001b[0m\u001b[1m(\u001b[0m\u001b[1m)\u001b[0m takes \u001b]8;id=537094;file:///Users/saadia/Documents/DevIA_2024/ShiFuMi_computerVision/venv/lib/python3.9/site-packages/inference/core/interfaces/stream/inference_pipeline.py\u001b\\\u001b[2minference_pipeline.py\u001b[0m\u001b]8;;\u001b\\\u001b[2m:\u001b[0m\u001b]8;id=560335;file:///Users/saadia/Documents/DevIA_2024/ShiFuMi_computerVision/venv/lib/python3.9/site-packages/inference/core/interfaces/stream/inference_pipeline.py#907\u001b\\\u001b[2m907\u001b[0m\u001b]8;;\u001b\\\n",
       "\u001b[2;36m                    \u001b[0m         \u001b[1;36m1\u001b[0m positional argument but \u001b[1;36m2\u001b[0m were given                       \u001b[2m                         \u001b[0m\n"
      ]
     },
     "metadata": {},
     "output_type": "display_data"
    },
    {
     "name": "stdout",
     "output_type": "stream",
     "text": [
      "0: 640x640 (no detections), 152.7ms\n",
      "Speed: 2.4ms preprocess, 152.7ms inference, 0.3ms postprocess per image at shape (1, 3, 640, 640)\n",
      "Video frames: 1\n",
      "\n"
     ]
    },
    {
     "data": {
      "text/html": [
       "<pre style=\"white-space:pre;overflow-x:auto;line-height:normal;font-family:Menlo,'DejaVu Sans Mono',consolas,'Courier New',monospace\"><span style=\"color: #7fbfbf; text-decoration-color: #7fbfbf\">                    </span><span style=\"color: #800000; text-decoration-color: #800000\">WARNING </span> Error in results dispatching - <span style=\"color: #800080; text-decoration-color: #800080; font-weight: bold\">render_boxes_on_frame</span><span style=\"font-weight: bold\">()</span> takes <a href=\"file:///Users/saadia/Documents/DevIA_2024/ShiFuMi_computerVision/venv/lib/python3.9/site-packages/inference/core/interfaces/stream/inference_pipeline.py\" target=\"_blank\"><span style=\"color: #7f7f7f; text-decoration-color: #7f7f7f\">inference_pipeline.py</span></a><span style=\"color: #7f7f7f; text-decoration-color: #7f7f7f\">:</span><a href=\"file:///Users/saadia/Documents/DevIA_2024/ShiFuMi_computerVision/venv/lib/python3.9/site-packages/inference/core/interfaces/stream/inference_pipeline.py#907\" target=\"_blank\"><span style=\"color: #7f7f7f; text-decoration-color: #7f7f7f\">907</span></a>\n",
       "<span style=\"color: #7fbfbf; text-decoration-color: #7fbfbf\">                    </span>         <span style=\"color: #008080; text-decoration-color: #008080; font-weight: bold\">1</span> positional argument but <span style=\"color: #008080; text-decoration-color: #008080; font-weight: bold\">2</span> were given                       <span style=\"color: #7f7f7f; text-decoration-color: #7f7f7f\">                         </span>\n",
       "</pre>\n"
      ],
      "text/plain": [
       "\u001b[2;36m                   \u001b[0m\u001b[2;36m \u001b[0m\u001b[31mWARNING \u001b[0m Error in results dispatching - \u001b[1;35mrender_boxes_on_frame\u001b[0m\u001b[1m(\u001b[0m\u001b[1m)\u001b[0m takes \u001b]8;id=529828;file:///Users/saadia/Documents/DevIA_2024/ShiFuMi_computerVision/venv/lib/python3.9/site-packages/inference/core/interfaces/stream/inference_pipeline.py\u001b\\\u001b[2minference_pipeline.py\u001b[0m\u001b]8;;\u001b\\\u001b[2m:\u001b[0m\u001b]8;id=567512;file:///Users/saadia/Documents/DevIA_2024/ShiFuMi_computerVision/venv/lib/python3.9/site-packages/inference/core/interfaces/stream/inference_pipeline.py#907\u001b\\\u001b[2m907\u001b[0m\u001b]8;;\u001b\\\n",
       "\u001b[2;36m                    \u001b[0m         \u001b[1;36m1\u001b[0m positional argument but \u001b[1;36m2\u001b[0m were given                       \u001b[2m                         \u001b[0m\n"
      ]
     },
     "metadata": {},
     "output_type": "display_data"
    },
    {
     "name": "stdout",
     "output_type": "stream",
     "text": [
      "0: 640x640 1 Rock, 182.5ms\n",
      "Speed: 1.8ms preprocess, 182.5ms inference, 0.6ms postprocess per image at shape (1, 3, 640, 640)\n",
      "Video frames: 1\n",
      "\n"
     ]
    },
    {
     "data": {
      "text/html": [
       "<pre style=\"white-space:pre;overflow-x:auto;line-height:normal;font-family:Menlo,'DejaVu Sans Mono',consolas,'Courier New',monospace\"><span style=\"color: #7fbfbf; text-decoration-color: #7fbfbf\">                    </span><span style=\"color: #800000; text-decoration-color: #800000\">WARNING </span> Error in results dispatching - <span style=\"color: #800080; text-decoration-color: #800080; font-weight: bold\">render_boxes_on_frame</span><span style=\"font-weight: bold\">()</span> takes <a href=\"file:///Users/saadia/Documents/DevIA_2024/ShiFuMi_computerVision/venv/lib/python3.9/site-packages/inference/core/interfaces/stream/inference_pipeline.py\" target=\"_blank\"><span style=\"color: #7f7f7f; text-decoration-color: #7f7f7f\">inference_pipeline.py</span></a><span style=\"color: #7f7f7f; text-decoration-color: #7f7f7f\">:</span><a href=\"file:///Users/saadia/Documents/DevIA_2024/ShiFuMi_computerVision/venv/lib/python3.9/site-packages/inference/core/interfaces/stream/inference_pipeline.py#907\" target=\"_blank\"><span style=\"color: #7f7f7f; text-decoration-color: #7f7f7f\">907</span></a>\n",
       "<span style=\"color: #7fbfbf; text-decoration-color: #7fbfbf\">                    </span>         <span style=\"color: #008080; text-decoration-color: #008080; font-weight: bold\">1</span> positional argument but <span style=\"color: #008080; text-decoration-color: #008080; font-weight: bold\">2</span> were given                       <span style=\"color: #7f7f7f; text-decoration-color: #7f7f7f\">                         </span>\n",
       "</pre>\n"
      ],
      "text/plain": [
       "\u001b[2;36m                   \u001b[0m\u001b[2;36m \u001b[0m\u001b[31mWARNING \u001b[0m Error in results dispatching - \u001b[1;35mrender_boxes_on_frame\u001b[0m\u001b[1m(\u001b[0m\u001b[1m)\u001b[0m takes \u001b]8;id=903827;file:///Users/saadia/Documents/DevIA_2024/ShiFuMi_computerVision/venv/lib/python3.9/site-packages/inference/core/interfaces/stream/inference_pipeline.py\u001b\\\u001b[2minference_pipeline.py\u001b[0m\u001b]8;;\u001b\\\u001b[2m:\u001b[0m\u001b]8;id=939132;file:///Users/saadia/Documents/DevIA_2024/ShiFuMi_computerVision/venv/lib/python3.9/site-packages/inference/core/interfaces/stream/inference_pipeline.py#907\u001b\\\u001b[2m907\u001b[0m\u001b]8;;\u001b\\\n",
       "\u001b[2;36m                    \u001b[0m         \u001b[1;36m1\u001b[0m positional argument but \u001b[1;36m2\u001b[0m were given                       \u001b[2m                         \u001b[0m\n"
      ]
     },
     "metadata": {},
     "output_type": "display_data"
    },
    {
     "name": "stdout",
     "output_type": "stream",
     "text": [
      "0: 640x640 1 Rock, 162.5ms\n",
      "Speed: 2.4ms preprocess, 162.5ms inference, 0.4ms postprocess per image at shape (1, 3, 640, 640)\n",
      "Video frames: 1\n",
      "\n"
     ]
    },
    {
     "data": {
      "text/html": [
       "<pre style=\"white-space:pre;overflow-x:auto;line-height:normal;font-family:Menlo,'DejaVu Sans Mono',consolas,'Courier New',monospace\"><span style=\"color: #7fbfbf; text-decoration-color: #7fbfbf\">                    </span><span style=\"color: #800000; text-decoration-color: #800000\">WARNING </span> Error in results dispatching - <span style=\"color: #800080; text-decoration-color: #800080; font-weight: bold\">render_boxes_on_frame</span><span style=\"font-weight: bold\">()</span> takes <a href=\"file:///Users/saadia/Documents/DevIA_2024/ShiFuMi_computerVision/venv/lib/python3.9/site-packages/inference/core/interfaces/stream/inference_pipeline.py\" target=\"_blank\"><span style=\"color: #7f7f7f; text-decoration-color: #7f7f7f\">inference_pipeline.py</span></a><span style=\"color: #7f7f7f; text-decoration-color: #7f7f7f\">:</span><a href=\"file:///Users/saadia/Documents/DevIA_2024/ShiFuMi_computerVision/venv/lib/python3.9/site-packages/inference/core/interfaces/stream/inference_pipeline.py#907\" target=\"_blank\"><span style=\"color: #7f7f7f; text-decoration-color: #7f7f7f\">907</span></a>\n",
       "<span style=\"color: #7fbfbf; text-decoration-color: #7fbfbf\">                    </span>         <span style=\"color: #008080; text-decoration-color: #008080; font-weight: bold\">1</span> positional argument but <span style=\"color: #008080; text-decoration-color: #008080; font-weight: bold\">2</span> were given                       <span style=\"color: #7f7f7f; text-decoration-color: #7f7f7f\">                         </span>\n",
       "</pre>\n"
      ],
      "text/plain": [
       "\u001b[2;36m                   \u001b[0m\u001b[2;36m \u001b[0m\u001b[31mWARNING \u001b[0m Error in results dispatching - \u001b[1;35mrender_boxes_on_frame\u001b[0m\u001b[1m(\u001b[0m\u001b[1m)\u001b[0m takes \u001b]8;id=851036;file:///Users/saadia/Documents/DevIA_2024/ShiFuMi_computerVision/venv/lib/python3.9/site-packages/inference/core/interfaces/stream/inference_pipeline.py\u001b\\\u001b[2minference_pipeline.py\u001b[0m\u001b]8;;\u001b\\\u001b[2m:\u001b[0m\u001b]8;id=394368;file:///Users/saadia/Documents/DevIA_2024/ShiFuMi_computerVision/venv/lib/python3.9/site-packages/inference/core/interfaces/stream/inference_pipeline.py#907\u001b\\\u001b[2m907\u001b[0m\u001b]8;;\u001b\\\n",
       "\u001b[2;36m                    \u001b[0m         \u001b[1;36m1\u001b[0m positional argument but \u001b[1;36m2\u001b[0m were given                       \u001b[2m                         \u001b[0m\n"
      ]
     },
     "metadata": {},
     "output_type": "display_data"
    },
    {
     "name": "stdout",
     "output_type": "stream",
     "text": [
      "0: 640x640 1 Rock, 166.8ms\n",
      "Speed: 2.1ms preprocess, 166.8ms inference, 0.4ms postprocess per image at shape (1, 3, 640, 640)\n",
      "Video frames: 1\n",
      "\n"
     ]
    },
    {
     "data": {
      "text/html": [
       "<pre style=\"white-space:pre;overflow-x:auto;line-height:normal;font-family:Menlo,'DejaVu Sans Mono',consolas,'Courier New',monospace\"><span style=\"color: #7fbfbf; text-decoration-color: #7fbfbf\">                    </span><span style=\"color: #800000; text-decoration-color: #800000\">WARNING </span> Error in results dispatching - <span style=\"color: #800080; text-decoration-color: #800080; font-weight: bold\">render_boxes_on_frame</span><span style=\"font-weight: bold\">()</span> takes <a href=\"file:///Users/saadia/Documents/DevIA_2024/ShiFuMi_computerVision/venv/lib/python3.9/site-packages/inference/core/interfaces/stream/inference_pipeline.py\" target=\"_blank\"><span style=\"color: #7f7f7f; text-decoration-color: #7f7f7f\">inference_pipeline.py</span></a><span style=\"color: #7f7f7f; text-decoration-color: #7f7f7f\">:</span><a href=\"file:///Users/saadia/Documents/DevIA_2024/ShiFuMi_computerVision/venv/lib/python3.9/site-packages/inference/core/interfaces/stream/inference_pipeline.py#907\" target=\"_blank\"><span style=\"color: #7f7f7f; text-decoration-color: #7f7f7f\">907</span></a>\n",
       "<span style=\"color: #7fbfbf; text-decoration-color: #7fbfbf\">                    </span>         <span style=\"color: #008080; text-decoration-color: #008080; font-weight: bold\">1</span> positional argument but <span style=\"color: #008080; text-decoration-color: #008080; font-weight: bold\">2</span> were given                       <span style=\"color: #7f7f7f; text-decoration-color: #7f7f7f\">                         </span>\n",
       "</pre>\n"
      ],
      "text/plain": [
       "\u001b[2;36m                   \u001b[0m\u001b[2;36m \u001b[0m\u001b[31mWARNING \u001b[0m Error in results dispatching - \u001b[1;35mrender_boxes_on_frame\u001b[0m\u001b[1m(\u001b[0m\u001b[1m)\u001b[0m takes \u001b]8;id=736493;file:///Users/saadia/Documents/DevIA_2024/ShiFuMi_computerVision/venv/lib/python3.9/site-packages/inference/core/interfaces/stream/inference_pipeline.py\u001b\\\u001b[2minference_pipeline.py\u001b[0m\u001b]8;;\u001b\\\u001b[2m:\u001b[0m\u001b]8;id=159749;file:///Users/saadia/Documents/DevIA_2024/ShiFuMi_computerVision/venv/lib/python3.9/site-packages/inference/core/interfaces/stream/inference_pipeline.py#907\u001b\\\u001b[2m907\u001b[0m\u001b]8;;\u001b\\\n",
       "\u001b[2;36m                    \u001b[0m         \u001b[1;36m1\u001b[0m positional argument but \u001b[1;36m2\u001b[0m were given                       \u001b[2m                         \u001b[0m\n"
      ]
     },
     "metadata": {},
     "output_type": "display_data"
    },
    {
     "name": "stdout",
     "output_type": "stream",
     "text": [
      "0: 640x640 1 Rock, 173.7ms\n",
      "Speed: 2.6ms preprocess, 173.7ms inference, 0.6ms postprocess per image at shape (1, 3, 640, 640)\n",
      "Video frames: 1\n",
      "\n"
     ]
    },
    {
     "data": {
      "text/html": [
       "<pre style=\"white-space:pre;overflow-x:auto;line-height:normal;font-family:Menlo,'DejaVu Sans Mono',consolas,'Courier New',monospace\"><span style=\"color: #7fbfbf; text-decoration-color: #7fbfbf\">                    </span><span style=\"color: #800000; text-decoration-color: #800000\">WARNING </span> Error in results dispatching - <span style=\"color: #800080; text-decoration-color: #800080; font-weight: bold\">render_boxes_on_frame</span><span style=\"font-weight: bold\">()</span> takes <a href=\"file:///Users/saadia/Documents/DevIA_2024/ShiFuMi_computerVision/venv/lib/python3.9/site-packages/inference/core/interfaces/stream/inference_pipeline.py\" target=\"_blank\"><span style=\"color: #7f7f7f; text-decoration-color: #7f7f7f\">inference_pipeline.py</span></a><span style=\"color: #7f7f7f; text-decoration-color: #7f7f7f\">:</span><a href=\"file:///Users/saadia/Documents/DevIA_2024/ShiFuMi_computerVision/venv/lib/python3.9/site-packages/inference/core/interfaces/stream/inference_pipeline.py#907\" target=\"_blank\"><span style=\"color: #7f7f7f; text-decoration-color: #7f7f7f\">907</span></a>\n",
       "<span style=\"color: #7fbfbf; text-decoration-color: #7fbfbf\">                    </span>         <span style=\"color: #008080; text-decoration-color: #008080; font-weight: bold\">1</span> positional argument but <span style=\"color: #008080; text-decoration-color: #008080; font-weight: bold\">2</span> were given                       <span style=\"color: #7f7f7f; text-decoration-color: #7f7f7f\">                         </span>\n",
       "</pre>\n"
      ],
      "text/plain": [
       "\u001b[2;36m                   \u001b[0m\u001b[2;36m \u001b[0m\u001b[31mWARNING \u001b[0m Error in results dispatching - \u001b[1;35mrender_boxes_on_frame\u001b[0m\u001b[1m(\u001b[0m\u001b[1m)\u001b[0m takes \u001b]8;id=739178;file:///Users/saadia/Documents/DevIA_2024/ShiFuMi_computerVision/venv/lib/python3.9/site-packages/inference/core/interfaces/stream/inference_pipeline.py\u001b\\\u001b[2minference_pipeline.py\u001b[0m\u001b]8;;\u001b\\\u001b[2m:\u001b[0m\u001b]8;id=489556;file:///Users/saadia/Documents/DevIA_2024/ShiFuMi_computerVision/venv/lib/python3.9/site-packages/inference/core/interfaces/stream/inference_pipeline.py#907\u001b\\\u001b[2m907\u001b[0m\u001b]8;;\u001b\\\n",
       "\u001b[2;36m                    \u001b[0m         \u001b[1;36m1\u001b[0m positional argument but \u001b[1;36m2\u001b[0m were given                       \u001b[2m                         \u001b[0m\n"
      ]
     },
     "metadata": {},
     "output_type": "display_data"
    },
    {
     "name": "stdout",
     "output_type": "stream",
     "text": [
      "0: 640x640 1 Rock, 156.1ms\n",
      "Speed: 2.7ms preprocess, 156.1ms inference, 0.4ms postprocess per image at shape (1, 3, 640, 640)\n",
      "Video frames: 1\n",
      "\n"
     ]
    },
    {
     "data": {
      "text/html": [
       "<pre style=\"white-space:pre;overflow-x:auto;line-height:normal;font-family:Menlo,'DejaVu Sans Mono',consolas,'Courier New',monospace\"><span style=\"color: #7fbfbf; text-decoration-color: #7fbfbf\">[07/01/24 11:51:42] </span><span style=\"color: #800000; text-decoration-color: #800000\">WARNING </span> Error in results dispatching - <span style=\"color: #800080; text-decoration-color: #800080; font-weight: bold\">render_boxes_on_frame</span><span style=\"font-weight: bold\">()</span> takes <a href=\"file:///Users/saadia/Documents/DevIA_2024/ShiFuMi_computerVision/venv/lib/python3.9/site-packages/inference/core/interfaces/stream/inference_pipeline.py\" target=\"_blank\"><span style=\"color: #7f7f7f; text-decoration-color: #7f7f7f\">inference_pipeline.py</span></a><span style=\"color: #7f7f7f; text-decoration-color: #7f7f7f\">:</span><a href=\"file:///Users/saadia/Documents/DevIA_2024/ShiFuMi_computerVision/venv/lib/python3.9/site-packages/inference/core/interfaces/stream/inference_pipeline.py#907\" target=\"_blank\"><span style=\"color: #7f7f7f; text-decoration-color: #7f7f7f\">907</span></a>\n",
       "<span style=\"color: #7fbfbf; text-decoration-color: #7fbfbf\">                    </span>         <span style=\"color: #008080; text-decoration-color: #008080; font-weight: bold\">1</span> positional argument but <span style=\"color: #008080; text-decoration-color: #008080; font-weight: bold\">2</span> were given                       <span style=\"color: #7f7f7f; text-decoration-color: #7f7f7f\">                         </span>\n",
       "</pre>\n"
      ],
      "text/plain": [
       "\u001b[2;36m[07/01/24 11:51:42]\u001b[0m\u001b[2;36m \u001b[0m\u001b[31mWARNING \u001b[0m Error in results dispatching - \u001b[1;35mrender_boxes_on_frame\u001b[0m\u001b[1m(\u001b[0m\u001b[1m)\u001b[0m takes \u001b]8;id=267527;file:///Users/saadia/Documents/DevIA_2024/ShiFuMi_computerVision/venv/lib/python3.9/site-packages/inference/core/interfaces/stream/inference_pipeline.py\u001b\\\u001b[2minference_pipeline.py\u001b[0m\u001b]8;;\u001b\\\u001b[2m:\u001b[0m\u001b]8;id=806369;file:///Users/saadia/Documents/DevIA_2024/ShiFuMi_computerVision/venv/lib/python3.9/site-packages/inference/core/interfaces/stream/inference_pipeline.py#907\u001b\\\u001b[2m907\u001b[0m\u001b]8;;\u001b\\\n",
       "\u001b[2;36m                    \u001b[0m         \u001b[1;36m1\u001b[0m positional argument but \u001b[1;36m2\u001b[0m were given                       \u001b[2m                         \u001b[0m\n"
      ]
     },
     "metadata": {},
     "output_type": "display_data"
    },
    {
     "name": "stdout",
     "output_type": "stream",
     "text": [
      "0: 640x640 1 Rock, 160.6ms\n",
      "Speed: 2.6ms preprocess, 160.6ms inference, 0.5ms postprocess per image at shape (1, 3, 640, 640)\n",
      "Video frames: 1\n",
      "\n"
     ]
    },
    {
     "data": {
      "text/html": [
       "<pre style=\"white-space:pre;overflow-x:auto;line-height:normal;font-family:Menlo,'DejaVu Sans Mono',consolas,'Courier New',monospace\"><span style=\"color: #7fbfbf; text-decoration-color: #7fbfbf\">                    </span><span style=\"color: #800000; text-decoration-color: #800000\">WARNING </span> Error in results dispatching - <span style=\"color: #800080; text-decoration-color: #800080; font-weight: bold\">render_boxes_on_frame</span><span style=\"font-weight: bold\">()</span> takes <a href=\"file:///Users/saadia/Documents/DevIA_2024/ShiFuMi_computerVision/venv/lib/python3.9/site-packages/inference/core/interfaces/stream/inference_pipeline.py\" target=\"_blank\"><span style=\"color: #7f7f7f; text-decoration-color: #7f7f7f\">inference_pipeline.py</span></a><span style=\"color: #7f7f7f; text-decoration-color: #7f7f7f\">:</span><a href=\"file:///Users/saadia/Documents/DevIA_2024/ShiFuMi_computerVision/venv/lib/python3.9/site-packages/inference/core/interfaces/stream/inference_pipeline.py#907\" target=\"_blank\"><span style=\"color: #7f7f7f; text-decoration-color: #7f7f7f\">907</span></a>\n",
       "<span style=\"color: #7fbfbf; text-decoration-color: #7fbfbf\">                    </span>         <span style=\"color: #008080; text-decoration-color: #008080; font-weight: bold\">1</span> positional argument but <span style=\"color: #008080; text-decoration-color: #008080; font-weight: bold\">2</span> were given                       <span style=\"color: #7f7f7f; text-decoration-color: #7f7f7f\">                         </span>\n",
       "</pre>\n"
      ],
      "text/plain": [
       "\u001b[2;36m                   \u001b[0m\u001b[2;36m \u001b[0m\u001b[31mWARNING \u001b[0m Error in results dispatching - \u001b[1;35mrender_boxes_on_frame\u001b[0m\u001b[1m(\u001b[0m\u001b[1m)\u001b[0m takes \u001b]8;id=825943;file:///Users/saadia/Documents/DevIA_2024/ShiFuMi_computerVision/venv/lib/python3.9/site-packages/inference/core/interfaces/stream/inference_pipeline.py\u001b\\\u001b[2minference_pipeline.py\u001b[0m\u001b]8;;\u001b\\\u001b[2m:\u001b[0m\u001b]8;id=979527;file:///Users/saadia/Documents/DevIA_2024/ShiFuMi_computerVision/venv/lib/python3.9/site-packages/inference/core/interfaces/stream/inference_pipeline.py#907\u001b\\\u001b[2m907\u001b[0m\u001b]8;;\u001b\\\n",
       "\u001b[2;36m                    \u001b[0m         \u001b[1;36m1\u001b[0m positional argument but \u001b[1;36m2\u001b[0m were given                       \u001b[2m                         \u001b[0m\n"
      ]
     },
     "metadata": {},
     "output_type": "display_data"
    },
    {
     "name": "stdout",
     "output_type": "stream",
     "text": [
      "0: 640x640 1 Rock, 157.7ms\n",
      "Speed: 2.8ms preprocess, 157.7ms inference, 0.4ms postprocess per image at shape (1, 3, 640, 640)\n",
      "Video frames: 1\n",
      "\n"
     ]
    },
    {
     "data": {
      "text/html": [
       "<pre style=\"white-space:pre;overflow-x:auto;line-height:normal;font-family:Menlo,'DejaVu Sans Mono',consolas,'Courier New',monospace\"><span style=\"color: #7fbfbf; text-decoration-color: #7fbfbf\">                    </span><span style=\"color: #800000; text-decoration-color: #800000\">WARNING </span> Error in results dispatching - <span style=\"color: #800080; text-decoration-color: #800080; font-weight: bold\">render_boxes_on_frame</span><span style=\"font-weight: bold\">()</span> takes <a href=\"file:///Users/saadia/Documents/DevIA_2024/ShiFuMi_computerVision/venv/lib/python3.9/site-packages/inference/core/interfaces/stream/inference_pipeline.py\" target=\"_blank\"><span style=\"color: #7f7f7f; text-decoration-color: #7f7f7f\">inference_pipeline.py</span></a><span style=\"color: #7f7f7f; text-decoration-color: #7f7f7f\">:</span><a href=\"file:///Users/saadia/Documents/DevIA_2024/ShiFuMi_computerVision/venv/lib/python3.9/site-packages/inference/core/interfaces/stream/inference_pipeline.py#907\" target=\"_blank\"><span style=\"color: #7f7f7f; text-decoration-color: #7f7f7f\">907</span></a>\n",
       "<span style=\"color: #7fbfbf; text-decoration-color: #7fbfbf\">                    </span>         <span style=\"color: #008080; text-decoration-color: #008080; font-weight: bold\">1</span> positional argument but <span style=\"color: #008080; text-decoration-color: #008080; font-weight: bold\">2</span> were given                       <span style=\"color: #7f7f7f; text-decoration-color: #7f7f7f\">                         </span>\n",
       "</pre>\n"
      ],
      "text/plain": [
       "\u001b[2;36m                   \u001b[0m\u001b[2;36m \u001b[0m\u001b[31mWARNING \u001b[0m Error in results dispatching - \u001b[1;35mrender_boxes_on_frame\u001b[0m\u001b[1m(\u001b[0m\u001b[1m)\u001b[0m takes \u001b]8;id=183490;file:///Users/saadia/Documents/DevIA_2024/ShiFuMi_computerVision/venv/lib/python3.9/site-packages/inference/core/interfaces/stream/inference_pipeline.py\u001b\\\u001b[2minference_pipeline.py\u001b[0m\u001b]8;;\u001b\\\u001b[2m:\u001b[0m\u001b]8;id=13508;file:///Users/saadia/Documents/DevIA_2024/ShiFuMi_computerVision/venv/lib/python3.9/site-packages/inference/core/interfaces/stream/inference_pipeline.py#907\u001b\\\u001b[2m907\u001b[0m\u001b]8;;\u001b\\\n",
       "\u001b[2;36m                    \u001b[0m         \u001b[1;36m1\u001b[0m positional argument but \u001b[1;36m2\u001b[0m were given                       \u001b[2m                         \u001b[0m\n"
      ]
     },
     "metadata": {},
     "output_type": "display_data"
    },
    {
     "name": "stdout",
     "output_type": "stream",
     "text": [
      "0: 640x640 1 Rock, 148.3ms\n",
      "Speed: 1.8ms preprocess, 148.3ms inference, 0.5ms postprocess per image at shape (1, 3, 640, 640)\n",
      "Video frames: 1\n",
      "\n"
     ]
    },
    {
     "data": {
      "text/html": [
       "<pre style=\"white-space:pre;overflow-x:auto;line-height:normal;font-family:Menlo,'DejaVu Sans Mono',consolas,'Courier New',monospace\"><span style=\"color: #7fbfbf; text-decoration-color: #7fbfbf\">                    </span><span style=\"color: #800000; text-decoration-color: #800000\">WARNING </span> Error in results dispatching - <span style=\"color: #800080; text-decoration-color: #800080; font-weight: bold\">render_boxes_on_frame</span><span style=\"font-weight: bold\">()</span> takes <a href=\"file:///Users/saadia/Documents/DevIA_2024/ShiFuMi_computerVision/venv/lib/python3.9/site-packages/inference/core/interfaces/stream/inference_pipeline.py\" target=\"_blank\"><span style=\"color: #7f7f7f; text-decoration-color: #7f7f7f\">inference_pipeline.py</span></a><span style=\"color: #7f7f7f; text-decoration-color: #7f7f7f\">:</span><a href=\"file:///Users/saadia/Documents/DevIA_2024/ShiFuMi_computerVision/venv/lib/python3.9/site-packages/inference/core/interfaces/stream/inference_pipeline.py#907\" target=\"_blank\"><span style=\"color: #7f7f7f; text-decoration-color: #7f7f7f\">907</span></a>\n",
       "<span style=\"color: #7fbfbf; text-decoration-color: #7fbfbf\">                    </span>         <span style=\"color: #008080; text-decoration-color: #008080; font-weight: bold\">1</span> positional argument but <span style=\"color: #008080; text-decoration-color: #008080; font-weight: bold\">2</span> were given                       <span style=\"color: #7f7f7f; text-decoration-color: #7f7f7f\">                         </span>\n",
       "</pre>\n"
      ],
      "text/plain": [
       "\u001b[2;36m                   \u001b[0m\u001b[2;36m \u001b[0m\u001b[31mWARNING \u001b[0m Error in results dispatching - \u001b[1;35mrender_boxes_on_frame\u001b[0m\u001b[1m(\u001b[0m\u001b[1m)\u001b[0m takes \u001b]8;id=408081;file:///Users/saadia/Documents/DevIA_2024/ShiFuMi_computerVision/venv/lib/python3.9/site-packages/inference/core/interfaces/stream/inference_pipeline.py\u001b\\\u001b[2minference_pipeline.py\u001b[0m\u001b]8;;\u001b\\\u001b[2m:\u001b[0m\u001b]8;id=412155;file:///Users/saadia/Documents/DevIA_2024/ShiFuMi_computerVision/venv/lib/python3.9/site-packages/inference/core/interfaces/stream/inference_pipeline.py#907\u001b\\\u001b[2m907\u001b[0m\u001b]8;;\u001b\\\n",
       "\u001b[2;36m                    \u001b[0m         \u001b[1;36m1\u001b[0m positional argument but \u001b[1;36m2\u001b[0m were given                       \u001b[2m                         \u001b[0m\n"
      ]
     },
     "metadata": {},
     "output_type": "display_data"
    },
    {
     "name": "stdout",
     "output_type": "stream",
     "text": [
      "0: 640x640 1 Rock, 174.1ms\n",
      "Speed: 2.2ms preprocess, 174.1ms inference, 0.4ms postprocess per image at shape (1, 3, 640, 640)\n",
      "Video frames: 1\n",
      "\n"
     ]
    },
    {
     "data": {
      "text/html": [
       "<pre style=\"white-space:pre;overflow-x:auto;line-height:normal;font-family:Menlo,'DejaVu Sans Mono',consolas,'Courier New',monospace\"><span style=\"color: #7fbfbf; text-decoration-color: #7fbfbf\">                    </span><span style=\"color: #800000; text-decoration-color: #800000\">WARNING </span> Error in results dispatching - <span style=\"color: #800080; text-decoration-color: #800080; font-weight: bold\">render_boxes_on_frame</span><span style=\"font-weight: bold\">()</span> takes <a href=\"file:///Users/saadia/Documents/DevIA_2024/ShiFuMi_computerVision/venv/lib/python3.9/site-packages/inference/core/interfaces/stream/inference_pipeline.py\" target=\"_blank\"><span style=\"color: #7f7f7f; text-decoration-color: #7f7f7f\">inference_pipeline.py</span></a><span style=\"color: #7f7f7f; text-decoration-color: #7f7f7f\">:</span><a href=\"file:///Users/saadia/Documents/DevIA_2024/ShiFuMi_computerVision/venv/lib/python3.9/site-packages/inference/core/interfaces/stream/inference_pipeline.py#907\" target=\"_blank\"><span style=\"color: #7f7f7f; text-decoration-color: #7f7f7f\">907</span></a>\n",
       "<span style=\"color: #7fbfbf; text-decoration-color: #7fbfbf\">                    </span>         <span style=\"color: #008080; text-decoration-color: #008080; font-weight: bold\">1</span> positional argument but <span style=\"color: #008080; text-decoration-color: #008080; font-weight: bold\">2</span> were given                       <span style=\"color: #7f7f7f; text-decoration-color: #7f7f7f\">                         </span>\n",
       "</pre>\n"
      ],
      "text/plain": [
       "\u001b[2;36m                   \u001b[0m\u001b[2;36m \u001b[0m\u001b[31mWARNING \u001b[0m Error in results dispatching - \u001b[1;35mrender_boxes_on_frame\u001b[0m\u001b[1m(\u001b[0m\u001b[1m)\u001b[0m takes \u001b]8;id=776759;file:///Users/saadia/Documents/DevIA_2024/ShiFuMi_computerVision/venv/lib/python3.9/site-packages/inference/core/interfaces/stream/inference_pipeline.py\u001b\\\u001b[2minference_pipeline.py\u001b[0m\u001b]8;;\u001b\\\u001b[2m:\u001b[0m\u001b]8;id=839831;file:///Users/saadia/Documents/DevIA_2024/ShiFuMi_computerVision/venv/lib/python3.9/site-packages/inference/core/interfaces/stream/inference_pipeline.py#907\u001b\\\u001b[2m907\u001b[0m\u001b]8;;\u001b\\\n",
       "\u001b[2;36m                    \u001b[0m         \u001b[1;36m1\u001b[0m positional argument but \u001b[1;36m2\u001b[0m were given                       \u001b[2m                         \u001b[0m\n"
      ]
     },
     "metadata": {},
     "output_type": "display_data"
    },
    {
     "name": "stdout",
     "output_type": "stream",
     "text": [
      "0: 640x640 1 Rock, 161.2ms\n",
      "Speed: 3.7ms preprocess, 161.2ms inference, 0.4ms postprocess per image at shape (1, 3, 640, 640)\n",
      "Video frames: 1\n",
      "\n"
     ]
    },
    {
     "data": {
      "text/html": [
       "<pre style=\"white-space:pre;overflow-x:auto;line-height:normal;font-family:Menlo,'DejaVu Sans Mono',consolas,'Courier New',monospace\"><span style=\"color: #7fbfbf; text-decoration-color: #7fbfbf\">                    </span><span style=\"color: #800000; text-decoration-color: #800000\">WARNING </span> Error in results dispatching - <span style=\"color: #800080; text-decoration-color: #800080; font-weight: bold\">render_boxes_on_frame</span><span style=\"font-weight: bold\">()</span> takes <a href=\"file:///Users/saadia/Documents/DevIA_2024/ShiFuMi_computerVision/venv/lib/python3.9/site-packages/inference/core/interfaces/stream/inference_pipeline.py\" target=\"_blank\"><span style=\"color: #7f7f7f; text-decoration-color: #7f7f7f\">inference_pipeline.py</span></a><span style=\"color: #7f7f7f; text-decoration-color: #7f7f7f\">:</span><a href=\"file:///Users/saadia/Documents/DevIA_2024/ShiFuMi_computerVision/venv/lib/python3.9/site-packages/inference/core/interfaces/stream/inference_pipeline.py#907\" target=\"_blank\"><span style=\"color: #7f7f7f; text-decoration-color: #7f7f7f\">907</span></a>\n",
       "<span style=\"color: #7fbfbf; text-decoration-color: #7fbfbf\">                    </span>         <span style=\"color: #008080; text-decoration-color: #008080; font-weight: bold\">1</span> positional argument but <span style=\"color: #008080; text-decoration-color: #008080; font-weight: bold\">2</span> were given                       <span style=\"color: #7f7f7f; text-decoration-color: #7f7f7f\">                         </span>\n",
       "</pre>\n"
      ],
      "text/plain": [
       "\u001b[2;36m                   \u001b[0m\u001b[2;36m \u001b[0m\u001b[31mWARNING \u001b[0m Error in results dispatching - \u001b[1;35mrender_boxes_on_frame\u001b[0m\u001b[1m(\u001b[0m\u001b[1m)\u001b[0m takes \u001b]8;id=143051;file:///Users/saadia/Documents/DevIA_2024/ShiFuMi_computerVision/venv/lib/python3.9/site-packages/inference/core/interfaces/stream/inference_pipeline.py\u001b\\\u001b[2minference_pipeline.py\u001b[0m\u001b]8;;\u001b\\\u001b[2m:\u001b[0m\u001b]8;id=354994;file:///Users/saadia/Documents/DevIA_2024/ShiFuMi_computerVision/venv/lib/python3.9/site-packages/inference/core/interfaces/stream/inference_pipeline.py#907\u001b\\\u001b[2m907\u001b[0m\u001b]8;;\u001b\\\n",
       "\u001b[2;36m                    \u001b[0m         \u001b[1;36m1\u001b[0m positional argument but \u001b[1;36m2\u001b[0m were given                       \u001b[2m                         \u001b[0m\n"
      ]
     },
     "metadata": {},
     "output_type": "display_data"
    },
    {
     "name": "stdout",
     "output_type": "stream",
     "text": [
      "0: 640x640 1 Rock, 160.1ms\n",
      "Speed: 3.0ms preprocess, 160.1ms inference, 0.4ms postprocess per image at shape (1, 3, 640, 640)\n",
      "Video frames: 1\n",
      "\n"
     ]
    },
    {
     "data": {
      "text/html": [
       "<pre style=\"white-space:pre;overflow-x:auto;line-height:normal;font-family:Menlo,'DejaVu Sans Mono',consolas,'Courier New',monospace\"><span style=\"color: #7fbfbf; text-decoration-color: #7fbfbf\">[07/01/24 11:51:43] </span><span style=\"color: #800000; text-decoration-color: #800000\">WARNING </span> Error in results dispatching - <span style=\"color: #800080; text-decoration-color: #800080; font-weight: bold\">render_boxes_on_frame</span><span style=\"font-weight: bold\">()</span> takes <a href=\"file:///Users/saadia/Documents/DevIA_2024/ShiFuMi_computerVision/venv/lib/python3.9/site-packages/inference/core/interfaces/stream/inference_pipeline.py\" target=\"_blank\"><span style=\"color: #7f7f7f; text-decoration-color: #7f7f7f\">inference_pipeline.py</span></a><span style=\"color: #7f7f7f; text-decoration-color: #7f7f7f\">:</span><a href=\"file:///Users/saadia/Documents/DevIA_2024/ShiFuMi_computerVision/venv/lib/python3.9/site-packages/inference/core/interfaces/stream/inference_pipeline.py#907\" target=\"_blank\"><span style=\"color: #7f7f7f; text-decoration-color: #7f7f7f\">907</span></a>\n",
       "<span style=\"color: #7fbfbf; text-decoration-color: #7fbfbf\">                    </span>         <span style=\"color: #008080; text-decoration-color: #008080; font-weight: bold\">1</span> positional argument but <span style=\"color: #008080; text-decoration-color: #008080; font-weight: bold\">2</span> were given                       <span style=\"color: #7f7f7f; text-decoration-color: #7f7f7f\">                         </span>\n",
       "</pre>\n"
      ],
      "text/plain": [
       "\u001b[2;36m[07/01/24 11:51:43]\u001b[0m\u001b[2;36m \u001b[0m\u001b[31mWARNING \u001b[0m Error in results dispatching - \u001b[1;35mrender_boxes_on_frame\u001b[0m\u001b[1m(\u001b[0m\u001b[1m)\u001b[0m takes \u001b]8;id=314283;file:///Users/saadia/Documents/DevIA_2024/ShiFuMi_computerVision/venv/lib/python3.9/site-packages/inference/core/interfaces/stream/inference_pipeline.py\u001b\\\u001b[2minference_pipeline.py\u001b[0m\u001b]8;;\u001b\\\u001b[2m:\u001b[0m\u001b]8;id=797167;file:///Users/saadia/Documents/DevIA_2024/ShiFuMi_computerVision/venv/lib/python3.9/site-packages/inference/core/interfaces/stream/inference_pipeline.py#907\u001b\\\u001b[2m907\u001b[0m\u001b]8;;\u001b\\\n",
       "\u001b[2;36m                    \u001b[0m         \u001b[1;36m1\u001b[0m positional argument but \u001b[1;36m2\u001b[0m were given                       \u001b[2m                         \u001b[0m\n"
      ]
     },
     "metadata": {},
     "output_type": "display_data"
    },
    {
     "name": "stdout",
     "output_type": "stream",
     "text": [
      "0: 640x640 1 Rock, 162.5ms\n",
      "Speed: 2.7ms preprocess, 162.5ms inference, 0.4ms postprocess per image at shape (1, 3, 640, 640)\n",
      "Video frames: 1\n",
      "\n"
     ]
    },
    {
     "data": {
      "text/html": [
       "<pre style=\"white-space:pre;overflow-x:auto;line-height:normal;font-family:Menlo,'DejaVu Sans Mono',consolas,'Courier New',monospace\"><span style=\"color: #7fbfbf; text-decoration-color: #7fbfbf\">                    </span><span style=\"color: #800000; text-decoration-color: #800000\">WARNING </span> Error in results dispatching - <span style=\"color: #800080; text-decoration-color: #800080; font-weight: bold\">render_boxes_on_frame</span><span style=\"font-weight: bold\">()</span> takes <a href=\"file:///Users/saadia/Documents/DevIA_2024/ShiFuMi_computerVision/venv/lib/python3.9/site-packages/inference/core/interfaces/stream/inference_pipeline.py\" target=\"_blank\"><span style=\"color: #7f7f7f; text-decoration-color: #7f7f7f\">inference_pipeline.py</span></a><span style=\"color: #7f7f7f; text-decoration-color: #7f7f7f\">:</span><a href=\"file:///Users/saadia/Documents/DevIA_2024/ShiFuMi_computerVision/venv/lib/python3.9/site-packages/inference/core/interfaces/stream/inference_pipeline.py#907\" target=\"_blank\"><span style=\"color: #7f7f7f; text-decoration-color: #7f7f7f\">907</span></a>\n",
       "<span style=\"color: #7fbfbf; text-decoration-color: #7fbfbf\">                    </span>         <span style=\"color: #008080; text-decoration-color: #008080; font-weight: bold\">1</span> positional argument but <span style=\"color: #008080; text-decoration-color: #008080; font-weight: bold\">2</span> were given                       <span style=\"color: #7f7f7f; text-decoration-color: #7f7f7f\">                         </span>\n",
       "</pre>\n"
      ],
      "text/plain": [
       "\u001b[2;36m                   \u001b[0m\u001b[2;36m \u001b[0m\u001b[31mWARNING \u001b[0m Error in results dispatching - \u001b[1;35mrender_boxes_on_frame\u001b[0m\u001b[1m(\u001b[0m\u001b[1m)\u001b[0m takes \u001b]8;id=220486;file:///Users/saadia/Documents/DevIA_2024/ShiFuMi_computerVision/venv/lib/python3.9/site-packages/inference/core/interfaces/stream/inference_pipeline.py\u001b\\\u001b[2minference_pipeline.py\u001b[0m\u001b]8;;\u001b\\\u001b[2m:\u001b[0m\u001b]8;id=676269;file:///Users/saadia/Documents/DevIA_2024/ShiFuMi_computerVision/venv/lib/python3.9/site-packages/inference/core/interfaces/stream/inference_pipeline.py#907\u001b\\\u001b[2m907\u001b[0m\u001b]8;;\u001b\\\n",
       "\u001b[2;36m                    \u001b[0m         \u001b[1;36m1\u001b[0m positional argument but \u001b[1;36m2\u001b[0m were given                       \u001b[2m                         \u001b[0m\n"
      ]
     },
     "metadata": {},
     "output_type": "display_data"
    },
    {
     "name": "stdout",
     "output_type": "stream",
     "text": [
      "0: 640x640 1 Rock, 169.4ms\n",
      "Speed: 2.2ms preprocess, 169.4ms inference, 0.5ms postprocess per image at shape (1, 3, 640, 640)\n",
      "Video frames: 1\n",
      "\n"
     ]
    },
    {
     "data": {
      "text/html": [
       "<pre style=\"white-space:pre;overflow-x:auto;line-height:normal;font-family:Menlo,'DejaVu Sans Mono',consolas,'Courier New',monospace\"><span style=\"color: #7fbfbf; text-decoration-color: #7fbfbf\">                    </span><span style=\"color: #800000; text-decoration-color: #800000\">WARNING </span> Error in results dispatching - <span style=\"color: #800080; text-decoration-color: #800080; font-weight: bold\">render_boxes_on_frame</span><span style=\"font-weight: bold\">()</span> takes <a href=\"file:///Users/saadia/Documents/DevIA_2024/ShiFuMi_computerVision/venv/lib/python3.9/site-packages/inference/core/interfaces/stream/inference_pipeline.py\" target=\"_blank\"><span style=\"color: #7f7f7f; text-decoration-color: #7f7f7f\">inference_pipeline.py</span></a><span style=\"color: #7f7f7f; text-decoration-color: #7f7f7f\">:</span><a href=\"file:///Users/saadia/Documents/DevIA_2024/ShiFuMi_computerVision/venv/lib/python3.9/site-packages/inference/core/interfaces/stream/inference_pipeline.py#907\" target=\"_blank\"><span style=\"color: #7f7f7f; text-decoration-color: #7f7f7f\">907</span></a>\n",
       "<span style=\"color: #7fbfbf; text-decoration-color: #7fbfbf\">                    </span>         <span style=\"color: #008080; text-decoration-color: #008080; font-weight: bold\">1</span> positional argument but <span style=\"color: #008080; text-decoration-color: #008080; font-weight: bold\">2</span> were given                       <span style=\"color: #7f7f7f; text-decoration-color: #7f7f7f\">                         </span>\n",
       "</pre>\n"
      ],
      "text/plain": [
       "\u001b[2;36m                   \u001b[0m\u001b[2;36m \u001b[0m\u001b[31mWARNING \u001b[0m Error in results dispatching - \u001b[1;35mrender_boxes_on_frame\u001b[0m\u001b[1m(\u001b[0m\u001b[1m)\u001b[0m takes \u001b]8;id=979986;file:///Users/saadia/Documents/DevIA_2024/ShiFuMi_computerVision/venv/lib/python3.9/site-packages/inference/core/interfaces/stream/inference_pipeline.py\u001b\\\u001b[2minference_pipeline.py\u001b[0m\u001b]8;;\u001b\\\u001b[2m:\u001b[0m\u001b]8;id=142696;file:///Users/saadia/Documents/DevIA_2024/ShiFuMi_computerVision/venv/lib/python3.9/site-packages/inference/core/interfaces/stream/inference_pipeline.py#907\u001b\\\u001b[2m907\u001b[0m\u001b]8;;\u001b\\\n",
       "\u001b[2;36m                    \u001b[0m         \u001b[1;36m1\u001b[0m positional argument but \u001b[1;36m2\u001b[0m were given                       \u001b[2m                         \u001b[0m\n"
      ]
     },
     "metadata": {},
     "output_type": "display_data"
    },
    {
     "name": "stdout",
     "output_type": "stream",
     "text": [
      "0: 640x640 1 Rock, 169.7ms\n",
      "Speed: 2.5ms preprocess, 169.7ms inference, 0.4ms postprocess per image at shape (1, 3, 640, 640)\n",
      "Video frames: 1\n",
      "\n"
     ]
    },
    {
     "data": {
      "text/html": [
       "<pre style=\"white-space:pre;overflow-x:auto;line-height:normal;font-family:Menlo,'DejaVu Sans Mono',consolas,'Courier New',monospace\"><span style=\"color: #7fbfbf; text-decoration-color: #7fbfbf\">                    </span><span style=\"color: #800000; text-decoration-color: #800000\">WARNING </span> Error in results dispatching - <span style=\"color: #800080; text-decoration-color: #800080; font-weight: bold\">render_boxes_on_frame</span><span style=\"font-weight: bold\">()</span> takes <a href=\"file:///Users/saadia/Documents/DevIA_2024/ShiFuMi_computerVision/venv/lib/python3.9/site-packages/inference/core/interfaces/stream/inference_pipeline.py\" target=\"_blank\"><span style=\"color: #7f7f7f; text-decoration-color: #7f7f7f\">inference_pipeline.py</span></a><span style=\"color: #7f7f7f; text-decoration-color: #7f7f7f\">:</span><a href=\"file:///Users/saadia/Documents/DevIA_2024/ShiFuMi_computerVision/venv/lib/python3.9/site-packages/inference/core/interfaces/stream/inference_pipeline.py#907\" target=\"_blank\"><span style=\"color: #7f7f7f; text-decoration-color: #7f7f7f\">907</span></a>\n",
       "<span style=\"color: #7fbfbf; text-decoration-color: #7fbfbf\">                    </span>         <span style=\"color: #008080; text-decoration-color: #008080; font-weight: bold\">1</span> positional argument but <span style=\"color: #008080; text-decoration-color: #008080; font-weight: bold\">2</span> were given                       <span style=\"color: #7f7f7f; text-decoration-color: #7f7f7f\">                         </span>\n",
       "</pre>\n"
      ],
      "text/plain": [
       "\u001b[2;36m                   \u001b[0m\u001b[2;36m \u001b[0m\u001b[31mWARNING \u001b[0m Error in results dispatching - \u001b[1;35mrender_boxes_on_frame\u001b[0m\u001b[1m(\u001b[0m\u001b[1m)\u001b[0m takes \u001b]8;id=902209;file:///Users/saadia/Documents/DevIA_2024/ShiFuMi_computerVision/venv/lib/python3.9/site-packages/inference/core/interfaces/stream/inference_pipeline.py\u001b\\\u001b[2minference_pipeline.py\u001b[0m\u001b]8;;\u001b\\\u001b[2m:\u001b[0m\u001b]8;id=55889;file:///Users/saadia/Documents/DevIA_2024/ShiFuMi_computerVision/venv/lib/python3.9/site-packages/inference/core/interfaces/stream/inference_pipeline.py#907\u001b\\\u001b[2m907\u001b[0m\u001b]8;;\u001b\\\n",
       "\u001b[2;36m                    \u001b[0m         \u001b[1;36m1\u001b[0m positional argument but \u001b[1;36m2\u001b[0m were given                       \u001b[2m                         \u001b[0m\n"
      ]
     },
     "metadata": {},
     "output_type": "display_data"
    },
    {
     "name": "stdout",
     "output_type": "stream",
     "text": [
      "0: 640x640 1 Rock, 159.0ms\n",
      "Speed: 2.4ms preprocess, 159.0ms inference, 0.4ms postprocess per image at shape (1, 3, 640, 640)\n",
      "Video frames: 1\n",
      "\n"
     ]
    },
    {
     "data": {
      "text/html": [
       "<pre style=\"white-space:pre;overflow-x:auto;line-height:normal;font-family:Menlo,'DejaVu Sans Mono',consolas,'Courier New',monospace\"><span style=\"color: #7fbfbf; text-decoration-color: #7fbfbf\">                    </span><span style=\"color: #800000; text-decoration-color: #800000\">WARNING </span> Error in results dispatching - <span style=\"color: #800080; text-decoration-color: #800080; font-weight: bold\">render_boxes_on_frame</span><span style=\"font-weight: bold\">()</span> takes <a href=\"file:///Users/saadia/Documents/DevIA_2024/ShiFuMi_computerVision/venv/lib/python3.9/site-packages/inference/core/interfaces/stream/inference_pipeline.py\" target=\"_blank\"><span style=\"color: #7f7f7f; text-decoration-color: #7f7f7f\">inference_pipeline.py</span></a><span style=\"color: #7f7f7f; text-decoration-color: #7f7f7f\">:</span><a href=\"file:///Users/saadia/Documents/DevIA_2024/ShiFuMi_computerVision/venv/lib/python3.9/site-packages/inference/core/interfaces/stream/inference_pipeline.py#907\" target=\"_blank\"><span style=\"color: #7f7f7f; text-decoration-color: #7f7f7f\">907</span></a>\n",
       "<span style=\"color: #7fbfbf; text-decoration-color: #7fbfbf\">                    </span>         <span style=\"color: #008080; text-decoration-color: #008080; font-weight: bold\">1</span> positional argument but <span style=\"color: #008080; text-decoration-color: #008080; font-weight: bold\">2</span> were given                       <span style=\"color: #7f7f7f; text-decoration-color: #7f7f7f\">                         </span>\n",
       "</pre>\n"
      ],
      "text/plain": [
       "\u001b[2;36m                   \u001b[0m\u001b[2;36m \u001b[0m\u001b[31mWARNING \u001b[0m Error in results dispatching - \u001b[1;35mrender_boxes_on_frame\u001b[0m\u001b[1m(\u001b[0m\u001b[1m)\u001b[0m takes \u001b]8;id=122019;file:///Users/saadia/Documents/DevIA_2024/ShiFuMi_computerVision/venv/lib/python3.9/site-packages/inference/core/interfaces/stream/inference_pipeline.py\u001b\\\u001b[2minference_pipeline.py\u001b[0m\u001b]8;;\u001b\\\u001b[2m:\u001b[0m\u001b]8;id=1151;file:///Users/saadia/Documents/DevIA_2024/ShiFuMi_computerVision/venv/lib/python3.9/site-packages/inference/core/interfaces/stream/inference_pipeline.py#907\u001b\\\u001b[2m907\u001b[0m\u001b]8;;\u001b\\\n",
       "\u001b[2;36m                    \u001b[0m         \u001b[1;36m1\u001b[0m positional argument but \u001b[1;36m2\u001b[0m were given                       \u001b[2m                         \u001b[0m\n"
      ]
     },
     "metadata": {},
     "output_type": "display_data"
    },
    {
     "name": "stdout",
     "output_type": "stream",
     "text": [
      "0: 640x640 1 Rock, 159.7ms\n",
      "Speed: 2.2ms preprocess, 159.7ms inference, 0.4ms postprocess per image at shape (1, 3, 640, 640)\n",
      "Video frames: 1\n",
      "\n"
     ]
    },
    {
     "data": {
      "text/html": [
       "<pre style=\"white-space:pre;overflow-x:auto;line-height:normal;font-family:Menlo,'DejaVu Sans Mono',consolas,'Courier New',monospace\"><span style=\"color: #7fbfbf; text-decoration-color: #7fbfbf\">                    </span><span style=\"color: #800000; text-decoration-color: #800000\">WARNING </span> Error in results dispatching - <span style=\"color: #800080; text-decoration-color: #800080; font-weight: bold\">render_boxes_on_frame</span><span style=\"font-weight: bold\">()</span> takes <a href=\"file:///Users/saadia/Documents/DevIA_2024/ShiFuMi_computerVision/venv/lib/python3.9/site-packages/inference/core/interfaces/stream/inference_pipeline.py\" target=\"_blank\"><span style=\"color: #7f7f7f; text-decoration-color: #7f7f7f\">inference_pipeline.py</span></a><span style=\"color: #7f7f7f; text-decoration-color: #7f7f7f\">:</span><a href=\"file:///Users/saadia/Documents/DevIA_2024/ShiFuMi_computerVision/venv/lib/python3.9/site-packages/inference/core/interfaces/stream/inference_pipeline.py#907\" target=\"_blank\"><span style=\"color: #7f7f7f; text-decoration-color: #7f7f7f\">907</span></a>\n",
       "<span style=\"color: #7fbfbf; text-decoration-color: #7fbfbf\">                    </span>         <span style=\"color: #008080; text-decoration-color: #008080; font-weight: bold\">1</span> positional argument but <span style=\"color: #008080; text-decoration-color: #008080; font-weight: bold\">2</span> were given                       <span style=\"color: #7f7f7f; text-decoration-color: #7f7f7f\">                         </span>\n",
       "</pre>\n"
      ],
      "text/plain": [
       "\u001b[2;36m                   \u001b[0m\u001b[2;36m \u001b[0m\u001b[31mWARNING \u001b[0m Error in results dispatching - \u001b[1;35mrender_boxes_on_frame\u001b[0m\u001b[1m(\u001b[0m\u001b[1m)\u001b[0m takes \u001b]8;id=986167;file:///Users/saadia/Documents/DevIA_2024/ShiFuMi_computerVision/venv/lib/python3.9/site-packages/inference/core/interfaces/stream/inference_pipeline.py\u001b\\\u001b[2minference_pipeline.py\u001b[0m\u001b]8;;\u001b\\\u001b[2m:\u001b[0m\u001b]8;id=852356;file:///Users/saadia/Documents/DevIA_2024/ShiFuMi_computerVision/venv/lib/python3.9/site-packages/inference/core/interfaces/stream/inference_pipeline.py#907\u001b\\\u001b[2m907\u001b[0m\u001b]8;;\u001b\\\n",
       "\u001b[2;36m                    \u001b[0m         \u001b[1;36m1\u001b[0m positional argument but \u001b[1;36m2\u001b[0m were given                       \u001b[2m                         \u001b[0m\n"
      ]
     },
     "metadata": {},
     "output_type": "display_data"
    },
    {
     "name": "stdout",
     "output_type": "stream",
     "text": [
      "0: 640x640 1 Rock, 153.3ms\n",
      "Speed: 2.3ms preprocess, 153.3ms inference, 0.4ms postprocess per image at shape (1, 3, 640, 640)\n",
      "Video frames: 1\n",
      "\n"
     ]
    },
    {
     "data": {
      "text/html": [
       "<pre style=\"white-space:pre;overflow-x:auto;line-height:normal;font-family:Menlo,'DejaVu Sans Mono',consolas,'Courier New',monospace\"><span style=\"color: #7fbfbf; text-decoration-color: #7fbfbf\">[07/01/24 11:51:44] </span><span style=\"color: #800000; text-decoration-color: #800000\">WARNING </span> Error in results dispatching - <span style=\"color: #800080; text-decoration-color: #800080; font-weight: bold\">render_boxes_on_frame</span><span style=\"font-weight: bold\">()</span> takes <a href=\"file:///Users/saadia/Documents/DevIA_2024/ShiFuMi_computerVision/venv/lib/python3.9/site-packages/inference/core/interfaces/stream/inference_pipeline.py\" target=\"_blank\"><span style=\"color: #7f7f7f; text-decoration-color: #7f7f7f\">inference_pipeline.py</span></a><span style=\"color: #7f7f7f; text-decoration-color: #7f7f7f\">:</span><a href=\"file:///Users/saadia/Documents/DevIA_2024/ShiFuMi_computerVision/venv/lib/python3.9/site-packages/inference/core/interfaces/stream/inference_pipeline.py#907\" target=\"_blank\"><span style=\"color: #7f7f7f; text-decoration-color: #7f7f7f\">907</span></a>\n",
       "<span style=\"color: #7fbfbf; text-decoration-color: #7fbfbf\">                    </span>         <span style=\"color: #008080; text-decoration-color: #008080; font-weight: bold\">1</span> positional argument but <span style=\"color: #008080; text-decoration-color: #008080; font-weight: bold\">2</span> were given                       <span style=\"color: #7f7f7f; text-decoration-color: #7f7f7f\">                         </span>\n",
       "</pre>\n"
      ],
      "text/plain": [
       "\u001b[2;36m[07/01/24 11:51:44]\u001b[0m\u001b[2;36m \u001b[0m\u001b[31mWARNING \u001b[0m Error in results dispatching - \u001b[1;35mrender_boxes_on_frame\u001b[0m\u001b[1m(\u001b[0m\u001b[1m)\u001b[0m takes \u001b]8;id=336702;file:///Users/saadia/Documents/DevIA_2024/ShiFuMi_computerVision/venv/lib/python3.9/site-packages/inference/core/interfaces/stream/inference_pipeline.py\u001b\\\u001b[2minference_pipeline.py\u001b[0m\u001b]8;;\u001b\\\u001b[2m:\u001b[0m\u001b]8;id=953041;file:///Users/saadia/Documents/DevIA_2024/ShiFuMi_computerVision/venv/lib/python3.9/site-packages/inference/core/interfaces/stream/inference_pipeline.py#907\u001b\\\u001b[2m907\u001b[0m\u001b]8;;\u001b\\\n",
       "\u001b[2;36m                    \u001b[0m         \u001b[1;36m1\u001b[0m positional argument but \u001b[1;36m2\u001b[0m were given                       \u001b[2m                         \u001b[0m\n"
      ]
     },
     "metadata": {},
     "output_type": "display_data"
    },
    {
     "name": "stdout",
     "output_type": "stream",
     "text": [
      "0: 640x640 1 Rock, 154.6ms\n",
      "Speed: 2.2ms preprocess, 154.6ms inference, 0.4ms postprocess per image at shape (1, 3, 640, 640)\n",
      "Video frames: 1\n",
      "\n"
     ]
    },
    {
     "data": {
      "text/html": [
       "<pre style=\"white-space:pre;overflow-x:auto;line-height:normal;font-family:Menlo,'DejaVu Sans Mono',consolas,'Courier New',monospace\"><span style=\"color: #7fbfbf; text-decoration-color: #7fbfbf\">                    </span><span style=\"color: #800000; text-decoration-color: #800000\">WARNING </span> Error in results dispatching - <span style=\"color: #800080; text-decoration-color: #800080; font-weight: bold\">render_boxes_on_frame</span><span style=\"font-weight: bold\">()</span> takes <a href=\"file:///Users/saadia/Documents/DevIA_2024/ShiFuMi_computerVision/venv/lib/python3.9/site-packages/inference/core/interfaces/stream/inference_pipeline.py\" target=\"_blank\"><span style=\"color: #7f7f7f; text-decoration-color: #7f7f7f\">inference_pipeline.py</span></a><span style=\"color: #7f7f7f; text-decoration-color: #7f7f7f\">:</span><a href=\"file:///Users/saadia/Documents/DevIA_2024/ShiFuMi_computerVision/venv/lib/python3.9/site-packages/inference/core/interfaces/stream/inference_pipeline.py#907\" target=\"_blank\"><span style=\"color: #7f7f7f; text-decoration-color: #7f7f7f\">907</span></a>\n",
       "<span style=\"color: #7fbfbf; text-decoration-color: #7fbfbf\">                    </span>         <span style=\"color: #008080; text-decoration-color: #008080; font-weight: bold\">1</span> positional argument but <span style=\"color: #008080; text-decoration-color: #008080; font-weight: bold\">2</span> were given                       <span style=\"color: #7f7f7f; text-decoration-color: #7f7f7f\">                         </span>\n",
       "</pre>\n"
      ],
      "text/plain": [
       "\u001b[2;36m                   \u001b[0m\u001b[2;36m \u001b[0m\u001b[31mWARNING \u001b[0m Error in results dispatching - \u001b[1;35mrender_boxes_on_frame\u001b[0m\u001b[1m(\u001b[0m\u001b[1m)\u001b[0m takes \u001b]8;id=392337;file:///Users/saadia/Documents/DevIA_2024/ShiFuMi_computerVision/venv/lib/python3.9/site-packages/inference/core/interfaces/stream/inference_pipeline.py\u001b\\\u001b[2minference_pipeline.py\u001b[0m\u001b]8;;\u001b\\\u001b[2m:\u001b[0m\u001b]8;id=227388;file:///Users/saadia/Documents/DevIA_2024/ShiFuMi_computerVision/venv/lib/python3.9/site-packages/inference/core/interfaces/stream/inference_pipeline.py#907\u001b\\\u001b[2m907\u001b[0m\u001b]8;;\u001b\\\n",
       "\u001b[2;36m                    \u001b[0m         \u001b[1;36m1\u001b[0m positional argument but \u001b[1;36m2\u001b[0m were given                       \u001b[2m                         \u001b[0m\n"
      ]
     },
     "metadata": {},
     "output_type": "display_data"
    },
    {
     "ename": "KeyboardInterrupt",
     "evalue": "",
     "output_type": "error",
     "traceback": [
      "\u001b[0;31m---------------------------------------------------------------------------\u001b[0m",
      "\u001b[0;31mKeyboardInterrupt\u001b[0m                         Traceback (most recent call last)",
      "Cell \u001b[0;32mIn[4], line 92\u001b[0m\n\u001b[1;32m     85\u001b[0m my_model \u001b[38;5;241m=\u001b[39m MyModel(\u001b[38;5;124m\"\u001b[39m\u001b[38;5;124m../models/shifumi_trained_yolo9t.torchscript\u001b[39m\u001b[38;5;124m\"\u001b[39m)\n\u001b[1;32m     86\u001b[0m pipeline \u001b[38;5;241m=\u001b[39m InferencePipeline\u001b[38;5;241m.\u001b[39minit_with_custom_logic(\n\u001b[1;32m     87\u001b[0m     on_video_frame\u001b[38;5;241m=\u001b[39mmy_model\u001b[38;5;241m.\u001b[39minfer,\n\u001b[1;32m     88\u001b[0m     video_reference\u001b[38;5;241m=\u001b[39m\u001b[38;5;241m0\u001b[39m,  \u001b[38;5;66;03m# Assurez-vous que c'est le bon ID de périphérique pour votre webcam\u001b[39;00m\n\u001b[1;32m     89\u001b[0m     on_prediction\u001b[38;5;241m=\u001b[39mrender_boxes_on_frame,  \u001b[38;5;66;03m# Fonction à exécuter après chaque prédiction\u001b[39;00m\n\u001b[1;32m     90\u001b[0m )\n\u001b[0;32m---> 92\u001b[0m \u001b[43mpipeline\u001b[49m\u001b[38;5;241;43m.\u001b[39;49m\u001b[43mstart\u001b[49m\u001b[43m(\u001b[49m\u001b[43m)\u001b[49m\n\u001b[1;32m     93\u001b[0m pipeline\u001b[38;5;241m.\u001b[39mjoin()\n",
      "File \u001b[0;32m~/Documents/DevIA_2024/ShiFuMi_computerVision/venv/lib/python3.9/site-packages/inference/core/interfaces/stream/inference_pipeline.py:747\u001b[0m, in \u001b[0;36mInferencePipeline.start\u001b[0;34m(self, use_main_thread)\u001b[0m\n\u001b[1;32m    745\u001b[0m     \u001b[38;5;28mself\u001b[39m\u001b[38;5;241m.\u001b[39m_on_pipeline_start()\n\u001b[1;32m    746\u001b[0m \u001b[38;5;28;01mif\u001b[39;00m use_main_thread:\n\u001b[0;32m--> 747\u001b[0m     \u001b[38;5;28;43mself\u001b[39;49m\u001b[38;5;241;43m.\u001b[39;49m\u001b[43m_dispatch_inference_results\u001b[49m\u001b[43m(\u001b[49m\u001b[43m)\u001b[49m\n\u001b[1;32m    748\u001b[0m \u001b[38;5;28;01melse\u001b[39;00m:\n\u001b[1;32m    749\u001b[0m     \u001b[38;5;28mself\u001b[39m\u001b[38;5;241m.\u001b[39m_dispatching_thread \u001b[38;5;241m=\u001b[39m Thread(target\u001b[38;5;241m=\u001b[39m\u001b[38;5;28mself\u001b[39m\u001b[38;5;241m.\u001b[39m_dispatch_inference_results)\n",
      "File \u001b[0;32m~/Documents/DevIA_2024/ShiFuMi_computerVision/venv/lib/python3.9/site-packages/inference/core/interfaces/stream/inference_pipeline.py:838\u001b[0m, in \u001b[0;36mInferencePipeline._dispatch_inference_results\u001b[0;34m(self)\u001b[0m\n\u001b[1;32m    834\u001b[0m \u001b[38;5;28;01mdef\u001b[39;00m \u001b[38;5;21m_dispatch_inference_results\u001b[39m(\u001b[38;5;28mself\u001b[39m) \u001b[38;5;241m-\u001b[39m\u001b[38;5;241m>\u001b[39m \u001b[38;5;28;01mNone\u001b[39;00m:\n\u001b[1;32m    835\u001b[0m     \u001b[38;5;28;01mwhile\u001b[39;00m \u001b[38;5;28;01mTrue\u001b[39;00m:\n\u001b[1;32m    836\u001b[0m         inference_results: Optional[\n\u001b[1;32m    837\u001b[0m             Tuple[List[AnyPrediction], List[VideoFrame]]\n\u001b[0;32m--> 838\u001b[0m         ] \u001b[38;5;241m=\u001b[39m \u001b[38;5;28;43mself\u001b[39;49m\u001b[38;5;241;43m.\u001b[39;49m\u001b[43m_predictions_queue\u001b[49m\u001b[38;5;241;43m.\u001b[39;49m\u001b[43mget\u001b[49m\u001b[43m(\u001b[49m\u001b[43m)\u001b[49m\n\u001b[1;32m    839\u001b[0m         \u001b[38;5;28;01mif\u001b[39;00m inference_results \u001b[38;5;129;01mis\u001b[39;00m \u001b[38;5;28;01mNone\u001b[39;00m:\n\u001b[1;32m    840\u001b[0m             \u001b[38;5;28mself\u001b[39m\u001b[38;5;241m.\u001b[39m_predictions_queue\u001b[38;5;241m.\u001b[39mtask_done()\n",
      "File \u001b[0;32m/Library/Developer/CommandLineTools/Library/Frameworks/Python3.framework/Versions/3.9/lib/python3.9/queue.py:171\u001b[0m, in \u001b[0;36mQueue.get\u001b[0;34m(self, block, timeout)\u001b[0m\n\u001b[1;32m    169\u001b[0m \u001b[38;5;28;01melif\u001b[39;00m timeout \u001b[38;5;129;01mis\u001b[39;00m \u001b[38;5;28;01mNone\u001b[39;00m:\n\u001b[1;32m    170\u001b[0m     \u001b[38;5;28;01mwhile\u001b[39;00m \u001b[38;5;129;01mnot\u001b[39;00m \u001b[38;5;28mself\u001b[39m\u001b[38;5;241m.\u001b[39m_qsize():\n\u001b[0;32m--> 171\u001b[0m         \u001b[38;5;28;43mself\u001b[39;49m\u001b[38;5;241;43m.\u001b[39;49m\u001b[43mnot_empty\u001b[49m\u001b[38;5;241;43m.\u001b[39;49m\u001b[43mwait\u001b[49m\u001b[43m(\u001b[49m\u001b[43m)\u001b[49m\n\u001b[1;32m    172\u001b[0m \u001b[38;5;28;01melif\u001b[39;00m timeout \u001b[38;5;241m<\u001b[39m \u001b[38;5;241m0\u001b[39m:\n\u001b[1;32m    173\u001b[0m     \u001b[38;5;28;01mraise\u001b[39;00m \u001b[38;5;167;01mValueError\u001b[39;00m(\u001b[38;5;124m\"\u001b[39m\u001b[38;5;124m'\u001b[39m\u001b[38;5;124mtimeout\u001b[39m\u001b[38;5;124m'\u001b[39m\u001b[38;5;124m must be a non-negative number\u001b[39m\u001b[38;5;124m\"\u001b[39m)\n",
      "File \u001b[0;32m/Library/Developer/CommandLineTools/Library/Frameworks/Python3.framework/Versions/3.9/lib/python3.9/threading.py:312\u001b[0m, in \u001b[0;36mCondition.wait\u001b[0;34m(self, timeout)\u001b[0m\n\u001b[1;32m    310\u001b[0m \u001b[38;5;28;01mtry\u001b[39;00m:    \u001b[38;5;66;03m# restore state no matter what (e.g., KeyboardInterrupt)\u001b[39;00m\n\u001b[1;32m    311\u001b[0m     \u001b[38;5;28;01mif\u001b[39;00m timeout \u001b[38;5;129;01mis\u001b[39;00m \u001b[38;5;28;01mNone\u001b[39;00m:\n\u001b[0;32m--> 312\u001b[0m         \u001b[43mwaiter\u001b[49m\u001b[38;5;241;43m.\u001b[39;49m\u001b[43macquire\u001b[49m\u001b[43m(\u001b[49m\u001b[43m)\u001b[49m\n\u001b[1;32m    313\u001b[0m         gotit \u001b[38;5;241m=\u001b[39m \u001b[38;5;28;01mTrue\u001b[39;00m\n\u001b[1;32m    314\u001b[0m     \u001b[38;5;28;01melse\u001b[39;00m:\n",
      "\u001b[0;31mKeyboardInterrupt\u001b[0m: "
     ]
    },
    {
     "name": "stdout",
     "output_type": "stream",
     "text": [
      "0: 640x640 1 Rock, 176.2ms\n"
     ]
    },
    {
     "name": "stdout",
     "output_type": "stream",
     "text": [
      "Speed: 2.7ms preprocess, 176.2ms inference, 13.0ms postprocess per image at shape (1, 3, 640, 640)\n",
      "Video frames: 1\n",
      "\n",
      "0: 640x640 1 Rock, 170.5ms\n",
      "Speed: 2.3ms preprocess, 170.5ms inference, 0.4ms postprocess per image at shape (1, 3, 640, 640)\n",
      "Video frames: 1\n",
      "\n",
      "0: 640x640 1 Rock, 151.7ms\n",
      "Speed: 1.9ms preprocess, 151.7ms inference, 0.4ms postprocess per image at shape (1, 3, 640, 640)\n",
      "Video frames: 1\n",
      "\n",
      "0: 640x640 1 Rock, 151.9ms\n",
      "Speed: 2.1ms preprocess, 151.9ms inference, 0.6ms postprocess per image at shape (1, 3, 640, 640)\n",
      "Video frames: 1\n",
      "\n",
      "0: 640x640 1 Rock, 153.9ms\n",
      "Speed: 2.1ms preprocess, 153.9ms inference, 0.5ms postprocess per image at shape (1, 3, 640, 640)\n",
      "Video frames: 1\n",
      "\n",
      "0: 640x640 1 Rock, 161.2ms\n",
      "Speed: 2.3ms preprocess, 161.2ms inference, 0.4ms postprocess per image at shape (1, 3, 640, 640)\n",
      "Video frames: 1\n",
      "\n",
      "0: 640x640 1 Rock, 156.4ms\n",
      "Speed: 2.2ms preprocess, 156.4ms inference, 0.4ms postprocess per image at shape (1, 3, 640, 640)\n",
      "Video frames: 1\n",
      "\n",
      "0: 640x640 1 Rock, 165.3ms\n",
      "Speed: 2.4ms preprocess, 165.3ms inference, 0.4ms postprocess per image at shape (1, 3, 640, 640)\n",
      "Video frames: 1\n",
      "\n",
      "0: 640x640 1 Rock, 175.2ms\n",
      "Speed: 2.7ms preprocess, 175.2ms inference, 0.4ms postprocess per image at shape (1, 3, 640, 640)\n",
      "Video frames: 1\n",
      "\n"
     ]
    }
   ],
   "source": [
    "\n",
    "\n",
    "class VideoFrameWithPredictions:\n",
    "    def __init__(self, video_frame: VideoFrame, predictions: dict = None):\n",
    "        self.video_frame = video_frame\n",
    "        self.predictions = predictions or {}\n",
    "\n",
    "    @property\n",
    "    def image(self):\n",
    "        return self.video_frame.image\n",
    "\n",
    "    @property\n",
    "    def frame_id(self):\n",
    "        return self.video_frame.frame_id\n",
    "\n",
    "    @property\n",
    "    def frame_timestamp(self):\n",
    "        return self.video_frame.frame_timestamp\n",
    "\n",
    "class MyModel:\n",
    "\n",
    "    def __init__(self, weights_path: str):\n",
    "        # Load the YOLO model\n",
    "        self._model = YOLO(weights_path)\n",
    "        print(\"Modèle chargé avec succès\")\n",
    "\n",
    "    def infer(self, video_frames: List[VideoFrame]) -> List[VideoFrameWithPredictions]:\n",
    "        print('Video frames:', len(video_frames))\n",
    "        \n",
    "        # Convert the list of images to the format expected by YOLO\n",
    "        images = [v.image for v in video_frames]\n",
    "\n",
    "        # Convert images to numpy arrays\n",
    "        images_np = [np.array(img) for img in images]\n",
    "\n",
    "        # Make predictions\n",
    "        results = self._model(images_np)\n",
    "\n",
    "        # Create a list to store enriched VideoFrames\n",
    "        enriched_video_frames = []\n",
    "\n",
    "        # Update video frames with predictions\n",
    "        for i, result in enumerate(results):\n",
    "            boxes = result.boxes.xyxy.tolist() if result.boxes else []\n",
    "            scores = result.boxes.conf.tolist() if result.boxes else []\n",
    "            class_indices = result.boxes.cls.tolist() if result.boxes else []\n",
    "\n",
    "            # Create a new VideoFrameWithPredictions\n",
    "            enriched_frame = VideoFrameWithPredictions(\n",
    "                video_frame=video_frames[i],\n",
    "                predictions={\n",
    "                    'boxes': boxes,\n",
    "                    'scores': scores,\n",
    "                    'class_indices': class_indices\n",
    "                }\n",
    "            )\n",
    "\n",
    "            enriched_video_frames.append(enriched_frame)\n",
    "\n",
    "        return enriched_video_frames\n",
    "\n",
    "def render_boxes_on_frame(video_frame_with_predictions: VideoFrameWithPredictions) -> None:\n",
    "    # Convertir l'image en numpy array\n",
    "    image = np.array(video_frame_with_predictions.image.copy())  # Faire une copie pour ne pas altérer l'original\n",
    "    predictions = video_frame_with_predictions.predictions\n",
    "\n",
    "    if predictions:\n",
    "        boxes = predictions['boxes']\n",
    "        scores = predictions['scores']\n",
    "        class_indices = predictions['class_indices']\n",
    "\n",
    "        for box, score, class_idx in zip(boxes, scores, class_indices):\n",
    "            x1, y1, x2, y2 = map(int, box)\n",
    "            label = f'Classe: {class_idx}, Probabilité: {score:.2f}'\n",
    "        \n",
    "            # Dessiner le rectangle autour de l'objet détecté\n",
    "            cv2.rectangle(image, (x1, y1), (x2, y2), (255, 0, 0), 2)\n",
    "        \n",
    "            # Mettre le label \n",
    "            cv2.putText(image, label, (x1, y1 - 10), cv2.FONT_HERSHEY_SIMPLEX, 0.9, (255, 0, 0), 2)\n",
    "\n",
    "    # Afficher l'image avec les prédictions dans une fenêtre\n",
    "    cv2.imshow('Object Detection', image)\n",
    "    cv2.waitKey(1)  # Attendre 1 milliseconde pour permettre à OpenCV de traiter l'affichage\n",
    "\n",
    "if __name__ == \"__main__\":\n",
    "    my_model = MyModel(\"../models/shifumi_trained_yolo9t.torchscript\")\n",
    "    pipeline = InferencePipeline.init_with_custom_logic(\n",
    "        on_video_frame=my_model.infer,\n",
    "        video_reference=0,  # Assurez-vous que c'est le bon ID de périphérique pour votre webcam\n",
    "        on_prediction=render_boxes_on_frame,  # Fonction à exécuter après chaque prédiction\n",
    "    )\n",
    "\n",
    "    pipeline.start()\n",
    "    pipeline.join()\n"
   ]
  }
 ],
 "metadata": {
  "kernelspec": {
   "display_name": "Python 3",
   "language": "python",
   "name": "python3"
  },
  "language_info": {
   "codemirror_mode": {
    "name": "ipython",
    "version": 3
   },
   "file_extension": ".py",
   "mimetype": "text/x-python",
   "name": "python",
   "nbconvert_exporter": "python",
   "pygments_lexer": "ipython3",
   "version": "3.9.6"
  }
 },
 "nbformat": 4,
 "nbformat_minor": 2
}
